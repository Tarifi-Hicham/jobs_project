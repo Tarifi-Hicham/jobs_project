{
 "cells": [
  {
   "cell_type": "code",
   "execution_count": 229,
   "metadata": {},
   "outputs": [],
   "source": [
    "import pandas as pd\n",
    "import os"
   ]
  },
  {
   "cell_type": "code",
   "execution_count": 230,
   "metadata": {},
   "outputs": [],
   "source": [
    "file_path = 'Data/jobs-info.csv'\n",
    "if os.path.isfile(file_path):\n",
    "    with open(file_path, 'r') as f:\n",
    "        df = pd.read_csv(file_path,index_col=False,encoding='latin-1')\n",
    "else:\n",
    "    print(f\"The file '{file_path}' does not exist.\")"
   ]
  },
  {
   "cell_type": "code",
   "execution_count": 231,
   "metadata": {},
   "outputs": [
    {
     "data": {
      "text/html": [
       "<div>\n",
       "<style scoped>\n",
       "    .dataframe tbody tr th:only-of-type {\n",
       "        vertical-align: middle;\n",
       "    }\n",
       "\n",
       "    .dataframe tbody tr th {\n",
       "        vertical-align: top;\n",
       "    }\n",
       "\n",
       "    .dataframe thead th {\n",
       "        text-align: right;\n",
       "    }\n",
       "</style>\n",
       "<table border=\"1\" class=\"dataframe\">\n",
       "  <thead>\n",
       "    <tr style=\"text-align: right;\">\n",
       "      <th></th>\n",
       "      <th>Company</th>\n",
       "      <th>Job Title</th>\n",
       "      <th>Location</th>\n",
       "      <th>Job Type</th>\n",
       "      <th>Experience level</th>\n",
       "      <th>Salary</th>\n",
       "      <th>Requirment of the company</th>\n",
       "      <th>Facilities</th>\n",
       "    </tr>\n",
       "  </thead>\n",
       "  <tbody>\n",
       "    <tr>\n",
       "      <th>0</th>\n",
       "      <td>SGS</td>\n",
       "      <td>Clinical Data Analyst</td>\n",
       "      <td>Richardson, TX, United States</td>\n",
       "      <td>Full Time</td>\n",
       "      <td>Entry-level</td>\n",
       "      <td>48K+ *</td>\n",
       "      <td>Computer Science,Data quality,Genetics,Mathema...</td>\n",
       "      <td>,,,,</td>\n",
       "    </tr>\n",
       "    <tr>\n",
       "      <th>1</th>\n",
       "      <td>Ocorian</td>\n",
       "      <td>AML/CFT &amp; Data Analyst</td>\n",
       "      <td>Ebène, Mauritius</td>\n",
       "      <td>Full Time</td>\n",
       "      <td>Entry-level</td>\n",
       "      <td>48K+ *</td>\n",
       "      <td>Agile,Data management,Finance,Security,,</td>\n",
       "      <td>,,,,</td>\n",
       "    </tr>\n",
       "    <tr>\n",
       "      <th>2</th>\n",
       "      <td>Cricut</td>\n",
       "      <td>Machine Learning Engineer</td>\n",
       "      <td>South Jordan, UT, United States</td>\n",
       "      <td>Full Time</td>\n",
       "      <td>NaN</td>\n",
       "      <td>90K+ *</td>\n",
       "      <td>Agile,Architecture,AWS,Computer Science,Comput...</td>\n",
       "      <td>Career development,,,,</td>\n",
       "    </tr>\n",
       "    <tr>\n",
       "      <th>3</th>\n",
       "      <td>Bosch Group</td>\n",
       "      <td>Application Developer &amp; Data Analyst</td>\n",
       "      <td>Nonantola, Italy</td>\n",
       "      <td>Full Time</td>\n",
       "      <td>Entry-level</td>\n",
       "      <td>48K+ *</td>\n",
       "      <td>Engineering,Industrial,Oracle,Power BI,R,R&amp;D</td>\n",
       "      <td>,,,,</td>\n",
       "    </tr>\n",
       "    <tr>\n",
       "      <th>4</th>\n",
       "      <td>Publicis Groupe</td>\n",
       "      <td>Data Engineer Full time (Public Sector) USA</td>\n",
       "      <td>Arlington, VA, United States</td>\n",
       "      <td>Full Time</td>\n",
       "      <td>Mid-level</td>\n",
       "      <td>108K+</td>\n",
       "      <td>AWS,Azure,Computer Science,Consulting,Dataflow...</td>\n",
       "      <td>Flex hours,Flex vacation,Parental leave,Unlimi...</td>\n",
       "    </tr>\n",
       "    <tr>\n",
       "      <th>...</th>\n",
       "      <td>...</td>\n",
       "      <td>...</td>\n",
       "      <td>...</td>\n",
       "      <td>...</td>\n",
       "      <td>...</td>\n",
       "      <td>...</td>\n",
       "      <td>...</td>\n",
       "      <td>...</td>\n",
       "    </tr>\n",
       "    <tr>\n",
       "      <th>3193</th>\n",
       "      <td>Western Digital</td>\n",
       "      <td>Data Scientist - New College Graduate</td>\n",
       "      <td>Biñan, Philippines</td>\n",
       "      <td>Full Time</td>\n",
       "      <td>Entry-level</td>\n",
       "      <td>39K+ *</td>\n",
       "      <td>APIs,Clustering,Computer Science,Data visualiz...</td>\n",
       "      <td>Career development,,,,</td>\n",
       "    </tr>\n",
       "    <tr>\n",
       "      <th>3194</th>\n",
       "      <td>Experian</td>\n",
       "      <td>Cloud Data Analyst</td>\n",
       "      <td>Heredia, Costa Rica</td>\n",
       "      <td>Full Time</td>\n",
       "      <td>Senior-level</td>\n",
       "      <td>92K+ *</td>\n",
       "      <td>AWS,Big Data,Computer Science,GCP,Snowflake,SQL</td>\n",
       "      <td>Equity,Medical leave,Salary bonus,,</td>\n",
       "    </tr>\n",
       "    <tr>\n",
       "      <th>3195</th>\n",
       "      <td>Locus Robotics</td>\n",
       "      <td>Robotics Engineer, Sensors</td>\n",
       "      <td>Wilmington, MA, United States</td>\n",
       "      <td>Full Time</td>\n",
       "      <td>Senior-level</td>\n",
       "      <td>62K+ *</td>\n",
       "      <td>E-commerce,Engineering,Linux,Python,Robotics,S...</td>\n",
       "      <td>,,,,</td>\n",
       "    </tr>\n",
       "    <tr>\n",
       "      <th>3196</th>\n",
       "      <td>ATB Financial</td>\n",
       "      <td>Data Scientist</td>\n",
       "      <td>Edmonton, Alberta, Canada</td>\n",
       "      <td>Full Time</td>\n",
       "      <td>Entry-level</td>\n",
       "      <td>39K+ *</td>\n",
       "      <td>Computer Science,Data Analytics,Data Mining,Ec...</td>\n",
       "      <td>Career development,Startup environment,,,</td>\n",
       "    </tr>\n",
       "    <tr>\n",
       "      <th>3197</th>\n",
       "      <td>Shippeo</td>\n",
       "      <td>Senior Data Engineer</td>\n",
       "      <td>Paris, France</td>\n",
       "      <td>Full Time</td>\n",
       "      <td>Senior-level</td>\n",
       "      <td>115K+ *</td>\n",
       "      <td>Airflow,Architecture,BigQuery,CI/CD,Computer S...</td>\n",
       "      <td>,,,,</td>\n",
       "    </tr>\n",
       "  </tbody>\n",
       "</table>\n",
       "<p>3198 rows × 8 columns</p>\n",
       "</div>"
      ],
      "text/plain": [
       "              Company                                    Job Title   \n",
       "0                 SGS                        Clinical Data Analyst  \\\n",
       "1             Ocorian                       AML/CFT & Data Analyst   \n",
       "2              Cricut                    Machine Learning Engineer   \n",
       "3         Bosch Group         Application Developer & Data Analyst   \n",
       "4     Publicis Groupe  Data Engineer Full time (Public Sector) USA   \n",
       "...               ...                                          ...   \n",
       "3193  Western Digital        Data Scientist - New College Graduate   \n",
       "3194         Experian                           Cloud Data Analyst   \n",
       "3195   Locus Robotics                   Robotics Engineer, Sensors   \n",
       "3196    ATB Financial                               Data Scientist   \n",
       "3197          Shippeo                         Senior Data Engineer   \n",
       "\n",
       "                             Location   Job Type Experience level    Salary   \n",
       "0       Richardson, TX, United States  Full Time      Entry-level    48K+ *  \\\n",
       "1                    Ebène, Mauritius  Full Time      Entry-level    48K+ *   \n",
       "2     South Jordan, UT, United States  Full Time              NaN    90K+ *   \n",
       "3                    Nonantola, Italy  Full Time      Entry-level    48K+ *   \n",
       "4        Arlington, VA, United States  Full Time        Mid-level     108K+   \n",
       "...                               ...        ...              ...       ...   \n",
       "3193               Biñan, Philippines  Full Time      Entry-level    39K+ *   \n",
       "3194              Heredia, Costa Rica  Full Time     Senior-level    92K+ *   \n",
       "3195    Wilmington, MA, United States  Full Time     Senior-level    62K+ *   \n",
       "3196        Edmonton, Alberta, Canada  Full Time      Entry-level    39K+ *   \n",
       "3197                    Paris, France  Full Time     Senior-level   115K+ *   \n",
       "\n",
       "                             Requirment of the company    \n",
       "0     Computer Science,Data quality,Genetics,Mathema...  \\\n",
       "1              Agile,Data management,Finance,Security,,   \n",
       "2     Agile,Architecture,AWS,Computer Science,Comput...   \n",
       "3          Engineering,Industrial,Oracle,Power BI,R,R&D   \n",
       "4     AWS,Azure,Computer Science,Consulting,Dataflow...   \n",
       "...                                                 ...   \n",
       "3193  APIs,Clustering,Computer Science,Data visualiz...   \n",
       "3194    AWS,Big Data,Computer Science,GCP,Snowflake,SQL   \n",
       "3195  E-commerce,Engineering,Linux,Python,Robotics,S...   \n",
       "3196  Computer Science,Data Analytics,Data Mining,Ec...   \n",
       "3197  Airflow,Architecture,BigQuery,CI/CD,Computer S...   \n",
       "\n",
       "                                             Facilities  \n",
       "0                                                  ,,,,  \n",
       "1                                                  ,,,,  \n",
       "2                                Career development,,,,  \n",
       "3                                                  ,,,,  \n",
       "4     Flex hours,Flex vacation,Parental leave,Unlimi...  \n",
       "...                                                 ...  \n",
       "3193                             Career development,,,,  \n",
       "3194                Equity,Medical leave,Salary bonus,,  \n",
       "3195                                               ,,,,  \n",
       "3196          Career development,Startup environment,,,  \n",
       "3197                                               ,,,,  \n",
       "\n",
       "[3198 rows x 8 columns]"
      ]
     },
     "execution_count": 231,
     "metadata": {},
     "output_type": "execute_result"
    }
   ],
   "source": [
    "df"
   ]
  },
  {
   "cell_type": "markdown",
   "metadata": {},
   "source": [
    "# Exploration et Nettoyage de donnnees"
   ]
  },
  {
   "cell_type": "code",
   "execution_count": 232,
   "metadata": {},
   "outputs": [
    {
     "name": "stdout",
     "output_type": "stream",
     "text": [
      "<class 'pandas.core.frame.DataFrame'>\n",
      "RangeIndex: 3198 entries, 0 to 3197\n",
      "Data columns (total 8 columns):\n",
      " #   Column                      Non-Null Count  Dtype \n",
      "---  ------                      --------------  ----- \n",
      " 0   Company                     3197 non-null   object\n",
      " 1   Job Title                   3197 non-null   object\n",
      " 2   Location                    3197 non-null   object\n",
      " 3   Job Type                    3197 non-null   object\n",
      " 4   Experience level            2962 non-null   object\n",
      " 5   Salary                      3009 non-null   object\n",
      " 6   Requirment of the company   3198 non-null   object\n",
      " 7   Facilities                  3198 non-null   object\n",
      "dtypes: object(8)\n",
      "memory usage: 200.0+ KB\n"
     ]
    }
   ],
   "source": [
    "df.info()"
   ]
  },
  {
   "cell_type": "code",
   "execution_count": 233,
   "metadata": {},
   "outputs": [],
   "source": [
    "df_clean = df.copy()"
   ]
  },
  {
   "cell_type": "markdown",
   "metadata": {},
   "source": [
    "<h3>Check for duplicate values and missings values</h3>"
   ]
  },
  {
   "cell_type": "code",
   "execution_count": 234,
   "metadata": {},
   "outputs": [
    {
     "data": {
      "text/plain": [
       "(202, 8)"
      ]
     },
     "execution_count": 234,
     "metadata": {},
     "output_type": "execute_result"
    }
   ],
   "source": [
    "df_clean[df_clean.duplicated()].shape"
   ]
  },
  {
   "cell_type": "code",
   "execution_count": 235,
   "metadata": {},
   "outputs": [
    {
     "data": {
      "text/plain": [
       "(2996, 8)"
      ]
     },
     "execution_count": 235,
     "metadata": {},
     "output_type": "execute_result"
    }
   ],
   "source": [
    "df_clean = df_clean.drop_duplicates()\n",
    "df_clean.shape"
   ]
  },
  {
   "cell_type": "markdown",
   "metadata": {},
   "source": [
    "<h3>Looking for missing values</h3>"
   ]
  },
  {
   "cell_type": "code",
   "execution_count": 236,
   "metadata": {},
   "outputs": [
    {
     "data": {
      "text/plain": [
       "(172, 8)"
      ]
     },
     "execution_count": 236,
     "metadata": {},
     "output_type": "execute_result"
    }
   ],
   "source": [
    "df_clean[(df_clean['Salary'].isna())].shape"
   ]
  },
  {
   "cell_type": "code",
   "execution_count": 237,
   "metadata": {},
   "outputs": [
    {
     "name": "stdout",
     "output_type": "stream",
     "text": [
      "le nombre des offres internship : 72, le nombre des offres internship sans salaire : 72\n"
     ]
    }
   ],
   "source": [
    "intern_len = len(df_clean[df_clean['Job Type'] == 'Internship'])\n",
    "intern_na_len = len(df_clean[(df_clean['Salary'].isna()) & (df_clean['Job Type'] == 'Internship')])\n",
    "print(f'le nombre des offres internship : {intern_len}, le nombre des offres internship sans salaire : {intern_na_len}')"
   ]
  },
  {
   "cell_type": "code",
   "execution_count": 238,
   "metadata": {},
   "outputs": [
    {
     "data": {
      "text/html": [
       "<div>\n",
       "<style scoped>\n",
       "    .dataframe tbody tr th:only-of-type {\n",
       "        vertical-align: middle;\n",
       "    }\n",
       "\n",
       "    .dataframe tbody tr th {\n",
       "        vertical-align: top;\n",
       "    }\n",
       "\n",
       "    .dataframe thead th {\n",
       "        text-align: right;\n",
       "    }\n",
       "</style>\n",
       "<table border=\"1\" class=\"dataframe\">\n",
       "  <thead>\n",
       "    <tr style=\"text-align: right;\">\n",
       "      <th></th>\n",
       "      <th>Company</th>\n",
       "      <th>Job Title</th>\n",
       "      <th>Location</th>\n",
       "      <th>Job Type</th>\n",
       "      <th>Experience level</th>\n",
       "      <th>Salary</th>\n",
       "      <th>Requirment of the company</th>\n",
       "      <th>Facilities</th>\n",
       "    </tr>\n",
       "  </thead>\n",
       "  <tbody>\n",
       "    <tr>\n",
       "      <th>7</th>\n",
       "      <td>NielsenIQ</td>\n",
       "      <td>Intern (Business Intelligence Service Support)</td>\n",
       "      <td>Bangkok, Thailand</td>\n",
       "      <td>Internship</td>\n",
       "      <td>Entry-level</td>\n",
       "      <td>0</td>\n",
       "      <td>Business Intelligence,Excel,Genetics,,,</td>\n",
       "      <td>,,,,</td>\n",
       "    </tr>\n",
       "    <tr>\n",
       "      <th>8</th>\n",
       "      <td>Western Digital</td>\n",
       "      <td>Summer 2023 Data Engineering Intern</td>\n",
       "      <td>San Jose, CA, United States</td>\n",
       "      <td>Internship</td>\n",
       "      <td>Entry-level</td>\n",
       "      <td>0</td>\n",
       "      <td>Big Data,Computer Science,Engineering,Machine ...</td>\n",
       "      <td>Career development,Competitive pay,Equity,Flex...</td>\n",
       "    </tr>\n",
       "    <tr>\n",
       "      <th>170</th>\n",
       "      <td>Wallbox</td>\n",
       "      <td>Analytics Engineer Intern</td>\n",
       "      <td>Barcelona, Catalonia, Spain</td>\n",
       "      <td>Internship</td>\n",
       "      <td>Entry-level</td>\n",
       "      <td>0</td>\n",
       "      <td>Airflow,BigQuery,CI/CD,Databricks,Data quality...</td>\n",
       "      <td>Career development,Flex hours,Team events,,</td>\n",
       "    </tr>\n",
       "    <tr>\n",
       "      <th>213</th>\n",
       "      <td>Bosch Group</td>\n",
       "      <td>Data Management Internship</td>\n",
       "      <td>Beograd, Serbia</td>\n",
       "      <td>Internship</td>\n",
       "      <td>Entry-level</td>\n",
       "      <td>0</td>\n",
       "      <td>Computer Science,Data management,Engineering,E...</td>\n",
       "      <td>Flex hours,,,,</td>\n",
       "    </tr>\n",
       "    <tr>\n",
       "      <th>217</th>\n",
       "      <td>Wallbox</td>\n",
       "      <td>Data Analyst Intern</td>\n",
       "      <td>Barcelona, Catalonia, Spain</td>\n",
       "      <td>Internship</td>\n",
       "      <td>Entry-level</td>\n",
       "      <td>0</td>\n",
       "      <td>Economics,Engineering,Machine Learning,Mathema...</td>\n",
       "      <td>Career development,Flex hours,Team events,,</td>\n",
       "    </tr>\n",
       "    <tr>\n",
       "      <th>...</th>\n",
       "      <td>...</td>\n",
       "      <td>...</td>\n",
       "      <td>...</td>\n",
       "      <td>...</td>\n",
       "      <td>...</td>\n",
       "      <td>...</td>\n",
       "      <td>...</td>\n",
       "      <td>...</td>\n",
       "    </tr>\n",
       "    <tr>\n",
       "      <th>2884</th>\n",
       "      <td>Plantix</td>\n",
       "      <td>Data Analyst Intern</td>\n",
       "      <td>Indore, India</td>\n",
       "      <td>Internship</td>\n",
       "      <td>Entry-level</td>\n",
       "      <td>0</td>\n",
       "      <td>Computer Science,Data analysis,Data Analytics,...</td>\n",
       "      <td>,,,,</td>\n",
       "    </tr>\n",
       "    <tr>\n",
       "      <th>3073</th>\n",
       "      <td>Definitive Logic</td>\n",
       "      <td>Data Science Intern</td>\n",
       "      <td>Arlington, VA</td>\n",
       "      <td>Internship</td>\n",
       "      <td>Entry-level</td>\n",
       "      <td>0</td>\n",
       "      <td>Big Data,Consulting,Consulting firm,Data analy...</td>\n",
       "      <td>Career development,Competitive pay,Flex hours,...</td>\n",
       "    </tr>\n",
       "    <tr>\n",
       "      <th>3107</th>\n",
       "      <td>Barbaricum</td>\n",
       "      <td>AI Intern (ChatGPT Specialist)</td>\n",
       "      <td>Remote</td>\n",
       "      <td>Internship</td>\n",
       "      <td>Entry-level</td>\n",
       "      <td>0</td>\n",
       "      <td>APIs,ChatGPT,Engineering,GPT,GPT-3,GPT-4</td>\n",
       "      <td>Career development,,,,</td>\n",
       "    </tr>\n",
       "    <tr>\n",
       "      <th>3134</th>\n",
       "      <td>Junglee Games</td>\n",
       "      <td>ETL and Data Warehouse Testing Intern</td>\n",
       "      <td>Bengaluru, Karnataka, India</td>\n",
       "      <td>Internship</td>\n",
       "      <td>Entry-level</td>\n",
       "      <td>0</td>\n",
       "      <td>Computer Science,Data quality,Data warehouse,E...</td>\n",
       "      <td>,,,,</td>\n",
       "    </tr>\n",
       "    <tr>\n",
       "      <th>3159</th>\n",
       "      <td>Deezer</td>\n",
       "      <td>Data Analyst Intern m/f/d - Business</td>\n",
       "      <td>Paris, France</td>\n",
       "      <td>Internship</td>\n",
       "      <td>Entry-level</td>\n",
       "      <td>0</td>\n",
       "      <td>Data analysis,Data pipelines,Data visualizatio...</td>\n",
       "      <td>Career development,Health care,Insurance,Start...</td>\n",
       "    </tr>\n",
       "  </tbody>\n",
       "</table>\n",
       "<p>72 rows × 8 columns</p>\n",
       "</div>"
      ],
      "text/plain": [
       "               Company                                       Job Title   \n",
       "7            NielsenIQ  Intern (Business Intelligence Service Support)  \\\n",
       "8      Western Digital             Summer 2023 Data Engineering Intern   \n",
       "170            Wallbox                       Analytics Engineer Intern   \n",
       "213        Bosch Group                      Data Management Internship   \n",
       "217            Wallbox                             Data Analyst Intern   \n",
       "...                ...                                             ...   \n",
       "2884           Plantix                             Data Analyst Intern   \n",
       "3073  Definitive Logic                             Data Science Intern   \n",
       "3107        Barbaricum                  AI Intern (ChatGPT Specialist)   \n",
       "3134     Junglee Games           ETL and Data Warehouse Testing Intern   \n",
       "3159            Deezer            Data Analyst Intern m/f/d - Business   \n",
       "\n",
       "                         Location    Job Type Experience level Salary   \n",
       "7               Bangkok, Thailand  Internship      Entry-level      0  \\\n",
       "8     San Jose, CA, United States  Internship      Entry-level      0   \n",
       "170   Barcelona, Catalonia, Spain  Internship      Entry-level      0   \n",
       "213               Beograd, Serbia  Internship      Entry-level      0   \n",
       "217   Barcelona, Catalonia, Spain  Internship      Entry-level      0   \n",
       "...                           ...         ...              ...    ...   \n",
       "2884                Indore, India  Internship      Entry-level      0   \n",
       "3073                Arlington, VA  Internship      Entry-level      0   \n",
       "3107                       Remote  Internship      Entry-level      0   \n",
       "3134  Bengaluru, Karnataka, India  Internship      Entry-level      0   \n",
       "3159                Paris, France  Internship      Entry-level      0   \n",
       "\n",
       "                             Requirment of the company    \n",
       "7               Business Intelligence,Excel,Genetics,,,  \\\n",
       "8     Big Data,Computer Science,Engineering,Machine ...   \n",
       "170   Airflow,BigQuery,CI/CD,Databricks,Data quality...   \n",
       "213   Computer Science,Data management,Engineering,E...   \n",
       "217   Economics,Engineering,Machine Learning,Mathema...   \n",
       "...                                                 ...   \n",
       "2884  Computer Science,Data analysis,Data Analytics,...   \n",
       "3073  Big Data,Consulting,Consulting firm,Data analy...   \n",
       "3107           APIs,ChatGPT,Engineering,GPT,GPT-3,GPT-4   \n",
       "3134  Computer Science,Data quality,Data warehouse,E...   \n",
       "3159  Data analysis,Data pipelines,Data visualizatio...   \n",
       "\n",
       "                                             Facilities  \n",
       "7                                                  ,,,,  \n",
       "8     Career development,Competitive pay,Equity,Flex...  \n",
       "170         Career development,Flex hours,Team events,,  \n",
       "213                                      Flex hours,,,,  \n",
       "217         Career development,Flex hours,Team events,,  \n",
       "...                                                 ...  \n",
       "2884                                               ,,,,  \n",
       "3073  Career development,Competitive pay,Flex hours,...  \n",
       "3107                             Career development,,,,  \n",
       "3134                                               ,,,,  \n",
       "3159  Career development,Health care,Insurance,Start...  \n",
       "\n",
       "[72 rows x 8 columns]"
      ]
     },
     "execution_count": 238,
     "metadata": {},
     "output_type": "execute_result"
    }
   ],
   "source": [
    "# fill na of internship by 0\n",
    "condition = df_clean['Job Type'] == 'Internship'\n",
    "df_clean.loc[condition, 'Salary'] = df_clean.loc[condition, 'Salary'].fillna(0)\n",
    "df_clean[df_clean['Job Type'] == 'Internship']"
   ]
  },
  {
   "cell_type": "code",
   "execution_count": 239,
   "metadata": {},
   "outputs": [
    {
     "data": {
      "text/html": [
       "<div>\n",
       "<style scoped>\n",
       "    .dataframe tbody tr th:only-of-type {\n",
       "        vertical-align: middle;\n",
       "    }\n",
       "\n",
       "    .dataframe tbody tr th {\n",
       "        vertical-align: top;\n",
       "    }\n",
       "\n",
       "    .dataframe thead th {\n",
       "        text-align: right;\n",
       "    }\n",
       "</style>\n",
       "<table border=\"1\" class=\"dataframe\">\n",
       "  <thead>\n",
       "    <tr style=\"text-align: right;\">\n",
       "      <th></th>\n",
       "      <th>Company</th>\n",
       "      <th>Job Title</th>\n",
       "      <th>Location</th>\n",
       "      <th>Job Type</th>\n",
       "      <th>Experience level</th>\n",
       "      <th>Salary</th>\n",
       "      <th>Requirment of the company</th>\n",
       "      <th>Facilities</th>\n",
       "    </tr>\n",
       "  </thead>\n",
       "  <tbody>\n",
       "    <tr>\n",
       "      <th>797</th>\n",
       "      <td>NaN</td>\n",
       "      <td>NaN</td>\n",
       "      <td>NaN</td>\n",
       "      <td>NaN</td>\n",
       "      <td>NaN</td>\n",
       "      <td>NaN</td>\n",
       "      <td>,,,,,</td>\n",
       "      <td>,,,,</td>\n",
       "    </tr>\n",
       "  </tbody>\n",
       "</table>\n",
       "</div>"
      ],
      "text/plain": [
       "    Company Job Title Location Job Type Experience level Salary   \n",
       "797     NaN       NaN      NaN      NaN              NaN    NaN  \\\n",
       "\n",
       "    Requirment of the company  Facilities  \n",
       "797                      ,,,,,       ,,,,  "
      ]
     },
     "execution_count": 239,
     "metadata": {},
     "output_type": "execute_result"
    }
   ],
   "source": [
    "df_clean[df_clean['Job Type'].isna()]"
   ]
  },
  {
   "cell_type": "code",
   "execution_count": 240,
   "metadata": {},
   "outputs": [
    {
     "data": {
      "text/html": [
       "<div>\n",
       "<style scoped>\n",
       "    .dataframe tbody tr th:only-of-type {\n",
       "        vertical-align: middle;\n",
       "    }\n",
       "\n",
       "    .dataframe tbody tr th {\n",
       "        vertical-align: top;\n",
       "    }\n",
       "\n",
       "    .dataframe thead th {\n",
       "        text-align: right;\n",
       "    }\n",
       "</style>\n",
       "<table border=\"1\" class=\"dataframe\">\n",
       "  <thead>\n",
       "    <tr style=\"text-align: right;\">\n",
       "      <th></th>\n",
       "      <th>Company</th>\n",
       "      <th>Job Title</th>\n",
       "      <th>Location</th>\n",
       "      <th>Job Type</th>\n",
       "      <th>Experience level</th>\n",
       "      <th>Salary</th>\n",
       "      <th>Requirment of the company</th>\n",
       "      <th>Facilities</th>\n",
       "    </tr>\n",
       "  </thead>\n",
       "  <tbody>\n",
       "  </tbody>\n",
       "</table>\n",
       "</div>"
      ],
      "text/plain": [
       "Empty DataFrame\n",
       "Columns: [Company, Job Title, Location, Job Type, Experience level, Salary, Requirment of the company , Facilities]\n",
       "Index: []"
      ]
     },
     "execution_count": 240,
     "metadata": {},
     "output_type": "execute_result"
    }
   ],
   "source": [
    "# delete the last row \n",
    "df_clean.drop(df_clean[df_clean['Job Type'].isna()].index, inplace=True)\n",
    "df_clean[df_clean['Job Type'].isna()]"
   ]
  },
  {
   "cell_type": "code",
   "execution_count": 241,
   "metadata": {},
   "outputs": [
    {
     "data": {
      "text/plain": [
       "(227, 8)"
      ]
     },
     "execution_count": 241,
     "metadata": {},
     "output_type": "execute_result"
    }
   ],
   "source": [
    "df_clean[df_clean['Experience level'].isna()].shape"
   ]
  },
  {
   "cell_type": "code",
   "execution_count": 242,
   "metadata": {},
   "outputs": [
    {
     "data": {
      "text/plain": [
       "(0, 8)"
      ]
     },
     "execution_count": 242,
     "metadata": {},
     "output_type": "execute_result"
    }
   ],
   "source": [
    "# Replace missing experience levels with \"Not-Specified\"\n",
    "df_clean['Experience level'].fillna('Not-Specified', inplace=True)\n",
    "df_clean[df_clean['Experience level'].isna()].shape"
   ]
  },
  {
   "cell_type": "markdown",
   "metadata": {},
   "source": [
    "<h3>Manage Salary column infos</h3>"
   ]
  },
  {
   "cell_type": "code",
   "execution_count": 243,
   "metadata": {},
   "outputs": [
    {
     "data": {
      "text/plain": [
       "[' 48K+ *',\n",
       " ' 90K+ *',\n",
       " ' 108K+',\n",
       " ' 184K+',\n",
       " ' 39K+ *',\n",
       " 0,\n",
       " ' 140K+',\n",
       " ' 40K+ *',\n",
       " ' 80K+ *',\n",
       " ' 35K+ *',\n",
       " ' 62K+ *',\n",
       " ' 159K+',\n",
       " ' 97K+',\n",
       " ' 92K+ *',\n",
       " ' 129K+ *',\n",
       " ' 115K+ *',\n",
       " ' 44K+ *',\n",
       " ' 73K+ *',\n",
       " ' 59K+ *',\n",
       " ' 106K+',\n",
       " ' 105K+ *',\n",
       " ' 55K+ *',\n",
       " ' 110K+ *',\n",
       " ' 63K+ *',\n",
       " ' 49K+ *',\n",
       " ' 180K+',\n",
       " nan,\n",
       " ' 127K+',\n",
       " ' 60K+',\n",
       " ' 45K+ *',\n",
       " ' 135K+',\n",
       " ' 69K+ *',\n",
       " ' 176K+',\n",
       " ' 65K+ *',\n",
       " ' 51K+ *',\n",
       " ' 67K+',\n",
       " ' 104K+',\n",
       " ' 105K+',\n",
       " ' 166K+',\n",
       " ' 131K+ *',\n",
       " ' 115K+',\n",
       " ' 43K+',\n",
       " ' 81K+ *',\n",
       " ' 96K+ *',\n",
       " ' 56K+ *',\n",
       " ' 130K+',\n",
       " ' 131K+',\n",
       " ' 50K+ *',\n",
       " ' 100K+',\n",
       " ' 60K+ *',\n",
       " ' 52K+',\n",
       " ' 135K+ *',\n",
       " ' 76K+',\n",
       " ' 172K+',\n",
       " ' 119K+',\n",
       " ' 125K+',\n",
       " ' 116K+',\n",
       " ' 77K+ *',\n",
       " ' 74K+ *',\n",
       " ' 70K+ *',\n",
       " ' 120K+',\n",
       " ' 189K+',\n",
       " ' 149K+',\n",
       " ' 110K+',\n",
       " ' 90K+',\n",
       " ' 30K+ *',\n",
       " ' 167K+',\n",
       " ' 236K+',\n",
       " ' 179K+',\n",
       " ' 80K+',\n",
       " ' 200K+',\n",
       " ' 139K+',\n",
       " ' 129K+',\n",
       " ' 113K+',\n",
       " ' 150K+',\n",
       " ' 158K+',\n",
       " ' 40K+',\n",
       " ' 184K+ *',\n",
       " ' 133K+',\n",
       " ' 78K+',\n",
       " ' 36K+ *',\n",
       " ' 122K+ *',\n",
       " ' 81K+',\n",
       " ' 59K+',\n",
       " 'EUR 81K',\n",
       " ' 190K+',\n",
       " ' 72K+',\n",
       " ' 136K+',\n",
       " ' 102K+ *',\n",
       " ' 31K+ *',\n",
       " ' 89K+ *',\n",
       " ' 156K+',\n",
       " ' 107K+',\n",
       " ' 199K+',\n",
       " ' 224K+',\n",
       " ' 142K+',\n",
       " 'GBP 35K',\n",
       " ' 183K+',\n",
       " ' 164K+',\n",
       " 'EUR 130K+',\n",
       " ' 174K+',\n",
       " ' 84K+',\n",
       " ' 79K+',\n",
       " ' 103K+ *',\n",
       " ' 143K+',\n",
       " ' 175K+',\n",
       " ' 170K+',\n",
       " ' 141K+ *',\n",
       " ' 283K+',\n",
       " ' 151K+',\n",
       " ' 111K+',\n",
       " ' 51K+',\n",
       " ' 96K+',\n",
       " ' 148K+',\n",
       " ' 204K+',\n",
       " ' 202K+',\n",
       " ' 295K+',\n",
       " ' 68K+',\n",
       " ' 195K+',\n",
       " ' 145K+',\n",
       " ' 50K+',\n",
       " ' 267K+',\n",
       " ' 200K+ *',\n",
       " ' 109K+ *',\n",
       " ' 310K+',\n",
       " ' 153K+',\n",
       " ' 154K+',\n",
       " ' 86K+',\n",
       " ' 70K+',\n",
       " ' 207K+',\n",
       " ' 85K+',\n",
       " ' 66K+',\n",
       " ' 315K+',\n",
       " ' 160K+',\n",
       " ' 66K+ *',\n",
       " ' 144K+',\n",
       " ' 245K+',\n",
       " ' 126K+',\n",
       " ' 63K+',\n",
       " ' 182K+',\n",
       " ' 157K+',\n",
       " ' 214K+',\n",
       " ' 173K+',\n",
       " 'EUR 80K+',\n",
       " ' 120K+ *',\n",
       " 'EUR 36K+',\n",
       " 'EUR 60K+',\n",
       " 'GBP 42K+',\n",
       " ' 112K+',\n",
       " ' 124K+',\n",
       " ' 185K+',\n",
       " ' 147K+',\n",
       " ' 122K+',\n",
       " 'GBP 80K+',\n",
       " ' 144K+ *',\n",
       " ' 146K+',\n",
       " ' 165K+',\n",
       " ' 75K+',\n",
       " ' 163K+',\n",
       " ' 193K+',\n",
       " ' 109K+',\n",
       " 'GBP 60K+',\n",
       " ' 218K+',\n",
       " ' 230K+',\n",
       " ' 168K+',\n",
       " ' 134K+',\n",
       " ' 225K+',\n",
       " ' 253K+',\n",
       " ' 83K+',\n",
       " ' 235K+',\n",
       " ' 187K+',\n",
       " ' 227K+',\n",
       " ' 73K+',\n",
       " ' 61K+ *',\n",
       " ' 171K+',\n",
       " ' 234K+',\n",
       " 'GBP 45K+',\n",
       " ' 155K+',\n",
       " ' 71K+',\n",
       " ' 94K+',\n",
       " ' 57K+ *',\n",
       " ' 197K+',\n",
       " ' 102K+',\n",
       " ' 82K+',\n",
       " ' 177K+',\n",
       " 'GBP 50K+',\n",
       " ' 93K+',\n",
       " ' 55K+',\n",
       " ' 121K+',\n",
       " ' 42K+ *',\n",
       " ' 45K+',\n",
       " ' 75K+ *',\n",
       " ' 152K+',\n",
       " ' 161K+',\n",
       " ' 155K+ *',\n",
       " ' 132K+',\n",
       " 'GBP 55K+',\n",
       " ' 138K+',\n",
       " ' 196K+',\n",
       " ' 205K+',\n",
       " 'GBP 65K+',\n",
       " ' 178K+',\n",
       " ' 95K+',\n",
       " ' 33K+ *',\n",
       " ' 54K+ *',\n",
       " ' 98K+',\n",
       " ' 141K+',\n",
       " ' 95K+ *',\n",
       " ' 65K+',\n",
       " 'GBP 55K',\n",
       " ' 99K+',\n",
       " ' 220K+',\n",
       " ' 74K+',\n",
       " ' 103K+',\n",
       " ' 100K+ *',\n",
       " 'GBP 51K+',\n",
       " ' 128K+',\n",
       " 'GBP 54K+',\n",
       " ' 123K+',\n",
       " ' 117K+']"
      ]
     },
     "execution_count": 243,
     "metadata": {},
     "output_type": "execute_result"
    }
   ],
   "source": [
    "df_clean['Salary'].unique().tolist()"
   ]
  },
  {
   "cell_type": "code",
   "execution_count": 244,
   "metadata": {},
   "outputs": [],
   "source": [
    "# # extract numerical values and multiply by 1000\n",
    "# df_clean['Min_Salary_Year'] = df_clean['Salary'].str.extract('(\\d+[\\.,]?\\d*)', expand=False).astype(float) * 1000\n",
    "# # move Salary_num column to first position\n",
    "# Min_Salary_Year = df_clean.pop('Min_Salary_Year')\n",
    "# df_clean.insert(6, 'Min_Salary_Year', Min_Salary_Year)\n",
    "# df_clean"
   ]
  },
  {
   "cell_type": "code",
   "execution_count": 245,
   "metadata": {},
   "outputs": [
    {
     "data": {
      "text/html": [
       "<div>\n",
       "<style scoped>\n",
       "    .dataframe tbody tr th:only-of-type {\n",
       "        vertical-align: middle;\n",
       "    }\n",
       "\n",
       "    .dataframe tbody tr th {\n",
       "        vertical-align: top;\n",
       "    }\n",
       "\n",
       "    .dataframe thead th {\n",
       "        text-align: right;\n",
       "    }\n",
       "</style>\n",
       "<table border=\"1\" class=\"dataframe\">\n",
       "  <thead>\n",
       "    <tr style=\"text-align: right;\">\n",
       "      <th></th>\n",
       "      <th>Company</th>\n",
       "      <th>Job Title</th>\n",
       "      <th>Location</th>\n",
       "      <th>Job Type</th>\n",
       "      <th>Experience level</th>\n",
       "      <th>Salary</th>\n",
       "      <th>Min_Salary_Year</th>\n",
       "      <th>Requirment of the company</th>\n",
       "      <th>Facilities</th>\n",
       "    </tr>\n",
       "  </thead>\n",
       "  <tbody>\n",
       "    <tr>\n",
       "      <th>0</th>\n",
       "      <td>SGS</td>\n",
       "      <td>Clinical Data Analyst</td>\n",
       "      <td>Richardson, TX, United States</td>\n",
       "      <td>Full Time</td>\n",
       "      <td>Entry-level</td>\n",
       "      <td>48K+ *</td>\n",
       "      <td>48000.0</td>\n",
       "      <td>Computer Science,Data quality,Genetics,Mathema...</td>\n",
       "      <td>,,,,</td>\n",
       "    </tr>\n",
       "    <tr>\n",
       "      <th>1</th>\n",
       "      <td>Ocorian</td>\n",
       "      <td>AML/CFT &amp; Data Analyst</td>\n",
       "      <td>Ebène, Mauritius</td>\n",
       "      <td>Full Time</td>\n",
       "      <td>Entry-level</td>\n",
       "      <td>48K+ *</td>\n",
       "      <td>48000.0</td>\n",
       "      <td>Agile,Data management,Finance,Security,,</td>\n",
       "      <td>,,,,</td>\n",
       "    </tr>\n",
       "    <tr>\n",
       "      <th>2</th>\n",
       "      <td>Cricut</td>\n",
       "      <td>Machine Learning Engineer</td>\n",
       "      <td>South Jordan, UT, United States</td>\n",
       "      <td>Full Time</td>\n",
       "      <td>Not-Specified</td>\n",
       "      <td>90K+ *</td>\n",
       "      <td>90000.0</td>\n",
       "      <td>Agile,Architecture,AWS,Computer Science,Comput...</td>\n",
       "      <td>Career development,,,,</td>\n",
       "    </tr>\n",
       "    <tr>\n",
       "      <th>3</th>\n",
       "      <td>Bosch Group</td>\n",
       "      <td>Application Developer &amp; Data Analyst</td>\n",
       "      <td>Nonantola, Italy</td>\n",
       "      <td>Full Time</td>\n",
       "      <td>Entry-level</td>\n",
       "      <td>48K+ *</td>\n",
       "      <td>48000.0</td>\n",
       "      <td>Engineering,Industrial,Oracle,Power BI,R,R&amp;D</td>\n",
       "      <td>,,,,</td>\n",
       "    </tr>\n",
       "    <tr>\n",
       "      <th>4</th>\n",
       "      <td>Publicis Groupe</td>\n",
       "      <td>Data Engineer Full time (Public Sector) USA</td>\n",
       "      <td>Arlington, VA, United States</td>\n",
       "      <td>Full Time</td>\n",
       "      <td>Mid-level</td>\n",
       "      <td>108K+</td>\n",
       "      <td>108000.0</td>\n",
       "      <td>AWS,Azure,Computer Science,Consulting,Dataflow...</td>\n",
       "      <td>Flex hours,Flex vacation,Parental leave,Unlimi...</td>\n",
       "    </tr>\n",
       "    <tr>\n",
       "      <th>...</th>\n",
       "      <td>...</td>\n",
       "      <td>...</td>\n",
       "      <td>...</td>\n",
       "      <td>...</td>\n",
       "      <td>...</td>\n",
       "      <td>...</td>\n",
       "      <td>...</td>\n",
       "      <td>...</td>\n",
       "      <td>...</td>\n",
       "    </tr>\n",
       "    <tr>\n",
       "      <th>3190</th>\n",
       "      <td>CCRi</td>\n",
       "      <td>Application Integration Engineer, Computer Vis...</td>\n",
       "      <td>Chantilly, Virginia, United States</td>\n",
       "      <td>Full Time</td>\n",
       "      <td>Mid-level</td>\n",
       "      <td>113K+</td>\n",
       "      <td>113000.0</td>\n",
       "      <td>Agile,Angular,APIs,Architecture,AWS,Azure</td>\n",
       "      <td>401(k) matching,Career development,Flex hours,...</td>\n",
       "    </tr>\n",
       "    <tr>\n",
       "      <th>3191</th>\n",
       "      <td>Publicis Groupe</td>\n",
       "      <td>Associate Director, Data Science</td>\n",
       "      <td>New York City, United States</td>\n",
       "      <td>Full Time</td>\n",
       "      <td>Mid-level</td>\n",
       "      <td>106K+</td>\n",
       "      <td>106000.0</td>\n",
       "      <td>Bayesian,Classification,Clustering,Data analys...</td>\n",
       "      <td>Career development,Health care,,,</td>\n",
       "    </tr>\n",
       "    <tr>\n",
       "      <th>3192</th>\n",
       "      <td>DoorDash</td>\n",
       "      <td>Senior Software Engineer, Machine Learning - A...</td>\n",
       "      <td>Sunnyvale, CA; San Francisco, CA; New York</td>\n",
       "      <td>Full Time</td>\n",
       "      <td>Senior-level</td>\n",
       "      <td>176K+</td>\n",
       "      <td>176000.0</td>\n",
       "      <td>Computer Science,Data analysis,Engineering,Exc...</td>\n",
       "      <td>401(k) matching,Career development,Equity,Insu...</td>\n",
       "    </tr>\n",
       "    <tr>\n",
       "      <th>3193</th>\n",
       "      <td>Western Digital</td>\n",
       "      <td>Data Scientist - New College Graduate</td>\n",
       "      <td>Biñan, Philippines</td>\n",
       "      <td>Full Time</td>\n",
       "      <td>Entry-level</td>\n",
       "      <td>39K+ *</td>\n",
       "      <td>39000.0</td>\n",
       "      <td>APIs,Clustering,Computer Science,Data visualiz...</td>\n",
       "      <td>Career development,,,,</td>\n",
       "    </tr>\n",
       "    <tr>\n",
       "      <th>3196</th>\n",
       "      <td>ATB Financial</td>\n",
       "      <td>Data Scientist</td>\n",
       "      <td>Edmonton, Alberta, Canada</td>\n",
       "      <td>Full Time</td>\n",
       "      <td>Entry-level</td>\n",
       "      <td>39K+ *</td>\n",
       "      <td>39000.0</td>\n",
       "      <td>Computer Science,Data Analytics,Data Mining,Ec...</td>\n",
       "      <td>Career development,Startup environment,,,</td>\n",
       "    </tr>\n",
       "  </tbody>\n",
       "</table>\n",
       "<p>2995 rows × 9 columns</p>\n",
       "</div>"
      ],
      "text/plain": [
       "              Company                                          Job Title   \n",
       "0                 SGS                              Clinical Data Analyst  \\\n",
       "1             Ocorian                             AML/CFT & Data Analyst   \n",
       "2              Cricut                          Machine Learning Engineer   \n",
       "3         Bosch Group               Application Developer & Data Analyst   \n",
       "4     Publicis Groupe        Data Engineer Full time (Public Sector) USA   \n",
       "...               ...                                                ...   \n",
       "3190             CCRi  Application Integration Engineer, Computer Vis...   \n",
       "3191  Publicis Groupe                   Associate Director, Data Science   \n",
       "3192         DoorDash  Senior Software Engineer, Machine Learning - A...   \n",
       "3193  Western Digital              Data Scientist - New College Graduate   \n",
       "3196    ATB Financial                                     Data Scientist   \n",
       "\n",
       "                                          Location   Job Type   \n",
       "0                    Richardson, TX, United States  Full Time  \\\n",
       "1                                 Ebène, Mauritius  Full Time   \n",
       "2                  South Jordan, UT, United States  Full Time   \n",
       "3                                 Nonantola, Italy  Full Time   \n",
       "4                     Arlington, VA, United States  Full Time   \n",
       "...                                            ...        ...   \n",
       "3190            Chantilly, Virginia, United States  Full Time   \n",
       "3191                  New York City, United States  Full Time   \n",
       "3192  Sunnyvale, CA; San Francisco, CA; New York \n",
       "  Full Time   \n",
       "3193                            Biñan, Philippines  Full Time   \n",
       "3196                     Edmonton, Alberta, Canada  Full Time   \n",
       "\n",
       "     Experience level   Salary  Min_Salary_Year   \n",
       "0         Entry-level   48K+ *          48000.0  \\\n",
       "1         Entry-level   48K+ *          48000.0   \n",
       "2       Not-Specified   90K+ *          90000.0   \n",
       "3         Entry-level   48K+ *          48000.0   \n",
       "4           Mid-level    108K+         108000.0   \n",
       "...               ...      ...              ...   \n",
       "3190        Mid-level    113K+         113000.0   \n",
       "3191        Mid-level    106K+         106000.0   \n",
       "3192     Senior-level    176K+         176000.0   \n",
       "3193      Entry-level   39K+ *          39000.0   \n",
       "3196      Entry-level   39K+ *          39000.0   \n",
       "\n",
       "                             Requirment of the company    \n",
       "0     Computer Science,Data quality,Genetics,Mathema...  \\\n",
       "1              Agile,Data management,Finance,Security,,   \n",
       "2     Agile,Architecture,AWS,Computer Science,Comput...   \n",
       "3          Engineering,Industrial,Oracle,Power BI,R,R&D   \n",
       "4     AWS,Azure,Computer Science,Consulting,Dataflow...   \n",
       "...                                                 ...   \n",
       "3190          Agile,Angular,APIs,Architecture,AWS,Azure   \n",
       "3191  Bayesian,Classification,Clustering,Data analys...   \n",
       "3192  Computer Science,Data analysis,Engineering,Exc...   \n",
       "3193  APIs,Clustering,Computer Science,Data visualiz...   \n",
       "3196  Computer Science,Data Analytics,Data Mining,Ec...   \n",
       "\n",
       "                                             Facilities  \n",
       "0                                                  ,,,,  \n",
       "1                                                  ,,,,  \n",
       "2                                Career development,,,,  \n",
       "3                                                  ,,,,  \n",
       "4     Flex hours,Flex vacation,Parental leave,Unlimi...  \n",
       "...                                                 ...  \n",
       "3190  401(k) matching,Career development,Flex hours,...  \n",
       "3191                  Career development,Health care,,,  \n",
       "3192  401(k) matching,Career development,Equity,Insu...  \n",
       "3193                             Career development,,,,  \n",
       "3196          Career development,Startup environment,,,  \n",
       "\n",
       "[2995 rows x 9 columns]"
      ]
     },
     "execution_count": 245,
     "metadata": {},
     "output_type": "execute_result"
    }
   ],
   "source": [
    "from forex_python.converter import CurrencyRates\n",
    "\n",
    "cr = CurrencyRates()\n",
    "\n",
    "# Function to extract the numeric value from the salary string\n",
    "def extract_salary(salary):\n",
    "    salary = salary.replace('K', '').replace('+', '').replace('*', '').strip()\n",
    "    if 'EUR' in salary:\n",
    "        salary = salary.replace('EUR', '').strip()\n",
    "    elif 'GBP' in salary:\n",
    "        salary = salary.replace('GBP', '').strip()\n",
    "    return float(salary) * 1000\n",
    "\n",
    "# Function to convert currency to numeric value\n",
    "def convert_to_numeric(salary):\n",
    "    salary = str(salary)\n",
    "    sal = 0\n",
    "    if 'GBP' in salary:\n",
    "        # convert salary to USD using forex_python.converter lib\n",
    "        return round(cr.convert('GBP', 'USD', extract_salary(salary)))\n",
    "    elif 'EUR' in salary:\n",
    "        # convert salary to USD using forex_python.converter lib\n",
    "        return round(cr.convert('EUR', 'USD', extract_salary(salary)))\n",
    "    else:\n",
    "        return extract_salary(salary)  # If currency is not specified, assume it's USD\n",
    "\n",
    "# Apply the function to 'Salary' column and store the result in 'Min_Salary_Year'\n",
    "df_clean['Min_Salary_Year'] = df_clean['Salary'].apply(convert_to_numeric)\n",
    "# move Salary_num column to first position\n",
    "Min_Salary_Year = df_clean.pop('Min_Salary_Year')\n",
    "df_clean.insert(6, 'Min_Salary_Year', Min_Salary_Year)\n",
    "df_clean"
   ]
  },
  {
   "cell_type": "code",
   "execution_count": 246,
   "metadata": {},
   "outputs": [
    {
     "data": {
      "text/html": [
       "<div>\n",
       "<style scoped>\n",
       "    .dataframe tbody tr th:only-of-type {\n",
       "        vertical-align: middle;\n",
       "    }\n",
       "\n",
       "    .dataframe tbody tr th {\n",
       "        vertical-align: top;\n",
       "    }\n",
       "\n",
       "    .dataframe thead th {\n",
       "        text-align: right;\n",
       "    }\n",
       "</style>\n",
       "<table border=\"1\" class=\"dataframe\">\n",
       "  <thead>\n",
       "    <tr style=\"text-align: right;\">\n",
       "      <th></th>\n",
       "      <th>Company</th>\n",
       "      <th>Job Title</th>\n",
       "      <th>Location</th>\n",
       "      <th>Job Type</th>\n",
       "      <th>Experience level</th>\n",
       "      <th>Salary</th>\n",
       "      <th>Min_Salary_Year</th>\n",
       "      <th>Requirment of the company</th>\n",
       "      <th>Facilities</th>\n",
       "    </tr>\n",
       "  </thead>\n",
       "  <tbody>\n",
       "    <tr>\n",
       "      <th>324</th>\n",
       "      <td>Bosch Group</td>\n",
       "      <td>Master Data Management Plants (f/m/div.) (sala...</td>\n",
       "      <td>Karlsruhe, Germany</td>\n",
       "      <td>Full Time</td>\n",
       "      <td>Entry-level</td>\n",
       "      <td>EUR 81K</td>\n",
       "      <td>87318.0</td>\n",
       "      <td>Agile,Computer Science,Data analysis,Data mana...</td>\n",
       "      <td>Career development,Competitive pay,Salary bonus,,</td>\n",
       "    </tr>\n",
       "    <tr>\n",
       "      <th>456</th>\n",
       "      <td>Mozilla</td>\n",
       "      <td>Sr. Staff Machine Learning Engineer</td>\n",
       "      <td>Remote Germany</td>\n",
       "      <td>Full Time</td>\n",
       "      <td>Senior-level</td>\n",
       "      <td>EUR 130K+</td>\n",
       "      <td>140140.0</td>\n",
       "      <td>Architecture,AWS,Azure,Big Data,Computer Scien...</td>\n",
       "      <td>Career development,Flex vacation,Health care,H...</td>\n",
       "    </tr>\n",
       "    <tr>\n",
       "      <th>1057</th>\n",
       "      <td>Mozilla</td>\n",
       "      <td>Staff Product Manager, Machine Learning and Re...</td>\n",
       "      <td>Remote Germany</td>\n",
       "      <td>Full Time</td>\n",
       "      <td>Senior-level</td>\n",
       "      <td>EUR 80K+</td>\n",
       "      <td>86240.0</td>\n",
       "      <td>Agile,Computer Science,Data management,Enginee...</td>\n",
       "      <td>Career development,Flex vacation,Health care,H...</td>\n",
       "    </tr>\n",
       "    <tr>\n",
       "      <th>1100</th>\n",
       "      <td>Metiora</td>\n",
       "      <td>Data Scientist Senior</td>\n",
       "      <td>Madrid, Spain</td>\n",
       "      <td>Full Time</td>\n",
       "      <td>Senior-level</td>\n",
       "      <td>EUR 36K+</td>\n",
       "      <td>38808.0</td>\n",
       "      <td>Deep Learning,Machine Learning,Matplotlib,Mong...</td>\n",
       "      <td>,,,,</td>\n",
       "    </tr>\n",
       "    <tr>\n",
       "      <th>1117</th>\n",
       "      <td>CybelAngel</td>\n",
       "      <td>Senior Data Engineer</td>\n",
       "      <td>Paris, Île-de-France, France - Remote</td>\n",
       "      <td>Full Time</td>\n",
       "      <td>Mid-level</td>\n",
       "      <td>EUR 60K+</td>\n",
       "      <td>64680.0</td>\n",
       "      <td>Airflow,BigQuery,Bigtable,Data analysis,Data g...</td>\n",
       "      <td>Career development,Equity,Salary bonus,,</td>\n",
       "    </tr>\n",
       "    <tr>\n",
       "      <th>1280</th>\n",
       "      <td>Evolution</td>\n",
       "      <td>Software Developer in Data Science Team</td>\n",
       "      <td>Riga, Latvia</td>\n",
       "      <td>Full Time</td>\n",
       "      <td>Senior-level</td>\n",
       "      <td>EUR 36K+</td>\n",
       "      <td>38808.0</td>\n",
       "      <td>Agile,AWS,Big Data,Classification,Clustering,C...</td>\n",
       "      <td>Career development,Competitive pay,Health care...</td>\n",
       "    </tr>\n",
       "    <tr>\n",
       "      <th>1467</th>\n",
       "      <td>CITECH</td>\n",
       "      <td>Ingénieur Data / Power BI (H/F)</td>\n",
       "      <td>Dijon, France</td>\n",
       "      <td>Full Time</td>\n",
       "      <td>Senior-level</td>\n",
       "      <td>EUR 60K+</td>\n",
       "      <td>64680.0</td>\n",
       "      <td>Azure,Data Analytics,KPIs,PostgreSQL,Power BI,...</td>\n",
       "      <td>,,,,</td>\n",
       "    </tr>\n",
       "  </tbody>\n",
       "</table>\n",
       "</div>"
      ],
      "text/plain": [
       "          Company                                          Job Title   \n",
       "324   Bosch Group  Master Data Management Plants (f/m/div.) (sala...  \\\n",
       "456       Mozilla                Sr. Staff Machine Learning Engineer   \n",
       "1057      Mozilla  Staff Product Manager, Machine Learning and Re...   \n",
       "1100      Metiora                              Data Scientist Senior   \n",
       "1117   CybelAngel                               Senior Data Engineer   \n",
       "1280    Evolution            Software Developer in Data Science Team   \n",
       "1467       CITECH                    Ingénieur Data / Power BI (H/F)   \n",
       "\n",
       "                                   Location   Job Type Experience level   \n",
       "324                      Karlsruhe, Germany  Full Time      Entry-level  \\\n",
       "456                          Remote Germany  Full Time     Senior-level   \n",
       "1057                         Remote Germany  Full Time     Senior-level   \n",
       "1100                          Madrid, Spain  Full Time     Senior-level   \n",
       "1117  Paris, Île-de-France, France - Remote  Full Time        Mid-level   \n",
       "1280                           Riga, Latvia  Full Time     Senior-level   \n",
       "1467                          Dijon, France  Full Time     Senior-level   \n",
       "\n",
       "         Salary  Min_Salary_Year   \n",
       "324     EUR 81K          87318.0  \\\n",
       "456   EUR 130K+         140140.0   \n",
       "1057   EUR 80K+          86240.0   \n",
       "1100   EUR 36K+          38808.0   \n",
       "1117   EUR 60K+          64680.0   \n",
       "1280   EUR 36K+          38808.0   \n",
       "1467   EUR 60K+          64680.0   \n",
       "\n",
       "                             Requirment of the company    \n",
       "324   Agile,Computer Science,Data analysis,Data mana...  \\\n",
       "456   Architecture,AWS,Azure,Big Data,Computer Scien...   \n",
       "1057  Agile,Computer Science,Data management,Enginee...   \n",
       "1100  Deep Learning,Machine Learning,Matplotlib,Mong...   \n",
       "1117  Airflow,BigQuery,Bigtable,Data analysis,Data g...   \n",
       "1280  Agile,AWS,Big Data,Classification,Clustering,C...   \n",
       "1467  Azure,Data Analytics,KPIs,PostgreSQL,Power BI,...   \n",
       "\n",
       "                                             Facilities  \n",
       "324   Career development,Competitive pay,Salary bonus,,  \n",
       "456   Career development,Flex vacation,Health care,H...  \n",
       "1057  Career development,Flex vacation,Health care,H...  \n",
       "1100                                               ,,,,  \n",
       "1117           Career development,Equity,Salary bonus,,  \n",
       "1280  Career development,Competitive pay,Health care...  \n",
       "1467                                               ,,,,  "
      ]
     },
     "execution_count": 246,
     "metadata": {},
     "output_type": "execute_result"
    }
   ],
   "source": [
    "df_clean[(pd.notna(df_clean['Salary'])) & (df_clean['Salary'].str.startswith('EUR'))]"
   ]
  },
  {
   "cell_type": "code",
   "execution_count": 247,
   "metadata": {},
   "outputs": [
    {
     "data": {
      "text/html": [
       "<div>\n",
       "<style scoped>\n",
       "    .dataframe tbody tr th:only-of-type {\n",
       "        vertical-align: middle;\n",
       "    }\n",
       "\n",
       "    .dataframe tbody tr th {\n",
       "        vertical-align: top;\n",
       "    }\n",
       "\n",
       "    .dataframe thead th {\n",
       "        text-align: right;\n",
       "    }\n",
       "</style>\n",
       "<table border=\"1\" class=\"dataframe\">\n",
       "  <thead>\n",
       "    <tr style=\"text-align: right;\">\n",
       "      <th></th>\n",
       "      <th>Min_Salary_Year</th>\n",
       "    </tr>\n",
       "  </thead>\n",
       "  <tbody>\n",
       "    <tr>\n",
       "      <th>count</th>\n",
       "      <td>2896.000000</td>\n",
       "    </tr>\n",
       "    <tr>\n",
       "      <th>mean</th>\n",
       "      <td>87871.062500</td>\n",
       "    </tr>\n",
       "    <tr>\n",
       "      <th>std</th>\n",
       "      <td>43482.694165</td>\n",
       "    </tr>\n",
       "    <tr>\n",
       "      <th>min</th>\n",
       "      <td>0.000000</td>\n",
       "    </tr>\n",
       "    <tr>\n",
       "      <th>25%</th>\n",
       "      <td>56000.000000</td>\n",
       "    </tr>\n",
       "    <tr>\n",
       "      <th>50%</th>\n",
       "      <td>74000.000000</td>\n",
       "    </tr>\n",
       "    <tr>\n",
       "      <th>75%</th>\n",
       "      <td>115000.000000</td>\n",
       "    </tr>\n",
       "    <tr>\n",
       "      <th>max</th>\n",
       "      <td>315000.000000</td>\n",
       "    </tr>\n",
       "  </tbody>\n",
       "</table>\n",
       "</div>"
      ],
      "text/plain": [
       "       Min_Salary_Year\n",
       "count      2896.000000\n",
       "mean      87871.062500\n",
       "std       43482.694165\n",
       "min           0.000000\n",
       "25%       56000.000000\n",
       "50%       74000.000000\n",
       "75%      115000.000000\n",
       "max      315000.000000"
      ]
     },
     "execution_count": 247,
     "metadata": {},
     "output_type": "execute_result"
    }
   ],
   "source": [
    "df_clean.describe()"
   ]
  },
  {
   "cell_type": "code",
   "execution_count": 248,
   "metadata": {},
   "outputs": [
    {
     "data": {
      "text/html": [
       "<div>\n",
       "<style scoped>\n",
       "    .dataframe tbody tr th:only-of-type {\n",
       "        vertical-align: middle;\n",
       "    }\n",
       "\n",
       "    .dataframe tbody tr th {\n",
       "        vertical-align: top;\n",
       "    }\n",
       "\n",
       "    .dataframe thead th {\n",
       "        text-align: right;\n",
       "    }\n",
       "</style>\n",
       "<table border=\"1\" class=\"dataframe\">\n",
       "  <thead>\n",
       "    <tr style=\"text-align: right;\">\n",
       "      <th></th>\n",
       "      <th>Company</th>\n",
       "      <th>Job Title</th>\n",
       "      <th>Location</th>\n",
       "      <th>Job Type</th>\n",
       "      <th>Experience level</th>\n",
       "      <th>Salary</th>\n",
       "      <th>Min_Salary_Year</th>\n",
       "      <th>Salary_conditions</th>\n",
       "      <th>Requirment of the company</th>\n",
       "      <th>Facilities</th>\n",
       "    </tr>\n",
       "  </thead>\n",
       "  <tbody>\n",
       "    <tr>\n",
       "      <th>0</th>\n",
       "      <td>SGS</td>\n",
       "      <td>Clinical Data Analyst</td>\n",
       "      <td>Richardson, TX, United States</td>\n",
       "      <td>Full Time</td>\n",
       "      <td>Entry-level</td>\n",
       "      <td>48K+ *</td>\n",
       "      <td>48000.0</td>\n",
       "      <td>True</td>\n",
       "      <td>Computer Science,Data quality,Genetics,Mathema...</td>\n",
       "      <td>,,,,</td>\n",
       "    </tr>\n",
       "    <tr>\n",
       "      <th>1</th>\n",
       "      <td>Ocorian</td>\n",
       "      <td>AML/CFT &amp; Data Analyst</td>\n",
       "      <td>Ebène, Mauritius</td>\n",
       "      <td>Full Time</td>\n",
       "      <td>Entry-level</td>\n",
       "      <td>48K+ *</td>\n",
       "      <td>48000.0</td>\n",
       "      <td>True</td>\n",
       "      <td>Agile,Data management,Finance,Security,,</td>\n",
       "      <td>,,,,</td>\n",
       "    </tr>\n",
       "    <tr>\n",
       "      <th>2</th>\n",
       "      <td>Cricut</td>\n",
       "      <td>Machine Learning Engineer</td>\n",
       "      <td>South Jordan, UT, United States</td>\n",
       "      <td>Full Time</td>\n",
       "      <td>Not-Specified</td>\n",
       "      <td>90K+ *</td>\n",
       "      <td>90000.0</td>\n",
       "      <td>True</td>\n",
       "      <td>Agile,Architecture,AWS,Computer Science,Comput...</td>\n",
       "      <td>Career development,,,,</td>\n",
       "    </tr>\n",
       "    <tr>\n",
       "      <th>3</th>\n",
       "      <td>Bosch Group</td>\n",
       "      <td>Application Developer &amp; Data Analyst</td>\n",
       "      <td>Nonantola, Italy</td>\n",
       "      <td>Full Time</td>\n",
       "      <td>Entry-level</td>\n",
       "      <td>48K+ *</td>\n",
       "      <td>48000.0</td>\n",
       "      <td>True</td>\n",
       "      <td>Engineering,Industrial,Oracle,Power BI,R,R&amp;D</td>\n",
       "      <td>,,,,</td>\n",
       "    </tr>\n",
       "    <tr>\n",
       "      <th>4</th>\n",
       "      <td>Publicis Groupe</td>\n",
       "      <td>Data Engineer Full time (Public Sector) USA</td>\n",
       "      <td>Arlington, VA, United States</td>\n",
       "      <td>Full Time</td>\n",
       "      <td>Mid-level</td>\n",
       "      <td>108K+</td>\n",
       "      <td>108000.0</td>\n",
       "      <td>False</td>\n",
       "      <td>AWS,Azure,Computer Science,Consulting,Dataflow...</td>\n",
       "      <td>Flex hours,Flex vacation,Parental leave,Unlimi...</td>\n",
       "    </tr>\n",
       "    <tr>\n",
       "      <th>...</th>\n",
       "      <td>...</td>\n",
       "      <td>...</td>\n",
       "      <td>...</td>\n",
       "      <td>...</td>\n",
       "      <td>...</td>\n",
       "      <td>...</td>\n",
       "      <td>...</td>\n",
       "      <td>...</td>\n",
       "      <td>...</td>\n",
       "      <td>...</td>\n",
       "    </tr>\n",
       "    <tr>\n",
       "      <th>3190</th>\n",
       "      <td>CCRi</td>\n",
       "      <td>Application Integration Engineer, Computer Vis...</td>\n",
       "      <td>Chantilly, Virginia, United States</td>\n",
       "      <td>Full Time</td>\n",
       "      <td>Mid-level</td>\n",
       "      <td>113K+</td>\n",
       "      <td>113000.0</td>\n",
       "      <td>False</td>\n",
       "      <td>Agile,Angular,APIs,Architecture,AWS,Azure</td>\n",
       "      <td>401(k) matching,Career development,Flex hours,...</td>\n",
       "    </tr>\n",
       "    <tr>\n",
       "      <th>3191</th>\n",
       "      <td>Publicis Groupe</td>\n",
       "      <td>Associate Director, Data Science</td>\n",
       "      <td>New York City, United States</td>\n",
       "      <td>Full Time</td>\n",
       "      <td>Mid-level</td>\n",
       "      <td>106K+</td>\n",
       "      <td>106000.0</td>\n",
       "      <td>False</td>\n",
       "      <td>Bayesian,Classification,Clustering,Data analys...</td>\n",
       "      <td>Career development,Health care,,,</td>\n",
       "    </tr>\n",
       "    <tr>\n",
       "      <th>3192</th>\n",
       "      <td>DoorDash</td>\n",
       "      <td>Senior Software Engineer, Machine Learning - A...</td>\n",
       "      <td>Sunnyvale, CA; San Francisco, CA; New York</td>\n",
       "      <td>Full Time</td>\n",
       "      <td>Senior-level</td>\n",
       "      <td>176K+</td>\n",
       "      <td>176000.0</td>\n",
       "      <td>False</td>\n",
       "      <td>Computer Science,Data analysis,Engineering,Exc...</td>\n",
       "      <td>401(k) matching,Career development,Equity,Insu...</td>\n",
       "    </tr>\n",
       "    <tr>\n",
       "      <th>3193</th>\n",
       "      <td>Western Digital</td>\n",
       "      <td>Data Scientist - New College Graduate</td>\n",
       "      <td>Biñan, Philippines</td>\n",
       "      <td>Full Time</td>\n",
       "      <td>Entry-level</td>\n",
       "      <td>39K+ *</td>\n",
       "      <td>39000.0</td>\n",
       "      <td>True</td>\n",
       "      <td>APIs,Clustering,Computer Science,Data visualiz...</td>\n",
       "      <td>Career development,,,,</td>\n",
       "    </tr>\n",
       "    <tr>\n",
       "      <th>3196</th>\n",
       "      <td>ATB Financial</td>\n",
       "      <td>Data Scientist</td>\n",
       "      <td>Edmonton, Alberta, Canada</td>\n",
       "      <td>Full Time</td>\n",
       "      <td>Entry-level</td>\n",
       "      <td>39K+ *</td>\n",
       "      <td>39000.0</td>\n",
       "      <td>True</td>\n",
       "      <td>Computer Science,Data Analytics,Data Mining,Ec...</td>\n",
       "      <td>Career development,Startup environment,,,</td>\n",
       "    </tr>\n",
       "  </tbody>\n",
       "</table>\n",
       "<p>2995 rows × 10 columns</p>\n",
       "</div>"
      ],
      "text/plain": [
       "              Company                                          Job Title   \n",
       "0                 SGS                              Clinical Data Analyst  \\\n",
       "1             Ocorian                             AML/CFT & Data Analyst   \n",
       "2              Cricut                          Machine Learning Engineer   \n",
       "3         Bosch Group               Application Developer & Data Analyst   \n",
       "4     Publicis Groupe        Data Engineer Full time (Public Sector) USA   \n",
       "...               ...                                                ...   \n",
       "3190             CCRi  Application Integration Engineer, Computer Vis...   \n",
       "3191  Publicis Groupe                   Associate Director, Data Science   \n",
       "3192         DoorDash  Senior Software Engineer, Machine Learning - A...   \n",
       "3193  Western Digital              Data Scientist - New College Graduate   \n",
       "3196    ATB Financial                                     Data Scientist   \n",
       "\n",
       "                                          Location   Job Type   \n",
       "0                    Richardson, TX, United States  Full Time  \\\n",
       "1                                 Ebène, Mauritius  Full Time   \n",
       "2                  South Jordan, UT, United States  Full Time   \n",
       "3                                 Nonantola, Italy  Full Time   \n",
       "4                     Arlington, VA, United States  Full Time   \n",
       "...                                            ...        ...   \n",
       "3190            Chantilly, Virginia, United States  Full Time   \n",
       "3191                  New York City, United States  Full Time   \n",
       "3192  Sunnyvale, CA; San Francisco, CA; New York \n",
       "  Full Time   \n",
       "3193                            Biñan, Philippines  Full Time   \n",
       "3196                     Edmonton, Alberta, Canada  Full Time   \n",
       "\n",
       "     Experience level   Salary  Min_Salary_Year Salary_conditions   \n",
       "0         Entry-level   48K+ *          48000.0              True  \\\n",
       "1         Entry-level   48K+ *          48000.0              True   \n",
       "2       Not-Specified   90K+ *          90000.0              True   \n",
       "3         Entry-level   48K+ *          48000.0              True   \n",
       "4           Mid-level    108K+         108000.0             False   \n",
       "...               ...      ...              ...               ...   \n",
       "3190        Mid-level    113K+         113000.0             False   \n",
       "3191        Mid-level    106K+         106000.0             False   \n",
       "3192     Senior-level    176K+         176000.0             False   \n",
       "3193      Entry-level   39K+ *          39000.0              True   \n",
       "3196      Entry-level   39K+ *          39000.0              True   \n",
       "\n",
       "                             Requirment of the company    \n",
       "0     Computer Science,Data quality,Genetics,Mathema...  \\\n",
       "1              Agile,Data management,Finance,Security,,   \n",
       "2     Agile,Architecture,AWS,Computer Science,Comput...   \n",
       "3          Engineering,Industrial,Oracle,Power BI,R,R&D   \n",
       "4     AWS,Azure,Computer Science,Consulting,Dataflow...   \n",
       "...                                                 ...   \n",
       "3190          Agile,Angular,APIs,Architecture,AWS,Azure   \n",
       "3191  Bayesian,Classification,Clustering,Data analys...   \n",
       "3192  Computer Science,Data analysis,Engineering,Exc...   \n",
       "3193  APIs,Clustering,Computer Science,Data visualiz...   \n",
       "3196  Computer Science,Data Analytics,Data Mining,Ec...   \n",
       "\n",
       "                                             Facilities  \n",
       "0                                                  ,,,,  \n",
       "1                                                  ,,,,  \n",
       "2                                Career development,,,,  \n",
       "3                                                  ,,,,  \n",
       "4     Flex hours,Flex vacation,Parental leave,Unlimi...  \n",
       "...                                                 ...  \n",
       "3190  401(k) matching,Career development,Flex hours,...  \n",
       "3191                  Career development,Health care,,,  \n",
       "3192  401(k) matching,Career development,Equity,Insu...  \n",
       "3193                             Career development,,,,  \n",
       "3196          Career development,Startup environment,,,  \n",
       "\n",
       "[2995 rows x 10 columns]"
      ]
     },
     "execution_count": 248,
     "metadata": {},
     "output_type": "execute_result"
    }
   ],
   "source": [
    "# check if salary has Asterisk (*) or not \n",
    "df_clean['Salary_conditions'] = df_clean['Salary'].str.endswith('*')\n",
    "Salary_condition = df_clean.pop('Salary_conditions')\n",
    "df_clean.insert(7, 'Salary_conditions', Salary_condition)\n",
    "df_clean\n"
   ]
  },
  {
   "cell_type": "code",
   "execution_count": 249,
   "metadata": {},
   "outputs": [
    {
     "data": {
      "text/html": [
       "<div>\n",
       "<style scoped>\n",
       "    .dataframe tbody tr th:only-of-type {\n",
       "        vertical-align: middle;\n",
       "    }\n",
       "\n",
       "    .dataframe tbody tr th {\n",
       "        vertical-align: top;\n",
       "    }\n",
       "\n",
       "    .dataframe thead th {\n",
       "        text-align: right;\n",
       "    }\n",
       "</style>\n",
       "<table border=\"1\" class=\"dataframe\">\n",
       "  <thead>\n",
       "    <tr style=\"text-align: right;\">\n",
       "      <th></th>\n",
       "      <th>Company</th>\n",
       "      <th>Job Title</th>\n",
       "      <th>Location</th>\n",
       "      <th>Job Type</th>\n",
       "      <th>Experience level</th>\n",
       "      <th>Salary</th>\n",
       "      <th>Min_Salary_Year</th>\n",
       "      <th>Salary_conditions</th>\n",
       "      <th>Requirment of the company</th>\n",
       "      <th>Facilities</th>\n",
       "    </tr>\n",
       "  </thead>\n",
       "  <tbody>\n",
       "    <tr>\n",
       "      <th>39</th>\n",
       "      <td>Angi</td>\n",
       "      <td>Senior Data Scientist</td>\n",
       "      <td>Indianapolis, IN - Hybrid</td>\n",
       "      <td>Full Time</td>\n",
       "      <td>Senior-level</td>\n",
       "      <td>NaN</td>\n",
       "      <td>NaN</td>\n",
       "      <td>NaN</td>\n",
       "      <td>Big Data,Data Mining,Machine Learning,Mathemat...</td>\n",
       "      <td>401(k) matching,Career development,Competitive...</td>\n",
       "    </tr>\n",
       "    <tr>\n",
       "      <th>44</th>\n",
       "      <td>REWE International Dienstleistungsgesellschaft...</td>\n",
       "      <td>Junior Data Science Engineer (m/w/x)</td>\n",
       "      <td>Wien, Austria</td>\n",
       "      <td>Full Time</td>\n",
       "      <td>Entry-level</td>\n",
       "      <td>NaN</td>\n",
       "      <td>NaN</td>\n",
       "      <td>NaN</td>\n",
       "      <td>CI/CD,Computer Science,Data pipelines,Deep Lea...</td>\n",
       "      <td>,,,,</td>\n",
       "    </tr>\n",
       "    <tr>\n",
       "      <th>75</th>\n",
       "      <td>Metiora</td>\n",
       "      <td>Data Analyst Intern</td>\n",
       "      <td>Madrid, Spain</td>\n",
       "      <td>Full Time</td>\n",
       "      <td>Entry-level</td>\n",
       "      <td>NaN</td>\n",
       "      <td>NaN</td>\n",
       "      <td>NaN</td>\n",
       "      <td>Matplotlib,MongoDB,NumPy,Pandas,Power BI,Python</td>\n",
       "      <td>,,,,</td>\n",
       "    </tr>\n",
       "    <tr>\n",
       "      <th>87</th>\n",
       "      <td>Civis Analytics</td>\n",
       "      <td>Lead Applied Data Scientist (Experience with M...</td>\n",
       "      <td>Remote</td>\n",
       "      <td>Full Time</td>\n",
       "      <td>Senior-level</td>\n",
       "      <td>NaN</td>\n",
       "      <td>NaN</td>\n",
       "      <td>NaN</td>\n",
       "      <td>Causal inference,Computer Science,Consulting,D...</td>\n",
       "      <td>401(k) matching,Career development,Competitive...</td>\n",
       "    </tr>\n",
       "    <tr>\n",
       "      <th>168</th>\n",
       "      <td>Faraday Future</td>\n",
       "      <td>Senior Big Data Engineer</td>\n",
       "      <td>San Jose, California, United States</td>\n",
       "      <td>Full Time</td>\n",
       "      <td>Senior-level</td>\n",
       "      <td>NaN</td>\n",
       "      <td>NaN</td>\n",
       "      <td>NaN</td>\n",
       "      <td>Airflow,AWS,Azure,Big Data,Computer Science,Da...</td>\n",
       "      <td>Equity,Relocation support,,,</td>\n",
       "    </tr>\n",
       "    <tr>\n",
       "      <th>...</th>\n",
       "      <td>...</td>\n",
       "      <td>...</td>\n",
       "      <td>...</td>\n",
       "      <td>...</td>\n",
       "      <td>...</td>\n",
       "      <td>...</td>\n",
       "      <td>...</td>\n",
       "      <td>...</td>\n",
       "      <td>...</td>\n",
       "      <td>...</td>\n",
       "    </tr>\n",
       "    <tr>\n",
       "      <th>2969</th>\n",
       "      <td>The Allen Institute for AI</td>\n",
       "      <td>Research Engineer - AllenNLP</td>\n",
       "      <td>Seattle, WA</td>\n",
       "      <td>Full Time</td>\n",
       "      <td>Entry-level</td>\n",
       "      <td>NaN</td>\n",
       "      <td>NaN</td>\n",
       "      <td>NaN</td>\n",
       "      <td>Architecture,Computer Science,Data analysis,De...</td>\n",
       "      <td>401(k) matching,Career development,Flex hours,...</td>\n",
       "    </tr>\n",
       "    <tr>\n",
       "      <th>3080</th>\n",
       "      <td>DuckDuckGo</td>\n",
       "      <td>Senior Backend Engineer, AI</td>\n",
       "      <td>Remote job</td>\n",
       "      <td>Full Time</td>\n",
       "      <td>Senior-level</td>\n",
       "      <td>NaN</td>\n",
       "      <td>NaN</td>\n",
       "      <td>NaN</td>\n",
       "      <td>Engineering,Genetics,Machine Learning,ML model...</td>\n",
       "      <td>Career development,Equity,Flex hours,Flex vaca...</td>\n",
       "    </tr>\n",
       "    <tr>\n",
       "      <th>3109</th>\n",
       "      <td>METRO/MAKRO</td>\n",
       "      <td>STAGE 6 mois - Data Scientist Junior H/F</td>\n",
       "      <td>Nanterre, France</td>\n",
       "      <td>Full Time</td>\n",
       "      <td>Entry-level</td>\n",
       "      <td>NaN</td>\n",
       "      <td>NaN</td>\n",
       "      <td>NaN</td>\n",
       "      <td>Big Data,Power BI,Python,R,SQL,</td>\n",
       "      <td>,,,,</td>\n",
       "    </tr>\n",
       "    <tr>\n",
       "      <th>3152</th>\n",
       "      <td>Lely</td>\n",
       "      <td>Stage: Computer Science, Robotics, Computer Vi...</td>\n",
       "      <td>Maassluis, Netherlands</td>\n",
       "      <td>Full Time</td>\n",
       "      <td>Entry-level</td>\n",
       "      <td>NaN</td>\n",
       "      <td>NaN</td>\n",
       "      <td>NaN</td>\n",
       "      <td>Computer Science,Computer Vision,Engineering,O...</td>\n",
       "      <td>,,,,</td>\n",
       "    </tr>\n",
       "    <tr>\n",
       "      <th>3166</th>\n",
       "      <td>DNSFilter</td>\n",
       "      <td>Senior Data Scientist</td>\n",
       "      <td>Washington, District of Columbia, United State...</td>\n",
       "      <td>Full Time</td>\n",
       "      <td>Mid-level</td>\n",
       "      <td>NaN</td>\n",
       "      <td>NaN</td>\n",
       "      <td>NaN</td>\n",
       "      <td>AWS,Computer Science,Data analysis,Data visual...</td>\n",
       "      <td>Career development,Flex hours,Flex vacation,He...</td>\n",
       "    </tr>\n",
       "  </tbody>\n",
       "</table>\n",
       "<p>99 rows × 10 columns</p>\n",
       "</div>"
      ],
      "text/plain": [
       "                                                Company   \n",
       "39                                                 Angi  \\\n",
       "44    REWE International Dienstleistungsgesellschaft...   \n",
       "75                                              Metiora   \n",
       "87                                      Civis Analytics   \n",
       "168                                      Faraday Future   \n",
       "...                                                 ...   \n",
       "2969                         The Allen Institute for AI   \n",
       "3080                                         DuckDuckGo   \n",
       "3109                                        METRO/MAKRO   \n",
       "3152                                               Lely   \n",
       "3166                                          DNSFilter   \n",
       "\n",
       "                                              Job Title   \n",
       "39                                Senior Data Scientist  \\\n",
       "44                 Junior Data Science Engineer (m/w/x)   \n",
       "75                                  Data Analyst Intern   \n",
       "87    Lead Applied Data Scientist (Experience with M...   \n",
       "168                            Senior Big Data Engineer   \n",
       "...                                                 ...   \n",
       "2969                       Research Engineer - AllenNLP   \n",
       "3080                        Senior Backend Engineer, AI   \n",
       "3109           STAGE 6 mois - Data Scientist Junior H/F   \n",
       "3152  Stage: Computer Science, Robotics, Computer Vi...   \n",
       "3166                              Senior Data Scientist   \n",
       "\n",
       "                                               Location   Job Type   \n",
       "39                            Indianapolis, IN - Hybrid  Full Time  \\\n",
       "44                                        Wien, Austria  Full Time   \n",
       "75                                        Madrid, Spain  Full Time   \n",
       "87                                               Remote  Full Time   \n",
       "168                 San Jose, California, United States  Full Time   \n",
       "...                                                 ...        ...   \n",
       "2969                                        Seattle, WA  Full Time   \n",
       "3080                                         Remote job  Full Time   \n",
       "3109                                   Nanterre, France  Full Time   \n",
       "3152                             Maassluis, Netherlands  Full Time   \n",
       "3166  Washington, District of Columbia, United State...  Full Time   \n",
       "\n",
       "     Experience level Salary  Min_Salary_Year Salary_conditions   \n",
       "39       Senior-level    NaN              NaN               NaN  \\\n",
       "44        Entry-level    NaN              NaN               NaN   \n",
       "75        Entry-level    NaN              NaN               NaN   \n",
       "87       Senior-level    NaN              NaN               NaN   \n",
       "168      Senior-level    NaN              NaN               NaN   \n",
       "...               ...    ...              ...               ...   \n",
       "2969      Entry-level    NaN              NaN               NaN   \n",
       "3080     Senior-level    NaN              NaN               NaN   \n",
       "3109      Entry-level    NaN              NaN               NaN   \n",
       "3152      Entry-level    NaN              NaN               NaN   \n",
       "3166        Mid-level    NaN              NaN               NaN   \n",
       "\n",
       "                             Requirment of the company    \n",
       "39    Big Data,Data Mining,Machine Learning,Mathemat...  \\\n",
       "44    CI/CD,Computer Science,Data pipelines,Deep Lea...   \n",
       "75      Matplotlib,MongoDB,NumPy,Pandas,Power BI,Python   \n",
       "87    Causal inference,Computer Science,Consulting,D...   \n",
       "168   Airflow,AWS,Azure,Big Data,Computer Science,Da...   \n",
       "...                                                 ...   \n",
       "2969  Architecture,Computer Science,Data analysis,De...   \n",
       "3080  Engineering,Genetics,Machine Learning,ML model...   \n",
       "3109                    Big Data,Power BI,Python,R,SQL,   \n",
       "3152  Computer Science,Computer Vision,Engineering,O...   \n",
       "3166  AWS,Computer Science,Data analysis,Data visual...   \n",
       "\n",
       "                                             Facilities  \n",
       "39    401(k) matching,Career development,Competitive...  \n",
       "44                                                 ,,,,  \n",
       "75                                                 ,,,,  \n",
       "87    401(k) matching,Career development,Competitive...  \n",
       "168                        Equity,Relocation support,,,  \n",
       "...                                                 ...  \n",
       "2969  401(k) matching,Career development,Flex hours,...  \n",
       "3080  Career development,Equity,Flex hours,Flex vaca...  \n",
       "3109                                               ,,,,  \n",
       "3152                                               ,,,,  \n",
       "3166  Career development,Flex hours,Flex vacation,He...  \n",
       "\n",
       "[99 rows x 10 columns]"
      ]
     },
     "execution_count": 249,
     "metadata": {},
     "output_type": "execute_result"
    }
   ],
   "source": [
    "# Save jobs without salary and delete it from the main df \n",
    "df_clean_sana = df_clean[df_clean['Salary'].isna()]\n",
    "df_clean_sana"
   ]
  },
  {
   "cell_type": "code",
   "execution_count": 250,
   "metadata": {},
   "outputs": [
    {
     "data": {
      "text/html": [
       "<div>\n",
       "<style scoped>\n",
       "    .dataframe tbody tr th:only-of-type {\n",
       "        vertical-align: middle;\n",
       "    }\n",
       "\n",
       "    .dataframe tbody tr th {\n",
       "        vertical-align: top;\n",
       "    }\n",
       "\n",
       "    .dataframe thead th {\n",
       "        text-align: right;\n",
       "    }\n",
       "</style>\n",
       "<table border=\"1\" class=\"dataframe\">\n",
       "  <thead>\n",
       "    <tr style=\"text-align: right;\">\n",
       "      <th></th>\n",
       "      <th>Company</th>\n",
       "      <th>Job Title</th>\n",
       "      <th>Location</th>\n",
       "      <th>Job Type</th>\n",
       "      <th>Experience level</th>\n",
       "      <th>Salary</th>\n",
       "      <th>Min_Salary_Year</th>\n",
       "      <th>Salary_conditions</th>\n",
       "      <th>Requirment of the company</th>\n",
       "      <th>Facilities</th>\n",
       "    </tr>\n",
       "  </thead>\n",
       "  <tbody>\n",
       "  </tbody>\n",
       "</table>\n",
       "</div>"
      ],
      "text/plain": [
       "Empty DataFrame\n",
       "Columns: [Company, Job Title, Location, Job Type, Experience level, Salary, Min_Salary_Year, Salary_conditions, Requirment of the company , Facilities]\n",
       "Index: []"
      ]
     },
     "execution_count": 250,
     "metadata": {},
     "output_type": "execute_result"
    }
   ],
   "source": [
    "df_clean = df_clean.dropna(subset=['Salary'])\n",
    "df_clean[df_clean['Salary'].isna()]"
   ]
  },
  {
   "cell_type": "code",
   "execution_count": 251,
   "metadata": {},
   "outputs": [
    {
     "data": {
      "text/html": [
       "<div>\n",
       "<style scoped>\n",
       "    .dataframe tbody tr th:only-of-type {\n",
       "        vertical-align: middle;\n",
       "    }\n",
       "\n",
       "    .dataframe tbody tr th {\n",
       "        vertical-align: top;\n",
       "    }\n",
       "\n",
       "    .dataframe thead th {\n",
       "        text-align: right;\n",
       "    }\n",
       "</style>\n",
       "<table border=\"1\" class=\"dataframe\">\n",
       "  <thead>\n",
       "    <tr style=\"text-align: right;\">\n",
       "      <th></th>\n",
       "      <th>Company</th>\n",
       "      <th>Job Title</th>\n",
       "      <th>Location</th>\n",
       "      <th>Job Type</th>\n",
       "      <th>Experience level</th>\n",
       "      <th>Salary</th>\n",
       "      <th>Min_Salary_Year</th>\n",
       "      <th>Salary_conditions</th>\n",
       "      <th>Requirment of the company</th>\n",
       "      <th>Facilities</th>\n",
       "    </tr>\n",
       "  </thead>\n",
       "  <tbody>\n",
       "    <tr>\n",
       "      <th>7</th>\n",
       "      <td>NielsenIQ</td>\n",
       "      <td>Intern (Business Intelligence Service Support)</td>\n",
       "      <td>Bangkok, Thailand</td>\n",
       "      <td>Internship</td>\n",
       "      <td>Entry-level</td>\n",
       "      <td>0</td>\n",
       "      <td>0.0</td>\n",
       "      <td>NaN</td>\n",
       "      <td>Business Intelligence,Excel,Genetics,,,</td>\n",
       "      <td>,,,,</td>\n",
       "    </tr>\n",
       "    <tr>\n",
       "      <th>8</th>\n",
       "      <td>Western Digital</td>\n",
       "      <td>Summer 2023 Data Engineering Intern</td>\n",
       "      <td>San Jose, CA, United States</td>\n",
       "      <td>Internship</td>\n",
       "      <td>Entry-level</td>\n",
       "      <td>0</td>\n",
       "      <td>0.0</td>\n",
       "      <td>NaN</td>\n",
       "      <td>Big Data,Computer Science,Engineering,Machine ...</td>\n",
       "      <td>Career development,Competitive pay,Equity,Flex...</td>\n",
       "    </tr>\n",
       "    <tr>\n",
       "      <th>170</th>\n",
       "      <td>Wallbox</td>\n",
       "      <td>Analytics Engineer Intern</td>\n",
       "      <td>Barcelona, Catalonia, Spain</td>\n",
       "      <td>Internship</td>\n",
       "      <td>Entry-level</td>\n",
       "      <td>0</td>\n",
       "      <td>0.0</td>\n",
       "      <td>NaN</td>\n",
       "      <td>Airflow,BigQuery,CI/CD,Databricks,Data quality...</td>\n",
       "      <td>Career development,Flex hours,Team events,,</td>\n",
       "    </tr>\n",
       "    <tr>\n",
       "      <th>213</th>\n",
       "      <td>Bosch Group</td>\n",
       "      <td>Data Management Internship</td>\n",
       "      <td>Beograd, Serbia</td>\n",
       "      <td>Internship</td>\n",
       "      <td>Entry-level</td>\n",
       "      <td>0</td>\n",
       "      <td>0.0</td>\n",
       "      <td>NaN</td>\n",
       "      <td>Computer Science,Data management,Engineering,E...</td>\n",
       "      <td>Flex hours,,,,</td>\n",
       "    </tr>\n",
       "    <tr>\n",
       "      <th>217</th>\n",
       "      <td>Wallbox</td>\n",
       "      <td>Data Analyst Intern</td>\n",
       "      <td>Barcelona, Catalonia, Spain</td>\n",
       "      <td>Internship</td>\n",
       "      <td>Entry-level</td>\n",
       "      <td>0</td>\n",
       "      <td>0.0</td>\n",
       "      <td>NaN</td>\n",
       "      <td>Economics,Engineering,Machine Learning,Mathema...</td>\n",
       "      <td>Career development,Flex hours,Team events,,</td>\n",
       "    </tr>\n",
       "    <tr>\n",
       "      <th>...</th>\n",
       "      <td>...</td>\n",
       "      <td>...</td>\n",
       "      <td>...</td>\n",
       "      <td>...</td>\n",
       "      <td>...</td>\n",
       "      <td>...</td>\n",
       "      <td>...</td>\n",
       "      <td>...</td>\n",
       "      <td>...</td>\n",
       "      <td>...</td>\n",
       "    </tr>\n",
       "    <tr>\n",
       "      <th>2884</th>\n",
       "      <td>Plantix</td>\n",
       "      <td>Data Analyst Intern</td>\n",
       "      <td>Indore, India</td>\n",
       "      <td>Internship</td>\n",
       "      <td>Entry-level</td>\n",
       "      <td>0</td>\n",
       "      <td>0.0</td>\n",
       "      <td>NaN</td>\n",
       "      <td>Computer Science,Data analysis,Data Analytics,...</td>\n",
       "      <td>,,,,</td>\n",
       "    </tr>\n",
       "    <tr>\n",
       "      <th>3073</th>\n",
       "      <td>Definitive Logic</td>\n",
       "      <td>Data Science Intern</td>\n",
       "      <td>Arlington, VA</td>\n",
       "      <td>Internship</td>\n",
       "      <td>Entry-level</td>\n",
       "      <td>0</td>\n",
       "      <td>0.0</td>\n",
       "      <td>NaN</td>\n",
       "      <td>Big Data,Consulting,Consulting firm,Data analy...</td>\n",
       "      <td>Career development,Competitive pay,Flex hours,...</td>\n",
       "    </tr>\n",
       "    <tr>\n",
       "      <th>3107</th>\n",
       "      <td>Barbaricum</td>\n",
       "      <td>AI Intern (ChatGPT Specialist)</td>\n",
       "      <td>Remote</td>\n",
       "      <td>Internship</td>\n",
       "      <td>Entry-level</td>\n",
       "      <td>0</td>\n",
       "      <td>0.0</td>\n",
       "      <td>NaN</td>\n",
       "      <td>APIs,ChatGPT,Engineering,GPT,GPT-3,GPT-4</td>\n",
       "      <td>Career development,,,,</td>\n",
       "    </tr>\n",
       "    <tr>\n",
       "      <th>3134</th>\n",
       "      <td>Junglee Games</td>\n",
       "      <td>ETL and Data Warehouse Testing Intern</td>\n",
       "      <td>Bengaluru, Karnataka, India</td>\n",
       "      <td>Internship</td>\n",
       "      <td>Entry-level</td>\n",
       "      <td>0</td>\n",
       "      <td>0.0</td>\n",
       "      <td>NaN</td>\n",
       "      <td>Computer Science,Data quality,Data warehouse,E...</td>\n",
       "      <td>,,,,</td>\n",
       "    </tr>\n",
       "    <tr>\n",
       "      <th>3159</th>\n",
       "      <td>Deezer</td>\n",
       "      <td>Data Analyst Intern m/f/d - Business</td>\n",
       "      <td>Paris, France</td>\n",
       "      <td>Internship</td>\n",
       "      <td>Entry-level</td>\n",
       "      <td>0</td>\n",
       "      <td>0.0</td>\n",
       "      <td>NaN</td>\n",
       "      <td>Data analysis,Data pipelines,Data visualizatio...</td>\n",
       "      <td>Career development,Health care,Insurance,Start...</td>\n",
       "    </tr>\n",
       "  </tbody>\n",
       "</table>\n",
       "<p>72 rows × 10 columns</p>\n",
       "</div>"
      ],
      "text/plain": [
       "               Company                                       Job Title   \n",
       "7            NielsenIQ  Intern (Business Intelligence Service Support)  \\\n",
       "8      Western Digital             Summer 2023 Data Engineering Intern   \n",
       "170            Wallbox                       Analytics Engineer Intern   \n",
       "213        Bosch Group                      Data Management Internship   \n",
       "217            Wallbox                             Data Analyst Intern   \n",
       "...                ...                                             ...   \n",
       "2884           Plantix                             Data Analyst Intern   \n",
       "3073  Definitive Logic                             Data Science Intern   \n",
       "3107        Barbaricum                  AI Intern (ChatGPT Specialist)   \n",
       "3134     Junglee Games           ETL and Data Warehouse Testing Intern   \n",
       "3159            Deezer            Data Analyst Intern m/f/d - Business   \n",
       "\n",
       "                         Location    Job Type Experience level Salary   \n",
       "7               Bangkok, Thailand  Internship      Entry-level      0  \\\n",
       "8     San Jose, CA, United States  Internship      Entry-level      0   \n",
       "170   Barcelona, Catalonia, Spain  Internship      Entry-level      0   \n",
       "213               Beograd, Serbia  Internship      Entry-level      0   \n",
       "217   Barcelona, Catalonia, Spain  Internship      Entry-level      0   \n",
       "...                           ...         ...              ...    ...   \n",
       "2884                Indore, India  Internship      Entry-level      0   \n",
       "3073                Arlington, VA  Internship      Entry-level      0   \n",
       "3107                       Remote  Internship      Entry-level      0   \n",
       "3134  Bengaluru, Karnataka, India  Internship      Entry-level      0   \n",
       "3159                Paris, France  Internship      Entry-level      0   \n",
       "\n",
       "      Min_Salary_Year Salary_conditions   \n",
       "7                 0.0               NaN  \\\n",
       "8                 0.0               NaN   \n",
       "170               0.0               NaN   \n",
       "213               0.0               NaN   \n",
       "217               0.0               NaN   \n",
       "...               ...               ...   \n",
       "2884              0.0               NaN   \n",
       "3073              0.0               NaN   \n",
       "3107              0.0               NaN   \n",
       "3134              0.0               NaN   \n",
       "3159              0.0               NaN   \n",
       "\n",
       "                             Requirment of the company    \n",
       "7               Business Intelligence,Excel,Genetics,,,  \\\n",
       "8     Big Data,Computer Science,Engineering,Machine ...   \n",
       "170   Airflow,BigQuery,CI/CD,Databricks,Data quality...   \n",
       "213   Computer Science,Data management,Engineering,E...   \n",
       "217   Economics,Engineering,Machine Learning,Mathema...   \n",
       "...                                                 ...   \n",
       "2884  Computer Science,Data analysis,Data Analytics,...   \n",
       "3073  Big Data,Consulting,Consulting firm,Data analy...   \n",
       "3107           APIs,ChatGPT,Engineering,GPT,GPT-3,GPT-4   \n",
       "3134  Computer Science,Data quality,Data warehouse,E...   \n",
       "3159  Data analysis,Data pipelines,Data visualizatio...   \n",
       "\n",
       "                                             Facilities  \n",
       "7                                                  ,,,,  \n",
       "8     Career development,Competitive pay,Equity,Flex...  \n",
       "170         Career development,Flex hours,Team events,,  \n",
       "213                                      Flex hours,,,,  \n",
       "217         Career development,Flex hours,Team events,,  \n",
       "...                                                 ...  \n",
       "2884                                               ,,,,  \n",
       "3073  Career development,Competitive pay,Flex hours,...  \n",
       "3107                             Career development,,,,  \n",
       "3134                                               ,,,,  \n",
       "3159  Career development,Health care,Insurance,Start...  \n",
       "\n",
       "[72 rows x 10 columns]"
      ]
     },
     "execution_count": 251,
     "metadata": {},
     "output_type": "execute_result"
    }
   ],
   "source": [
    "df_clean[df_clean['Salary_conditions'].isna()]\n",
    "# the result is the rows of Internship so we could replace it by Flase"
   ]
  },
  {
   "cell_type": "code",
   "execution_count": 252,
   "metadata": {},
   "outputs": [
    {
     "name": "stderr",
     "output_type": "stream",
     "text": [
      "C:\\Users\\Youcode\\AppData\\Local\\Temp\\ipykernel_21520\\4254370764.py:1: SettingWithCopyWarning:\n",
      "\n",
      "\n",
      "A value is trying to be set on a copy of a slice from a DataFrame.\n",
      "Try using .loc[row_indexer,col_indexer] = value instead\n",
      "\n",
      "See the caveats in the documentation: https://pandas.pydata.org/pandas-docs/stable/user_guide/indexing.html#returning-a-view-versus-a-copy\n",
      "\n"
     ]
    },
    {
     "data": {
      "text/html": [
       "<div>\n",
       "<style scoped>\n",
       "    .dataframe tbody tr th:only-of-type {\n",
       "        vertical-align: middle;\n",
       "    }\n",
       "\n",
       "    .dataframe tbody tr th {\n",
       "        vertical-align: top;\n",
       "    }\n",
       "\n",
       "    .dataframe thead th {\n",
       "        text-align: right;\n",
       "    }\n",
       "</style>\n",
       "<table border=\"1\" class=\"dataframe\">\n",
       "  <thead>\n",
       "    <tr style=\"text-align: right;\">\n",
       "      <th></th>\n",
       "      <th>Company</th>\n",
       "      <th>Job Title</th>\n",
       "      <th>Location</th>\n",
       "      <th>Job Type</th>\n",
       "      <th>Experience level</th>\n",
       "      <th>Salary</th>\n",
       "      <th>Min_Salary_Year</th>\n",
       "      <th>Salary_conditions</th>\n",
       "      <th>Requirment of the company</th>\n",
       "      <th>Facilities</th>\n",
       "    </tr>\n",
       "  </thead>\n",
       "  <tbody>\n",
       "    <tr>\n",
       "      <th>0</th>\n",
       "      <td>SGS</td>\n",
       "      <td>Clinical Data Analyst</td>\n",
       "      <td>Richardson, TX, United States</td>\n",
       "      <td>Full Time</td>\n",
       "      <td>Entry-level</td>\n",
       "      <td>48K+ *</td>\n",
       "      <td>48000.0</td>\n",
       "      <td>True</td>\n",
       "      <td>Computer Science,Data quality,Genetics,Mathema...</td>\n",
       "      <td>,,,,</td>\n",
       "    </tr>\n",
       "    <tr>\n",
       "      <th>1</th>\n",
       "      <td>Ocorian</td>\n",
       "      <td>AML/CFT &amp; Data Analyst</td>\n",
       "      <td>Ebène, Mauritius</td>\n",
       "      <td>Full Time</td>\n",
       "      <td>Entry-level</td>\n",
       "      <td>48K+ *</td>\n",
       "      <td>48000.0</td>\n",
       "      <td>True</td>\n",
       "      <td>Agile,Data management,Finance,Security,,</td>\n",
       "      <td>,,,,</td>\n",
       "    </tr>\n",
       "    <tr>\n",
       "      <th>2</th>\n",
       "      <td>Cricut</td>\n",
       "      <td>Machine Learning Engineer</td>\n",
       "      <td>South Jordan, UT, United States</td>\n",
       "      <td>Full Time</td>\n",
       "      <td>Not-Specified</td>\n",
       "      <td>90K+ *</td>\n",
       "      <td>90000.0</td>\n",
       "      <td>True</td>\n",
       "      <td>Agile,Architecture,AWS,Computer Science,Comput...</td>\n",
       "      <td>Career development,,,,</td>\n",
       "    </tr>\n",
       "    <tr>\n",
       "      <th>3</th>\n",
       "      <td>Bosch Group</td>\n",
       "      <td>Application Developer &amp; Data Analyst</td>\n",
       "      <td>Nonantola, Italy</td>\n",
       "      <td>Full Time</td>\n",
       "      <td>Entry-level</td>\n",
       "      <td>48K+ *</td>\n",
       "      <td>48000.0</td>\n",
       "      <td>True</td>\n",
       "      <td>Engineering,Industrial,Oracle,Power BI,R,R&amp;D</td>\n",
       "      <td>,,,,</td>\n",
       "    </tr>\n",
       "    <tr>\n",
       "      <th>6</th>\n",
       "      <td>Natixis in Portugal</td>\n",
       "      <td>Vendor Management and Data Quality Lead</td>\n",
       "      <td>Porto, Portugal</td>\n",
       "      <td>Full Time</td>\n",
       "      <td>Entry-level</td>\n",
       "      <td>39K+ *</td>\n",
       "      <td>39000.0</td>\n",
       "      <td>True</td>\n",
       "      <td>Banking,Data quality,Excel,Security,,</td>\n",
       "      <td>Gear,,,,</td>\n",
       "    </tr>\n",
       "    <tr>\n",
       "      <th>...</th>\n",
       "      <td>...</td>\n",
       "      <td>...</td>\n",
       "      <td>...</td>\n",
       "      <td>...</td>\n",
       "      <td>...</td>\n",
       "      <td>...</td>\n",
       "      <td>...</td>\n",
       "      <td>...</td>\n",
       "      <td>...</td>\n",
       "      <td>...</td>\n",
       "    </tr>\n",
       "    <tr>\n",
       "      <th>3179</th>\n",
       "      <td>C3.ai</td>\n",
       "      <td>Lead Data Scientist - Healthcare</td>\n",
       "      <td>London, UK</td>\n",
       "      <td>Full Time</td>\n",
       "      <td>Senior-level</td>\n",
       "      <td>129K+ *</td>\n",
       "      <td>129000.0</td>\n",
       "      <td>True</td>\n",
       "      <td>Architecture,Classification,Computer Science,D...</td>\n",
       "      <td>Career development,Competitive pay,,,</td>\n",
       "    </tr>\n",
       "    <tr>\n",
       "      <th>3183</th>\n",
       "      <td>TripAdvisor</td>\n",
       "      <td>Senior Data Engineer - Martech (Viator)</td>\n",
       "      <td>London, United Kingdom</td>\n",
       "      <td>Full Time</td>\n",
       "      <td>Senior-level</td>\n",
       "      <td>115K+ *</td>\n",
       "      <td>115000.0</td>\n",
       "      <td>True</td>\n",
       "      <td>Airflow,APIs,Architecture,AWS,Business Intelli...</td>\n",
       "      <td>Career development,Competitive pay,Fitness / g...</td>\n",
       "    </tr>\n",
       "    <tr>\n",
       "      <th>3187</th>\n",
       "      <td>Marley Spoon</td>\n",
       "      <td>People Data Specialist</td>\n",
       "      <td>Lisbon, Lisbon, Portugal</td>\n",
       "      <td>Full Time</td>\n",
       "      <td>Mid-level</td>\n",
       "      <td>70K+ *</td>\n",
       "      <td>70000.0</td>\n",
       "      <td>True</td>\n",
       "      <td>Data analysis,Excel,Finance,,,</td>\n",
       "      <td>Career development,Equity,Flex hours,Flex vaca...</td>\n",
       "    </tr>\n",
       "    <tr>\n",
       "      <th>3193</th>\n",
       "      <td>Western Digital</td>\n",
       "      <td>Data Scientist - New College Graduate</td>\n",
       "      <td>Biñan, Philippines</td>\n",
       "      <td>Full Time</td>\n",
       "      <td>Entry-level</td>\n",
       "      <td>39K+ *</td>\n",
       "      <td>39000.0</td>\n",
       "      <td>True</td>\n",
       "      <td>APIs,Clustering,Computer Science,Data visualiz...</td>\n",
       "      <td>Career development,,,,</td>\n",
       "    </tr>\n",
       "    <tr>\n",
       "      <th>3196</th>\n",
       "      <td>ATB Financial</td>\n",
       "      <td>Data Scientist</td>\n",
       "      <td>Edmonton, Alberta, Canada</td>\n",
       "      <td>Full Time</td>\n",
       "      <td>Entry-level</td>\n",
       "      <td>39K+ *</td>\n",
       "      <td>39000.0</td>\n",
       "      <td>True</td>\n",
       "      <td>Computer Science,Data Analytics,Data Mining,Ec...</td>\n",
       "      <td>Career development,Startup environment,,,</td>\n",
       "    </tr>\n",
       "  </tbody>\n",
       "</table>\n",
       "<p>2261 rows × 10 columns</p>\n",
       "</div>"
      ],
      "text/plain": [
       "                  Company                                Job Title   \n",
       "0                     SGS                    Clinical Data Analyst  \\\n",
       "1                 Ocorian                   AML/CFT & Data Analyst   \n",
       "2                  Cricut                Machine Learning Engineer   \n",
       "3             Bosch Group     Application Developer & Data Analyst   \n",
       "6     Natixis in Portugal  Vendor Management and Data Quality Lead   \n",
       "...                   ...                                      ...   \n",
       "3179                C3.ai         Lead Data Scientist - Healthcare   \n",
       "3183          TripAdvisor  Senior Data Engineer - Martech (Viator)   \n",
       "3187         Marley Spoon                   People Data Specialist   \n",
       "3193      Western Digital    Data Scientist - New College Graduate   \n",
       "3196        ATB Financial                           Data Scientist   \n",
       "\n",
       "                             Location   Job Type Experience level    Salary   \n",
       "0       Richardson, TX, United States  Full Time      Entry-level    48K+ *  \\\n",
       "1                    Ebène, Mauritius  Full Time      Entry-level    48K+ *   \n",
       "2     South Jordan, UT, United States  Full Time    Not-Specified    90K+ *   \n",
       "3                    Nonantola, Italy  Full Time      Entry-level    48K+ *   \n",
       "6                     Porto, Portugal  Full Time      Entry-level    39K+ *   \n",
       "...                               ...        ...              ...       ...   \n",
       "3179                       London, UK  Full Time     Senior-level   129K+ *   \n",
       "3183           London, United Kingdom  Full Time     Senior-level   115K+ *   \n",
       "3187         Lisbon, Lisbon, Portugal  Full Time        Mid-level    70K+ *   \n",
       "3193               Biñan, Philippines  Full Time      Entry-level    39K+ *   \n",
       "3196        Edmonton, Alberta, Canada  Full Time      Entry-level    39K+ *   \n",
       "\n",
       "      Min_Salary_Year  Salary_conditions   \n",
       "0             48000.0               True  \\\n",
       "1             48000.0               True   \n",
       "2             90000.0               True   \n",
       "3             48000.0               True   \n",
       "6             39000.0               True   \n",
       "...               ...                ...   \n",
       "3179         129000.0               True   \n",
       "3183         115000.0               True   \n",
       "3187          70000.0               True   \n",
       "3193          39000.0               True   \n",
       "3196          39000.0               True   \n",
       "\n",
       "                             Requirment of the company    \n",
       "0     Computer Science,Data quality,Genetics,Mathema...  \\\n",
       "1              Agile,Data management,Finance,Security,,   \n",
       "2     Agile,Architecture,AWS,Computer Science,Comput...   \n",
       "3          Engineering,Industrial,Oracle,Power BI,R,R&D   \n",
       "6                 Banking,Data quality,Excel,Security,,   \n",
       "...                                                 ...   \n",
       "3179  Architecture,Classification,Computer Science,D...   \n",
       "3183  Airflow,APIs,Architecture,AWS,Business Intelli...   \n",
       "3187                     Data analysis,Excel,Finance,,,   \n",
       "3193  APIs,Clustering,Computer Science,Data visualiz...   \n",
       "3196  Computer Science,Data Analytics,Data Mining,Ec...   \n",
       "\n",
       "                                             Facilities  \n",
       "0                                                  ,,,,  \n",
       "1                                                  ,,,,  \n",
       "2                                Career development,,,,  \n",
       "3                                                  ,,,,  \n",
       "6                                              Gear,,,,  \n",
       "...                                                 ...  \n",
       "3179              Career development,Competitive pay,,,  \n",
       "3183  Career development,Competitive pay,Fitness / g...  \n",
       "3187  Career development,Equity,Flex hours,Flex vaca...  \n",
       "3193                             Career development,,,,  \n",
       "3196          Career development,Startup environment,,,  \n",
       "\n",
       "[2261 rows x 10 columns]"
      ]
     },
     "execution_count": 252,
     "metadata": {},
     "output_type": "execute_result"
    }
   ],
   "source": [
    "df_clean['Salary_conditions'] = df_clean['Salary_conditions'].fillna(False)\n",
    "df_clean[df_clean['Salary_conditions']]"
   ]
  },
  {
   "cell_type": "code",
   "execution_count": 253,
   "metadata": {},
   "outputs": [
    {
     "data": {
      "text/html": [
       "<div>\n",
       "<style scoped>\n",
       "    .dataframe tbody tr th:only-of-type {\n",
       "        vertical-align: middle;\n",
       "    }\n",
       "\n",
       "    .dataframe tbody tr th {\n",
       "        vertical-align: top;\n",
       "    }\n",
       "\n",
       "    .dataframe thead th {\n",
       "        text-align: right;\n",
       "    }\n",
       "</style>\n",
       "<table border=\"1\" class=\"dataframe\">\n",
       "  <thead>\n",
       "    <tr style=\"text-align: right;\">\n",
       "      <th></th>\n",
       "      <th>Company</th>\n",
       "      <th>Job Title</th>\n",
       "      <th>Location</th>\n",
       "      <th>Job Type</th>\n",
       "      <th>Experience level</th>\n",
       "      <th>Salary</th>\n",
       "      <th>Min_Salary_Year</th>\n",
       "      <th>Salary_conditions</th>\n",
       "      <th>Requirment of the company</th>\n",
       "      <th>Facilities</th>\n",
       "    </tr>\n",
       "  </thead>\n",
       "  <tbody>\n",
       "    <tr>\n",
       "      <th>7</th>\n",
       "      <td>NielsenIQ</td>\n",
       "      <td>Intern (Business Intelligence Service Support)</td>\n",
       "      <td>Bangkok, Thailand</td>\n",
       "      <td>Internship</td>\n",
       "      <td>Entry-level</td>\n",
       "      <td>0</td>\n",
       "      <td>0.0</td>\n",
       "      <td>False</td>\n",
       "      <td>Business Intelligence,Excel,Genetics,,,</td>\n",
       "      <td>,,,,</td>\n",
       "    </tr>\n",
       "    <tr>\n",
       "      <th>8</th>\n",
       "      <td>Western Digital</td>\n",
       "      <td>Summer 2023 Data Engineering Intern</td>\n",
       "      <td>San Jose, CA, United States</td>\n",
       "      <td>Internship</td>\n",
       "      <td>Entry-level</td>\n",
       "      <td>0</td>\n",
       "      <td>0.0</td>\n",
       "      <td>False</td>\n",
       "      <td>Big Data,Computer Science,Engineering,Machine ...</td>\n",
       "      <td>Career development,Competitive pay,Equity,Flex...</td>\n",
       "    </tr>\n",
       "    <tr>\n",
       "      <th>170</th>\n",
       "      <td>Wallbox</td>\n",
       "      <td>Analytics Engineer Intern</td>\n",
       "      <td>Barcelona, Catalonia, Spain</td>\n",
       "      <td>Internship</td>\n",
       "      <td>Entry-level</td>\n",
       "      <td>0</td>\n",
       "      <td>0.0</td>\n",
       "      <td>False</td>\n",
       "      <td>Airflow,BigQuery,CI/CD,Databricks,Data quality...</td>\n",
       "      <td>Career development,Flex hours,Team events,,</td>\n",
       "    </tr>\n",
       "    <tr>\n",
       "      <th>213</th>\n",
       "      <td>Bosch Group</td>\n",
       "      <td>Data Management Internship</td>\n",
       "      <td>Beograd, Serbia</td>\n",
       "      <td>Internship</td>\n",
       "      <td>Entry-level</td>\n",
       "      <td>0</td>\n",
       "      <td>0.0</td>\n",
       "      <td>False</td>\n",
       "      <td>Computer Science,Data management,Engineering,E...</td>\n",
       "      <td>Flex hours,,,,</td>\n",
       "    </tr>\n",
       "    <tr>\n",
       "      <th>217</th>\n",
       "      <td>Wallbox</td>\n",
       "      <td>Data Analyst Intern</td>\n",
       "      <td>Barcelona, Catalonia, Spain</td>\n",
       "      <td>Internship</td>\n",
       "      <td>Entry-level</td>\n",
       "      <td>0</td>\n",
       "      <td>0.0</td>\n",
       "      <td>False</td>\n",
       "      <td>Economics,Engineering,Machine Learning,Mathema...</td>\n",
       "      <td>Career development,Flex hours,Team events,,</td>\n",
       "    </tr>\n",
       "    <tr>\n",
       "      <th>...</th>\n",
       "      <td>...</td>\n",
       "      <td>...</td>\n",
       "      <td>...</td>\n",
       "      <td>...</td>\n",
       "      <td>...</td>\n",
       "      <td>...</td>\n",
       "      <td>...</td>\n",
       "      <td>...</td>\n",
       "      <td>...</td>\n",
       "      <td>...</td>\n",
       "    </tr>\n",
       "    <tr>\n",
       "      <th>2884</th>\n",
       "      <td>Plantix</td>\n",
       "      <td>Data Analyst Intern</td>\n",
       "      <td>Indore, India</td>\n",
       "      <td>Internship</td>\n",
       "      <td>Entry-level</td>\n",
       "      <td>0</td>\n",
       "      <td>0.0</td>\n",
       "      <td>False</td>\n",
       "      <td>Computer Science,Data analysis,Data Analytics,...</td>\n",
       "      <td>,,,,</td>\n",
       "    </tr>\n",
       "    <tr>\n",
       "      <th>3073</th>\n",
       "      <td>Definitive Logic</td>\n",
       "      <td>Data Science Intern</td>\n",
       "      <td>Arlington, VA</td>\n",
       "      <td>Internship</td>\n",
       "      <td>Entry-level</td>\n",
       "      <td>0</td>\n",
       "      <td>0.0</td>\n",
       "      <td>False</td>\n",
       "      <td>Big Data,Consulting,Consulting firm,Data analy...</td>\n",
       "      <td>Career development,Competitive pay,Flex hours,...</td>\n",
       "    </tr>\n",
       "    <tr>\n",
       "      <th>3107</th>\n",
       "      <td>Barbaricum</td>\n",
       "      <td>AI Intern (ChatGPT Specialist)</td>\n",
       "      <td>Remote</td>\n",
       "      <td>Internship</td>\n",
       "      <td>Entry-level</td>\n",
       "      <td>0</td>\n",
       "      <td>0.0</td>\n",
       "      <td>False</td>\n",
       "      <td>APIs,ChatGPT,Engineering,GPT,GPT-3,GPT-4</td>\n",
       "      <td>Career development,,,,</td>\n",
       "    </tr>\n",
       "    <tr>\n",
       "      <th>3134</th>\n",
       "      <td>Junglee Games</td>\n",
       "      <td>ETL and Data Warehouse Testing Intern</td>\n",
       "      <td>Bengaluru, Karnataka, India</td>\n",
       "      <td>Internship</td>\n",
       "      <td>Entry-level</td>\n",
       "      <td>0</td>\n",
       "      <td>0.0</td>\n",
       "      <td>False</td>\n",
       "      <td>Computer Science,Data quality,Data warehouse,E...</td>\n",
       "      <td>,,,,</td>\n",
       "    </tr>\n",
       "    <tr>\n",
       "      <th>3159</th>\n",
       "      <td>Deezer</td>\n",
       "      <td>Data Analyst Intern m/f/d - Business</td>\n",
       "      <td>Paris, France</td>\n",
       "      <td>Internship</td>\n",
       "      <td>Entry-level</td>\n",
       "      <td>0</td>\n",
       "      <td>0.0</td>\n",
       "      <td>False</td>\n",
       "      <td>Data analysis,Data pipelines,Data visualizatio...</td>\n",
       "      <td>Career development,Health care,Insurance,Start...</td>\n",
       "    </tr>\n",
       "  </tbody>\n",
       "</table>\n",
       "<p>72 rows × 10 columns</p>\n",
       "</div>"
      ],
      "text/plain": [
       "               Company                                       Job Title   \n",
       "7            NielsenIQ  Intern (Business Intelligence Service Support)  \\\n",
       "8      Western Digital             Summer 2023 Data Engineering Intern   \n",
       "170            Wallbox                       Analytics Engineer Intern   \n",
       "213        Bosch Group                      Data Management Internship   \n",
       "217            Wallbox                             Data Analyst Intern   \n",
       "...                ...                                             ...   \n",
       "2884           Plantix                             Data Analyst Intern   \n",
       "3073  Definitive Logic                             Data Science Intern   \n",
       "3107        Barbaricum                  AI Intern (ChatGPT Specialist)   \n",
       "3134     Junglee Games           ETL and Data Warehouse Testing Intern   \n",
       "3159            Deezer            Data Analyst Intern m/f/d - Business   \n",
       "\n",
       "                         Location    Job Type Experience level Salary   \n",
       "7               Bangkok, Thailand  Internship      Entry-level      0  \\\n",
       "8     San Jose, CA, United States  Internship      Entry-level      0   \n",
       "170   Barcelona, Catalonia, Spain  Internship      Entry-level      0   \n",
       "213               Beograd, Serbia  Internship      Entry-level      0   \n",
       "217   Barcelona, Catalonia, Spain  Internship      Entry-level      0   \n",
       "...                           ...         ...              ...    ...   \n",
       "2884                Indore, India  Internship      Entry-level      0   \n",
       "3073                Arlington, VA  Internship      Entry-level      0   \n",
       "3107                       Remote  Internship      Entry-level      0   \n",
       "3134  Bengaluru, Karnataka, India  Internship      Entry-level      0   \n",
       "3159                Paris, France  Internship      Entry-level      0   \n",
       "\n",
       "      Min_Salary_Year  Salary_conditions   \n",
       "7                 0.0              False  \\\n",
       "8                 0.0              False   \n",
       "170               0.0              False   \n",
       "213               0.0              False   \n",
       "217               0.0              False   \n",
       "...               ...                ...   \n",
       "2884              0.0              False   \n",
       "3073              0.0              False   \n",
       "3107              0.0              False   \n",
       "3134              0.0              False   \n",
       "3159              0.0              False   \n",
       "\n",
       "                             Requirment of the company    \n",
       "7               Business Intelligence,Excel,Genetics,,,  \\\n",
       "8     Big Data,Computer Science,Engineering,Machine ...   \n",
       "170   Airflow,BigQuery,CI/CD,Databricks,Data quality...   \n",
       "213   Computer Science,Data management,Engineering,E...   \n",
       "217   Economics,Engineering,Machine Learning,Mathema...   \n",
       "...                                                 ...   \n",
       "2884  Computer Science,Data analysis,Data Analytics,...   \n",
       "3073  Big Data,Consulting,Consulting firm,Data analy...   \n",
       "3107           APIs,ChatGPT,Engineering,GPT,GPT-3,GPT-4   \n",
       "3134  Computer Science,Data quality,Data warehouse,E...   \n",
       "3159  Data analysis,Data pipelines,Data visualizatio...   \n",
       "\n",
       "                                             Facilities  \n",
       "7                                                  ,,,,  \n",
       "8     Career development,Competitive pay,Equity,Flex...  \n",
       "170         Career development,Flex hours,Team events,,  \n",
       "213                                      Flex hours,,,,  \n",
       "217         Career development,Flex hours,Team events,,  \n",
       "...                                                 ...  \n",
       "2884                                               ,,,,  \n",
       "3073  Career development,Competitive pay,Flex hours,...  \n",
       "3107                             Career development,,,,  \n",
       "3134                                               ,,,,  \n",
       "3159  Career development,Health care,Insurance,Start...  \n",
       "\n",
       "[72 rows x 10 columns]"
      ]
     },
     "execution_count": 253,
     "metadata": {},
     "output_type": "execute_result"
    }
   ],
   "source": [
    "df_clean[df_clean['Job Type'] == 'Internship']"
   ]
  },
  {
   "cell_type": "code",
   "execution_count": 254,
   "metadata": {},
   "outputs": [
    {
     "name": "stdout",
     "output_type": "stream",
     "text": [
      "<class 'pandas.core.frame.DataFrame'>\n",
      "Index: 2896 entries, 0 to 3196\n",
      "Data columns (total 10 columns):\n",
      " #   Column                      Non-Null Count  Dtype  \n",
      "---  ------                      --------------  -----  \n",
      " 0   Company                     2896 non-null   object \n",
      " 1   Job Title                   2896 non-null   object \n",
      " 2   Location                    2896 non-null   object \n",
      " 3   Job Type                    2896 non-null   object \n",
      " 4   Experience level            2896 non-null   object \n",
      " 5   Salary                      2896 non-null   object \n",
      " 6   Min_Salary_Year             2896 non-null   float64\n",
      " 7   Salary_conditions           2896 non-null   bool   \n",
      " 8   Requirment of the company   2896 non-null   object \n",
      " 9   Facilities                  2896 non-null   object \n",
      "dtypes: bool(1), float64(1), object(8)\n",
      "memory usage: 229.1+ KB\n"
     ]
    }
   ],
   "source": [
    "df_clean.info()"
   ]
  },
  {
   "cell_type": "markdown",
   "metadata": {},
   "source": [
    "<h3>Gerer les valeurs aberrantes</h3>"
   ]
  },
  {
   "cell_type": "code",
   "execution_count": 255,
   "metadata": {},
   "outputs": [
    {
     "data": {
      "application/vnd.plotly.v1+json": {
       "config": {
        "plotlyServerURL": "https://plot.ly"
       },
       "data": [
        {
         "alignmentgroup": "True",
         "hovertemplate": "variable=%{x}<br>value=%{y}<extra></extra>",
         "legendgroup": "",
         "marker": {
          "color": "#636efa"
         },
         "name": "",
         "notched": false,
         "offsetgroup": "",
         "orientation": "v",
         "showlegend": false,
         "type": "box",
         "x": [
          "Min_Salary_Year",
          "Min_Salary_Year",
          "Min_Salary_Year",
          "Min_Salary_Year",
          "Min_Salary_Year",
          "Min_Salary_Year",
          "Min_Salary_Year",
          "Min_Salary_Year",
          "Min_Salary_Year",
          "Min_Salary_Year",
          "Min_Salary_Year",
          "Min_Salary_Year",
          "Min_Salary_Year",
          "Min_Salary_Year",
          "Min_Salary_Year",
          "Min_Salary_Year",
          "Min_Salary_Year",
          "Min_Salary_Year",
          "Min_Salary_Year",
          "Min_Salary_Year",
          "Min_Salary_Year",
          "Min_Salary_Year",
          "Min_Salary_Year",
          "Min_Salary_Year",
          "Min_Salary_Year",
          "Min_Salary_Year",
          "Min_Salary_Year",
          "Min_Salary_Year",
          "Min_Salary_Year",
          "Min_Salary_Year",
          "Min_Salary_Year",
          "Min_Salary_Year",
          "Min_Salary_Year",
          "Min_Salary_Year",
          "Min_Salary_Year",
          "Min_Salary_Year",
          "Min_Salary_Year",
          "Min_Salary_Year",
          "Min_Salary_Year",
          "Min_Salary_Year",
          "Min_Salary_Year",
          "Min_Salary_Year",
          "Min_Salary_Year",
          "Min_Salary_Year",
          "Min_Salary_Year",
          "Min_Salary_Year",
          "Min_Salary_Year",
          "Min_Salary_Year",
          "Min_Salary_Year",
          "Min_Salary_Year",
          "Min_Salary_Year",
          "Min_Salary_Year",
          "Min_Salary_Year",
          "Min_Salary_Year",
          "Min_Salary_Year",
          "Min_Salary_Year",
          "Min_Salary_Year",
          "Min_Salary_Year",
          "Min_Salary_Year",
          "Min_Salary_Year",
          "Min_Salary_Year",
          "Min_Salary_Year",
          "Min_Salary_Year",
          "Min_Salary_Year",
          "Min_Salary_Year",
          "Min_Salary_Year",
          "Min_Salary_Year",
          "Min_Salary_Year",
          "Min_Salary_Year",
          "Min_Salary_Year",
          "Min_Salary_Year",
          "Min_Salary_Year",
          "Min_Salary_Year",
          "Min_Salary_Year",
          "Min_Salary_Year",
          "Min_Salary_Year",
          "Min_Salary_Year",
          "Min_Salary_Year",
          "Min_Salary_Year",
          "Min_Salary_Year",
          "Min_Salary_Year",
          "Min_Salary_Year",
          "Min_Salary_Year",
          "Min_Salary_Year",
          "Min_Salary_Year",
          "Min_Salary_Year",
          "Min_Salary_Year",
          "Min_Salary_Year",
          "Min_Salary_Year",
          "Min_Salary_Year",
          "Min_Salary_Year",
          "Min_Salary_Year",
          "Min_Salary_Year",
          "Min_Salary_Year",
          "Min_Salary_Year",
          "Min_Salary_Year",
          "Min_Salary_Year",
          "Min_Salary_Year",
          "Min_Salary_Year",
          "Min_Salary_Year",
          "Min_Salary_Year",
          "Min_Salary_Year",
          "Min_Salary_Year",
          "Min_Salary_Year",
          "Min_Salary_Year",
          "Min_Salary_Year",
          "Min_Salary_Year",
          "Min_Salary_Year",
          "Min_Salary_Year",
          "Min_Salary_Year",
          "Min_Salary_Year",
          "Min_Salary_Year",
          "Min_Salary_Year",
          "Min_Salary_Year",
          "Min_Salary_Year",
          "Min_Salary_Year",
          "Min_Salary_Year",
          "Min_Salary_Year",
          "Min_Salary_Year",
          "Min_Salary_Year",
          "Min_Salary_Year",
          "Min_Salary_Year",
          "Min_Salary_Year",
          "Min_Salary_Year",
          "Min_Salary_Year",
          "Min_Salary_Year",
          "Min_Salary_Year",
          "Min_Salary_Year",
          "Min_Salary_Year",
          "Min_Salary_Year",
          "Min_Salary_Year",
          "Min_Salary_Year",
          "Min_Salary_Year",
          "Min_Salary_Year",
          "Min_Salary_Year",
          "Min_Salary_Year",
          "Min_Salary_Year",
          "Min_Salary_Year",
          "Min_Salary_Year",
          "Min_Salary_Year",
          "Min_Salary_Year",
          "Min_Salary_Year",
          "Min_Salary_Year",
          "Min_Salary_Year",
          "Min_Salary_Year",
          "Min_Salary_Year",
          "Min_Salary_Year",
          "Min_Salary_Year",
          "Min_Salary_Year",
          "Min_Salary_Year",
          "Min_Salary_Year",
          "Min_Salary_Year",
          "Min_Salary_Year",
          "Min_Salary_Year",
          "Min_Salary_Year",
          "Min_Salary_Year",
          "Min_Salary_Year",
          "Min_Salary_Year",
          "Min_Salary_Year",
          "Min_Salary_Year",
          "Min_Salary_Year",
          "Min_Salary_Year",
          "Min_Salary_Year",
          "Min_Salary_Year",
          "Min_Salary_Year",
          "Min_Salary_Year",
          "Min_Salary_Year",
          "Min_Salary_Year",
          "Min_Salary_Year",
          "Min_Salary_Year",
          "Min_Salary_Year",
          "Min_Salary_Year",
          "Min_Salary_Year",
          "Min_Salary_Year",
          "Min_Salary_Year",
          "Min_Salary_Year",
          "Min_Salary_Year",
          "Min_Salary_Year",
          "Min_Salary_Year",
          "Min_Salary_Year",
          "Min_Salary_Year",
          "Min_Salary_Year",
          "Min_Salary_Year",
          "Min_Salary_Year",
          "Min_Salary_Year",
          "Min_Salary_Year",
          "Min_Salary_Year",
          "Min_Salary_Year",
          "Min_Salary_Year",
          "Min_Salary_Year",
          "Min_Salary_Year",
          "Min_Salary_Year",
          "Min_Salary_Year",
          "Min_Salary_Year",
          "Min_Salary_Year",
          "Min_Salary_Year",
          "Min_Salary_Year",
          "Min_Salary_Year",
          "Min_Salary_Year",
          "Min_Salary_Year",
          "Min_Salary_Year",
          "Min_Salary_Year",
          "Min_Salary_Year",
          "Min_Salary_Year",
          "Min_Salary_Year",
          "Min_Salary_Year",
          "Min_Salary_Year",
          "Min_Salary_Year",
          "Min_Salary_Year",
          "Min_Salary_Year",
          "Min_Salary_Year",
          "Min_Salary_Year",
          "Min_Salary_Year",
          "Min_Salary_Year",
          "Min_Salary_Year",
          "Min_Salary_Year",
          "Min_Salary_Year",
          "Min_Salary_Year",
          "Min_Salary_Year",
          "Min_Salary_Year",
          "Min_Salary_Year",
          "Min_Salary_Year",
          "Min_Salary_Year",
          "Min_Salary_Year",
          "Min_Salary_Year",
          "Min_Salary_Year",
          "Min_Salary_Year",
          "Min_Salary_Year",
          "Min_Salary_Year",
          "Min_Salary_Year",
          "Min_Salary_Year",
          "Min_Salary_Year",
          "Min_Salary_Year",
          "Min_Salary_Year",
          "Min_Salary_Year",
          "Min_Salary_Year",
          "Min_Salary_Year",
          "Min_Salary_Year",
          "Min_Salary_Year",
          "Min_Salary_Year",
          "Min_Salary_Year",
          "Min_Salary_Year",
          "Min_Salary_Year",
          "Min_Salary_Year",
          "Min_Salary_Year",
          "Min_Salary_Year",
          "Min_Salary_Year",
          "Min_Salary_Year",
          "Min_Salary_Year",
          "Min_Salary_Year",
          "Min_Salary_Year",
          "Min_Salary_Year",
          "Min_Salary_Year",
          "Min_Salary_Year",
          "Min_Salary_Year",
          "Min_Salary_Year",
          "Min_Salary_Year",
          "Min_Salary_Year",
          "Min_Salary_Year",
          "Min_Salary_Year",
          "Min_Salary_Year",
          "Min_Salary_Year",
          "Min_Salary_Year",
          "Min_Salary_Year",
          "Min_Salary_Year",
          "Min_Salary_Year",
          "Min_Salary_Year",
          "Min_Salary_Year",
          "Min_Salary_Year",
          "Min_Salary_Year",
          "Min_Salary_Year",
          "Min_Salary_Year",
          "Min_Salary_Year",
          "Min_Salary_Year",
          "Min_Salary_Year",
          "Min_Salary_Year",
          "Min_Salary_Year",
          "Min_Salary_Year",
          "Min_Salary_Year",
          "Min_Salary_Year",
          "Min_Salary_Year",
          "Min_Salary_Year",
          "Min_Salary_Year",
          "Min_Salary_Year",
          "Min_Salary_Year",
          "Min_Salary_Year",
          "Min_Salary_Year",
          "Min_Salary_Year",
          "Min_Salary_Year",
          "Min_Salary_Year",
          "Min_Salary_Year",
          "Min_Salary_Year",
          "Min_Salary_Year",
          "Min_Salary_Year",
          "Min_Salary_Year",
          "Min_Salary_Year",
          "Min_Salary_Year",
          "Min_Salary_Year",
          "Min_Salary_Year",
          "Min_Salary_Year",
          "Min_Salary_Year",
          "Min_Salary_Year",
          "Min_Salary_Year",
          "Min_Salary_Year",
          "Min_Salary_Year",
          "Min_Salary_Year",
          "Min_Salary_Year",
          "Min_Salary_Year",
          "Min_Salary_Year",
          "Min_Salary_Year",
          "Min_Salary_Year",
          "Min_Salary_Year",
          "Min_Salary_Year",
          "Min_Salary_Year",
          "Min_Salary_Year",
          "Min_Salary_Year",
          "Min_Salary_Year",
          "Min_Salary_Year",
          "Min_Salary_Year",
          "Min_Salary_Year",
          "Min_Salary_Year",
          "Min_Salary_Year",
          "Min_Salary_Year",
          "Min_Salary_Year",
          "Min_Salary_Year",
          "Min_Salary_Year",
          "Min_Salary_Year",
          "Min_Salary_Year",
          "Min_Salary_Year",
          "Min_Salary_Year",
          "Min_Salary_Year",
          "Min_Salary_Year",
          "Min_Salary_Year",
          "Min_Salary_Year",
          "Min_Salary_Year",
          "Min_Salary_Year",
          "Min_Salary_Year",
          "Min_Salary_Year",
          "Min_Salary_Year",
          "Min_Salary_Year",
          "Min_Salary_Year",
          "Min_Salary_Year",
          "Min_Salary_Year",
          "Min_Salary_Year",
          "Min_Salary_Year",
          "Min_Salary_Year",
          "Min_Salary_Year",
          "Min_Salary_Year",
          "Min_Salary_Year",
          "Min_Salary_Year",
          "Min_Salary_Year",
          "Min_Salary_Year",
          "Min_Salary_Year",
          "Min_Salary_Year",
          "Min_Salary_Year",
          "Min_Salary_Year",
          "Min_Salary_Year",
          "Min_Salary_Year",
          "Min_Salary_Year",
          "Min_Salary_Year",
          "Min_Salary_Year",
          "Min_Salary_Year",
          "Min_Salary_Year",
          "Min_Salary_Year",
          "Min_Salary_Year",
          "Min_Salary_Year",
          "Min_Salary_Year",
          "Min_Salary_Year",
          "Min_Salary_Year",
          "Min_Salary_Year",
          "Min_Salary_Year",
          "Min_Salary_Year",
          "Min_Salary_Year",
          "Min_Salary_Year",
          "Min_Salary_Year",
          "Min_Salary_Year",
          "Min_Salary_Year",
          "Min_Salary_Year",
          "Min_Salary_Year",
          "Min_Salary_Year",
          "Min_Salary_Year",
          "Min_Salary_Year",
          "Min_Salary_Year",
          "Min_Salary_Year",
          "Min_Salary_Year",
          "Min_Salary_Year",
          "Min_Salary_Year",
          "Min_Salary_Year",
          "Min_Salary_Year",
          "Min_Salary_Year",
          "Min_Salary_Year",
          "Min_Salary_Year",
          "Min_Salary_Year",
          "Min_Salary_Year",
          "Min_Salary_Year",
          "Min_Salary_Year",
          "Min_Salary_Year",
          "Min_Salary_Year",
          "Min_Salary_Year",
          "Min_Salary_Year",
          "Min_Salary_Year",
          "Min_Salary_Year",
          "Min_Salary_Year",
          "Min_Salary_Year",
          "Min_Salary_Year",
          "Min_Salary_Year",
          "Min_Salary_Year",
          "Min_Salary_Year",
          "Min_Salary_Year",
          "Min_Salary_Year",
          "Min_Salary_Year",
          "Min_Salary_Year",
          "Min_Salary_Year",
          "Min_Salary_Year",
          "Min_Salary_Year",
          "Min_Salary_Year",
          "Min_Salary_Year",
          "Min_Salary_Year",
          "Min_Salary_Year",
          "Min_Salary_Year",
          "Min_Salary_Year",
          "Min_Salary_Year",
          "Min_Salary_Year",
          "Min_Salary_Year",
          "Min_Salary_Year",
          "Min_Salary_Year",
          "Min_Salary_Year",
          "Min_Salary_Year",
          "Min_Salary_Year",
          "Min_Salary_Year",
          "Min_Salary_Year",
          "Min_Salary_Year",
          "Min_Salary_Year",
          "Min_Salary_Year",
          "Min_Salary_Year",
          "Min_Salary_Year",
          "Min_Salary_Year",
          "Min_Salary_Year",
          "Min_Salary_Year",
          "Min_Salary_Year",
          "Min_Salary_Year",
          "Min_Salary_Year",
          "Min_Salary_Year",
          "Min_Salary_Year",
          "Min_Salary_Year",
          "Min_Salary_Year",
          "Min_Salary_Year",
          "Min_Salary_Year",
          "Min_Salary_Year",
          "Min_Salary_Year",
          "Min_Salary_Year",
          "Min_Salary_Year",
          "Min_Salary_Year",
          "Min_Salary_Year",
          "Min_Salary_Year",
          "Min_Salary_Year",
          "Min_Salary_Year",
          "Min_Salary_Year",
          "Min_Salary_Year",
          "Min_Salary_Year",
          "Min_Salary_Year",
          "Min_Salary_Year",
          "Min_Salary_Year",
          "Min_Salary_Year",
          "Min_Salary_Year",
          "Min_Salary_Year",
          "Min_Salary_Year",
          "Min_Salary_Year",
          "Min_Salary_Year",
          "Min_Salary_Year",
          "Min_Salary_Year",
          "Min_Salary_Year",
          "Min_Salary_Year",
          "Min_Salary_Year",
          "Min_Salary_Year",
          "Min_Salary_Year",
          "Min_Salary_Year",
          "Min_Salary_Year",
          "Min_Salary_Year",
          "Min_Salary_Year",
          "Min_Salary_Year",
          "Min_Salary_Year",
          "Min_Salary_Year",
          "Min_Salary_Year",
          "Min_Salary_Year",
          "Min_Salary_Year",
          "Min_Salary_Year",
          "Min_Salary_Year",
          "Min_Salary_Year",
          "Min_Salary_Year",
          "Min_Salary_Year",
          "Min_Salary_Year",
          "Min_Salary_Year",
          "Min_Salary_Year",
          "Min_Salary_Year",
          "Min_Salary_Year",
          "Min_Salary_Year",
          "Min_Salary_Year",
          "Min_Salary_Year",
          "Min_Salary_Year",
          "Min_Salary_Year",
          "Min_Salary_Year",
          "Min_Salary_Year",
          "Min_Salary_Year",
          "Min_Salary_Year",
          "Min_Salary_Year",
          "Min_Salary_Year",
          "Min_Salary_Year",
          "Min_Salary_Year",
          "Min_Salary_Year",
          "Min_Salary_Year",
          "Min_Salary_Year",
          "Min_Salary_Year",
          "Min_Salary_Year",
          "Min_Salary_Year",
          "Min_Salary_Year",
          "Min_Salary_Year",
          "Min_Salary_Year",
          "Min_Salary_Year",
          "Min_Salary_Year",
          "Min_Salary_Year",
          "Min_Salary_Year",
          "Min_Salary_Year",
          "Min_Salary_Year",
          "Min_Salary_Year",
          "Min_Salary_Year",
          "Min_Salary_Year",
          "Min_Salary_Year",
          "Min_Salary_Year",
          "Min_Salary_Year",
          "Min_Salary_Year",
          "Min_Salary_Year",
          "Min_Salary_Year",
          "Min_Salary_Year",
          "Min_Salary_Year",
          "Min_Salary_Year",
          "Min_Salary_Year",
          "Min_Salary_Year",
          "Min_Salary_Year",
          "Min_Salary_Year",
          "Min_Salary_Year",
          "Min_Salary_Year",
          "Min_Salary_Year",
          "Min_Salary_Year",
          "Min_Salary_Year",
          "Min_Salary_Year",
          "Min_Salary_Year",
          "Min_Salary_Year",
          "Min_Salary_Year",
          "Min_Salary_Year",
          "Min_Salary_Year",
          "Min_Salary_Year",
          "Min_Salary_Year",
          "Min_Salary_Year",
          "Min_Salary_Year",
          "Min_Salary_Year",
          "Min_Salary_Year",
          "Min_Salary_Year",
          "Min_Salary_Year",
          "Min_Salary_Year",
          "Min_Salary_Year",
          "Min_Salary_Year",
          "Min_Salary_Year",
          "Min_Salary_Year",
          "Min_Salary_Year",
          "Min_Salary_Year",
          "Min_Salary_Year",
          "Min_Salary_Year",
          "Min_Salary_Year",
          "Min_Salary_Year",
          "Min_Salary_Year",
          "Min_Salary_Year",
          "Min_Salary_Year",
          "Min_Salary_Year",
          "Min_Salary_Year",
          "Min_Salary_Year",
          "Min_Salary_Year",
          "Min_Salary_Year",
          "Min_Salary_Year",
          "Min_Salary_Year",
          "Min_Salary_Year",
          "Min_Salary_Year",
          "Min_Salary_Year",
          "Min_Salary_Year",
          "Min_Salary_Year",
          "Min_Salary_Year",
          "Min_Salary_Year",
          "Min_Salary_Year",
          "Min_Salary_Year",
          "Min_Salary_Year",
          "Min_Salary_Year",
          "Min_Salary_Year",
          "Min_Salary_Year",
          "Min_Salary_Year",
          "Min_Salary_Year",
          "Min_Salary_Year",
          "Min_Salary_Year",
          "Min_Salary_Year",
          "Min_Salary_Year",
          "Min_Salary_Year",
          "Min_Salary_Year",
          "Min_Salary_Year",
          "Min_Salary_Year",
          "Min_Salary_Year",
          "Min_Salary_Year",
          "Min_Salary_Year",
          "Min_Salary_Year",
          "Min_Salary_Year",
          "Min_Salary_Year",
          "Min_Salary_Year",
          "Min_Salary_Year",
          "Min_Salary_Year",
          "Min_Salary_Year",
          "Min_Salary_Year",
          "Min_Salary_Year",
          "Min_Salary_Year",
          "Min_Salary_Year",
          "Min_Salary_Year",
          "Min_Salary_Year",
          "Min_Salary_Year",
          "Min_Salary_Year",
          "Min_Salary_Year",
          "Min_Salary_Year",
          "Min_Salary_Year",
          "Min_Salary_Year",
          "Min_Salary_Year",
          "Min_Salary_Year",
          "Min_Salary_Year",
          "Min_Salary_Year",
          "Min_Salary_Year",
          "Min_Salary_Year",
          "Min_Salary_Year",
          "Min_Salary_Year",
          "Min_Salary_Year",
          "Min_Salary_Year",
          "Min_Salary_Year",
          "Min_Salary_Year",
          "Min_Salary_Year",
          "Min_Salary_Year",
          "Min_Salary_Year",
          "Min_Salary_Year",
          "Min_Salary_Year",
          "Min_Salary_Year",
          "Min_Salary_Year",
          "Min_Salary_Year",
          "Min_Salary_Year",
          "Min_Salary_Year",
          "Min_Salary_Year",
          "Min_Salary_Year",
          "Min_Salary_Year",
          "Min_Salary_Year",
          "Min_Salary_Year",
          "Min_Salary_Year",
          "Min_Salary_Year",
          "Min_Salary_Year",
          "Min_Salary_Year",
          "Min_Salary_Year",
          "Min_Salary_Year",
          "Min_Salary_Year",
          "Min_Salary_Year",
          "Min_Salary_Year",
          "Min_Salary_Year",
          "Min_Salary_Year",
          "Min_Salary_Year",
          "Min_Salary_Year",
          "Min_Salary_Year",
          "Min_Salary_Year",
          "Min_Salary_Year",
          "Min_Salary_Year",
          "Min_Salary_Year",
          "Min_Salary_Year",
          "Min_Salary_Year",
          "Min_Salary_Year",
          "Min_Salary_Year",
          "Min_Salary_Year",
          "Min_Salary_Year",
          "Min_Salary_Year",
          "Min_Salary_Year",
          "Min_Salary_Year",
          "Min_Salary_Year",
          "Min_Salary_Year",
          "Min_Salary_Year",
          "Min_Salary_Year",
          "Min_Salary_Year",
          "Min_Salary_Year",
          "Min_Salary_Year",
          "Min_Salary_Year",
          "Min_Salary_Year",
          "Min_Salary_Year",
          "Min_Salary_Year",
          "Min_Salary_Year",
          "Min_Salary_Year",
          "Min_Salary_Year",
          "Min_Salary_Year",
          "Min_Salary_Year",
          "Min_Salary_Year",
          "Min_Salary_Year",
          "Min_Salary_Year",
          "Min_Salary_Year",
          "Min_Salary_Year",
          "Min_Salary_Year",
          "Min_Salary_Year",
          "Min_Salary_Year",
          "Min_Salary_Year",
          "Min_Salary_Year",
          "Min_Salary_Year",
          "Min_Salary_Year",
          "Min_Salary_Year",
          "Min_Salary_Year",
          "Min_Salary_Year",
          "Min_Salary_Year",
          "Min_Salary_Year",
          "Min_Salary_Year",
          "Min_Salary_Year",
          "Min_Salary_Year",
          "Min_Salary_Year",
          "Min_Salary_Year",
          "Min_Salary_Year",
          "Min_Salary_Year",
          "Min_Salary_Year",
          "Min_Salary_Year",
          "Min_Salary_Year",
          "Min_Salary_Year",
          "Min_Salary_Year",
          "Min_Salary_Year",
          "Min_Salary_Year",
          "Min_Salary_Year",
          "Min_Salary_Year",
          "Min_Salary_Year",
          "Min_Salary_Year",
          "Min_Salary_Year",
          "Min_Salary_Year",
          "Min_Salary_Year",
          "Min_Salary_Year",
          "Min_Salary_Year",
          "Min_Salary_Year",
          "Min_Salary_Year",
          "Min_Salary_Year",
          "Min_Salary_Year",
          "Min_Salary_Year",
          "Min_Salary_Year",
          "Min_Salary_Year",
          "Min_Salary_Year",
          "Min_Salary_Year",
          "Min_Salary_Year",
          "Min_Salary_Year",
          "Min_Salary_Year",
          "Min_Salary_Year",
          "Min_Salary_Year",
          "Min_Salary_Year",
          "Min_Salary_Year",
          "Min_Salary_Year",
          "Min_Salary_Year",
          "Min_Salary_Year",
          "Min_Salary_Year",
          "Min_Salary_Year",
          "Min_Salary_Year",
          "Min_Salary_Year",
          "Min_Salary_Year",
          "Min_Salary_Year",
          "Min_Salary_Year",
          "Min_Salary_Year",
          "Min_Salary_Year",
          "Min_Salary_Year",
          "Min_Salary_Year",
          "Min_Salary_Year",
          "Min_Salary_Year",
          "Min_Salary_Year",
          "Min_Salary_Year",
          "Min_Salary_Year",
          "Min_Salary_Year",
          "Min_Salary_Year",
          "Min_Salary_Year",
          "Min_Salary_Year",
          "Min_Salary_Year",
          "Min_Salary_Year",
          "Min_Salary_Year",
          "Min_Salary_Year",
          "Min_Salary_Year",
          "Min_Salary_Year",
          "Min_Salary_Year",
          "Min_Salary_Year",
          "Min_Salary_Year",
          "Min_Salary_Year",
          "Min_Salary_Year",
          "Min_Salary_Year",
          "Min_Salary_Year",
          "Min_Salary_Year",
          "Min_Salary_Year",
          "Min_Salary_Year",
          "Min_Salary_Year",
          "Min_Salary_Year",
          "Min_Salary_Year",
          "Min_Salary_Year",
          "Min_Salary_Year",
          "Min_Salary_Year",
          "Min_Salary_Year",
          "Min_Salary_Year",
          "Min_Salary_Year",
          "Min_Salary_Year",
          "Min_Salary_Year",
          "Min_Salary_Year",
          "Min_Salary_Year",
          "Min_Salary_Year",
          "Min_Salary_Year",
          "Min_Salary_Year",
          "Min_Salary_Year",
          "Min_Salary_Year",
          "Min_Salary_Year",
          "Min_Salary_Year",
          "Min_Salary_Year",
          "Min_Salary_Year",
          "Min_Salary_Year",
          "Min_Salary_Year",
          "Min_Salary_Year",
          "Min_Salary_Year",
          "Min_Salary_Year",
          "Min_Salary_Year",
          "Min_Salary_Year",
          "Min_Salary_Year",
          "Min_Salary_Year",
          "Min_Salary_Year",
          "Min_Salary_Year",
          "Min_Salary_Year",
          "Min_Salary_Year",
          "Min_Salary_Year",
          "Min_Salary_Year",
          "Min_Salary_Year",
          "Min_Salary_Year",
          "Min_Salary_Year",
          "Min_Salary_Year",
          "Min_Salary_Year",
          "Min_Salary_Year",
          "Min_Salary_Year",
          "Min_Salary_Year",
          "Min_Salary_Year",
          "Min_Salary_Year",
          "Min_Salary_Year",
          "Min_Salary_Year",
          "Min_Salary_Year",
          "Min_Salary_Year",
          "Min_Salary_Year",
          "Min_Salary_Year",
          "Min_Salary_Year",
          "Min_Salary_Year",
          "Min_Salary_Year",
          "Min_Salary_Year",
          "Min_Salary_Year",
          "Min_Salary_Year",
          "Min_Salary_Year",
          "Min_Salary_Year",
          "Min_Salary_Year",
          "Min_Salary_Year",
          "Min_Salary_Year",
          "Min_Salary_Year",
          "Min_Salary_Year",
          "Min_Salary_Year",
          "Min_Salary_Year",
          "Min_Salary_Year",
          "Min_Salary_Year",
          "Min_Salary_Year",
          "Min_Salary_Year",
          "Min_Salary_Year",
          "Min_Salary_Year",
          "Min_Salary_Year",
          "Min_Salary_Year",
          "Min_Salary_Year",
          "Min_Salary_Year",
          "Min_Salary_Year",
          "Min_Salary_Year",
          "Min_Salary_Year",
          "Min_Salary_Year",
          "Min_Salary_Year",
          "Min_Salary_Year",
          "Min_Salary_Year",
          "Min_Salary_Year",
          "Min_Salary_Year",
          "Min_Salary_Year",
          "Min_Salary_Year",
          "Min_Salary_Year",
          "Min_Salary_Year",
          "Min_Salary_Year",
          "Min_Salary_Year",
          "Min_Salary_Year",
          "Min_Salary_Year",
          "Min_Salary_Year",
          "Min_Salary_Year",
          "Min_Salary_Year",
          "Min_Salary_Year",
          "Min_Salary_Year",
          "Min_Salary_Year",
          "Min_Salary_Year",
          "Min_Salary_Year",
          "Min_Salary_Year",
          "Min_Salary_Year",
          "Min_Salary_Year",
          "Min_Salary_Year",
          "Min_Salary_Year",
          "Min_Salary_Year",
          "Min_Salary_Year",
          "Min_Salary_Year",
          "Min_Salary_Year",
          "Min_Salary_Year",
          "Min_Salary_Year",
          "Min_Salary_Year",
          "Min_Salary_Year",
          "Min_Salary_Year",
          "Min_Salary_Year",
          "Min_Salary_Year",
          "Min_Salary_Year",
          "Min_Salary_Year",
          "Min_Salary_Year",
          "Min_Salary_Year",
          "Min_Salary_Year",
          "Min_Salary_Year",
          "Min_Salary_Year",
          "Min_Salary_Year",
          "Min_Salary_Year",
          "Min_Salary_Year",
          "Min_Salary_Year",
          "Min_Salary_Year",
          "Min_Salary_Year",
          "Min_Salary_Year",
          "Min_Salary_Year",
          "Min_Salary_Year",
          "Min_Salary_Year",
          "Min_Salary_Year",
          "Min_Salary_Year",
          "Min_Salary_Year",
          "Min_Salary_Year",
          "Min_Salary_Year",
          "Min_Salary_Year",
          "Min_Salary_Year",
          "Min_Salary_Year",
          "Min_Salary_Year",
          "Min_Salary_Year",
          "Min_Salary_Year",
          "Min_Salary_Year",
          "Min_Salary_Year",
          "Min_Salary_Year",
          "Min_Salary_Year",
          "Min_Salary_Year",
          "Min_Salary_Year",
          "Min_Salary_Year",
          "Min_Salary_Year",
          "Min_Salary_Year",
          "Min_Salary_Year",
          "Min_Salary_Year",
          "Min_Salary_Year",
          "Min_Salary_Year",
          "Min_Salary_Year",
          "Min_Salary_Year",
          "Min_Salary_Year",
          "Min_Salary_Year",
          "Min_Salary_Year",
          "Min_Salary_Year",
          "Min_Salary_Year",
          "Min_Salary_Year",
          "Min_Salary_Year",
          "Min_Salary_Year",
          "Min_Salary_Year",
          "Min_Salary_Year",
          "Min_Salary_Year",
          "Min_Salary_Year",
          "Min_Salary_Year",
          "Min_Salary_Year",
          "Min_Salary_Year",
          "Min_Salary_Year",
          "Min_Salary_Year",
          "Min_Salary_Year",
          "Min_Salary_Year",
          "Min_Salary_Year",
          "Min_Salary_Year",
          "Min_Salary_Year",
          "Min_Salary_Year",
          "Min_Salary_Year",
          "Min_Salary_Year",
          "Min_Salary_Year",
          "Min_Salary_Year",
          "Min_Salary_Year",
          "Min_Salary_Year",
          "Min_Salary_Year",
          "Min_Salary_Year",
          "Min_Salary_Year",
          "Min_Salary_Year",
          "Min_Salary_Year",
          "Min_Salary_Year",
          "Min_Salary_Year",
          "Min_Salary_Year",
          "Min_Salary_Year",
          "Min_Salary_Year",
          "Min_Salary_Year",
          "Min_Salary_Year",
          "Min_Salary_Year",
          "Min_Salary_Year",
          "Min_Salary_Year",
          "Min_Salary_Year",
          "Min_Salary_Year",
          "Min_Salary_Year",
          "Min_Salary_Year",
          "Min_Salary_Year",
          "Min_Salary_Year",
          "Min_Salary_Year",
          "Min_Salary_Year",
          "Min_Salary_Year",
          "Min_Salary_Year",
          "Min_Salary_Year",
          "Min_Salary_Year",
          "Min_Salary_Year",
          "Min_Salary_Year",
          "Min_Salary_Year",
          "Min_Salary_Year",
          "Min_Salary_Year",
          "Min_Salary_Year",
          "Min_Salary_Year",
          "Min_Salary_Year",
          "Min_Salary_Year",
          "Min_Salary_Year",
          "Min_Salary_Year",
          "Min_Salary_Year",
          "Min_Salary_Year",
          "Min_Salary_Year",
          "Min_Salary_Year",
          "Min_Salary_Year",
          "Min_Salary_Year",
          "Min_Salary_Year",
          "Min_Salary_Year",
          "Min_Salary_Year",
          "Min_Salary_Year",
          "Min_Salary_Year",
          "Min_Salary_Year",
          "Min_Salary_Year",
          "Min_Salary_Year",
          "Min_Salary_Year",
          "Min_Salary_Year",
          "Min_Salary_Year",
          "Min_Salary_Year",
          "Min_Salary_Year",
          "Min_Salary_Year",
          "Min_Salary_Year",
          "Min_Salary_Year",
          "Min_Salary_Year",
          "Min_Salary_Year",
          "Min_Salary_Year",
          "Min_Salary_Year",
          "Min_Salary_Year",
          "Min_Salary_Year",
          "Min_Salary_Year",
          "Min_Salary_Year",
          "Min_Salary_Year",
          "Min_Salary_Year",
          "Min_Salary_Year",
          "Min_Salary_Year",
          "Min_Salary_Year",
          "Min_Salary_Year",
          "Min_Salary_Year",
          "Min_Salary_Year",
          "Min_Salary_Year",
          "Min_Salary_Year",
          "Min_Salary_Year",
          "Min_Salary_Year",
          "Min_Salary_Year",
          "Min_Salary_Year",
          "Min_Salary_Year",
          "Min_Salary_Year",
          "Min_Salary_Year",
          "Min_Salary_Year",
          "Min_Salary_Year",
          "Min_Salary_Year",
          "Min_Salary_Year",
          "Min_Salary_Year",
          "Min_Salary_Year",
          "Min_Salary_Year",
          "Min_Salary_Year",
          "Min_Salary_Year",
          "Min_Salary_Year",
          "Min_Salary_Year",
          "Min_Salary_Year",
          "Min_Salary_Year",
          "Min_Salary_Year",
          "Min_Salary_Year",
          "Min_Salary_Year",
          "Min_Salary_Year",
          "Min_Salary_Year",
          "Min_Salary_Year",
          "Min_Salary_Year",
          "Min_Salary_Year",
          "Min_Salary_Year",
          "Min_Salary_Year",
          "Min_Salary_Year",
          "Min_Salary_Year",
          "Min_Salary_Year",
          "Min_Salary_Year",
          "Min_Salary_Year",
          "Min_Salary_Year",
          "Min_Salary_Year",
          "Min_Salary_Year",
          "Min_Salary_Year",
          "Min_Salary_Year",
          "Min_Salary_Year",
          "Min_Salary_Year",
          "Min_Salary_Year",
          "Min_Salary_Year",
          "Min_Salary_Year",
          "Min_Salary_Year",
          "Min_Salary_Year",
          "Min_Salary_Year",
          "Min_Salary_Year",
          "Min_Salary_Year",
          "Min_Salary_Year",
          "Min_Salary_Year",
          "Min_Salary_Year",
          "Min_Salary_Year",
          "Min_Salary_Year",
          "Min_Salary_Year",
          "Min_Salary_Year",
          "Min_Salary_Year",
          "Min_Salary_Year",
          "Min_Salary_Year",
          "Min_Salary_Year",
          "Min_Salary_Year",
          "Min_Salary_Year",
          "Min_Salary_Year",
          "Min_Salary_Year",
          "Min_Salary_Year",
          "Min_Salary_Year",
          "Min_Salary_Year",
          "Min_Salary_Year",
          "Min_Salary_Year",
          "Min_Salary_Year",
          "Min_Salary_Year",
          "Min_Salary_Year",
          "Min_Salary_Year",
          "Min_Salary_Year",
          "Min_Salary_Year",
          "Min_Salary_Year",
          "Min_Salary_Year",
          "Min_Salary_Year",
          "Min_Salary_Year",
          "Min_Salary_Year",
          "Min_Salary_Year",
          "Min_Salary_Year",
          "Min_Salary_Year",
          "Min_Salary_Year",
          "Min_Salary_Year",
          "Min_Salary_Year",
          "Min_Salary_Year",
          "Min_Salary_Year",
          "Min_Salary_Year",
          "Min_Salary_Year",
          "Min_Salary_Year",
          "Min_Salary_Year",
          "Min_Salary_Year",
          "Min_Salary_Year",
          "Min_Salary_Year",
          "Min_Salary_Year",
          "Min_Salary_Year",
          "Min_Salary_Year",
          "Min_Salary_Year",
          "Min_Salary_Year",
          "Min_Salary_Year",
          "Min_Salary_Year",
          "Min_Salary_Year",
          "Min_Salary_Year",
          "Min_Salary_Year",
          "Min_Salary_Year",
          "Min_Salary_Year",
          "Min_Salary_Year",
          "Min_Salary_Year",
          "Min_Salary_Year",
          "Min_Salary_Year",
          "Min_Salary_Year",
          "Min_Salary_Year",
          "Min_Salary_Year",
          "Min_Salary_Year",
          "Min_Salary_Year",
          "Min_Salary_Year",
          "Min_Salary_Year",
          "Min_Salary_Year",
          "Min_Salary_Year",
          "Min_Salary_Year",
          "Min_Salary_Year",
          "Min_Salary_Year",
          "Min_Salary_Year",
          "Min_Salary_Year",
          "Min_Salary_Year",
          "Min_Salary_Year",
          "Min_Salary_Year",
          "Min_Salary_Year",
          "Min_Salary_Year",
          "Min_Salary_Year",
          "Min_Salary_Year",
          "Min_Salary_Year",
          "Min_Salary_Year",
          "Min_Salary_Year",
          "Min_Salary_Year",
          "Min_Salary_Year",
          "Min_Salary_Year",
          "Min_Salary_Year",
          "Min_Salary_Year",
          "Min_Salary_Year",
          "Min_Salary_Year",
          "Min_Salary_Year",
          "Min_Salary_Year",
          "Min_Salary_Year",
          "Min_Salary_Year",
          "Min_Salary_Year",
          "Min_Salary_Year",
          "Min_Salary_Year",
          "Min_Salary_Year",
          "Min_Salary_Year",
          "Min_Salary_Year",
          "Min_Salary_Year",
          "Min_Salary_Year",
          "Min_Salary_Year",
          "Min_Salary_Year",
          "Min_Salary_Year",
          "Min_Salary_Year",
          "Min_Salary_Year",
          "Min_Salary_Year",
          "Min_Salary_Year",
          "Min_Salary_Year",
          "Min_Salary_Year",
          "Min_Salary_Year",
          "Min_Salary_Year",
          "Min_Salary_Year",
          "Min_Salary_Year",
          "Min_Salary_Year",
          "Min_Salary_Year",
          "Min_Salary_Year",
          "Min_Salary_Year",
          "Min_Salary_Year",
          "Min_Salary_Year",
          "Min_Salary_Year",
          "Min_Salary_Year",
          "Min_Salary_Year",
          "Min_Salary_Year",
          "Min_Salary_Year",
          "Min_Salary_Year",
          "Min_Salary_Year",
          "Min_Salary_Year",
          "Min_Salary_Year",
          "Min_Salary_Year",
          "Min_Salary_Year",
          "Min_Salary_Year",
          "Min_Salary_Year",
          "Min_Salary_Year",
          "Min_Salary_Year",
          "Min_Salary_Year",
          "Min_Salary_Year",
          "Min_Salary_Year",
          "Min_Salary_Year",
          "Min_Salary_Year",
          "Min_Salary_Year",
          "Min_Salary_Year",
          "Min_Salary_Year",
          "Min_Salary_Year",
          "Min_Salary_Year",
          "Min_Salary_Year",
          "Min_Salary_Year",
          "Min_Salary_Year",
          "Min_Salary_Year",
          "Min_Salary_Year",
          "Min_Salary_Year",
          "Min_Salary_Year",
          "Min_Salary_Year",
          "Min_Salary_Year",
          "Min_Salary_Year",
          "Min_Salary_Year",
          "Min_Salary_Year",
          "Min_Salary_Year",
          "Min_Salary_Year",
          "Min_Salary_Year",
          "Min_Salary_Year",
          "Min_Salary_Year",
          "Min_Salary_Year",
          "Min_Salary_Year",
          "Min_Salary_Year",
          "Min_Salary_Year",
          "Min_Salary_Year",
          "Min_Salary_Year",
          "Min_Salary_Year",
          "Min_Salary_Year",
          "Min_Salary_Year",
          "Min_Salary_Year",
          "Min_Salary_Year",
          "Min_Salary_Year",
          "Min_Salary_Year",
          "Min_Salary_Year",
          "Min_Salary_Year",
          "Min_Salary_Year",
          "Min_Salary_Year",
          "Min_Salary_Year",
          "Min_Salary_Year",
          "Min_Salary_Year",
          "Min_Salary_Year",
          "Min_Salary_Year",
          "Min_Salary_Year",
          "Min_Salary_Year",
          "Min_Salary_Year",
          "Min_Salary_Year",
          "Min_Salary_Year",
          "Min_Salary_Year",
          "Min_Salary_Year",
          "Min_Salary_Year",
          "Min_Salary_Year",
          "Min_Salary_Year",
          "Min_Salary_Year",
          "Min_Salary_Year",
          "Min_Salary_Year",
          "Min_Salary_Year",
          "Min_Salary_Year",
          "Min_Salary_Year",
          "Min_Salary_Year",
          "Min_Salary_Year",
          "Min_Salary_Year",
          "Min_Salary_Year",
          "Min_Salary_Year",
          "Min_Salary_Year",
          "Min_Salary_Year",
          "Min_Salary_Year",
          "Min_Salary_Year",
          "Min_Salary_Year",
          "Min_Salary_Year",
          "Min_Salary_Year",
          "Min_Salary_Year",
          "Min_Salary_Year",
          "Min_Salary_Year",
          "Min_Salary_Year",
          "Min_Salary_Year",
          "Min_Salary_Year",
          "Min_Salary_Year",
          "Min_Salary_Year",
          "Min_Salary_Year",
          "Min_Salary_Year",
          "Min_Salary_Year",
          "Min_Salary_Year",
          "Min_Salary_Year",
          "Min_Salary_Year",
          "Min_Salary_Year",
          "Min_Salary_Year",
          "Min_Salary_Year",
          "Min_Salary_Year",
          "Min_Salary_Year",
          "Min_Salary_Year",
          "Min_Salary_Year",
          "Min_Salary_Year",
          "Min_Salary_Year",
          "Min_Salary_Year",
          "Min_Salary_Year",
          "Min_Salary_Year",
          "Min_Salary_Year",
          "Min_Salary_Year",
          "Min_Salary_Year",
          "Min_Salary_Year",
          "Min_Salary_Year",
          "Min_Salary_Year",
          "Min_Salary_Year",
          "Min_Salary_Year",
          "Min_Salary_Year",
          "Min_Salary_Year",
          "Min_Salary_Year",
          "Min_Salary_Year",
          "Min_Salary_Year",
          "Min_Salary_Year",
          "Min_Salary_Year",
          "Min_Salary_Year",
          "Min_Salary_Year",
          "Min_Salary_Year",
          "Min_Salary_Year",
          "Min_Salary_Year",
          "Min_Salary_Year",
          "Min_Salary_Year",
          "Min_Salary_Year",
          "Min_Salary_Year",
          "Min_Salary_Year",
          "Min_Salary_Year",
          "Min_Salary_Year",
          "Min_Salary_Year",
          "Min_Salary_Year",
          "Min_Salary_Year",
          "Min_Salary_Year",
          "Min_Salary_Year",
          "Min_Salary_Year",
          "Min_Salary_Year",
          "Min_Salary_Year",
          "Min_Salary_Year",
          "Min_Salary_Year",
          "Min_Salary_Year",
          "Min_Salary_Year",
          "Min_Salary_Year",
          "Min_Salary_Year",
          "Min_Salary_Year",
          "Min_Salary_Year",
          "Min_Salary_Year",
          "Min_Salary_Year",
          "Min_Salary_Year",
          "Min_Salary_Year",
          "Min_Salary_Year",
          "Min_Salary_Year",
          "Min_Salary_Year",
          "Min_Salary_Year",
          "Min_Salary_Year",
          "Min_Salary_Year",
          "Min_Salary_Year",
          "Min_Salary_Year",
          "Min_Salary_Year",
          "Min_Salary_Year",
          "Min_Salary_Year",
          "Min_Salary_Year",
          "Min_Salary_Year",
          "Min_Salary_Year",
          "Min_Salary_Year",
          "Min_Salary_Year",
          "Min_Salary_Year",
          "Min_Salary_Year",
          "Min_Salary_Year",
          "Min_Salary_Year",
          "Min_Salary_Year",
          "Min_Salary_Year",
          "Min_Salary_Year",
          "Min_Salary_Year",
          "Min_Salary_Year",
          "Min_Salary_Year",
          "Min_Salary_Year",
          "Min_Salary_Year",
          "Min_Salary_Year",
          "Min_Salary_Year",
          "Min_Salary_Year",
          "Min_Salary_Year",
          "Min_Salary_Year",
          "Min_Salary_Year",
          "Min_Salary_Year",
          "Min_Salary_Year",
          "Min_Salary_Year",
          "Min_Salary_Year",
          "Min_Salary_Year",
          "Min_Salary_Year",
          "Min_Salary_Year",
          "Min_Salary_Year",
          "Min_Salary_Year",
          "Min_Salary_Year",
          "Min_Salary_Year",
          "Min_Salary_Year",
          "Min_Salary_Year",
          "Min_Salary_Year",
          "Min_Salary_Year",
          "Min_Salary_Year",
          "Min_Salary_Year",
          "Min_Salary_Year",
          "Min_Salary_Year",
          "Min_Salary_Year",
          "Min_Salary_Year",
          "Min_Salary_Year",
          "Min_Salary_Year",
          "Min_Salary_Year",
          "Min_Salary_Year",
          "Min_Salary_Year",
          "Min_Salary_Year",
          "Min_Salary_Year",
          "Min_Salary_Year",
          "Min_Salary_Year",
          "Min_Salary_Year",
          "Min_Salary_Year",
          "Min_Salary_Year",
          "Min_Salary_Year",
          "Min_Salary_Year",
          "Min_Salary_Year",
          "Min_Salary_Year",
          "Min_Salary_Year",
          "Min_Salary_Year",
          "Min_Salary_Year",
          "Min_Salary_Year",
          "Min_Salary_Year",
          "Min_Salary_Year",
          "Min_Salary_Year",
          "Min_Salary_Year",
          "Min_Salary_Year",
          "Min_Salary_Year",
          "Min_Salary_Year",
          "Min_Salary_Year",
          "Min_Salary_Year",
          "Min_Salary_Year",
          "Min_Salary_Year",
          "Min_Salary_Year",
          "Min_Salary_Year",
          "Min_Salary_Year",
          "Min_Salary_Year",
          "Min_Salary_Year",
          "Min_Salary_Year",
          "Min_Salary_Year",
          "Min_Salary_Year",
          "Min_Salary_Year",
          "Min_Salary_Year",
          "Min_Salary_Year",
          "Min_Salary_Year",
          "Min_Salary_Year",
          "Min_Salary_Year",
          "Min_Salary_Year",
          "Min_Salary_Year",
          "Min_Salary_Year",
          "Min_Salary_Year",
          "Min_Salary_Year",
          "Min_Salary_Year",
          "Min_Salary_Year",
          "Min_Salary_Year",
          "Min_Salary_Year",
          "Min_Salary_Year",
          "Min_Salary_Year",
          "Min_Salary_Year",
          "Min_Salary_Year",
          "Min_Salary_Year",
          "Min_Salary_Year",
          "Min_Salary_Year",
          "Min_Salary_Year",
          "Min_Salary_Year",
          "Min_Salary_Year",
          "Min_Salary_Year",
          "Min_Salary_Year",
          "Min_Salary_Year",
          "Min_Salary_Year",
          "Min_Salary_Year",
          "Min_Salary_Year",
          "Min_Salary_Year",
          "Min_Salary_Year",
          "Min_Salary_Year",
          "Min_Salary_Year",
          "Min_Salary_Year",
          "Min_Salary_Year",
          "Min_Salary_Year",
          "Min_Salary_Year",
          "Min_Salary_Year",
          "Min_Salary_Year",
          "Min_Salary_Year",
          "Min_Salary_Year",
          "Min_Salary_Year",
          "Min_Salary_Year",
          "Min_Salary_Year",
          "Min_Salary_Year",
          "Min_Salary_Year",
          "Min_Salary_Year",
          "Min_Salary_Year",
          "Min_Salary_Year",
          "Min_Salary_Year",
          "Min_Salary_Year",
          "Min_Salary_Year",
          "Min_Salary_Year",
          "Min_Salary_Year",
          "Min_Salary_Year",
          "Min_Salary_Year",
          "Min_Salary_Year",
          "Min_Salary_Year",
          "Min_Salary_Year",
          "Min_Salary_Year",
          "Min_Salary_Year",
          "Min_Salary_Year",
          "Min_Salary_Year",
          "Min_Salary_Year",
          "Min_Salary_Year",
          "Min_Salary_Year",
          "Min_Salary_Year",
          "Min_Salary_Year",
          "Min_Salary_Year",
          "Min_Salary_Year",
          "Min_Salary_Year",
          "Min_Salary_Year",
          "Min_Salary_Year",
          "Min_Salary_Year",
          "Min_Salary_Year",
          "Min_Salary_Year",
          "Min_Salary_Year",
          "Min_Salary_Year",
          "Min_Salary_Year",
          "Min_Salary_Year",
          "Min_Salary_Year",
          "Min_Salary_Year",
          "Min_Salary_Year",
          "Min_Salary_Year",
          "Min_Salary_Year",
          "Min_Salary_Year",
          "Min_Salary_Year",
          "Min_Salary_Year",
          "Min_Salary_Year",
          "Min_Salary_Year",
          "Min_Salary_Year",
          "Min_Salary_Year",
          "Min_Salary_Year",
          "Min_Salary_Year",
          "Min_Salary_Year",
          "Min_Salary_Year",
          "Min_Salary_Year",
          "Min_Salary_Year",
          "Min_Salary_Year",
          "Min_Salary_Year",
          "Min_Salary_Year",
          "Min_Salary_Year",
          "Min_Salary_Year",
          "Min_Salary_Year",
          "Min_Salary_Year",
          "Min_Salary_Year",
          "Min_Salary_Year",
          "Min_Salary_Year",
          "Min_Salary_Year",
          "Min_Salary_Year",
          "Min_Salary_Year",
          "Min_Salary_Year",
          "Min_Salary_Year",
          "Min_Salary_Year",
          "Min_Salary_Year",
          "Min_Salary_Year",
          "Min_Salary_Year",
          "Min_Salary_Year",
          "Min_Salary_Year",
          "Min_Salary_Year",
          "Min_Salary_Year",
          "Min_Salary_Year",
          "Min_Salary_Year",
          "Min_Salary_Year",
          "Min_Salary_Year",
          "Min_Salary_Year",
          "Min_Salary_Year",
          "Min_Salary_Year",
          "Min_Salary_Year",
          "Min_Salary_Year",
          "Min_Salary_Year",
          "Min_Salary_Year",
          "Min_Salary_Year",
          "Min_Salary_Year",
          "Min_Salary_Year",
          "Min_Salary_Year",
          "Min_Salary_Year",
          "Min_Salary_Year",
          "Min_Salary_Year",
          "Min_Salary_Year",
          "Min_Salary_Year",
          "Min_Salary_Year",
          "Min_Salary_Year",
          "Min_Salary_Year",
          "Min_Salary_Year",
          "Min_Salary_Year",
          "Min_Salary_Year",
          "Min_Salary_Year",
          "Min_Salary_Year",
          "Min_Salary_Year",
          "Min_Salary_Year",
          "Min_Salary_Year",
          "Min_Salary_Year",
          "Min_Salary_Year",
          "Min_Salary_Year",
          "Min_Salary_Year",
          "Min_Salary_Year",
          "Min_Salary_Year",
          "Min_Salary_Year",
          "Min_Salary_Year",
          "Min_Salary_Year",
          "Min_Salary_Year",
          "Min_Salary_Year",
          "Min_Salary_Year",
          "Min_Salary_Year",
          "Min_Salary_Year",
          "Min_Salary_Year",
          "Min_Salary_Year",
          "Min_Salary_Year",
          "Min_Salary_Year",
          "Min_Salary_Year",
          "Min_Salary_Year",
          "Min_Salary_Year",
          "Min_Salary_Year",
          "Min_Salary_Year",
          "Min_Salary_Year",
          "Min_Salary_Year",
          "Min_Salary_Year",
          "Min_Salary_Year",
          "Min_Salary_Year",
          "Min_Salary_Year",
          "Min_Salary_Year",
          "Min_Salary_Year",
          "Min_Salary_Year",
          "Min_Salary_Year",
          "Min_Salary_Year",
          "Min_Salary_Year",
          "Min_Salary_Year",
          "Min_Salary_Year",
          "Min_Salary_Year",
          "Min_Salary_Year",
          "Min_Salary_Year",
          "Min_Salary_Year",
          "Min_Salary_Year",
          "Min_Salary_Year",
          "Min_Salary_Year",
          "Min_Salary_Year",
          "Min_Salary_Year",
          "Min_Salary_Year",
          "Min_Salary_Year",
          "Min_Salary_Year",
          "Min_Salary_Year",
          "Min_Salary_Year",
          "Min_Salary_Year",
          "Min_Salary_Year",
          "Min_Salary_Year",
          "Min_Salary_Year",
          "Min_Salary_Year",
          "Min_Salary_Year",
          "Min_Salary_Year",
          "Min_Salary_Year",
          "Min_Salary_Year",
          "Min_Salary_Year",
          "Min_Salary_Year",
          "Min_Salary_Year",
          "Min_Salary_Year",
          "Min_Salary_Year",
          "Min_Salary_Year",
          "Min_Salary_Year",
          "Min_Salary_Year",
          "Min_Salary_Year",
          "Min_Salary_Year",
          "Min_Salary_Year",
          "Min_Salary_Year",
          "Min_Salary_Year",
          "Min_Salary_Year",
          "Min_Salary_Year",
          "Min_Salary_Year",
          "Min_Salary_Year",
          "Min_Salary_Year",
          "Min_Salary_Year",
          "Min_Salary_Year",
          "Min_Salary_Year",
          "Min_Salary_Year",
          "Min_Salary_Year",
          "Min_Salary_Year",
          "Min_Salary_Year",
          "Min_Salary_Year",
          "Min_Salary_Year",
          "Min_Salary_Year",
          "Min_Salary_Year",
          "Min_Salary_Year",
          "Min_Salary_Year",
          "Min_Salary_Year",
          "Min_Salary_Year",
          "Min_Salary_Year",
          "Min_Salary_Year",
          "Min_Salary_Year",
          "Min_Salary_Year",
          "Min_Salary_Year",
          "Min_Salary_Year",
          "Min_Salary_Year",
          "Min_Salary_Year",
          "Min_Salary_Year",
          "Min_Salary_Year",
          "Min_Salary_Year",
          "Min_Salary_Year",
          "Min_Salary_Year",
          "Min_Salary_Year",
          "Min_Salary_Year",
          "Min_Salary_Year",
          "Min_Salary_Year",
          "Min_Salary_Year",
          "Min_Salary_Year",
          "Min_Salary_Year",
          "Min_Salary_Year",
          "Min_Salary_Year",
          "Min_Salary_Year",
          "Min_Salary_Year",
          "Min_Salary_Year",
          "Min_Salary_Year",
          "Min_Salary_Year",
          "Min_Salary_Year",
          "Min_Salary_Year",
          "Min_Salary_Year",
          "Min_Salary_Year",
          "Min_Salary_Year",
          "Min_Salary_Year",
          "Min_Salary_Year",
          "Min_Salary_Year",
          "Min_Salary_Year",
          "Min_Salary_Year",
          "Min_Salary_Year",
          "Min_Salary_Year",
          "Min_Salary_Year",
          "Min_Salary_Year",
          "Min_Salary_Year",
          "Min_Salary_Year",
          "Min_Salary_Year",
          "Min_Salary_Year",
          "Min_Salary_Year",
          "Min_Salary_Year",
          "Min_Salary_Year",
          "Min_Salary_Year",
          "Min_Salary_Year",
          "Min_Salary_Year",
          "Min_Salary_Year",
          "Min_Salary_Year",
          "Min_Salary_Year",
          "Min_Salary_Year",
          "Min_Salary_Year",
          "Min_Salary_Year",
          "Min_Salary_Year",
          "Min_Salary_Year",
          "Min_Salary_Year",
          "Min_Salary_Year",
          "Min_Salary_Year",
          "Min_Salary_Year",
          "Min_Salary_Year",
          "Min_Salary_Year",
          "Min_Salary_Year",
          "Min_Salary_Year",
          "Min_Salary_Year",
          "Min_Salary_Year",
          "Min_Salary_Year",
          "Min_Salary_Year",
          "Min_Salary_Year",
          "Min_Salary_Year",
          "Min_Salary_Year",
          "Min_Salary_Year",
          "Min_Salary_Year",
          "Min_Salary_Year",
          "Min_Salary_Year",
          "Min_Salary_Year",
          "Min_Salary_Year",
          "Min_Salary_Year",
          "Min_Salary_Year",
          "Min_Salary_Year",
          "Min_Salary_Year",
          "Min_Salary_Year",
          "Min_Salary_Year",
          "Min_Salary_Year",
          "Min_Salary_Year",
          "Min_Salary_Year",
          "Min_Salary_Year",
          "Min_Salary_Year",
          "Min_Salary_Year",
          "Min_Salary_Year",
          "Min_Salary_Year",
          "Min_Salary_Year",
          "Min_Salary_Year",
          "Min_Salary_Year",
          "Min_Salary_Year",
          "Min_Salary_Year",
          "Min_Salary_Year",
          "Min_Salary_Year",
          "Min_Salary_Year",
          "Min_Salary_Year",
          "Min_Salary_Year",
          "Min_Salary_Year",
          "Min_Salary_Year",
          "Min_Salary_Year",
          "Min_Salary_Year",
          "Min_Salary_Year",
          "Min_Salary_Year",
          "Min_Salary_Year",
          "Min_Salary_Year",
          "Min_Salary_Year",
          "Min_Salary_Year",
          "Min_Salary_Year",
          "Min_Salary_Year",
          "Min_Salary_Year",
          "Min_Salary_Year",
          "Min_Salary_Year",
          "Min_Salary_Year",
          "Min_Salary_Year",
          "Min_Salary_Year",
          "Min_Salary_Year",
          "Min_Salary_Year",
          "Min_Salary_Year",
          "Min_Salary_Year",
          "Min_Salary_Year",
          "Min_Salary_Year",
          "Min_Salary_Year",
          "Min_Salary_Year",
          "Min_Salary_Year",
          "Min_Salary_Year",
          "Min_Salary_Year",
          "Min_Salary_Year",
          "Min_Salary_Year",
          "Min_Salary_Year",
          "Min_Salary_Year",
          "Min_Salary_Year",
          "Min_Salary_Year",
          "Min_Salary_Year",
          "Min_Salary_Year",
          "Min_Salary_Year",
          "Min_Salary_Year",
          "Min_Salary_Year",
          "Min_Salary_Year",
          "Min_Salary_Year",
          "Min_Salary_Year",
          "Min_Salary_Year",
          "Min_Salary_Year",
          "Min_Salary_Year",
          "Min_Salary_Year",
          "Min_Salary_Year",
          "Min_Salary_Year",
          "Min_Salary_Year",
          "Min_Salary_Year",
          "Min_Salary_Year",
          "Min_Salary_Year",
          "Min_Salary_Year",
          "Min_Salary_Year",
          "Min_Salary_Year",
          "Min_Salary_Year",
          "Min_Salary_Year",
          "Min_Salary_Year",
          "Min_Salary_Year",
          "Min_Salary_Year",
          "Min_Salary_Year",
          "Min_Salary_Year",
          "Min_Salary_Year",
          "Min_Salary_Year",
          "Min_Salary_Year",
          "Min_Salary_Year",
          "Min_Salary_Year",
          "Min_Salary_Year",
          "Min_Salary_Year",
          "Min_Salary_Year",
          "Min_Salary_Year",
          "Min_Salary_Year",
          "Min_Salary_Year",
          "Min_Salary_Year",
          "Min_Salary_Year",
          "Min_Salary_Year",
          "Min_Salary_Year",
          "Min_Salary_Year",
          "Min_Salary_Year",
          "Min_Salary_Year",
          "Min_Salary_Year",
          "Min_Salary_Year",
          "Min_Salary_Year",
          "Min_Salary_Year",
          "Min_Salary_Year",
          "Min_Salary_Year",
          "Min_Salary_Year",
          "Min_Salary_Year",
          "Min_Salary_Year",
          "Min_Salary_Year",
          "Min_Salary_Year",
          "Min_Salary_Year",
          "Min_Salary_Year",
          "Min_Salary_Year",
          "Min_Salary_Year",
          "Min_Salary_Year",
          "Min_Salary_Year",
          "Min_Salary_Year",
          "Min_Salary_Year",
          "Min_Salary_Year",
          "Min_Salary_Year",
          "Min_Salary_Year",
          "Min_Salary_Year",
          "Min_Salary_Year",
          "Min_Salary_Year",
          "Min_Salary_Year",
          "Min_Salary_Year",
          "Min_Salary_Year",
          "Min_Salary_Year",
          "Min_Salary_Year",
          "Min_Salary_Year",
          "Min_Salary_Year",
          "Min_Salary_Year",
          "Min_Salary_Year",
          "Min_Salary_Year",
          "Min_Salary_Year",
          "Min_Salary_Year",
          "Min_Salary_Year",
          "Min_Salary_Year",
          "Min_Salary_Year",
          "Min_Salary_Year",
          "Min_Salary_Year",
          "Min_Salary_Year",
          "Min_Salary_Year",
          "Min_Salary_Year",
          "Min_Salary_Year",
          "Min_Salary_Year",
          "Min_Salary_Year",
          "Min_Salary_Year",
          "Min_Salary_Year",
          "Min_Salary_Year",
          "Min_Salary_Year",
          "Min_Salary_Year",
          "Min_Salary_Year",
          "Min_Salary_Year",
          "Min_Salary_Year",
          "Min_Salary_Year",
          "Min_Salary_Year",
          "Min_Salary_Year",
          "Min_Salary_Year",
          "Min_Salary_Year",
          "Min_Salary_Year",
          "Min_Salary_Year",
          "Min_Salary_Year",
          "Min_Salary_Year",
          "Min_Salary_Year",
          "Min_Salary_Year",
          "Min_Salary_Year",
          "Min_Salary_Year",
          "Min_Salary_Year",
          "Min_Salary_Year",
          "Min_Salary_Year",
          "Min_Salary_Year",
          "Min_Salary_Year",
          "Min_Salary_Year",
          "Min_Salary_Year",
          "Min_Salary_Year",
          "Min_Salary_Year",
          "Min_Salary_Year",
          "Min_Salary_Year",
          "Min_Salary_Year",
          "Min_Salary_Year",
          "Min_Salary_Year",
          "Min_Salary_Year",
          "Min_Salary_Year",
          "Min_Salary_Year",
          "Min_Salary_Year",
          "Min_Salary_Year",
          "Min_Salary_Year",
          "Min_Salary_Year",
          "Min_Salary_Year",
          "Min_Salary_Year",
          "Min_Salary_Year",
          "Min_Salary_Year",
          "Min_Salary_Year",
          "Min_Salary_Year",
          "Min_Salary_Year",
          "Min_Salary_Year",
          "Min_Salary_Year",
          "Min_Salary_Year",
          "Min_Salary_Year",
          "Min_Salary_Year",
          "Min_Salary_Year",
          "Min_Salary_Year",
          "Min_Salary_Year",
          "Min_Salary_Year",
          "Min_Salary_Year",
          "Min_Salary_Year",
          "Min_Salary_Year",
          "Min_Salary_Year",
          "Min_Salary_Year",
          "Min_Salary_Year",
          "Min_Salary_Year",
          "Min_Salary_Year",
          "Min_Salary_Year",
          "Min_Salary_Year",
          "Min_Salary_Year",
          "Min_Salary_Year",
          "Min_Salary_Year",
          "Min_Salary_Year",
          "Min_Salary_Year",
          "Min_Salary_Year",
          "Min_Salary_Year",
          "Min_Salary_Year",
          "Min_Salary_Year",
          "Min_Salary_Year",
          "Min_Salary_Year",
          "Min_Salary_Year",
          "Min_Salary_Year",
          "Min_Salary_Year",
          "Min_Salary_Year",
          "Min_Salary_Year",
          "Min_Salary_Year",
          "Min_Salary_Year",
          "Min_Salary_Year",
          "Min_Salary_Year",
          "Min_Salary_Year",
          "Min_Salary_Year",
          "Min_Salary_Year",
          "Min_Salary_Year",
          "Min_Salary_Year",
          "Min_Salary_Year",
          "Min_Salary_Year",
          "Min_Salary_Year",
          "Min_Salary_Year",
          "Min_Salary_Year",
          "Min_Salary_Year",
          "Min_Salary_Year",
          "Min_Salary_Year",
          "Min_Salary_Year",
          "Min_Salary_Year",
          "Min_Salary_Year",
          "Min_Salary_Year",
          "Min_Salary_Year",
          "Min_Salary_Year",
          "Min_Salary_Year",
          "Min_Salary_Year",
          "Min_Salary_Year",
          "Min_Salary_Year",
          "Min_Salary_Year",
          "Min_Salary_Year",
          "Min_Salary_Year",
          "Min_Salary_Year",
          "Min_Salary_Year",
          "Min_Salary_Year",
          "Min_Salary_Year",
          "Min_Salary_Year",
          "Min_Salary_Year",
          "Min_Salary_Year",
          "Min_Salary_Year",
          "Min_Salary_Year",
          "Min_Salary_Year",
          "Min_Salary_Year",
          "Min_Salary_Year",
          "Min_Salary_Year",
          "Min_Salary_Year",
          "Min_Salary_Year",
          "Min_Salary_Year",
          "Min_Salary_Year",
          "Min_Salary_Year",
          "Min_Salary_Year",
          "Min_Salary_Year",
          "Min_Salary_Year",
          "Min_Salary_Year",
          "Min_Salary_Year",
          "Min_Salary_Year",
          "Min_Salary_Year",
          "Min_Salary_Year",
          "Min_Salary_Year",
          "Min_Salary_Year",
          "Min_Salary_Year",
          "Min_Salary_Year",
          "Min_Salary_Year",
          "Min_Salary_Year",
          "Min_Salary_Year",
          "Min_Salary_Year",
          "Min_Salary_Year",
          "Min_Salary_Year",
          "Min_Salary_Year",
          "Min_Salary_Year",
          "Min_Salary_Year",
          "Min_Salary_Year",
          "Min_Salary_Year",
          "Min_Salary_Year",
          "Min_Salary_Year",
          "Min_Salary_Year",
          "Min_Salary_Year",
          "Min_Salary_Year",
          "Min_Salary_Year",
          "Min_Salary_Year",
          "Min_Salary_Year",
          "Min_Salary_Year",
          "Min_Salary_Year",
          "Min_Salary_Year",
          "Min_Salary_Year",
          "Min_Salary_Year",
          "Min_Salary_Year",
          "Min_Salary_Year",
          "Min_Salary_Year",
          "Min_Salary_Year",
          "Min_Salary_Year",
          "Min_Salary_Year",
          "Min_Salary_Year",
          "Min_Salary_Year",
          "Min_Salary_Year",
          "Min_Salary_Year",
          "Min_Salary_Year",
          "Min_Salary_Year",
          "Min_Salary_Year",
          "Min_Salary_Year",
          "Min_Salary_Year",
          "Min_Salary_Year",
          "Min_Salary_Year",
          "Min_Salary_Year",
          "Min_Salary_Year",
          "Min_Salary_Year",
          "Min_Salary_Year",
          "Min_Salary_Year",
          "Min_Salary_Year",
          "Min_Salary_Year",
          "Min_Salary_Year",
          "Min_Salary_Year",
          "Min_Salary_Year",
          "Min_Salary_Year",
          "Min_Salary_Year",
          "Min_Salary_Year",
          "Min_Salary_Year",
          "Min_Salary_Year",
          "Min_Salary_Year",
          "Min_Salary_Year",
          "Min_Salary_Year",
          "Min_Salary_Year",
          "Min_Salary_Year",
          "Min_Salary_Year",
          "Min_Salary_Year",
          "Min_Salary_Year",
          "Min_Salary_Year",
          "Min_Salary_Year",
          "Min_Salary_Year",
          "Min_Salary_Year",
          "Min_Salary_Year",
          "Min_Salary_Year",
          "Min_Salary_Year",
          "Min_Salary_Year",
          "Min_Salary_Year",
          "Min_Salary_Year",
          "Min_Salary_Year",
          "Min_Salary_Year",
          "Min_Salary_Year",
          "Min_Salary_Year",
          "Min_Salary_Year",
          "Min_Salary_Year",
          "Min_Salary_Year",
          "Min_Salary_Year",
          "Min_Salary_Year",
          "Min_Salary_Year",
          "Min_Salary_Year",
          "Min_Salary_Year",
          "Min_Salary_Year",
          "Min_Salary_Year",
          "Min_Salary_Year",
          "Min_Salary_Year",
          "Min_Salary_Year",
          "Min_Salary_Year",
          "Min_Salary_Year",
          "Min_Salary_Year",
          "Min_Salary_Year",
          "Min_Salary_Year",
          "Min_Salary_Year",
          "Min_Salary_Year",
          "Min_Salary_Year",
          "Min_Salary_Year",
          "Min_Salary_Year",
          "Min_Salary_Year",
          "Min_Salary_Year",
          "Min_Salary_Year",
          "Min_Salary_Year",
          "Min_Salary_Year",
          "Min_Salary_Year",
          "Min_Salary_Year",
          "Min_Salary_Year",
          "Min_Salary_Year",
          "Min_Salary_Year",
          "Min_Salary_Year",
          "Min_Salary_Year",
          "Min_Salary_Year",
          "Min_Salary_Year",
          "Min_Salary_Year",
          "Min_Salary_Year",
          "Min_Salary_Year",
          "Min_Salary_Year",
          "Min_Salary_Year",
          "Min_Salary_Year",
          "Min_Salary_Year",
          "Min_Salary_Year",
          "Min_Salary_Year",
          "Min_Salary_Year",
          "Min_Salary_Year",
          "Min_Salary_Year",
          "Min_Salary_Year",
          "Min_Salary_Year",
          "Min_Salary_Year",
          "Min_Salary_Year",
          "Min_Salary_Year",
          "Min_Salary_Year",
          "Min_Salary_Year",
          "Min_Salary_Year",
          "Min_Salary_Year",
          "Min_Salary_Year",
          "Min_Salary_Year",
          "Min_Salary_Year",
          "Min_Salary_Year",
          "Min_Salary_Year",
          "Min_Salary_Year",
          "Min_Salary_Year",
          "Min_Salary_Year",
          "Min_Salary_Year",
          "Min_Salary_Year",
          "Min_Salary_Year",
          "Min_Salary_Year",
          "Min_Salary_Year",
          "Min_Salary_Year",
          "Min_Salary_Year",
          "Min_Salary_Year",
          "Min_Salary_Year",
          "Min_Salary_Year",
          "Min_Salary_Year",
          "Min_Salary_Year",
          "Min_Salary_Year",
          "Min_Salary_Year",
          "Min_Salary_Year",
          "Min_Salary_Year",
          "Min_Salary_Year",
          "Min_Salary_Year",
          "Min_Salary_Year",
          "Min_Salary_Year",
          "Min_Salary_Year",
          "Min_Salary_Year",
          "Min_Salary_Year",
          "Min_Salary_Year",
          "Min_Salary_Year",
          "Min_Salary_Year",
          "Min_Salary_Year",
          "Min_Salary_Year",
          "Min_Salary_Year",
          "Min_Salary_Year",
          "Min_Salary_Year",
          "Min_Salary_Year",
          "Min_Salary_Year",
          "Min_Salary_Year",
          "Min_Salary_Year",
          "Min_Salary_Year",
          "Min_Salary_Year",
          "Min_Salary_Year",
          "Min_Salary_Year",
          "Min_Salary_Year",
          "Min_Salary_Year",
          "Min_Salary_Year",
          "Min_Salary_Year",
          "Min_Salary_Year",
          "Min_Salary_Year",
          "Min_Salary_Year",
          "Min_Salary_Year",
          "Min_Salary_Year",
          "Min_Salary_Year",
          "Min_Salary_Year",
          "Min_Salary_Year",
          "Min_Salary_Year",
          "Min_Salary_Year",
          "Min_Salary_Year",
          "Min_Salary_Year",
          "Min_Salary_Year",
          "Min_Salary_Year",
          "Min_Salary_Year",
          "Min_Salary_Year",
          "Min_Salary_Year",
          "Min_Salary_Year",
          "Min_Salary_Year",
          "Min_Salary_Year",
          "Min_Salary_Year",
          "Min_Salary_Year",
          "Min_Salary_Year",
          "Min_Salary_Year",
          "Min_Salary_Year",
          "Min_Salary_Year",
          "Min_Salary_Year",
          "Min_Salary_Year",
          "Min_Salary_Year",
          "Min_Salary_Year",
          "Min_Salary_Year",
          "Min_Salary_Year",
          "Min_Salary_Year",
          "Min_Salary_Year",
          "Min_Salary_Year",
          "Min_Salary_Year",
          "Min_Salary_Year",
          "Min_Salary_Year",
          "Min_Salary_Year",
          "Min_Salary_Year",
          "Min_Salary_Year",
          "Min_Salary_Year",
          "Min_Salary_Year",
          "Min_Salary_Year",
          "Min_Salary_Year",
          "Min_Salary_Year",
          "Min_Salary_Year",
          "Min_Salary_Year",
          "Min_Salary_Year",
          "Min_Salary_Year",
          "Min_Salary_Year",
          "Min_Salary_Year",
          "Min_Salary_Year",
          "Min_Salary_Year",
          "Min_Salary_Year",
          "Min_Salary_Year",
          "Min_Salary_Year",
          "Min_Salary_Year",
          "Min_Salary_Year",
          "Min_Salary_Year",
          "Min_Salary_Year",
          "Min_Salary_Year",
          "Min_Salary_Year",
          "Min_Salary_Year",
          "Min_Salary_Year",
          "Min_Salary_Year",
          "Min_Salary_Year",
          "Min_Salary_Year",
          "Min_Salary_Year",
          "Min_Salary_Year",
          "Min_Salary_Year",
          "Min_Salary_Year",
          "Min_Salary_Year",
          "Min_Salary_Year",
          "Min_Salary_Year",
          "Min_Salary_Year",
          "Min_Salary_Year",
          "Min_Salary_Year",
          "Min_Salary_Year",
          "Min_Salary_Year",
          "Min_Salary_Year",
          "Min_Salary_Year",
          "Min_Salary_Year",
          "Min_Salary_Year",
          "Min_Salary_Year",
          "Min_Salary_Year",
          "Min_Salary_Year",
          "Min_Salary_Year",
          "Min_Salary_Year",
          "Min_Salary_Year",
          "Min_Salary_Year",
          "Min_Salary_Year",
          "Min_Salary_Year",
          "Min_Salary_Year",
          "Min_Salary_Year",
          "Min_Salary_Year",
          "Min_Salary_Year",
          "Min_Salary_Year",
          "Min_Salary_Year",
          "Min_Salary_Year",
          "Min_Salary_Year",
          "Min_Salary_Year",
          "Min_Salary_Year",
          "Min_Salary_Year",
          "Min_Salary_Year",
          "Min_Salary_Year",
          "Min_Salary_Year",
          "Min_Salary_Year",
          "Min_Salary_Year",
          "Min_Salary_Year",
          "Min_Salary_Year",
          "Min_Salary_Year",
          "Min_Salary_Year",
          "Min_Salary_Year",
          "Min_Salary_Year",
          "Min_Salary_Year",
          "Min_Salary_Year",
          "Min_Salary_Year",
          "Min_Salary_Year",
          "Min_Salary_Year",
          "Min_Salary_Year",
          "Min_Salary_Year",
          "Min_Salary_Year",
          "Min_Salary_Year",
          "Min_Salary_Year",
          "Min_Salary_Year",
          "Min_Salary_Year",
          "Min_Salary_Year",
          "Min_Salary_Year",
          "Min_Salary_Year",
          "Min_Salary_Year",
          "Min_Salary_Year",
          "Min_Salary_Year",
          "Min_Salary_Year",
          "Min_Salary_Year",
          "Min_Salary_Year",
          "Min_Salary_Year",
          "Min_Salary_Year",
          "Min_Salary_Year",
          "Min_Salary_Year",
          "Min_Salary_Year",
          "Min_Salary_Year",
          "Min_Salary_Year",
          "Min_Salary_Year",
          "Min_Salary_Year",
          "Min_Salary_Year",
          "Min_Salary_Year",
          "Min_Salary_Year",
          "Min_Salary_Year",
          "Min_Salary_Year",
          "Min_Salary_Year",
          "Min_Salary_Year",
          "Min_Salary_Year",
          "Min_Salary_Year",
          "Min_Salary_Year",
          "Min_Salary_Year",
          "Min_Salary_Year",
          "Min_Salary_Year",
          "Min_Salary_Year",
          "Min_Salary_Year",
          "Min_Salary_Year",
          "Min_Salary_Year",
          "Min_Salary_Year",
          "Min_Salary_Year",
          "Min_Salary_Year",
          "Min_Salary_Year",
          "Min_Salary_Year",
          "Min_Salary_Year",
          "Min_Salary_Year",
          "Min_Salary_Year",
          "Min_Salary_Year",
          "Min_Salary_Year",
          "Min_Salary_Year",
          "Min_Salary_Year",
          "Min_Salary_Year",
          "Min_Salary_Year",
          "Min_Salary_Year",
          "Min_Salary_Year",
          "Min_Salary_Year",
          "Min_Salary_Year",
          "Min_Salary_Year",
          "Min_Salary_Year",
          "Min_Salary_Year",
          "Min_Salary_Year",
          "Min_Salary_Year",
          "Min_Salary_Year",
          "Min_Salary_Year",
          "Min_Salary_Year",
          "Min_Salary_Year",
          "Min_Salary_Year",
          "Min_Salary_Year",
          "Min_Salary_Year",
          "Min_Salary_Year",
          "Min_Salary_Year",
          "Min_Salary_Year",
          "Min_Salary_Year",
          "Min_Salary_Year",
          "Min_Salary_Year",
          "Min_Salary_Year",
          "Min_Salary_Year",
          "Min_Salary_Year",
          "Min_Salary_Year",
          "Min_Salary_Year",
          "Min_Salary_Year",
          "Min_Salary_Year",
          "Min_Salary_Year",
          "Min_Salary_Year",
          "Min_Salary_Year",
          "Min_Salary_Year",
          "Min_Salary_Year",
          "Min_Salary_Year",
          "Min_Salary_Year",
          "Min_Salary_Year",
          "Min_Salary_Year",
          "Min_Salary_Year",
          "Min_Salary_Year",
          "Min_Salary_Year",
          "Min_Salary_Year",
          "Min_Salary_Year",
          "Min_Salary_Year",
          "Min_Salary_Year",
          "Min_Salary_Year",
          "Min_Salary_Year",
          "Min_Salary_Year",
          "Min_Salary_Year",
          "Min_Salary_Year",
          "Min_Salary_Year",
          "Min_Salary_Year",
          "Min_Salary_Year",
          "Min_Salary_Year",
          "Min_Salary_Year",
          "Min_Salary_Year",
          "Min_Salary_Year",
          "Min_Salary_Year",
          "Min_Salary_Year",
          "Min_Salary_Year",
          "Min_Salary_Year",
          "Min_Salary_Year",
          "Min_Salary_Year",
          "Min_Salary_Year",
          "Min_Salary_Year",
          "Min_Salary_Year",
          "Min_Salary_Year",
          "Min_Salary_Year",
          "Min_Salary_Year",
          "Min_Salary_Year",
          "Min_Salary_Year",
          "Min_Salary_Year",
          "Min_Salary_Year",
          "Min_Salary_Year",
          "Min_Salary_Year",
          "Min_Salary_Year",
          "Min_Salary_Year",
          "Min_Salary_Year",
          "Min_Salary_Year",
          "Min_Salary_Year",
          "Min_Salary_Year",
          "Min_Salary_Year",
          "Min_Salary_Year",
          "Min_Salary_Year",
          "Min_Salary_Year",
          "Min_Salary_Year",
          "Min_Salary_Year",
          "Min_Salary_Year",
          "Min_Salary_Year",
          "Min_Salary_Year",
          "Min_Salary_Year",
          "Min_Salary_Year",
          "Min_Salary_Year",
          "Min_Salary_Year",
          "Min_Salary_Year",
          "Min_Salary_Year",
          "Min_Salary_Year",
          "Min_Salary_Year",
          "Min_Salary_Year",
          "Min_Salary_Year",
          "Min_Salary_Year",
          "Min_Salary_Year",
          "Min_Salary_Year",
          "Min_Salary_Year",
          "Min_Salary_Year",
          "Min_Salary_Year",
          "Min_Salary_Year",
          "Min_Salary_Year",
          "Min_Salary_Year",
          "Min_Salary_Year",
          "Min_Salary_Year",
          "Min_Salary_Year",
          "Min_Salary_Year",
          "Min_Salary_Year",
          "Min_Salary_Year",
          "Min_Salary_Year",
          "Min_Salary_Year",
          "Min_Salary_Year",
          "Min_Salary_Year",
          "Min_Salary_Year",
          "Min_Salary_Year",
          "Min_Salary_Year",
          "Min_Salary_Year",
          "Min_Salary_Year",
          "Min_Salary_Year",
          "Min_Salary_Year",
          "Min_Salary_Year",
          "Min_Salary_Year",
          "Min_Salary_Year",
          "Min_Salary_Year",
          "Min_Salary_Year",
          "Min_Salary_Year",
          "Min_Salary_Year",
          "Min_Salary_Year",
          "Min_Salary_Year",
          "Min_Salary_Year",
          "Min_Salary_Year",
          "Min_Salary_Year",
          "Min_Salary_Year",
          "Min_Salary_Year",
          "Min_Salary_Year",
          "Min_Salary_Year",
          "Min_Salary_Year",
          "Min_Salary_Year",
          "Min_Salary_Year",
          "Min_Salary_Year",
          "Min_Salary_Year",
          "Min_Salary_Year",
          "Min_Salary_Year",
          "Min_Salary_Year",
          "Min_Salary_Year",
          "Min_Salary_Year",
          "Min_Salary_Year",
          "Min_Salary_Year",
          "Min_Salary_Year",
          "Min_Salary_Year",
          "Min_Salary_Year",
          "Min_Salary_Year",
          "Min_Salary_Year",
          "Min_Salary_Year",
          "Min_Salary_Year",
          "Min_Salary_Year",
          "Min_Salary_Year",
          "Min_Salary_Year",
          "Min_Salary_Year",
          "Min_Salary_Year",
          "Min_Salary_Year",
          "Min_Salary_Year",
          "Min_Salary_Year",
          "Min_Salary_Year",
          "Min_Salary_Year",
          "Min_Salary_Year",
          "Min_Salary_Year",
          "Min_Salary_Year",
          "Min_Salary_Year",
          "Min_Salary_Year",
          "Min_Salary_Year",
          "Min_Salary_Year",
          "Min_Salary_Year",
          "Min_Salary_Year",
          "Min_Salary_Year",
          "Min_Salary_Year",
          "Min_Salary_Year",
          "Min_Salary_Year",
          "Min_Salary_Year",
          "Min_Salary_Year",
          "Min_Salary_Year",
          "Min_Salary_Year",
          "Min_Salary_Year",
          "Min_Salary_Year",
          "Min_Salary_Year",
          "Min_Salary_Year",
          "Min_Salary_Year",
          "Min_Salary_Year",
          "Min_Salary_Year",
          "Min_Salary_Year",
          "Min_Salary_Year",
          "Min_Salary_Year",
          "Min_Salary_Year",
          "Min_Salary_Year",
          "Min_Salary_Year",
          "Min_Salary_Year",
          "Min_Salary_Year",
          "Min_Salary_Year",
          "Min_Salary_Year",
          "Min_Salary_Year",
          "Min_Salary_Year",
          "Min_Salary_Year",
          "Min_Salary_Year",
          "Min_Salary_Year",
          "Min_Salary_Year",
          "Min_Salary_Year",
          "Min_Salary_Year",
          "Min_Salary_Year",
          "Min_Salary_Year",
          "Min_Salary_Year",
          "Min_Salary_Year",
          "Min_Salary_Year",
          "Min_Salary_Year",
          "Min_Salary_Year",
          "Min_Salary_Year",
          "Min_Salary_Year",
          "Min_Salary_Year",
          "Min_Salary_Year",
          "Min_Salary_Year",
          "Min_Salary_Year",
          "Min_Salary_Year",
          "Min_Salary_Year",
          "Min_Salary_Year",
          "Min_Salary_Year",
          "Min_Salary_Year",
          "Min_Salary_Year",
          "Min_Salary_Year",
          "Min_Salary_Year",
          "Min_Salary_Year",
          "Min_Salary_Year",
          "Min_Salary_Year",
          "Min_Salary_Year",
          "Min_Salary_Year",
          "Min_Salary_Year",
          "Min_Salary_Year",
          "Min_Salary_Year",
          "Min_Salary_Year",
          "Min_Salary_Year",
          "Min_Salary_Year",
          "Min_Salary_Year",
          "Min_Salary_Year",
          "Min_Salary_Year",
          "Min_Salary_Year",
          "Min_Salary_Year",
          "Min_Salary_Year",
          "Min_Salary_Year",
          "Min_Salary_Year",
          "Min_Salary_Year",
          "Min_Salary_Year",
          "Min_Salary_Year",
          "Min_Salary_Year",
          "Min_Salary_Year",
          "Min_Salary_Year",
          "Min_Salary_Year",
          "Min_Salary_Year",
          "Min_Salary_Year",
          "Min_Salary_Year",
          "Min_Salary_Year",
          "Min_Salary_Year",
          "Min_Salary_Year",
          "Min_Salary_Year",
          "Min_Salary_Year",
          "Min_Salary_Year",
          "Min_Salary_Year",
          "Min_Salary_Year",
          "Min_Salary_Year",
          "Min_Salary_Year",
          "Min_Salary_Year",
          "Min_Salary_Year",
          "Min_Salary_Year",
          "Min_Salary_Year",
          "Min_Salary_Year",
          "Min_Salary_Year",
          "Min_Salary_Year",
          "Min_Salary_Year",
          "Min_Salary_Year",
          "Min_Salary_Year",
          "Min_Salary_Year",
          "Min_Salary_Year",
          "Min_Salary_Year",
          "Min_Salary_Year",
          "Min_Salary_Year",
          "Min_Salary_Year",
          "Min_Salary_Year",
          "Min_Salary_Year",
          "Min_Salary_Year",
          "Min_Salary_Year",
          "Min_Salary_Year",
          "Min_Salary_Year",
          "Min_Salary_Year",
          "Min_Salary_Year",
          "Min_Salary_Year",
          "Min_Salary_Year",
          "Min_Salary_Year",
          "Min_Salary_Year",
          "Min_Salary_Year",
          "Min_Salary_Year",
          "Min_Salary_Year",
          "Min_Salary_Year",
          "Min_Salary_Year",
          "Min_Salary_Year",
          "Min_Salary_Year",
          "Min_Salary_Year",
          "Min_Salary_Year",
          "Min_Salary_Year",
          "Min_Salary_Year",
          "Min_Salary_Year",
          "Min_Salary_Year",
          "Min_Salary_Year",
          "Min_Salary_Year",
          "Min_Salary_Year",
          "Min_Salary_Year",
          "Min_Salary_Year",
          "Min_Salary_Year",
          "Min_Salary_Year",
          "Min_Salary_Year",
          "Min_Salary_Year",
          "Min_Salary_Year",
          "Min_Salary_Year",
          "Min_Salary_Year",
          "Min_Salary_Year",
          "Min_Salary_Year",
          "Min_Salary_Year",
          "Min_Salary_Year",
          "Min_Salary_Year",
          "Min_Salary_Year",
          "Min_Salary_Year",
          "Min_Salary_Year",
          "Min_Salary_Year",
          "Min_Salary_Year",
          "Min_Salary_Year",
          "Min_Salary_Year",
          "Min_Salary_Year",
          "Min_Salary_Year",
          "Min_Salary_Year",
          "Min_Salary_Year",
          "Min_Salary_Year",
          "Min_Salary_Year",
          "Min_Salary_Year",
          "Min_Salary_Year",
          "Min_Salary_Year",
          "Min_Salary_Year",
          "Min_Salary_Year",
          "Min_Salary_Year",
          "Min_Salary_Year",
          "Min_Salary_Year",
          "Min_Salary_Year",
          "Min_Salary_Year",
          "Min_Salary_Year",
          "Min_Salary_Year",
          "Min_Salary_Year",
          "Min_Salary_Year",
          "Min_Salary_Year",
          "Min_Salary_Year",
          "Min_Salary_Year",
          "Min_Salary_Year",
          "Min_Salary_Year",
          "Min_Salary_Year",
          "Min_Salary_Year",
          "Min_Salary_Year",
          "Min_Salary_Year",
          "Min_Salary_Year",
          "Min_Salary_Year",
          "Min_Salary_Year",
          "Min_Salary_Year",
          "Min_Salary_Year",
          "Min_Salary_Year",
          "Min_Salary_Year",
          "Min_Salary_Year",
          "Min_Salary_Year",
          "Min_Salary_Year",
          "Min_Salary_Year",
          "Min_Salary_Year",
          "Min_Salary_Year",
          "Min_Salary_Year",
          "Min_Salary_Year",
          "Min_Salary_Year",
          "Min_Salary_Year",
          "Min_Salary_Year",
          "Min_Salary_Year",
          "Min_Salary_Year",
          "Min_Salary_Year",
          "Min_Salary_Year",
          "Min_Salary_Year",
          "Min_Salary_Year",
          "Min_Salary_Year",
          "Min_Salary_Year",
          "Min_Salary_Year",
          "Min_Salary_Year",
          "Min_Salary_Year",
          "Min_Salary_Year",
          "Min_Salary_Year",
          "Min_Salary_Year",
          "Min_Salary_Year",
          "Min_Salary_Year",
          "Min_Salary_Year",
          "Min_Salary_Year",
          "Min_Salary_Year",
          "Min_Salary_Year",
          "Min_Salary_Year",
          "Min_Salary_Year",
          "Min_Salary_Year",
          "Min_Salary_Year",
          "Min_Salary_Year",
          "Min_Salary_Year",
          "Min_Salary_Year",
          "Min_Salary_Year",
          "Min_Salary_Year",
          "Min_Salary_Year",
          "Min_Salary_Year",
          "Min_Salary_Year"
         ],
         "x0": " ",
         "xaxis": "x",
         "y": [
          48000,
          48000,
          90000,
          48000,
          108000,
          184000,
          39000,
          0,
          0,
          140000,
          40000,
          80000,
          35000,
          62000,
          39000,
          159000,
          97000,
          92000,
          48000,
          129000,
          92000,
          115000,
          39000,
          44000,
          73000,
          40000,
          59000,
          106000,
          129000,
          92000,
          105000,
          55000,
          115000,
          110000,
          140000,
          129000,
          63000,
          49000,
          180000,
          115000,
          62000,
          73000,
          127000,
          60000,
          129000,
          92000,
          45000,
          115000,
          135000,
          69000,
          129000,
          176000,
          65000,
          40000,
          62000,
          48000,
          51000,
          67000,
          104000,
          92000,
          69000,
          73000,
          115000,
          105000,
          51000,
          166000,
          62000,
          80000,
          131000,
          62000,
          115000,
          69000,
          129000,
          40000,
          65000,
          43000,
          92000,
          45000,
          81000,
          35000,
          69000,
          92000,
          62000,
          65000,
          115000,
          69000,
          140000,
          65000,
          69000,
          96000,
          39000,
          69000,
          56000,
          39000,
          131000,
          62000,
          115000,
          115000,
          130000,
          73000,
          92000,
          131000,
          44000,
          115000,
          73000,
          50000,
          48000,
          59000,
          100000,
          129000,
          60000,
          52000,
          62000,
          135000,
          76000,
          129000,
          73000,
          92000,
          129000,
          62000,
          50000,
          172000,
          119000,
          125000,
          92000,
          116000,
          77000,
          74000,
          70000,
          120000,
          115000,
          115000,
          65000,
          59000,
          73000,
          92000,
          51000,
          62000,
          115000,
          69000,
          55000,
          48000,
          115000,
          92000,
          50000,
          69000,
          176000,
          40000,
          189000,
          39000,
          149000,
          92000,
          130000,
          48000,
          110000,
          115000,
          131000,
          40000,
          69000,
          62000,
          90000,
          51000,
          110000,
          120000,
          0,
          73000,
          115000,
          39000,
          92000,
          131000,
          49000,
          105000,
          115000,
          30000,
          131000,
          115000,
          81000,
          35000,
          167000,
          236000,
          129000,
          115000,
          92000,
          77000,
          62000,
          50000,
          69000,
          40000,
          51000,
          131000,
          62000,
          35000,
          135000,
          65000,
          81000,
          179000,
          100000,
          35000,
          56000,
          92000,
          80000,
          49000,
          167000,
          200000,
          30000,
          0,
          30000,
          30000,
          73000,
          0,
          73000,
          48000,
          115000,
          62000,
          139000,
          129000,
          113000,
          59000,
          81000,
          150000,
          39000,
          45000,
          158000,
          96000,
          55000,
          40000,
          184000,
          100000,
          129000,
          96000,
          55000,
          40000,
          129000,
          92000,
          51000,
          81000,
          115000,
          48000,
          65000,
          73000,
          50000,
          60000,
          129000,
          55000,
          44000,
          115000,
          133000,
          120000,
          73000,
          129000,
          131000,
          115000,
          55000,
          70000,
          81000,
          129000,
          104000,
          92000,
          62000,
          105000,
          50000,
          55000,
          115000,
          135000,
          69000,
          50000,
          51000,
          51000,
          78000,
          73000,
          80000,
          55000,
          73000,
          77000,
          92000,
          48000,
          62000,
          36000,
          40000,
          56000,
          96000,
          48000,
          129000,
          56000,
          115000,
          105000,
          60000,
          92000,
          48000,
          115000,
          80000,
          96000,
          51000,
          69000,
          115000,
          122000,
          48000,
          62000,
          92000,
          69000,
          131000,
          120000,
          184000,
          81000,
          115000,
          40000,
          115000,
          39000,
          59000,
          55000,
          62000,
          59000,
          87318,
          48000,
          105000,
          115000,
          0,
          92000,
          55000,
          62000,
          130000,
          49000,
          55000,
          130000,
          73000,
          62000,
          69000,
          129000,
          190000,
          62000,
          72000,
          129000,
          62000,
          92000,
          59000,
          56000,
          45000,
          0,
          92000,
          0,
          45000,
          92000,
          136000,
          115000,
          129000,
          131000,
          115000,
          40000,
          73000,
          62000,
          49000,
          69000,
          73000,
          62000,
          102000,
          51000,
          65000,
          31000,
          56000,
          131000,
          65000,
          89000,
          190000,
          92000,
          73000,
          115000,
          115000,
          115000,
          92000,
          69000,
          139000,
          135000,
          45000,
          115000,
          89000,
          156000,
          92000,
          35000,
          62000,
          110000,
          73000,
          80000,
          92000,
          62000,
          39000,
          92000,
          40000,
          70000,
          62000,
          130000,
          62000,
          92000,
          100000,
          50000,
          45000,
          172000,
          77000,
          40000,
          0,
          80000,
          92000,
          131000,
          92000,
          80000,
          48000,
          110000,
          107000,
          131000,
          115000,
          115000,
          73000,
          0,
          199000,
          62000,
          51000,
          51000,
          59000,
          62000,
          48000,
          73000,
          135000,
          80000,
          120000,
          224000,
          51000,
          115000,
          36000,
          39000,
          55000,
          62000,
          142000,
          43977,
          183000,
          77000,
          56000,
          40000,
          164000,
          140140,
          69000,
          92000,
          62000,
          69000,
          174000,
          92000,
          84000,
          62000,
          56000,
          80000,
          50000,
          62000,
          35000,
          60000,
          48000,
          55000,
          0,
          92000,
          60000,
          115000,
          62000,
          100000,
          63000,
          55000,
          45000,
          55000,
          79000,
          92000,
          96000,
          55000,
          65000,
          50000,
          48000,
          133000,
          62000,
          50000,
          35000,
          73000,
          65000,
          48000,
          131000,
          69000,
          39000,
          135000,
          103000,
          81000,
          143000,
          69000,
          69000,
          129000,
          56000,
          73000,
          51000,
          55000,
          65000,
          0,
          135000,
          84000,
          73000,
          115000,
          0,
          48000,
          51000,
          0,
          60000,
          48000,
          55000,
          90000,
          62000,
          73000,
          59000,
          73000,
          73000,
          129000,
          129000,
          62000,
          45000,
          129000,
          62000,
          0,
          60000,
          44000,
          55000,
          175000,
          104000,
          62000,
          45000,
          115000,
          200000,
          40000,
          40000,
          170000,
          73000,
          102000,
          30000,
          92000,
          131000,
          62000,
          65000,
          115000,
          129000,
          176000,
          44000,
          129000,
          69000,
          39000,
          129000,
          40000,
          63000,
          52000,
          96000,
          56000,
          62000,
          115000,
          164000,
          77000,
          74000,
          129000,
          60000,
          62000,
          184000,
          141000,
          92000,
          92000,
          62000,
          135000,
          129000,
          62000,
          65000,
          62000,
          92000,
          90000,
          283000,
          56000,
          129000,
          81000,
          48000,
          72000,
          59000,
          200000,
          115000,
          151000,
          62000,
          39000,
          131000,
          90000,
          105000,
          73000,
          151000,
          40000,
          111000,
          92000,
          77000,
          62000,
          115000,
          115000,
          115000,
          51000,
          48000,
          62000,
          150000,
          55000,
          62000,
          92000,
          81000,
          48000,
          129000,
          150000,
          135000,
          92000,
          69000,
          135000,
          92000,
          69000,
          92000,
          69000,
          51000,
          135000,
          50000,
          130000,
          140000,
          39000,
          35000,
          55000,
          62000,
          92000,
          131000,
          73000,
          48000,
          115000,
          44000,
          92000,
          62000,
          49000,
          129000,
          35000,
          96000,
          120000,
          48000,
          148000,
          65000,
          283000,
          56000,
          69000,
          204000,
          0,
          115000,
          69000,
          69000,
          62000,
          115000,
          70000,
          77000,
          56000,
          39000,
          106000,
          62000,
          39000,
          59000,
          96000,
          202000,
          51000,
          142000,
          92000,
          295000,
          200000,
          140000,
          59000,
          74000,
          45000,
          184000,
          68000,
          52000,
          92000,
          62000,
          48000,
          60000,
          49000,
          51000,
          30000,
          63000,
          77000,
          184000,
          35000,
          131000,
          65000,
          62000,
          50000,
          39000,
          92000,
          65000,
          142000,
          69000,
          283000,
          195000,
          39000,
          62000,
          39000,
          39000,
          56000,
          170000,
          62000,
          142000,
          145000,
          139000,
          283000,
          50000,
          115000,
          115000,
          267000,
          50000,
          49000,
          110000,
          56000,
          129000,
          125000,
          115000,
          283000,
          115000,
          51000,
          159000,
          55000,
          131000,
          131000,
          80000,
          130000,
          115000,
          48000,
          131000,
          40000,
          74000,
          69000,
          50000,
          73000,
          55000,
          51000,
          55000,
          200000,
          56000,
          89000,
          115000,
          148000,
          115000,
          109000,
          73000,
          56000,
          63000,
          73000,
          69000,
          115000,
          51000,
          60000,
          62000,
          51000,
          73000,
          295000,
          115000,
          136000,
          310000,
          39000,
          115000,
          102000,
          81000,
          89000,
          62000,
          69000,
          73000,
          153000,
          115000,
          39000,
          154000,
          129000,
          55000,
          150000,
          115000,
          110000,
          0,
          86000,
          51000,
          0,
          70000,
          51000,
          51000,
          115000,
          200000,
          73000,
          44000,
          110000,
          50000,
          129000,
          65000,
          70000,
          131000,
          56000,
          65000,
          102000,
          62000,
          131000,
          63000,
          39000,
          92000,
          207000,
          80000,
          136000,
          85000,
          92000,
          69000,
          115000,
          97000,
          70000,
          73000,
          73000,
          69000,
          65000,
          66000,
          92000,
          0,
          62000,
          103000,
          79000,
          89000,
          62000,
          150000,
          200000,
          115000,
          315000,
          0,
          55000,
          160000,
          129000,
          172000,
          48000,
          48000,
          113000,
          63000,
          0,
          55000,
          69000,
          55000,
          78000,
          92000,
          73000,
          66000,
          40000,
          115000,
          129000,
          92000,
          55000,
          115000,
          35000,
          142000,
          50000,
          115000,
          73000,
          55000,
          131000,
          115000,
          100000,
          73000,
          65000,
          30000,
          267000,
          73000,
          48000,
          55000,
          0,
          45000,
          73000,
          49000,
          115000,
          45000,
          151000,
          110000,
          62000,
          63000,
          39000,
          115000,
          40000,
          115000,
          59000,
          92000,
          39000,
          56000,
          73000,
          30000,
          144000,
          131000,
          140000,
          115000,
          245000,
          69000,
          62000,
          175000,
          102000,
          119000,
          115000,
          110000,
          62000,
          65000,
          224000,
          92000,
          160000,
          159000,
          189000,
          39000,
          126000,
          63000,
          92000,
          62000,
          60000,
          65000,
          44000,
          129000,
          92000,
          30000,
          136000,
          65000,
          69000,
          69000,
          35000,
          63000,
          69000,
          62000,
          115000,
          115000,
          135000,
          0,
          129000,
          55000,
          48000,
          105000,
          139000,
          62000,
          59000,
          131000,
          73000,
          62000,
          90000,
          200000,
          56000,
          96000,
          92000,
          92000,
          129000,
          62000,
          39000,
          182000,
          39000,
          69000,
          131000,
          62000,
          44000,
          150000,
          92000,
          115000,
          159000,
          55000,
          184000,
          70000,
          115000,
          40000,
          69000,
          60000,
          136000,
          157000,
          35000,
          115000,
          156000,
          110000,
          69000,
          105000,
          214000,
          115000,
          129000,
          56000,
          129000,
          129000,
          167000,
          115000,
          65000,
          62000,
          56000,
          60000,
          65000,
          167000,
          65000,
          115000,
          173000,
          39000,
          73000,
          115000,
          92000,
          74000,
          48000,
          184000,
          115000,
          92000,
          62000,
          92000,
          73000,
          92000,
          45000,
          96000,
          49000,
          86240,
          92000,
          65000,
          69000,
          110000,
          72000,
          200000,
          73000,
          69000,
          92000,
          102000,
          35000,
          115000,
          30000,
          40000,
          55000,
          48000,
          129000,
          65000,
          59000,
          115000,
          39000,
          156000,
          62000,
          129000,
          30000,
          173000,
          62000,
          70000,
          78000,
          48000,
          167000,
          35000,
          56000,
          120000,
          135000,
          110000,
          73000,
          115000,
          38808,
          65000,
          62000,
          48000,
          59000,
          115000,
          131000,
          55000,
          56000,
          55000,
          115000,
          167000,
          190000,
          70000,
          92000,
          115000,
          64680,
          52772,
          55000,
          131000,
          129000,
          119000,
          105000,
          63000,
          96000,
          96000,
          129000,
          110000,
          129000,
          119000,
          69000,
          150000,
          40000,
          45000,
          62000,
          97000,
          65000,
          129000,
          115000,
          0,
          200000,
          63000,
          69000,
          59000,
          115000,
          136000,
          74000,
          69000,
          148000,
          130000,
          103000,
          0,
          92000,
          69000,
          110000,
          45000,
          129000,
          73000,
          35000,
          74000,
          69000,
          92000,
          112000,
          131000,
          51000,
          0,
          51000,
          65000,
          55000,
          115000,
          77000,
          124000,
          69000,
          110000,
          130000,
          140000,
          167000,
          148000,
          69000,
          185000,
          69000,
          0,
          69000,
          96000,
          55000,
          129000,
          129000,
          48000,
          81000,
          59000,
          52000,
          62000,
          48000,
          106000,
          147000,
          59000,
          115000,
          55000,
          115000,
          39000,
          77000,
          81000,
          84000,
          131000,
          135000,
          55000,
          39000,
          92000,
          129000,
          62000,
          167000,
          59000,
          39000,
          92000,
          100000,
          69000,
          129000,
          144000,
          0,
          115000,
          122000,
          55000,
          0,
          48000,
          105000,
          129000,
          130000,
          48000,
          60000,
          100519,
          115000,
          139000,
          40000,
          55000,
          69000,
          65000,
          115000,
          55000,
          129000,
          92000,
          70000,
          81000,
          70000,
          131000,
          100000,
          115000,
          115000,
          44000,
          69000,
          92000,
          144000,
          66000,
          73000,
          65000,
          167000,
          70000,
          62000,
          69000,
          0,
          39000,
          129000,
          92000,
          48000,
          38808,
          62000,
          69000,
          55000,
          74000,
          73000,
          62000,
          146000,
          48000,
          129000,
          62000,
          92000,
          55000,
          55000,
          74000,
          70000,
          48000,
          48000,
          96000,
          39000,
          131000,
          129000,
          129000,
          77000,
          142000,
          40000,
          131000,
          135000,
          56000,
          144000,
          131000,
          103000,
          165000,
          115000,
          92000,
          0,
          115000,
          39000,
          131000,
          48000,
          120000,
          92000,
          60000,
          129000,
          49000,
          60000,
          62000,
          166000,
          115000,
          55000,
          69000,
          73000,
          59000,
          30000,
          81000,
          90000,
          106000,
          115000,
          65000,
          75000,
          56000,
          75000,
          73000,
          115000,
          110000,
          63000,
          62000,
          62000,
          60000,
          163000,
          110000,
          80000,
          69000,
          0,
          55000,
          129000,
          73000,
          92000,
          96000,
          69000,
          135000,
          0,
          92000,
          73000,
          44000,
          70000,
          40000,
          92000,
          100000,
          193000,
          129000,
          109000,
          131000,
          75389,
          92000,
          44000,
          60000,
          48000,
          218000,
          60000,
          62000,
          55000,
          180000,
          73000,
          159000,
          200000,
          115000,
          230000,
          55000,
          55000,
          131000,
          40000,
          40000,
          69000,
          102000,
          51000,
          40000,
          115000,
          96000,
          115000,
          135000,
          40000,
          65000,
          85000,
          168000,
          134000,
          55000,
          115000,
          60000,
          62000,
          115000,
          50000,
          115000,
          56000,
          50000,
          96000,
          50000,
          69000,
          48000,
          65000,
          48000,
          69000,
          69000,
          115000,
          142000,
          62000,
          0,
          60000,
          129000,
          135000,
          80000,
          39000,
          145000,
          133000,
          225000,
          69000,
          185000,
          55000,
          129000,
          48000,
          103000,
          64680,
          0,
          73000,
          113000,
          50000,
          184000,
          70000,
          147000,
          129000,
          55000,
          193000,
          73000,
          131000,
          104000,
          51000,
          92000,
          51000,
          51000,
          144000,
          253000,
          69000,
          110000,
          115000,
          85000,
          44000,
          115000,
          129000,
          80000,
          45000,
          59000,
          129000,
          115000,
          55000,
          56000,
          62000,
          39000,
          55000,
          96000,
          184000,
          129000,
          105000,
          129000,
          44000,
          83000,
          45000,
          235000,
          62000,
          96000,
          45000,
          75000,
          69000,
          135000,
          55000,
          175000,
          56000,
          55000,
          0,
          110000,
          135000,
          69000,
          96000,
          55000,
          55000,
          62000,
          129000,
          103000,
          127000,
          56000,
          136000,
          129000,
          115000,
          55000,
          55000,
          73000,
          56000,
          129000,
          175000,
          55000,
          30000,
          127000,
          142000,
          187000,
          160000,
          74000,
          129000,
          227000,
          92000,
          92000,
          131000,
          62000,
          73000,
          129000,
          103000,
          55000,
          166000,
          92000,
          51000,
          129000,
          131000,
          144000,
          129000,
          30000,
          160000,
          0,
          131000,
          115000,
          39000,
          48000,
          131000,
          51000,
          56000,
          65000,
          92000,
          56000,
          144000,
          65000,
          51000,
          80000,
          115000,
          69000,
          129000,
          129000,
          73000,
          115000,
          55000,
          74000,
          129000,
          56000,
          35000,
          129000,
          40000,
          62000,
          70000,
          35000,
          62000,
          63000,
          145000,
          142000,
          56000,
          73000,
          62000,
          92000,
          73000,
          63000,
          48000,
          115000,
          73000,
          73000,
          129000,
          73000,
          92000,
          129000,
          92000,
          62000,
          92000,
          110000,
          65000,
          62000,
          62000,
          51000,
          45000,
          129000,
          62000,
          184000,
          45000,
          56000,
          59000,
          74000,
          62000,
          39000,
          48000,
          48000,
          31000,
          74000,
          61000,
          129000,
          69000,
          60000,
          65000,
          55000,
          89000,
          131000,
          131000,
          115000,
          115000,
          171000,
          96000,
          62000,
          0,
          70000,
          80000,
          0,
          129000,
          48000,
          92000,
          131000,
          59000,
          51000,
          115000,
          129000,
          234000,
          115000,
          0,
          69000,
          55000,
          92000,
          50000,
          63000,
          166000,
          73000,
          69000,
          69000,
          115000,
          115000,
          163000,
          115000,
          39000,
          115000,
          129000,
          55000,
          135000,
          59000,
          129000,
          166000,
          62000,
          55000,
          163000,
          92000,
          69000,
          60000,
          30000,
          115000,
          73000,
          193000,
          69000,
          115000,
          245000,
          108000,
          55000,
          151000,
          51000,
          92000,
          62000,
          115000,
          56000,
          73000,
          92000,
          55000,
          103000,
          56542,
          35000,
          131000,
          77000,
          69000,
          73000,
          69000,
          105000,
          129000,
          92000,
          59000,
          115000,
          59000,
          40000,
          129000,
          96000,
          77000,
          105000,
          62000,
          89000,
          50000,
          76000,
          135000,
          69000,
          115000,
          129000,
          141000,
          102000,
          63000,
          155000,
          62000,
          55000,
          48000,
          115000,
          131000,
          73000,
          131000,
          200000,
          183000,
          56000,
          60000,
          115000,
          52000,
          92000,
          115000,
          62000,
          56000,
          48000,
          135000,
          55000,
          55000,
          81000,
          63000,
          135000,
          50000,
          129000,
          245000,
          129000,
          189000,
          55000,
          62000,
          131000,
          56000,
          135000,
          115000,
          147000,
          62000,
          55000,
          62000,
          170000,
          56000,
          92000,
          144000,
          49000,
          59000,
          49000,
          130000,
          115000,
          110000,
          62000,
          131000,
          52000,
          159000,
          115000,
          92000,
          62000,
          142000,
          129000,
          73000,
          131000,
          79000,
          151000,
          39000,
          115000,
          48000,
          45000,
          0,
          0,
          48000,
          119000,
          69000,
          49000,
          35000,
          65000,
          92000,
          142000,
          49000,
          115000,
          35000,
          62000,
          80000,
          70000,
          119000,
          129000,
          48000,
          62000,
          147000,
          160000,
          115000,
          130000,
          56000,
          135000,
          65000,
          65000,
          70000,
          65000,
          55000,
          92000,
          147000,
          0,
          115000,
          140000,
          115000,
          115000,
          105000,
          62000,
          84000,
          55000,
          40000,
          125000,
          130000,
          40000,
          175000,
          135000,
          74000,
          129000,
          115000,
          0,
          60000,
          55000,
          56000,
          39000,
          92000,
          62000,
          73000,
          49000,
          55000,
          129000,
          131000,
          56000,
          39000,
          144000,
          39000,
          129000,
          115000,
          50000,
          115000,
          110000,
          103000,
          69000,
          200000,
          45000,
          55000,
          73000,
          92000,
          0,
          48000,
          59000,
          77000,
          90000,
          56000,
          129000,
          104000,
          115000,
          56000,
          56000,
          60000,
          163000,
          59000,
          71000,
          73000,
          65000,
          50000,
          35000,
          115000,
          129000,
          62000,
          125000,
          59000,
          48000,
          129000,
          129000,
          73000,
          62000,
          73000,
          92000,
          90000,
          94000,
          135000,
          55000,
          0,
          55000,
          175000,
          159000,
          131000,
          40000,
          62000,
          59000,
          92000,
          30000,
          129000,
          81000,
          62000,
          129000,
          140000,
          62000,
          31000,
          60000,
          69000,
          103000,
          57000,
          131000,
          39000,
          62000,
          129000,
          55000,
          129000,
          69000,
          187000,
          50000,
          115000,
          62000,
          136000,
          59000,
          65000,
          69000,
          113000,
          110000,
          92000,
          80000,
          197000,
          102000,
          80000,
          115000,
          159000,
          140000,
          55000,
          45000,
          92000,
          105000,
          51000,
          129000,
          78000,
          82000,
          77000,
          62000,
          30000,
          160000,
          131000,
          105000,
          129000,
          55000,
          62000,
          70000,
          81000,
          105000,
          92000,
          160000,
          62000,
          135000,
          69000,
          50000,
          73000,
          65000,
          77000,
          131000,
          129000,
          56000,
          65000,
          60000,
          110000,
          62000,
          55000,
          48000,
          51000,
          115000,
          92000,
          170000,
          56000,
          96000,
          60000,
          115000,
          0,
          62000,
          115000,
          129000,
          55000,
          55000,
          62000,
          73000,
          110000,
          62000,
          55000,
          129000,
          70000,
          135000,
          40000,
          69000,
          48000,
          39000,
          129000,
          73000,
          92000,
          135000,
          69000,
          92000,
          30000,
          115000,
          73000,
          62000,
          40000,
          49000,
          115000,
          48000,
          81000,
          60000,
          80000,
          73000,
          50000,
          55000,
          80000,
          77000,
          73000,
          136000,
          73000,
          92000,
          73000,
          48000,
          69000,
          70000,
          129000,
          0,
          0,
          115000,
          60000,
          129000,
          110000,
          172000,
          115000,
          185000,
          92000,
          65000,
          92000,
          92000,
          0,
          51000,
          55000,
          48000,
          81000,
          60000,
          177000,
          31000,
          65000,
          56000,
          65000,
          73000,
          129000,
          40000,
          74000,
          129000,
          56000,
          115000,
          62000,
          62000,
          104000,
          62824,
          48000,
          80000,
          156000,
          129000,
          102000,
          30000,
          79000,
          70000,
          160000,
          62000,
          164000,
          92000,
          119000,
          69000,
          131000,
          235000,
          49000,
          55000,
          129000,
          62000,
          56000,
          30000,
          115000,
          70000,
          92000,
          108000,
          39000,
          48000,
          130000,
          103000,
          92000,
          30000,
          62000,
          93000,
          115000,
          73000,
          115000,
          62000,
          135000,
          130000,
          100000,
          80000,
          75000,
          69000,
          65000,
          92000,
          115000,
          69000,
          0,
          79000,
          131000,
          92000,
          0,
          135000,
          81000,
          156000,
          96000,
          81000,
          73000,
          92000,
          69000,
          48000,
          65000,
          115000,
          170000,
          35000,
          92000,
          92000,
          35000,
          104000,
          135000,
          62000,
          45000,
          51000,
          135000,
          69000,
          170000,
          55000,
          44000,
          115000,
          60000,
          73000,
          48000,
          74000,
          105000,
          49000,
          62000,
          115000,
          115000,
          202000,
          89000,
          190000,
          44000,
          55000,
          30000,
          189000,
          92000,
          73000,
          175000,
          60000,
          39000,
          115000,
          39000,
          140000,
          135000,
          92000,
          65000,
          129000,
          153000,
          62000,
          104000,
          121000,
          81000,
          200000,
          56000,
          69000,
          115000,
          115000,
          200000,
          62000,
          115000,
          129000,
          92000,
          90000,
          69000,
          90000,
          156000,
          62000,
          42000,
          70000,
          90000,
          45000,
          90000,
          0,
          56000,
          142000,
          115000,
          42000,
          62000,
          75000,
          69000,
          62000,
          115000,
          42000,
          184000,
          56000,
          62000,
          73000,
          69000,
          92000,
          144000,
          62000,
          56000,
          115000,
          62000,
          90000,
          69000,
          35000,
          92000,
          129000,
          56000,
          115000,
          45000,
          110000,
          152000,
          75000,
          0,
          142000,
          172000,
          135000,
          0,
          62000,
          0,
          115000,
          115000,
          115000,
          62000,
          63000,
          92000,
          161000,
          56000,
          115000,
          131000,
          68000,
          48000,
          92000,
          30000,
          59000,
          39000,
          55000,
          92000,
          90000,
          103000,
          129000,
          129000,
          115000,
          142000,
          115000,
          30000,
          30000,
          155000,
          42000,
          142000,
          62000,
          115000,
          62000,
          150000,
          77000,
          103000,
          152000,
          0,
          55000,
          56000,
          92000,
          115000,
          131000,
          92000,
          39000,
          129000,
          55000,
          56000,
          56000,
          92000,
          75000,
          140000,
          55000,
          73000,
          0,
          59000,
          129000,
          42000,
          182000,
          55000,
          92000,
          62000,
          92000,
          92000,
          90000,
          92000,
          42000,
          129000,
          132000,
          62000,
          115000,
          79000,
          74000,
          125000,
          42000,
          92000,
          103000,
          115000,
          165000,
          115000,
          129000,
          115000,
          129000,
          129000,
          115000,
          134000,
          59000,
          131000,
          51000,
          92000,
          92000,
          115000,
          126000,
          35000,
          183000,
          115000,
          129000,
          69000,
          115000,
          77000,
          65000,
          69107,
          0,
          39000,
          55000,
          110000,
          55000,
          74000,
          129000,
          115000,
          138000,
          74000,
          115000,
          79000,
          51000,
          196000,
          131000,
          102000,
          115000,
          115000,
          131000,
          62000,
          56000,
          205000,
          90000,
          56000,
          56000,
          110000,
          62000,
          62000,
          131000,
          39000,
          35000,
          59000,
          62000,
          115000,
          153000,
          73000,
          81671,
          115000,
          140000,
          70000,
          112000,
          150000,
          115000,
          178000,
          0,
          115000,
          92000,
          115000,
          92000,
          131000,
          39000,
          56000,
          125000,
          185000,
          42000,
          73000,
          129000,
          30000,
          55000,
          115000,
          69000,
          131000,
          129000,
          62000,
          35000,
          140000,
          115000,
          55000,
          77000,
          197000,
          102000,
          55000,
          92000,
          135000,
          55000,
          42000,
          92000,
          42000,
          115000,
          55000,
          39000,
          42000,
          69000,
          56000,
          148000,
          55000,
          95000,
          168000,
          115000,
          42000,
          56000,
          50000,
          148000,
          70000,
          73000,
          115000,
          59000,
          81000,
          50000,
          59000,
          92000,
          73000,
          142000,
          45000,
          92000,
          39000,
          51000,
          42000,
          115000,
          0,
          92000,
          69000,
          92000,
          129000,
          144000,
          129000,
          131000,
          136000,
          33000,
          115000,
          55000,
          100000,
          135000,
          54000,
          44000,
          55000,
          129000,
          39000,
          115000,
          55000,
          115000,
          45000,
          92000,
          98000,
          39000,
          56000,
          55000,
          69000,
          131000,
          42000,
          115000,
          56000,
          89000,
          35000,
          92000,
          115000,
          131000,
          110000,
          30000,
          55000,
          55000,
          51000,
          42000,
          39000,
          55000,
          141000,
          62000,
          55000,
          73000,
          51000,
          131000,
          51000,
          97000,
          103000,
          131000,
          73000,
          92000,
          62000,
          62000,
          115000,
          0,
          110000,
          135000,
          55000,
          55000,
          129000,
          92000,
          55000,
          42000,
          129000,
          62000,
          95000,
          129000,
          92000,
          55000,
          129000,
          62000,
          65000,
          75000,
          95000,
          56000,
          122000,
          73000,
          56542,
          69000,
          44000,
          131000,
          39000,
          62000,
          39000,
          62000,
          62000,
          55000,
          75000,
          79000,
          115000,
          69107,
          56000,
          50000,
          129000,
          55000,
          48000,
          30000,
          55000,
          56000,
          110000,
          72000,
          51000,
          90000,
          56000,
          92000,
          205000,
          55000,
          113000,
          55000,
          50000,
          127000,
          159000,
          59000,
          92000,
          62000,
          125000,
          115000,
          131000,
          69000,
          92000,
          0,
          56000,
          55000,
          92000,
          136000,
          129000,
          55000,
          74000,
          180000,
          48000,
          92000,
          62000,
          62000,
          69000,
          30000,
          85000,
          73000,
          141000,
          92000,
          73000,
          55000,
          164000,
          156000,
          62000,
          103000,
          90000,
          95000,
          131000,
          0,
          39000,
          55000,
          115000,
          73000,
          95000,
          160000,
          115000,
          56000,
          115000,
          62000,
          69000,
          110000,
          44000,
          62000,
          73000,
          42000,
          74000,
          158000,
          129000,
          62000,
          42000,
          90000,
          131000,
          156000,
          56542,
          129000,
          44000,
          140000,
          92000,
          69000,
          180000,
          92000,
          55000,
          92000,
          39000,
          62000,
          35000,
          0,
          95000,
          92000,
          0,
          115000,
          129000,
          99000,
          30000,
          56000,
          115000,
          55000,
          49000,
          115000,
          62000,
          49000,
          94000,
          48000,
          105000,
          129000,
          129000,
          40000,
          199000,
          119000,
          0,
          105000,
          90000,
          100000,
          55000,
          156000,
          39000,
          77000,
          56000,
          69000,
          115000,
          115000,
          144000,
          102000,
          39000,
          220000,
          129000,
          180000,
          129000,
          74000,
          129000,
          151000,
          115000,
          129000,
          69000,
          42000,
          129000,
          62000,
          100000,
          56000,
          69000,
          63000,
          73000,
          131000,
          0,
          55000,
          93000,
          56000,
          49000,
          62000,
          103000,
          62000,
          115000,
          62000,
          81000,
          200000,
          100000,
          132000,
          42000,
          62000,
          56000,
          92000,
          92000,
          129000,
          69000,
          115000,
          55000,
          105000,
          69000,
          115000,
          62000,
          75000,
          95000,
          180000,
          110000,
          51000,
          92000,
          103000,
          89000,
          60000,
          92000,
          90000,
          48000,
          56000,
          115000,
          62000,
          145000,
          69000,
          103000,
          77000,
          145000,
          74000,
          55000,
          129000,
          62000,
          95000,
          92000,
          62000,
          55000,
          62000,
          92000,
          129000,
          131000,
          115000,
          30000,
          131000,
          180000,
          56000,
          113000,
          129000,
          42000,
          56000,
          115000,
          73000,
          92000,
          62000,
          115000,
          69000,
          124000,
          62000,
          45000,
          39000,
          73000,
          115000,
          84000,
          30000,
          79000,
          56000,
          135000,
          62000,
          105000,
          30000,
          62000,
          115000,
          120000,
          65000,
          95000,
          62000,
          110000,
          56000,
          39000,
          42000,
          168000,
          30000,
          30000,
          131000,
          55000,
          56000,
          65000,
          60000,
          129000,
          135000,
          100000,
          92000,
          92000,
          52000,
          131000,
          115000,
          81000,
          69000,
          115000,
          42000,
          42000,
          62000,
          42000,
          40000,
          92000,
          81000,
          104000,
          129000,
          56000,
          39000,
          39000,
          81000,
          92000,
          69000,
          81000,
          204000,
          30000,
          62000,
          92000,
          81000,
          115000,
          75000,
          92000,
          92000,
          62000,
          69000,
          81000,
          129000,
          129000,
          62000,
          42000,
          51000,
          115000,
          76000,
          56000,
          80000,
          39000,
          120000,
          62000,
          110000,
          125000,
          74000,
          64081,
          73000,
          105000,
          129000,
          62000,
          39000,
          55000,
          163000,
          115000,
          0,
          160000,
          95000,
          52000,
          56000,
          69000,
          70000,
          115000,
          62000,
          115000,
          70000,
          55000,
          55000,
          69000,
          115000,
          131000,
          48000,
          75000,
          129000,
          49000,
          55000,
          92000,
          173000,
          62000,
          51000,
          45000,
          40000,
          0,
          59000,
          109000,
          142000,
          115000,
          33000,
          55000,
          89000,
          73000,
          128000,
          81000,
          136000,
          55000,
          67850,
          135000,
          153000,
          170000,
          129000,
          55000,
          199000,
          55000,
          0,
          157000,
          115000,
          56000,
          92000,
          115000,
          73000,
          200000,
          160000,
          90000,
          90000,
          73000,
          110000,
          129000,
          200000,
          70000,
          30000,
          0,
          39000,
          36000,
          129000,
          60000,
          59000,
          129000,
          62000,
          120000,
          115000,
          70000,
          65000,
          92000,
          30000,
          95000,
          63000,
          129000,
          123000,
          115000,
          109000,
          117000,
          70000,
          170000,
          113000,
          106000,
          176000,
          39000,
          39000
         ],
         "y0": " ",
         "yaxis": "y"
        }
       ],
       "layout": {
        "boxmode": "group",
        "legend": {
         "tracegroupgap": 0
        },
        "margin": {
         "t": 60
        },
        "template": {
         "data": {
          "bar": [
           {
            "error_x": {
             "color": "#2a3f5f"
            },
            "error_y": {
             "color": "#2a3f5f"
            },
            "marker": {
             "line": {
              "color": "#E5ECF6",
              "width": 0.5
             },
             "pattern": {
              "fillmode": "overlay",
              "size": 10,
              "solidity": 0.2
             }
            },
            "type": "bar"
           }
          ],
          "barpolar": [
           {
            "marker": {
             "line": {
              "color": "#E5ECF6",
              "width": 0.5
             },
             "pattern": {
              "fillmode": "overlay",
              "size": 10,
              "solidity": 0.2
             }
            },
            "type": "barpolar"
           }
          ],
          "carpet": [
           {
            "aaxis": {
             "endlinecolor": "#2a3f5f",
             "gridcolor": "white",
             "linecolor": "white",
             "minorgridcolor": "white",
             "startlinecolor": "#2a3f5f"
            },
            "baxis": {
             "endlinecolor": "#2a3f5f",
             "gridcolor": "white",
             "linecolor": "white",
             "minorgridcolor": "white",
             "startlinecolor": "#2a3f5f"
            },
            "type": "carpet"
           }
          ],
          "choropleth": [
           {
            "colorbar": {
             "outlinewidth": 0,
             "ticks": ""
            },
            "type": "choropleth"
           }
          ],
          "contour": [
           {
            "colorbar": {
             "outlinewidth": 0,
             "ticks": ""
            },
            "colorscale": [
             [
              0,
              "#0d0887"
             ],
             [
              0.1111111111111111,
              "#46039f"
             ],
             [
              0.2222222222222222,
              "#7201a8"
             ],
             [
              0.3333333333333333,
              "#9c179e"
             ],
             [
              0.4444444444444444,
              "#bd3786"
             ],
             [
              0.5555555555555556,
              "#d8576b"
             ],
             [
              0.6666666666666666,
              "#ed7953"
             ],
             [
              0.7777777777777778,
              "#fb9f3a"
             ],
             [
              0.8888888888888888,
              "#fdca26"
             ],
             [
              1,
              "#f0f921"
             ]
            ],
            "type": "contour"
           }
          ],
          "contourcarpet": [
           {
            "colorbar": {
             "outlinewidth": 0,
             "ticks": ""
            },
            "type": "contourcarpet"
           }
          ],
          "heatmap": [
           {
            "colorbar": {
             "outlinewidth": 0,
             "ticks": ""
            },
            "colorscale": [
             [
              0,
              "#0d0887"
             ],
             [
              0.1111111111111111,
              "#46039f"
             ],
             [
              0.2222222222222222,
              "#7201a8"
             ],
             [
              0.3333333333333333,
              "#9c179e"
             ],
             [
              0.4444444444444444,
              "#bd3786"
             ],
             [
              0.5555555555555556,
              "#d8576b"
             ],
             [
              0.6666666666666666,
              "#ed7953"
             ],
             [
              0.7777777777777778,
              "#fb9f3a"
             ],
             [
              0.8888888888888888,
              "#fdca26"
             ],
             [
              1,
              "#f0f921"
             ]
            ],
            "type": "heatmap"
           }
          ],
          "heatmapgl": [
           {
            "colorbar": {
             "outlinewidth": 0,
             "ticks": ""
            },
            "colorscale": [
             [
              0,
              "#0d0887"
             ],
             [
              0.1111111111111111,
              "#46039f"
             ],
             [
              0.2222222222222222,
              "#7201a8"
             ],
             [
              0.3333333333333333,
              "#9c179e"
             ],
             [
              0.4444444444444444,
              "#bd3786"
             ],
             [
              0.5555555555555556,
              "#d8576b"
             ],
             [
              0.6666666666666666,
              "#ed7953"
             ],
             [
              0.7777777777777778,
              "#fb9f3a"
             ],
             [
              0.8888888888888888,
              "#fdca26"
             ],
             [
              1,
              "#f0f921"
             ]
            ],
            "type": "heatmapgl"
           }
          ],
          "histogram": [
           {
            "marker": {
             "pattern": {
              "fillmode": "overlay",
              "size": 10,
              "solidity": 0.2
             }
            },
            "type": "histogram"
           }
          ],
          "histogram2d": [
           {
            "colorbar": {
             "outlinewidth": 0,
             "ticks": ""
            },
            "colorscale": [
             [
              0,
              "#0d0887"
             ],
             [
              0.1111111111111111,
              "#46039f"
             ],
             [
              0.2222222222222222,
              "#7201a8"
             ],
             [
              0.3333333333333333,
              "#9c179e"
             ],
             [
              0.4444444444444444,
              "#bd3786"
             ],
             [
              0.5555555555555556,
              "#d8576b"
             ],
             [
              0.6666666666666666,
              "#ed7953"
             ],
             [
              0.7777777777777778,
              "#fb9f3a"
             ],
             [
              0.8888888888888888,
              "#fdca26"
             ],
             [
              1,
              "#f0f921"
             ]
            ],
            "type": "histogram2d"
           }
          ],
          "histogram2dcontour": [
           {
            "colorbar": {
             "outlinewidth": 0,
             "ticks": ""
            },
            "colorscale": [
             [
              0,
              "#0d0887"
             ],
             [
              0.1111111111111111,
              "#46039f"
             ],
             [
              0.2222222222222222,
              "#7201a8"
             ],
             [
              0.3333333333333333,
              "#9c179e"
             ],
             [
              0.4444444444444444,
              "#bd3786"
             ],
             [
              0.5555555555555556,
              "#d8576b"
             ],
             [
              0.6666666666666666,
              "#ed7953"
             ],
             [
              0.7777777777777778,
              "#fb9f3a"
             ],
             [
              0.8888888888888888,
              "#fdca26"
             ],
             [
              1,
              "#f0f921"
             ]
            ],
            "type": "histogram2dcontour"
           }
          ],
          "mesh3d": [
           {
            "colorbar": {
             "outlinewidth": 0,
             "ticks": ""
            },
            "type": "mesh3d"
           }
          ],
          "parcoords": [
           {
            "line": {
             "colorbar": {
              "outlinewidth": 0,
              "ticks": ""
             }
            },
            "type": "parcoords"
           }
          ],
          "pie": [
           {
            "automargin": true,
            "type": "pie"
           }
          ],
          "scatter": [
           {
            "fillpattern": {
             "fillmode": "overlay",
             "size": 10,
             "solidity": 0.2
            },
            "type": "scatter"
           }
          ],
          "scatter3d": [
           {
            "line": {
             "colorbar": {
              "outlinewidth": 0,
              "ticks": ""
             }
            },
            "marker": {
             "colorbar": {
              "outlinewidth": 0,
              "ticks": ""
             }
            },
            "type": "scatter3d"
           }
          ],
          "scattercarpet": [
           {
            "marker": {
             "colorbar": {
              "outlinewidth": 0,
              "ticks": ""
             }
            },
            "type": "scattercarpet"
           }
          ],
          "scattergeo": [
           {
            "marker": {
             "colorbar": {
              "outlinewidth": 0,
              "ticks": ""
             }
            },
            "type": "scattergeo"
           }
          ],
          "scattergl": [
           {
            "marker": {
             "colorbar": {
              "outlinewidth": 0,
              "ticks": ""
             }
            },
            "type": "scattergl"
           }
          ],
          "scattermapbox": [
           {
            "marker": {
             "colorbar": {
              "outlinewidth": 0,
              "ticks": ""
             }
            },
            "type": "scattermapbox"
           }
          ],
          "scatterpolar": [
           {
            "marker": {
             "colorbar": {
              "outlinewidth": 0,
              "ticks": ""
             }
            },
            "type": "scatterpolar"
           }
          ],
          "scatterpolargl": [
           {
            "marker": {
             "colorbar": {
              "outlinewidth": 0,
              "ticks": ""
             }
            },
            "type": "scatterpolargl"
           }
          ],
          "scatterternary": [
           {
            "marker": {
             "colorbar": {
              "outlinewidth": 0,
              "ticks": ""
             }
            },
            "type": "scatterternary"
           }
          ],
          "surface": [
           {
            "colorbar": {
             "outlinewidth": 0,
             "ticks": ""
            },
            "colorscale": [
             [
              0,
              "#0d0887"
             ],
             [
              0.1111111111111111,
              "#46039f"
             ],
             [
              0.2222222222222222,
              "#7201a8"
             ],
             [
              0.3333333333333333,
              "#9c179e"
             ],
             [
              0.4444444444444444,
              "#bd3786"
             ],
             [
              0.5555555555555556,
              "#d8576b"
             ],
             [
              0.6666666666666666,
              "#ed7953"
             ],
             [
              0.7777777777777778,
              "#fb9f3a"
             ],
             [
              0.8888888888888888,
              "#fdca26"
             ],
             [
              1,
              "#f0f921"
             ]
            ],
            "type": "surface"
           }
          ],
          "table": [
           {
            "cells": {
             "fill": {
              "color": "#EBF0F8"
             },
             "line": {
              "color": "white"
             }
            },
            "header": {
             "fill": {
              "color": "#C8D4E3"
             },
             "line": {
              "color": "white"
             }
            },
            "type": "table"
           }
          ]
         },
         "layout": {
          "annotationdefaults": {
           "arrowcolor": "#2a3f5f",
           "arrowhead": 0,
           "arrowwidth": 1
          },
          "autotypenumbers": "strict",
          "coloraxis": {
           "colorbar": {
            "outlinewidth": 0,
            "ticks": ""
           }
          },
          "colorscale": {
           "diverging": [
            [
             0,
             "#8e0152"
            ],
            [
             0.1,
             "#c51b7d"
            ],
            [
             0.2,
             "#de77ae"
            ],
            [
             0.3,
             "#f1b6da"
            ],
            [
             0.4,
             "#fde0ef"
            ],
            [
             0.5,
             "#f7f7f7"
            ],
            [
             0.6,
             "#e6f5d0"
            ],
            [
             0.7,
             "#b8e186"
            ],
            [
             0.8,
             "#7fbc41"
            ],
            [
             0.9,
             "#4d9221"
            ],
            [
             1,
             "#276419"
            ]
           ],
           "sequential": [
            [
             0,
             "#0d0887"
            ],
            [
             0.1111111111111111,
             "#46039f"
            ],
            [
             0.2222222222222222,
             "#7201a8"
            ],
            [
             0.3333333333333333,
             "#9c179e"
            ],
            [
             0.4444444444444444,
             "#bd3786"
            ],
            [
             0.5555555555555556,
             "#d8576b"
            ],
            [
             0.6666666666666666,
             "#ed7953"
            ],
            [
             0.7777777777777778,
             "#fb9f3a"
            ],
            [
             0.8888888888888888,
             "#fdca26"
            ],
            [
             1,
             "#f0f921"
            ]
           ],
           "sequentialminus": [
            [
             0,
             "#0d0887"
            ],
            [
             0.1111111111111111,
             "#46039f"
            ],
            [
             0.2222222222222222,
             "#7201a8"
            ],
            [
             0.3333333333333333,
             "#9c179e"
            ],
            [
             0.4444444444444444,
             "#bd3786"
            ],
            [
             0.5555555555555556,
             "#d8576b"
            ],
            [
             0.6666666666666666,
             "#ed7953"
            ],
            [
             0.7777777777777778,
             "#fb9f3a"
            ],
            [
             0.8888888888888888,
             "#fdca26"
            ],
            [
             1,
             "#f0f921"
            ]
           ]
          },
          "colorway": [
           "#636efa",
           "#EF553B",
           "#00cc96",
           "#ab63fa",
           "#FFA15A",
           "#19d3f3",
           "#FF6692",
           "#B6E880",
           "#FF97FF",
           "#FECB52"
          ],
          "font": {
           "color": "#2a3f5f"
          },
          "geo": {
           "bgcolor": "white",
           "lakecolor": "white",
           "landcolor": "#E5ECF6",
           "showlakes": true,
           "showland": true,
           "subunitcolor": "white"
          },
          "hoverlabel": {
           "align": "left"
          },
          "hovermode": "closest",
          "mapbox": {
           "style": "light"
          },
          "paper_bgcolor": "white",
          "plot_bgcolor": "#E5ECF6",
          "polar": {
           "angularaxis": {
            "gridcolor": "white",
            "linecolor": "white",
            "ticks": ""
           },
           "bgcolor": "#E5ECF6",
           "radialaxis": {
            "gridcolor": "white",
            "linecolor": "white",
            "ticks": ""
           }
          },
          "scene": {
           "xaxis": {
            "backgroundcolor": "#E5ECF6",
            "gridcolor": "white",
            "gridwidth": 2,
            "linecolor": "white",
            "showbackground": true,
            "ticks": "",
            "zerolinecolor": "white"
           },
           "yaxis": {
            "backgroundcolor": "#E5ECF6",
            "gridcolor": "white",
            "gridwidth": 2,
            "linecolor": "white",
            "showbackground": true,
            "ticks": "",
            "zerolinecolor": "white"
           },
           "zaxis": {
            "backgroundcolor": "#E5ECF6",
            "gridcolor": "white",
            "gridwidth": 2,
            "linecolor": "white",
            "showbackground": true,
            "ticks": "",
            "zerolinecolor": "white"
           }
          },
          "shapedefaults": {
           "line": {
            "color": "#2a3f5f"
           }
          },
          "ternary": {
           "aaxis": {
            "gridcolor": "white",
            "linecolor": "white",
            "ticks": ""
           },
           "baxis": {
            "gridcolor": "white",
            "linecolor": "white",
            "ticks": ""
           },
           "bgcolor": "#E5ECF6",
           "caxis": {
            "gridcolor": "white",
            "linecolor": "white",
            "ticks": ""
           }
          },
          "title": {
           "x": 0.05
          },
          "xaxis": {
           "automargin": true,
           "gridcolor": "white",
           "linecolor": "white",
           "ticks": "",
           "title": {
            "standoff": 15
           },
           "zerolinecolor": "white",
           "zerolinewidth": 2
          },
          "yaxis": {
           "automargin": true,
           "gridcolor": "white",
           "linecolor": "white",
           "ticks": "",
           "title": {
            "standoff": 15
           },
           "zerolinecolor": "white",
           "zerolinewidth": 2
          }
         }
        },
        "xaxis": {
         "anchor": "y",
         "domain": [
          0,
          1
         ],
         "title": {
          "text": "variable"
         }
        },
        "yaxis": {
         "anchor": "x",
         "domain": [
          0,
          1
         ],
         "title": {
          "text": "value"
         }
        }
       }
      }
     },
     "metadata": {},
     "output_type": "display_data"
    }
   ],
   "source": [
    "import plotly.express as px\n",
    "\n",
    "\n",
    "# Make a copy of our dataframe\n",
    "df_new = df_clean.copy()\n",
    "\n",
    "# Create a box plot\n",
    "fig = px.box(df_new, y=['Min_Salary_Year'])\n",
    "\n",
    "# Show the plot\n",
    "fig.show()\n",
    "\n",
    "# Define the columns of interest for outlier detection\n",
    "# columns = ['Salary']\n",
    "\n",
    "# # Calculate the IQR for the columns\n",
    "# Q1 = df_new[columns].quantile(0.25)\n",
    "# Q3 = df_new[columns].quantile(0.75)\n",
    "# IQR = Q3 - Q1\n",
    "\n",
    "# # Define the threshold multiplier (k)\n",
    "# k = 0.5\n",
    "\n",
    "# # Define the lower and upper bounds\n",
    "# lower_bound = Q1 - k * IQR\n",
    "# upper_bound = Q3 + k * IQR\n",
    "\n",
    "# # Detect outliers based on the defined thresholds\n",
    "# outliers = ((df_new[columns] < lower_bound) | (df_new[columns] > upper_bound)).any(axis=1)\n",
    "# print('lower bound :', lower_bound)\n",
    "# print('upper bound :', upper_bound)\n",
    "\n",
    "# df_new_clean = df_new.drop(df[outliers].index)\n",
    "\n",
    "# # Create a box plot\n",
    "# fig_clean = px.box(df_clean, y=['stars', 'forks', 'issues', 'watchers'])\n",
    "\n",
    "# # Show the plot\n",
    "# fig_clean.show()"
   ]
  },
  {
   "cell_type": "code",
   "execution_count": 256,
   "metadata": {},
   "outputs": [
    {
     "data": {
      "text/plain": [
       "<bound method NDFrame.head of                  Company                                          Job Title   \n",
       "185              Peloton    Staff Database Reliability Engineer, Datastores  \\\n",
       "441           ServiceNow          Principal Machine Learning Engineer - ATG   \n",
       "596               Roblox    Principal Engineer, Datacenter Software Systems   \n",
       "665               Roblox            Principal Software Engineer, Applied ML   \n",
       "668   Palo Alto Networks                                   AI Architect, IT   \n",
       "684                Asana  Staff Data Scientist, Business - Sales & Custo...   \n",
       "688               Roblox             Senior Data Scientist- Creator Content   \n",
       "720               Roblox  Principal Machine Learning Engineer - Personal...   \n",
       "732               Roblox      Principal Software Engineer, Data Engineering   \n",
       "736               Roblox       Principal Machine Learning Engineer- Economy   \n",
       "744               Roblox  Principal Deep Learning Engineer - Computer Vi...   \n",
       "785               Roblox      Senior Data Scientist - Discovery Experiences   \n",
       "789               Roblox            Senior Data Scientist - Creator Success   \n",
       "841                 Rokt  Senior/Staff Machine Learning Engineer - Ecomm...   \n",
       "868               Roblox  Senior/Principal ML Engineer, Content Understa...   \n",
       "904               Roblox          Senior Machine Learning Engineer - Search   \n",
       "934                Block             Senior Data Science Manager, Marketing   \n",
       "944              Credera                          Principal  - Data Science   \n",
       "1022      Snowflake Inc.  Staff Software Engineer - Streaming Data Pipel...   \n",
       "1389              Roblox  Senior Machine Learning Engineer, Communicatio...   \n",
       "1400            Nextdoor                 Head of Data Science and Analytics   \n",
       "1460               CLEAR                            Principal Data Engineer   \n",
       "1486              Roblox      Senior Data Scientist - Social Communications   \n",
       "1513     Justworks, Inc.                       Senior Manager, Data Science   \n",
       "1554            Nextdoor  Principal Machine Learning Engineer - Core Inf...   \n",
       "1683          Cruise LLC  Senior Staff Applied Research Scientist, Perce...   \n",
       "1724              OpenAI                         Research Engineer, Privacy   \n",
       "1807               Block                    Data Science Manager, Marketing   \n",
       "2196              Airbnb        Senior Engineering Manager, Data Management   \n",
       "2284             Anaplan  Sr. Data Integrations Engineer, IT Enterprise ...   \n",
       "2518           Schonfeld                               Senior Data Engineer   \n",
       "2731                Zoox                Senior Stability Analytics Engineer   \n",
       "2863              Airbnb  Senior Staff Data Scientist - Inference, Marke...   \n",
       "3030            DataStax    Presales Data Architect - Streaming (Remote US)   \n",
       "\n",
       "                                      Location   Job Type Experience level   \n",
       "185                              New York City  Full Time     Senior-level  \\\n",
       "441     Santa Clara, California, United States  Full Time     Senior-level   \n",
       "596               San Mateo, CA, United States  Full Time     Senior-level   \n",
       "665               San Mateo, CA, United States  Full Time     Senior-level   \n",
       "668             Santa Clara, CA, United States  Full Time     Senior-level   \n",
       "684                              San Francisco  Full Time     Senior-level   \n",
       "688               San Mateo, CA, United States  Full Time     Senior-level   \n",
       "720               San Mateo, CA, United States  Full Time     Senior-level   \n",
       "732               San Mateo, CA, United States  Full Time     Senior-level   \n",
       "736               San Mateo, CA, United States  Full Time     Senior-level   \n",
       "744               San Mateo, CA, United States  Full Time     Senior-level   \n",
       "785               San Mateo, CA, United States  Full Time     Senior-level   \n",
       "789               San Mateo, CA, United States  Full Time     Senior-level   \n",
       "841         Sydney, New South Wales, Australia  Full Time        Mid-level   \n",
       "868               San Mateo, CA, United States  Full Time     Senior-level   \n",
       "904               San Mateo, CA, United States  Full Time     Senior-level   \n",
       "934           San Francisco, CA, United States  Full Time     Senior-level   \n",
       "944                                Los Angeles  Full Time     Senior-level   \n",
       "1022                         Bellevue, WA, USA  Full Time     Senior-level   \n",
       "1389              San Mateo, CA, United States  Full Time     Senior-level   \n",
       "1400                         San Francisco, CA  Full Time  Executive-level   \n",
       "1460     New York City, United States (Hybrid)  Full Time     Senior-level   \n",
       "1486              San Mateo, CA, United States  Full Time     Senior-level   \n",
       "1513                             New York City  Full Time     Senior-level   \n",
       "1554                         San Francisco, CA  Full Time     Senior-level   \n",
       "1683                         San Francisco, CA  Full Time     Senior-level   \n",
       "1724  San Francisco, California, United States  Full Time     Senior-level   \n",
       "1807          San Francisco, CA, United States  Full Time     Senior-level   \n",
       "2196                                    Remote  Full Time     Senior-level   \n",
       "2284              San Francisco, United States  Full Time     Senior-level   \n",
       "2518              New York City, United States  Full Time     Senior-level   \n",
       "2731                           Foster City, CA  Full Time     Senior-level   \n",
       "2863                         San Francisco, CA  Full Time     Senior-level   \n",
       "3030            Santa Clara, CA, United States  Full Time     Senior-level   \n",
       "\n",
       "      Salary  Min_Salary_Year  Salary_conditions   \n",
       "185    236K+         236000.0              False  \\\n",
       "441    224K+         224000.0              False   \n",
       "596    283K+         283000.0              False   \n",
       "665    283K+         283000.0              False   \n",
       "668    204K+         204000.0              False   \n",
       "684    202K+         202000.0              False   \n",
       "688    295K+         295000.0              False   \n",
       "720    283K+         283000.0              False   \n",
       "732    283K+         283000.0              False   \n",
       "736    267K+         267000.0              False   \n",
       "744    283K+         283000.0              False   \n",
       "785    295K+         295000.0              False   \n",
       "789    310K+         310000.0              False   \n",
       "841    207K+         207000.0              False   \n",
       "868    315K+         315000.0              False   \n",
       "904    267K+         267000.0              False   \n",
       "934    245K+         245000.0              False   \n",
       "944    224K+         224000.0              False   \n",
       "1022   214K+         214000.0              False   \n",
       "1389   218K+         218000.0              False   \n",
       "1400   230K+         230000.0              False   \n",
       "1460   225K+         225000.0              False   \n",
       "1486   253K+         253000.0              False   \n",
       "1513   235K+         235000.0              False   \n",
       "1554   227K+         227000.0              False   \n",
       "1683   234K+         234000.0              False   \n",
       "1724   245K+         245000.0              False   \n",
       "1807   245K+         245000.0              False   \n",
       "2196   235K+         235000.0              False   \n",
       "2284   202K+         202000.0              False   \n",
       "2518   205K+         205000.0              False   \n",
       "2731   205K+         205000.0              False   \n",
       "2863   220K+         220000.0              False   \n",
       "3030   204K+         204000.0              False   \n",
       "\n",
       "                             Requirment of the company    \n",
       "185   Architecture,AWS,Consulting,Distributed System...  \\\n",
       "441   LLMs,Machine Learning,PhD,Pipelines,Research,T...   \n",
       "596        APIs,Engineering,Genetics,Golang,Kubernetes,   \n",
       "665   Architecture,Content creation,Deep Learning,Di...   \n",
       "668   AI strategy,Architecture,Classification,Comput...   \n",
       "684   Causal inference,Classification,Clustering,Com...   \n",
       "688   A/B testing,Airflow,Big Data,Causal inference,...   \n",
       "720   Computer Science,Engineering,Genetics,Machine ...   \n",
       "732   Airflow,Architecture,AWS,Azure,Dagster,Data pi...   \n",
       "736   Computer Science,Data analysis,Data pipelines,...   \n",
       "744   Computer Vision,Deep Learning,Genetics,Machine...   \n",
       "785   Airflow,Big Data,Causal inference,Computer Sci...   \n",
       "789   A/B testing,Airflow,Big Data,Causal inference,...   \n",
       "841   Agile,Architecture,Bayesian,Computer Science,C...   \n",
       "868   Architecture,Computer Vision,Deep Learning,Gen...   \n",
       "904   Computer Science,Deep Learning,Engineering,Gen...   \n",
       "934   Airflow,Banking,BigQuery,Blockchain,Crypto,Eng...   \n",
       "944   Architecture,AWS,Azure,Cluster analysis,Comput...   \n",
       "1022  Computer Science,Data pipelines,Distributed Sy...   \n",
       "1389  ASR,Computer Vision,Data pipelines,Deep Learni...   \n",
       "1400  Big Data,Computer Science,Data governance,Data...   \n",
       "1460  Airflow,Business Intelligence,Dagster,Data gov...   \n",
       "1486  A/B testing,Big Data,Causal inference,Computer...   \n",
       "1513  Engineering,Machine Learning,Predictive modeli...   \n",
       "1554  AWS,Computer Science,Core ML,Distributed Syste...   \n",
       "1683  Computer Vision,Drivers license,Lidar,Machine...   \n",
       "1724  AGI,Deep Learning,Distributed Systems,LLMs,Mac...   \n",
       "1807  Airflow,Banking,BigQuery,Blockchain,Crypto,Eng...   \n",
       "2196  Agile,AWS,Azure,Classification,Computer Scienc...   \n",
       "2284  APIs,Architecture,Computer Science,CX,Data gov...   \n",
       "2518  Agile,AWS,Business Intelligence,Computer Scien...   \n",
       "2731  Airflow,Autonomous Driving,Data analysis,Data ...   \n",
       "2863  Bayesian,Causal inference,Economics,LLMs,Machi...   \n",
       "3030  AWS,Azure,Distributed Systems,Engineering,GCP,...   \n",
       "\n",
       "                                             Facilities  \n",
       "185   401(k) matching,Competitive pay,Equity,Fertili...  \n",
       "441   401(k) matching,Competitive pay,Equity,Flex ho...  \n",
       "596   Equity,Flex hours,Flex vacation,Health care,Un...  \n",
       "665   Career development,Conferences,Equity,Flex hou...  \n",
       "668   Career development,Medical leave,Salary bonus,...  \n",
       "684                               Equity,Health care,,,  \n",
       "688   Career development,Equity,Flex hours,Flex vaca...  \n",
       "720   Career development,Equity,Flex hours,Flex vaca...  \n",
       "732   Career development,Equity,Flex hours,Flex vaca...  \n",
       "736   Career development,Equity,Flex hours,Flex vaca...  \n",
       "744   Career development,Equity,Flex hours,Flex vaca...  \n",
       "785   Career development,Equity,Flex hours,Flex vaca...  \n",
       "789   Career development,Equity,Flex hours,Flex vaca...  \n",
       "841   Career development,Equity,Fitness / gym,Health...  \n",
       "868   Career development,Equity,Flex hours,Flex vaca...  \n",
       "904   Career development,Equity,Flex hours,Flex vaca...  \n",
       "934   Career development,Equity,Flex vacation,Health...  \n",
       "944   401(k) matching,Career development,Competitive...  \n",
       "1022                             Equity,Salary bonus,,,  \n",
       "1389  401(k) matching,Career development,Conferences...  \n",
       "1400  Career development,Equity,Health care,Startup ...  \n",
       "1460  401(k) matching,Career development,Fertility b...  \n",
       "1486  Career development,Equity,Flex hours,Flex vaca...  \n",
       "1513  Career development,Startup environment,Team ev...  \n",
       "1554  Career development,Equity,Health care,Salary b...  \n",
       "1683  Career development,Competitive pay,Conferences...  \n",
       "1724  Career development,Equity,Flex vacation,Health...  \n",
       "1807  Career development,Equity,Flex vacation,Health...  \n",
       "2196                 Career development,Salary bonus,,,  \n",
       "2284                                               ,,,,  \n",
       "2518                                Competitive pay,,,,  \n",
       "2731  Career development,Equity,Health care,Insuranc...  \n",
       "2863                        Conferences,Salary bonus,,,  \n",
       "3030                             Career development,,,,  >"
      ]
     },
     "execution_count": 256,
     "metadata": {},
     "output_type": "execute_result"
    }
   ],
   "source": [
    "df_clean[df_clean['Min_Salary_Year'] > 200000].head"
   ]
  },
  {
   "cell_type": "markdown",
   "metadata": {},
   "source": [
    "<h3>Job Types list</h3>"
   ]
  },
  {
   "cell_type": "code",
   "execution_count": 257,
   "metadata": {},
   "outputs": [
    {
     "data": {
      "text/plain": [
       "['Full Time', 'Internship', 'Part Time']"
      ]
     },
     "execution_count": 257,
     "metadata": {},
     "output_type": "execute_result"
    }
   ],
   "source": [
    "df_clean['Job Type'].unique().tolist()"
   ]
  },
  {
   "cell_type": "markdown",
   "metadata": {},
   "source": [
    "<h3>Job Experience level list</h3>"
   ]
  },
  {
   "cell_type": "code",
   "execution_count": 258,
   "metadata": {},
   "outputs": [
    {
     "data": {
      "text/plain": [
       "['Entry-level',\n",
       " 'Not-Specified',\n",
       " 'Mid-level',\n",
       " 'Senior-level',\n",
       " 'Executive-level']"
      ]
     },
     "execution_count": 258,
     "metadata": {},
     "output_type": "execute_result"
    }
   ],
   "source": [
    "df_clean['Experience level'].unique().tolist()"
   ]
  },
  {
   "cell_type": "markdown",
   "metadata": {},
   "source": [
    "<h3>Job titles list</h3>"
   ]
  },
  {
   "cell_type": "code",
   "execution_count": 259,
   "metadata": {},
   "outputs": [
    {
     "data": {
      "text/plain": [
       "['Clinical Data Analyst',\n",
       " 'AML/CFT & Data Analyst',\n",
       " 'Machine Learning Engineer',\n",
       " 'Application Developer & Data Analyst',\n",
       " 'Data Engineer Full time (Public Sector) USA',\n",
       " 'Sr Staff Data Scientist - ATG',\n",
       " 'Vendor Management and Data Quality Lead',\n",
       " 'Intern (Business Intelligence Service Support)',\n",
       " 'Summer 2023 Data Engineering Intern',\n",
       " 'Principal Cloud Data Engineer (Prisma Access)',\n",
       " 'Data Scientist (TE-CRG-GLO-2023-19-GRAP)',\n",
       " 'Data Analyst - Revenue Optimizer',\n",
       " 'Graduate Power BI Developer',\n",
       " 'SAP Consultant - Product Data Management',\n",
       " 'PreMaster Programm - Data Analytics and Visualization',\n",
       " 'Staff Data Scientist - ATG',\n",
       " 'Senior Data Analyst - Sales',\n",
       " 'BI Analyst',\n",
       " 'Data Scientist | Insights (f/m/d) - GER, UK, NL, PL',\n",
       " 'Senior Data Analyst (Remote within EMEA)',\n",
       " 'Senior Data Engineer (Evergreen)',\n",
       " 'Data Management Scrum Master',\n",
       " 'Rotational Development Program - Artificial Intelligence and Machine Learning Trainee',\n",
       " 'Data Engineer Scientist',\n",
       " 'Data Scientist (Elasticsearch)',\n",
       " 'Data Engineer F/H',\n",
       " 'BI Developer',\n",
       " 'Data Scientist - Fraud Risk',\n",
       " 'QuintoAndar - Senior Data Analyst',\n",
       " 'ML Research Engineer',\n",
       " 'Principal Engineer, Data Project Management',\n",
       " 'Senior Data Engineer',\n",
       " '(Senior) Digital Analytics Engineer',\n",
       " 'Senior Software Engineer (Data Pipeline)',\n",
       " 'Senior Data Scientist',\n",
       " 'Data Science Lead (Hybrid)',\n",
       " 'Business Intelligence Analyst',\n",
       " 'Lead Business Intelligence Analyst',\n",
       " 'Sr Data Engineer',\n",
       " 'Data Modeler',\n",
       " 'Data Engineer',\n",
       " 'VP, Actuarial Modeling and Data Management',\n",
       " 'Healthcare Data Analyst',\n",
       " 'Data Scientist',\n",
       " 'Data Analyst | Marketing or Sales (f/m/d) - GER, UK, NL, PL',\n",
       " 'Business Intelligence Expert',\n",
       " 'Senior Data Analyst',\n",
       " 'Principle MLOps Engineer',\n",
       " 'Machine Learning Research Engineer, Generative AI',\n",
       " 'Data Analyst - Product Innovation',\n",
       " 'Lead Data Scientist',\n",
       " 'Data Product Owner',\n",
       " 'Bi Analyst Jr - 24170',\n",
       " 'HTML Developer',\n",
       " 'Business Intelligence Developer',\n",
       " 'Data Scientist, Marketing Analytics',\n",
       " 'Senior Manager - AML/CFT & Data Analyst',\n",
       " 'Senior Data Visualization Analyst',\n",
       " 'Senior Data Engineer (Remote)',\n",
       " 'Customer Data Engineer',\n",
       " 'Data Engineer- Data Platform',\n",
       " 'Digital Marketing Lead (ZibraAI)',\n",
       " 'Staff Data Scientist - Marketing',\n",
       " 'Senior Sales Business Intelligence Manager',\n",
       " 'Data Analyst, Customer Experience',\n",
       " 'ETAS Test Lead - Autonomous Driving Solutions',\n",
       " 'Sr. Data Engineer',\n",
       " 'Specialist Solutions Architect - MLOps',\n",
       " 'Data Scientist, Terminal',\n",
       " 'React Native Engineer - Mobile (Dubai)',\n",
       " 'Artificial Intelligence Lead | KPMG Futures',\n",
       " 'Jr. CRM Data Quality Specialist',\n",
       " 'Data Management Consultant Banking (f/d/m) Financial Services Data Platform FSDM',\n",
       " 'Director, Artificial Intelligence (AI)',\n",
       " 'Intermediate BI Developer',\n",
       " 'Senior Business Intelligence Analyst',\n",
       " 'Data Analyst',\n",
       " 'Staff Machine Learning Engineer',\n",
       " 'Data Analyst (Remote)',\n",
       " 'Data Engineer I',\n",
       " 'Cloud Database Analyst',\n",
       " 'Senior Machine Learning Engineer',\n",
       " 'Junior Data Analyst',\n",
       " 'Financial Data Analyst',\n",
       " 'Senior Consultant in Data science',\n",
       " 'Staff Clinical Data Manager # 3073',\n",
       " 'HR Data Analyst',\n",
       " 'Consultant in Data Science',\n",
       " 'Staff Engineer, Data Platform',\n",
       " 'Senior Data Scientist, Marketing Analytics',\n",
       " 'Director, IVA and AI Solutions - Professional Services Practice Lead',\n",
       " 'Lead Data Analyst(Marketing/Growth Analytics)',\n",
       " 'Data Analyst, Service Analytics',\n",
       " 'Amazon Robotics - Hardware Engineer Co-op (July-December 2023), Amazon Robotics',\n",
       " 'Senior/Staff Data Engineer',\n",
       " 'Data Product Manager',\n",
       " 'FSA (FinTech) - Quantitative Machine Learning Specialist & Software Developer',\n",
       " 'Data Engineer Analyst',\n",
       " 'Software Engineer (Data Pipeline)',\n",
       " 'Associate Data Scientist',\n",
       " 'Data Engineering Analyst',\n",
       " 'Talan Consulting \\x96 Consultant Senior/Manager \\x96 Data Strategy (H/F)',\n",
       " 'Enterprise Data Architect - 6 month Contract',\n",
       " 'Data Engineer II',\n",
       " 'Data Scientist/Machine Learning Engineer',\n",
       " 'Senior Data Scientist, Product',\n",
       " 'Senior Technical Support Engineer, DataSet',\n",
       " 'Finance Business Intelligence , Operations Finance',\n",
       " 'Staff Machine Learning Modeler, Financial Crimes',\n",
       " 'Data Engineer - Music',\n",
       " 'Data Manager',\n",
       " 'Salesforce Administrator/Data Specialist',\n",
       " 'Data Engineer (Starlink)',\n",
       " 'Data Engineer confirmé BI - BIG DATA',\n",
       " 'Director, Spark Technical Solutions',\n",
       " 'Middle Data Engineer (Healthcare domain)',\n",
       " 'Senior Data Analyst (Pricing)',\n",
       " 'People Analytics Data Visualization Senior Associate (Open to Remote)',\n",
       " 'Développeur Power BI - H/F',\n",
       " 'Product Manager - Experts & Artificial Intelligence',\n",
       " 'Group Manager Data Analytics India',\n",
       " 'Vice President Director, Data Scientist',\n",
       " 'Business Intelligence Analyst, AWS Cloud Logistics',\n",
       " 'Scientist/Senior Scientist, Machine Learning',\n",
       " 'Principal Site Reliability Engineer, Datastores (Hybrid)',\n",
       " 'Machine Learning Manager (Systems)',\n",
       " 'Consultant Data Engineer',\n",
       " 'Machine Learning Engineer L3',\n",
       " 'Data Analyst Coches.net',\n",
       " 'Senior Product Marketing Manager, Conversational Intelligence & AI Products',\n",
       " 'Graduate Data Analyst',\n",
       " 'Analytics Engineer',\n",
       " 'Specialist Solutions Architect - Data Engineering (Public Sector)',\n",
       " 'Senior Data Quality Assurance Specialist',\n",
       " 'Senior Site Reliability Engineer, Datastores (Hybrid)',\n",
       " 'Customer Success Junior ML Engineer, Onboarding Specialist',\n",
       " 'Senior Data Science Engineer',\n",
       " 'Digital Analytics Engineer',\n",
       " 'Senior Data Scientist, Marketing',\n",
       " 'Analytics Engineer Intern',\n",
       " 'Master Data Team Manager',\n",
       " 'Senior Data Engineer, Enterprise Engineering',\n",
       " 'Data Operations Associate',\n",
       " 'Staff ML Engineer (8627)',\n",
       " 'Specialist Architect : Big Data',\n",
       " 'Research Engineer in Multi Agent Path Finding for Mobile Robots (f/m/div.)',\n",
       " 'Product Marketing Manager, Data Engineering',\n",
       " 'CV/ML Engineer for 3D Virtual Humans - Remote Europe',\n",
       " 'Senior Data Engineer - Data Bricks',\n",
       " 'Director AI Science',\n",
       " 'Researcher- Business Intelligence',\n",
       " 'Machine Learning Research Scientist',\n",
       " 'Staff Database Reliability Engineer, Datastores',\n",
       " 'Senior Data Scientist - Viator, London, Oxford, UK Remote',\n",
       " 'Data Analyst (Bangkok Based, Relocation Provided)',\n",
       " 'Associate AI/ML Engineer',\n",
       " 'Azure Data Architect',\n",
       " 'Senior Applied Data Scientist',\n",
       " 'Senior Scientist, Decision Sciences',\n",
       " 'Data Operations & Insights Manager',\n",
       " 'Principal ML Engineer - AI Platform',\n",
       " 'Principal Product Marketing Manager, AI & Machine Learning',\n",
       " 'Technical Support Specialist (Robotics) - EU - Remote',\n",
       " 'Data Architect',\n",
       " 'Operations Data Analyst (Tableau)',\n",
       " 'Head of Applied AI/ML',\n",
       " 'Software Engineer - Autonomy Metrics',\n",
       " 'Product Manager- Data Visualization & Analytics',\n",
       " 'Data Science in Product Design Engineering',\n",
       " 'Senior Director of Product - Machine Learning',\n",
       " 'Senior Data Analyst (Bangkok Based, Relocation Provided)',\n",
       " 'Operations Planner Data Management Technician',\n",
       " 'Data Operations Client Onboarding',\n",
       " 'Machine Learning Research Scientist - Reinforcement Learning',\n",
       " 'Machine Learning Engineer, Generative AI',\n",
       " 'Data Management Internship',\n",
       " 'Sr Big Data Engineer',\n",
       " 'Consulting - Robotics Process Automation (RPA) Developer',\n",
       " 'Data Analyst Intern',\n",
       " 'Data Engineer with Databricks - Empower (remote/Costa Rica-based)',\n",
       " 'Databricks and Scala Engineer geospatial',\n",
       " 'Software Engineer, Data Platform',\n",
       " 'Senior Manager Data Engineering',\n",
       " 'Senior Data Engineer (P3949).',\n",
       " 'Junior Data Engineer Customer Analytics',\n",
       " 'Chief Engineer, Autonomy (R2020)',\n",
       " 'Senior Research Data Analyst',\n",
       " 'Sport data operator',\n",
       " 'Associate Director | Artificial Intelligence Lead | KPMG Futures',\n",
       " 'Research Scientist',\n",
       " 'Data Engineering Manager',\n",
       " 'Principal Engineer - Data Integrations',\n",
       " 'Python Engineer - Machine Learning Specialist (Remote)',\n",
       " 'Senior Applied Scientist - Document Intelligence',\n",
       " 'Data Analyst, Go Live',\n",
       " 'Senior Data Scientist (M/F)',\n",
       " 'Researcher/Senior Researcher \\x96 Natural Language Processing and Text Analytics',\n",
       " 'Data Analyst (Customer Service Industry, Mandarin Support)',\n",
       " 'Manager Data Strategy',\n",
       " 'Business Partner, Data Analysis',\n",
       " 'Data Engineer - Remote',\n",
       " 'Marketing Data Analyst',\n",
       " 'Post-Doctoral Fellow or Associate - Agronomy Data Scientist',\n",
       " 'Sr. Data Scientist',\n",
       " 'Researcher- Computer Vision',\n",
       " 'Data Science Lead',\n",
       " 'Senior Data Scientist, Product Analytics',\n",
       " 'Software Engineer - Machine Learning, Granica Screen',\n",
       " 'Data Engineer - Türkiye',\n",
       " 'SDE-III, Data Engineering',\n",
       " 'Oracle Data Modeler / PL/SQL - Data warehouse',\n",
       " 'Product Data Specialist (HW)',\n",
       " 'SparkCognition Director of Accounting - Controller',\n",
       " 'Senior Machine Learning Scientist (USA REMOTE)',\n",
       " 'Senior Data Scientist (P171).',\n",
       " 'Cloud Data Analyst Engineer (FinOps)',\n",
       " 'DataOps Engineer',\n",
       " 'Robotic Research Engineer - Mechatronics',\n",
       " 'Manager - Applied Data Scientist',\n",
       " '??·????/Business Intelligence Engineer, Japan Operations Finance',\n",
       " 'Senior Data Engineer - (Christchurch)',\n",
       " 'Senior Software Engineer - Data Architecture skills',\n",
       " 'BI Developer, Analytics',\n",
       " 'Supervisão de Business Intelligence (foco em mídia/comunicação)',\n",
       " 'SME Consultant for Data Analytics',\n",
       " 'Senior Data Strategist',\n",
       " 'Data Analyst (Oslo-based)',\n",
       " 'Senior AI Engineer',\n",
       " 'SQL Data Engineers',\n",
       " 'Subsurface Data Manager',\n",
       " 'Senior Data Analyst with Python SQL - MS- Bangalore',\n",
       " 'Data Analyst Supply Chain Management (f/m/d)',\n",
       " 'Senior Data Quality Developer',\n",
       " 'Remote Intermediate Fullstack Engineer (AI Team)',\n",
       " 'iOS Engineer (Dubai)',\n",
       " 'Business Intelligence Data Strategist',\n",
       " 'Data Engineer Customer Analytics',\n",
       " 'Sr. BI Analyst',\n",
       " 'Data Scientist Generalist',\n",
       " 'Business Intelligence Analyst - Sales Operations',\n",
       " 'Senior Developer - Data Engineer (AWS/Python/Node)',\n",
       " 'Senior Data Scientist: NLP',\n",
       " 'Data Analyst (Allegro Pay)',\n",
       " 'Data Analyst (DEA)',\n",
       " 'Manager, Business Operations - Diagnostic Imaging and Laboratory',\n",
       " 'Data Science Consultant',\n",
       " 'Customer Master Data Analyst',\n",
       " 'Senior Data Quality Engineer',\n",
       " 'Senior Data Analyst - Hybrid',\n",
       " 'Computer Vision Researcher',\n",
       " 'Research Scientist - Machine Learning and Algorithms',\n",
       " 'Senior Applied Scientist',\n",
       " 'Tableau/BI Developer',\n",
       " 'Data Scientist (Real-time Ops)',\n",
       " 'Master Data Management Plants (f/m/div.)',\n",
       " 'Coordinator of Data Operations',\n",
       " 'Data Science Team Lead',\n",
       " 'AI Programmer VR (UE)',\n",
       " 'Data Engineer (Python) - Payments',\n",
       " 'Master Data Management Plants (f/m/div.) (salary: ~81.000 EUR p.a.*)',\n",
       " 'Data Analyst Pleno',\n",
       " 'Research Engineer PEM Electrolyzer (f/m/div.)',\n",
       " 'Consulting - Data Engineer',\n",
       " 'Data Analyst Intern - Product Analytics',\n",
       " 'Enterprise Data Architect',\n",
       " 'TTGP Fleet Data Manager/Senior JICO',\n",
       " 'Senior Software Engineer - Data analytics',\n",
       " 'Staff Technical Product Manager, AI Platform and Solutions',\n",
       " 'Big Data Engineer - PySpark',\n",
       " 'Consultant / Sr Consultant - QA Data Engineer',\n",
       " 'Computational Biologist, Translational Science - Location Flexible',\n",
       " 'Lead Software Engineer, ML Infrastructure',\n",
       " 'Senior Insurance Data Scientist',\n",
       " 'Principal Engineer, Data Systems',\n",
       " 'Clinical Data Manager',\n",
       " 'Data Analyst I - Fraud',\n",
       " 'Senior Data Scientist, Operations',\n",
       " 'Software Engineer - Data Platform (Python, Cloud, Big Data)',\n",
       " 'Senior Cloud Data Analyst Engineer (FinOps)',\n",
       " 'Data Engineer - Bulgaria',\n",
       " 'Power BI Developer',\n",
       " 'Consultant, Data Analytics',\n",
       " 'Junior MLOps - Intern',\n",
       " 'Business Intelligence Internship (Summer 23/24)',\n",
       " 'Business Analyst (Tech/AI)',\n",
       " 'Senior Applied Scientist, Amazon',\n",
       " 'Specialist Solutions Architect - Data Engineering (Financial Services)',\n",
       " 'Data Scientist eBike Systems (f/m/div.)',\n",
       " 'Graduate Data Scientist',\n",
       " 'Robotics Engineer, Sensors',\n",
       " 'Contract: Data Infrastructure Engineer',\n",
       " 'AI/ML Modeling, Simulation and Analysis Engineer (Senior)',\n",
       " 'Cloud Data Engineer',\n",
       " 'Head of Data Science, Analytics and BI',\n",
       " 'Clinical Data Reporter',\n",
       " 'Especialista em Auditoria Interna - Data Analytics',\n",
       " 'Engineering Team Lead, Imaging Tech',\n",
       " 'Senior ML Engineer - NLP',\n",
       " 'Data Analyst (Aberdeen-based)',\n",
       " 'Principal Engineer, Data and Control Systems',\n",
       " 'Data Scientist (Pricing)',\n",
       " 'Head of AML Operations (m/f/d)',\n",
       " 'Data Engineer - 14072',\n",
       " 'Data Analyst (Reporting and Insights)',\n",
       " 'Sr. Manager (AI/ML)',\n",
       " 'Data Scientist, Decisions - Rider',\n",
       " 'Data Architect - SME',\n",
       " 'Senior SW Engineer (Machine Learning)',\n",
       " '(Global) Senior Research Scientist',\n",
       " 'Staff Data Scientist, Model Risk Management',\n",
       " 'Graduate Imaging Geophysicist',\n",
       " 'Architecte Plateforme Big Data / DevOps - F/H',\n",
       " 'Data Analyst - Retention',\n",
       " 'Lead Machine Learning Engineer',\n",
       " 'Data Developer',\n",
       " 'Data Analyst - Digital Marketing (all genders)',\n",
       " 'Android Engineer (Dubai)',\n",
       " 'Data Specialist - Governance',\n",
       " 'Senior Robotics Process Automation Developer',\n",
       " 'Technical Product Manager, Data Engineering',\n",
       " 'Sr. Data Developer (Remote), Experian Consumer Services',\n",
       " 'Senior Data Analyst with Python SQL - Bangalore',\n",
       " 'Manager, Measurement Innovation & Data Science',\n",
       " 'Data Analytics Engineer',\n",
       " 'Cloud Data Architect',\n",
       " 'Business Intelligence Engineering Manager',\n",
       " 'DevOps Engineer (Dubai)',\n",
       " 'Data Analytics Internship (Summer 23/24)',\n",
       " 'Confirmed Data Analyst - Data Pro Supply',\n",
       " 'Senior Machine Learning Engineer (Modeling)',\n",
       " 'Data Scientist / Data Analyst',\n",
       " 'Product Data Analyst sénior (h/f) en CDI à Paris',\n",
       " 'Data Analyst - Stage',\n",
       " 'Senior Analytics Engineer',\n",
       " 'Sr. Software Engineer, Data Engineering',\n",
       " 'Senior Machine Learning Engineer I',\n",
       " 'Data Engineer Sr.Software Engineer DX',\n",
       " 'Senior Staff Data Engineer',\n",
       " 'Natural Language Processing Intern',\n",
       " 'Senior Data Engineers',\n",
       " 'Coordinateur projets Genotypage data analyse (H/F)',\n",
       " 'Machine Learning & Software Engineer, Infrastructure - US Remote',\n",
       " 'Customer-Facing Deep Learning Solutions Architect',\n",
       " 'Data Engineering Manager - Allegro Pay',\n",
       " 'Senior Business Intelligence Developer (Database Architect & ETL Developer)',\n",
       " 'Technical Mentor (Independent Contractor) - Data Engineering Nanodegree (US Timezone)',\n",
       " 'Data Analyst, Business Optimisation',\n",
       " 'Machine Learning Force Fields Scientist (Materials Science)',\n",
       " 'Principal Machine Learning Engineer - ATG',\n",
       " 'Senior Associate Data Sciences',\n",
       " 'Senior Data Engineer (all genders) AI',\n",
       " 'Intermediate / Senior Fullstack Engineer (AI Team)',\n",
       " 'Data Quality Analyst - Stage',\n",
       " 'Senior Software Engineer - AI/ML team (.net + python)',\n",
       " 'Software Engineer, Data Platform, Data Management',\n",
       " 'Senior Machine Learning Engineer (Modeling), Financial Crimes Technology',\n",
       " 'Research Analyst',\n",
       " 'Backend / Data Engineers II, Cerebro',\n",
       " 'Junior Data Manager',\n",
       " 'Data Infrastructure Engineer',\n",
       " 'Backend Engineer (Dubai)',\n",
       " 'Senior Software Engineer I, Machine Learning, Retrieval Sciences',\n",
       " 'Sr. Staff Machine Learning Engineer',\n",
       " 'Staff Systems Engineer, Autonomy & Simulation',\n",
       " '[??-??&???] Senior, Data Analyst (Channel Analytics)',\n",
       " 'Senior Machine Learning Expert (on-site, Brussels / Belgium)',\n",
       " \"Spécialiste, intelligence d'affaires / Specialist, Business Intelligence\",\n",
       " 'Senior Product Manager | API & Data Products',\n",
       " 'Senior Analyst, Data Science and Analytics',\n",
       " 'Senior Product Manager - Data Management & Search',\n",
       " 'Accounting Professor- Data Analytics/AIS- 90K+ Salary',\n",
       " 'Senior Data Engineer - Healthgrades',\n",
       " 'Sr Applied Data Scientist',\n",
       " 'Business Intelligence Engineer',\n",
       " 'Assistant Mgr - Data Sciences',\n",
       " \"Data Analyst - Stage de fin d'études - Paris 2e\",\n",
       " 'Trading BI Developer',\n",
       " 'Data Analytics Intern - Le Cubs 2023',\n",
       " 'Product Data Analyst -  F/H',\n",
       " 'Data Scientist (Crypto)',\n",
       " '[Job- 10639] Senior Data Engineer Developer, Brazil',\n",
       " 'Business Intelligence Associate',\n",
       " 'Analyst, Reporting and Business Intelligence',\n",
       " 'Data Science Software Engineer',\n",
       " 'Product Owner with Tableau/Power BI(6 to 10 years)',\n",
       " 'Machine Learning & Software Engineer, Infrastructure - EMEA Remote',\n",
       " 'Sr AI Solution Developer (ServiceNow Developer)',\n",
       " 'Data Integrations Engineer',\n",
       " 'Lead Software Engineer - AI/ML team (.net + python)',\n",
       " 'Transportation Data Analyst Coordinator',\n",
       " 'Senior Applied Data Scientist (all genders) AI',\n",
       " 'Power BI Analyst',\n",
       " 'Senior Cloud DevOps Engineer (Data & AI) bei eBike Systems (w/m/div.)',\n",
       " 'Business Intelligence Analyst I',\n",
       " 'Power BI Data Visualization Analyst',\n",
       " 'Data Analyst (CEO Office)',\n",
       " 'Senior Data Science Analyst- Model Validation',\n",
       " 'Sr. Revenue Operations Specialist - Data Analytics',\n",
       " 'PhD Position - Neuro-Symbolic AI for Scene Understanding in Autonomous Driving',\n",
       " 'Senior Product Manager, Large Language Model',\n",
       " 'QuintoAndar - Analytics Engineer',\n",
       " 'VP, Data Products',\n",
       " 'Data Platform Developer, Machine Learning',\n",
       " 'Senior Vision Engineer (English version)',\n",
       " 'Lead Data Scientist (P3436)',\n",
       " '(Canada) Business Intelligence Engineer',\n",
       " 'Lead ML Platform Engineer',\n",
       " 'Staff Data Engineer',\n",
       " 'Transportation Data Analyst (Tableau)',\n",
       " 'Robotics Software Developer Intern Fall 2023',\n",
       " 'Senior Data Architect',\n",
       " 'Software Engineer, Computer Vision Program',\n",
       " 'Data Engineer - Tempcover',\n",
       " 'ML PhD Intern - LLMs & Generative AI',\n",
       " 'Alternance - « Data Analyst » ou « Equipe Business Intelligence » (H/F)',\n",
       " 'Software Engineer - Structured Data Strategies',\n",
       " 'Data Science Intern',\n",
       " 'Institution Data Analyst',\n",
       " 'Senior Solutions Engineer - Big Data',\n",
       " 'Principal Machine Learning (ML) Engineer',\n",
       " 'Product Data Engineer',\n",
       " \"Data Engineer - Stage de fin d'études - Paris 2e\",\n",
       " 'Senior Data Engineer/Scientist',\n",
       " 'Principal Data Scientist, Machine Learning',\n",
       " 'Sr Director - Project Implementation - Medical Imaging / PACS',\n",
       " 'Big Data BI Engineer',\n",
       " 'Principal Data Scientist (Spain, full-remote)',\n",
       " 'AI Programmer',\n",
       " 'Machine Learning for Natural Language Processing Intern',\n",
       " 'Data Scientist engineer',\n",
       " 'ML Postdoc Researcher - LLMs & Generative AI',\n",
       " 'Principal Engineer, Data Management Engineering',\n",
       " 'Lead Data Scientist - Pricing',\n",
       " 'Data Scientist, Product Analytics',\n",
       " 'Senior Infrastructure Software Engineer, ML Platform',\n",
       " 'Alumio Solution Engineer (Data Integration)',\n",
       " 'Senior AI Research Scientist \\x96 Perception and Machine Learning',\n",
       " 'Field Sample Specialist (Air Samples) - Eurofins Environment Testing \\x96 Pueblo, CO',\n",
       " 'Senior Research Scientist \\x96 AI-based Planning for Autonomous Systems',\n",
       " 'Senior Data Engineer, PHP',\n",
       " 'Head of Data Science & Predictive Modeling',\n",
       " 'Business and Commercial Banking (BCB) Business Intelligence and Analytics Graduate Programme - Gauteng',\n",
       " 'Data Scientist - Data Analytics and Infrastructure',\n",
       " '(Senior) Machine Learning Engineer - MLOps',\n",
       " 'Team Lead Data Science (f/m/x)',\n",
       " 'Senior Data Scientist - Monetization',\n",
       " 'Lead Machine Learning Research Engineer, Generative AI',\n",
       " 'Course Associate, Data Analysis and Visualization in Sustainability (Fall 2023)',\n",
       " 'Robotics Engineer',\n",
       " 'Ingénieur Data Modeler et/ou Tech Data - F/H',\n",
       " 'Biomedical Data Scientist',\n",
       " 'Product Analyst - Remote (Mumbai)',\n",
       " 'Databricks Administrator',\n",
       " 'Analyst, Data Engineering',\n",
       " 'Lead Data Engineer- Bangalore',\n",
       " 'Marketing Data Scientist',\n",
       " 'Insight Analyst',\n",
       " 'Senior Applied Scientist I',\n",
       " 'Data Manager Consultant',\n",
       " 'Senior Machine Learning Scientist (8304)',\n",
       " 'Senior Product Manager (AI team)',\n",
       " 'Principal Applied Scientist',\n",
       " 'Director of Data Science',\n",
       " 'Data Analyst Consultant',\n",
       " 'Senior Market Research Analyst',\n",
       " 'Senior Manager of Master Data Management (Hybrid)',\n",
       " 'Mid Data Scientist (f/m/x), Remote (EU) / Berlin',\n",
       " 'Sr. Product Manager (AI team)',\n",
       " 'Data Analyst (Pricing)',\n",
       " 'Principal Data Strategist Consultant',\n",
       " 'Senior Vehicle Data Analyst',\n",
       " 'Machine Learning Engineer (m/w/x)',\n",
       " 'Principal Engineer, Datacenter Software Systems',\n",
       " 'Business Intelligence (Qlik) Developer',\n",
       " 'Staff Data Scientist, Credit Card',\n",
       " 'Head of Product Data Science',\n",
       " \"Data Engineer / Data Analyst - Stage de fin d'études - Paris 2e (H/F)\",\n",
       " 'Junior Data Engineer',\n",
       " 'Machine Learning Research Engineer - Federal',\n",
       " 'Lead Data Engineer (P3796)',\n",
       " 'Senior ML Engineer',\n",
       " 'BI Engineer & Data Visualisation',\n",
       " 'Senior Machine Learning Engineer (8031)',\n",
       " 'Python Machine Learning Engineer (AdLight)',\n",
       " 'Research Engineer in Text Analytics (Direct Contract with Bosch)',\n",
       " 'Consultant(e) Data Scientist / Recherche Opérationnelle',\n",
       " 'Sr. Quantitative Research Analyst',\n",
       " 'Senior Data Manager',\n",
       " 'Staff Infrastructure Software Engineer, ML Platform',\n",
       " 'Data Engineer (AWS)',\n",
       " 'Data Engineer - Veeva Link',\n",
       " 'Senior Data Engineer (8307)',\n",
       " '(Mid level) Business Intelligence Analyst SCM (f/m/x)',\n",
       " \"Data Analyst - Stage de fin d'études - Paris 2e (H/F)\",\n",
       " 'Senior AI Programmer',\n",
       " 'AI Research Scientist \\x96 Perception and Machine Learning',\n",
       " 'Data Engineer 2',\n",
       " 'Scientist/Sr. Scientist, Computational Biology',\n",
       " 'Data Scientist Consultant',\n",
       " 'Manager, Data Engineering',\n",
       " 'Consultant | Data Analyst | KPMG Futures',\n",
       " 'Research Scientist \\x96 AI-based Planning for Autonomous Systems',\n",
       " 'Financial Data Analyst (m/f/d)',\n",
       " 'Analyst - Organizational Effectiveness (Data Management & Modelling, M&A)',\n",
       " 'Data Architect - Talent Pipeline',\n",
       " 'Data Analytics Hub Manager',\n",
       " 'Manager, Business Intelligence',\n",
       " 'Senior Data Analyst, Marketing & Enrollment - Hybrid',\n",
       " 'Architecte DATA - Décisionnel et Entrepôt Données Santé - Data Architect',\n",
       " 'Middle Product Manager (Data Analysis, Fintech)',\n",
       " 'Director, Data Science',\n",
       " 'Principal Machine Learning Engineer',\n",
       " 'Imaging Geophysicist - CDI permanent contract',\n",
       " 'Junior Business Intelligence Analyst',\n",
       " 'Lead Data Analyst',\n",
       " 'Senior Technical Integration Consultant- MFT, Migrations, ETL Experience- US Based Remote',\n",
       " 'Senior Data Analyst (Flights team, Bangkok-based, Relocation provided)',\n",
       " 'Data Engineer, Operations (AdScribe)',\n",
       " 'Lead BI Analyst (Supply Analytics, Bangkok-based)',\n",
       " 'Sr. Cloud & Data Engineer (Hybrid)',\n",
       " 'Instructor- Data Analytics',\n",
       " 'Data Analyst (Procurement)',\n",
       " 'Technical Program Manager, Artificial Intelligence & Data',\n",
       " 'Staff Machine Learning Platform Engineer',\n",
       " 'Junior Data and Insight Analyst',\n",
       " 'Business Intelligence Manager',\n",
       " 'Data Enginner',\n",
       " 'Monetization Data Analyst, Marketing Analytics',\n",
       " 'Principal Software Engineer, Applied ML',\n",
       " 'Azure Data Engineer',\n",
       " 'Electrical Design Engineer, Data Center Design Engineering',\n",
       " 'AI Architect, IT',\n",
       " 'Data Science Intern - Large Language Models',\n",
       " 'Deployment Specialist -(Travel, Early Career Robotics)-Central to East Coast - US',\n",
       " 'Staff Software Engineer, Machine Learning Acceleration',\n",
       " 'Senior BI Developer',\n",
       " 'Senior Data Engineer, Data Engineering',\n",
       " 'Product Data Specialist',\n",
       " 'Data Manager Zakelijke Markt',\n",
       " 'Business Intelligence Specialist',\n",
       " 'Consultant(e) Data Science - Bureau de Lyon',\n",
       " 'Associate Director, Data Engineering',\n",
       " 'Consultant(e) Senior Data Science',\n",
       " 'Consultant(e) Data Science - Bureau de Marseille',\n",
       " 'Staff Data Scientist, Business - Sales & Customer Success',\n",
       " 'Copywriter (ZibraAI)',\n",
       " 'Senior Product Manager, Data Infrastructure',\n",
       " 'Data Analyst (Flights team, Bangkok-based, Relocation provided)',\n",
       " 'Senior Data Scientist- Creator Content',\n",
       " 'Staff Data Scientist',\n",
       " 'Data Engineer - H/F',\n",
       " 'Senior Software Engineer (Power BI) -ELECTION-46',\n",
       " 'US Master Data Manager',\n",
       " 'Consultant(e) Senior Data Science - Bureau de Marseille',\n",
       " 'Data Analyst F/H',\n",
       " 'Senior Business Intelligence Analyst (Bangkok-based, Relocation provided)',\n",
       " 'Instructor, AI/Machine Learning (Part-time)',\n",
       " 'Big Data Engineer (Spark/ Hadoop/ Scala)',\n",
       " 'Wind Master Data Manager',\n",
       " 'Senior Applied Scientist II',\n",
       " 'Data Science Analyst',\n",
       " 'Machine Learning Engineer - LLM',\n",
       " 'Product Data Analyst - Gaming Analytics',\n",
       " 'Consultant(e) Senior Data Science - Bureau de Nantes',\n",
       " 'Chatbot Engineer',\n",
       " 'Imaging Coordinator',\n",
       " 'People Analytics Senior Data Analyst (Remote)',\n",
       " 'Information Security & Data Management Trainer',\n",
       " 'Senior Machine Learning Modeler, Financial Crimes',\n",
       " 'Lead Analyst (BI Data Development)',\n",
       " 'Principal Machine Learning Engineer - Personalization',\n",
       " 'Staff Software Engineer, Data Platform',\n",
       " 'Consultant(e) Data Science',\n",
       " 'Senior Insight Analyst - Digital Experience',\n",
       " 'Alternance Consultant(e) Data Analytics - H/F',\n",
       " 'Consultant(e) Data Science - Bureau de Nantes',\n",
       " '302 - Data Analytics Specialist - CMS End Stage Renal Disease (ESRD)',\n",
       " 'Senior Software Engineer - Data Visualization',\n",
       " 'Senior MLOps Engineer',\n",
       " 'Senior ML Engineer (Remote)',\n",
       " 'Research Engineer - Research',\n",
       " 'Principal Software Engineer, Data Engineering',\n",
       " 'Product Owner - Data Visualization Specialist and Quality',\n",
       " 'Data Engineer Senior - DataOps / AWS / Archi Distribuée (f/m/x)',\n",
       " 'Senior AI Data Engineer (USA REMOTE)',\n",
       " 'Principal Machine Learning Engineer- Economy',\n",
       " 'Data Quality Management Specialist',\n",
       " 'Machine Learning Implementation Engineer',\n",
       " 'Robotics Software Engineer',\n",
       " 'Data Management System General Support Coordinator, Consultancy',\n",
       " 'Senior Data Scientist (Deep Learning Specialist)',\n",
       " 'Machine Learning Engineer / Senior Machine Learning Engineer',\n",
       " 'Managing Director, Data Engineering, Reporting, Visualization',\n",
       " 'Principal Deep Learning Engineer - Computer Vision',\n",
       " 'Data Engineer - Team Data Platform (f/m/x)',\n",
       " 'BI Developer (SAP BO & Qlik)',\n",
       " 'Senior Analyst, Data Science (R-14532)',\n",
       " 'Sr. ML Engineer (Infrastructure)',\n",
       " 'Data Analyst II',\n",
       " 'Director, Business Intelligence',\n",
       " 'Senior Platform Data Engineer, People Analytics',\n",
       " 'Sr Machine Learning Engineer',\n",
       " 'Data Scientist (MMM)',\n",
       " 'Senior Spark Technical Solutions Engineer',\n",
       " 'Support Ops Manager I, ML Data Operations, FBA Support Operations',\n",
       " 'Head of Business Intelligence and Analytics',\n",
       " 'Senior Analyst - Business Intelligence (Bangkok-based, Relocation Provided)',\n",
       " 'Lead Data Developer',\n",
       " 'Program Manager, Operations Finance Business Intelligence, Japan Operations Finance',\n",
       " 'AI Data Engineering and Data Science Manager (USA REMOTE)',\n",
       " 'Consultant (German Speaking) - Data Analytics',\n",
       " 'Research Scientist, Responsible AI',\n",
       " 'Data Scientist, Generative AI',\n",
       " 'Data Analytics Manager',\n",
       " 'Data Engineer (Melbourne)',\n",
       " 'Sr. Product Designer - Data Management (UK)',\n",
       " 'NLP Engineer',\n",
       " '#659 Data Engineer',\n",
       " 'Specialist Solutions Architect - Data Engineering & Azure',\n",
       " 'People Data Analyst',\n",
       " 'Senior/ Lead Data analytics',\n",
       " 'Head of Health Data Science',\n",
       " 'Senior Data Scientist - Discovery Experiences',\n",
       " 'Data Engineer - NBC Sports Next',\n",
       " 'Applied Scientist II',\n",
       " 'Senior Data Scientist - Creator Success',\n",
       " 'Head of Data Science (f/m/x)',\n",
       " 'Director of Machine Learning Platform Engineering',\n",
       " 'Staff Research Scientist/Engineer',\n",
       " 'Data Analyst and BI Developer',\n",
       " 'Data Engineer Databricks',\n",
       " 'Senior Software Engineer (Data Engineering)',\n",
       " 'HRIS & Data Analytics Specialist',\n",
       " 'Group Manager, Technical Data Science',\n",
       " 'Expert Data Scientist (f/m/x)',\n",
       " 'Research Analyst (RPA Engineer)',\n",
       " 'Data Engineer, Clearing and Custody',\n",
       " 'Analytics Engineer - Analytics Hub',\n",
       " 'Internship - Data Analyst',\n",
       " 'Data Scientist, IPC - Specialized Selection',\n",
       " 'Prompt Engineering Internship',\n",
       " 'Partner Data Specialist',\n",
       " 'Azure Data Engineer (SQL/Python)',\n",
       " 'Analyste-Programmeur spécialiste ETL',\n",
       " 'Data Engineer, Creative Media Operations',\n",
       " 'Executive Training Coach, Artificial Intelligence',\n",
       " 'Adjunct Instructors - Data Science Program - 2023/2024',\n",
       " 'Senior SMWDC Data Analytics Team Lead',\n",
       " 'Senior Data Engineer I',\n",
       " 'Data Visualisation Consultant',\n",
       " 'Head of Data',\n",
       " 'Senior DataOps Engineer (kafka)',\n",
       " 'Stage Ingénieur Machine Learning (F/H)',\n",
       " 'Senior/Staff Machine Learning Engineer - Ecommerce Fraud Detection',\n",
       " 'Lead-Data Analyst',\n",
       " 'Senior Applied Scientist, Prime Video',\n",
       " 'Product Data Management Manager (Hybrid)',\n",
       " 'Data Scientist for Reliability Engineering (M/F/D)',\n",
       " 'Power BI Engineer',\n",
       " 'Senior Backend Engineer, ML Research',\n",
       " 'Data Engineer - Remote (Req. #515)',\n",
       " 'VP Engineering - Machine Learning',\n",
       " 'Senior Product Manager, Automation & Machine Learning',\n",
       " 'Data Analyst (Remote | UK)',\n",
       " 'Director, Trust & Panel Data Integrity',\n",
       " 'Data Scientist (Data Science Hub)',\n",
       " 'Machine Learning Engineer Intern',\n",
       " 'Graduate Analytics Engineer',\n",
       " 'Business Intelligence Engineer, Advertising Trust Data',\n",
       " 'Senior Research Scientist',\n",
       " 'AI Solution Cluster Manager',\n",
       " 'Senior Battery Modeling Engineer, Data',\n",
       " 'Software Engineer \\x96 Model Inference',\n",
       " 'Backend Software Engineer, Data Engineering',\n",
       " 'Senior/Principal ML Engineer, Content Understanding',\n",
       " 'Delivery Solutions Architect : Big Data',\n",
       " 'Sr Data Product Manager - Trading Experience',\n",
       " 'Data Scientist, Poland',\n",
       " 'Staff Machine Learning Engineer (Modeling), Risk',\n",
       " 'HR ( Data Analyst)  - Junior Manager',\n",
       " 'Senior People Data Analyst - Workday',\n",
       " 'Logistics Lead - Imaging',\n",
       " 'Machine Learning Researcher (internship)',\n",
       " 'Function Developer - Artificial Intelligence/Machine Learning in Automobile Applications',\n",
       " 'Sr Research Analyst - LNG',\n",
       " 'Sr. Business Analyst, Digital Services Business Intelligence (DSBI)',\n",
       " 'Senior data analyst',\n",
       " 'Lead AI Programmer - Remote',\n",
       " 'Engineer (Mid- Data Engineer)',\n",
       " 'Data Scientist (Machine Learning Modelling)',\n",
       " '4295 Senior Data Analyst',\n",
       " 'Senior Manager (Project & Data Management)',\n",
       " 'Senior Spark Data Engineer',\n",
       " 'Pessoa Engenheira de Machine Learning Sênior',\n",
       " 'Senior Software Engineer, Data Platform - Remote',\n",
       " 'Senior Machine Learning Engineer- Price Freeze (100% remote)',\n",
       " '(Senior) Director Data Science for Pricing / Yield Management  (m/f/d)',\n",
       " 'Big Data Engineer \\x96 Hadoop',\n",
       " 'Senior Machine Learning Engineer - Search',\n",
       " 'Senior Associate Data Engineering L1',\n",
       " 'Big Data Infrastructure Engineer',\n",
       " '[Job- 10566] Senior Data Visualization Analyst, Brazil',\n",
       " 'Satellite Image Processing and AI Engineer',\n",
       " 'Data Engineer (Hybrid)',\n",
       " 'Lead/Principal Product Manager, AI/ML',\n",
       " 'Senior Data Engineer - Data Scientist  (f/m/div.)',\n",
       " 'Machine Learning / AI Engineer (Indonesia)',\n",
       " 'Lead Partner Commerce Analyst (Business Intelligence)',\n",
       " 'Senior Manager, Data Engineering',\n",
       " 'Junior Data Scientist',\n",
       " 'Data Engineer \\x96 Oracle',\n",
       " 'Data Analyst (S&OP)',\n",
       " 'Graduate Motorsport Data Analyse and Engineer',\n",
       " 'Data Operations Manager - Link',\n",
       " 'VP of Data Science',\n",
       " 'Manager, Data Science (Machine Learning)',\n",
       " 'Data Scientist IV',\n",
       " 'Data Science - Machine Learning Engineer',\n",
       " 'Principal Machine Learning Engineer (DLP)',\n",
       " 'Data Engineer I (BLD)',\n",
       " 'Senior Data Science Manager, Marketing',\n",
       " 'Scientist I, Computational Biology',\n",
       " 'Data Analytics Architect, Multi-Instance',\n",
       " 'Head of Data Ops & Render Support',\n",
       " 'Sr. Security Analytics Engineer',\n",
       " 'Senior DevOps Engineer \"Big Data Platform - Hadoop\" (f/m/div.)',\n",
       " 'Principal  - Data Science',\n",
       " 'Data Scientist, Product Growth',\n",
       " 'Principal Applied Scientist, Sponsored Products',\n",
       " 'Senior Machine Learning Architect',\n",
       " 'Credit Risk Decision Scientist - Afterpay',\n",
       " 'Python/ETL Developer',\n",
       " 'Business Intelligence Associate Manager(Client facing)',\n",
       " 'Business Intelligence MBA Associate',\n",
       " 'Data Scientist, Research',\n",
       " 'Vacation work - (AIS) Actuarial & Insurance Solutions 2023- Johannesburg',\n",
       " 'Applied Scientist- Search Query Recommendation, Search Assistance',\n",
       " 'Senior Robotics Software Engineer',\n",
       " 'Senior Product Manager, Supplier Advertising (Machine Learning)',\n",
       " 'Pessoa Engenheira de Machine Learning Júnior',\n",
       " 'Quantitative Research Analyst',\n",
       " 'Business Intelligence Engineer, Analytics',\n",
       " 'Gruppenleitung Supply Chain Management & Data Analytics (w/m/div.)',\n",
       " 'Staff Data Engineer (Spark, Python, Hadoop)',\n",
       " 'Data Architect (optional relocation to Montenegro)',\n",
       " 'Data Science Intern - Large Language Model',\n",
       " 'Staff Data Scientist - NLP',\n",
       " 'Senior ETL Datastage Developer',\n",
       " 'Data Analyst, Product',\n",
       " 'MLOps Engineer, LLM',\n",
       " 'Data Engineer - Data Warehousing (SQL/Python) REF1478Z-German Speaking',\n",
       " 'Senior Consultant - Azure Data Engineer',\n",
       " 'Director, Data Engineering',\n",
       " 'Business Intelligence Analytics Lead, (Permanent Remote)',\n",
       " 'Recruitment Data Analyst',\n",
       " 'Technical Leader of Computer Vision',\n",
       " 'AI Product Owner - Manufacturing (f/m/div.)',\n",
       " 'Stage - NLP Engineer (H/F)',\n",
       " 'Machine Learning Ops Specialist',\n",
       " 'Manager of Growth Data Science',\n",
       " 'Customer Success & Insight Analyst',\n",
       " 'Senior Product Manager - Machine Learning',\n",
       " 'Data Scientist (Customer Acquisition)',\n",
       " 'IT Data Engineer',\n",
       " 'Staff Research Scientist/Engineer - ATG',\n",
       " 'Analista de Sistemas | Foco em Power BI e SharePoint',\n",
       " 'Staff Applied Scientist (Open to remote across ANZ)',\n",
       " 'Manager, Product Data Analytics',\n",
       " 'Applied Scientist II, AWS AI',\n",
       " 'Senior Robotics Engineer',\n",
       " 'Scientist 1, Data Science',\n",
       " 'Research Engineering Manager, Unit 42 (Remote)',\n",
       " 'Software Engineer, Robotics',\n",
       " 'AI Research Engineer',\n",
       " 'Staff Software Engineer - Streaming Data Pipelines',\n",
       " 'Sr. Data Engineer - (Java + Spark)',\n",
       " 'Associate Director, Business Intelligence',\n",
       " 'Senior Data Scientist - Retailer',\n",
       " 'Senior Data Scientist, Core',\n",
       " 'Senior/Lead Data Scientist',\n",
       " 'ESRD Data Analyst and Program/Technical Specialist (Contract Contingent)',\n",
       " 'AI/ML Data Labeling Manager - UK',\n",
       " 'Data Scientist (Job Ref:1823)',\n",
       " 'Data Analyst I',\n",
       " 'Staff Bioinformatics Scientist - Machine Learning/Classifier Research and Development #2802 (Seattle)',\n",
       " 'Consultant(e) Power BI',\n",
       " 'Data Engineer Specialist',\n",
       " 'Junior/Mid Data Analyst',\n",
       " 'Sr Staff Applied Research Scientist - ATG Core LLM Team',\n",
       " 'Senior Data Modeler',\n",
       " 'Data Engineer-Operations',\n",
       " 'Business/data analyst',\n",
       " 'Manager - DS-AI & Machine Learning',\n",
       " 'Senior Backend Software Engineer- Big Data Analytics',\n",
       " 'Staff Product Manager, Machine Learning and Recommendations',\n",
       " 'Bilingual Data Analyst',\n",
       " 'Senior Data Developer AWS Redshift',\n",
       " 'Analytics Engineer - Consumer & Order and Pay',\n",
       " 'Sr. Data Engineer (Remote)',\n",
       " 'Staff Machine Learning Engineer, Entity Understanding - NYC',\n",
       " '(Senior) Director Data Science for Pricing / Yield Management & Data Science Lead Team Portugal (m/f/d)',\n",
       " 'AI/ML Data Labeling Manager - US',\n",
       " 'Data Scientist (S&OP)',\n",
       " '[EA] AI Tech Lead (Artificial Intelligence)',\n",
       " 'Data Engineer - Data Platform',\n",
       " 'Finance Data Analyst',\n",
       " 'Sr SRE/DevOps Engineer (AI & Machine Learning)',\n",
       " 'Business Data Analyst - Dailymotion Advertising (All Genders)',\n",
       " 'Data Scientist - 4365',\n",
       " 'Data Engineer \\x96 Data Lake',\n",
       " 'Engineer- Data Engineer',\n",
       " 'PreMaster Programm - Big Data (Analytics)',\n",
       " 'Senior Software Engineer, Data Safety',\n",
       " 'Sr. Business Intelligence Analyst',\n",
       " 'Big Data Engineer (IT-DA-DS-2023-76-LD)',\n",
       " 'Staff Bioinformatics Scientist - Machine Learning/Classifier Research and Development #2802 (San Diego)',\n",
       " 'Senior Expert BigData & AI Public Cloud (m/w/d) - Open Telekom Cloud REF1768P',\n",
       " 'Lead Software Engineer, Machine Learning Platform',\n",
       " 'AI Engineer',\n",
       " 'Associate Director/Director of Chemical Data Analytics',\n",
       " 'Senior Data Engineer -REMOTE',\n",
       " 'Data Scientist Senior',\n",
       " 'Director | Master Data Management Delivery Lead| Data & Cloud - NV1 Clearance',\n",
       " 'Senior Data Analyst, International',\n",
       " 'Data Engineer Pleno',\n",
       " 'Data Engineer, Customer Experience and Business Trends',\n",
       " 'AI Compiler and Performance Engineer',\n",
       " '2023 POWER BI MSBI Developer BD/XAI COB',\n",
       " 'Staff Data Scientist, Strategic Planning & Forecasting',\n",
       " 'Big Data Specialist',\n",
       " 'Data Scientist (M/F)',\n",
       " 'Data Scientist (Mid Level)',\n",
       " 'Sr Staff DevOps - Terraform, Kubernetes, CI/CD, Spark / Kafka, Linux, Scripting',\n",
       " 'Staff Machine Learning Engineer - Ads',\n",
       " 'Engineer, Computer Vision',\n",
       " 'CNSP Surface Force Training Requirements & Data Analyst',\n",
       " 'ETL Developer - Remote (USC, GC, GC EAD)',\n",
       " 'Data Engineer (Hong Kong)',\n",
       " 'Data Engineer with Top Secret',\n",
       " 'Senior Data Scientist (P3485)',\n",
       " 'Data & Analytics Engineer',\n",
       " 'Engineer, Computer Vision and Graphics',\n",
       " 'Senior Clinical Data Manager',\n",
       " 'ChatGPT & AI Consultant (Part Time)',\n",
       " 'Python AI Developer (Remote)',\n",
       " 'Senior Staff Software Engineer, Machine Learning',\n",
       " 'Senior Backend Engineer, Applied Machine Learning',\n",
       " 'Oracle Data Analyst',\n",
       " 'Staff Data Engineer (Snowflake / Kafka)',\n",
       " 'Data Scientist Intern (End of studies)',\n",
       " 'VP of Data Science and Analytics',\n",
       " 'Business Intelligence Analyst - Risk',\n",
       " 'Senior Scientist, Machine Learning',\n",
       " 'Graduate Data Engineer',\n",
       " 'Engineering Manager 1 - Data Engineering Developer Experience',\n",
       " 'Applied Scientist II, Amazon Search',\n",
       " 'Lead Engineer, MLOps Platform',\n",
       " 'Machine Learning Engineer - Simulation',\n",
       " 'Workplace Analytics Engineer',\n",
       " 'Machine Learning Intern/Co-op (Fall 2023)',\n",
       " 'Artificial Intelligence Software Library Technical Lead',\n",
       " 'Business Intelligence (BI) Engineer',\n",
       " 'NATOIS-0008 Data Scientist (NS) - TUE 13 Jun',\n",
       " 'Mid/Sr Machine Learning Engineer',\n",
       " 'Staff Software Engineer - Machine Learning',\n",
       " 'Data Analyst - Core\\xa0Data',\n",
       " 'Senior Staff BI Analyst',\n",
       " 'ESG Data Operations Senior Manager',\n",
       " 'Data Analyst - Contract - 1 day a week',\n",
       " 'ML Engineer',\n",
       " 'Artificial Intelligence Hardware Architect (Senior Hardware Architect)',\n",
       " 'Senior Analytics Engineer - Data Engineer',\n",
       " 'Data Analytics Manager, SPEAR Operations Support & Services (OS2)',\n",
       " 'Senior Software Engineer, Perception, Machine Learning/Computer Vision',\n",
       " 'Machine Learning Engineer - Intelligent Safety',\n",
       " 'Artificial Intelligence Compiler Engineer (Software Engineer)',\n",
       " 'Senior Data Engineer, Marketing Data',\n",
       " 'AI Algorithms - Hardware Codesign Lead (Senior AI Software Engineer)',\n",
       " 'Research Scientist Intern',\n",
       " 'Staff Product Designer, AI/ML',\n",
       " 'Simulation and Data Engineer Inductive Sensors (m/f)',\n",
       " 'Senior Engineer, Data Management Engineering',\n",
       " 'Data Analyst (JIRA & Azure DevOps or HP ALM) - Remote',\n",
       " 'Vice President Data Science, Real World Data Lead',\n",
       " 'Analyst, Data Science',\n",
       " 'Engineering Team Lead, Data Modelling',\n",
       " 'Associate Director, Data Science',\n",
       " 'Cloud/Data Engineer',\n",
       " 'Senior Staff/ Staff Engineer(Python | Spark | Delta Lake | GraphDB | Machine Learning)',\n",
       " 'Team Leader - Data Engineering (REF462H)',\n",
       " 'Data Management Consultant',\n",
       " 'Senior Data Manager, Product Owner',\n",
       " 'Director of Delivery, Data Operations',\n",
       " '(Senior) Machine Learning Engineer \\x96 Video Analysis',\n",
       " 'Student Assistant for Data Management (m/f/d)',\n",
       " 'Data Scientist, Risk',\n",
       " 'Customer Success Support Specialist (Remote Technical Support, Robotics) - U.S.',\n",
       " 'Principal Data Scientist (Seattle or U.S. Remote)',\n",
       " 'Data Engineer - ETL',\n",
       " 'Market & Business Intelligence Graduate',\n",
       " 'Product Data Analyst',\n",
       " 'Full Stack Engineer for Computer Vision Products',\n",
       " 'Senior Data Scientist (P3186)',\n",
       " 'Senior Machine Learning Engineer, Perception',\n",
       " 'Data Analyst (Internship)',\n",
       " 'Senior Data Engineer (m/f/d)',\n",
       " 'Senior Data Analyst, Engineering Excellence',\n",
       " 'Business Intelligence Analytics Manager',\n",
       " 'Machine Learning Scientist (Intern)',\n",
       " 'Staff Research Engineer (REQ #R273)',\n",
       " 'Senior Machine Learning Scientist',\n",
       " 'Data Scientist, In-car Ads',\n",
       " '[Job-10530] Senior Data Developer, Brazil',\n",
       " 'Deep Learning Field Engineer',\n",
       " 'Data Analyst - Spanish Speaker',\n",
       " 'Data stage ETL',\n",
       " 'Software Engineer, Data Streaming Platform',\n",
       " 'Data Analyst Tech Lead',\n",
       " '[??] ????? ??? (Data Specialist / ???)',\n",
       " 'Knowledge Management Data Specialist',\n",
       " 'Machine Learning Engineer, Fulfillment / Supply Chain',\n",
       " 'Data Engineer - Technical Lead',\n",
       " 'Senior Data engineer (H/F)',\n",
       " 'Analyst, Business Intelligence',\n",
       " 'IT Manager, Advanced Business Intelligence',\n",
       " 'Revenue Operations Data Analyst',\n",
       " 'Data Science Manager',\n",
       " 'Engineering Manager - Core ML & Chatbot',\n",
       " 'Data Engineer (CRYPTO)',\n",
       " 'Associate Data Analyst (Permanent Remote)',\n",
       " 'Economist, Pricing and Causal Inference',\n",
       " 'Customer Data Specialist',\n",
       " 'Senior Manager, Personalization Machine Learning Science',\n",
       " 'Senior Research Analyst- Corporate Research Team',\n",
       " 'Summer Machine Learning Engineer Internship (Skopje, Bitola, Ohrid)',\n",
       " 'Assistant/Associate Professor in Embedded Artificial Intelligence  at Télécom Paris - CDI',\n",
       " 'Software Developer in Data Science Team',\n",
       " 'Machine Learning Systems Engineer',\n",
       " 'Software Engineer - C++ Qt QML Development',\n",
       " 'Data Engineer - Kolkata',\n",
       " 'AI Solution Manager/Senior AI Solution Manager',\n",
       " 'BI Analyst \\x96 Based in Parsippany-Troy Hills, NJ',\n",
       " 'Senior Data Analyst, Business Insights - US, Remote',\n",
       " 'Insight Analyst II',\n",
       " 'IN BGSW SystemTester Autonomoriving EXM 2023 (Cloe)',\n",
       " 'Senior Machine Learning Engineer / Senior Python Developer',\n",
       " 'Data Specialist',\n",
       " 'Data Analyst - CRM',\n",
       " 'Junior, Intermediate or Senior Data Analyst',\n",
       " 'QA Data Engineer',\n",
       " 'Data Operations Manager',\n",
       " 'Senior/Lead Data Manager',\n",
       " 'Data Quality Analyst/ Test Analyst',\n",
       " 'Senior Data Analytics Developer',\n",
       " 'Data Science Manager (m/f/d)',\n",
       " 'Lead Data Engineer',\n",
       " 'Senior Data Engineer, Analytics',\n",
       " 'Senior Data Engineer, New Initiatives',\n",
       " 'Data Scientist - Product (U.S. only)',\n",
       " 'Data Analyst (Intern)',\n",
       " 'Data Operations Analyst',\n",
       " 'Associate Data Analytics Manager(CPG)',\n",
       " 'Staff Product Data Analyst',\n",
       " 'Senior Manager Data Engineering - Houston (in office 2 days per week)',\n",
       " 'Database Engineer(Elasticsearch/ OpenSearch)',\n",
       " 'Software Engineer - Machine Learning',\n",
       " 'BI Development Lead - India',\n",
       " 'Sr Business Analyst, Reporting & Data Analytics - (Workforce Planning) (Hybrid/Onsite)',\n",
       " 'Senior Data Engineering Developer',\n",
       " 'Data Engineer (H/F)',\n",
       " 'Manager, Internal Audit - Lending Products, Credit and Models (CHNW)',\n",
       " 'Manager, Data Science',\n",
       " 'Sr. Data Scientist - ADS',\n",
       " 'Staff Data Engineer (Data Acquisition)',\n",
       " 'Data Analyst - Chinese Speaker',\n",
       " 'Senior HR Systems & Data Analyst',\n",
       " 'Data Warehouse BI Developer Lead',\n",
       " 'Data Analyst 2 - Optum',\n",
       " 'Senior Data Engineer - Driven data platforms',\n",
       " 'Senior AI/ML Consultant (Federal)',\n",
       " 'Quality Assurance Engineer, Data Center Engineering',\n",
       " '(Senior) Cloud Data Engineer (m/f/d)',\n",
       " '(Senior) Cloud Data Engineer (m/w/d)',\n",
       " 'Staff Software Engineer, Data Storage',\n",
       " 'Data Analyst, Medicare Advantage, Remote',\n",
       " 'Lead Business Intelligence Developer',\n",
       " 'Senior Computer Vision Developer (C++, Python)',\n",
       " 'Staff Data Scientist-2',\n",
       " 'Senior Data Analyst - Marketing',\n",
       " 'Business Intelligence \\x96 Data Engineer (Open to Remote)',\n",
       " 'Senior Consultant - Enterprise Business Intelligence and Data Analytics Solution Implementation',\n",
       " 'Lead Data Architect Consultant (AWS, Azure, GCP)',\n",
       " 'Data Scientist Intern',\n",
       " 'Data Analyst / Data Scientist eBike Systems (w/m/div.)',\n",
       " 'Entry Level Data Scientist',\n",
       " 'Insights & Data Specialist (Growth)',\n",
       " 'Data Scientist (F/H)',\n",
       " 'Senior Methods and Data Analyst',\n",
       " 'Project Manager: Customer Outreach (Data Science)',\n",
       " 'Clinical Data Manager/Analyst',\n",
       " ...]"
      ]
     },
     "execution_count": 259,
     "metadata": {},
     "output_type": "execute_result"
    }
   ],
   "source": [
    "df_clean['Job Title'].unique().tolist()"
   ]
  },
  {
   "cell_type": "markdown",
   "metadata": {},
   "source": [
    "<h3>Rename Columns and replace whitespaces by underscore</h3>"
   ]
  },
  {
   "cell_type": "code",
   "execution_count": 260,
   "metadata": {},
   "outputs": [
    {
     "data": {
      "text/html": [
       "<div>\n",
       "<style scoped>\n",
       "    .dataframe tbody tr th:only-of-type {\n",
       "        vertical-align: middle;\n",
       "    }\n",
       "\n",
       "    .dataframe tbody tr th {\n",
       "        vertical-align: top;\n",
       "    }\n",
       "\n",
       "    .dataframe thead th {\n",
       "        text-align: right;\n",
       "    }\n",
       "</style>\n",
       "<table border=\"1\" class=\"dataframe\">\n",
       "  <thead>\n",
       "    <tr style=\"text-align: right;\">\n",
       "      <th></th>\n",
       "      <th>Company</th>\n",
       "      <th>Job Title</th>\n",
       "      <th>Location</th>\n",
       "      <th>Job Type</th>\n",
       "      <th>Experience level</th>\n",
       "      <th>Salary</th>\n",
       "      <th>Min_Salary_Year</th>\n",
       "      <th>Salary_conditions</th>\n",
       "      <th>Requirment of the company</th>\n",
       "      <th>Facilities</th>\n",
       "    </tr>\n",
       "  </thead>\n",
       "  <tbody>\n",
       "    <tr>\n",
       "      <th>0</th>\n",
       "      <td>SGS</td>\n",
       "      <td>Clinical Data Analyst</td>\n",
       "      <td>Richardson, TX, United States</td>\n",
       "      <td>Full Time</td>\n",
       "      <td>Entry-level</td>\n",
       "      <td>48K+ *</td>\n",
       "      <td>48000.0</td>\n",
       "      <td>True</td>\n",
       "      <td>Computer Science,Data quality,Genetics,Mathema...</td>\n",
       "      <td>,,,,</td>\n",
       "    </tr>\n",
       "    <tr>\n",
       "      <th>1</th>\n",
       "      <td>Ocorian</td>\n",
       "      <td>AML/CFT &amp; Data Analyst</td>\n",
       "      <td>Ebène, Mauritius</td>\n",
       "      <td>Full Time</td>\n",
       "      <td>Entry-level</td>\n",
       "      <td>48K+ *</td>\n",
       "      <td>48000.0</td>\n",
       "      <td>True</td>\n",
       "      <td>Agile,Data management,Finance,Security,,</td>\n",
       "      <td>,,,,</td>\n",
       "    </tr>\n",
       "    <tr>\n",
       "      <th>2</th>\n",
       "      <td>Cricut</td>\n",
       "      <td>Machine Learning Engineer</td>\n",
       "      <td>South Jordan, UT, United States</td>\n",
       "      <td>Full Time</td>\n",
       "      <td>Not-Specified</td>\n",
       "      <td>90K+ *</td>\n",
       "      <td>90000.0</td>\n",
       "      <td>True</td>\n",
       "      <td>Agile,Architecture,AWS,Computer Science,Comput...</td>\n",
       "      <td>Career development,,,,</td>\n",
       "    </tr>\n",
       "    <tr>\n",
       "      <th>3</th>\n",
       "      <td>Bosch Group</td>\n",
       "      <td>Application Developer &amp; Data Analyst</td>\n",
       "      <td>Nonantola, Italy</td>\n",
       "      <td>Full Time</td>\n",
       "      <td>Entry-level</td>\n",
       "      <td>48K+ *</td>\n",
       "      <td>48000.0</td>\n",
       "      <td>True</td>\n",
       "      <td>Engineering,Industrial,Oracle,Power BI,R,R&amp;D</td>\n",
       "      <td>,,,,</td>\n",
       "    </tr>\n",
       "    <tr>\n",
       "      <th>4</th>\n",
       "      <td>Publicis Groupe</td>\n",
       "      <td>Data Engineer Full time (Public Sector) USA</td>\n",
       "      <td>Arlington, VA, United States</td>\n",
       "      <td>Full Time</td>\n",
       "      <td>Mid-level</td>\n",
       "      <td>108K+</td>\n",
       "      <td>108000.0</td>\n",
       "      <td>False</td>\n",
       "      <td>AWS,Azure,Computer Science,Consulting,Dataflow...</td>\n",
       "      <td>Flex hours,Flex vacation,Parental leave,Unlimi...</td>\n",
       "    </tr>\n",
       "    <tr>\n",
       "      <th>...</th>\n",
       "      <td>...</td>\n",
       "      <td>...</td>\n",
       "      <td>...</td>\n",
       "      <td>...</td>\n",
       "      <td>...</td>\n",
       "      <td>...</td>\n",
       "      <td>...</td>\n",
       "      <td>...</td>\n",
       "      <td>...</td>\n",
       "      <td>...</td>\n",
       "    </tr>\n",
       "    <tr>\n",
       "      <th>3190</th>\n",
       "      <td>CCRi</td>\n",
       "      <td>Application Integration Engineer, Computer Vis...</td>\n",
       "      <td>Chantilly, Virginia, United States</td>\n",
       "      <td>Full Time</td>\n",
       "      <td>Mid-level</td>\n",
       "      <td>113K+</td>\n",
       "      <td>113000.0</td>\n",
       "      <td>False</td>\n",
       "      <td>Agile,Angular,APIs,Architecture,AWS,Azure</td>\n",
       "      <td>401(k) matching,Career development,Flex hours,...</td>\n",
       "    </tr>\n",
       "    <tr>\n",
       "      <th>3191</th>\n",
       "      <td>Publicis Groupe</td>\n",
       "      <td>Associate Director, Data Science</td>\n",
       "      <td>New York City, United States</td>\n",
       "      <td>Full Time</td>\n",
       "      <td>Mid-level</td>\n",
       "      <td>106K+</td>\n",
       "      <td>106000.0</td>\n",
       "      <td>False</td>\n",
       "      <td>Bayesian,Classification,Clustering,Data analys...</td>\n",
       "      <td>Career development,Health care,,,</td>\n",
       "    </tr>\n",
       "    <tr>\n",
       "      <th>3192</th>\n",
       "      <td>DoorDash</td>\n",
       "      <td>Senior Software Engineer, Machine Learning - A...</td>\n",
       "      <td>Sunnyvale, CA; San Francisco, CA; New York</td>\n",
       "      <td>Full Time</td>\n",
       "      <td>Senior-level</td>\n",
       "      <td>176K+</td>\n",
       "      <td>176000.0</td>\n",
       "      <td>False</td>\n",
       "      <td>Computer Science,Data analysis,Engineering,Exc...</td>\n",
       "      <td>401(k) matching,Career development,Equity,Insu...</td>\n",
       "    </tr>\n",
       "    <tr>\n",
       "      <th>3193</th>\n",
       "      <td>Western Digital</td>\n",
       "      <td>Data Scientist - New College Graduate</td>\n",
       "      <td>Biñan, Philippines</td>\n",
       "      <td>Full Time</td>\n",
       "      <td>Entry-level</td>\n",
       "      <td>39K+ *</td>\n",
       "      <td>39000.0</td>\n",
       "      <td>True</td>\n",
       "      <td>APIs,Clustering,Computer Science,Data visualiz...</td>\n",
       "      <td>Career development,,,,</td>\n",
       "    </tr>\n",
       "    <tr>\n",
       "      <th>3196</th>\n",
       "      <td>ATB Financial</td>\n",
       "      <td>Data Scientist</td>\n",
       "      <td>Edmonton, Alberta, Canada</td>\n",
       "      <td>Full Time</td>\n",
       "      <td>Entry-level</td>\n",
       "      <td>39K+ *</td>\n",
       "      <td>39000.0</td>\n",
       "      <td>True</td>\n",
       "      <td>Computer Science,Data Analytics,Data Mining,Ec...</td>\n",
       "      <td>Career development,Startup environment,,,</td>\n",
       "    </tr>\n",
       "  </tbody>\n",
       "</table>\n",
       "<p>2896 rows × 10 columns</p>\n",
       "</div>"
      ],
      "text/plain": [
       "              Company                                          Job Title   \n",
       "0                 SGS                              Clinical Data Analyst  \\\n",
       "1             Ocorian                             AML/CFT & Data Analyst   \n",
       "2              Cricut                          Machine Learning Engineer   \n",
       "3         Bosch Group               Application Developer & Data Analyst   \n",
       "4     Publicis Groupe        Data Engineer Full time (Public Sector) USA   \n",
       "...               ...                                                ...   \n",
       "3190             CCRi  Application Integration Engineer, Computer Vis...   \n",
       "3191  Publicis Groupe                   Associate Director, Data Science   \n",
       "3192         DoorDash  Senior Software Engineer, Machine Learning - A...   \n",
       "3193  Western Digital              Data Scientist - New College Graduate   \n",
       "3196    ATB Financial                                     Data Scientist   \n",
       "\n",
       "                                          Location   Job Type   \n",
       "0                    Richardson, TX, United States  Full Time  \\\n",
       "1                                 Ebène, Mauritius  Full Time   \n",
       "2                  South Jordan, UT, United States  Full Time   \n",
       "3                                 Nonantola, Italy  Full Time   \n",
       "4                     Arlington, VA, United States  Full Time   \n",
       "...                                            ...        ...   \n",
       "3190            Chantilly, Virginia, United States  Full Time   \n",
       "3191                  New York City, United States  Full Time   \n",
       "3192  Sunnyvale, CA; San Francisco, CA; New York \n",
       "  Full Time   \n",
       "3193                            Biñan, Philippines  Full Time   \n",
       "3196                     Edmonton, Alberta, Canada  Full Time   \n",
       "\n",
       "     Experience level   Salary  Min_Salary_Year  Salary_conditions   \n",
       "0         Entry-level   48K+ *          48000.0               True  \\\n",
       "1         Entry-level   48K+ *          48000.0               True   \n",
       "2       Not-Specified   90K+ *          90000.0               True   \n",
       "3         Entry-level   48K+ *          48000.0               True   \n",
       "4           Mid-level    108K+         108000.0              False   \n",
       "...               ...      ...              ...                ...   \n",
       "3190        Mid-level    113K+         113000.0              False   \n",
       "3191        Mid-level    106K+         106000.0              False   \n",
       "3192     Senior-level    176K+         176000.0              False   \n",
       "3193      Entry-level   39K+ *          39000.0               True   \n",
       "3196      Entry-level   39K+ *          39000.0               True   \n",
       "\n",
       "                             Requirment of the company    \n",
       "0     Computer Science,Data quality,Genetics,Mathema...  \\\n",
       "1              Agile,Data management,Finance,Security,,   \n",
       "2     Agile,Architecture,AWS,Computer Science,Comput...   \n",
       "3          Engineering,Industrial,Oracle,Power BI,R,R&D   \n",
       "4     AWS,Azure,Computer Science,Consulting,Dataflow...   \n",
       "...                                                 ...   \n",
       "3190          Agile,Angular,APIs,Architecture,AWS,Azure   \n",
       "3191  Bayesian,Classification,Clustering,Data analys...   \n",
       "3192  Computer Science,Data analysis,Engineering,Exc...   \n",
       "3193  APIs,Clustering,Computer Science,Data visualiz...   \n",
       "3196  Computer Science,Data Analytics,Data Mining,Ec...   \n",
       "\n",
       "                                             Facilities  \n",
       "0                                                  ,,,,  \n",
       "1                                                  ,,,,  \n",
       "2                                Career development,,,,  \n",
       "3                                                  ,,,,  \n",
       "4     Flex hours,Flex vacation,Parental leave,Unlimi...  \n",
       "...                                                 ...  \n",
       "3190  401(k) matching,Career development,Flex hours,...  \n",
       "3191                  Career development,Health care,,,  \n",
       "3192  401(k) matching,Career development,Equity,Insu...  \n",
       "3193                             Career development,,,,  \n",
       "3196          Career development,Startup environment,,,  \n",
       "\n",
       "[2896 rows x 10 columns]"
      ]
     },
     "execution_count": 260,
     "metadata": {},
     "output_type": "execute_result"
    }
   ],
   "source": [
    "df_clean"
   ]
  },
  {
   "cell_type": "code",
   "execution_count": 261,
   "metadata": {},
   "outputs": [],
   "source": [
    "# Rename the column to remove spaces\n",
    "df_clean.columns = df_clean.columns.str.replace(\" \", \"_\")"
   ]
  },
  {
   "cell_type": "code",
   "execution_count": 262,
   "metadata": {},
   "outputs": [
    {
     "data": {
      "text/html": [
       "<div>\n",
       "<style scoped>\n",
       "    .dataframe tbody tr th:only-of-type {\n",
       "        vertical-align: middle;\n",
       "    }\n",
       "\n",
       "    .dataframe tbody tr th {\n",
       "        vertical-align: top;\n",
       "    }\n",
       "\n",
       "    .dataframe thead th {\n",
       "        text-align: right;\n",
       "    }\n",
       "</style>\n",
       "<table border=\"1\" class=\"dataframe\">\n",
       "  <thead>\n",
       "    <tr style=\"text-align: right;\">\n",
       "      <th></th>\n",
       "      <th>Company</th>\n",
       "      <th>Job_Title</th>\n",
       "      <th>Location</th>\n",
       "      <th>Job_Type</th>\n",
       "      <th>Experience_level</th>\n",
       "      <th>Salary</th>\n",
       "      <th>Min_Salary_Year</th>\n",
       "      <th>Salary_conditions</th>\n",
       "      <th>Requirment_of_the_company_</th>\n",
       "      <th>Facilities</th>\n",
       "    </tr>\n",
       "  </thead>\n",
       "  <tbody>\n",
       "    <tr>\n",
       "      <th>0</th>\n",
       "      <td>SGS</td>\n",
       "      <td>Clinical Data Analyst</td>\n",
       "      <td>Richardson, TX, United States</td>\n",
       "      <td>Full Time</td>\n",
       "      <td>Entry-level</td>\n",
       "      <td>48K+ *</td>\n",
       "      <td>48000.0</td>\n",
       "      <td>True</td>\n",
       "      <td>Computer Science,Data quality,Genetics,Mathema...</td>\n",
       "      <td>,,,,</td>\n",
       "    </tr>\n",
       "    <tr>\n",
       "      <th>1</th>\n",
       "      <td>Ocorian</td>\n",
       "      <td>AML/CFT &amp; Data Analyst</td>\n",
       "      <td>Ebène, Mauritius</td>\n",
       "      <td>Full Time</td>\n",
       "      <td>Entry-level</td>\n",
       "      <td>48K+ *</td>\n",
       "      <td>48000.0</td>\n",
       "      <td>True</td>\n",
       "      <td>Agile,Data management,Finance,Security,,</td>\n",
       "      <td>,,,,</td>\n",
       "    </tr>\n",
       "    <tr>\n",
       "      <th>2</th>\n",
       "      <td>Cricut</td>\n",
       "      <td>Machine Learning Engineer</td>\n",
       "      <td>South Jordan, UT, United States</td>\n",
       "      <td>Full Time</td>\n",
       "      <td>Not-Specified</td>\n",
       "      <td>90K+ *</td>\n",
       "      <td>90000.0</td>\n",
       "      <td>True</td>\n",
       "      <td>Agile,Architecture,AWS,Computer Science,Comput...</td>\n",
       "      <td>Career development,,,,</td>\n",
       "    </tr>\n",
       "    <tr>\n",
       "      <th>3</th>\n",
       "      <td>Bosch Group</td>\n",
       "      <td>Application Developer &amp; Data Analyst</td>\n",
       "      <td>Nonantola, Italy</td>\n",
       "      <td>Full Time</td>\n",
       "      <td>Entry-level</td>\n",
       "      <td>48K+ *</td>\n",
       "      <td>48000.0</td>\n",
       "      <td>True</td>\n",
       "      <td>Engineering,Industrial,Oracle,Power BI,R,R&amp;D</td>\n",
       "      <td>,,,,</td>\n",
       "    </tr>\n",
       "    <tr>\n",
       "      <th>4</th>\n",
       "      <td>Publicis Groupe</td>\n",
       "      <td>Data Engineer Full time (Public Sector) USA</td>\n",
       "      <td>Arlington, VA, United States</td>\n",
       "      <td>Full Time</td>\n",
       "      <td>Mid-level</td>\n",
       "      <td>108K+</td>\n",
       "      <td>108000.0</td>\n",
       "      <td>False</td>\n",
       "      <td>AWS,Azure,Computer Science,Consulting,Dataflow...</td>\n",
       "      <td>Flex hours,Flex vacation,Parental leave,Unlimi...</td>\n",
       "    </tr>\n",
       "    <tr>\n",
       "      <th>...</th>\n",
       "      <td>...</td>\n",
       "      <td>...</td>\n",
       "      <td>...</td>\n",
       "      <td>...</td>\n",
       "      <td>...</td>\n",
       "      <td>...</td>\n",
       "      <td>...</td>\n",
       "      <td>...</td>\n",
       "      <td>...</td>\n",
       "      <td>...</td>\n",
       "    </tr>\n",
       "    <tr>\n",
       "      <th>3190</th>\n",
       "      <td>CCRi</td>\n",
       "      <td>Application Integration Engineer, Computer Vis...</td>\n",
       "      <td>Chantilly, Virginia, United States</td>\n",
       "      <td>Full Time</td>\n",
       "      <td>Mid-level</td>\n",
       "      <td>113K+</td>\n",
       "      <td>113000.0</td>\n",
       "      <td>False</td>\n",
       "      <td>Agile,Angular,APIs,Architecture,AWS,Azure</td>\n",
       "      <td>401(k) matching,Career development,Flex hours,...</td>\n",
       "    </tr>\n",
       "    <tr>\n",
       "      <th>3191</th>\n",
       "      <td>Publicis Groupe</td>\n",
       "      <td>Associate Director, Data Science</td>\n",
       "      <td>New York City, United States</td>\n",
       "      <td>Full Time</td>\n",
       "      <td>Mid-level</td>\n",
       "      <td>106K+</td>\n",
       "      <td>106000.0</td>\n",
       "      <td>False</td>\n",
       "      <td>Bayesian,Classification,Clustering,Data analys...</td>\n",
       "      <td>Career development,Health care,,,</td>\n",
       "    </tr>\n",
       "    <tr>\n",
       "      <th>3192</th>\n",
       "      <td>DoorDash</td>\n",
       "      <td>Senior Software Engineer, Machine Learning - A...</td>\n",
       "      <td>Sunnyvale, CA; San Francisco, CA; New York</td>\n",
       "      <td>Full Time</td>\n",
       "      <td>Senior-level</td>\n",
       "      <td>176K+</td>\n",
       "      <td>176000.0</td>\n",
       "      <td>False</td>\n",
       "      <td>Computer Science,Data analysis,Engineering,Exc...</td>\n",
       "      <td>401(k) matching,Career development,Equity,Insu...</td>\n",
       "    </tr>\n",
       "    <tr>\n",
       "      <th>3193</th>\n",
       "      <td>Western Digital</td>\n",
       "      <td>Data Scientist - New College Graduate</td>\n",
       "      <td>Biñan, Philippines</td>\n",
       "      <td>Full Time</td>\n",
       "      <td>Entry-level</td>\n",
       "      <td>39K+ *</td>\n",
       "      <td>39000.0</td>\n",
       "      <td>True</td>\n",
       "      <td>APIs,Clustering,Computer Science,Data visualiz...</td>\n",
       "      <td>Career development,,,,</td>\n",
       "    </tr>\n",
       "    <tr>\n",
       "      <th>3196</th>\n",
       "      <td>ATB Financial</td>\n",
       "      <td>Data Scientist</td>\n",
       "      <td>Edmonton, Alberta, Canada</td>\n",
       "      <td>Full Time</td>\n",
       "      <td>Entry-level</td>\n",
       "      <td>39K+ *</td>\n",
       "      <td>39000.0</td>\n",
       "      <td>True</td>\n",
       "      <td>Computer Science,Data Analytics,Data Mining,Ec...</td>\n",
       "      <td>Career development,Startup environment,,,</td>\n",
       "    </tr>\n",
       "  </tbody>\n",
       "</table>\n",
       "<p>2896 rows × 10 columns</p>\n",
       "</div>"
      ],
      "text/plain": [
       "              Company                                          Job_Title   \n",
       "0                 SGS                              Clinical Data Analyst  \\\n",
       "1             Ocorian                             AML/CFT & Data Analyst   \n",
       "2              Cricut                          Machine Learning Engineer   \n",
       "3         Bosch Group               Application Developer & Data Analyst   \n",
       "4     Publicis Groupe        Data Engineer Full time (Public Sector) USA   \n",
       "...               ...                                                ...   \n",
       "3190             CCRi  Application Integration Engineer, Computer Vis...   \n",
       "3191  Publicis Groupe                   Associate Director, Data Science   \n",
       "3192         DoorDash  Senior Software Engineer, Machine Learning - A...   \n",
       "3193  Western Digital              Data Scientist - New College Graduate   \n",
       "3196    ATB Financial                                     Data Scientist   \n",
       "\n",
       "                                          Location   Job_Type   \n",
       "0                    Richardson, TX, United States  Full Time  \\\n",
       "1                                 Ebène, Mauritius  Full Time   \n",
       "2                  South Jordan, UT, United States  Full Time   \n",
       "3                                 Nonantola, Italy  Full Time   \n",
       "4                     Arlington, VA, United States  Full Time   \n",
       "...                                            ...        ...   \n",
       "3190            Chantilly, Virginia, United States  Full Time   \n",
       "3191                  New York City, United States  Full Time   \n",
       "3192  Sunnyvale, CA; San Francisco, CA; New York \n",
       "  Full Time   \n",
       "3193                            Biñan, Philippines  Full Time   \n",
       "3196                     Edmonton, Alberta, Canada  Full Time   \n",
       "\n",
       "     Experience_level   Salary  Min_Salary_Year  Salary_conditions   \n",
       "0         Entry-level   48K+ *          48000.0               True  \\\n",
       "1         Entry-level   48K+ *          48000.0               True   \n",
       "2       Not-Specified   90K+ *          90000.0               True   \n",
       "3         Entry-level   48K+ *          48000.0               True   \n",
       "4           Mid-level    108K+         108000.0              False   \n",
       "...               ...      ...              ...                ...   \n",
       "3190        Mid-level    113K+         113000.0              False   \n",
       "3191        Mid-level    106K+         106000.0              False   \n",
       "3192     Senior-level    176K+         176000.0              False   \n",
       "3193      Entry-level   39K+ *          39000.0               True   \n",
       "3196      Entry-level   39K+ *          39000.0               True   \n",
       "\n",
       "                             Requirment_of_the_company_   \n",
       "0     Computer Science,Data quality,Genetics,Mathema...  \\\n",
       "1              Agile,Data management,Finance,Security,,   \n",
       "2     Agile,Architecture,AWS,Computer Science,Comput...   \n",
       "3          Engineering,Industrial,Oracle,Power BI,R,R&D   \n",
       "4     AWS,Azure,Computer Science,Consulting,Dataflow...   \n",
       "...                                                 ...   \n",
       "3190          Agile,Angular,APIs,Architecture,AWS,Azure   \n",
       "3191  Bayesian,Classification,Clustering,Data analys...   \n",
       "3192  Computer Science,Data analysis,Engineering,Exc...   \n",
       "3193  APIs,Clustering,Computer Science,Data visualiz...   \n",
       "3196  Computer Science,Data Analytics,Data Mining,Ec...   \n",
       "\n",
       "                                             Facilities  \n",
       "0                                                  ,,,,  \n",
       "1                                                  ,,,,  \n",
       "2                                Career development,,,,  \n",
       "3                                                  ,,,,  \n",
       "4     Flex hours,Flex vacation,Parental leave,Unlimi...  \n",
       "...                                                 ...  \n",
       "3190  401(k) matching,Career development,Flex hours,...  \n",
       "3191                  Career development,Health care,,,  \n",
       "3192  401(k) matching,Career development,Equity,Insu...  \n",
       "3193                             Career development,,,,  \n",
       "3196          Career development,Startup environment,,,  \n",
       "\n",
       "[2896 rows x 10 columns]"
      ]
     },
     "execution_count": 262,
     "metadata": {},
     "output_type": "execute_result"
    }
   ],
   "source": [
    "df_clean"
   ]
  },
  {
   "cell_type": "code",
   "execution_count": 263,
   "metadata": {},
   "outputs": [
    {
     "name": "stderr",
     "output_type": "stream",
     "text": [
      "C:\\Users\\Youcode\\AppData\\Local\\Temp\\ipykernel_21520\\6376463.py:1: SettingWithCopyWarning:\n",
      "\n",
      "\n",
      "A value is trying to be set on a copy of a slice from a DataFrame\n",
      "\n",
      "See the caveats in the documentation: https://pandas.pydata.org/pandas-docs/stable/user_guide/indexing.html#returning-a-view-versus-a-copy\n",
      "\n"
     ]
    },
    {
     "data": {
      "text/html": [
       "<div>\n",
       "<style scoped>\n",
       "    .dataframe tbody tr th:only-of-type {\n",
       "        vertical-align: middle;\n",
       "    }\n",
       "\n",
       "    .dataframe tbody tr th {\n",
       "        vertical-align: top;\n",
       "    }\n",
       "\n",
       "    .dataframe thead th {\n",
       "        text-align: right;\n",
       "    }\n",
       "</style>\n",
       "<table border=\"1\" class=\"dataframe\">\n",
       "  <thead>\n",
       "    <tr style=\"text-align: right;\">\n",
       "      <th></th>\n",
       "      <th>Company</th>\n",
       "      <th>Job_Title</th>\n",
       "      <th>Location</th>\n",
       "      <th>Job_Type</th>\n",
       "      <th>Experience_level</th>\n",
       "      <th>Salary</th>\n",
       "      <th>Min_Salary_Year</th>\n",
       "      <th>Salary_conditions</th>\n",
       "      <th>Requirment_of_the_company</th>\n",
       "      <th>Facilities</th>\n",
       "    </tr>\n",
       "  </thead>\n",
       "  <tbody>\n",
       "    <tr>\n",
       "      <th>0</th>\n",
       "      <td>SGS</td>\n",
       "      <td>Clinical Data Analyst</td>\n",
       "      <td>Richardson, TX, United States</td>\n",
       "      <td>Full Time</td>\n",
       "      <td>Entry-level</td>\n",
       "      <td>48K+ *</td>\n",
       "      <td>48000.0</td>\n",
       "      <td>True</td>\n",
       "      <td>Computer Science,Data quality,Genetics,Mathema...</td>\n",
       "      <td>,,,,</td>\n",
       "    </tr>\n",
       "    <tr>\n",
       "      <th>1</th>\n",
       "      <td>Ocorian</td>\n",
       "      <td>AML/CFT &amp; Data Analyst</td>\n",
       "      <td>Ebène, Mauritius</td>\n",
       "      <td>Full Time</td>\n",
       "      <td>Entry-level</td>\n",
       "      <td>48K+ *</td>\n",
       "      <td>48000.0</td>\n",
       "      <td>True</td>\n",
       "      <td>Agile,Data management,Finance,Security,,</td>\n",
       "      <td>,,,,</td>\n",
       "    </tr>\n",
       "    <tr>\n",
       "      <th>2</th>\n",
       "      <td>Cricut</td>\n",
       "      <td>Machine Learning Engineer</td>\n",
       "      <td>South Jordan, UT, United States</td>\n",
       "      <td>Full Time</td>\n",
       "      <td>Not-Specified</td>\n",
       "      <td>90K+ *</td>\n",
       "      <td>90000.0</td>\n",
       "      <td>True</td>\n",
       "      <td>Agile,Architecture,AWS,Computer Science,Comput...</td>\n",
       "      <td>Career development,,,,</td>\n",
       "    </tr>\n",
       "    <tr>\n",
       "      <th>3</th>\n",
       "      <td>Bosch Group</td>\n",
       "      <td>Application Developer &amp; Data Analyst</td>\n",
       "      <td>Nonantola, Italy</td>\n",
       "      <td>Full Time</td>\n",
       "      <td>Entry-level</td>\n",
       "      <td>48K+ *</td>\n",
       "      <td>48000.0</td>\n",
       "      <td>True</td>\n",
       "      <td>Engineering,Industrial,Oracle,Power BI,R,R&amp;D</td>\n",
       "      <td>,,,,</td>\n",
       "    </tr>\n",
       "    <tr>\n",
       "      <th>4</th>\n",
       "      <td>Publicis Groupe</td>\n",
       "      <td>Data Engineer Full time (Public Sector) USA</td>\n",
       "      <td>Arlington, VA, United States</td>\n",
       "      <td>Full Time</td>\n",
       "      <td>Mid-level</td>\n",
       "      <td>108K+</td>\n",
       "      <td>108000.0</td>\n",
       "      <td>False</td>\n",
       "      <td>AWS,Azure,Computer Science,Consulting,Dataflow...</td>\n",
       "      <td>Flex hours,Flex vacation,Parental leave,Unlimi...</td>\n",
       "    </tr>\n",
       "    <tr>\n",
       "      <th>...</th>\n",
       "      <td>...</td>\n",
       "      <td>...</td>\n",
       "      <td>...</td>\n",
       "      <td>...</td>\n",
       "      <td>...</td>\n",
       "      <td>...</td>\n",
       "      <td>...</td>\n",
       "      <td>...</td>\n",
       "      <td>...</td>\n",
       "      <td>...</td>\n",
       "    </tr>\n",
       "    <tr>\n",
       "      <th>3190</th>\n",
       "      <td>CCRi</td>\n",
       "      <td>Application Integration Engineer, Computer Vis...</td>\n",
       "      <td>Chantilly, Virginia, United States</td>\n",
       "      <td>Full Time</td>\n",
       "      <td>Mid-level</td>\n",
       "      <td>113K+</td>\n",
       "      <td>113000.0</td>\n",
       "      <td>False</td>\n",
       "      <td>Agile,Angular,APIs,Architecture,AWS,Azure</td>\n",
       "      <td>401(k) matching,Career development,Flex hours,...</td>\n",
       "    </tr>\n",
       "    <tr>\n",
       "      <th>3191</th>\n",
       "      <td>Publicis Groupe</td>\n",
       "      <td>Associate Director, Data Science</td>\n",
       "      <td>New York City, United States</td>\n",
       "      <td>Full Time</td>\n",
       "      <td>Mid-level</td>\n",
       "      <td>106K+</td>\n",
       "      <td>106000.0</td>\n",
       "      <td>False</td>\n",
       "      <td>Bayesian,Classification,Clustering,Data analys...</td>\n",
       "      <td>Career development,Health care,,,</td>\n",
       "    </tr>\n",
       "    <tr>\n",
       "      <th>3192</th>\n",
       "      <td>DoorDash</td>\n",
       "      <td>Senior Software Engineer, Machine Learning - A...</td>\n",
       "      <td>Sunnyvale, CA; San Francisco, CA; New York</td>\n",
       "      <td>Full Time</td>\n",
       "      <td>Senior-level</td>\n",
       "      <td>176K+</td>\n",
       "      <td>176000.0</td>\n",
       "      <td>False</td>\n",
       "      <td>Computer Science,Data analysis,Engineering,Exc...</td>\n",
       "      <td>401(k) matching,Career development,Equity,Insu...</td>\n",
       "    </tr>\n",
       "    <tr>\n",
       "      <th>3193</th>\n",
       "      <td>Western Digital</td>\n",
       "      <td>Data Scientist - New College Graduate</td>\n",
       "      <td>Biñan, Philippines</td>\n",
       "      <td>Full Time</td>\n",
       "      <td>Entry-level</td>\n",
       "      <td>39K+ *</td>\n",
       "      <td>39000.0</td>\n",
       "      <td>True</td>\n",
       "      <td>APIs,Clustering,Computer Science,Data visualiz...</td>\n",
       "      <td>Career development,,,,</td>\n",
       "    </tr>\n",
       "    <tr>\n",
       "      <th>3196</th>\n",
       "      <td>ATB Financial</td>\n",
       "      <td>Data Scientist</td>\n",
       "      <td>Edmonton, Alberta, Canada</td>\n",
       "      <td>Full Time</td>\n",
       "      <td>Entry-level</td>\n",
       "      <td>39K+ *</td>\n",
       "      <td>39000.0</td>\n",
       "      <td>True</td>\n",
       "      <td>Computer Science,Data Analytics,Data Mining,Ec...</td>\n",
       "      <td>Career development,Startup environment,,,</td>\n",
       "    </tr>\n",
       "  </tbody>\n",
       "</table>\n",
       "<p>2896 rows × 10 columns</p>\n",
       "</div>"
      ],
      "text/plain": [
       "              Company                                          Job_Title   \n",
       "0                 SGS                              Clinical Data Analyst  \\\n",
       "1             Ocorian                             AML/CFT & Data Analyst   \n",
       "2              Cricut                          Machine Learning Engineer   \n",
       "3         Bosch Group               Application Developer & Data Analyst   \n",
       "4     Publicis Groupe        Data Engineer Full time (Public Sector) USA   \n",
       "...               ...                                                ...   \n",
       "3190             CCRi  Application Integration Engineer, Computer Vis...   \n",
       "3191  Publicis Groupe                   Associate Director, Data Science   \n",
       "3192         DoorDash  Senior Software Engineer, Machine Learning - A...   \n",
       "3193  Western Digital              Data Scientist - New College Graduate   \n",
       "3196    ATB Financial                                     Data Scientist   \n",
       "\n",
       "                                          Location   Job_Type   \n",
       "0                    Richardson, TX, United States  Full Time  \\\n",
       "1                                 Ebène, Mauritius  Full Time   \n",
       "2                  South Jordan, UT, United States  Full Time   \n",
       "3                                 Nonantola, Italy  Full Time   \n",
       "4                     Arlington, VA, United States  Full Time   \n",
       "...                                            ...        ...   \n",
       "3190            Chantilly, Virginia, United States  Full Time   \n",
       "3191                  New York City, United States  Full Time   \n",
       "3192  Sunnyvale, CA; San Francisco, CA; New York \n",
       "  Full Time   \n",
       "3193                            Biñan, Philippines  Full Time   \n",
       "3196                     Edmonton, Alberta, Canada  Full Time   \n",
       "\n",
       "     Experience_level   Salary  Min_Salary_Year  Salary_conditions   \n",
       "0         Entry-level   48K+ *          48000.0               True  \\\n",
       "1         Entry-level   48K+ *          48000.0               True   \n",
       "2       Not-Specified   90K+ *          90000.0               True   \n",
       "3         Entry-level   48K+ *          48000.0               True   \n",
       "4           Mid-level    108K+         108000.0              False   \n",
       "...               ...      ...              ...                ...   \n",
       "3190        Mid-level    113K+         113000.0              False   \n",
       "3191        Mid-level    106K+         106000.0              False   \n",
       "3192     Senior-level    176K+         176000.0              False   \n",
       "3193      Entry-level   39K+ *          39000.0               True   \n",
       "3196      Entry-level   39K+ *          39000.0               True   \n",
       "\n",
       "                              Requirment_of_the_company   \n",
       "0     Computer Science,Data quality,Genetics,Mathema...  \\\n",
       "1              Agile,Data management,Finance,Security,,   \n",
       "2     Agile,Architecture,AWS,Computer Science,Comput...   \n",
       "3          Engineering,Industrial,Oracle,Power BI,R,R&D   \n",
       "4     AWS,Azure,Computer Science,Consulting,Dataflow...   \n",
       "...                                                 ...   \n",
       "3190          Agile,Angular,APIs,Architecture,AWS,Azure   \n",
       "3191  Bayesian,Classification,Clustering,Data analys...   \n",
       "3192  Computer Science,Data analysis,Engineering,Exc...   \n",
       "3193  APIs,Clustering,Computer Science,Data visualiz...   \n",
       "3196  Computer Science,Data Analytics,Data Mining,Ec...   \n",
       "\n",
       "                                             Facilities  \n",
       "0                                                  ,,,,  \n",
       "1                                                  ,,,,  \n",
       "2                                Career development,,,,  \n",
       "3                                                  ,,,,  \n",
       "4     Flex hours,Flex vacation,Parental leave,Unlimi...  \n",
       "...                                                 ...  \n",
       "3190  401(k) matching,Career development,Flex hours,...  \n",
       "3191                  Career development,Health care,,,  \n",
       "3192  401(k) matching,Career development,Equity,Insu...  \n",
       "3193                             Career development,,,,  \n",
       "3196          Career development,Startup environment,,,  \n",
       "\n",
       "[2896 rows x 10 columns]"
      ]
     },
     "execution_count": 263,
     "metadata": {},
     "output_type": "execute_result"
    }
   ],
   "source": [
    "df_clean.rename(columns={\"Requirment_of_the_company_\": \"Requirment_of_the_company\"}, inplace=True)\n",
    "df_clean\t"
   ]
  },
  {
   "cell_type": "code",
   "execution_count": 264,
   "metadata": {},
   "outputs": [
    {
     "data": {
      "text/html": [
       "<div>\n",
       "<style scoped>\n",
       "    .dataframe tbody tr th:only-of-type {\n",
       "        vertical-align: middle;\n",
       "    }\n",
       "\n",
       "    .dataframe tbody tr th {\n",
       "        vertical-align: top;\n",
       "    }\n",
       "\n",
       "    .dataframe thead th {\n",
       "        text-align: right;\n",
       "    }\n",
       "</style>\n",
       "<table border=\"1\" class=\"dataframe\">\n",
       "  <thead>\n",
       "    <tr style=\"text-align: right;\">\n",
       "      <th></th>\n",
       "      <th>Company</th>\n",
       "      <th>Job_Title</th>\n",
       "      <th>Location</th>\n",
       "      <th>Job_Type</th>\n",
       "      <th>Experience_level</th>\n",
       "      <th>Salary</th>\n",
       "      <th>Min_Salary_Year</th>\n",
       "      <th>Salary_conditions</th>\n",
       "      <th>Requirment_of_the_company</th>\n",
       "      <th>Facilities</th>\n",
       "    </tr>\n",
       "  </thead>\n",
       "  <tbody>\n",
       "    <tr>\n",
       "      <th>0</th>\n",
       "      <td>SGS</td>\n",
       "      <td>Clinical Data Analyst</td>\n",
       "      <td>Richardson, TX, United States</td>\n",
       "      <td>Full Time</td>\n",
       "      <td>Entry-level</td>\n",
       "      <td>48K+ *</td>\n",
       "      <td>48000.0</td>\n",
       "      <td>True</td>\n",
       "      <td>[Computer Science, Data quality, Genetics, Mat...</td>\n",
       "      <td>,,,,</td>\n",
       "    </tr>\n",
       "    <tr>\n",
       "      <th>1</th>\n",
       "      <td>Ocorian</td>\n",
       "      <td>AML/CFT &amp; Data Analyst</td>\n",
       "      <td>Ebène, Mauritius</td>\n",
       "      <td>Full Time</td>\n",
       "      <td>Entry-level</td>\n",
       "      <td>48K+ *</td>\n",
       "      <td>48000.0</td>\n",
       "      <td>True</td>\n",
       "      <td>[Agile, Data management, Finance, Security]</td>\n",
       "      <td>,,,,</td>\n",
       "    </tr>\n",
       "    <tr>\n",
       "      <th>2</th>\n",
       "      <td>Cricut</td>\n",
       "      <td>Machine Learning Engineer</td>\n",
       "      <td>South Jordan, UT, United States</td>\n",
       "      <td>Full Time</td>\n",
       "      <td>Not-Specified</td>\n",
       "      <td>90K+ *</td>\n",
       "      <td>90000.0</td>\n",
       "      <td>True</td>\n",
       "      <td>[Agile, Architecture, AWS, Computer Science, C...</td>\n",
       "      <td>Career development,,,,</td>\n",
       "    </tr>\n",
       "    <tr>\n",
       "      <th>3</th>\n",
       "      <td>Bosch Group</td>\n",
       "      <td>Application Developer &amp; Data Analyst</td>\n",
       "      <td>Nonantola, Italy</td>\n",
       "      <td>Full Time</td>\n",
       "      <td>Entry-level</td>\n",
       "      <td>48K+ *</td>\n",
       "      <td>48000.0</td>\n",
       "      <td>True</td>\n",
       "      <td>[Engineering, Industrial, Oracle, Power BI, R,...</td>\n",
       "      <td>,,,,</td>\n",
       "    </tr>\n",
       "    <tr>\n",
       "      <th>4</th>\n",
       "      <td>Publicis Groupe</td>\n",
       "      <td>Data Engineer Full time (Public Sector) USA</td>\n",
       "      <td>Arlington, VA, United States</td>\n",
       "      <td>Full Time</td>\n",
       "      <td>Mid-level</td>\n",
       "      <td>108K+</td>\n",
       "      <td>108000.0</td>\n",
       "      <td>False</td>\n",
       "      <td>[AWS, Azure, Computer Science, Consulting, Dat...</td>\n",
       "      <td>Flex hours,Flex vacation,Parental leave,Unlimi...</td>\n",
       "    </tr>\n",
       "    <tr>\n",
       "      <th>...</th>\n",
       "      <td>...</td>\n",
       "      <td>...</td>\n",
       "      <td>...</td>\n",
       "      <td>...</td>\n",
       "      <td>...</td>\n",
       "      <td>...</td>\n",
       "      <td>...</td>\n",
       "      <td>...</td>\n",
       "      <td>...</td>\n",
       "      <td>...</td>\n",
       "    </tr>\n",
       "    <tr>\n",
       "      <th>3190</th>\n",
       "      <td>CCRi</td>\n",
       "      <td>Application Integration Engineer, Computer Vis...</td>\n",
       "      <td>Chantilly, Virginia, United States</td>\n",
       "      <td>Full Time</td>\n",
       "      <td>Mid-level</td>\n",
       "      <td>113K+</td>\n",
       "      <td>113000.0</td>\n",
       "      <td>False</td>\n",
       "      <td>[Agile, Angular, APIs, Architecture, AWS, Azure]</td>\n",
       "      <td>401(k) matching,Career development,Flex hours,...</td>\n",
       "    </tr>\n",
       "    <tr>\n",
       "      <th>3191</th>\n",
       "      <td>Publicis Groupe</td>\n",
       "      <td>Associate Director, Data Science</td>\n",
       "      <td>New York City, United States</td>\n",
       "      <td>Full Time</td>\n",
       "      <td>Mid-level</td>\n",
       "      <td>106K+</td>\n",
       "      <td>106000.0</td>\n",
       "      <td>False</td>\n",
       "      <td>[Bayesian, Classification, Clustering, Data an...</td>\n",
       "      <td>Career development,Health care,,,</td>\n",
       "    </tr>\n",
       "    <tr>\n",
       "      <th>3192</th>\n",
       "      <td>DoorDash</td>\n",
       "      <td>Senior Software Engineer, Machine Learning - A...</td>\n",
       "      <td>Sunnyvale, CA; San Francisco, CA; New York</td>\n",
       "      <td>Full Time</td>\n",
       "      <td>Senior-level</td>\n",
       "      <td>176K+</td>\n",
       "      <td>176000.0</td>\n",
       "      <td>False</td>\n",
       "      <td>[Computer Science, Data analysis, Engineering,...</td>\n",
       "      <td>401(k) matching,Career development,Equity,Insu...</td>\n",
       "    </tr>\n",
       "    <tr>\n",
       "      <th>3193</th>\n",
       "      <td>Western Digital</td>\n",
       "      <td>Data Scientist - New College Graduate</td>\n",
       "      <td>Biñan, Philippines</td>\n",
       "      <td>Full Time</td>\n",
       "      <td>Entry-level</td>\n",
       "      <td>39K+ *</td>\n",
       "      <td>39000.0</td>\n",
       "      <td>True</td>\n",
       "      <td>[APIs, Clustering, Computer Science, Data visu...</td>\n",
       "      <td>Career development,,,,</td>\n",
       "    </tr>\n",
       "    <tr>\n",
       "      <th>3196</th>\n",
       "      <td>ATB Financial</td>\n",
       "      <td>Data Scientist</td>\n",
       "      <td>Edmonton, Alberta, Canada</td>\n",
       "      <td>Full Time</td>\n",
       "      <td>Entry-level</td>\n",
       "      <td>39K+ *</td>\n",
       "      <td>39000.0</td>\n",
       "      <td>True</td>\n",
       "      <td>[Computer Science, Data Analytics, Data Mining...</td>\n",
       "      <td>Career development,Startup environment,,,</td>\n",
       "    </tr>\n",
       "  </tbody>\n",
       "</table>\n",
       "<p>2896 rows × 10 columns</p>\n",
       "</div>"
      ],
      "text/plain": [
       "              Company                                          Job_Title   \n",
       "0                 SGS                              Clinical Data Analyst  \\\n",
       "1             Ocorian                             AML/CFT & Data Analyst   \n",
       "2              Cricut                          Machine Learning Engineer   \n",
       "3         Bosch Group               Application Developer & Data Analyst   \n",
       "4     Publicis Groupe        Data Engineer Full time (Public Sector) USA   \n",
       "...               ...                                                ...   \n",
       "3190             CCRi  Application Integration Engineer, Computer Vis...   \n",
       "3191  Publicis Groupe                   Associate Director, Data Science   \n",
       "3192         DoorDash  Senior Software Engineer, Machine Learning - A...   \n",
       "3193  Western Digital              Data Scientist - New College Graduate   \n",
       "3196    ATB Financial                                     Data Scientist   \n",
       "\n",
       "                                          Location   Job_Type   \n",
       "0                    Richardson, TX, United States  Full Time  \\\n",
       "1                                 Ebène, Mauritius  Full Time   \n",
       "2                  South Jordan, UT, United States  Full Time   \n",
       "3                                 Nonantola, Italy  Full Time   \n",
       "4                     Arlington, VA, United States  Full Time   \n",
       "...                                            ...        ...   \n",
       "3190            Chantilly, Virginia, United States  Full Time   \n",
       "3191                  New York City, United States  Full Time   \n",
       "3192  Sunnyvale, CA; San Francisco, CA; New York \n",
       "  Full Time   \n",
       "3193                            Biñan, Philippines  Full Time   \n",
       "3196                     Edmonton, Alberta, Canada  Full Time   \n",
       "\n",
       "     Experience_level   Salary  Min_Salary_Year  Salary_conditions   \n",
       "0         Entry-level   48K+ *          48000.0               True  \\\n",
       "1         Entry-level   48K+ *          48000.0               True   \n",
       "2       Not-Specified   90K+ *          90000.0               True   \n",
       "3         Entry-level   48K+ *          48000.0               True   \n",
       "4           Mid-level    108K+         108000.0              False   \n",
       "...               ...      ...              ...                ...   \n",
       "3190        Mid-level    113K+         113000.0              False   \n",
       "3191        Mid-level    106K+         106000.0              False   \n",
       "3192     Senior-level    176K+         176000.0              False   \n",
       "3193      Entry-level   39K+ *          39000.0               True   \n",
       "3196      Entry-level   39K+ *          39000.0               True   \n",
       "\n",
       "                              Requirment_of_the_company   \n",
       "0     [Computer Science, Data quality, Genetics, Mat...  \\\n",
       "1           [Agile, Data management, Finance, Security]   \n",
       "2     [Agile, Architecture, AWS, Computer Science, C...   \n",
       "3     [Engineering, Industrial, Oracle, Power BI, R,...   \n",
       "4     [AWS, Azure, Computer Science, Consulting, Dat...   \n",
       "...                                                 ...   \n",
       "3190   [Agile, Angular, APIs, Architecture, AWS, Azure]   \n",
       "3191  [Bayesian, Classification, Clustering, Data an...   \n",
       "3192  [Computer Science, Data analysis, Engineering,...   \n",
       "3193  [APIs, Clustering, Computer Science, Data visu...   \n",
       "3196  [Computer Science, Data Analytics, Data Mining...   \n",
       "\n",
       "                                             Facilities  \n",
       "0                                                  ,,,,  \n",
       "1                                                  ,,,,  \n",
       "2                                Career development,,,,  \n",
       "3                                                  ,,,,  \n",
       "4     Flex hours,Flex vacation,Parental leave,Unlimi...  \n",
       "...                                                 ...  \n",
       "3190  401(k) matching,Career development,Flex hours,...  \n",
       "3191                  Career development,Health care,,,  \n",
       "3192  401(k) matching,Career development,Equity,Insu...  \n",
       "3193                             Career development,,,,  \n",
       "3196          Career development,Startup environment,,,  \n",
       "\n",
       "[2896 rows x 10 columns]"
      ]
     },
     "execution_count": 264,
     "metadata": {},
     "output_type": "execute_result"
    }
   ],
   "source": [
    "# Transform values of column \"Requirment_of_the_company\" to lists\n",
    "\n",
    "# Step 1: Replace multiple consecutive commas with a single comma\n",
    "df_clean.loc[:, 'Requirment_of_the_company'] = df_clean['Requirment_of_the_company'].str.replace(',+', ',')\n",
    "\n",
    "# Step 2: Split values using the comma as delimiter and Step 3: Eliminate empty elements\n",
    "df_clean.loc[:, 'Requirment_of_the_company'] = df_clean['Requirment_of_the_company'].str.split(',').apply(lambda x: [item for item in x if item])\n",
    "df_clean"
   ]
  },
  {
   "cell_type": "code",
   "execution_count": 265,
   "metadata": {},
   "outputs": [
    {
     "data": {
      "text/html": [
       "<div>\n",
       "<style scoped>\n",
       "    .dataframe tbody tr th:only-of-type {\n",
       "        vertical-align: middle;\n",
       "    }\n",
       "\n",
       "    .dataframe tbody tr th {\n",
       "        vertical-align: top;\n",
       "    }\n",
       "\n",
       "    .dataframe thead th {\n",
       "        text-align: right;\n",
       "    }\n",
       "</style>\n",
       "<table border=\"1\" class=\"dataframe\">\n",
       "  <thead>\n",
       "    <tr style=\"text-align: right;\">\n",
       "      <th></th>\n",
       "      <th>Company</th>\n",
       "      <th>Job_Title</th>\n",
       "      <th>Location</th>\n",
       "      <th>Job_Type</th>\n",
       "      <th>Experience_level</th>\n",
       "      <th>Salary</th>\n",
       "      <th>Min_Salary_Year</th>\n",
       "      <th>Salary_conditions</th>\n",
       "      <th>Requirment_of_the_company</th>\n",
       "      <th>Facilities</th>\n",
       "    </tr>\n",
       "  </thead>\n",
       "  <tbody>\n",
       "    <tr>\n",
       "      <th>0</th>\n",
       "      <td>SGS</td>\n",
       "      <td>Clinical Data Analyst</td>\n",
       "      <td>Richardson, TX, United States</td>\n",
       "      <td>Full Time</td>\n",
       "      <td>Entry-level</td>\n",
       "      <td>48K+ *</td>\n",
       "      <td>48000.0</td>\n",
       "      <td>True</td>\n",
       "      <td>[Computer Science, Data quality, Genetics, Mat...</td>\n",
       "      <td>[]</td>\n",
       "    </tr>\n",
       "    <tr>\n",
       "      <th>1</th>\n",
       "      <td>Ocorian</td>\n",
       "      <td>AML/CFT &amp; Data Analyst</td>\n",
       "      <td>Ebène, Mauritius</td>\n",
       "      <td>Full Time</td>\n",
       "      <td>Entry-level</td>\n",
       "      <td>48K+ *</td>\n",
       "      <td>48000.0</td>\n",
       "      <td>True</td>\n",
       "      <td>[Agile, Data management, Finance, Security]</td>\n",
       "      <td>[]</td>\n",
       "    </tr>\n",
       "    <tr>\n",
       "      <th>2</th>\n",
       "      <td>Cricut</td>\n",
       "      <td>Machine Learning Engineer</td>\n",
       "      <td>South Jordan, UT, United States</td>\n",
       "      <td>Full Time</td>\n",
       "      <td>Not-Specified</td>\n",
       "      <td>90K+ *</td>\n",
       "      <td>90000.0</td>\n",
       "      <td>True</td>\n",
       "      <td>[Agile, Architecture, AWS, Computer Science, C...</td>\n",
       "      <td>[Career development]</td>\n",
       "    </tr>\n",
       "    <tr>\n",
       "      <th>3</th>\n",
       "      <td>Bosch Group</td>\n",
       "      <td>Application Developer &amp; Data Analyst</td>\n",
       "      <td>Nonantola, Italy</td>\n",
       "      <td>Full Time</td>\n",
       "      <td>Entry-level</td>\n",
       "      <td>48K+ *</td>\n",
       "      <td>48000.0</td>\n",
       "      <td>True</td>\n",
       "      <td>[Engineering, Industrial, Oracle, Power BI, R,...</td>\n",
       "      <td>[]</td>\n",
       "    </tr>\n",
       "    <tr>\n",
       "      <th>4</th>\n",
       "      <td>Publicis Groupe</td>\n",
       "      <td>Data Engineer Full time (Public Sector) USA</td>\n",
       "      <td>Arlington, VA, United States</td>\n",
       "      <td>Full Time</td>\n",
       "      <td>Mid-level</td>\n",
       "      <td>108K+</td>\n",
       "      <td>108000.0</td>\n",
       "      <td>False</td>\n",
       "      <td>[AWS, Azure, Computer Science, Consulting, Dat...</td>\n",
       "      <td>[Flex hours, Flex vacation, Parental leave, Un...</td>\n",
       "    </tr>\n",
       "    <tr>\n",
       "      <th>...</th>\n",
       "      <td>...</td>\n",
       "      <td>...</td>\n",
       "      <td>...</td>\n",
       "      <td>...</td>\n",
       "      <td>...</td>\n",
       "      <td>...</td>\n",
       "      <td>...</td>\n",
       "      <td>...</td>\n",
       "      <td>...</td>\n",
       "      <td>...</td>\n",
       "    </tr>\n",
       "    <tr>\n",
       "      <th>3190</th>\n",
       "      <td>CCRi</td>\n",
       "      <td>Application Integration Engineer, Computer Vis...</td>\n",
       "      <td>Chantilly, Virginia, United States</td>\n",
       "      <td>Full Time</td>\n",
       "      <td>Mid-level</td>\n",
       "      <td>113K+</td>\n",
       "      <td>113000.0</td>\n",
       "      <td>False</td>\n",
       "      <td>[Agile, Angular, APIs, Architecture, AWS, Azure]</td>\n",
       "      <td>[401(k) matching, Career development, Flex hou...</td>\n",
       "    </tr>\n",
       "    <tr>\n",
       "      <th>3191</th>\n",
       "      <td>Publicis Groupe</td>\n",
       "      <td>Associate Director, Data Science</td>\n",
       "      <td>New York City, United States</td>\n",
       "      <td>Full Time</td>\n",
       "      <td>Mid-level</td>\n",
       "      <td>106K+</td>\n",
       "      <td>106000.0</td>\n",
       "      <td>False</td>\n",
       "      <td>[Bayesian, Classification, Clustering, Data an...</td>\n",
       "      <td>[Career development, Health care]</td>\n",
       "    </tr>\n",
       "    <tr>\n",
       "      <th>3192</th>\n",
       "      <td>DoorDash</td>\n",
       "      <td>Senior Software Engineer, Machine Learning - A...</td>\n",
       "      <td>Sunnyvale, CA; San Francisco, CA; New York</td>\n",
       "      <td>Full Time</td>\n",
       "      <td>Senior-level</td>\n",
       "      <td>176K+</td>\n",
       "      <td>176000.0</td>\n",
       "      <td>False</td>\n",
       "      <td>[Computer Science, Data analysis, Engineering,...</td>\n",
       "      <td>[401(k) matching, Career development, Equity, ...</td>\n",
       "    </tr>\n",
       "    <tr>\n",
       "      <th>3193</th>\n",
       "      <td>Western Digital</td>\n",
       "      <td>Data Scientist - New College Graduate</td>\n",
       "      <td>Biñan, Philippines</td>\n",
       "      <td>Full Time</td>\n",
       "      <td>Entry-level</td>\n",
       "      <td>39K+ *</td>\n",
       "      <td>39000.0</td>\n",
       "      <td>True</td>\n",
       "      <td>[APIs, Clustering, Computer Science, Data visu...</td>\n",
       "      <td>[Career development]</td>\n",
       "    </tr>\n",
       "    <tr>\n",
       "      <th>3196</th>\n",
       "      <td>ATB Financial</td>\n",
       "      <td>Data Scientist</td>\n",
       "      <td>Edmonton, Alberta, Canada</td>\n",
       "      <td>Full Time</td>\n",
       "      <td>Entry-level</td>\n",
       "      <td>39K+ *</td>\n",
       "      <td>39000.0</td>\n",
       "      <td>True</td>\n",
       "      <td>[Computer Science, Data Analytics, Data Mining...</td>\n",
       "      <td>[Career development, Startup environment]</td>\n",
       "    </tr>\n",
       "  </tbody>\n",
       "</table>\n",
       "<p>2896 rows × 10 columns</p>\n",
       "</div>"
      ],
      "text/plain": [
       "              Company                                          Job_Title   \n",
       "0                 SGS                              Clinical Data Analyst  \\\n",
       "1             Ocorian                             AML/CFT & Data Analyst   \n",
       "2              Cricut                          Machine Learning Engineer   \n",
       "3         Bosch Group               Application Developer & Data Analyst   \n",
       "4     Publicis Groupe        Data Engineer Full time (Public Sector) USA   \n",
       "...               ...                                                ...   \n",
       "3190             CCRi  Application Integration Engineer, Computer Vis...   \n",
       "3191  Publicis Groupe                   Associate Director, Data Science   \n",
       "3192         DoorDash  Senior Software Engineer, Machine Learning - A...   \n",
       "3193  Western Digital              Data Scientist - New College Graduate   \n",
       "3196    ATB Financial                                     Data Scientist   \n",
       "\n",
       "                                          Location   Job_Type   \n",
       "0                    Richardson, TX, United States  Full Time  \\\n",
       "1                                 Ebène, Mauritius  Full Time   \n",
       "2                  South Jordan, UT, United States  Full Time   \n",
       "3                                 Nonantola, Italy  Full Time   \n",
       "4                     Arlington, VA, United States  Full Time   \n",
       "...                                            ...        ...   \n",
       "3190            Chantilly, Virginia, United States  Full Time   \n",
       "3191                  New York City, United States  Full Time   \n",
       "3192  Sunnyvale, CA; San Francisco, CA; New York \n",
       "  Full Time   \n",
       "3193                            Biñan, Philippines  Full Time   \n",
       "3196                     Edmonton, Alberta, Canada  Full Time   \n",
       "\n",
       "     Experience_level   Salary  Min_Salary_Year  Salary_conditions   \n",
       "0         Entry-level   48K+ *          48000.0               True  \\\n",
       "1         Entry-level   48K+ *          48000.0               True   \n",
       "2       Not-Specified   90K+ *          90000.0               True   \n",
       "3         Entry-level   48K+ *          48000.0               True   \n",
       "4           Mid-level    108K+         108000.0              False   \n",
       "...               ...      ...              ...                ...   \n",
       "3190        Mid-level    113K+         113000.0              False   \n",
       "3191        Mid-level    106K+         106000.0              False   \n",
       "3192     Senior-level    176K+         176000.0              False   \n",
       "3193      Entry-level   39K+ *          39000.0               True   \n",
       "3196      Entry-level   39K+ *          39000.0               True   \n",
       "\n",
       "                              Requirment_of_the_company   \n",
       "0     [Computer Science, Data quality, Genetics, Mat...  \\\n",
       "1           [Agile, Data management, Finance, Security]   \n",
       "2     [Agile, Architecture, AWS, Computer Science, C...   \n",
       "3     [Engineering, Industrial, Oracle, Power BI, R,...   \n",
       "4     [AWS, Azure, Computer Science, Consulting, Dat...   \n",
       "...                                                 ...   \n",
       "3190   [Agile, Angular, APIs, Architecture, AWS, Azure]   \n",
       "3191  [Bayesian, Classification, Clustering, Data an...   \n",
       "3192  [Computer Science, Data analysis, Engineering,...   \n",
       "3193  [APIs, Clustering, Computer Science, Data visu...   \n",
       "3196  [Computer Science, Data Analytics, Data Mining...   \n",
       "\n",
       "                                             Facilities  \n",
       "0                                                    []  \n",
       "1                                                    []  \n",
       "2                                  [Career development]  \n",
       "3                                                    []  \n",
       "4     [Flex hours, Flex vacation, Parental leave, Un...  \n",
       "...                                                 ...  \n",
       "3190  [401(k) matching, Career development, Flex hou...  \n",
       "3191                  [Career development, Health care]  \n",
       "3192  [401(k) matching, Career development, Equity, ...  \n",
       "3193                               [Career development]  \n",
       "3196          [Career development, Startup environment]  \n",
       "\n",
       "[2896 rows x 10 columns]"
      ]
     },
     "execution_count": 265,
     "metadata": {},
     "output_type": "execute_result"
    }
   ],
   "source": [
    "# Transform values of column \"Facilities\" to lists\n",
    "\n",
    "# Step 1: Replace multiple consecutive commas with a single comma\n",
    "df_clean.loc[:, 'Facilities'] = df_clean['Facilities'].str.replace(',+', ',')\n",
    "\n",
    "# Step 2: Split values using the comma as delimiter and Step 3: Eliminate empty elements\n",
    "df_clean.loc[:, 'Facilities'] = df_clean['Facilities'].str.split(',').apply(lambda x: [item for item in x if item])\n",
    "df_clean"
   ]
  },
  {
   "cell_type": "code",
   "execution_count": 266,
   "metadata": {},
   "outputs": [],
   "source": [
    "## Specify and replace the empty []"
   ]
  },
  {
   "cell_type": "code",
   "execution_count": 267,
   "metadata": {},
   "outputs": [],
   "source": [
    "# Filter rows with empty lists in the 'Facilities' column\n",
    "# rows_with_empty_facilities = df_clean[df_clean['Facilities'].apply(lambda x: x == [])]\n",
    "# rows_with_empty_facilities.shape"
   ]
  },
  {
   "cell_type": "code",
   "execution_count": 268,
   "metadata": {},
   "outputs": [],
   "source": [
    "# Update the 'Facilities' column in the filtered rows to 'no-facilities'\n",
    "# df_clean.loc[rows_with_empty_facilities.index, 'Facilities'] = 'No-Facilities'\n",
    "# df_clean[df_clean['Facilities'].apply(lambda x: x == [])].shape"
   ]
  },
  {
   "cell_type": "markdown",
   "metadata": {},
   "source": [
    "---------------------------------------------------------------------------\n",
    "## Manage the location column\n",
    "---------------------------------------------------------------------------"
   ]
  },
  {
   "cell_type": "code",
   "execution_count": 269,
   "metadata": {},
   "outputs": [],
   "source": [
    "# import geograpy\n",
    "\n",
    "# # Function to extract city and country\n",
    "# def extract_location_info(location):\n",
    "#     places = geograpy.get_geoPlace_context(text=location)\n",
    "#     countries = places.countries\n",
    "#     cities = places.cities\n",
    "#     country = countries[0] if countries else None\n",
    "#     city = cities[0] if cities else None\n",
    "    \n",
    "#     print(f\"{country} {city}\")\n",
    "#     return city, country\n",
    "\n",
    "# # Apply the function to extract location info into new columns\n",
    "# df_data['City'], df_data['Country'] = zip(*df_data['Location'].apply(extract_location_info))\n",
    "\n",
    "# df_data\n",
    "\n",
    "# len(df_data[(df_data['Country'].isna()) | (df_data['City'].isna())]['Location'].tolist())"
   ]
  },
  {
   "cell_type": "code",
   "execution_count": 270,
   "metadata": {},
   "outputs": [
    {
     "name": "stderr",
     "output_type": "stream",
     "text": [
      "C:\\Users\\Youcode\\AppData\\Local\\Temp\\ipykernel_21520\\258476788.py:14: SettingWithCopyWarning:\n",
      "\n",
      "\n",
      "A value is trying to be set on a copy of a slice from a DataFrame.\n",
      "Try using .loc[row_indexer,col_indexer] = value instead\n",
      "\n",
      "See the caveats in the documentation: https://pandas.pydata.org/pandas-docs/stable/user_guide/indexing.html#returning-a-view-versus-a-copy\n",
      "\n"
     ]
    },
    {
     "data": {
      "text/html": [
       "<div>\n",
       "<style scoped>\n",
       "    .dataframe tbody tr th:only-of-type {\n",
       "        vertical-align: middle;\n",
       "    }\n",
       "\n",
       "    .dataframe tbody tr th {\n",
       "        vertical-align: top;\n",
       "    }\n",
       "\n",
       "    .dataframe thead th {\n",
       "        text-align: right;\n",
       "    }\n",
       "</style>\n",
       "<table border=\"1\" class=\"dataframe\">\n",
       "  <thead>\n",
       "    <tr style=\"text-align: right;\">\n",
       "      <th></th>\n",
       "      <th>Company</th>\n",
       "      <th>Job_Title</th>\n",
       "      <th>Location</th>\n",
       "      <th>Country</th>\n",
       "      <th>Job_Type</th>\n",
       "      <th>Experience_level</th>\n",
       "      <th>Salary</th>\n",
       "      <th>Min_Salary_Year</th>\n",
       "      <th>Salary_conditions</th>\n",
       "      <th>Requirment_of_the_company</th>\n",
       "      <th>Facilities</th>\n",
       "    </tr>\n",
       "  </thead>\n",
       "  <tbody>\n",
       "    <tr>\n",
       "      <th>0</th>\n",
       "      <td>SGS</td>\n",
       "      <td>Clinical Data Analyst</td>\n",
       "      <td>Richardson, TX, United States</td>\n",
       "      <td>United States</td>\n",
       "      <td>Full Time</td>\n",
       "      <td>Entry-level</td>\n",
       "      <td>48K+ *</td>\n",
       "      <td>48000.0</td>\n",
       "      <td>True</td>\n",
       "      <td>[Computer Science, Data quality, Genetics, Mat...</td>\n",
       "      <td>[]</td>\n",
       "    </tr>\n",
       "    <tr>\n",
       "      <th>1</th>\n",
       "      <td>Ocorian</td>\n",
       "      <td>AML/CFT &amp; Data Analyst</td>\n",
       "      <td>Ebène, Mauritius</td>\n",
       "      <td>Mauritius</td>\n",
       "      <td>Full Time</td>\n",
       "      <td>Entry-level</td>\n",
       "      <td>48K+ *</td>\n",
       "      <td>48000.0</td>\n",
       "      <td>True</td>\n",
       "      <td>[Agile, Data management, Finance, Security]</td>\n",
       "      <td>[]</td>\n",
       "    </tr>\n",
       "    <tr>\n",
       "      <th>2</th>\n",
       "      <td>Cricut</td>\n",
       "      <td>Machine Learning Engineer</td>\n",
       "      <td>South Jordan, UT, United States</td>\n",
       "      <td>United States</td>\n",
       "      <td>Full Time</td>\n",
       "      <td>Not-Specified</td>\n",
       "      <td>90K+ *</td>\n",
       "      <td>90000.0</td>\n",
       "      <td>True</td>\n",
       "      <td>[Agile, Architecture, AWS, Computer Science, C...</td>\n",
       "      <td>[Career development]</td>\n",
       "    </tr>\n",
       "    <tr>\n",
       "      <th>3</th>\n",
       "      <td>Bosch Group</td>\n",
       "      <td>Application Developer &amp; Data Analyst</td>\n",
       "      <td>Nonantola, Italy</td>\n",
       "      <td>Italy</td>\n",
       "      <td>Full Time</td>\n",
       "      <td>Entry-level</td>\n",
       "      <td>48K+ *</td>\n",
       "      <td>48000.0</td>\n",
       "      <td>True</td>\n",
       "      <td>[Engineering, Industrial, Oracle, Power BI, R,...</td>\n",
       "      <td>[]</td>\n",
       "    </tr>\n",
       "    <tr>\n",
       "      <th>4</th>\n",
       "      <td>Publicis Groupe</td>\n",
       "      <td>Data Engineer Full time (Public Sector) USA</td>\n",
       "      <td>Arlington, VA, United States</td>\n",
       "      <td>United States</td>\n",
       "      <td>Full Time</td>\n",
       "      <td>Mid-level</td>\n",
       "      <td>108K+</td>\n",
       "      <td>108000.0</td>\n",
       "      <td>False</td>\n",
       "      <td>[AWS, Azure, Computer Science, Consulting, Dat...</td>\n",
       "      <td>[Flex hours, Flex vacation, Parental leave, Un...</td>\n",
       "    </tr>\n",
       "    <tr>\n",
       "      <th>...</th>\n",
       "      <td>...</td>\n",
       "      <td>...</td>\n",
       "      <td>...</td>\n",
       "      <td>...</td>\n",
       "      <td>...</td>\n",
       "      <td>...</td>\n",
       "      <td>...</td>\n",
       "      <td>...</td>\n",
       "      <td>...</td>\n",
       "      <td>...</td>\n",
       "      <td>...</td>\n",
       "    </tr>\n",
       "    <tr>\n",
       "      <th>3190</th>\n",
       "      <td>CCRi</td>\n",
       "      <td>Application Integration Engineer, Computer Vis...</td>\n",
       "      <td>Chantilly, Virginia, United States</td>\n",
       "      <td>United States</td>\n",
       "      <td>Full Time</td>\n",
       "      <td>Mid-level</td>\n",
       "      <td>113K+</td>\n",
       "      <td>113000.0</td>\n",
       "      <td>False</td>\n",
       "      <td>[Agile, Angular, APIs, Architecture, AWS, Azure]</td>\n",
       "      <td>[401(k) matching, Career development, Flex hou...</td>\n",
       "    </tr>\n",
       "    <tr>\n",
       "      <th>3191</th>\n",
       "      <td>Publicis Groupe</td>\n",
       "      <td>Associate Director, Data Science</td>\n",
       "      <td>New York City, United States</td>\n",
       "      <td>United States</td>\n",
       "      <td>Full Time</td>\n",
       "      <td>Mid-level</td>\n",
       "      <td>106K+</td>\n",
       "      <td>106000.0</td>\n",
       "      <td>False</td>\n",
       "      <td>[Bayesian, Classification, Clustering, Data an...</td>\n",
       "      <td>[Career development, Health care]</td>\n",
       "    </tr>\n",
       "    <tr>\n",
       "      <th>3192</th>\n",
       "      <td>DoorDash</td>\n",
       "      <td>Senior Software Engineer, Machine Learning - A...</td>\n",
       "      <td>Sunnyvale, CA; San Francisco, CA; New York</td>\n",
       "      <td>Worldwide</td>\n",
       "      <td>Full Time</td>\n",
       "      <td>Senior-level</td>\n",
       "      <td>176K+</td>\n",
       "      <td>176000.0</td>\n",
       "      <td>False</td>\n",
       "      <td>[Computer Science, Data analysis, Engineering,...</td>\n",
       "      <td>[401(k) matching, Career development, Equity, ...</td>\n",
       "    </tr>\n",
       "    <tr>\n",
       "      <th>3193</th>\n",
       "      <td>Western Digital</td>\n",
       "      <td>Data Scientist - New College Graduate</td>\n",
       "      <td>Biñan, Philippines</td>\n",
       "      <td>Philippines</td>\n",
       "      <td>Full Time</td>\n",
       "      <td>Entry-level</td>\n",
       "      <td>39K+ *</td>\n",
       "      <td>39000.0</td>\n",
       "      <td>True</td>\n",
       "      <td>[APIs, Clustering, Computer Science, Data visu...</td>\n",
       "      <td>[Career development]</td>\n",
       "    </tr>\n",
       "    <tr>\n",
       "      <th>3196</th>\n",
       "      <td>ATB Financial</td>\n",
       "      <td>Data Scientist</td>\n",
       "      <td>Edmonton, Alberta, Canada</td>\n",
       "      <td>Canada</td>\n",
       "      <td>Full Time</td>\n",
       "      <td>Entry-level</td>\n",
       "      <td>39K+ *</td>\n",
       "      <td>39000.0</td>\n",
       "      <td>True</td>\n",
       "      <td>[Computer Science, Data Analytics, Data Mining...</td>\n",
       "      <td>[Career development, Startup environment]</td>\n",
       "    </tr>\n",
       "  </tbody>\n",
       "</table>\n",
       "<p>2896 rows × 11 columns</p>\n",
       "</div>"
      ],
      "text/plain": [
       "              Company                                          Job_Title   \n",
       "0                 SGS                              Clinical Data Analyst  \\\n",
       "1             Ocorian                             AML/CFT & Data Analyst   \n",
       "2              Cricut                          Machine Learning Engineer   \n",
       "3         Bosch Group               Application Developer & Data Analyst   \n",
       "4     Publicis Groupe        Data Engineer Full time (Public Sector) USA   \n",
       "...               ...                                                ...   \n",
       "3190             CCRi  Application Integration Engineer, Computer Vis...   \n",
       "3191  Publicis Groupe                   Associate Director, Data Science   \n",
       "3192         DoorDash  Senior Software Engineer, Machine Learning - A...   \n",
       "3193  Western Digital              Data Scientist - New College Graduate   \n",
       "3196    ATB Financial                                     Data Scientist   \n",
       "\n",
       "                                          Location        Country   Job_Type   \n",
       "0                    Richardson, TX, United States  United States  Full Time  \\\n",
       "1                                 Ebène, Mauritius      Mauritius  Full Time   \n",
       "2                  South Jordan, UT, United States  United States  Full Time   \n",
       "3                                 Nonantola, Italy          Italy  Full Time   \n",
       "4                     Arlington, VA, United States  United States  Full Time   \n",
       "...                                            ...            ...        ...   \n",
       "3190            Chantilly, Virginia, United States  United States  Full Time   \n",
       "3191                  New York City, United States  United States  Full Time   \n",
       "3192  Sunnyvale, CA; San Francisco, CA; New York \n",
       "      Worldwide  Full Time   \n",
       "3193                            Biñan, Philippines    Philippines  Full Time   \n",
       "3196                     Edmonton, Alberta, Canada         Canada  Full Time   \n",
       "\n",
       "     Experience_level   Salary  Min_Salary_Year  Salary_conditions   \n",
       "0         Entry-level   48K+ *          48000.0               True  \\\n",
       "1         Entry-level   48K+ *          48000.0               True   \n",
       "2       Not-Specified   90K+ *          90000.0               True   \n",
       "3         Entry-level   48K+ *          48000.0               True   \n",
       "4           Mid-level    108K+         108000.0              False   \n",
       "...               ...      ...              ...                ...   \n",
       "3190        Mid-level    113K+         113000.0              False   \n",
       "3191        Mid-level    106K+         106000.0              False   \n",
       "3192     Senior-level    176K+         176000.0              False   \n",
       "3193      Entry-level   39K+ *          39000.0               True   \n",
       "3196      Entry-level   39K+ *          39000.0               True   \n",
       "\n",
       "                              Requirment_of_the_company   \n",
       "0     [Computer Science, Data quality, Genetics, Mat...  \\\n",
       "1           [Agile, Data management, Finance, Security]   \n",
       "2     [Agile, Architecture, AWS, Computer Science, C...   \n",
       "3     [Engineering, Industrial, Oracle, Power BI, R,...   \n",
       "4     [AWS, Azure, Computer Science, Consulting, Dat...   \n",
       "...                                                 ...   \n",
       "3190   [Agile, Angular, APIs, Architecture, AWS, Azure]   \n",
       "3191  [Bayesian, Classification, Clustering, Data an...   \n",
       "3192  [Computer Science, Data analysis, Engineering,...   \n",
       "3193  [APIs, Clustering, Computer Science, Data visu...   \n",
       "3196  [Computer Science, Data Analytics, Data Mining...   \n",
       "\n",
       "                                             Facilities  \n",
       "0                                                    []  \n",
       "1                                                    []  \n",
       "2                                  [Career development]  \n",
       "3                                                    []  \n",
       "4     [Flex hours, Flex vacation, Parental leave, Un...  \n",
       "...                                                 ...  \n",
       "3190  [401(k) matching, Career development, Flex hou...  \n",
       "3191                  [Career development, Health care]  \n",
       "3192  [401(k) matching, Career development, Equity, ...  \n",
       "3193                               [Career development]  \n",
       "3196          [Career development, Startup environment]  \n",
       "\n",
       "[2896 rows x 11 columns]"
      ]
     },
     "execution_count": 270,
     "metadata": {},
     "output_type": "execute_result"
    }
   ],
   "source": [
    "from geotext import GeoText\n",
    "\n",
    "# Function to extract city, state, and country\n",
    "def extract_location_info(location):\n",
    "    # location = location.split(', ')\n",
    "    places = GeoText(location)\n",
    "    countries = places.countries\n",
    "    if countries:\n",
    "        country = countries[0] \n",
    "    else:\n",
    "        country = 'Worldwide'\n",
    "    return country\n",
    "\n",
    "df_clean.loc[:, 'Country'] = df_clean['Location'].apply(extract_location_info)\n",
    "\n",
    "# Modify the position of City and Country position\n",
    "Country = df_clean.pop('Country')\n",
    "df_clean.insert(3, 'Country', Country)\n",
    "\n",
    "df_clean"
   ]
  },
  {
   "cell_type": "code",
   "execution_count": 271,
   "metadata": {},
   "outputs": [
    {
     "data": {
      "text/html": [
       "<div>\n",
       "<style scoped>\n",
       "    .dataframe tbody tr th:only-of-type {\n",
       "        vertical-align: middle;\n",
       "    }\n",
       "\n",
       "    .dataframe tbody tr th {\n",
       "        vertical-align: top;\n",
       "    }\n",
       "\n",
       "    .dataframe thead th {\n",
       "        text-align: right;\n",
       "    }\n",
       "</style>\n",
       "<table border=\"1\" class=\"dataframe\">\n",
       "  <thead>\n",
       "    <tr style=\"text-align: right;\">\n",
       "      <th></th>\n",
       "      <th>Company</th>\n",
       "      <th>Job_Title</th>\n",
       "      <th>Location</th>\n",
       "      <th>Country</th>\n",
       "      <th>Job_Type</th>\n",
       "      <th>Experience_level</th>\n",
       "      <th>Salary</th>\n",
       "      <th>Min_Salary_Year</th>\n",
       "      <th>Salary_conditions</th>\n",
       "      <th>Requirment_of_the_company</th>\n",
       "      <th>Facilities</th>\n",
       "    </tr>\n",
       "  </thead>\n",
       "  <tbody>\n",
       "    <tr>\n",
       "      <th>18</th>\n",
       "      <td>Issuu</td>\n",
       "      <td>BI Analyst</td>\n",
       "      <td>Braga</td>\n",
       "      <td>Worldwide</td>\n",
       "      <td>Full Time</td>\n",
       "      <td>Not-Specified</td>\n",
       "      <td>48K+ *</td>\n",
       "      <td>48000.0</td>\n",
       "      <td>True</td>\n",
       "      <td>[Business Analytics, Business Intelligence, Da...</td>\n",
       "      <td>[Competitive pay, Equity, Health care, Insurance]</td>\n",
       "    </tr>\n",
       "    <tr>\n",
       "      <th>19</th>\n",
       "      <td>DeepL</td>\n",
       "      <td>Data Scientist | Insights (f/m/d) - GER, UK, N...</td>\n",
       "      <td>Remote job</td>\n",
       "      <td>Worldwide</td>\n",
       "      <td>Full Time</td>\n",
       "      <td>Senior-level</td>\n",
       "      <td>129K+ *</td>\n",
       "      <td>129000.0</td>\n",
       "      <td>True</td>\n",
       "      <td>[Agile, Data visualization, Economics, Machine...</td>\n",
       "      <td>[Career development]</td>\n",
       "    </tr>\n",
       "    <tr>\n",
       "      <th>20</th>\n",
       "      <td>Printify</td>\n",
       "      <td>Senior Data Analyst (Remote within EMEA)</td>\n",
       "      <td>Tallinn</td>\n",
       "      <td>Worldwide</td>\n",
       "      <td>Full Time</td>\n",
       "      <td>Senior-level</td>\n",
       "      <td>92K+ *</td>\n",
       "      <td>92000.0</td>\n",
       "      <td>True</td>\n",
       "      <td>[Architecture, Data analysis, Data Analytics, ...</td>\n",
       "      <td>[Career development, Equity, Fitness / gym, Ho...</td>\n",
       "    </tr>\n",
       "    <tr>\n",
       "      <th>24</th>\n",
       "      <td>EX2 Outcoding</td>\n",
       "      <td>Data Engineer Scientist</td>\n",
       "      <td>Remote Worldwide</td>\n",
       "      <td>Worldwide</td>\n",
       "      <td>Full Time</td>\n",
       "      <td>Mid-level</td>\n",
       "      <td>73K+ *</td>\n",
       "      <td>73000.0</td>\n",
       "      <td>True</td>\n",
       "      <td>[Computer Science, Data Mining, Engineering, P...</td>\n",
       "      <td>[]</td>\n",
       "    </tr>\n",
       "    <tr>\n",
       "      <th>32</th>\n",
       "      <td>Podium</td>\n",
       "      <td>Senior Data Engineer</td>\n",
       "      <td>Lehi, Utah, Open to Remote</td>\n",
       "      <td>Worldwide</td>\n",
       "      <td>Full Time</td>\n",
       "      <td>Senior-level</td>\n",
       "      <td>115K+ *</td>\n",
       "      <td>115000.0</td>\n",
       "      <td>True</td>\n",
       "      <td>[APIs, Big Data, Computer Science, Data analys...</td>\n",
       "      <td>[]</td>\n",
       "    </tr>\n",
       "    <tr>\n",
       "      <th>...</th>\n",
       "      <td>...</td>\n",
       "      <td>...</td>\n",
       "      <td>...</td>\n",
       "      <td>...</td>\n",
       "      <td>...</td>\n",
       "      <td>...</td>\n",
       "      <td>...</td>\n",
       "      <td>...</td>\n",
       "      <td>...</td>\n",
       "      <td>...</td>\n",
       "      <td>...</td>\n",
       "    </tr>\n",
       "    <tr>\n",
       "      <th>3179</th>\n",
       "      <td>C3.ai</td>\n",
       "      <td>Lead Data Scientist - Healthcare</td>\n",
       "      <td>London, UK</td>\n",
       "      <td>Worldwide</td>\n",
       "      <td>Full Time</td>\n",
       "      <td>Senior-level</td>\n",
       "      <td>129K+ *</td>\n",
       "      <td>129000.0</td>\n",
       "      <td>True</td>\n",
       "      <td>[Architecture, Classification, Computer Scienc...</td>\n",
       "      <td>[Career development, Competitive pay]</td>\n",
       "    </tr>\n",
       "    <tr>\n",
       "      <th>3181</th>\n",
       "      <td>C3.ai</td>\n",
       "      <td>Data Scientist / Senior Data Scientist (Federal)</td>\n",
       "      <td>Tysons, VA; Dayton, OH; Redwood City, CA</td>\n",
       "      <td>Worldwide</td>\n",
       "      <td>Full Time</td>\n",
       "      <td>Senior-level</td>\n",
       "      <td>123K+</td>\n",
       "      <td>123000.0</td>\n",
       "      <td>False</td>\n",
       "      <td>[Architecture, Classification, Computer Scienc...</td>\n",
       "      <td>[Career development, Competitive pay, Equity]</td>\n",
       "    </tr>\n",
       "    <tr>\n",
       "      <th>3185</th>\n",
       "      <td>C3.ai</td>\n",
       "      <td>Data Science Instructor</td>\n",
       "      <td>Redwood City, California</td>\n",
       "      <td>Worldwide</td>\n",
       "      <td>Full Time</td>\n",
       "      <td>Senior-level</td>\n",
       "      <td>109K+</td>\n",
       "      <td>109000.0</td>\n",
       "      <td>False</td>\n",
       "      <td>[Architecture, Clustering, ETL, Jupyter, Machi...</td>\n",
       "      <td>[Career development, Competitive pay, Equity]</td>\n",
       "    </tr>\n",
       "    <tr>\n",
       "      <th>3188</th>\n",
       "      <td>TripAdvisor</td>\n",
       "      <td>Senior Machine Learning Engineer (Trip Planning)</td>\n",
       "      <td>Needham, Massachusetts, MA</td>\n",
       "      <td>Worldwide</td>\n",
       "      <td>Full Time</td>\n",
       "      <td>Senior-level</td>\n",
       "      <td>170K+</td>\n",
       "      <td>170000.0</td>\n",
       "      <td>False</td>\n",
       "      <td>[Big Data, Computer Science, Computer Vision, ...</td>\n",
       "      <td>[Career development, Conferences, Flex hours, ...</td>\n",
       "    </tr>\n",
       "    <tr>\n",
       "      <th>3192</th>\n",
       "      <td>DoorDash</td>\n",
       "      <td>Senior Software Engineer, Machine Learning - A...</td>\n",
       "      <td>Sunnyvale, CA; San Francisco, CA; New York</td>\n",
       "      <td>Worldwide</td>\n",
       "      <td>Full Time</td>\n",
       "      <td>Senior-level</td>\n",
       "      <td>176K+</td>\n",
       "      <td>176000.0</td>\n",
       "      <td>False</td>\n",
       "      <td>[Computer Science, Data analysis, Engineering,...</td>\n",
       "      <td>[401(k) matching, Career development, Equity, ...</td>\n",
       "    </tr>\n",
       "  </tbody>\n",
       "</table>\n",
       "<p>851 rows × 11 columns</p>\n",
       "</div>"
      ],
      "text/plain": [
       "            Company                                          Job_Title   \n",
       "18            Issuu                                         BI Analyst  \\\n",
       "19            DeepL  Data Scientist | Insights (f/m/d) - GER, UK, N...   \n",
       "20         Printify           Senior Data Analyst (Remote within EMEA)   \n",
       "24    EX2 Outcoding                            Data Engineer Scientist   \n",
       "32           Podium                               Senior Data Engineer   \n",
       "...             ...                                                ...   \n",
       "3179          C3.ai                   Lead Data Scientist - Healthcare   \n",
       "3181          C3.ai   Data Scientist / Senior Data Scientist (Federal)   \n",
       "3185          C3.ai                            Data Science Instructor   \n",
       "3188    TripAdvisor   Senior Machine Learning Engineer (Trip Planning)   \n",
       "3192       DoorDash  Senior Software Engineer, Machine Learning - A...   \n",
       "\n",
       "                                          Location    Country   Job_Type   \n",
       "18                                           Braga  Worldwide  Full Time  \\\n",
       "19                                      Remote job  Worldwide  Full Time   \n",
       "20                                         Tallinn  Worldwide  Full Time   \n",
       "24                                Remote Worldwide  Worldwide  Full Time   \n",
       "32                      Lehi, Utah, Open to Remote  Worldwide  Full Time   \n",
       "...                                            ...        ...        ...   \n",
       "3179                                    London, UK  Worldwide  Full Time   \n",
       "3181      Tysons, VA; Dayton, OH; Redwood City, CA  Worldwide  Full Time   \n",
       "3185                      Redwood City, California  Worldwide  Full Time   \n",
       "3188                    Needham, Massachusetts, MA  Worldwide  Full Time   \n",
       "3192  Sunnyvale, CA; San Francisco, CA; New York \n",
       "  Worldwide  Full Time   \n",
       "\n",
       "     Experience_level    Salary  Min_Salary_Year  Salary_conditions   \n",
       "18      Not-Specified    48K+ *          48000.0               True  \\\n",
       "19       Senior-level   129K+ *         129000.0               True   \n",
       "20       Senior-level    92K+ *          92000.0               True   \n",
       "24          Mid-level    73K+ *          73000.0               True   \n",
       "32       Senior-level   115K+ *         115000.0               True   \n",
       "...               ...       ...              ...                ...   \n",
       "3179     Senior-level   129K+ *         129000.0               True   \n",
       "3181     Senior-level     123K+         123000.0              False   \n",
       "3185     Senior-level     109K+         109000.0              False   \n",
       "3188     Senior-level     170K+         170000.0              False   \n",
       "3192     Senior-level     176K+         176000.0              False   \n",
       "\n",
       "                              Requirment_of_the_company   \n",
       "18    [Business Analytics, Business Intelligence, Da...  \\\n",
       "19    [Agile, Data visualization, Economics, Machine...   \n",
       "20    [Architecture, Data analysis, Data Analytics, ...   \n",
       "24    [Computer Science, Data Mining, Engineering, P...   \n",
       "32    [APIs, Big Data, Computer Science, Data analys...   \n",
       "...                                                 ...   \n",
       "3179  [Architecture, Classification, Computer Scienc...   \n",
       "3181  [Architecture, Classification, Computer Scienc...   \n",
       "3185  [Architecture, Clustering, ETL, Jupyter, Machi...   \n",
       "3188  [Big Data, Computer Science, Computer Vision, ...   \n",
       "3192  [Computer Science, Data analysis, Engineering,...   \n",
       "\n",
       "                                             Facilities  \n",
       "18    [Competitive pay, Equity, Health care, Insurance]  \n",
       "19                                 [Career development]  \n",
       "20    [Career development, Equity, Fitness / gym, Ho...  \n",
       "24                                                   []  \n",
       "32                                                   []  \n",
       "...                                                 ...  \n",
       "3179              [Career development, Competitive pay]  \n",
       "3181      [Career development, Competitive pay, Equity]  \n",
       "3185      [Career development, Competitive pay, Equity]  \n",
       "3188  [Career development, Conferences, Flex hours, ...  \n",
       "3192  [401(k) matching, Career development, Equity, ...  \n",
       "\n",
       "[851 rows x 11 columns]"
      ]
     },
     "execution_count": 271,
     "metadata": {},
     "output_type": "execute_result"
    }
   ],
   "source": [
    "df_clean[df_clean['Country'] == 'Worldwide']"
   ]
  },
  {
   "cell_type": "code",
   "execution_count": 272,
   "metadata": {},
   "outputs": [],
   "source": [
    "def convert_to_simple_text(text):\n",
    "    # Define a dictionary to map state abbreviations to their full names\n",
    "    state_dict = {\n",
    "        \"AL\": \"Alabama\", \"AK\": \"Alaska\", \"AZ\": \"Arizona\", \"AR\": \"Arkansas\",\n",
    "        \"CA\": \"California\", \"CO\": \"Colorado\", \"CT\": \"Connecticut\", \"DE\": \"Delaware\",\n",
    "        \"FL\": \"Florida\", \"GA\": \"Georgia\", \"HI\": \"Hawaii\", \"ID\": \"Idaho\",\n",
    "        \"IL\": \"Illinois\", \"IN\": \"Indiana\", \"IA\": \"Iowa\", \"KS\": \"Kansas\",\n",
    "        \"KY\": \"Kentucky\", \"LA\": \"Louisiana\", \"ME\": \"Maine\", \"MD\": \"Maryland\",\n",
    "        \"MA\": \"Massachusetts\", \"MI\": \"Michigan\", \"MN\": \"Minnesota\", \"MS\": \"Mississippi\",\n",
    "        \"MO\": \"Missouri\", \"MT\": \"Montana\", \"NE\": \"Nebraska\", \"NV\": \"Nevada\",\n",
    "        \"NH\": \"New Hampshire\", \"NJ\": \"New Jersey\", \"NM\": \"New Mexico\", \"NY\": \"New York\",\n",
    "        \"NC\": \"North Carolina\", \"ND\": \"North Dakota\", \"OH\": \"Ohio\", \"OK\": \"Oklahoma\",\n",
    "        \"OR\": \"Oregon\", \"PA\": \"Pennsylvania\", \"RI\": \"Rhode Island\", \"SC\": \"South Carolina\",\n",
    "        \"SD\": \"South Dakota\", \"TN\": \"Tennessee\", \"TX\": \"Texas\", \"UT\": \"Utah\",\n",
    "        \"VT\": \"Vermont\", \"VA\": \"Virginia\", \"WA\": \"Washington\", \"WV\": \"West Virginia\",\n",
    "        \"WI\": \"Wisconsin\", \"WY\": \"Wyoming\"\n",
    "    }\n",
    "\n",
    "    # Split the text by semicolons and process each city, state pair\n",
    "    parts = text.split('; ')\n",
    "    result = []\n",
    "\n",
    "    for part in parts:\n",
    "        city_state = part.split(', ')\n",
    "        city = city_state[0]\n",
    "        state = city_state[0]\n",
    "\n",
    "        # Check if the state abbreviation exists in the dictionary\n",
    "        full_state = state_dict.get(state.upper(), state)\n",
    "        result.append(f\"{city}, {full_state}\")\n",
    "\n",
    "    return ' '.join(result)\n",
    "\n"
   ]
  },
  {
   "cell_type": "code",
   "execution_count": 273,
   "metadata": {},
   "outputs": [
    {
     "data": {
      "text/html": [
       "<div>\n",
       "<style scoped>\n",
       "    .dataframe tbody tr th:only-of-type {\n",
       "        vertical-align: middle;\n",
       "    }\n",
       "\n",
       "    .dataframe tbody tr th {\n",
       "        vertical-align: top;\n",
       "    }\n",
       "\n",
       "    .dataframe thead th {\n",
       "        text-align: right;\n",
       "    }\n",
       "</style>\n",
       "<table border=\"1\" class=\"dataframe\">\n",
       "  <thead>\n",
       "    <tr style=\"text-align: right;\">\n",
       "      <th></th>\n",
       "      <th>Company</th>\n",
       "      <th>Job_Title</th>\n",
       "      <th>Location</th>\n",
       "      <th>Country</th>\n",
       "      <th>Job_Type</th>\n",
       "      <th>Experience_level</th>\n",
       "      <th>Salary</th>\n",
       "      <th>Min_Salary_Year</th>\n",
       "      <th>Salary_conditions</th>\n",
       "      <th>Requirment_of_the_company</th>\n",
       "      <th>Facilities</th>\n",
       "    </tr>\n",
       "  </thead>\n",
       "  <tbody>\n",
       "    <tr>\n",
       "      <th>19</th>\n",
       "      <td>DeepL</td>\n",
       "      <td>Data Scientist | Insights (f/m/d) - GER, UK, N...</td>\n",
       "      <td>Remote job</td>\n",
       "      <td>Worldwide</td>\n",
       "      <td>Full Time</td>\n",
       "      <td>Senior-level</td>\n",
       "      <td>129K+ *</td>\n",
       "      <td>129000.0</td>\n",
       "      <td>True</td>\n",
       "      <td>[Agile, Data visualization, Economics, Machine...</td>\n",
       "      <td>[Career development]</td>\n",
       "    </tr>\n",
       "    <tr>\n",
       "      <th>24</th>\n",
       "      <td>EX2 Outcoding</td>\n",
       "      <td>Data Engineer Scientist</td>\n",
       "      <td>Remote Worldwide</td>\n",
       "      <td>Worldwide</td>\n",
       "      <td>Full Time</td>\n",
       "      <td>Mid-level</td>\n",
       "      <td>73K+ *</td>\n",
       "      <td>73000.0</td>\n",
       "      <td>True</td>\n",
       "      <td>[Computer Science, Data Mining, Engineering, P...</td>\n",
       "      <td>[]</td>\n",
       "    </tr>\n",
       "    <tr>\n",
       "      <th>47</th>\n",
       "      <td>DeepL</td>\n",
       "      <td>Data Analyst | Marketing or Sales (f/m/d) - GE...</td>\n",
       "      <td>Remote job</td>\n",
       "      <td>Worldwide</td>\n",
       "      <td>Full Time</td>\n",
       "      <td>Senior-level</td>\n",
       "      <td>92K+ *</td>\n",
       "      <td>92000.0</td>\n",
       "      <td>True</td>\n",
       "      <td>[Agile, Data analysis, Data visualization, Eco...</td>\n",
       "      <td>[Career development, Team events]</td>\n",
       "    </tr>\n",
       "    <tr>\n",
       "      <th>56</th>\n",
       "      <td>Riverflex</td>\n",
       "      <td>Data Product Owner</td>\n",
       "      <td>Remote job</td>\n",
       "      <td>Worldwide</td>\n",
       "      <td>Full Time</td>\n",
       "      <td>Senior-level</td>\n",
       "      <td>62K+ *</td>\n",
       "      <td>62000.0</td>\n",
       "      <td>True</td>\n",
       "      <td>[Computer Science, DataOps, Engineering, Marke...</td>\n",
       "      <td>[]</td>\n",
       "    </tr>\n",
       "    <tr>\n",
       "      <th>150</th>\n",
       "      <td>Altos Labs</td>\n",
       "      <td>Scientist/Senior Scientist, Machine Learning</td>\n",
       "      <td>San Francisco Bay Area, CA</td>\n",
       "      <td>Worldwide</td>\n",
       "      <td>Full Time</td>\n",
       "      <td>Senior-level</td>\n",
       "      <td>69K+ *</td>\n",
       "      <td>69000.0</td>\n",
       "      <td>True</td>\n",
       "      <td>[Computer Science, Data analysis, Deep Learnin...</td>\n",
       "      <td>[Career development, Conferences]</td>\n",
       "    </tr>\n",
       "    <tr>\n",
       "      <th>...</th>\n",
       "      <td>...</td>\n",
       "      <td>...</td>\n",
       "      <td>...</td>\n",
       "      <td>...</td>\n",
       "      <td>...</td>\n",
       "      <td>...</td>\n",
       "      <td>...</td>\n",
       "      <td>...</td>\n",
       "      <td>...</td>\n",
       "      <td>...</td>\n",
       "      <td>...</td>\n",
       "    </tr>\n",
       "    <tr>\n",
       "      <th>3161</th>\n",
       "      <td>EquipmentShare</td>\n",
       "      <td>BI Data Analyst</td>\n",
       "      <td>Remote: Kansas City; Denver; Chicago; Phoenix;...</td>\n",
       "      <td>Worldwide</td>\n",
       "      <td>Full Time</td>\n",
       "      <td>Senior-level</td>\n",
       "      <td>36K+ *</td>\n",
       "      <td>36000.0</td>\n",
       "      <td>True</td>\n",
       "      <td>[Business Analytics, Business Intelligence, Fi...</td>\n",
       "      <td>[401(k) matching, Career development, Competit...</td>\n",
       "    </tr>\n",
       "    <tr>\n",
       "      <th>3176</th>\n",
       "      <td>iTech Media</td>\n",
       "      <td>Data Analytics Engineer</td>\n",
       "      <td>Warsaw Remote</td>\n",
       "      <td>Worldwide</td>\n",
       "      <td>Full Time</td>\n",
       "      <td>Entry-level</td>\n",
       "      <td>30K+ *</td>\n",
       "      <td>30000.0</td>\n",
       "      <td>True</td>\n",
       "      <td>[Airflow, Data Analytics, Engineering, Finance...</td>\n",
       "      <td>[Career development, Flex hours, Flex vacation...</td>\n",
       "    </tr>\n",
       "    <tr>\n",
       "      <th>3178</th>\n",
       "      <td>Galileo Financial Technologies</td>\n",
       "      <td>Staff ETL Developer</td>\n",
       "      <td>UT - Remote; UT - Cottonwood Heights</td>\n",
       "      <td>Worldwide</td>\n",
       "      <td>Full Time</td>\n",
       "      <td>Senior-level</td>\n",
       "      <td>63K+ *</td>\n",
       "      <td>63000.0</td>\n",
       "      <td>True</td>\n",
       "      <td>[Computer Science, Data pipelines, Data wareho...</td>\n",
       "      <td>[Flex hours, Health care, Insurance]</td>\n",
       "    </tr>\n",
       "    <tr>\n",
       "      <th>3181</th>\n",
       "      <td>C3.ai</td>\n",
       "      <td>Data Scientist / Senior Data Scientist (Federal)</td>\n",
       "      <td>Tysons, VA; Dayton, OH; Redwood City, CA</td>\n",
       "      <td>Worldwide</td>\n",
       "      <td>Full Time</td>\n",
       "      <td>Senior-level</td>\n",
       "      <td>123K+</td>\n",
       "      <td>123000.0</td>\n",
       "      <td>False</td>\n",
       "      <td>[Architecture, Classification, Computer Scienc...</td>\n",
       "      <td>[Career development, Competitive pay, Equity]</td>\n",
       "    </tr>\n",
       "    <tr>\n",
       "      <th>3192</th>\n",
       "      <td>DoorDash</td>\n",
       "      <td>Senior Software Engineer, Machine Learning - A...</td>\n",
       "      <td>Sunnyvale, CA; San Francisco, CA; New York</td>\n",
       "      <td>Worldwide</td>\n",
       "      <td>Full Time</td>\n",
       "      <td>Senior-level</td>\n",
       "      <td>176K+</td>\n",
       "      <td>176000.0</td>\n",
       "      <td>False</td>\n",
       "      <td>[Computer Science, Data analysis, Engineering,...</td>\n",
       "      <td>[401(k) matching, Career development, Equity, ...</td>\n",
       "    </tr>\n",
       "  </tbody>\n",
       "</table>\n",
       "<p>153 rows × 11 columns</p>\n",
       "</div>"
      ],
      "text/plain": [
       "                             Company   \n",
       "19                             DeepL  \\\n",
       "24                     EX2 Outcoding   \n",
       "47                             DeepL   \n",
       "56                         Riverflex   \n",
       "150                       Altos Labs   \n",
       "...                              ...   \n",
       "3161                  EquipmentShare   \n",
       "3176                     iTech Media   \n",
       "3178  Galileo Financial Technologies   \n",
       "3181                           C3.ai   \n",
       "3192                        DoorDash   \n",
       "\n",
       "                                              Job_Title   \n",
       "19    Data Scientist | Insights (f/m/d) - GER, UK, N...  \\\n",
       "24                              Data Engineer Scientist   \n",
       "47    Data Analyst | Marketing or Sales (f/m/d) - GE...   \n",
       "56                                   Data Product Owner   \n",
       "150        Scientist/Senior Scientist, Machine Learning   \n",
       "...                                                 ...   \n",
       "3161                                    BI Data Analyst   \n",
       "3176                            Data Analytics Engineer   \n",
       "3178                                Staff ETL Developer   \n",
       "3181   Data Scientist / Senior Data Scientist (Federal)   \n",
       "3192  Senior Software Engineer, Machine Learning - A...   \n",
       "\n",
       "                                               Location    Country   Job_Type   \n",
       "19                                           Remote job  Worldwide  Full Time  \\\n",
       "24                                     Remote Worldwide  Worldwide  Full Time   \n",
       "47                                           Remote job  Worldwide  Full Time   \n",
       "56                                           Remote job  Worldwide  Full Time   \n",
       "150                          San Francisco Bay Area, CA  Worldwide  Full Time   \n",
       "...                                                 ...        ...        ...   \n",
       "3161  Remote: Kansas City; Denver; Chicago; Phoenix;...  Worldwide  Full Time   \n",
       "3176                                      Warsaw Remote  Worldwide  Full Time   \n",
       "3178               UT - Remote; UT - Cottonwood Heights  Worldwide  Full Time   \n",
       "3181           Tysons, VA; Dayton, OH; Redwood City, CA  Worldwide  Full Time   \n",
       "3192       Sunnyvale, CA; San Francisco, CA; New York \n",
       "  Worldwide  Full Time   \n",
       "\n",
       "     Experience_level    Salary  Min_Salary_Year  Salary_conditions   \n",
       "19       Senior-level   129K+ *         129000.0               True  \\\n",
       "24          Mid-level    73K+ *          73000.0               True   \n",
       "47       Senior-level    92K+ *          92000.0               True   \n",
       "56       Senior-level    62K+ *          62000.0               True   \n",
       "150      Senior-level    69K+ *          69000.0               True   \n",
       "...               ...       ...              ...                ...   \n",
       "3161     Senior-level    36K+ *          36000.0               True   \n",
       "3176      Entry-level    30K+ *          30000.0               True   \n",
       "3178     Senior-level    63K+ *          63000.0               True   \n",
       "3181     Senior-level     123K+         123000.0              False   \n",
       "3192     Senior-level     176K+         176000.0              False   \n",
       "\n",
       "                              Requirment_of_the_company   \n",
       "19    [Agile, Data visualization, Economics, Machine...  \\\n",
       "24    [Computer Science, Data Mining, Engineering, P...   \n",
       "47    [Agile, Data analysis, Data visualization, Eco...   \n",
       "56    [Computer Science, DataOps, Engineering, Marke...   \n",
       "150   [Computer Science, Data analysis, Deep Learnin...   \n",
       "...                                                 ...   \n",
       "3161  [Business Analytics, Business Intelligence, Fi...   \n",
       "3176  [Airflow, Data Analytics, Engineering, Finance...   \n",
       "3178  [Computer Science, Data pipelines, Data wareho...   \n",
       "3181  [Architecture, Classification, Computer Scienc...   \n",
       "3192  [Computer Science, Data analysis, Engineering,...   \n",
       "\n",
       "                                             Facilities  \n",
       "19                                 [Career development]  \n",
       "24                                                   []  \n",
       "47                    [Career development, Team events]  \n",
       "56                                                   []  \n",
       "150                   [Career development, Conferences]  \n",
       "...                                                 ...  \n",
       "3161  [401(k) matching, Career development, Competit...  \n",
       "3176  [Career development, Flex hours, Flex vacation...  \n",
       "3178               [Flex hours, Health care, Insurance]  \n",
       "3181      [Career development, Competitive pay, Equity]  \n",
       "3192  [401(k) matching, Career development, Equity, ...  \n",
       "\n",
       "[153 rows x 11 columns]"
      ]
     },
     "execution_count": 273,
     "metadata": {},
     "output_type": "execute_result"
    }
   ],
   "source": [
    "from geopy.geocoders import Nominatim\n",
    "\n",
    "def get_country_from_city(city_name):\n",
    "    try:\n",
    "        city_name = convert_to_simple_text(city_name)\n",
    "        geolocator = Nominatim(user_agent=\"city-country-extractor\")\n",
    "        location = geolocator.geocode(city_name, exactly_one=True)\n",
    "\n",
    "        if location:\n",
    "            return location.address.split(',')[-1].strip()\n",
    "        else:\n",
    "            return 'Worldwide'\n",
    "    except:\n",
    "        return 'Worldwide'\n",
    "\n",
    "df_clean.loc[df_clean['Country'] == 'Worldwide', 'Country'] = df_clean.loc[df_clean['Country'] == 'Worldwide','Location'].apply(get_country_from_city)\n",
    "\n",
    "df_clean[df_clean['Country'] == 'Worldwide']"
   ]
  },
  {
   "cell_type": "code",
   "execution_count": 274,
   "metadata": {},
   "outputs": [
    {
     "data": {
      "text/html": [
       "<div>\n",
       "<style scoped>\n",
       "    .dataframe tbody tr th:only-of-type {\n",
       "        vertical-align: middle;\n",
       "    }\n",
       "\n",
       "    .dataframe tbody tr th {\n",
       "        vertical-align: top;\n",
       "    }\n",
       "\n",
       "    .dataframe thead th {\n",
       "        text-align: right;\n",
       "    }\n",
       "</style>\n",
       "<table border=\"1\" class=\"dataframe\">\n",
       "  <thead>\n",
       "    <tr style=\"text-align: right;\">\n",
       "      <th></th>\n",
       "      <th>Company</th>\n",
       "      <th>Job_Title</th>\n",
       "      <th>Location</th>\n",
       "      <th>Country</th>\n",
       "      <th>Job_Type</th>\n",
       "      <th>Experience_level</th>\n",
       "      <th>Salary</th>\n",
       "      <th>Min_Salary_Year</th>\n",
       "      <th>Salary_conditions</th>\n",
       "      <th>Requirment_of_the_company</th>\n",
       "      <th>Facilities</th>\n",
       "    </tr>\n",
       "  </thead>\n",
       "  <tbody>\n",
       "    <tr>\n",
       "      <th>19</th>\n",
       "      <td>DeepL</td>\n",
       "      <td>Data Scientist | Insights (f/m/d) - GER, UK, N...</td>\n",
       "      <td>Remote job</td>\n",
       "      <td>Worldwide</td>\n",
       "      <td>Full Time</td>\n",
       "      <td>Senior-level</td>\n",
       "      <td>129K+ *</td>\n",
       "      <td>129000.0</td>\n",
       "      <td>True</td>\n",
       "      <td>[Agile, Data visualization, Economics, Machine...</td>\n",
       "      <td>[Career development]</td>\n",
       "    </tr>\n",
       "    <tr>\n",
       "      <th>24</th>\n",
       "      <td>EX2 Outcoding</td>\n",
       "      <td>Data Engineer Scientist</td>\n",
       "      <td>Remote Worldwide</td>\n",
       "      <td>Worldwide</td>\n",
       "      <td>Full Time</td>\n",
       "      <td>Mid-level</td>\n",
       "      <td>73K+ *</td>\n",
       "      <td>73000.0</td>\n",
       "      <td>True</td>\n",
       "      <td>[Computer Science, Data Mining, Engineering, P...</td>\n",
       "      <td>[]</td>\n",
       "    </tr>\n",
       "    <tr>\n",
       "      <th>47</th>\n",
       "      <td>DeepL</td>\n",
       "      <td>Data Analyst | Marketing or Sales (f/m/d) - GE...</td>\n",
       "      <td>Remote job</td>\n",
       "      <td>Worldwide</td>\n",
       "      <td>Full Time</td>\n",
       "      <td>Senior-level</td>\n",
       "      <td>92K+ *</td>\n",
       "      <td>92000.0</td>\n",
       "      <td>True</td>\n",
       "      <td>[Agile, Data analysis, Data visualization, Eco...</td>\n",
       "      <td>[Career development, Team events]</td>\n",
       "    </tr>\n",
       "    <tr>\n",
       "      <th>56</th>\n",
       "      <td>Riverflex</td>\n",
       "      <td>Data Product Owner</td>\n",
       "      <td>Remote job</td>\n",
       "      <td>Worldwide</td>\n",
       "      <td>Full Time</td>\n",
       "      <td>Senior-level</td>\n",
       "      <td>62K+ *</td>\n",
       "      <td>62000.0</td>\n",
       "      <td>True</td>\n",
       "      <td>[Computer Science, DataOps, Engineering, Marke...</td>\n",
       "      <td>[]</td>\n",
       "    </tr>\n",
       "    <tr>\n",
       "      <th>159</th>\n",
       "      <td>Lambda</td>\n",
       "      <td>Analytics Engineer</td>\n",
       "      <td>Remote (US &amp; CAN)</td>\n",
       "      <td>Worldwide</td>\n",
       "      <td>Full Time</td>\n",
       "      <td>Senior-level</td>\n",
       "      <td>110K+</td>\n",
       "      <td>110000.0</td>\n",
       "      <td>False</td>\n",
       "      <td>[APIs, Architecture, AWS, BigQuery, Business A...</td>\n",
       "      <td>[401(k) matching, Career development, Conferen...</td>\n",
       "    </tr>\n",
       "  </tbody>\n",
       "</table>\n",
       "</div>"
      ],
      "text/plain": [
       "           Company                                          Job_Title   \n",
       "19           DeepL  Data Scientist | Insights (f/m/d) - GER, UK, N...  \\\n",
       "24   EX2 Outcoding                            Data Engineer Scientist   \n",
       "47           DeepL  Data Analyst | Marketing or Sales (f/m/d) - GE...   \n",
       "56       Riverflex                                 Data Product Owner   \n",
       "159         Lambda                                 Analytics Engineer   \n",
       "\n",
       "              Location    Country   Job_Type Experience_level    Salary   \n",
       "19          Remote job  Worldwide  Full Time     Senior-level   129K+ *  \\\n",
       "24    Remote Worldwide  Worldwide  Full Time        Mid-level    73K+ *   \n",
       "47          Remote job  Worldwide  Full Time     Senior-level    92K+ *   \n",
       "56          Remote job  Worldwide  Full Time     Senior-level    62K+ *   \n",
       "159  Remote (US & CAN)  Worldwide  Full Time     Senior-level     110K+   \n",
       "\n",
       "     Min_Salary_Year  Salary_conditions   \n",
       "19          129000.0               True  \\\n",
       "24           73000.0               True   \n",
       "47           92000.0               True   \n",
       "56           62000.0               True   \n",
       "159         110000.0              False   \n",
       "\n",
       "                             Requirment_of_the_company   \n",
       "19   [Agile, Data visualization, Economics, Machine...  \\\n",
       "24   [Computer Science, Data Mining, Engineering, P...   \n",
       "47   [Agile, Data analysis, Data visualization, Eco...   \n",
       "56   [Computer Science, DataOps, Engineering, Marke...   \n",
       "159  [APIs, Architecture, AWS, BigQuery, Business A...   \n",
       "\n",
       "                                            Facilities  \n",
       "19                                [Career development]  \n",
       "24                                                  []  \n",
       "47                   [Career development, Team events]  \n",
       "56                                                  []  \n",
       "159  [401(k) matching, Career development, Conferen...  "
      ]
     },
     "execution_count": 274,
     "metadata": {},
     "output_type": "execute_result"
    }
   ],
   "source": [
    "df_clean[(df_clean['Country'] == 'Worldwide') & (df_clean['Location'].str.contains('Remote',case=False))].head()"
   ]
  },
  {
   "cell_type": "code",
   "execution_count": 275,
   "metadata": {},
   "outputs": [
    {
     "name": "stdout",
     "output_type": "stream",
     "text": [
      "<class 'pandas.core.frame.DataFrame'>\n",
      "Index: 2896 entries, 0 to 3196\n",
      "Data columns (total 11 columns):\n",
      " #   Column                     Non-Null Count  Dtype  \n",
      "---  ------                     --------------  -----  \n",
      " 0   Company                    2896 non-null   object \n",
      " 1   Job_Title                  2896 non-null   object \n",
      " 2   Location                   2896 non-null   object \n",
      " 3   Country                    2896 non-null   object \n",
      " 4   Job_Type                   2896 non-null   object \n",
      " 5   Experience_level           2896 non-null   object \n",
      " 6   Salary                     2896 non-null   object \n",
      " 7   Min_Salary_Year            2896 non-null   float64\n",
      " 8   Salary_conditions          2896 non-null   bool   \n",
      " 9   Requirment_of_the_company  2896 non-null   object \n",
      " 10  Facilities                 2896 non-null   object \n",
      "dtypes: bool(1), float64(1), object(9)\n",
      "memory usage: 251.7+ KB\n"
     ]
    }
   ],
   "source": [
    "df_clean.info() "
   ]
  },
  {
   "cell_type": "markdown",
   "metadata": {},
   "source": [
    "## Specify the job work place"
   ]
  },
  {
   "cell_type": "code",
   "execution_count": 276,
   "metadata": {},
   "outputs": [
    {
     "name": "stderr",
     "output_type": "stream",
     "text": [
      "C:\\Users\\Youcode\\AppData\\Local\\Temp\\ipykernel_21520\\3362969374.py:13: SettingWithCopyWarning:\n",
      "\n",
      "\n",
      "A value is trying to be set on a copy of a slice from a DataFrame.\n",
      "Try using .loc[row_indexer,col_indexer] = value instead\n",
      "\n",
      "See the caveats in the documentation: https://pandas.pydata.org/pandas-docs/stable/user_guide/indexing.html#returning-a-view-versus-a-copy\n",
      "\n"
     ]
    },
    {
     "data": {
      "text/html": [
       "<div>\n",
       "<style scoped>\n",
       "    .dataframe tbody tr th:only-of-type {\n",
       "        vertical-align: middle;\n",
       "    }\n",
       "\n",
       "    .dataframe tbody tr th {\n",
       "        vertical-align: top;\n",
       "    }\n",
       "\n",
       "    .dataframe thead th {\n",
       "        text-align: right;\n",
       "    }\n",
       "</style>\n",
       "<table border=\"1\" class=\"dataframe\">\n",
       "  <thead>\n",
       "    <tr style=\"text-align: right;\">\n",
       "      <th></th>\n",
       "      <th>Company</th>\n",
       "      <th>Job_Title</th>\n",
       "      <th>Location</th>\n",
       "      <th>Country</th>\n",
       "      <th>Work_Place</th>\n",
       "      <th>Job_Type</th>\n",
       "      <th>Experience_level</th>\n",
       "      <th>Salary</th>\n",
       "      <th>Min_Salary_Year</th>\n",
       "      <th>Salary_conditions</th>\n",
       "      <th>Requirment_of_the_company</th>\n",
       "      <th>Facilities</th>\n",
       "    </tr>\n",
       "  </thead>\n",
       "  <tbody>\n",
       "    <tr>\n",
       "      <th>0</th>\n",
       "      <td>SGS</td>\n",
       "      <td>Clinical Data Analyst</td>\n",
       "      <td>Richardson, TX, United States</td>\n",
       "      <td>United States</td>\n",
       "      <td>Local</td>\n",
       "      <td>Full Time</td>\n",
       "      <td>Entry-level</td>\n",
       "      <td>48K+ *</td>\n",
       "      <td>48000.0</td>\n",
       "      <td>True</td>\n",
       "      <td>[Computer Science, Data quality, Genetics, Mat...</td>\n",
       "      <td>[]</td>\n",
       "    </tr>\n",
       "    <tr>\n",
       "      <th>1</th>\n",
       "      <td>Ocorian</td>\n",
       "      <td>AML/CFT &amp; Data Analyst</td>\n",
       "      <td>Ebène, Mauritius</td>\n",
       "      <td>Mauritius</td>\n",
       "      <td>Local</td>\n",
       "      <td>Full Time</td>\n",
       "      <td>Entry-level</td>\n",
       "      <td>48K+ *</td>\n",
       "      <td>48000.0</td>\n",
       "      <td>True</td>\n",
       "      <td>[Agile, Data management, Finance, Security]</td>\n",
       "      <td>[]</td>\n",
       "    </tr>\n",
       "    <tr>\n",
       "      <th>2</th>\n",
       "      <td>Cricut</td>\n",
       "      <td>Machine Learning Engineer</td>\n",
       "      <td>South Jordan, UT, United States</td>\n",
       "      <td>United States</td>\n",
       "      <td>Local</td>\n",
       "      <td>Full Time</td>\n",
       "      <td>Not-Specified</td>\n",
       "      <td>90K+ *</td>\n",
       "      <td>90000.0</td>\n",
       "      <td>True</td>\n",
       "      <td>[Agile, Architecture, AWS, Computer Science, C...</td>\n",
       "      <td>[Career development]</td>\n",
       "    </tr>\n",
       "    <tr>\n",
       "      <th>3</th>\n",
       "      <td>Bosch Group</td>\n",
       "      <td>Application Developer &amp; Data Analyst</td>\n",
       "      <td>Nonantola, Italy</td>\n",
       "      <td>Italy</td>\n",
       "      <td>Local</td>\n",
       "      <td>Full Time</td>\n",
       "      <td>Entry-level</td>\n",
       "      <td>48K+ *</td>\n",
       "      <td>48000.0</td>\n",
       "      <td>True</td>\n",
       "      <td>[Engineering, Industrial, Oracle, Power BI, R,...</td>\n",
       "      <td>[]</td>\n",
       "    </tr>\n",
       "    <tr>\n",
       "      <th>4</th>\n",
       "      <td>Publicis Groupe</td>\n",
       "      <td>Data Engineer Full time (Public Sector) USA</td>\n",
       "      <td>Arlington, VA, United States</td>\n",
       "      <td>United States</td>\n",
       "      <td>Local</td>\n",
       "      <td>Full Time</td>\n",
       "      <td>Mid-level</td>\n",
       "      <td>108K+</td>\n",
       "      <td>108000.0</td>\n",
       "      <td>False</td>\n",
       "      <td>[AWS, Azure, Computer Science, Consulting, Dat...</td>\n",
       "      <td>[Flex hours, Flex vacation, Parental leave, Un...</td>\n",
       "    </tr>\n",
       "    <tr>\n",
       "      <th>...</th>\n",
       "      <td>...</td>\n",
       "      <td>...</td>\n",
       "      <td>...</td>\n",
       "      <td>...</td>\n",
       "      <td>...</td>\n",
       "      <td>...</td>\n",
       "      <td>...</td>\n",
       "      <td>...</td>\n",
       "      <td>...</td>\n",
       "      <td>...</td>\n",
       "      <td>...</td>\n",
       "      <td>...</td>\n",
       "    </tr>\n",
       "    <tr>\n",
       "      <th>3190</th>\n",
       "      <td>CCRi</td>\n",
       "      <td>Application Integration Engineer, Computer Vis...</td>\n",
       "      <td>Chantilly, Virginia, United States</td>\n",
       "      <td>United States</td>\n",
       "      <td>Local</td>\n",
       "      <td>Full Time</td>\n",
       "      <td>Mid-level</td>\n",
       "      <td>113K+</td>\n",
       "      <td>113000.0</td>\n",
       "      <td>False</td>\n",
       "      <td>[Agile, Angular, APIs, Architecture, AWS, Azure]</td>\n",
       "      <td>[401(k) matching, Career development, Flex hou...</td>\n",
       "    </tr>\n",
       "    <tr>\n",
       "      <th>3191</th>\n",
       "      <td>Publicis Groupe</td>\n",
       "      <td>Associate Director, Data Science</td>\n",
       "      <td>New York City, United States</td>\n",
       "      <td>United States</td>\n",
       "      <td>Local</td>\n",
       "      <td>Full Time</td>\n",
       "      <td>Mid-level</td>\n",
       "      <td>106K+</td>\n",
       "      <td>106000.0</td>\n",
       "      <td>False</td>\n",
       "      <td>[Bayesian, Classification, Clustering, Data an...</td>\n",
       "      <td>[Career development, Health care]</td>\n",
       "    </tr>\n",
       "    <tr>\n",
       "      <th>3192</th>\n",
       "      <td>DoorDash</td>\n",
       "      <td>Senior Software Engineer, Machine Learning - A...</td>\n",
       "      <td>Sunnyvale, CA; San Francisco, CA; New York</td>\n",
       "      <td>Worldwide</td>\n",
       "      <td>Local</td>\n",
       "      <td>Full Time</td>\n",
       "      <td>Senior-level</td>\n",
       "      <td>176K+</td>\n",
       "      <td>176000.0</td>\n",
       "      <td>False</td>\n",
       "      <td>[Computer Science, Data analysis, Engineering,...</td>\n",
       "      <td>[401(k) matching, Career development, Equity, ...</td>\n",
       "    </tr>\n",
       "    <tr>\n",
       "      <th>3193</th>\n",
       "      <td>Western Digital</td>\n",
       "      <td>Data Scientist - New College Graduate</td>\n",
       "      <td>Biñan, Philippines</td>\n",
       "      <td>Philippines</td>\n",
       "      <td>Local</td>\n",
       "      <td>Full Time</td>\n",
       "      <td>Entry-level</td>\n",
       "      <td>39K+ *</td>\n",
       "      <td>39000.0</td>\n",
       "      <td>True</td>\n",
       "      <td>[APIs, Clustering, Computer Science, Data visu...</td>\n",
       "      <td>[Career development]</td>\n",
       "    </tr>\n",
       "    <tr>\n",
       "      <th>3196</th>\n",
       "      <td>ATB Financial</td>\n",
       "      <td>Data Scientist</td>\n",
       "      <td>Edmonton, Alberta, Canada</td>\n",
       "      <td>Canada</td>\n",
       "      <td>Local</td>\n",
       "      <td>Full Time</td>\n",
       "      <td>Entry-level</td>\n",
       "      <td>39K+ *</td>\n",
       "      <td>39000.0</td>\n",
       "      <td>True</td>\n",
       "      <td>[Computer Science, Data Analytics, Data Mining...</td>\n",
       "      <td>[Career development, Startup environment]</td>\n",
       "    </tr>\n",
       "  </tbody>\n",
       "</table>\n",
       "<p>2896 rows × 12 columns</p>\n",
       "</div>"
      ],
      "text/plain": [
       "              Company                                          Job_Title   \n",
       "0                 SGS                              Clinical Data Analyst  \\\n",
       "1             Ocorian                             AML/CFT & Data Analyst   \n",
       "2              Cricut                          Machine Learning Engineer   \n",
       "3         Bosch Group               Application Developer & Data Analyst   \n",
       "4     Publicis Groupe        Data Engineer Full time (Public Sector) USA   \n",
       "...               ...                                                ...   \n",
       "3190             CCRi  Application Integration Engineer, Computer Vis...   \n",
       "3191  Publicis Groupe                   Associate Director, Data Science   \n",
       "3192         DoorDash  Senior Software Engineer, Machine Learning - A...   \n",
       "3193  Western Digital              Data Scientist - New College Graduate   \n",
       "3196    ATB Financial                                     Data Scientist   \n",
       "\n",
       "                                          Location        Country Work_Place   \n",
       "0                    Richardson, TX, United States  United States      Local  \\\n",
       "1                                 Ebène, Mauritius      Mauritius      Local   \n",
       "2                  South Jordan, UT, United States  United States      Local   \n",
       "3                                 Nonantola, Italy          Italy      Local   \n",
       "4                     Arlington, VA, United States  United States      Local   \n",
       "...                                            ...            ...        ...   \n",
       "3190            Chantilly, Virginia, United States  United States      Local   \n",
       "3191                  New York City, United States  United States      Local   \n",
       "3192  Sunnyvale, CA; San Francisco, CA; New York \n",
       "      Worldwide      Local   \n",
       "3193                            Biñan, Philippines    Philippines      Local   \n",
       "3196                     Edmonton, Alberta, Canada         Canada      Local   \n",
       "\n",
       "       Job_Type Experience_level   Salary  Min_Salary_Year  Salary_conditions   \n",
       "0     Full Time      Entry-level   48K+ *          48000.0               True  \\\n",
       "1     Full Time      Entry-level   48K+ *          48000.0               True   \n",
       "2     Full Time    Not-Specified   90K+ *          90000.0               True   \n",
       "3     Full Time      Entry-level   48K+ *          48000.0               True   \n",
       "4     Full Time        Mid-level    108K+         108000.0              False   \n",
       "...         ...              ...      ...              ...                ...   \n",
       "3190  Full Time        Mid-level    113K+         113000.0              False   \n",
       "3191  Full Time        Mid-level    106K+         106000.0              False   \n",
       "3192  Full Time     Senior-level    176K+         176000.0              False   \n",
       "3193  Full Time      Entry-level   39K+ *          39000.0               True   \n",
       "3196  Full Time      Entry-level   39K+ *          39000.0               True   \n",
       "\n",
       "                              Requirment_of_the_company   \n",
       "0     [Computer Science, Data quality, Genetics, Mat...  \\\n",
       "1           [Agile, Data management, Finance, Security]   \n",
       "2     [Agile, Architecture, AWS, Computer Science, C...   \n",
       "3     [Engineering, Industrial, Oracle, Power BI, R,...   \n",
       "4     [AWS, Azure, Computer Science, Consulting, Dat...   \n",
       "...                                                 ...   \n",
       "3190   [Agile, Angular, APIs, Architecture, AWS, Azure]   \n",
       "3191  [Bayesian, Classification, Clustering, Data an...   \n",
       "3192  [Computer Science, Data analysis, Engineering,...   \n",
       "3193  [APIs, Clustering, Computer Science, Data visu...   \n",
       "3196  [Computer Science, Data Analytics, Data Mining...   \n",
       "\n",
       "                                             Facilities  \n",
       "0                                                    []  \n",
       "1                                                    []  \n",
       "2                                  [Career development]  \n",
       "3                                                    []  \n",
       "4     [Flex hours, Flex vacation, Parental leave, Un...  \n",
       "...                                                 ...  \n",
       "3190  [401(k) matching, Career development, Flex hou...  \n",
       "3191                  [Career development, Health care]  \n",
       "3192  [401(k) matching, Career development, Equity, ...  \n",
       "3193                               [Career development]  \n",
       "3196          [Career development, Startup environment]  \n",
       "\n",
       "[2896 rows x 12 columns]"
      ]
     },
     "execution_count": 276,
     "metadata": {},
     "output_type": "execute_result"
    }
   ],
   "source": [
    "# Function to check the work place\n",
    "def check_work_place(job,location):\n",
    "    job = job.lower()\n",
    "    location = location.lower()\n",
    "    if 'remote' in job or 'remote' in location :\n",
    "        return 'Remote'\n",
    "    elif 'hybrid' in job or 'hybrid' in location:\n",
    "        return 'Hybrid'\n",
    "    else:\n",
    "        return 'Local'\n",
    "\n",
    "# Apply the function to 'Location' column and store the result in 'Work_Place'\n",
    "df_clean.loc[:,'Work_Place'] = df_clean.apply(lambda x: check_work_place(x.Job_Title, x.Location), axis=1)\n",
    "# move Work_Place column to fourth position\n",
    "Work_Place = df_clean.pop('Work_Place')\n",
    "df_clean.insert(4, 'Work_Place', Work_Place)\n",
    "df_clean"
   ]
  },
  {
   "cell_type": "code",
   "execution_count": 277,
   "metadata": {},
   "outputs": [
    {
     "data": {
      "text/plain": [
       "(541, 12)"
      ]
     },
     "execution_count": 277,
     "metadata": {},
     "output_type": "execute_result"
    }
   ],
   "source": [
    "df_clean[(df_clean['Job_Title'].str.contains('Remote',case=False)) | (df_clean['Location'].str.contains('Remote',case=False))].shape"
   ]
  },
  {
   "cell_type": "code",
   "execution_count": 278,
   "metadata": {},
   "outputs": [
    {
     "data": {
      "text/plain": [
       "(541, 12)"
      ]
     },
     "execution_count": 278,
     "metadata": {},
     "output_type": "execute_result"
    }
   ],
   "source": [
    "df_clean[df_clean['Work_Place'].str.contains('Remote',case=False)].shape"
   ]
  },
  {
   "cell_type": "markdown",
   "metadata": {},
   "source": [
    "# Analyse et Visualisation"
   ]
  },
  {
   "cell_type": "markdown",
   "metadata": {},
   "source": [
    "<h3>Count the number of occurrences for each job title</h3>"
   ]
  },
  {
   "cell_type": "code",
   "execution_count": 279,
   "metadata": {},
   "outputs": [
    {
     "data": {
      "text/html": [
       "<div>\n",
       "<style scoped>\n",
       "    .dataframe tbody tr th:only-of-type {\n",
       "        vertical-align: middle;\n",
       "    }\n",
       "\n",
       "    .dataframe tbody tr th {\n",
       "        vertical-align: top;\n",
       "    }\n",
       "\n",
       "    .dataframe thead th {\n",
       "        text-align: right;\n",
       "    }\n",
       "</style>\n",
       "<table border=\"1\" class=\"dataframe\">\n",
       "  <thead>\n",
       "    <tr style=\"text-align: right;\">\n",
       "      <th></th>\n",
       "      <th>Job_Title</th>\n",
       "      <th>Count</th>\n",
       "    </tr>\n",
       "  </thead>\n",
       "  <tbody>\n",
       "    <tr>\n",
       "      <th>460</th>\n",
       "      <td>Data Engineer</td>\n",
       "      <td>102</td>\n",
       "    </tr>\n",
       "    <tr>\n",
       "      <th>664</th>\n",
       "      <td>Data Scientist</td>\n",
       "      <td>80</td>\n",
       "    </tr>\n",
       "    <tr>\n",
       "      <th>329</th>\n",
       "      <td>Data Analyst</td>\n",
       "      <td>77</td>\n",
       "    </tr>\n",
       "    <tr>\n",
       "      <th>1496</th>\n",
       "      <td>Senior Data Engineer</td>\n",
       "      <td>63</td>\n",
       "    </tr>\n",
       "    <tr>\n",
       "      <th>1057</th>\n",
       "      <td>Machine Learning Engineer</td>\n",
       "      <td>47</td>\n",
       "    </tr>\n",
       "    <tr>\n",
       "      <th>1462</th>\n",
       "      <td>Senior Data Analyst</td>\n",
       "      <td>36</td>\n",
       "    </tr>\n",
       "    <tr>\n",
       "      <th>1551</th>\n",
       "      <td>Senior Data Scientist</td>\n",
       "      <td>32</td>\n",
       "    </tr>\n",
       "    <tr>\n",
       "      <th>1645</th>\n",
       "      <td>Senior Machine Learning Engineer</td>\n",
       "      <td>21</td>\n",
       "    </tr>\n",
       "    <tr>\n",
       "      <th>75</th>\n",
       "      <td>Analytics Engineer</td>\n",
       "      <td>16</td>\n",
       "    </tr>\n",
       "    <tr>\n",
       "      <th>449</th>\n",
       "      <td>Data Architect</td>\n",
       "      <td>11</td>\n",
       "    </tr>\n",
       "  </tbody>\n",
       "</table>\n",
       "</div>"
      ],
      "text/plain": [
       "                             Job_Title  Count\n",
       "460                      Data Engineer    102\n",
       "664                     Data Scientist     80\n",
       "329                       Data Analyst     77\n",
       "1496              Senior Data Engineer     63\n",
       "1057         Machine Learning Engineer     47\n",
       "1462               Senior Data Analyst     36\n",
       "1551             Senior Data Scientist     32\n",
       "1645  Senior Machine Learning Engineer     21\n",
       "75                  Analytics Engineer     16\n",
       "449                     Data Architect     11"
      ]
     },
     "execution_count": 279,
     "metadata": {},
     "output_type": "execute_result"
    }
   ],
   "source": [
    "job_title_counts = df_clean.groupby(by='Job_Title').size().reset_index(name='Count')\n",
    "job_titles_counts = job_title_counts.sort_values(by='Count',ascending=False)\n",
    "job_titles_counts.head(10)"
   ]
  },
  {
   "cell_type": "code",
   "execution_count": 280,
   "metadata": {},
   "outputs": [
    {
     "data": {
      "text/html": [
       "<div>\n",
       "<style scoped>\n",
       "    .dataframe tbody tr th:only-of-type {\n",
       "        vertical-align: middle;\n",
       "    }\n",
       "\n",
       "    .dataframe tbody tr th {\n",
       "        vertical-align: top;\n",
       "    }\n",
       "\n",
       "    .dataframe thead th {\n",
       "        text-align: right;\n",
       "    }\n",
       "</style>\n",
       "<table border=\"1\" class=\"dataframe\">\n",
       "  <thead>\n",
       "    <tr style=\"text-align: right;\">\n",
       "      <th></th>\n",
       "      <th>Job_Title</th>\n",
       "      <th>Count</th>\n",
       "    </tr>\n",
       "  </thead>\n",
       "  <tbody>\n",
       "    <tr>\n",
       "      <th>460</th>\n",
       "      <td>Data Engineer</td>\n",
       "      <td>102</td>\n",
       "    </tr>\n",
       "    <tr>\n",
       "      <th>664</th>\n",
       "      <td>Data Scientist</td>\n",
       "      <td>80</td>\n",
       "    </tr>\n",
       "    <tr>\n",
       "      <th>329</th>\n",
       "      <td>Data Analyst</td>\n",
       "      <td>77</td>\n",
       "    </tr>\n",
       "    <tr>\n",
       "      <th>1496</th>\n",
       "      <td>Senior Data Engineer</td>\n",
       "      <td>63</td>\n",
       "    </tr>\n",
       "    <tr>\n",
       "      <th>1462</th>\n",
       "      <td>Senior Data Analyst</td>\n",
       "      <td>36</td>\n",
       "    </tr>\n",
       "    <tr>\n",
       "      <th>1551</th>\n",
       "      <td>Senior Data Scientist</td>\n",
       "      <td>32</td>\n",
       "    </tr>\n",
       "    <tr>\n",
       "      <th>1005</th>\n",
       "      <td>Lead Data Engineer</td>\n",
       "      <td>9</td>\n",
       "    </tr>\n",
       "    <tr>\n",
       "      <th>1934</th>\n",
       "      <td>Staff Data Engineer</td>\n",
       "      <td>9</td>\n",
       "    </tr>\n",
       "    <tr>\n",
       "      <th>1332</th>\n",
       "      <td>Research Scientist</td>\n",
       "      <td>7</td>\n",
       "    </tr>\n",
       "    <tr>\n",
       "      <th>974</th>\n",
       "      <td>Junior Data Analyst</td>\n",
       "      <td>7</td>\n",
       "    </tr>\n",
       "  </tbody>\n",
       "</table>\n",
       "</div>"
      ],
      "text/plain": [
       "                  Job_Title  Count\n",
       "460           Data Engineer    102\n",
       "664          Data Scientist     80\n",
       "329            Data Analyst     77\n",
       "1496   Senior Data Engineer     63\n",
       "1462    Senior Data Analyst     36\n",
       "1551  Senior Data Scientist     32\n",
       "1005     Lead Data Engineer      9\n",
       "1934    Staff Data Engineer      9\n",
       "1332     Research Scientist      7\n",
       "974     Junior Data Analyst      7"
      ]
     },
     "execution_count": 280,
     "metadata": {},
     "output_type": "execute_result"
    }
   ],
   "source": [
    "df_ds = job_titles_counts[job_titles_counts['Job_Title'].str.contains(r'Data Science|Data Analys|Data Engineer|Scientist|Science|Data Visualization', case=False)]\n",
    "df_ds.head(10)"
   ]
  },
  {
   "cell_type": "code",
   "execution_count": 281,
   "metadata": {},
   "outputs": [
    {
     "name": "stdout",
     "output_type": "stream",
     "text": [
      "1570\n"
     ]
    }
   ],
   "source": [
    "count_ds = df_ds['Count'].sum()\n",
    "print(count_ds)"
   ]
  },
  {
   "cell_type": "code",
   "execution_count": 282,
   "metadata": {},
   "outputs": [
    {
     "data": {
      "text/html": [
       "<div>\n",
       "<style scoped>\n",
       "    .dataframe tbody tr th:only-of-type {\n",
       "        vertical-align: middle;\n",
       "    }\n",
       "\n",
       "    .dataframe tbody tr th {\n",
       "        vertical-align: top;\n",
       "    }\n",
       "\n",
       "    .dataframe thead th {\n",
       "        text-align: right;\n",
       "    }\n",
       "</style>\n",
       "<table border=\"1\" class=\"dataframe\">\n",
       "  <thead>\n",
       "    <tr style=\"text-align: right;\">\n",
       "      <th></th>\n",
       "      <th>Job_Title</th>\n",
       "      <th>Count</th>\n",
       "    </tr>\n",
       "  </thead>\n",
       "  <tbody>\n",
       "    <tr>\n",
       "      <th>1057</th>\n",
       "      <td>Machine Learning Engineer</td>\n",
       "      <td>47</td>\n",
       "    </tr>\n",
       "    <tr>\n",
       "      <th>1645</th>\n",
       "      <td>Senior Machine Learning Engineer</td>\n",
       "      <td>21</td>\n",
       "    </tr>\n",
       "    <tr>\n",
       "      <th>1676</th>\n",
       "      <td>Senior Machine Learning Scientist</td>\n",
       "      <td>5</td>\n",
       "    </tr>\n",
       "    <tr>\n",
       "      <th>1388</th>\n",
       "      <td>Senior AI Engineer</td>\n",
       "      <td>4</td>\n",
       "    </tr>\n",
       "    <tr>\n",
       "      <th>1048</th>\n",
       "      <td>MLOps Engineer</td>\n",
       "      <td>4</td>\n",
       "    </tr>\n",
       "    <tr>\n",
       "      <th>1042</th>\n",
       "      <td>ML Engineer</td>\n",
       "      <td>3</td>\n",
       "    </tr>\n",
       "    <tr>\n",
       "      <th>1026</th>\n",
       "      <td>Lead Machine Learning Engineer</td>\n",
       "      <td>3</td>\n",
       "    </tr>\n",
       "    <tr>\n",
       "      <th>1870</th>\n",
       "      <td>Sr Machine Learning Engineer</td>\n",
       "      <td>2</td>\n",
       "    </tr>\n",
       "    <tr>\n",
       "      <th>1104</th>\n",
       "      <td>Machine Learning Scientist II</td>\n",
       "      <td>2</td>\n",
       "    </tr>\n",
       "    <tr>\n",
       "      <th>1236</th>\n",
       "      <td>Principal Machine Learning Engineer</td>\n",
       "      <td>2</td>\n",
       "    </tr>\n",
       "  </tbody>\n",
       "</table>\n",
       "</div>"
      ],
      "text/plain": [
       "                                Job_Title  Count\n",
       "1057            Machine Learning Engineer     47\n",
       "1645     Senior Machine Learning Engineer     21\n",
       "1676    Senior Machine Learning Scientist      5\n",
       "1388                   Senior AI Engineer      4\n",
       "1048                       MLOps Engineer      4\n",
       "1042                          ML Engineer      3\n",
       "1026       Lead Machine Learning Engineer      3\n",
       "1870         Sr Machine Learning Engineer      2\n",
       "1104        Machine Learning Scientist II      2\n",
       "1236  Principal Machine Learning Engineer      2"
      ]
     },
     "execution_count": 282,
     "metadata": {},
     "output_type": "execute_result"
    }
   ],
   "source": [
    "# count = job_titles_counts['Job_Title'].str.contains(r'Machine Learning|ML', case=True).sum()\n",
    "df_ml = job_titles_counts[job_titles_counts['Job_Title'].str.contains(r'Machine Learning|ML|AI|Artificial Intelligence|Deep Learning', case=True)]\n",
    "df_ml.head(10)"
   ]
  },
  {
   "cell_type": "code",
   "execution_count": 283,
   "metadata": {},
   "outputs": [
    {
     "name": "stdout",
     "output_type": "stream",
     "text": [
      "524\n"
     ]
    }
   ],
   "source": [
    "count_ml = df_ml['Count'].sum()\n",
    "print(count_ml)"
   ]
  },
  {
   "cell_type": "code",
   "execution_count": 284,
   "metadata": {},
   "outputs": [
    {
     "data": {
      "text/html": [
       "<div>\n",
       "<style scoped>\n",
       "    .dataframe tbody tr th:only-of-type {\n",
       "        vertical-align: middle;\n",
       "    }\n",
       "\n",
       "    .dataframe tbody tr th {\n",
       "        vertical-align: top;\n",
       "    }\n",
       "\n",
       "    .dataframe thead th {\n",
       "        text-align: right;\n",
       "    }\n",
       "</style>\n",
       "<table border=\"1\" class=\"dataframe\">\n",
       "  <thead>\n",
       "    <tr style=\"text-align: right;\">\n",
       "      <th></th>\n",
       "      <th>Job_Title</th>\n",
       "      <th>Count</th>\n",
       "    </tr>\n",
       "  </thead>\n",
       "  <tbody>\n",
       "    <tr>\n",
       "      <th>167</th>\n",
       "      <td>Big Data Engineer</td>\n",
       "      <td>4</td>\n",
       "    </tr>\n",
       "    <tr>\n",
       "      <th>1434</th>\n",
       "      <td>Senior Big Data Engineer</td>\n",
       "      <td>3</td>\n",
       "    </tr>\n",
       "    <tr>\n",
       "      <th>1371</th>\n",
       "      <td>SW Engineer: Big Data/Risk Systems, Sr. Consul...</td>\n",
       "      <td>1</td>\n",
       "    </tr>\n",
       "    <tr>\n",
       "      <th>1435</th>\n",
       "      <td>Senior Big Data Engineer  CIB</td>\n",
       "      <td>1</td>\n",
       "    </tr>\n",
       "    <tr>\n",
       "      <th>1432</th>\n",
       "      <td>Senior Backend Software Engineer- Big Data Ana...</td>\n",
       "      <td>1</td>\n",
       "    </tr>\n",
       "    <tr>\n",
       "      <th>1178</th>\n",
       "      <td>Oracle Data Modeler / PL/SQL - Data warehouse</td>\n",
       "      <td>1</td>\n",
       "    </tr>\n",
       "    <tr>\n",
       "      <th>1204</th>\n",
       "      <td>Pre-College Instructor, Big Data, Machine Lear...</td>\n",
       "      <td>1</td>\n",
       "    </tr>\n",
       "    <tr>\n",
       "      <th>1205</th>\n",
       "      <td>PreMaster Programm - Big Data (Analytics)</td>\n",
       "      <td>1</td>\n",
       "    </tr>\n",
       "    <tr>\n",
       "      <th>1136</th>\n",
       "      <td>Manager-Business Intelligence&amp;Data Warehousing</td>\n",
       "      <td>1</td>\n",
       "    </tr>\n",
       "    <tr>\n",
       "      <th>1879</th>\n",
       "      <td>Sr. Big Data Engineer</td>\n",
       "      <td>1</td>\n",
       "    </tr>\n",
       "  </tbody>\n",
       "</table>\n",
       "</div>"
      ],
      "text/plain": [
       "                                              Job_Title  Count\n",
       "167                                   Big Data Engineer      4\n",
       "1434                           Senior Big Data Engineer      3\n",
       "1371  SW Engineer: Big Data/Risk Systems, Sr. Consul...      1\n",
       "1435                     Senior Big Data Engineer  CIB      1\n",
       "1432  Senior Backend Software Engineer- Big Data Ana...      1\n",
       "1178      Oracle Data Modeler / PL/SQL - Data warehouse      1\n",
       "1204  Pre-College Instructor, Big Data, Machine Lear...      1\n",
       "1205          PreMaster Programm - Big Data (Analytics)      1\n",
       "1136     Manager-Business Intelligence&Data Warehousing      1\n",
       "1879                              Sr. Big Data Engineer      1"
      ]
     },
     "execution_count": 284,
     "metadata": {},
     "output_type": "execute_result"
    }
   ],
   "source": [
    "df_bd = job_titles_counts[job_titles_counts['Job_Title'].str.contains(r'Big Data|Data Warehousing|Data Warehouse|Hadoop|nosql', case=False)]\n",
    "df_bd.head(10)"
   ]
  },
  {
   "cell_type": "code",
   "execution_count": 285,
   "metadata": {},
   "outputs": [
    {
     "name": "stdout",
     "output_type": "stream",
     "text": [
      "44\n"
     ]
    }
   ],
   "source": [
    "count_bd = df_bd['Count'].sum()\n",
    "print(count_bd)"
   ]
  },
  {
   "cell_type": "markdown",
   "metadata": {},
   "source": [
    "## Visualize the results"
   ]
  },
  {
   "cell_type": "code",
   "execution_count": 286,
   "metadata": {},
   "outputs": [
    {
     "data": {
      "application/vnd.plotly.v1+json": {
       "config": {
        "plotlyServerURL": "https://plot.ly"
       },
       "data": [
        {
         "labels": [
          [
           "Data Science",
           1570
          ],
          [
           "Machine Learning (AI)",
           524
          ],
          [
           "Big Data",
           44
          ]
         ],
         "pull": [
          0,
          0.1,
          0.2,
          0
         ],
         "showlegend": true,
         "textfont": {
          "size": 11
         },
         "textinfo": "label+percent",
         "type": "pie",
         "values": [
          1570,
          524,
          44
         ]
        }
       ],
       "layout": {
        "template": {
         "data": {
          "bar": [
           {
            "error_x": {
             "color": "#2a3f5f"
            },
            "error_y": {
             "color": "#2a3f5f"
            },
            "marker": {
             "line": {
              "color": "#E5ECF6",
              "width": 0.5
             },
             "pattern": {
              "fillmode": "overlay",
              "size": 10,
              "solidity": 0.2
             }
            },
            "type": "bar"
           }
          ],
          "barpolar": [
           {
            "marker": {
             "line": {
              "color": "#E5ECF6",
              "width": 0.5
             },
             "pattern": {
              "fillmode": "overlay",
              "size": 10,
              "solidity": 0.2
             }
            },
            "type": "barpolar"
           }
          ],
          "carpet": [
           {
            "aaxis": {
             "endlinecolor": "#2a3f5f",
             "gridcolor": "white",
             "linecolor": "white",
             "minorgridcolor": "white",
             "startlinecolor": "#2a3f5f"
            },
            "baxis": {
             "endlinecolor": "#2a3f5f",
             "gridcolor": "white",
             "linecolor": "white",
             "minorgridcolor": "white",
             "startlinecolor": "#2a3f5f"
            },
            "type": "carpet"
           }
          ],
          "choropleth": [
           {
            "colorbar": {
             "outlinewidth": 0,
             "ticks": ""
            },
            "type": "choropleth"
           }
          ],
          "contour": [
           {
            "colorbar": {
             "outlinewidth": 0,
             "ticks": ""
            },
            "colorscale": [
             [
              0,
              "#0d0887"
             ],
             [
              0.1111111111111111,
              "#46039f"
             ],
             [
              0.2222222222222222,
              "#7201a8"
             ],
             [
              0.3333333333333333,
              "#9c179e"
             ],
             [
              0.4444444444444444,
              "#bd3786"
             ],
             [
              0.5555555555555556,
              "#d8576b"
             ],
             [
              0.6666666666666666,
              "#ed7953"
             ],
             [
              0.7777777777777778,
              "#fb9f3a"
             ],
             [
              0.8888888888888888,
              "#fdca26"
             ],
             [
              1,
              "#f0f921"
             ]
            ],
            "type": "contour"
           }
          ],
          "contourcarpet": [
           {
            "colorbar": {
             "outlinewidth": 0,
             "ticks": ""
            },
            "type": "contourcarpet"
           }
          ],
          "heatmap": [
           {
            "colorbar": {
             "outlinewidth": 0,
             "ticks": ""
            },
            "colorscale": [
             [
              0,
              "#0d0887"
             ],
             [
              0.1111111111111111,
              "#46039f"
             ],
             [
              0.2222222222222222,
              "#7201a8"
             ],
             [
              0.3333333333333333,
              "#9c179e"
             ],
             [
              0.4444444444444444,
              "#bd3786"
             ],
             [
              0.5555555555555556,
              "#d8576b"
             ],
             [
              0.6666666666666666,
              "#ed7953"
             ],
             [
              0.7777777777777778,
              "#fb9f3a"
             ],
             [
              0.8888888888888888,
              "#fdca26"
             ],
             [
              1,
              "#f0f921"
             ]
            ],
            "type": "heatmap"
           }
          ],
          "heatmapgl": [
           {
            "colorbar": {
             "outlinewidth": 0,
             "ticks": ""
            },
            "colorscale": [
             [
              0,
              "#0d0887"
             ],
             [
              0.1111111111111111,
              "#46039f"
             ],
             [
              0.2222222222222222,
              "#7201a8"
             ],
             [
              0.3333333333333333,
              "#9c179e"
             ],
             [
              0.4444444444444444,
              "#bd3786"
             ],
             [
              0.5555555555555556,
              "#d8576b"
             ],
             [
              0.6666666666666666,
              "#ed7953"
             ],
             [
              0.7777777777777778,
              "#fb9f3a"
             ],
             [
              0.8888888888888888,
              "#fdca26"
             ],
             [
              1,
              "#f0f921"
             ]
            ],
            "type": "heatmapgl"
           }
          ],
          "histogram": [
           {
            "marker": {
             "pattern": {
              "fillmode": "overlay",
              "size": 10,
              "solidity": 0.2
             }
            },
            "type": "histogram"
           }
          ],
          "histogram2d": [
           {
            "colorbar": {
             "outlinewidth": 0,
             "ticks": ""
            },
            "colorscale": [
             [
              0,
              "#0d0887"
             ],
             [
              0.1111111111111111,
              "#46039f"
             ],
             [
              0.2222222222222222,
              "#7201a8"
             ],
             [
              0.3333333333333333,
              "#9c179e"
             ],
             [
              0.4444444444444444,
              "#bd3786"
             ],
             [
              0.5555555555555556,
              "#d8576b"
             ],
             [
              0.6666666666666666,
              "#ed7953"
             ],
             [
              0.7777777777777778,
              "#fb9f3a"
             ],
             [
              0.8888888888888888,
              "#fdca26"
             ],
             [
              1,
              "#f0f921"
             ]
            ],
            "type": "histogram2d"
           }
          ],
          "histogram2dcontour": [
           {
            "colorbar": {
             "outlinewidth": 0,
             "ticks": ""
            },
            "colorscale": [
             [
              0,
              "#0d0887"
             ],
             [
              0.1111111111111111,
              "#46039f"
             ],
             [
              0.2222222222222222,
              "#7201a8"
             ],
             [
              0.3333333333333333,
              "#9c179e"
             ],
             [
              0.4444444444444444,
              "#bd3786"
             ],
             [
              0.5555555555555556,
              "#d8576b"
             ],
             [
              0.6666666666666666,
              "#ed7953"
             ],
             [
              0.7777777777777778,
              "#fb9f3a"
             ],
             [
              0.8888888888888888,
              "#fdca26"
             ],
             [
              1,
              "#f0f921"
             ]
            ],
            "type": "histogram2dcontour"
           }
          ],
          "mesh3d": [
           {
            "colorbar": {
             "outlinewidth": 0,
             "ticks": ""
            },
            "type": "mesh3d"
           }
          ],
          "parcoords": [
           {
            "line": {
             "colorbar": {
              "outlinewidth": 0,
              "ticks": ""
             }
            },
            "type": "parcoords"
           }
          ],
          "pie": [
           {
            "automargin": true,
            "type": "pie"
           }
          ],
          "scatter": [
           {
            "fillpattern": {
             "fillmode": "overlay",
             "size": 10,
             "solidity": 0.2
            },
            "type": "scatter"
           }
          ],
          "scatter3d": [
           {
            "line": {
             "colorbar": {
              "outlinewidth": 0,
              "ticks": ""
             }
            },
            "marker": {
             "colorbar": {
              "outlinewidth": 0,
              "ticks": ""
             }
            },
            "type": "scatter3d"
           }
          ],
          "scattercarpet": [
           {
            "marker": {
             "colorbar": {
              "outlinewidth": 0,
              "ticks": ""
             }
            },
            "type": "scattercarpet"
           }
          ],
          "scattergeo": [
           {
            "marker": {
             "colorbar": {
              "outlinewidth": 0,
              "ticks": ""
             }
            },
            "type": "scattergeo"
           }
          ],
          "scattergl": [
           {
            "marker": {
             "colorbar": {
              "outlinewidth": 0,
              "ticks": ""
             }
            },
            "type": "scattergl"
           }
          ],
          "scattermapbox": [
           {
            "marker": {
             "colorbar": {
              "outlinewidth": 0,
              "ticks": ""
             }
            },
            "type": "scattermapbox"
           }
          ],
          "scatterpolar": [
           {
            "marker": {
             "colorbar": {
              "outlinewidth": 0,
              "ticks": ""
             }
            },
            "type": "scatterpolar"
           }
          ],
          "scatterpolargl": [
           {
            "marker": {
             "colorbar": {
              "outlinewidth": 0,
              "ticks": ""
             }
            },
            "type": "scatterpolargl"
           }
          ],
          "scatterternary": [
           {
            "marker": {
             "colorbar": {
              "outlinewidth": 0,
              "ticks": ""
             }
            },
            "type": "scatterternary"
           }
          ],
          "surface": [
           {
            "colorbar": {
             "outlinewidth": 0,
             "ticks": ""
            },
            "colorscale": [
             [
              0,
              "#0d0887"
             ],
             [
              0.1111111111111111,
              "#46039f"
             ],
             [
              0.2222222222222222,
              "#7201a8"
             ],
             [
              0.3333333333333333,
              "#9c179e"
             ],
             [
              0.4444444444444444,
              "#bd3786"
             ],
             [
              0.5555555555555556,
              "#d8576b"
             ],
             [
              0.6666666666666666,
              "#ed7953"
             ],
             [
              0.7777777777777778,
              "#fb9f3a"
             ],
             [
              0.8888888888888888,
              "#fdca26"
             ],
             [
              1,
              "#f0f921"
             ]
            ],
            "type": "surface"
           }
          ],
          "table": [
           {
            "cells": {
             "fill": {
              "color": "#EBF0F8"
             },
             "line": {
              "color": "white"
             }
            },
            "header": {
             "fill": {
              "color": "#C8D4E3"
             },
             "line": {
              "color": "white"
             }
            },
            "type": "table"
           }
          ]
         },
         "layout": {
          "annotationdefaults": {
           "arrowcolor": "#2a3f5f",
           "arrowhead": 0,
           "arrowwidth": 1
          },
          "autotypenumbers": "strict",
          "coloraxis": {
           "colorbar": {
            "outlinewidth": 0,
            "ticks": ""
           }
          },
          "colorscale": {
           "diverging": [
            [
             0,
             "#8e0152"
            ],
            [
             0.1,
             "#c51b7d"
            ],
            [
             0.2,
             "#de77ae"
            ],
            [
             0.3,
             "#f1b6da"
            ],
            [
             0.4,
             "#fde0ef"
            ],
            [
             0.5,
             "#f7f7f7"
            ],
            [
             0.6,
             "#e6f5d0"
            ],
            [
             0.7,
             "#b8e186"
            ],
            [
             0.8,
             "#7fbc41"
            ],
            [
             0.9,
             "#4d9221"
            ],
            [
             1,
             "#276419"
            ]
           ],
           "sequential": [
            [
             0,
             "#0d0887"
            ],
            [
             0.1111111111111111,
             "#46039f"
            ],
            [
             0.2222222222222222,
             "#7201a8"
            ],
            [
             0.3333333333333333,
             "#9c179e"
            ],
            [
             0.4444444444444444,
             "#bd3786"
            ],
            [
             0.5555555555555556,
             "#d8576b"
            ],
            [
             0.6666666666666666,
             "#ed7953"
            ],
            [
             0.7777777777777778,
             "#fb9f3a"
            ],
            [
             0.8888888888888888,
             "#fdca26"
            ],
            [
             1,
             "#f0f921"
            ]
           ],
           "sequentialminus": [
            [
             0,
             "#0d0887"
            ],
            [
             0.1111111111111111,
             "#46039f"
            ],
            [
             0.2222222222222222,
             "#7201a8"
            ],
            [
             0.3333333333333333,
             "#9c179e"
            ],
            [
             0.4444444444444444,
             "#bd3786"
            ],
            [
             0.5555555555555556,
             "#d8576b"
            ],
            [
             0.6666666666666666,
             "#ed7953"
            ],
            [
             0.7777777777777778,
             "#fb9f3a"
            ],
            [
             0.8888888888888888,
             "#fdca26"
            ],
            [
             1,
             "#f0f921"
            ]
           ]
          },
          "colorway": [
           "#636efa",
           "#EF553B",
           "#00cc96",
           "#ab63fa",
           "#FFA15A",
           "#19d3f3",
           "#FF6692",
           "#B6E880",
           "#FF97FF",
           "#FECB52"
          ],
          "font": {
           "color": "#2a3f5f"
          },
          "geo": {
           "bgcolor": "white",
           "lakecolor": "white",
           "landcolor": "#E5ECF6",
           "showlakes": true,
           "showland": true,
           "subunitcolor": "white"
          },
          "hoverlabel": {
           "align": "left"
          },
          "hovermode": "closest",
          "mapbox": {
           "style": "light"
          },
          "paper_bgcolor": "white",
          "plot_bgcolor": "#E5ECF6",
          "polar": {
           "angularaxis": {
            "gridcolor": "white",
            "linecolor": "white",
            "ticks": ""
           },
           "bgcolor": "#E5ECF6",
           "radialaxis": {
            "gridcolor": "white",
            "linecolor": "white",
            "ticks": ""
           }
          },
          "scene": {
           "xaxis": {
            "backgroundcolor": "#E5ECF6",
            "gridcolor": "white",
            "gridwidth": 2,
            "linecolor": "white",
            "showbackground": true,
            "ticks": "",
            "zerolinecolor": "white"
           },
           "yaxis": {
            "backgroundcolor": "#E5ECF6",
            "gridcolor": "white",
            "gridwidth": 2,
            "linecolor": "white",
            "showbackground": true,
            "ticks": "",
            "zerolinecolor": "white"
           },
           "zaxis": {
            "backgroundcolor": "#E5ECF6",
            "gridcolor": "white",
            "gridwidth": 2,
            "linecolor": "white",
            "showbackground": true,
            "ticks": "",
            "zerolinecolor": "white"
           }
          },
          "shapedefaults": {
           "line": {
            "color": "#2a3f5f"
           }
          },
          "ternary": {
           "aaxis": {
            "gridcolor": "white",
            "linecolor": "white",
            "ticks": ""
           },
           "baxis": {
            "gridcolor": "white",
            "linecolor": "white",
            "ticks": ""
           },
           "bgcolor": "#E5ECF6",
           "caxis": {
            "gridcolor": "white",
            "linecolor": "white",
            "ticks": ""
           }
          },
          "title": {
           "x": 0.05
          },
          "xaxis": {
           "automargin": true,
           "gridcolor": "white",
           "linecolor": "white",
           "ticks": "",
           "title": {
            "standoff": 15
           },
           "zerolinecolor": "white",
           "zerolinewidth": 2
          },
          "yaxis": {
           "automargin": true,
           "gridcolor": "white",
           "linecolor": "white",
           "ticks": "",
           "title": {
            "standoff": 15
           },
           "zerolinecolor": "white",
           "zerolinewidth": 2
          }
         }
        },
        "title": {
         "text": "La distribution des offres d'emplois dans DS,AI et Big Data"
        }
       }
      }
     },
     "metadata": {},
     "output_type": "display_data"
    }
   ],
   "source": [
    "# import plotly.express as px\n",
    "import plotly.graph_objects as go\n",
    "\n",
    "\n",
    "# fig = px.bar(countdf, x='Domaine', y='Count',title=\"Le nombre totale des offres d'emplois dans DS,AI et Big Data\")\n",
    "# fig.show()\n",
    "\n",
    "data = [('Data Science',count_ds),('Machine Learning (AI)',count_ml),('Big Data',count_bd)]\n",
    "countdf = pd.DataFrame(data,columns=['Domaine','Count'])\n",
    "\n",
    "fig = go.Figure(data=[go.Pie(labels=data, values=countdf['Count'].tolist(), showlegend=True, pull=[0, 0.1, 0.2, 0], \n",
    "                             textinfo='label+percent', textfont_size=11,)])\n",
    "fig.update_layout(title_text=\"La distribution des offres d'emplois dans DS,AI et Big Data\")\n",
    "fig.show()"
   ]
  },
  {
   "cell_type": "markdown",
   "metadata": {},
   "source": [
    "<h3> Get top 20 keywords Occurrences in Requirment_of_the_company column</h3>"
   ]
  },
  {
   "cell_type": "code",
   "execution_count": 287,
   "metadata": {},
   "outputs": [
    {
     "data": {
      "application/vnd.plotly.v1+json": {
       "config": {
        "plotlyServerURL": "https://plot.ly"
       },
       "data": [
        {
         "alignmentgroup": "True",
         "hovertemplate": "Requirment of the company=%{x}<br>Count=%{marker.color}<extra></extra>",
         "legendgroup": "",
         "marker": {
          "color": [
           1050,
           967,
           802,
           714,
           553,
           545,
           532,
           492,
           456,
           418,
           379,
           351,
           316,
           289,
           281,
           279,
           273,
           266,
           259,
           245,
           243,
           206,
           198,
           187,
           178,
           175,
           175,
           175,
           173,
           163
          ],
          "coloraxis": "coloraxis",
          "pattern": {
           "shape": ""
          }
         },
         "name": "",
         "offsetgroup": "",
         "orientation": "v",
         "showlegend": false,
         "textposition": "auto",
         "type": "bar",
         "x": [
          "Computer Science",
          "Engineering",
          "AWS",
          "Architecture",
          "Agile",
          "Big Data",
          "Data analysis",
          "Azure",
          "Machine Learning",
          "Business Intelligence",
          "Data Analytics",
          "APIs",
          "Excel",
          "Data pipelines",
          "Consulting",
          "Airflow",
          "Data visualization",
          "Python",
          "Deep Learning",
          "Data management",
          "Data quality",
          "Finance",
          "BigQuery",
          "CI/CD",
          "ETL",
          "Mathematics",
          "Data Mining",
          "Databricks",
          "Economics",
          "Computer Vision"
         ],
         "xaxis": "x",
         "y": [
          1050,
          967,
          802,
          714,
          553,
          545,
          532,
          492,
          456,
          418,
          379,
          351,
          316,
          289,
          281,
          279,
          273,
          266,
          259,
          245,
          243,
          206,
          198,
          187,
          178,
          175,
          175,
          175,
          173,
          163
         ],
         "yaxis": "y"
        }
       ],
       "layout": {
        "barmode": "relative",
        "coloraxis": {
         "colorbar": {
          "title": {
           "text": "Count"
          }
         },
         "colorscale": [
          [
           0,
           "#0d0887"
          ],
          [
           0.1111111111111111,
           "#46039f"
          ],
          [
           0.2222222222222222,
           "#7201a8"
          ],
          [
           0.3333333333333333,
           "#9c179e"
          ],
          [
           0.4444444444444444,
           "#bd3786"
          ],
          [
           0.5555555555555556,
           "#d8576b"
          ],
          [
           0.6666666666666666,
           "#ed7953"
          ],
          [
           0.7777777777777778,
           "#fb9f3a"
          ],
          [
           0.8888888888888888,
           "#fdca26"
          ],
          [
           1,
           "#f0f921"
          ]
         ]
        },
        "legend": {
         "tracegroupgap": 0
        },
        "template": {
         "data": {
          "bar": [
           {
            "error_x": {
             "color": "#2a3f5f"
            },
            "error_y": {
             "color": "#2a3f5f"
            },
            "marker": {
             "line": {
              "color": "#E5ECF6",
              "width": 0.5
             },
             "pattern": {
              "fillmode": "overlay",
              "size": 10,
              "solidity": 0.2
             }
            },
            "type": "bar"
           }
          ],
          "barpolar": [
           {
            "marker": {
             "line": {
              "color": "#E5ECF6",
              "width": 0.5
             },
             "pattern": {
              "fillmode": "overlay",
              "size": 10,
              "solidity": 0.2
             }
            },
            "type": "barpolar"
           }
          ],
          "carpet": [
           {
            "aaxis": {
             "endlinecolor": "#2a3f5f",
             "gridcolor": "white",
             "linecolor": "white",
             "minorgridcolor": "white",
             "startlinecolor": "#2a3f5f"
            },
            "baxis": {
             "endlinecolor": "#2a3f5f",
             "gridcolor": "white",
             "linecolor": "white",
             "minorgridcolor": "white",
             "startlinecolor": "#2a3f5f"
            },
            "type": "carpet"
           }
          ],
          "choropleth": [
           {
            "colorbar": {
             "outlinewidth": 0,
             "ticks": ""
            },
            "type": "choropleth"
           }
          ],
          "contour": [
           {
            "colorbar": {
             "outlinewidth": 0,
             "ticks": ""
            },
            "colorscale": [
             [
              0,
              "#0d0887"
             ],
             [
              0.1111111111111111,
              "#46039f"
             ],
             [
              0.2222222222222222,
              "#7201a8"
             ],
             [
              0.3333333333333333,
              "#9c179e"
             ],
             [
              0.4444444444444444,
              "#bd3786"
             ],
             [
              0.5555555555555556,
              "#d8576b"
             ],
             [
              0.6666666666666666,
              "#ed7953"
             ],
             [
              0.7777777777777778,
              "#fb9f3a"
             ],
             [
              0.8888888888888888,
              "#fdca26"
             ],
             [
              1,
              "#f0f921"
             ]
            ],
            "type": "contour"
           }
          ],
          "contourcarpet": [
           {
            "colorbar": {
             "outlinewidth": 0,
             "ticks": ""
            },
            "type": "contourcarpet"
           }
          ],
          "heatmap": [
           {
            "colorbar": {
             "outlinewidth": 0,
             "ticks": ""
            },
            "colorscale": [
             [
              0,
              "#0d0887"
             ],
             [
              0.1111111111111111,
              "#46039f"
             ],
             [
              0.2222222222222222,
              "#7201a8"
             ],
             [
              0.3333333333333333,
              "#9c179e"
             ],
             [
              0.4444444444444444,
              "#bd3786"
             ],
             [
              0.5555555555555556,
              "#d8576b"
             ],
             [
              0.6666666666666666,
              "#ed7953"
             ],
             [
              0.7777777777777778,
              "#fb9f3a"
             ],
             [
              0.8888888888888888,
              "#fdca26"
             ],
             [
              1,
              "#f0f921"
             ]
            ],
            "type": "heatmap"
           }
          ],
          "heatmapgl": [
           {
            "colorbar": {
             "outlinewidth": 0,
             "ticks": ""
            },
            "colorscale": [
             [
              0,
              "#0d0887"
             ],
             [
              0.1111111111111111,
              "#46039f"
             ],
             [
              0.2222222222222222,
              "#7201a8"
             ],
             [
              0.3333333333333333,
              "#9c179e"
             ],
             [
              0.4444444444444444,
              "#bd3786"
             ],
             [
              0.5555555555555556,
              "#d8576b"
             ],
             [
              0.6666666666666666,
              "#ed7953"
             ],
             [
              0.7777777777777778,
              "#fb9f3a"
             ],
             [
              0.8888888888888888,
              "#fdca26"
             ],
             [
              1,
              "#f0f921"
             ]
            ],
            "type": "heatmapgl"
           }
          ],
          "histogram": [
           {
            "marker": {
             "pattern": {
              "fillmode": "overlay",
              "size": 10,
              "solidity": 0.2
             }
            },
            "type": "histogram"
           }
          ],
          "histogram2d": [
           {
            "colorbar": {
             "outlinewidth": 0,
             "ticks": ""
            },
            "colorscale": [
             [
              0,
              "#0d0887"
             ],
             [
              0.1111111111111111,
              "#46039f"
             ],
             [
              0.2222222222222222,
              "#7201a8"
             ],
             [
              0.3333333333333333,
              "#9c179e"
             ],
             [
              0.4444444444444444,
              "#bd3786"
             ],
             [
              0.5555555555555556,
              "#d8576b"
             ],
             [
              0.6666666666666666,
              "#ed7953"
             ],
             [
              0.7777777777777778,
              "#fb9f3a"
             ],
             [
              0.8888888888888888,
              "#fdca26"
             ],
             [
              1,
              "#f0f921"
             ]
            ],
            "type": "histogram2d"
           }
          ],
          "histogram2dcontour": [
           {
            "colorbar": {
             "outlinewidth": 0,
             "ticks": ""
            },
            "colorscale": [
             [
              0,
              "#0d0887"
             ],
             [
              0.1111111111111111,
              "#46039f"
             ],
             [
              0.2222222222222222,
              "#7201a8"
             ],
             [
              0.3333333333333333,
              "#9c179e"
             ],
             [
              0.4444444444444444,
              "#bd3786"
             ],
             [
              0.5555555555555556,
              "#d8576b"
             ],
             [
              0.6666666666666666,
              "#ed7953"
             ],
             [
              0.7777777777777778,
              "#fb9f3a"
             ],
             [
              0.8888888888888888,
              "#fdca26"
             ],
             [
              1,
              "#f0f921"
             ]
            ],
            "type": "histogram2dcontour"
           }
          ],
          "mesh3d": [
           {
            "colorbar": {
             "outlinewidth": 0,
             "ticks": ""
            },
            "type": "mesh3d"
           }
          ],
          "parcoords": [
           {
            "line": {
             "colorbar": {
              "outlinewidth": 0,
              "ticks": ""
             }
            },
            "type": "parcoords"
           }
          ],
          "pie": [
           {
            "automargin": true,
            "type": "pie"
           }
          ],
          "scatter": [
           {
            "fillpattern": {
             "fillmode": "overlay",
             "size": 10,
             "solidity": 0.2
            },
            "type": "scatter"
           }
          ],
          "scatter3d": [
           {
            "line": {
             "colorbar": {
              "outlinewidth": 0,
              "ticks": ""
             }
            },
            "marker": {
             "colorbar": {
              "outlinewidth": 0,
              "ticks": ""
             }
            },
            "type": "scatter3d"
           }
          ],
          "scattercarpet": [
           {
            "marker": {
             "colorbar": {
              "outlinewidth": 0,
              "ticks": ""
             }
            },
            "type": "scattercarpet"
           }
          ],
          "scattergeo": [
           {
            "marker": {
             "colorbar": {
              "outlinewidth": 0,
              "ticks": ""
             }
            },
            "type": "scattergeo"
           }
          ],
          "scattergl": [
           {
            "marker": {
             "colorbar": {
              "outlinewidth": 0,
              "ticks": ""
             }
            },
            "type": "scattergl"
           }
          ],
          "scattermapbox": [
           {
            "marker": {
             "colorbar": {
              "outlinewidth": 0,
              "ticks": ""
             }
            },
            "type": "scattermapbox"
           }
          ],
          "scatterpolar": [
           {
            "marker": {
             "colorbar": {
              "outlinewidth": 0,
              "ticks": ""
             }
            },
            "type": "scatterpolar"
           }
          ],
          "scatterpolargl": [
           {
            "marker": {
             "colorbar": {
              "outlinewidth": 0,
              "ticks": ""
             }
            },
            "type": "scatterpolargl"
           }
          ],
          "scatterternary": [
           {
            "marker": {
             "colorbar": {
              "outlinewidth": 0,
              "ticks": ""
             }
            },
            "type": "scatterternary"
           }
          ],
          "surface": [
           {
            "colorbar": {
             "outlinewidth": 0,
             "ticks": ""
            },
            "colorscale": [
             [
              0,
              "#0d0887"
             ],
             [
              0.1111111111111111,
              "#46039f"
             ],
             [
              0.2222222222222222,
              "#7201a8"
             ],
             [
              0.3333333333333333,
              "#9c179e"
             ],
             [
              0.4444444444444444,
              "#bd3786"
             ],
             [
              0.5555555555555556,
              "#d8576b"
             ],
             [
              0.6666666666666666,
              "#ed7953"
             ],
             [
              0.7777777777777778,
              "#fb9f3a"
             ],
             [
              0.8888888888888888,
              "#fdca26"
             ],
             [
              1,
              "#f0f921"
             ]
            ],
            "type": "surface"
           }
          ],
          "table": [
           {
            "cells": {
             "fill": {
              "color": "#EBF0F8"
             },
             "line": {
              "color": "white"
             }
            },
            "header": {
             "fill": {
              "color": "#C8D4E3"
             },
             "line": {
              "color": "white"
             }
            },
            "type": "table"
           }
          ]
         },
         "layout": {
          "annotationdefaults": {
           "arrowcolor": "#2a3f5f",
           "arrowhead": 0,
           "arrowwidth": 1
          },
          "autotypenumbers": "strict",
          "coloraxis": {
           "colorbar": {
            "outlinewidth": 0,
            "ticks": ""
           }
          },
          "colorscale": {
           "diverging": [
            [
             0,
             "#8e0152"
            ],
            [
             0.1,
             "#c51b7d"
            ],
            [
             0.2,
             "#de77ae"
            ],
            [
             0.3,
             "#f1b6da"
            ],
            [
             0.4,
             "#fde0ef"
            ],
            [
             0.5,
             "#f7f7f7"
            ],
            [
             0.6,
             "#e6f5d0"
            ],
            [
             0.7,
             "#b8e186"
            ],
            [
             0.8,
             "#7fbc41"
            ],
            [
             0.9,
             "#4d9221"
            ],
            [
             1,
             "#276419"
            ]
           ],
           "sequential": [
            [
             0,
             "#0d0887"
            ],
            [
             0.1111111111111111,
             "#46039f"
            ],
            [
             0.2222222222222222,
             "#7201a8"
            ],
            [
             0.3333333333333333,
             "#9c179e"
            ],
            [
             0.4444444444444444,
             "#bd3786"
            ],
            [
             0.5555555555555556,
             "#d8576b"
            ],
            [
             0.6666666666666666,
             "#ed7953"
            ],
            [
             0.7777777777777778,
             "#fb9f3a"
            ],
            [
             0.8888888888888888,
             "#fdca26"
            ],
            [
             1,
             "#f0f921"
            ]
           ],
           "sequentialminus": [
            [
             0,
             "#0d0887"
            ],
            [
             0.1111111111111111,
             "#46039f"
            ],
            [
             0.2222222222222222,
             "#7201a8"
            ],
            [
             0.3333333333333333,
             "#9c179e"
            ],
            [
             0.4444444444444444,
             "#bd3786"
            ],
            [
             0.5555555555555556,
             "#d8576b"
            ],
            [
             0.6666666666666666,
             "#ed7953"
            ],
            [
             0.7777777777777778,
             "#fb9f3a"
            ],
            [
             0.8888888888888888,
             "#fdca26"
            ],
            [
             1,
             "#f0f921"
            ]
           ]
          },
          "colorway": [
           "#636efa",
           "#EF553B",
           "#00cc96",
           "#ab63fa",
           "#FFA15A",
           "#19d3f3",
           "#FF6692",
           "#B6E880",
           "#FF97FF",
           "#FECB52"
          ],
          "font": {
           "color": "#2a3f5f"
          },
          "geo": {
           "bgcolor": "white",
           "lakecolor": "white",
           "landcolor": "#E5ECF6",
           "showlakes": true,
           "showland": true,
           "subunitcolor": "white"
          },
          "hoverlabel": {
           "align": "left"
          },
          "hovermode": "closest",
          "mapbox": {
           "style": "light"
          },
          "paper_bgcolor": "white",
          "plot_bgcolor": "#E5ECF6",
          "polar": {
           "angularaxis": {
            "gridcolor": "white",
            "linecolor": "white",
            "ticks": ""
           },
           "bgcolor": "#E5ECF6",
           "radialaxis": {
            "gridcolor": "white",
            "linecolor": "white",
            "ticks": ""
           }
          },
          "scene": {
           "xaxis": {
            "backgroundcolor": "#E5ECF6",
            "gridcolor": "white",
            "gridwidth": 2,
            "linecolor": "white",
            "showbackground": true,
            "ticks": "",
            "zerolinecolor": "white"
           },
           "yaxis": {
            "backgroundcolor": "#E5ECF6",
            "gridcolor": "white",
            "gridwidth": 2,
            "linecolor": "white",
            "showbackground": true,
            "ticks": "",
            "zerolinecolor": "white"
           },
           "zaxis": {
            "backgroundcolor": "#E5ECF6",
            "gridcolor": "white",
            "gridwidth": 2,
            "linecolor": "white",
            "showbackground": true,
            "ticks": "",
            "zerolinecolor": "white"
           }
          },
          "shapedefaults": {
           "line": {
            "color": "#2a3f5f"
           }
          },
          "ternary": {
           "aaxis": {
            "gridcolor": "white",
            "linecolor": "white",
            "ticks": ""
           },
           "baxis": {
            "gridcolor": "white",
            "linecolor": "white",
            "ticks": ""
           },
           "bgcolor": "#E5ECF6",
           "caxis": {
            "gridcolor": "white",
            "linecolor": "white",
            "ticks": ""
           }
          },
          "title": {
           "x": 0.05
          },
          "xaxis": {
           "automargin": true,
           "gridcolor": "white",
           "linecolor": "white",
           "ticks": "",
           "title": {
            "standoff": 15
           },
           "zerolinecolor": "white",
           "zerolinewidth": 2
          },
          "yaxis": {
           "automargin": true,
           "gridcolor": "white",
           "linecolor": "white",
           "ticks": "",
           "title": {
            "standoff": 15
           },
           "zerolinecolor": "white",
           "zerolinewidth": 2
          }
         }
        },
        "title": {
         "text": "La frequence des mots techniques dans les offres d'emplois"
        },
        "xaxis": {
         "anchor": "y",
         "domain": [
          0,
          1
         ],
         "title": {
          "text": "Requirment of the company"
         }
        },
        "yaxis": {
         "anchor": "x",
         "domain": [
          0,
          1
         ],
         "title": {
          "text": "Count"
         }
        }
       }
      }
     },
     "metadata": {},
     "output_type": "display_data"
    }
   ],
   "source": [
    "import plotly.express as px\n",
    "from collections import Counter\n",
    "\n",
    "# Use Counter to get the count of each element in the lists\n",
    "element_counter = Counter([element for sublist in df_clean['Requirment_of_the_company'] for element in sublist])\n",
    "# Convert the result to a DataFrame for better display\n",
    "element_counter = pd.DataFrame(list(element_counter.items()), columns=['Requirment of the company', 'Count'])\n",
    "\n",
    "df_requir = element_counter.sort_values(by='Count',ascending=False)\n",
    "\n",
    "fig = px.bar(df_requir.head(30), x='Requirment of the company', y='Count',color='Count',title=\"La frequence des mots techniques dans les offres d'emplois\")\n",
    "fig.show()"
   ]
  },
  {
   "cell_type": "code",
   "execution_count": 288,
   "metadata": {},
   "outputs": [
    {
     "data": {
      "application/vnd.plotly.v1+json": {
       "config": {
        "plotlyServerURL": "https://plot.ly"
       },
       "data": [
        {
         "hovertemplate": "Country=%{x}<br>Sum of salaries=%{y}<extra></extra>",
         "legendgroup": "",
         "line": {
          "color": "#636efa",
          "dash": "solid"
         },
         "marker": {
          "symbol": "circle"
         },
         "mode": "lines+markers",
         "name": "",
         "orientation": "v",
         "showlegend": false,
         "type": "scatter",
         "x": [
          "United States",
          "United Kingdom",
          "India",
          "Worldwide",
          "Canada",
          "France",
          "Germany",
          "Argentina",
          "Australia",
          "Portugal",
          "Poland",
          "Brazil",
          "Mexico",
          "Spain",
          "South Africa"
         ],
         "xaxis": "x",
         "y": [
          97964000,
          19447404,
          18924000,
          15724899,
          11330000,
          8793360,
          7680318,
          7428000,
          4637000,
          3653000,
          3556000,
          2940000,
          2660000,
          2590808,
          2338000
         ],
         "yaxis": "y"
        }
       ],
       "layout": {
        "legend": {
         "tracegroupgap": 0
        },
        "template": {
         "data": {
          "bar": [
           {
            "error_x": {
             "color": "#2a3f5f"
            },
            "error_y": {
             "color": "#2a3f5f"
            },
            "marker": {
             "line": {
              "color": "#E5ECF6",
              "width": 0.5
             },
             "pattern": {
              "fillmode": "overlay",
              "size": 10,
              "solidity": 0.2
             }
            },
            "type": "bar"
           }
          ],
          "barpolar": [
           {
            "marker": {
             "line": {
              "color": "#E5ECF6",
              "width": 0.5
             },
             "pattern": {
              "fillmode": "overlay",
              "size": 10,
              "solidity": 0.2
             }
            },
            "type": "barpolar"
           }
          ],
          "carpet": [
           {
            "aaxis": {
             "endlinecolor": "#2a3f5f",
             "gridcolor": "white",
             "linecolor": "white",
             "minorgridcolor": "white",
             "startlinecolor": "#2a3f5f"
            },
            "baxis": {
             "endlinecolor": "#2a3f5f",
             "gridcolor": "white",
             "linecolor": "white",
             "minorgridcolor": "white",
             "startlinecolor": "#2a3f5f"
            },
            "type": "carpet"
           }
          ],
          "choropleth": [
           {
            "colorbar": {
             "outlinewidth": 0,
             "ticks": ""
            },
            "type": "choropleth"
           }
          ],
          "contour": [
           {
            "colorbar": {
             "outlinewidth": 0,
             "ticks": ""
            },
            "colorscale": [
             [
              0,
              "#0d0887"
             ],
             [
              0.1111111111111111,
              "#46039f"
             ],
             [
              0.2222222222222222,
              "#7201a8"
             ],
             [
              0.3333333333333333,
              "#9c179e"
             ],
             [
              0.4444444444444444,
              "#bd3786"
             ],
             [
              0.5555555555555556,
              "#d8576b"
             ],
             [
              0.6666666666666666,
              "#ed7953"
             ],
             [
              0.7777777777777778,
              "#fb9f3a"
             ],
             [
              0.8888888888888888,
              "#fdca26"
             ],
             [
              1,
              "#f0f921"
             ]
            ],
            "type": "contour"
           }
          ],
          "contourcarpet": [
           {
            "colorbar": {
             "outlinewidth": 0,
             "ticks": ""
            },
            "type": "contourcarpet"
           }
          ],
          "heatmap": [
           {
            "colorbar": {
             "outlinewidth": 0,
             "ticks": ""
            },
            "colorscale": [
             [
              0,
              "#0d0887"
             ],
             [
              0.1111111111111111,
              "#46039f"
             ],
             [
              0.2222222222222222,
              "#7201a8"
             ],
             [
              0.3333333333333333,
              "#9c179e"
             ],
             [
              0.4444444444444444,
              "#bd3786"
             ],
             [
              0.5555555555555556,
              "#d8576b"
             ],
             [
              0.6666666666666666,
              "#ed7953"
             ],
             [
              0.7777777777777778,
              "#fb9f3a"
             ],
             [
              0.8888888888888888,
              "#fdca26"
             ],
             [
              1,
              "#f0f921"
             ]
            ],
            "type": "heatmap"
           }
          ],
          "heatmapgl": [
           {
            "colorbar": {
             "outlinewidth": 0,
             "ticks": ""
            },
            "colorscale": [
             [
              0,
              "#0d0887"
             ],
             [
              0.1111111111111111,
              "#46039f"
             ],
             [
              0.2222222222222222,
              "#7201a8"
             ],
             [
              0.3333333333333333,
              "#9c179e"
             ],
             [
              0.4444444444444444,
              "#bd3786"
             ],
             [
              0.5555555555555556,
              "#d8576b"
             ],
             [
              0.6666666666666666,
              "#ed7953"
             ],
             [
              0.7777777777777778,
              "#fb9f3a"
             ],
             [
              0.8888888888888888,
              "#fdca26"
             ],
             [
              1,
              "#f0f921"
             ]
            ],
            "type": "heatmapgl"
           }
          ],
          "histogram": [
           {
            "marker": {
             "pattern": {
              "fillmode": "overlay",
              "size": 10,
              "solidity": 0.2
             }
            },
            "type": "histogram"
           }
          ],
          "histogram2d": [
           {
            "colorbar": {
             "outlinewidth": 0,
             "ticks": ""
            },
            "colorscale": [
             [
              0,
              "#0d0887"
             ],
             [
              0.1111111111111111,
              "#46039f"
             ],
             [
              0.2222222222222222,
              "#7201a8"
             ],
             [
              0.3333333333333333,
              "#9c179e"
             ],
             [
              0.4444444444444444,
              "#bd3786"
             ],
             [
              0.5555555555555556,
              "#d8576b"
             ],
             [
              0.6666666666666666,
              "#ed7953"
             ],
             [
              0.7777777777777778,
              "#fb9f3a"
             ],
             [
              0.8888888888888888,
              "#fdca26"
             ],
             [
              1,
              "#f0f921"
             ]
            ],
            "type": "histogram2d"
           }
          ],
          "histogram2dcontour": [
           {
            "colorbar": {
             "outlinewidth": 0,
             "ticks": ""
            },
            "colorscale": [
             [
              0,
              "#0d0887"
             ],
             [
              0.1111111111111111,
              "#46039f"
             ],
             [
              0.2222222222222222,
              "#7201a8"
             ],
             [
              0.3333333333333333,
              "#9c179e"
             ],
             [
              0.4444444444444444,
              "#bd3786"
             ],
             [
              0.5555555555555556,
              "#d8576b"
             ],
             [
              0.6666666666666666,
              "#ed7953"
             ],
             [
              0.7777777777777778,
              "#fb9f3a"
             ],
             [
              0.8888888888888888,
              "#fdca26"
             ],
             [
              1,
              "#f0f921"
             ]
            ],
            "type": "histogram2dcontour"
           }
          ],
          "mesh3d": [
           {
            "colorbar": {
             "outlinewidth": 0,
             "ticks": ""
            },
            "type": "mesh3d"
           }
          ],
          "parcoords": [
           {
            "line": {
             "colorbar": {
              "outlinewidth": 0,
              "ticks": ""
             }
            },
            "type": "parcoords"
           }
          ],
          "pie": [
           {
            "automargin": true,
            "type": "pie"
           }
          ],
          "scatter": [
           {
            "fillpattern": {
             "fillmode": "overlay",
             "size": 10,
             "solidity": 0.2
            },
            "type": "scatter"
           }
          ],
          "scatter3d": [
           {
            "line": {
             "colorbar": {
              "outlinewidth": 0,
              "ticks": ""
             }
            },
            "marker": {
             "colorbar": {
              "outlinewidth": 0,
              "ticks": ""
             }
            },
            "type": "scatter3d"
           }
          ],
          "scattercarpet": [
           {
            "marker": {
             "colorbar": {
              "outlinewidth": 0,
              "ticks": ""
             }
            },
            "type": "scattercarpet"
           }
          ],
          "scattergeo": [
           {
            "marker": {
             "colorbar": {
              "outlinewidth": 0,
              "ticks": ""
             }
            },
            "type": "scattergeo"
           }
          ],
          "scattergl": [
           {
            "marker": {
             "colorbar": {
              "outlinewidth": 0,
              "ticks": ""
             }
            },
            "type": "scattergl"
           }
          ],
          "scattermapbox": [
           {
            "marker": {
             "colorbar": {
              "outlinewidth": 0,
              "ticks": ""
             }
            },
            "type": "scattermapbox"
           }
          ],
          "scatterpolar": [
           {
            "marker": {
             "colorbar": {
              "outlinewidth": 0,
              "ticks": ""
             }
            },
            "type": "scatterpolar"
           }
          ],
          "scatterpolargl": [
           {
            "marker": {
             "colorbar": {
              "outlinewidth": 0,
              "ticks": ""
             }
            },
            "type": "scatterpolargl"
           }
          ],
          "scatterternary": [
           {
            "marker": {
             "colorbar": {
              "outlinewidth": 0,
              "ticks": ""
             }
            },
            "type": "scatterternary"
           }
          ],
          "surface": [
           {
            "colorbar": {
             "outlinewidth": 0,
             "ticks": ""
            },
            "colorscale": [
             [
              0,
              "#0d0887"
             ],
             [
              0.1111111111111111,
              "#46039f"
             ],
             [
              0.2222222222222222,
              "#7201a8"
             ],
             [
              0.3333333333333333,
              "#9c179e"
             ],
             [
              0.4444444444444444,
              "#bd3786"
             ],
             [
              0.5555555555555556,
              "#d8576b"
             ],
             [
              0.6666666666666666,
              "#ed7953"
             ],
             [
              0.7777777777777778,
              "#fb9f3a"
             ],
             [
              0.8888888888888888,
              "#fdca26"
             ],
             [
              1,
              "#f0f921"
             ]
            ],
            "type": "surface"
           }
          ],
          "table": [
           {
            "cells": {
             "fill": {
              "color": "#EBF0F8"
             },
             "line": {
              "color": "white"
             }
            },
            "header": {
             "fill": {
              "color": "#C8D4E3"
             },
             "line": {
              "color": "white"
             }
            },
            "type": "table"
           }
          ]
         },
         "layout": {
          "annotationdefaults": {
           "arrowcolor": "#2a3f5f",
           "arrowhead": 0,
           "arrowwidth": 1
          },
          "autotypenumbers": "strict",
          "coloraxis": {
           "colorbar": {
            "outlinewidth": 0,
            "ticks": ""
           }
          },
          "colorscale": {
           "diverging": [
            [
             0,
             "#8e0152"
            ],
            [
             0.1,
             "#c51b7d"
            ],
            [
             0.2,
             "#de77ae"
            ],
            [
             0.3,
             "#f1b6da"
            ],
            [
             0.4,
             "#fde0ef"
            ],
            [
             0.5,
             "#f7f7f7"
            ],
            [
             0.6,
             "#e6f5d0"
            ],
            [
             0.7,
             "#b8e186"
            ],
            [
             0.8,
             "#7fbc41"
            ],
            [
             0.9,
             "#4d9221"
            ],
            [
             1,
             "#276419"
            ]
           ],
           "sequential": [
            [
             0,
             "#0d0887"
            ],
            [
             0.1111111111111111,
             "#46039f"
            ],
            [
             0.2222222222222222,
             "#7201a8"
            ],
            [
             0.3333333333333333,
             "#9c179e"
            ],
            [
             0.4444444444444444,
             "#bd3786"
            ],
            [
             0.5555555555555556,
             "#d8576b"
            ],
            [
             0.6666666666666666,
             "#ed7953"
            ],
            [
             0.7777777777777778,
             "#fb9f3a"
            ],
            [
             0.8888888888888888,
             "#fdca26"
            ],
            [
             1,
             "#f0f921"
            ]
           ],
           "sequentialminus": [
            [
             0,
             "#0d0887"
            ],
            [
             0.1111111111111111,
             "#46039f"
            ],
            [
             0.2222222222222222,
             "#7201a8"
            ],
            [
             0.3333333333333333,
             "#9c179e"
            ],
            [
             0.4444444444444444,
             "#bd3786"
            ],
            [
             0.5555555555555556,
             "#d8576b"
            ],
            [
             0.6666666666666666,
             "#ed7953"
            ],
            [
             0.7777777777777778,
             "#fb9f3a"
            ],
            [
             0.8888888888888888,
             "#fdca26"
            ],
            [
             1,
             "#f0f921"
            ]
           ]
          },
          "colorway": [
           "#636efa",
           "#EF553B",
           "#00cc96",
           "#ab63fa",
           "#FFA15A",
           "#19d3f3",
           "#FF6692",
           "#B6E880",
           "#FF97FF",
           "#FECB52"
          ],
          "font": {
           "color": "#2a3f5f"
          },
          "geo": {
           "bgcolor": "white",
           "lakecolor": "white",
           "landcolor": "#E5ECF6",
           "showlakes": true,
           "showland": true,
           "subunitcolor": "white"
          },
          "hoverlabel": {
           "align": "left"
          },
          "hovermode": "closest",
          "mapbox": {
           "style": "light"
          },
          "paper_bgcolor": "white",
          "plot_bgcolor": "#E5ECF6",
          "polar": {
           "angularaxis": {
            "gridcolor": "white",
            "linecolor": "white",
            "ticks": ""
           },
           "bgcolor": "#E5ECF6",
           "radialaxis": {
            "gridcolor": "white",
            "linecolor": "white",
            "ticks": ""
           }
          },
          "scene": {
           "xaxis": {
            "backgroundcolor": "#E5ECF6",
            "gridcolor": "white",
            "gridwidth": 2,
            "linecolor": "white",
            "showbackground": true,
            "ticks": "",
            "zerolinecolor": "white"
           },
           "yaxis": {
            "backgroundcolor": "#E5ECF6",
            "gridcolor": "white",
            "gridwidth": 2,
            "linecolor": "white",
            "showbackground": true,
            "ticks": "",
            "zerolinecolor": "white"
           },
           "zaxis": {
            "backgroundcolor": "#E5ECF6",
            "gridcolor": "white",
            "gridwidth": 2,
            "linecolor": "white",
            "showbackground": true,
            "ticks": "",
            "zerolinecolor": "white"
           }
          },
          "shapedefaults": {
           "line": {
            "color": "#2a3f5f"
           }
          },
          "ternary": {
           "aaxis": {
            "gridcolor": "white",
            "linecolor": "white",
            "ticks": ""
           },
           "baxis": {
            "gridcolor": "white",
            "linecolor": "white",
            "ticks": ""
           },
           "bgcolor": "#E5ECF6",
           "caxis": {
            "gridcolor": "white",
            "linecolor": "white",
            "ticks": ""
           }
          },
          "title": {
           "x": 0.05
          },
          "xaxis": {
           "automargin": true,
           "gridcolor": "white",
           "linecolor": "white",
           "ticks": "",
           "title": {
            "standoff": 15
           },
           "zerolinecolor": "white",
           "zerolinewidth": 2
          },
          "yaxis": {
           "automargin": true,
           "gridcolor": "white",
           "linecolor": "white",
           "ticks": "",
           "title": {
            "standoff": 15
           },
           "zerolinecolor": "white",
           "zerolinewidth": 2
          }
         }
        },
        "title": {
         "text": "La somme des salaires par pays"
        },
        "xaxis": {
         "anchor": "y",
         "domain": [
          0,
          1
         ],
         "title": {
          "text": "Country"
         }
        },
        "yaxis": {
         "anchor": "x",
         "domain": [
          0,
          1
         ],
         "title": {
          "text": "Sum of salaries"
         }
        }
       }
      }
     },
     "metadata": {},
     "output_type": "display_data"
    }
   ],
   "source": [
    "import plotly.express as px\n",
    "\n",
    "countries = df_clean.groupby(by='Country')['Min_Salary_Year'].sum()\n",
    "\n",
    "country_salary = countries.sort_values(ascending=False).reset_index(name='Sum of salaries')\n",
    "\n",
    "fig = px.line(country_salary.head(15), x='Country', y='Sum of salaries',markers=True,title=\"La somme des salaires par pays\")\n",
    "fig.show()"
   ]
  },
  {
   "cell_type": "code",
   "execution_count": 289,
   "metadata": {},
   "outputs": [
    {
     "data": {
      "application/vnd.plotly.v1+json": {
       "config": {
        "plotlyServerURL": "https://plot.ly"
       },
       "data": [
        {
         "hovertemplate": "Country=%{x}<br>Mean of salaries=%{y}<extra></extra>",
         "legendgroup": "",
         "line": {
          "color": "#636efa",
          "dash": "solid"
         },
         "marker": {
          "symbol": "circle"
         },
         "mode": "lines+markers",
         "name": "",
         "orientation": "v",
         "showlegend": false,
         "type": "scatter",
         "x": [
          "Argentina",
          "România",
          "Slovakia",
          "Deutschland",
          "Czech Republic",
          "United States",
          "Worldwide",
          "Ireland",
          "Norway",
          "Austria"
         ],
         "xaxis": "x",
         "y": [
          135054.54545454544,
          129000,
          129000,
          115222.22222222222,
          106666.66666666667,
          106136.511375948,
          102777.11764705883,
          100000,
          99666.66666666667,
          97333.33333333333
         ],
         "yaxis": "y"
        }
       ],
       "layout": {
        "legend": {
         "tracegroupgap": 0
        },
        "template": {
         "data": {
          "bar": [
           {
            "error_x": {
             "color": "#2a3f5f"
            },
            "error_y": {
             "color": "#2a3f5f"
            },
            "marker": {
             "line": {
              "color": "#E5ECF6",
              "width": 0.5
             },
             "pattern": {
              "fillmode": "overlay",
              "size": 10,
              "solidity": 0.2
             }
            },
            "type": "bar"
           }
          ],
          "barpolar": [
           {
            "marker": {
             "line": {
              "color": "#E5ECF6",
              "width": 0.5
             },
             "pattern": {
              "fillmode": "overlay",
              "size": 10,
              "solidity": 0.2
             }
            },
            "type": "barpolar"
           }
          ],
          "carpet": [
           {
            "aaxis": {
             "endlinecolor": "#2a3f5f",
             "gridcolor": "white",
             "linecolor": "white",
             "minorgridcolor": "white",
             "startlinecolor": "#2a3f5f"
            },
            "baxis": {
             "endlinecolor": "#2a3f5f",
             "gridcolor": "white",
             "linecolor": "white",
             "minorgridcolor": "white",
             "startlinecolor": "#2a3f5f"
            },
            "type": "carpet"
           }
          ],
          "choropleth": [
           {
            "colorbar": {
             "outlinewidth": 0,
             "ticks": ""
            },
            "type": "choropleth"
           }
          ],
          "contour": [
           {
            "colorbar": {
             "outlinewidth": 0,
             "ticks": ""
            },
            "colorscale": [
             [
              0,
              "#0d0887"
             ],
             [
              0.1111111111111111,
              "#46039f"
             ],
             [
              0.2222222222222222,
              "#7201a8"
             ],
             [
              0.3333333333333333,
              "#9c179e"
             ],
             [
              0.4444444444444444,
              "#bd3786"
             ],
             [
              0.5555555555555556,
              "#d8576b"
             ],
             [
              0.6666666666666666,
              "#ed7953"
             ],
             [
              0.7777777777777778,
              "#fb9f3a"
             ],
             [
              0.8888888888888888,
              "#fdca26"
             ],
             [
              1,
              "#f0f921"
             ]
            ],
            "type": "contour"
           }
          ],
          "contourcarpet": [
           {
            "colorbar": {
             "outlinewidth": 0,
             "ticks": ""
            },
            "type": "contourcarpet"
           }
          ],
          "heatmap": [
           {
            "colorbar": {
             "outlinewidth": 0,
             "ticks": ""
            },
            "colorscale": [
             [
              0,
              "#0d0887"
             ],
             [
              0.1111111111111111,
              "#46039f"
             ],
             [
              0.2222222222222222,
              "#7201a8"
             ],
             [
              0.3333333333333333,
              "#9c179e"
             ],
             [
              0.4444444444444444,
              "#bd3786"
             ],
             [
              0.5555555555555556,
              "#d8576b"
             ],
             [
              0.6666666666666666,
              "#ed7953"
             ],
             [
              0.7777777777777778,
              "#fb9f3a"
             ],
             [
              0.8888888888888888,
              "#fdca26"
             ],
             [
              1,
              "#f0f921"
             ]
            ],
            "type": "heatmap"
           }
          ],
          "heatmapgl": [
           {
            "colorbar": {
             "outlinewidth": 0,
             "ticks": ""
            },
            "colorscale": [
             [
              0,
              "#0d0887"
             ],
             [
              0.1111111111111111,
              "#46039f"
             ],
             [
              0.2222222222222222,
              "#7201a8"
             ],
             [
              0.3333333333333333,
              "#9c179e"
             ],
             [
              0.4444444444444444,
              "#bd3786"
             ],
             [
              0.5555555555555556,
              "#d8576b"
             ],
             [
              0.6666666666666666,
              "#ed7953"
             ],
             [
              0.7777777777777778,
              "#fb9f3a"
             ],
             [
              0.8888888888888888,
              "#fdca26"
             ],
             [
              1,
              "#f0f921"
             ]
            ],
            "type": "heatmapgl"
           }
          ],
          "histogram": [
           {
            "marker": {
             "pattern": {
              "fillmode": "overlay",
              "size": 10,
              "solidity": 0.2
             }
            },
            "type": "histogram"
           }
          ],
          "histogram2d": [
           {
            "colorbar": {
             "outlinewidth": 0,
             "ticks": ""
            },
            "colorscale": [
             [
              0,
              "#0d0887"
             ],
             [
              0.1111111111111111,
              "#46039f"
             ],
             [
              0.2222222222222222,
              "#7201a8"
             ],
             [
              0.3333333333333333,
              "#9c179e"
             ],
             [
              0.4444444444444444,
              "#bd3786"
             ],
             [
              0.5555555555555556,
              "#d8576b"
             ],
             [
              0.6666666666666666,
              "#ed7953"
             ],
             [
              0.7777777777777778,
              "#fb9f3a"
             ],
             [
              0.8888888888888888,
              "#fdca26"
             ],
             [
              1,
              "#f0f921"
             ]
            ],
            "type": "histogram2d"
           }
          ],
          "histogram2dcontour": [
           {
            "colorbar": {
             "outlinewidth": 0,
             "ticks": ""
            },
            "colorscale": [
             [
              0,
              "#0d0887"
             ],
             [
              0.1111111111111111,
              "#46039f"
             ],
             [
              0.2222222222222222,
              "#7201a8"
             ],
             [
              0.3333333333333333,
              "#9c179e"
             ],
             [
              0.4444444444444444,
              "#bd3786"
             ],
             [
              0.5555555555555556,
              "#d8576b"
             ],
             [
              0.6666666666666666,
              "#ed7953"
             ],
             [
              0.7777777777777778,
              "#fb9f3a"
             ],
             [
              0.8888888888888888,
              "#fdca26"
             ],
             [
              1,
              "#f0f921"
             ]
            ],
            "type": "histogram2dcontour"
           }
          ],
          "mesh3d": [
           {
            "colorbar": {
             "outlinewidth": 0,
             "ticks": ""
            },
            "type": "mesh3d"
           }
          ],
          "parcoords": [
           {
            "line": {
             "colorbar": {
              "outlinewidth": 0,
              "ticks": ""
             }
            },
            "type": "parcoords"
           }
          ],
          "pie": [
           {
            "automargin": true,
            "type": "pie"
           }
          ],
          "scatter": [
           {
            "fillpattern": {
             "fillmode": "overlay",
             "size": 10,
             "solidity": 0.2
            },
            "type": "scatter"
           }
          ],
          "scatter3d": [
           {
            "line": {
             "colorbar": {
              "outlinewidth": 0,
              "ticks": ""
             }
            },
            "marker": {
             "colorbar": {
              "outlinewidth": 0,
              "ticks": ""
             }
            },
            "type": "scatter3d"
           }
          ],
          "scattercarpet": [
           {
            "marker": {
             "colorbar": {
              "outlinewidth": 0,
              "ticks": ""
             }
            },
            "type": "scattercarpet"
           }
          ],
          "scattergeo": [
           {
            "marker": {
             "colorbar": {
              "outlinewidth": 0,
              "ticks": ""
             }
            },
            "type": "scattergeo"
           }
          ],
          "scattergl": [
           {
            "marker": {
             "colorbar": {
              "outlinewidth": 0,
              "ticks": ""
             }
            },
            "type": "scattergl"
           }
          ],
          "scattermapbox": [
           {
            "marker": {
             "colorbar": {
              "outlinewidth": 0,
              "ticks": ""
             }
            },
            "type": "scattermapbox"
           }
          ],
          "scatterpolar": [
           {
            "marker": {
             "colorbar": {
              "outlinewidth": 0,
              "ticks": ""
             }
            },
            "type": "scatterpolar"
           }
          ],
          "scatterpolargl": [
           {
            "marker": {
             "colorbar": {
              "outlinewidth": 0,
              "ticks": ""
             }
            },
            "type": "scatterpolargl"
           }
          ],
          "scatterternary": [
           {
            "marker": {
             "colorbar": {
              "outlinewidth": 0,
              "ticks": ""
             }
            },
            "type": "scatterternary"
           }
          ],
          "surface": [
           {
            "colorbar": {
             "outlinewidth": 0,
             "ticks": ""
            },
            "colorscale": [
             [
              0,
              "#0d0887"
             ],
             [
              0.1111111111111111,
              "#46039f"
             ],
             [
              0.2222222222222222,
              "#7201a8"
             ],
             [
              0.3333333333333333,
              "#9c179e"
             ],
             [
              0.4444444444444444,
              "#bd3786"
             ],
             [
              0.5555555555555556,
              "#d8576b"
             ],
             [
              0.6666666666666666,
              "#ed7953"
             ],
             [
              0.7777777777777778,
              "#fb9f3a"
             ],
             [
              0.8888888888888888,
              "#fdca26"
             ],
             [
              1,
              "#f0f921"
             ]
            ],
            "type": "surface"
           }
          ],
          "table": [
           {
            "cells": {
             "fill": {
              "color": "#EBF0F8"
             },
             "line": {
              "color": "white"
             }
            },
            "header": {
             "fill": {
              "color": "#C8D4E3"
             },
             "line": {
              "color": "white"
             }
            },
            "type": "table"
           }
          ]
         },
         "layout": {
          "annotationdefaults": {
           "arrowcolor": "#2a3f5f",
           "arrowhead": 0,
           "arrowwidth": 1
          },
          "autotypenumbers": "strict",
          "coloraxis": {
           "colorbar": {
            "outlinewidth": 0,
            "ticks": ""
           }
          },
          "colorscale": {
           "diverging": [
            [
             0,
             "#8e0152"
            ],
            [
             0.1,
             "#c51b7d"
            ],
            [
             0.2,
             "#de77ae"
            ],
            [
             0.3,
             "#f1b6da"
            ],
            [
             0.4,
             "#fde0ef"
            ],
            [
             0.5,
             "#f7f7f7"
            ],
            [
             0.6,
             "#e6f5d0"
            ],
            [
             0.7,
             "#b8e186"
            ],
            [
             0.8,
             "#7fbc41"
            ],
            [
             0.9,
             "#4d9221"
            ],
            [
             1,
             "#276419"
            ]
           ],
           "sequential": [
            [
             0,
             "#0d0887"
            ],
            [
             0.1111111111111111,
             "#46039f"
            ],
            [
             0.2222222222222222,
             "#7201a8"
            ],
            [
             0.3333333333333333,
             "#9c179e"
            ],
            [
             0.4444444444444444,
             "#bd3786"
            ],
            [
             0.5555555555555556,
             "#d8576b"
            ],
            [
             0.6666666666666666,
             "#ed7953"
            ],
            [
             0.7777777777777778,
             "#fb9f3a"
            ],
            [
             0.8888888888888888,
             "#fdca26"
            ],
            [
             1,
             "#f0f921"
            ]
           ],
           "sequentialminus": [
            [
             0,
             "#0d0887"
            ],
            [
             0.1111111111111111,
             "#46039f"
            ],
            [
             0.2222222222222222,
             "#7201a8"
            ],
            [
             0.3333333333333333,
             "#9c179e"
            ],
            [
             0.4444444444444444,
             "#bd3786"
            ],
            [
             0.5555555555555556,
             "#d8576b"
            ],
            [
             0.6666666666666666,
             "#ed7953"
            ],
            [
             0.7777777777777778,
             "#fb9f3a"
            ],
            [
             0.8888888888888888,
             "#fdca26"
            ],
            [
             1,
             "#f0f921"
            ]
           ]
          },
          "colorway": [
           "#636efa",
           "#EF553B",
           "#00cc96",
           "#ab63fa",
           "#FFA15A",
           "#19d3f3",
           "#FF6692",
           "#B6E880",
           "#FF97FF",
           "#FECB52"
          ],
          "font": {
           "color": "#2a3f5f"
          },
          "geo": {
           "bgcolor": "white",
           "lakecolor": "white",
           "landcolor": "#E5ECF6",
           "showlakes": true,
           "showland": true,
           "subunitcolor": "white"
          },
          "hoverlabel": {
           "align": "left"
          },
          "hovermode": "closest",
          "mapbox": {
           "style": "light"
          },
          "paper_bgcolor": "white",
          "plot_bgcolor": "#E5ECF6",
          "polar": {
           "angularaxis": {
            "gridcolor": "white",
            "linecolor": "white",
            "ticks": ""
           },
           "bgcolor": "#E5ECF6",
           "radialaxis": {
            "gridcolor": "white",
            "linecolor": "white",
            "ticks": ""
           }
          },
          "scene": {
           "xaxis": {
            "backgroundcolor": "#E5ECF6",
            "gridcolor": "white",
            "gridwidth": 2,
            "linecolor": "white",
            "showbackground": true,
            "ticks": "",
            "zerolinecolor": "white"
           },
           "yaxis": {
            "backgroundcolor": "#E5ECF6",
            "gridcolor": "white",
            "gridwidth": 2,
            "linecolor": "white",
            "showbackground": true,
            "ticks": "",
            "zerolinecolor": "white"
           },
           "zaxis": {
            "backgroundcolor": "#E5ECF6",
            "gridcolor": "white",
            "gridwidth": 2,
            "linecolor": "white",
            "showbackground": true,
            "ticks": "",
            "zerolinecolor": "white"
           }
          },
          "shapedefaults": {
           "line": {
            "color": "#2a3f5f"
           }
          },
          "ternary": {
           "aaxis": {
            "gridcolor": "white",
            "linecolor": "white",
            "ticks": ""
           },
           "baxis": {
            "gridcolor": "white",
            "linecolor": "white",
            "ticks": ""
           },
           "bgcolor": "#E5ECF6",
           "caxis": {
            "gridcolor": "white",
            "linecolor": "white",
            "ticks": ""
           }
          },
          "title": {
           "x": 0.05
          },
          "xaxis": {
           "automargin": true,
           "gridcolor": "white",
           "linecolor": "white",
           "ticks": "",
           "title": {
            "standoff": 15
           },
           "zerolinecolor": "white",
           "zerolinewidth": 2
          },
          "yaxis": {
           "automargin": true,
           "gridcolor": "white",
           "linecolor": "white",
           "ticks": "",
           "title": {
            "standoff": 15
           },
           "zerolinecolor": "white",
           "zerolinewidth": 2
          }
         }
        },
        "title": {
         "text": "La moyenne des salaires par pays"
        },
        "xaxis": {
         "anchor": "y",
         "domain": [
          0,
          1
         ],
         "title": {
          "text": "Country"
         }
        },
        "yaxis": {
         "anchor": "x",
         "domain": [
          0,
          1
         ],
         "title": {
          "text": "Mean of salaries"
         }
        }
       }
      }
     },
     "metadata": {},
     "output_type": "display_data"
    }
   ],
   "source": [
    "import plotly.express as px\n",
    "\n",
    "countries = df_clean.groupby(by='Country')['Min_Salary_Year'].mean()\n",
    "\n",
    "country_salary = countries.sort_values(ascending=False).reset_index(name='Mean of salaries')\n",
    "\n",
    "fig = px.line(country_salary.head(10), x='Country', y='Mean of salaries',title=\"La moyenne des salaires par pays\",markers=True)\n",
    "fig.show()"
   ]
  },
  {
   "cell_type": "code",
   "execution_count": 290,
   "metadata": {},
   "outputs": [
    {
     "name": "stderr",
     "output_type": "stream",
     "text": [
      "C:\\Users\\Youcode\\AppData\\Local\\Temp\\ipykernel_21520\\1221286627.py:1: SettingWithCopyWarning:\n",
      "\n",
      "\n",
      "A value is trying to be set on a copy of a slice from a DataFrame.\n",
      "Try using .loc[row_indexer,col_indexer] = value instead\n",
      "\n",
      "See the caveats in the documentation: https://pandas.pydata.org/pandas-docs/stable/user_guide/indexing.html#returning-a-view-versus-a-copy\n",
      "\n"
     ]
    },
    {
     "data": {
      "text/html": [
       "<div>\n",
       "<style scoped>\n",
       "    .dataframe tbody tr th:only-of-type {\n",
       "        vertical-align: middle;\n",
       "    }\n",
       "\n",
       "    .dataframe tbody tr th {\n",
       "        vertical-align: top;\n",
       "    }\n",
       "\n",
       "    .dataframe thead th {\n",
       "        text-align: right;\n",
       "    }\n",
       "</style>\n",
       "<table border=\"1\" class=\"dataframe\">\n",
       "  <thead>\n",
       "    <tr style=\"text-align: right;\">\n",
       "      <th></th>\n",
       "      <th>Domaine</th>\n",
       "      <th>Job_Title</th>\n",
       "      <th>Count</th>\n",
       "    </tr>\n",
       "  </thead>\n",
       "  <tbody>\n",
       "    <tr>\n",
       "      <th>460</th>\n",
       "      <td>Data Science</td>\n",
       "      <td>Data Engineer</td>\n",
       "      <td>102</td>\n",
       "    </tr>\n",
       "    <tr>\n",
       "      <th>664</th>\n",
       "      <td>Data Science</td>\n",
       "      <td>Data Scientist</td>\n",
       "      <td>80</td>\n",
       "    </tr>\n",
       "    <tr>\n",
       "      <th>329</th>\n",
       "      <td>Data Science</td>\n",
       "      <td>Data Analyst</td>\n",
       "      <td>77</td>\n",
       "    </tr>\n",
       "    <tr>\n",
       "      <th>1496</th>\n",
       "      <td>Data Science</td>\n",
       "      <td>Senior Data Engineer</td>\n",
       "      <td>63</td>\n",
       "    </tr>\n",
       "    <tr>\n",
       "      <th>1462</th>\n",
       "      <td>Data Science</td>\n",
       "      <td>Senior Data Analyst</td>\n",
       "      <td>36</td>\n",
       "    </tr>\n",
       "  </tbody>\n",
       "</table>\n",
       "</div>"
      ],
      "text/plain": [
       "           Domaine             Job_Title  Count\n",
       "460   Data Science         Data Engineer    102\n",
       "664   Data Science        Data Scientist     80\n",
       "329   Data Science          Data Analyst     77\n",
       "1496  Data Science  Senior Data Engineer     63\n",
       "1462  Data Science   Senior Data Analyst     36"
      ]
     },
     "execution_count": 290,
     "metadata": {},
     "output_type": "execute_result"
    }
   ],
   "source": [
    "df_ds.loc[:, 'Domaine'] = 'Data Science'\n",
    "Domaine = df_ds.pop('Domaine')\n",
    "df_ds.insert(0, 'Domaine', Domaine)\n",
    "df_ds.head(5)"
   ]
  },
  {
   "cell_type": "code",
   "execution_count": 291,
   "metadata": {},
   "outputs": [
    {
     "name": "stderr",
     "output_type": "stream",
     "text": [
      "C:\\Users\\Youcode\\AppData\\Local\\Temp\\ipykernel_21520\\1711978492.py:1: SettingWithCopyWarning:\n",
      "\n",
      "\n",
      "A value is trying to be set on a copy of a slice from a DataFrame.\n",
      "Try using .loc[row_indexer,col_indexer] = value instead\n",
      "\n",
      "See the caveats in the documentation: https://pandas.pydata.org/pandas-docs/stable/user_guide/indexing.html#returning-a-view-versus-a-copy\n",
      "\n"
     ]
    },
    {
     "data": {
      "text/html": [
       "<div>\n",
       "<style scoped>\n",
       "    .dataframe tbody tr th:only-of-type {\n",
       "        vertical-align: middle;\n",
       "    }\n",
       "\n",
       "    .dataframe tbody tr th {\n",
       "        vertical-align: top;\n",
       "    }\n",
       "\n",
       "    .dataframe thead th {\n",
       "        text-align: right;\n",
       "    }\n",
       "</style>\n",
       "<table border=\"1\" class=\"dataframe\">\n",
       "  <thead>\n",
       "    <tr style=\"text-align: right;\">\n",
       "      <th></th>\n",
       "      <th>Domaine</th>\n",
       "      <th>Job_Title</th>\n",
       "      <th>Count</th>\n",
       "    </tr>\n",
       "  </thead>\n",
       "  <tbody>\n",
       "    <tr>\n",
       "      <th>167</th>\n",
       "      <td>Big Data</td>\n",
       "      <td>Big Data Engineer</td>\n",
       "      <td>4</td>\n",
       "    </tr>\n",
       "    <tr>\n",
       "      <th>1434</th>\n",
       "      <td>Big Data</td>\n",
       "      <td>Senior Big Data Engineer</td>\n",
       "      <td>3</td>\n",
       "    </tr>\n",
       "    <tr>\n",
       "      <th>1371</th>\n",
       "      <td>Big Data</td>\n",
       "      <td>SW Engineer: Big Data/Risk Systems, Sr. Consul...</td>\n",
       "      <td>1</td>\n",
       "    </tr>\n",
       "    <tr>\n",
       "      <th>1435</th>\n",
       "      <td>Big Data</td>\n",
       "      <td>Senior Big Data Engineer  CIB</td>\n",
       "      <td>1</td>\n",
       "    </tr>\n",
       "    <tr>\n",
       "      <th>1432</th>\n",
       "      <td>Big Data</td>\n",
       "      <td>Senior Backend Software Engineer- Big Data Ana...</td>\n",
       "      <td>1</td>\n",
       "    </tr>\n",
       "  </tbody>\n",
       "</table>\n",
       "</div>"
      ],
      "text/plain": [
       "       Domaine                                          Job_Title  Count\n",
       "167   Big Data                                  Big Data Engineer      4\n",
       "1434  Big Data                           Senior Big Data Engineer      3\n",
       "1371  Big Data  SW Engineer: Big Data/Risk Systems, Sr. Consul...      1\n",
       "1435  Big Data                     Senior Big Data Engineer  CIB      1\n",
       "1432  Big Data  Senior Backend Software Engineer- Big Data Ana...      1"
      ]
     },
     "execution_count": 291,
     "metadata": {},
     "output_type": "execute_result"
    }
   ],
   "source": [
    "df_bd.loc[:, 'Domaine'] = 'Big Data'\n",
    "Domaine = df_bd.pop('Domaine')\n",
    "df_bd.insert(0, 'Domaine', Domaine)\n",
    "df_bd.head(5)"
   ]
  },
  {
   "cell_type": "code",
   "execution_count": 292,
   "metadata": {},
   "outputs": [
    {
     "name": "stderr",
     "output_type": "stream",
     "text": [
      "C:\\Users\\Youcode\\AppData\\Local\\Temp\\ipykernel_21520\\4075952307.py:1: SettingWithCopyWarning:\n",
      "\n",
      "\n",
      "A value is trying to be set on a copy of a slice from a DataFrame.\n",
      "Try using .loc[row_indexer,col_indexer] = value instead\n",
      "\n",
      "See the caveats in the documentation: https://pandas.pydata.org/pandas-docs/stable/user_guide/indexing.html#returning-a-view-versus-a-copy\n",
      "\n"
     ]
    },
    {
     "data": {
      "text/html": [
       "<div>\n",
       "<style scoped>\n",
       "    .dataframe tbody tr th:only-of-type {\n",
       "        vertical-align: middle;\n",
       "    }\n",
       "\n",
       "    .dataframe tbody tr th {\n",
       "        vertical-align: top;\n",
       "    }\n",
       "\n",
       "    .dataframe thead th {\n",
       "        text-align: right;\n",
       "    }\n",
       "</style>\n",
       "<table border=\"1\" class=\"dataframe\">\n",
       "  <thead>\n",
       "    <tr style=\"text-align: right;\">\n",
       "      <th></th>\n",
       "      <th>Domaine</th>\n",
       "      <th>Job_Title</th>\n",
       "      <th>Count</th>\n",
       "    </tr>\n",
       "  </thead>\n",
       "  <tbody>\n",
       "    <tr>\n",
       "      <th>1057</th>\n",
       "      <td>Machine Learning (AI)</td>\n",
       "      <td>Machine Learning Engineer</td>\n",
       "      <td>47</td>\n",
       "    </tr>\n",
       "    <tr>\n",
       "      <th>1645</th>\n",
       "      <td>Machine Learning (AI)</td>\n",
       "      <td>Senior Machine Learning Engineer</td>\n",
       "      <td>21</td>\n",
       "    </tr>\n",
       "    <tr>\n",
       "      <th>1676</th>\n",
       "      <td>Machine Learning (AI)</td>\n",
       "      <td>Senior Machine Learning Scientist</td>\n",
       "      <td>5</td>\n",
       "    </tr>\n",
       "    <tr>\n",
       "      <th>1388</th>\n",
       "      <td>Machine Learning (AI)</td>\n",
       "      <td>Senior AI Engineer</td>\n",
       "      <td>4</td>\n",
       "    </tr>\n",
       "    <tr>\n",
       "      <th>1048</th>\n",
       "      <td>Machine Learning (AI)</td>\n",
       "      <td>MLOps Engineer</td>\n",
       "      <td>4</td>\n",
       "    </tr>\n",
       "  </tbody>\n",
       "</table>\n",
       "</div>"
      ],
      "text/plain": [
       "                    Domaine                          Job_Title  Count\n",
       "1057  Machine Learning (AI)          Machine Learning Engineer     47\n",
       "1645  Machine Learning (AI)   Senior Machine Learning Engineer     21\n",
       "1676  Machine Learning (AI)  Senior Machine Learning Scientist      5\n",
       "1388  Machine Learning (AI)                 Senior AI Engineer      4\n",
       "1048  Machine Learning (AI)                     MLOps Engineer      4"
      ]
     },
     "execution_count": 292,
     "metadata": {},
     "output_type": "execute_result"
    }
   ],
   "source": [
    "df_ml.loc[:, 'Domaine'] = 'Machine Learning (AI)'\n",
    "Domaine = df_ml.pop('Domaine')\n",
    "df_ml.insert(0, 'Domaine', Domaine)\n",
    "df_ml.head(5)"
   ]
  },
  {
   "cell_type": "code",
   "execution_count": 293,
   "metadata": {},
   "outputs": [
    {
     "data": {
      "application/vnd.plotly.v1+json": {
       "config": {
        "plotlyServerURL": "https://plot.ly"
       },
       "data": [
        {
         "hovertemplate": "Domaine=Data Science<br>Count=%{marker.size}<br>Job_Title=%{y}<extra></extra>",
         "legendgroup": "Data Science",
         "marker": {
          "color": "#636efa",
          "size": [
           102,
           80,
           77,
           63,
           36
          ],
          "sizemode": "area",
          "sizeref": 0.255,
          "symbol": "circle"
         },
         "mode": "markers",
         "name": "Data Science",
         "orientation": "h",
         "showlegend": true,
         "type": "scatter",
         "x": [
          102,
          80,
          77,
          63,
          36
         ],
         "xaxis": "x",
         "y": [
          "Data Engineer",
          "Data Scientist",
          "Data Analyst",
          "Senior Data Engineer",
          "Senior Data Analyst"
         ],
         "yaxis": "y"
        },
        {
         "hovertemplate": "Domaine=Big Data<br>Count=%{marker.size}<br>Job_Title=%{y}<extra></extra>",
         "legendgroup": "Big Data",
         "marker": {
          "color": "#EF553B",
          "size": [
           4,
           3,
           1,
           1,
           1
          ],
          "sizemode": "area",
          "sizeref": 0.255,
          "symbol": "circle"
         },
         "mode": "markers",
         "name": "Big Data",
         "orientation": "h",
         "showlegend": true,
         "type": "scatter",
         "x": [
          4,
          3,
          1,
          1,
          1
         ],
         "xaxis": "x",
         "y": [
          "Big Data Engineer",
          "Senior Big Data Engineer",
          "SW Engineer: Big Data/Risk Systems, Sr. Consultant Level",
          "Senior Big Data Engineer  CIB",
          "Senior Backend Software Engineer- Big Data Analytics"
         ],
         "yaxis": "y"
        },
        {
         "hovertemplate": "Domaine=Machine Learning (AI)<br>Count=%{marker.size}<br>Job_Title=%{y}<extra></extra>",
         "legendgroup": "Machine Learning (AI)",
         "marker": {
          "color": "#00cc96",
          "size": [
           47,
           21,
           5,
           4,
           4
          ],
          "sizemode": "area",
          "sizeref": 0.255,
          "symbol": "circle"
         },
         "mode": "markers",
         "name": "Machine Learning (AI)",
         "orientation": "h",
         "showlegend": true,
         "type": "scatter",
         "x": [
          47,
          21,
          5,
          4,
          4
         ],
         "xaxis": "x",
         "y": [
          "Machine Learning Engineer",
          "Senior Machine Learning Engineer",
          "Senior Machine Learning Scientist",
          "Senior AI Engineer",
          "MLOps Engineer"
         ],
         "yaxis": "y"
        }
       ],
       "layout": {
        "legend": {
         "itemsizing": "constant",
         "title": {
          "text": "Domaine"
         },
         "tracegroupgap": 0
        },
        "template": {
         "data": {
          "bar": [
           {
            "error_x": {
             "color": "#2a3f5f"
            },
            "error_y": {
             "color": "#2a3f5f"
            },
            "marker": {
             "line": {
              "color": "#E5ECF6",
              "width": 0.5
             },
             "pattern": {
              "fillmode": "overlay",
              "size": 10,
              "solidity": 0.2
             }
            },
            "type": "bar"
           }
          ],
          "barpolar": [
           {
            "marker": {
             "line": {
              "color": "#E5ECF6",
              "width": 0.5
             },
             "pattern": {
              "fillmode": "overlay",
              "size": 10,
              "solidity": 0.2
             }
            },
            "type": "barpolar"
           }
          ],
          "carpet": [
           {
            "aaxis": {
             "endlinecolor": "#2a3f5f",
             "gridcolor": "white",
             "linecolor": "white",
             "minorgridcolor": "white",
             "startlinecolor": "#2a3f5f"
            },
            "baxis": {
             "endlinecolor": "#2a3f5f",
             "gridcolor": "white",
             "linecolor": "white",
             "minorgridcolor": "white",
             "startlinecolor": "#2a3f5f"
            },
            "type": "carpet"
           }
          ],
          "choropleth": [
           {
            "colorbar": {
             "outlinewidth": 0,
             "ticks": ""
            },
            "type": "choropleth"
           }
          ],
          "contour": [
           {
            "colorbar": {
             "outlinewidth": 0,
             "ticks": ""
            },
            "colorscale": [
             [
              0,
              "#0d0887"
             ],
             [
              0.1111111111111111,
              "#46039f"
             ],
             [
              0.2222222222222222,
              "#7201a8"
             ],
             [
              0.3333333333333333,
              "#9c179e"
             ],
             [
              0.4444444444444444,
              "#bd3786"
             ],
             [
              0.5555555555555556,
              "#d8576b"
             ],
             [
              0.6666666666666666,
              "#ed7953"
             ],
             [
              0.7777777777777778,
              "#fb9f3a"
             ],
             [
              0.8888888888888888,
              "#fdca26"
             ],
             [
              1,
              "#f0f921"
             ]
            ],
            "type": "contour"
           }
          ],
          "contourcarpet": [
           {
            "colorbar": {
             "outlinewidth": 0,
             "ticks": ""
            },
            "type": "contourcarpet"
           }
          ],
          "heatmap": [
           {
            "colorbar": {
             "outlinewidth": 0,
             "ticks": ""
            },
            "colorscale": [
             [
              0,
              "#0d0887"
             ],
             [
              0.1111111111111111,
              "#46039f"
             ],
             [
              0.2222222222222222,
              "#7201a8"
             ],
             [
              0.3333333333333333,
              "#9c179e"
             ],
             [
              0.4444444444444444,
              "#bd3786"
             ],
             [
              0.5555555555555556,
              "#d8576b"
             ],
             [
              0.6666666666666666,
              "#ed7953"
             ],
             [
              0.7777777777777778,
              "#fb9f3a"
             ],
             [
              0.8888888888888888,
              "#fdca26"
             ],
             [
              1,
              "#f0f921"
             ]
            ],
            "type": "heatmap"
           }
          ],
          "heatmapgl": [
           {
            "colorbar": {
             "outlinewidth": 0,
             "ticks": ""
            },
            "colorscale": [
             [
              0,
              "#0d0887"
             ],
             [
              0.1111111111111111,
              "#46039f"
             ],
             [
              0.2222222222222222,
              "#7201a8"
             ],
             [
              0.3333333333333333,
              "#9c179e"
             ],
             [
              0.4444444444444444,
              "#bd3786"
             ],
             [
              0.5555555555555556,
              "#d8576b"
             ],
             [
              0.6666666666666666,
              "#ed7953"
             ],
             [
              0.7777777777777778,
              "#fb9f3a"
             ],
             [
              0.8888888888888888,
              "#fdca26"
             ],
             [
              1,
              "#f0f921"
             ]
            ],
            "type": "heatmapgl"
           }
          ],
          "histogram": [
           {
            "marker": {
             "pattern": {
              "fillmode": "overlay",
              "size": 10,
              "solidity": 0.2
             }
            },
            "type": "histogram"
           }
          ],
          "histogram2d": [
           {
            "colorbar": {
             "outlinewidth": 0,
             "ticks": ""
            },
            "colorscale": [
             [
              0,
              "#0d0887"
             ],
             [
              0.1111111111111111,
              "#46039f"
             ],
             [
              0.2222222222222222,
              "#7201a8"
             ],
             [
              0.3333333333333333,
              "#9c179e"
             ],
             [
              0.4444444444444444,
              "#bd3786"
             ],
             [
              0.5555555555555556,
              "#d8576b"
             ],
             [
              0.6666666666666666,
              "#ed7953"
             ],
             [
              0.7777777777777778,
              "#fb9f3a"
             ],
             [
              0.8888888888888888,
              "#fdca26"
             ],
             [
              1,
              "#f0f921"
             ]
            ],
            "type": "histogram2d"
           }
          ],
          "histogram2dcontour": [
           {
            "colorbar": {
             "outlinewidth": 0,
             "ticks": ""
            },
            "colorscale": [
             [
              0,
              "#0d0887"
             ],
             [
              0.1111111111111111,
              "#46039f"
             ],
             [
              0.2222222222222222,
              "#7201a8"
             ],
             [
              0.3333333333333333,
              "#9c179e"
             ],
             [
              0.4444444444444444,
              "#bd3786"
             ],
             [
              0.5555555555555556,
              "#d8576b"
             ],
             [
              0.6666666666666666,
              "#ed7953"
             ],
             [
              0.7777777777777778,
              "#fb9f3a"
             ],
             [
              0.8888888888888888,
              "#fdca26"
             ],
             [
              1,
              "#f0f921"
             ]
            ],
            "type": "histogram2dcontour"
           }
          ],
          "mesh3d": [
           {
            "colorbar": {
             "outlinewidth": 0,
             "ticks": ""
            },
            "type": "mesh3d"
           }
          ],
          "parcoords": [
           {
            "line": {
             "colorbar": {
              "outlinewidth": 0,
              "ticks": ""
             }
            },
            "type": "parcoords"
           }
          ],
          "pie": [
           {
            "automargin": true,
            "type": "pie"
           }
          ],
          "scatter": [
           {
            "fillpattern": {
             "fillmode": "overlay",
             "size": 10,
             "solidity": 0.2
            },
            "type": "scatter"
           }
          ],
          "scatter3d": [
           {
            "line": {
             "colorbar": {
              "outlinewidth": 0,
              "ticks": ""
             }
            },
            "marker": {
             "colorbar": {
              "outlinewidth": 0,
              "ticks": ""
             }
            },
            "type": "scatter3d"
           }
          ],
          "scattercarpet": [
           {
            "marker": {
             "colorbar": {
              "outlinewidth": 0,
              "ticks": ""
             }
            },
            "type": "scattercarpet"
           }
          ],
          "scattergeo": [
           {
            "marker": {
             "colorbar": {
              "outlinewidth": 0,
              "ticks": ""
             }
            },
            "type": "scattergeo"
           }
          ],
          "scattergl": [
           {
            "marker": {
             "colorbar": {
              "outlinewidth": 0,
              "ticks": ""
             }
            },
            "type": "scattergl"
           }
          ],
          "scattermapbox": [
           {
            "marker": {
             "colorbar": {
              "outlinewidth": 0,
              "ticks": ""
             }
            },
            "type": "scattermapbox"
           }
          ],
          "scatterpolar": [
           {
            "marker": {
             "colorbar": {
              "outlinewidth": 0,
              "ticks": ""
             }
            },
            "type": "scatterpolar"
           }
          ],
          "scatterpolargl": [
           {
            "marker": {
             "colorbar": {
              "outlinewidth": 0,
              "ticks": ""
             }
            },
            "type": "scatterpolargl"
           }
          ],
          "scatterternary": [
           {
            "marker": {
             "colorbar": {
              "outlinewidth": 0,
              "ticks": ""
             }
            },
            "type": "scatterternary"
           }
          ],
          "surface": [
           {
            "colorbar": {
             "outlinewidth": 0,
             "ticks": ""
            },
            "colorscale": [
             [
              0,
              "#0d0887"
             ],
             [
              0.1111111111111111,
              "#46039f"
             ],
             [
              0.2222222222222222,
              "#7201a8"
             ],
             [
              0.3333333333333333,
              "#9c179e"
             ],
             [
              0.4444444444444444,
              "#bd3786"
             ],
             [
              0.5555555555555556,
              "#d8576b"
             ],
             [
              0.6666666666666666,
              "#ed7953"
             ],
             [
              0.7777777777777778,
              "#fb9f3a"
             ],
             [
              0.8888888888888888,
              "#fdca26"
             ],
             [
              1,
              "#f0f921"
             ]
            ],
            "type": "surface"
           }
          ],
          "table": [
           {
            "cells": {
             "fill": {
              "color": "#EBF0F8"
             },
             "line": {
              "color": "white"
             }
            },
            "header": {
             "fill": {
              "color": "#C8D4E3"
             },
             "line": {
              "color": "white"
             }
            },
            "type": "table"
           }
          ]
         },
         "layout": {
          "annotationdefaults": {
           "arrowcolor": "#2a3f5f",
           "arrowhead": 0,
           "arrowwidth": 1
          },
          "autotypenumbers": "strict",
          "coloraxis": {
           "colorbar": {
            "outlinewidth": 0,
            "ticks": ""
           }
          },
          "colorscale": {
           "diverging": [
            [
             0,
             "#8e0152"
            ],
            [
             0.1,
             "#c51b7d"
            ],
            [
             0.2,
             "#de77ae"
            ],
            [
             0.3,
             "#f1b6da"
            ],
            [
             0.4,
             "#fde0ef"
            ],
            [
             0.5,
             "#f7f7f7"
            ],
            [
             0.6,
             "#e6f5d0"
            ],
            [
             0.7,
             "#b8e186"
            ],
            [
             0.8,
             "#7fbc41"
            ],
            [
             0.9,
             "#4d9221"
            ],
            [
             1,
             "#276419"
            ]
           ],
           "sequential": [
            [
             0,
             "#0d0887"
            ],
            [
             0.1111111111111111,
             "#46039f"
            ],
            [
             0.2222222222222222,
             "#7201a8"
            ],
            [
             0.3333333333333333,
             "#9c179e"
            ],
            [
             0.4444444444444444,
             "#bd3786"
            ],
            [
             0.5555555555555556,
             "#d8576b"
            ],
            [
             0.6666666666666666,
             "#ed7953"
            ],
            [
             0.7777777777777778,
             "#fb9f3a"
            ],
            [
             0.8888888888888888,
             "#fdca26"
            ],
            [
             1,
             "#f0f921"
            ]
           ],
           "sequentialminus": [
            [
             0,
             "#0d0887"
            ],
            [
             0.1111111111111111,
             "#46039f"
            ],
            [
             0.2222222222222222,
             "#7201a8"
            ],
            [
             0.3333333333333333,
             "#9c179e"
            ],
            [
             0.4444444444444444,
             "#bd3786"
            ],
            [
             0.5555555555555556,
             "#d8576b"
            ],
            [
             0.6666666666666666,
             "#ed7953"
            ],
            [
             0.7777777777777778,
             "#fb9f3a"
            ],
            [
             0.8888888888888888,
             "#fdca26"
            ],
            [
             1,
             "#f0f921"
            ]
           ]
          },
          "colorway": [
           "#636efa",
           "#EF553B",
           "#00cc96",
           "#ab63fa",
           "#FFA15A",
           "#19d3f3",
           "#FF6692",
           "#B6E880",
           "#FF97FF",
           "#FECB52"
          ],
          "font": {
           "color": "#2a3f5f"
          },
          "geo": {
           "bgcolor": "white",
           "lakecolor": "white",
           "landcolor": "#E5ECF6",
           "showlakes": true,
           "showland": true,
           "subunitcolor": "white"
          },
          "hoverlabel": {
           "align": "left"
          },
          "hovermode": "closest",
          "mapbox": {
           "style": "light"
          },
          "paper_bgcolor": "white",
          "plot_bgcolor": "#E5ECF6",
          "polar": {
           "angularaxis": {
            "gridcolor": "white",
            "linecolor": "white",
            "ticks": ""
           },
           "bgcolor": "#E5ECF6",
           "radialaxis": {
            "gridcolor": "white",
            "linecolor": "white",
            "ticks": ""
           }
          },
          "scene": {
           "xaxis": {
            "backgroundcolor": "#E5ECF6",
            "gridcolor": "white",
            "gridwidth": 2,
            "linecolor": "white",
            "showbackground": true,
            "ticks": "",
            "zerolinecolor": "white"
           },
           "yaxis": {
            "backgroundcolor": "#E5ECF6",
            "gridcolor": "white",
            "gridwidth": 2,
            "linecolor": "white",
            "showbackground": true,
            "ticks": "",
            "zerolinecolor": "white"
           },
           "zaxis": {
            "backgroundcolor": "#E5ECF6",
            "gridcolor": "white",
            "gridwidth": 2,
            "linecolor": "white",
            "showbackground": true,
            "ticks": "",
            "zerolinecolor": "white"
           }
          },
          "shapedefaults": {
           "line": {
            "color": "#2a3f5f"
           }
          },
          "ternary": {
           "aaxis": {
            "gridcolor": "white",
            "linecolor": "white",
            "ticks": ""
           },
           "baxis": {
            "gridcolor": "white",
            "linecolor": "white",
            "ticks": ""
           },
           "bgcolor": "#E5ECF6",
           "caxis": {
            "gridcolor": "white",
            "linecolor": "white",
            "ticks": ""
           }
          },
          "title": {
           "x": 0.05
          },
          "xaxis": {
           "automargin": true,
           "gridcolor": "white",
           "linecolor": "white",
           "ticks": "",
           "title": {
            "standoff": 15
           },
           "zerolinecolor": "white",
           "zerolinewidth": 2
          },
          "yaxis": {
           "automargin": true,
           "gridcolor": "white",
           "linecolor": "white",
           "ticks": "",
           "title": {
            "standoff": 15
           },
           "zerolinecolor": "white",
           "zerolinewidth": 2
          }
         }
        },
        "title": {
         "text": "Les titres de poste les plus courants dans les domaines de Data science,AI et Big data"
        },
        "xaxis": {
         "anchor": "y",
         "domain": [
          0,
          1
         ],
         "title": {
          "text": "Count"
         }
        },
        "yaxis": {
         "anchor": "x",
         "domain": [
          0,
          1
         ],
         "title": {
          "text": "Job_Title"
         }
        }
       }
      }
     },
     "metadata": {},
     "output_type": "display_data"
    }
   ],
   "source": [
    "import plotly.express as px\n",
    "\n",
    "# concatenate the dataframes vertically\n",
    "df_domaines = pd.concat([df_ds.head(5), df_bd.head(5), df_ml.head(5)], axis=0)\n",
    "\n",
    "fig = px.scatter(df_domaines, x=\"Count\", y=\"Job_Title\", color=\"Domaine\",size='Count',title='Les titres de poste les plus courants dans les domaines de Data science,AI et Big data')\n",
    "fig.show()"
   ]
  },
  {
   "cell_type": "markdown",
   "metadata": {},
   "source": [
    "## Get the top 5 job titles in each domaine infos to get the relationships"
   ]
  },
  {
   "cell_type": "code",
   "execution_count": 294,
   "metadata": {},
   "outputs": [
    {
     "data": {
      "text/html": [
       "<div>\n",
       "<style scoped>\n",
       "    .dataframe tbody tr th:only-of-type {\n",
       "        vertical-align: middle;\n",
       "    }\n",
       "\n",
       "    .dataframe tbody tr th {\n",
       "        vertical-align: top;\n",
       "    }\n",
       "\n",
       "    .dataframe thead th {\n",
       "        text-align: right;\n",
       "    }\n",
       "</style>\n",
       "<table border=\"1\" class=\"dataframe\">\n",
       "  <thead>\n",
       "    <tr style=\"text-align: right;\">\n",
       "      <th></th>\n",
       "      <th>Domaine</th>\n",
       "      <th>Company</th>\n",
       "      <th>Job_Title</th>\n",
       "      <th>Location</th>\n",
       "      <th>Country</th>\n",
       "      <th>Work_Place</th>\n",
       "      <th>Job_Type</th>\n",
       "      <th>Experience_level</th>\n",
       "      <th>Salary</th>\n",
       "      <th>Min_Salary_Year</th>\n",
       "      <th>Salary_conditions</th>\n",
       "      <th>Requirment_of_the_company</th>\n",
       "      <th>Facilities</th>\n",
       "    </tr>\n",
       "  </thead>\n",
       "  <tbody>\n",
       "    <tr>\n",
       "      <th>0</th>\n",
       "      <td>Data Science</td>\n",
       "      <td>Mutt Data</td>\n",
       "      <td>Data Engineer</td>\n",
       "      <td>Argentina</td>\n",
       "      <td>Argentina</td>\n",
       "      <td>Local</td>\n",
       "      <td>Full Time</td>\n",
       "      <td>Mid-level</td>\n",
       "      <td>73K+ *</td>\n",
       "      <td>73000.0</td>\n",
       "      <td>True</td>\n",
       "      <td>[Airflow, Architecture, AWS, Big Data, BigQuer...</td>\n",
       "      <td>[Career development, Fitness / gym, Flex hours...</td>\n",
       "    </tr>\n",
       "    <tr>\n",
       "      <th>1</th>\n",
       "      <td>Data Science</td>\n",
       "      <td>Gemini</td>\n",
       "      <td>Data Engineer</td>\n",
       "      <td>Gurgaon, India</td>\n",
       "      <td>India</td>\n",
       "      <td>Local</td>\n",
       "      <td>Full Time</td>\n",
       "      <td>Senior-level</td>\n",
       "      <td>115K+ *</td>\n",
       "      <td>115000.0</td>\n",
       "      <td>True</td>\n",
       "      <td>[Airflow, Architecture, AWS, Banking, Big Data...</td>\n",
       "      <td>[Career development, Competitive pay, Equity, ...</td>\n",
       "    </tr>\n",
       "    <tr>\n",
       "      <th>2</th>\n",
       "      <td>Data Science</td>\n",
       "      <td>Publicis Groupe</td>\n",
       "      <td>Data Engineer</td>\n",
       "      <td>Chicago, IL, United States</td>\n",
       "      <td>United States</td>\n",
       "      <td>Local</td>\n",
       "      <td>Full Time</td>\n",
       "      <td>Not-Specified</td>\n",
       "      <td>96K+ *</td>\n",
       "      <td>96000.0</td>\n",
       "      <td>True</td>\n",
       "      <td>[APIs, Azure, Computer Science, Data pipelines...</td>\n",
       "      <td>[]</td>\n",
       "    </tr>\n",
       "    <tr>\n",
       "      <th>3</th>\n",
       "      <td>Data Science</td>\n",
       "      <td>Chainalysis</td>\n",
       "      <td>Data Engineer</td>\n",
       "      <td>Ontario,Canada | Remote-CAN</td>\n",
       "      <td>Canada</td>\n",
       "      <td>Remote</td>\n",
       "      <td>Full Time</td>\n",
       "      <td>Senior-level</td>\n",
       "      <td>115K+ *</td>\n",
       "      <td>115000.0</td>\n",
       "      <td>True</td>\n",
       "      <td>[Agile, Airflow, APIs, Architecture, Banking, ...</td>\n",
       "      <td>[Career development]</td>\n",
       "    </tr>\n",
       "    <tr>\n",
       "      <th>4</th>\n",
       "      <td>Data Science</td>\n",
       "      <td>Verisk</td>\n",
       "      <td>Data Engineer</td>\n",
       "      <td>Delhi, India</td>\n",
       "      <td>India</td>\n",
       "      <td>Local</td>\n",
       "      <td>Full Time</td>\n",
       "      <td>Senior-level</td>\n",
       "      <td>115K+ *</td>\n",
       "      <td>115000.0</td>\n",
       "      <td>True</td>\n",
       "      <td>[APIs, Architecture, Data pipelines, Engineeri...</td>\n",
       "      <td>[Flex hours]</td>\n",
       "    </tr>\n",
       "    <tr>\n",
       "      <th>...</th>\n",
       "      <td>...</td>\n",
       "      <td>...</td>\n",
       "      <td>...</td>\n",
       "      <td>...</td>\n",
       "      <td>...</td>\n",
       "      <td>...</td>\n",
       "      <td>...</td>\n",
       "      <td>...</td>\n",
       "      <td>...</td>\n",
       "      <td>...</td>\n",
       "      <td>...</td>\n",
       "      <td>...</td>\n",
       "      <td>...</td>\n",
       "    </tr>\n",
       "    <tr>\n",
       "      <th>444</th>\n",
       "      <td>Machine Learning (AI)</td>\n",
       "      <td>KMS Technology</td>\n",
       "      <td>Senior AI Engineer</td>\n",
       "      <td>Ho Chi Minh City, Vietnam</td>\n",
       "      <td>Vietnam</td>\n",
       "      <td>Local</td>\n",
       "      <td>Full Time</td>\n",
       "      <td>Senior-level</td>\n",
       "      <td>55K+ *</td>\n",
       "      <td>55000.0</td>\n",
       "      <td>True</td>\n",
       "      <td>[Computer Vision, Consulting, Healthcare techn...</td>\n",
       "      <td>[Career development, Flex hours, Salary bonus,...</td>\n",
       "    </tr>\n",
       "    <tr>\n",
       "      <th>445</th>\n",
       "      <td>Machine Learning (AI)</td>\n",
       "      <td>Etsy</td>\n",
       "      <td>MLOps Engineer</td>\n",
       "      <td>London, United Kingdom</td>\n",
       "      <td>United Kingdom</td>\n",
       "      <td>Local</td>\n",
       "      <td>Full Time</td>\n",
       "      <td>Not-Specified</td>\n",
       "      <td>56K+ *</td>\n",
       "      <td>56000.0</td>\n",
       "      <td>True</td>\n",
       "      <td>[Airflow, AWS, Databricks, ECS, Engineering, GCP]</td>\n",
       "      <td>[Career development, Conferences, Flex hours, ...</td>\n",
       "    </tr>\n",
       "    <tr>\n",
       "      <th>446</th>\n",
       "      <td>Machine Learning (AI)</td>\n",
       "      <td>EX2 Outcoding</td>\n",
       "      <td>MLOps Engineer</td>\n",
       "      <td>Remote Worldwide</td>\n",
       "      <td>Worldwide</td>\n",
       "      <td>Remote</td>\n",
       "      <td>Full Time</td>\n",
       "      <td>Senior-level</td>\n",
       "      <td>62K+ *</td>\n",
       "      <td>62000.0</td>\n",
       "      <td>True</td>\n",
       "      <td>[Architecture, AWS, Azure, Computer Science, D...</td>\n",
       "      <td>[]</td>\n",
       "    </tr>\n",
       "    <tr>\n",
       "      <th>447</th>\n",
       "      <td>Machine Learning (AI)</td>\n",
       "      <td>Vianai Systems</td>\n",
       "      <td>MLOps Engineer</td>\n",
       "      <td>Palo Alto, CA - Remote</td>\n",
       "      <td>United States</td>\n",
       "      <td>Remote</td>\n",
       "      <td>Full Time</td>\n",
       "      <td>Senior-level</td>\n",
       "      <td>62K+ *</td>\n",
       "      <td>62000.0</td>\n",
       "      <td>True</td>\n",
       "      <td>[AWS, Azure, CI/CD, Computer Science, Docker, ...</td>\n",
       "      <td>[]</td>\n",
       "    </tr>\n",
       "    <tr>\n",
       "      <th>448</th>\n",
       "      <td>Machine Learning (AI)</td>\n",
       "      <td>Syngenta Group</td>\n",
       "      <td>MLOps Engineer</td>\n",
       "      <td>Malta, ILLINOIS, United States</td>\n",
       "      <td>Malta</td>\n",
       "      <td>Local</td>\n",
       "      <td>Full Time</td>\n",
       "      <td>Senior-level</td>\n",
       "      <td>56K+ *</td>\n",
       "      <td>56000.0</td>\n",
       "      <td>True</td>\n",
       "      <td>[Agile, AWS, Azure, Big Data, CI/CD, DevOps]</td>\n",
       "      <td>[401(k) matching, Flex vacation, Health care, ...</td>\n",
       "    </tr>\n",
       "  </tbody>\n",
       "</table>\n",
       "<p>449 rows × 13 columns</p>\n",
       "</div>"
      ],
      "text/plain": [
       "                   Domaine          Company           Job_Title   \n",
       "0             Data Science        Mutt Data       Data Engineer  \\\n",
       "1             Data Science           Gemini       Data Engineer   \n",
       "2             Data Science  Publicis Groupe       Data Engineer   \n",
       "3             Data Science      Chainalysis       Data Engineer   \n",
       "4             Data Science           Verisk       Data Engineer   \n",
       "..                     ...              ...                 ...   \n",
       "444  Machine Learning (AI)   KMS Technology  Senior AI Engineer   \n",
       "445  Machine Learning (AI)             Etsy      MLOps Engineer   \n",
       "446  Machine Learning (AI)    EX2 Outcoding      MLOps Engineer   \n",
       "447  Machine Learning (AI)   Vianai Systems      MLOps Engineer   \n",
       "448  Machine Learning (AI)   Syngenta Group      MLOps Engineer   \n",
       "\n",
       "                           Location         Country Work_Place   Job_Type   \n",
       "0                         Argentina       Argentina      Local  Full Time  \\\n",
       "1                    Gurgaon, India           India      Local  Full Time   \n",
       "2        Chicago, IL, United States   United States      Local  Full Time   \n",
       "3       Ontario,Canada | Remote-CAN          Canada     Remote  Full Time   \n",
       "4                      Delhi, India           India      Local  Full Time   \n",
       "..                              ...             ...        ...        ...   \n",
       "444       Ho Chi Minh City, Vietnam         Vietnam      Local  Full Time   \n",
       "445          London, United Kingdom  United Kingdom      Local  Full Time   \n",
       "446                Remote Worldwide       Worldwide     Remote  Full Time   \n",
       "447          Palo Alto, CA - Remote   United States     Remote  Full Time   \n",
       "448  Malta, ILLINOIS, United States           Malta      Local  Full Time   \n",
       "\n",
       "    Experience_level    Salary  Min_Salary_Year  Salary_conditions   \n",
       "0          Mid-level    73K+ *          73000.0               True  \\\n",
       "1       Senior-level   115K+ *         115000.0               True   \n",
       "2      Not-Specified    96K+ *          96000.0               True   \n",
       "3       Senior-level   115K+ *         115000.0               True   \n",
       "4       Senior-level   115K+ *         115000.0               True   \n",
       "..               ...       ...              ...                ...   \n",
       "444     Senior-level    55K+ *          55000.0               True   \n",
       "445    Not-Specified    56K+ *          56000.0               True   \n",
       "446     Senior-level    62K+ *          62000.0               True   \n",
       "447     Senior-level    62K+ *          62000.0               True   \n",
       "448     Senior-level    56K+ *          56000.0               True   \n",
       "\n",
       "                             Requirment_of_the_company   \n",
       "0    [Airflow, Architecture, AWS, Big Data, BigQuer...  \\\n",
       "1    [Airflow, Architecture, AWS, Banking, Big Data...   \n",
       "2    [APIs, Azure, Computer Science, Data pipelines...   \n",
       "3    [Agile, Airflow, APIs, Architecture, Banking, ...   \n",
       "4    [APIs, Architecture, Data pipelines, Engineeri...   \n",
       "..                                                 ...   \n",
       "444  [Computer Vision, Consulting, Healthcare techn...   \n",
       "445  [Airflow, AWS, Databricks, ECS, Engineering, GCP]   \n",
       "446  [Architecture, AWS, Azure, Computer Science, D...   \n",
       "447  [AWS, Azure, CI/CD, Computer Science, Docker, ...   \n",
       "448       [Agile, AWS, Azure, Big Data, CI/CD, DevOps]   \n",
       "\n",
       "                                            Facilities  \n",
       "0    [Career development, Fitness / gym, Flex hours...  \n",
       "1    [Career development, Competitive pay, Equity, ...  \n",
       "2                                                   []  \n",
       "3                                 [Career development]  \n",
       "4                                         [Flex hours]  \n",
       "..                                                 ...  \n",
       "444  [Career development, Flex hours, Salary bonus,...  \n",
       "445  [Career development, Conferences, Flex hours, ...  \n",
       "446                                                 []  \n",
       "447                                                 []  \n",
       "448  [401(k) matching, Flex vacation, Health care, ...  \n",
       "\n",
       "[449 rows x 13 columns]"
      ]
     },
     "execution_count": 294,
     "metadata": {},
     "output_type": "execute_result"
    }
   ],
   "source": [
    "columns = df_clean.columns.tolist()\n",
    "columns.append('Domaine')\n",
    "data = []\n",
    "for row in df_domaines.itertuples():\n",
    "    new_row = df_clean[df_clean['Job_Title'] == row.Job_Title].assign(Domaine=row.Domaine)\n",
    "    data.extend(new_row.values.tolist())\n",
    "\n",
    "df_data = pd.DataFrame(data,columns=columns)\n",
    "Domaine = df_data.pop('Domaine')\n",
    "df_data.insert(0, 'Domaine', Domaine)\n",
    "df_data"
   ]
  },
  {
   "cell_type": "markdown",
   "metadata": {},
   "source": [
    "## Top Requirements for each domaine"
   ]
  },
  {
   "cell_type": "code",
   "execution_count": 295,
   "metadata": {},
   "outputs": [
    {
     "data": {
      "application/vnd.plotly.v1+json": {
       "config": {
        "plotlyServerURL": "https://plot.ly"
       },
       "data": [
        {
         "alignmentgroup": "True",
         "hovertemplate": "Requirment of the company=%{x}<br>Count=%{marker.color}<extra></extra>",
         "legendgroup": "",
         "marker": {
          "color": [
           153,
           134,
           99,
           95,
           93,
           76,
           72,
           68,
           65,
           64
          ],
          "coloraxis": "coloraxis",
          "pattern": {
           "shape": ""
          }
         },
         "name": "",
         "offsetgroup": "",
         "orientation": "v",
         "showlegend": false,
         "textposition": "auto",
         "type": "bar",
         "x": [
          "Computer Science",
          "AWS",
          "Architecture",
          "Data analysis",
          "Engineering",
          "Agile",
          "Big Data",
          "Data pipelines",
          "Azure",
          "Airflow"
         ],
         "xaxis": "x",
         "y": [
          153,
          134,
          99,
          95,
          93,
          76,
          72,
          68,
          65,
          64
         ],
         "yaxis": "y"
        }
       ],
       "layout": {
        "barmode": "relative",
        "coloraxis": {
         "colorbar": {
          "title": {
           "text": "Count"
          }
         },
         "colorscale": [
          [
           0,
           "#0d0887"
          ],
          [
           0.1111111111111111,
           "#46039f"
          ],
          [
           0.2222222222222222,
           "#7201a8"
          ],
          [
           0.3333333333333333,
           "#9c179e"
          ],
          [
           0.4444444444444444,
           "#bd3786"
          ],
          [
           0.5555555555555556,
           "#d8576b"
          ],
          [
           0.6666666666666666,
           "#ed7953"
          ],
          [
           0.7777777777777778,
           "#fb9f3a"
          ],
          [
           0.8888888888888888,
           "#fdca26"
          ],
          [
           1,
           "#f0f921"
          ]
         ]
        },
        "legend": {
         "tracegroupgap": 0
        },
        "template": {
         "data": {
          "bar": [
           {
            "error_x": {
             "color": "#2a3f5f"
            },
            "error_y": {
             "color": "#2a3f5f"
            },
            "marker": {
             "line": {
              "color": "#E5ECF6",
              "width": 0.5
             },
             "pattern": {
              "fillmode": "overlay",
              "size": 10,
              "solidity": 0.2
             }
            },
            "type": "bar"
           }
          ],
          "barpolar": [
           {
            "marker": {
             "line": {
              "color": "#E5ECF6",
              "width": 0.5
             },
             "pattern": {
              "fillmode": "overlay",
              "size": 10,
              "solidity": 0.2
             }
            },
            "type": "barpolar"
           }
          ],
          "carpet": [
           {
            "aaxis": {
             "endlinecolor": "#2a3f5f",
             "gridcolor": "white",
             "linecolor": "white",
             "minorgridcolor": "white",
             "startlinecolor": "#2a3f5f"
            },
            "baxis": {
             "endlinecolor": "#2a3f5f",
             "gridcolor": "white",
             "linecolor": "white",
             "minorgridcolor": "white",
             "startlinecolor": "#2a3f5f"
            },
            "type": "carpet"
           }
          ],
          "choropleth": [
           {
            "colorbar": {
             "outlinewidth": 0,
             "ticks": ""
            },
            "type": "choropleth"
           }
          ],
          "contour": [
           {
            "colorbar": {
             "outlinewidth": 0,
             "ticks": ""
            },
            "colorscale": [
             [
              0,
              "#0d0887"
             ],
             [
              0.1111111111111111,
              "#46039f"
             ],
             [
              0.2222222222222222,
              "#7201a8"
             ],
             [
              0.3333333333333333,
              "#9c179e"
             ],
             [
              0.4444444444444444,
              "#bd3786"
             ],
             [
              0.5555555555555556,
              "#d8576b"
             ],
             [
              0.6666666666666666,
              "#ed7953"
             ],
             [
              0.7777777777777778,
              "#fb9f3a"
             ],
             [
              0.8888888888888888,
              "#fdca26"
             ],
             [
              1,
              "#f0f921"
             ]
            ],
            "type": "contour"
           }
          ],
          "contourcarpet": [
           {
            "colorbar": {
             "outlinewidth": 0,
             "ticks": ""
            },
            "type": "contourcarpet"
           }
          ],
          "heatmap": [
           {
            "colorbar": {
             "outlinewidth": 0,
             "ticks": ""
            },
            "colorscale": [
             [
              0,
              "#0d0887"
             ],
             [
              0.1111111111111111,
              "#46039f"
             ],
             [
              0.2222222222222222,
              "#7201a8"
             ],
             [
              0.3333333333333333,
              "#9c179e"
             ],
             [
              0.4444444444444444,
              "#bd3786"
             ],
             [
              0.5555555555555556,
              "#d8576b"
             ],
             [
              0.6666666666666666,
              "#ed7953"
             ],
             [
              0.7777777777777778,
              "#fb9f3a"
             ],
             [
              0.8888888888888888,
              "#fdca26"
             ],
             [
              1,
              "#f0f921"
             ]
            ],
            "type": "heatmap"
           }
          ],
          "heatmapgl": [
           {
            "colorbar": {
             "outlinewidth": 0,
             "ticks": ""
            },
            "colorscale": [
             [
              0,
              "#0d0887"
             ],
             [
              0.1111111111111111,
              "#46039f"
             ],
             [
              0.2222222222222222,
              "#7201a8"
             ],
             [
              0.3333333333333333,
              "#9c179e"
             ],
             [
              0.4444444444444444,
              "#bd3786"
             ],
             [
              0.5555555555555556,
              "#d8576b"
             ],
             [
              0.6666666666666666,
              "#ed7953"
             ],
             [
              0.7777777777777778,
              "#fb9f3a"
             ],
             [
              0.8888888888888888,
              "#fdca26"
             ],
             [
              1,
              "#f0f921"
             ]
            ],
            "type": "heatmapgl"
           }
          ],
          "histogram": [
           {
            "marker": {
             "pattern": {
              "fillmode": "overlay",
              "size": 10,
              "solidity": 0.2
             }
            },
            "type": "histogram"
           }
          ],
          "histogram2d": [
           {
            "colorbar": {
             "outlinewidth": 0,
             "ticks": ""
            },
            "colorscale": [
             [
              0,
              "#0d0887"
             ],
             [
              0.1111111111111111,
              "#46039f"
             ],
             [
              0.2222222222222222,
              "#7201a8"
             ],
             [
              0.3333333333333333,
              "#9c179e"
             ],
             [
              0.4444444444444444,
              "#bd3786"
             ],
             [
              0.5555555555555556,
              "#d8576b"
             ],
             [
              0.6666666666666666,
              "#ed7953"
             ],
             [
              0.7777777777777778,
              "#fb9f3a"
             ],
             [
              0.8888888888888888,
              "#fdca26"
             ],
             [
              1,
              "#f0f921"
             ]
            ],
            "type": "histogram2d"
           }
          ],
          "histogram2dcontour": [
           {
            "colorbar": {
             "outlinewidth": 0,
             "ticks": ""
            },
            "colorscale": [
             [
              0,
              "#0d0887"
             ],
             [
              0.1111111111111111,
              "#46039f"
             ],
             [
              0.2222222222222222,
              "#7201a8"
             ],
             [
              0.3333333333333333,
              "#9c179e"
             ],
             [
              0.4444444444444444,
              "#bd3786"
             ],
             [
              0.5555555555555556,
              "#d8576b"
             ],
             [
              0.6666666666666666,
              "#ed7953"
             ],
             [
              0.7777777777777778,
              "#fb9f3a"
             ],
             [
              0.8888888888888888,
              "#fdca26"
             ],
             [
              1,
              "#f0f921"
             ]
            ],
            "type": "histogram2dcontour"
           }
          ],
          "mesh3d": [
           {
            "colorbar": {
             "outlinewidth": 0,
             "ticks": ""
            },
            "type": "mesh3d"
           }
          ],
          "parcoords": [
           {
            "line": {
             "colorbar": {
              "outlinewidth": 0,
              "ticks": ""
             }
            },
            "type": "parcoords"
           }
          ],
          "pie": [
           {
            "automargin": true,
            "type": "pie"
           }
          ],
          "scatter": [
           {
            "fillpattern": {
             "fillmode": "overlay",
             "size": 10,
             "solidity": 0.2
            },
            "type": "scatter"
           }
          ],
          "scatter3d": [
           {
            "line": {
             "colorbar": {
              "outlinewidth": 0,
              "ticks": ""
             }
            },
            "marker": {
             "colorbar": {
              "outlinewidth": 0,
              "ticks": ""
             }
            },
            "type": "scatter3d"
           }
          ],
          "scattercarpet": [
           {
            "marker": {
             "colorbar": {
              "outlinewidth": 0,
              "ticks": ""
             }
            },
            "type": "scattercarpet"
           }
          ],
          "scattergeo": [
           {
            "marker": {
             "colorbar": {
              "outlinewidth": 0,
              "ticks": ""
             }
            },
            "type": "scattergeo"
           }
          ],
          "scattergl": [
           {
            "marker": {
             "colorbar": {
              "outlinewidth": 0,
              "ticks": ""
             }
            },
            "type": "scattergl"
           }
          ],
          "scattermapbox": [
           {
            "marker": {
             "colorbar": {
              "outlinewidth": 0,
              "ticks": ""
             }
            },
            "type": "scattermapbox"
           }
          ],
          "scatterpolar": [
           {
            "marker": {
             "colorbar": {
              "outlinewidth": 0,
              "ticks": ""
             }
            },
            "type": "scatterpolar"
           }
          ],
          "scatterpolargl": [
           {
            "marker": {
             "colorbar": {
              "outlinewidth": 0,
              "ticks": ""
             }
            },
            "type": "scatterpolargl"
           }
          ],
          "scatterternary": [
           {
            "marker": {
             "colorbar": {
              "outlinewidth": 0,
              "ticks": ""
             }
            },
            "type": "scatterternary"
           }
          ],
          "surface": [
           {
            "colorbar": {
             "outlinewidth": 0,
             "ticks": ""
            },
            "colorscale": [
             [
              0,
              "#0d0887"
             ],
             [
              0.1111111111111111,
              "#46039f"
             ],
             [
              0.2222222222222222,
              "#7201a8"
             ],
             [
              0.3333333333333333,
              "#9c179e"
             ],
             [
              0.4444444444444444,
              "#bd3786"
             ],
             [
              0.5555555555555556,
              "#d8576b"
             ],
             [
              0.6666666666666666,
              "#ed7953"
             ],
             [
              0.7777777777777778,
              "#fb9f3a"
             ],
             [
              0.8888888888888888,
              "#fdca26"
             ],
             [
              1,
              "#f0f921"
             ]
            ],
            "type": "surface"
           }
          ],
          "table": [
           {
            "cells": {
             "fill": {
              "color": "#EBF0F8"
             },
             "line": {
              "color": "white"
             }
            },
            "header": {
             "fill": {
              "color": "#C8D4E3"
             },
             "line": {
              "color": "white"
             }
            },
            "type": "table"
           }
          ]
         },
         "layout": {
          "annotationdefaults": {
           "arrowcolor": "#2a3f5f",
           "arrowhead": 0,
           "arrowwidth": 1
          },
          "autotypenumbers": "strict",
          "coloraxis": {
           "colorbar": {
            "outlinewidth": 0,
            "ticks": ""
           }
          },
          "colorscale": {
           "diverging": [
            [
             0,
             "#8e0152"
            ],
            [
             0.1,
             "#c51b7d"
            ],
            [
             0.2,
             "#de77ae"
            ],
            [
             0.3,
             "#f1b6da"
            ],
            [
             0.4,
             "#fde0ef"
            ],
            [
             0.5,
             "#f7f7f7"
            ],
            [
             0.6,
             "#e6f5d0"
            ],
            [
             0.7,
             "#b8e186"
            ],
            [
             0.8,
             "#7fbc41"
            ],
            [
             0.9,
             "#4d9221"
            ],
            [
             1,
             "#276419"
            ]
           ],
           "sequential": [
            [
             0,
             "#0d0887"
            ],
            [
             0.1111111111111111,
             "#46039f"
            ],
            [
             0.2222222222222222,
             "#7201a8"
            ],
            [
             0.3333333333333333,
             "#9c179e"
            ],
            [
             0.4444444444444444,
             "#bd3786"
            ],
            [
             0.5555555555555556,
             "#d8576b"
            ],
            [
             0.6666666666666666,
             "#ed7953"
            ],
            [
             0.7777777777777778,
             "#fb9f3a"
            ],
            [
             0.8888888888888888,
             "#fdca26"
            ],
            [
             1,
             "#f0f921"
            ]
           ],
           "sequentialminus": [
            [
             0,
             "#0d0887"
            ],
            [
             0.1111111111111111,
             "#46039f"
            ],
            [
             0.2222222222222222,
             "#7201a8"
            ],
            [
             0.3333333333333333,
             "#9c179e"
            ],
            [
             0.4444444444444444,
             "#bd3786"
            ],
            [
             0.5555555555555556,
             "#d8576b"
            ],
            [
             0.6666666666666666,
             "#ed7953"
            ],
            [
             0.7777777777777778,
             "#fb9f3a"
            ],
            [
             0.8888888888888888,
             "#fdca26"
            ],
            [
             1,
             "#f0f921"
            ]
           ]
          },
          "colorway": [
           "#636efa",
           "#EF553B",
           "#00cc96",
           "#ab63fa",
           "#FFA15A",
           "#19d3f3",
           "#FF6692",
           "#B6E880",
           "#FF97FF",
           "#FECB52"
          ],
          "font": {
           "color": "#2a3f5f"
          },
          "geo": {
           "bgcolor": "white",
           "lakecolor": "white",
           "landcolor": "#E5ECF6",
           "showlakes": true,
           "showland": true,
           "subunitcolor": "white"
          },
          "hoverlabel": {
           "align": "left"
          },
          "hovermode": "closest",
          "mapbox": {
           "style": "light"
          },
          "paper_bgcolor": "white",
          "plot_bgcolor": "#E5ECF6",
          "polar": {
           "angularaxis": {
            "gridcolor": "white",
            "linecolor": "white",
            "ticks": ""
           },
           "bgcolor": "#E5ECF6",
           "radialaxis": {
            "gridcolor": "white",
            "linecolor": "white",
            "ticks": ""
           }
          },
          "scene": {
           "xaxis": {
            "backgroundcolor": "#E5ECF6",
            "gridcolor": "white",
            "gridwidth": 2,
            "linecolor": "white",
            "showbackground": true,
            "ticks": "",
            "zerolinecolor": "white"
           },
           "yaxis": {
            "backgroundcolor": "#E5ECF6",
            "gridcolor": "white",
            "gridwidth": 2,
            "linecolor": "white",
            "showbackground": true,
            "ticks": "",
            "zerolinecolor": "white"
           },
           "zaxis": {
            "backgroundcolor": "#E5ECF6",
            "gridcolor": "white",
            "gridwidth": 2,
            "linecolor": "white",
            "showbackground": true,
            "ticks": "",
            "zerolinecolor": "white"
           }
          },
          "shapedefaults": {
           "line": {
            "color": "#2a3f5f"
           }
          },
          "ternary": {
           "aaxis": {
            "gridcolor": "white",
            "linecolor": "white",
            "ticks": ""
           },
           "baxis": {
            "gridcolor": "white",
            "linecolor": "white",
            "ticks": ""
           },
           "bgcolor": "#E5ECF6",
           "caxis": {
            "gridcolor": "white",
            "linecolor": "white",
            "ticks": ""
           }
          },
          "title": {
           "x": 0.05
          },
          "xaxis": {
           "automargin": true,
           "gridcolor": "white",
           "linecolor": "white",
           "ticks": "",
           "title": {
            "standoff": 15
           },
           "zerolinecolor": "white",
           "zerolinewidth": 2
          },
          "yaxis": {
           "automargin": true,
           "gridcolor": "white",
           "linecolor": "white",
           "ticks": "",
           "title": {
            "standoff": 15
           },
           "zerolinecolor": "white",
           "zerolinewidth": 2
          }
         }
        },
        "title": {
         "text": "Top 10 des Competences les plus demandees pour le domaine de Data Science"
        },
        "xaxis": {
         "anchor": "y",
         "domain": [
          0,
          1
         ],
         "title": {
          "text": "Requirment of the company"
         }
        },
        "yaxis": {
         "anchor": "x",
         "domain": [
          0,
          1
         ],
         "title": {
          "text": "Count"
         }
        }
       }
      }
     },
     "metadata": {},
     "output_type": "display_data"
    }
   ],
   "source": [
    "import plotly.express as px\n",
    "from collections import Counter\n",
    "\n",
    "# Use Counter to get the count of each element in the lists\n",
    "element_counter = Counter([element for sublist in df_data[df_data['Domaine'] == 'Data Science']['Requirment_of_the_company'] for element in sublist])\n",
    "# Convert the result to a DataFrame for better display\n",
    "element_counter = pd.DataFrame(list(element_counter.items()), columns=['Requirment of the company', 'Count'])\n",
    "\n",
    "df_requir = element_counter.sort_values(by='Count',ascending=False)\n",
    "\n",
    "fig = px.bar(df_requir.head(10), x='Requirment of the company', y='Count',color='Count',title=\"Top 10 des Competences les plus demandees pour le domaine de Data Science\")\n",
    "fig.show()"
   ]
  },
  {
   "cell_type": "code",
   "execution_count": 296,
   "metadata": {},
   "outputs": [
    {
     "data": {
      "application/vnd.plotly.v1+json": {
       "config": {
        "plotlyServerURL": "https://plot.ly"
       },
       "data": [
        {
         "alignmentgroup": "True",
         "hovertemplate": "Requirment of the company=%{x}<br>Count=%{marker.color}<extra></extra>",
         "legendgroup": "",
         "marker": {
          "color": [
           10,
           5,
           5,
           5,
           5,
           4,
           3,
           2,
           2,
           2
          ],
          "coloraxis": "coloraxis",
          "pattern": {
           "shape": ""
          }
         },
         "name": "",
         "offsetgroup": "",
         "orientation": "v",
         "showlegend": false,
         "textposition": "auto",
         "type": "bar",
         "x": [
          "Big Data",
          "Airflow",
          "Azure",
          "Computer Science",
          "Architecture",
          "AWS",
          "Databricks",
          "CI/CD",
          "Agile",
          "BigQuery"
         ],
         "xaxis": "x",
         "y": [
          10,
          5,
          5,
          5,
          5,
          4,
          3,
          2,
          2,
          2
         ],
         "yaxis": "y"
        }
       ],
       "layout": {
        "barmode": "relative",
        "coloraxis": {
         "colorbar": {
          "title": {
           "text": "Count"
          }
         },
         "colorscale": [
          [
           0,
           "#0d0887"
          ],
          [
           0.1111111111111111,
           "#46039f"
          ],
          [
           0.2222222222222222,
           "#7201a8"
          ],
          [
           0.3333333333333333,
           "#9c179e"
          ],
          [
           0.4444444444444444,
           "#bd3786"
          ],
          [
           0.5555555555555556,
           "#d8576b"
          ],
          [
           0.6666666666666666,
           "#ed7953"
          ],
          [
           0.7777777777777778,
           "#fb9f3a"
          ],
          [
           0.8888888888888888,
           "#fdca26"
          ],
          [
           1,
           "#f0f921"
          ]
         ]
        },
        "legend": {
         "tracegroupgap": 0
        },
        "template": {
         "data": {
          "bar": [
           {
            "error_x": {
             "color": "#2a3f5f"
            },
            "error_y": {
             "color": "#2a3f5f"
            },
            "marker": {
             "line": {
              "color": "#E5ECF6",
              "width": 0.5
             },
             "pattern": {
              "fillmode": "overlay",
              "size": 10,
              "solidity": 0.2
             }
            },
            "type": "bar"
           }
          ],
          "barpolar": [
           {
            "marker": {
             "line": {
              "color": "#E5ECF6",
              "width": 0.5
             },
             "pattern": {
              "fillmode": "overlay",
              "size": 10,
              "solidity": 0.2
             }
            },
            "type": "barpolar"
           }
          ],
          "carpet": [
           {
            "aaxis": {
             "endlinecolor": "#2a3f5f",
             "gridcolor": "white",
             "linecolor": "white",
             "minorgridcolor": "white",
             "startlinecolor": "#2a3f5f"
            },
            "baxis": {
             "endlinecolor": "#2a3f5f",
             "gridcolor": "white",
             "linecolor": "white",
             "minorgridcolor": "white",
             "startlinecolor": "#2a3f5f"
            },
            "type": "carpet"
           }
          ],
          "choropleth": [
           {
            "colorbar": {
             "outlinewidth": 0,
             "ticks": ""
            },
            "type": "choropleth"
           }
          ],
          "contour": [
           {
            "colorbar": {
             "outlinewidth": 0,
             "ticks": ""
            },
            "colorscale": [
             [
              0,
              "#0d0887"
             ],
             [
              0.1111111111111111,
              "#46039f"
             ],
             [
              0.2222222222222222,
              "#7201a8"
             ],
             [
              0.3333333333333333,
              "#9c179e"
             ],
             [
              0.4444444444444444,
              "#bd3786"
             ],
             [
              0.5555555555555556,
              "#d8576b"
             ],
             [
              0.6666666666666666,
              "#ed7953"
             ],
             [
              0.7777777777777778,
              "#fb9f3a"
             ],
             [
              0.8888888888888888,
              "#fdca26"
             ],
             [
              1,
              "#f0f921"
             ]
            ],
            "type": "contour"
           }
          ],
          "contourcarpet": [
           {
            "colorbar": {
             "outlinewidth": 0,
             "ticks": ""
            },
            "type": "contourcarpet"
           }
          ],
          "heatmap": [
           {
            "colorbar": {
             "outlinewidth": 0,
             "ticks": ""
            },
            "colorscale": [
             [
              0,
              "#0d0887"
             ],
             [
              0.1111111111111111,
              "#46039f"
             ],
             [
              0.2222222222222222,
              "#7201a8"
             ],
             [
              0.3333333333333333,
              "#9c179e"
             ],
             [
              0.4444444444444444,
              "#bd3786"
             ],
             [
              0.5555555555555556,
              "#d8576b"
             ],
             [
              0.6666666666666666,
              "#ed7953"
             ],
             [
              0.7777777777777778,
              "#fb9f3a"
             ],
             [
              0.8888888888888888,
              "#fdca26"
             ],
             [
              1,
              "#f0f921"
             ]
            ],
            "type": "heatmap"
           }
          ],
          "heatmapgl": [
           {
            "colorbar": {
             "outlinewidth": 0,
             "ticks": ""
            },
            "colorscale": [
             [
              0,
              "#0d0887"
             ],
             [
              0.1111111111111111,
              "#46039f"
             ],
             [
              0.2222222222222222,
              "#7201a8"
             ],
             [
              0.3333333333333333,
              "#9c179e"
             ],
             [
              0.4444444444444444,
              "#bd3786"
             ],
             [
              0.5555555555555556,
              "#d8576b"
             ],
             [
              0.6666666666666666,
              "#ed7953"
             ],
             [
              0.7777777777777778,
              "#fb9f3a"
             ],
             [
              0.8888888888888888,
              "#fdca26"
             ],
             [
              1,
              "#f0f921"
             ]
            ],
            "type": "heatmapgl"
           }
          ],
          "histogram": [
           {
            "marker": {
             "pattern": {
              "fillmode": "overlay",
              "size": 10,
              "solidity": 0.2
             }
            },
            "type": "histogram"
           }
          ],
          "histogram2d": [
           {
            "colorbar": {
             "outlinewidth": 0,
             "ticks": ""
            },
            "colorscale": [
             [
              0,
              "#0d0887"
             ],
             [
              0.1111111111111111,
              "#46039f"
             ],
             [
              0.2222222222222222,
              "#7201a8"
             ],
             [
              0.3333333333333333,
              "#9c179e"
             ],
             [
              0.4444444444444444,
              "#bd3786"
             ],
             [
              0.5555555555555556,
              "#d8576b"
             ],
             [
              0.6666666666666666,
              "#ed7953"
             ],
             [
              0.7777777777777778,
              "#fb9f3a"
             ],
             [
              0.8888888888888888,
              "#fdca26"
             ],
             [
              1,
              "#f0f921"
             ]
            ],
            "type": "histogram2d"
           }
          ],
          "histogram2dcontour": [
           {
            "colorbar": {
             "outlinewidth": 0,
             "ticks": ""
            },
            "colorscale": [
             [
              0,
              "#0d0887"
             ],
             [
              0.1111111111111111,
              "#46039f"
             ],
             [
              0.2222222222222222,
              "#7201a8"
             ],
             [
              0.3333333333333333,
              "#9c179e"
             ],
             [
              0.4444444444444444,
              "#bd3786"
             ],
             [
              0.5555555555555556,
              "#d8576b"
             ],
             [
              0.6666666666666666,
              "#ed7953"
             ],
             [
              0.7777777777777778,
              "#fb9f3a"
             ],
             [
              0.8888888888888888,
              "#fdca26"
             ],
             [
              1,
              "#f0f921"
             ]
            ],
            "type": "histogram2dcontour"
           }
          ],
          "mesh3d": [
           {
            "colorbar": {
             "outlinewidth": 0,
             "ticks": ""
            },
            "type": "mesh3d"
           }
          ],
          "parcoords": [
           {
            "line": {
             "colorbar": {
              "outlinewidth": 0,
              "ticks": ""
             }
            },
            "type": "parcoords"
           }
          ],
          "pie": [
           {
            "automargin": true,
            "type": "pie"
           }
          ],
          "scatter": [
           {
            "fillpattern": {
             "fillmode": "overlay",
             "size": 10,
             "solidity": 0.2
            },
            "type": "scatter"
           }
          ],
          "scatter3d": [
           {
            "line": {
             "colorbar": {
              "outlinewidth": 0,
              "ticks": ""
             }
            },
            "marker": {
             "colorbar": {
              "outlinewidth": 0,
              "ticks": ""
             }
            },
            "type": "scatter3d"
           }
          ],
          "scattercarpet": [
           {
            "marker": {
             "colorbar": {
              "outlinewidth": 0,
              "ticks": ""
             }
            },
            "type": "scattercarpet"
           }
          ],
          "scattergeo": [
           {
            "marker": {
             "colorbar": {
              "outlinewidth": 0,
              "ticks": ""
             }
            },
            "type": "scattergeo"
           }
          ],
          "scattergl": [
           {
            "marker": {
             "colorbar": {
              "outlinewidth": 0,
              "ticks": ""
             }
            },
            "type": "scattergl"
           }
          ],
          "scattermapbox": [
           {
            "marker": {
             "colorbar": {
              "outlinewidth": 0,
              "ticks": ""
             }
            },
            "type": "scattermapbox"
           }
          ],
          "scatterpolar": [
           {
            "marker": {
             "colorbar": {
              "outlinewidth": 0,
              "ticks": ""
             }
            },
            "type": "scatterpolar"
           }
          ],
          "scatterpolargl": [
           {
            "marker": {
             "colorbar": {
              "outlinewidth": 0,
              "ticks": ""
             }
            },
            "type": "scatterpolargl"
           }
          ],
          "scatterternary": [
           {
            "marker": {
             "colorbar": {
              "outlinewidth": 0,
              "ticks": ""
             }
            },
            "type": "scatterternary"
           }
          ],
          "surface": [
           {
            "colorbar": {
             "outlinewidth": 0,
             "ticks": ""
            },
            "colorscale": [
             [
              0,
              "#0d0887"
             ],
             [
              0.1111111111111111,
              "#46039f"
             ],
             [
              0.2222222222222222,
              "#7201a8"
             ],
             [
              0.3333333333333333,
              "#9c179e"
             ],
             [
              0.4444444444444444,
              "#bd3786"
             ],
             [
              0.5555555555555556,
              "#d8576b"
             ],
             [
              0.6666666666666666,
              "#ed7953"
             ],
             [
              0.7777777777777778,
              "#fb9f3a"
             ],
             [
              0.8888888888888888,
              "#fdca26"
             ],
             [
              1,
              "#f0f921"
             ]
            ],
            "type": "surface"
           }
          ],
          "table": [
           {
            "cells": {
             "fill": {
              "color": "#EBF0F8"
             },
             "line": {
              "color": "white"
             }
            },
            "header": {
             "fill": {
              "color": "#C8D4E3"
             },
             "line": {
              "color": "white"
             }
            },
            "type": "table"
           }
          ]
         },
         "layout": {
          "annotationdefaults": {
           "arrowcolor": "#2a3f5f",
           "arrowhead": 0,
           "arrowwidth": 1
          },
          "autotypenumbers": "strict",
          "coloraxis": {
           "colorbar": {
            "outlinewidth": 0,
            "ticks": ""
           }
          },
          "colorscale": {
           "diverging": [
            [
             0,
             "#8e0152"
            ],
            [
             0.1,
             "#c51b7d"
            ],
            [
             0.2,
             "#de77ae"
            ],
            [
             0.3,
             "#f1b6da"
            ],
            [
             0.4,
             "#fde0ef"
            ],
            [
             0.5,
             "#f7f7f7"
            ],
            [
             0.6,
             "#e6f5d0"
            ],
            [
             0.7,
             "#b8e186"
            ],
            [
             0.8,
             "#7fbc41"
            ],
            [
             0.9,
             "#4d9221"
            ],
            [
             1,
             "#276419"
            ]
           ],
           "sequential": [
            [
             0,
             "#0d0887"
            ],
            [
             0.1111111111111111,
             "#46039f"
            ],
            [
             0.2222222222222222,
             "#7201a8"
            ],
            [
             0.3333333333333333,
             "#9c179e"
            ],
            [
             0.4444444444444444,
             "#bd3786"
            ],
            [
             0.5555555555555556,
             "#d8576b"
            ],
            [
             0.6666666666666666,
             "#ed7953"
            ],
            [
             0.7777777777777778,
             "#fb9f3a"
            ],
            [
             0.8888888888888888,
             "#fdca26"
            ],
            [
             1,
             "#f0f921"
            ]
           ],
           "sequentialminus": [
            [
             0,
             "#0d0887"
            ],
            [
             0.1111111111111111,
             "#46039f"
            ],
            [
             0.2222222222222222,
             "#7201a8"
            ],
            [
             0.3333333333333333,
             "#9c179e"
            ],
            [
             0.4444444444444444,
             "#bd3786"
            ],
            [
             0.5555555555555556,
             "#d8576b"
            ],
            [
             0.6666666666666666,
             "#ed7953"
            ],
            [
             0.7777777777777778,
             "#fb9f3a"
            ],
            [
             0.8888888888888888,
             "#fdca26"
            ],
            [
             1,
             "#f0f921"
            ]
           ]
          },
          "colorway": [
           "#636efa",
           "#EF553B",
           "#00cc96",
           "#ab63fa",
           "#FFA15A",
           "#19d3f3",
           "#FF6692",
           "#B6E880",
           "#FF97FF",
           "#FECB52"
          ],
          "font": {
           "color": "#2a3f5f"
          },
          "geo": {
           "bgcolor": "white",
           "lakecolor": "white",
           "landcolor": "#E5ECF6",
           "showlakes": true,
           "showland": true,
           "subunitcolor": "white"
          },
          "hoverlabel": {
           "align": "left"
          },
          "hovermode": "closest",
          "mapbox": {
           "style": "light"
          },
          "paper_bgcolor": "white",
          "plot_bgcolor": "#E5ECF6",
          "polar": {
           "angularaxis": {
            "gridcolor": "white",
            "linecolor": "white",
            "ticks": ""
           },
           "bgcolor": "#E5ECF6",
           "radialaxis": {
            "gridcolor": "white",
            "linecolor": "white",
            "ticks": ""
           }
          },
          "scene": {
           "xaxis": {
            "backgroundcolor": "#E5ECF6",
            "gridcolor": "white",
            "gridwidth": 2,
            "linecolor": "white",
            "showbackground": true,
            "ticks": "",
            "zerolinecolor": "white"
           },
           "yaxis": {
            "backgroundcolor": "#E5ECF6",
            "gridcolor": "white",
            "gridwidth": 2,
            "linecolor": "white",
            "showbackground": true,
            "ticks": "",
            "zerolinecolor": "white"
           },
           "zaxis": {
            "backgroundcolor": "#E5ECF6",
            "gridcolor": "white",
            "gridwidth": 2,
            "linecolor": "white",
            "showbackground": true,
            "ticks": "",
            "zerolinecolor": "white"
           }
          },
          "shapedefaults": {
           "line": {
            "color": "#2a3f5f"
           }
          },
          "ternary": {
           "aaxis": {
            "gridcolor": "white",
            "linecolor": "white",
            "ticks": ""
           },
           "baxis": {
            "gridcolor": "white",
            "linecolor": "white",
            "ticks": ""
           },
           "bgcolor": "#E5ECF6",
           "caxis": {
            "gridcolor": "white",
            "linecolor": "white",
            "ticks": ""
           }
          },
          "title": {
           "x": 0.05
          },
          "xaxis": {
           "automargin": true,
           "gridcolor": "white",
           "linecolor": "white",
           "ticks": "",
           "title": {
            "standoff": 15
           },
           "zerolinecolor": "white",
           "zerolinewidth": 2
          },
          "yaxis": {
           "automargin": true,
           "gridcolor": "white",
           "linecolor": "white",
           "ticks": "",
           "title": {
            "standoff": 15
           },
           "zerolinecolor": "white",
           "zerolinewidth": 2
          }
         }
        },
        "title": {
         "text": "Top 10 des Competences les plus demandees pour le domaine de Big Data"
        },
        "xaxis": {
         "anchor": "y",
         "domain": [
          0,
          1
         ],
         "title": {
          "text": "Requirment of the company"
         }
        },
        "yaxis": {
         "anchor": "x",
         "domain": [
          0,
          1
         ],
         "title": {
          "text": "Count"
         }
        }
       }
      }
     },
     "metadata": {},
     "output_type": "display_data"
    }
   ],
   "source": [
    "import plotly.express as px\n",
    "from collections import Counter\n",
    "\n",
    "# Use Counter to get the count of each element in the lists\n",
    "element_counter = Counter([element for sublist in df_data[df_data['Domaine'] == 'Big Data']['Requirment_of_the_company'] for element in sublist])\n",
    "# Convert the result to a DataFrame for better display\n",
    "element_counter = pd.DataFrame(list(element_counter.items()), columns=['Requirment of the company', 'Count'])\n",
    "\n",
    "df_requir = element_counter.sort_values(by='Count',ascending=False)\n",
    "\n",
    "fig = px.bar(df_requir.head(10), x='Requirment of the company', y='Count',color='Count',title=\"Top 10 des Competences les plus demandees pour le domaine de Big Data\")\n",
    "fig.show()"
   ]
  },
  {
   "cell_type": "code",
   "execution_count": 297,
   "metadata": {},
   "outputs": [
    {
     "data": {
      "application/vnd.plotly.v1+json": {
       "config": {
        "plotlyServerURL": "https://plot.ly"
       },
       "data": [
        {
         "alignmentgroup": "True",
         "hovertemplate": "Requirment of the company=%{x}<br>Count=%{marker.color}<extra></extra>",
         "legendgroup": "",
         "marker": {
          "color": [
           40,
           35,
           33,
           29,
           23,
           21,
           15,
           15,
           14,
           14
          ],
          "coloraxis": "coloraxis",
          "pattern": {
           "shape": ""
          }
         },
         "name": "",
         "offsetgroup": "",
         "orientation": "v",
         "showlegend": false,
         "textposition": "auto",
         "type": "bar",
         "x": [
          "Computer Science",
          "Engineering",
          "AWS",
          "Architecture",
          "Deep Learning",
          "Machine Learning",
          "Big Data",
          "Azure",
          "Classification",
          "Agile"
         ],
         "xaxis": "x",
         "y": [
          40,
          35,
          33,
          29,
          23,
          21,
          15,
          15,
          14,
          14
         ],
         "yaxis": "y"
        }
       ],
       "layout": {
        "barmode": "relative",
        "coloraxis": {
         "colorbar": {
          "title": {
           "text": "Count"
          }
         },
         "colorscale": [
          [
           0,
           "#0d0887"
          ],
          [
           0.1111111111111111,
           "#46039f"
          ],
          [
           0.2222222222222222,
           "#7201a8"
          ],
          [
           0.3333333333333333,
           "#9c179e"
          ],
          [
           0.4444444444444444,
           "#bd3786"
          ],
          [
           0.5555555555555556,
           "#d8576b"
          ],
          [
           0.6666666666666666,
           "#ed7953"
          ],
          [
           0.7777777777777778,
           "#fb9f3a"
          ],
          [
           0.8888888888888888,
           "#fdca26"
          ],
          [
           1,
           "#f0f921"
          ]
         ]
        },
        "legend": {
         "tracegroupgap": 0
        },
        "template": {
         "data": {
          "bar": [
           {
            "error_x": {
             "color": "#2a3f5f"
            },
            "error_y": {
             "color": "#2a3f5f"
            },
            "marker": {
             "line": {
              "color": "#E5ECF6",
              "width": 0.5
             },
             "pattern": {
              "fillmode": "overlay",
              "size": 10,
              "solidity": 0.2
             }
            },
            "type": "bar"
           }
          ],
          "barpolar": [
           {
            "marker": {
             "line": {
              "color": "#E5ECF6",
              "width": 0.5
             },
             "pattern": {
              "fillmode": "overlay",
              "size": 10,
              "solidity": 0.2
             }
            },
            "type": "barpolar"
           }
          ],
          "carpet": [
           {
            "aaxis": {
             "endlinecolor": "#2a3f5f",
             "gridcolor": "white",
             "linecolor": "white",
             "minorgridcolor": "white",
             "startlinecolor": "#2a3f5f"
            },
            "baxis": {
             "endlinecolor": "#2a3f5f",
             "gridcolor": "white",
             "linecolor": "white",
             "minorgridcolor": "white",
             "startlinecolor": "#2a3f5f"
            },
            "type": "carpet"
           }
          ],
          "choropleth": [
           {
            "colorbar": {
             "outlinewidth": 0,
             "ticks": ""
            },
            "type": "choropleth"
           }
          ],
          "contour": [
           {
            "colorbar": {
             "outlinewidth": 0,
             "ticks": ""
            },
            "colorscale": [
             [
              0,
              "#0d0887"
             ],
             [
              0.1111111111111111,
              "#46039f"
             ],
             [
              0.2222222222222222,
              "#7201a8"
             ],
             [
              0.3333333333333333,
              "#9c179e"
             ],
             [
              0.4444444444444444,
              "#bd3786"
             ],
             [
              0.5555555555555556,
              "#d8576b"
             ],
             [
              0.6666666666666666,
              "#ed7953"
             ],
             [
              0.7777777777777778,
              "#fb9f3a"
             ],
             [
              0.8888888888888888,
              "#fdca26"
             ],
             [
              1,
              "#f0f921"
             ]
            ],
            "type": "contour"
           }
          ],
          "contourcarpet": [
           {
            "colorbar": {
             "outlinewidth": 0,
             "ticks": ""
            },
            "type": "contourcarpet"
           }
          ],
          "heatmap": [
           {
            "colorbar": {
             "outlinewidth": 0,
             "ticks": ""
            },
            "colorscale": [
             [
              0,
              "#0d0887"
             ],
             [
              0.1111111111111111,
              "#46039f"
             ],
             [
              0.2222222222222222,
              "#7201a8"
             ],
             [
              0.3333333333333333,
              "#9c179e"
             ],
             [
              0.4444444444444444,
              "#bd3786"
             ],
             [
              0.5555555555555556,
              "#d8576b"
             ],
             [
              0.6666666666666666,
              "#ed7953"
             ],
             [
              0.7777777777777778,
              "#fb9f3a"
             ],
             [
              0.8888888888888888,
              "#fdca26"
             ],
             [
              1,
              "#f0f921"
             ]
            ],
            "type": "heatmap"
           }
          ],
          "heatmapgl": [
           {
            "colorbar": {
             "outlinewidth": 0,
             "ticks": ""
            },
            "colorscale": [
             [
              0,
              "#0d0887"
             ],
             [
              0.1111111111111111,
              "#46039f"
             ],
             [
              0.2222222222222222,
              "#7201a8"
             ],
             [
              0.3333333333333333,
              "#9c179e"
             ],
             [
              0.4444444444444444,
              "#bd3786"
             ],
             [
              0.5555555555555556,
              "#d8576b"
             ],
             [
              0.6666666666666666,
              "#ed7953"
             ],
             [
              0.7777777777777778,
              "#fb9f3a"
             ],
             [
              0.8888888888888888,
              "#fdca26"
             ],
             [
              1,
              "#f0f921"
             ]
            ],
            "type": "heatmapgl"
           }
          ],
          "histogram": [
           {
            "marker": {
             "pattern": {
              "fillmode": "overlay",
              "size": 10,
              "solidity": 0.2
             }
            },
            "type": "histogram"
           }
          ],
          "histogram2d": [
           {
            "colorbar": {
             "outlinewidth": 0,
             "ticks": ""
            },
            "colorscale": [
             [
              0,
              "#0d0887"
             ],
             [
              0.1111111111111111,
              "#46039f"
             ],
             [
              0.2222222222222222,
              "#7201a8"
             ],
             [
              0.3333333333333333,
              "#9c179e"
             ],
             [
              0.4444444444444444,
              "#bd3786"
             ],
             [
              0.5555555555555556,
              "#d8576b"
             ],
             [
              0.6666666666666666,
              "#ed7953"
             ],
             [
              0.7777777777777778,
              "#fb9f3a"
             ],
             [
              0.8888888888888888,
              "#fdca26"
             ],
             [
              1,
              "#f0f921"
             ]
            ],
            "type": "histogram2d"
           }
          ],
          "histogram2dcontour": [
           {
            "colorbar": {
             "outlinewidth": 0,
             "ticks": ""
            },
            "colorscale": [
             [
              0,
              "#0d0887"
             ],
             [
              0.1111111111111111,
              "#46039f"
             ],
             [
              0.2222222222222222,
              "#7201a8"
             ],
             [
              0.3333333333333333,
              "#9c179e"
             ],
             [
              0.4444444444444444,
              "#bd3786"
             ],
             [
              0.5555555555555556,
              "#d8576b"
             ],
             [
              0.6666666666666666,
              "#ed7953"
             ],
             [
              0.7777777777777778,
              "#fb9f3a"
             ],
             [
              0.8888888888888888,
              "#fdca26"
             ],
             [
              1,
              "#f0f921"
             ]
            ],
            "type": "histogram2dcontour"
           }
          ],
          "mesh3d": [
           {
            "colorbar": {
             "outlinewidth": 0,
             "ticks": ""
            },
            "type": "mesh3d"
           }
          ],
          "parcoords": [
           {
            "line": {
             "colorbar": {
              "outlinewidth": 0,
              "ticks": ""
             }
            },
            "type": "parcoords"
           }
          ],
          "pie": [
           {
            "automargin": true,
            "type": "pie"
           }
          ],
          "scatter": [
           {
            "fillpattern": {
             "fillmode": "overlay",
             "size": 10,
             "solidity": 0.2
            },
            "type": "scatter"
           }
          ],
          "scatter3d": [
           {
            "line": {
             "colorbar": {
              "outlinewidth": 0,
              "ticks": ""
             }
            },
            "marker": {
             "colorbar": {
              "outlinewidth": 0,
              "ticks": ""
             }
            },
            "type": "scatter3d"
           }
          ],
          "scattercarpet": [
           {
            "marker": {
             "colorbar": {
              "outlinewidth": 0,
              "ticks": ""
             }
            },
            "type": "scattercarpet"
           }
          ],
          "scattergeo": [
           {
            "marker": {
             "colorbar": {
              "outlinewidth": 0,
              "ticks": ""
             }
            },
            "type": "scattergeo"
           }
          ],
          "scattergl": [
           {
            "marker": {
             "colorbar": {
              "outlinewidth": 0,
              "ticks": ""
             }
            },
            "type": "scattergl"
           }
          ],
          "scattermapbox": [
           {
            "marker": {
             "colorbar": {
              "outlinewidth": 0,
              "ticks": ""
             }
            },
            "type": "scattermapbox"
           }
          ],
          "scatterpolar": [
           {
            "marker": {
             "colorbar": {
              "outlinewidth": 0,
              "ticks": ""
             }
            },
            "type": "scatterpolar"
           }
          ],
          "scatterpolargl": [
           {
            "marker": {
             "colorbar": {
              "outlinewidth": 0,
              "ticks": ""
             }
            },
            "type": "scatterpolargl"
           }
          ],
          "scatterternary": [
           {
            "marker": {
             "colorbar": {
              "outlinewidth": 0,
              "ticks": ""
             }
            },
            "type": "scatterternary"
           }
          ],
          "surface": [
           {
            "colorbar": {
             "outlinewidth": 0,
             "ticks": ""
            },
            "colorscale": [
             [
              0,
              "#0d0887"
             ],
             [
              0.1111111111111111,
              "#46039f"
             ],
             [
              0.2222222222222222,
              "#7201a8"
             ],
             [
              0.3333333333333333,
              "#9c179e"
             ],
             [
              0.4444444444444444,
              "#bd3786"
             ],
             [
              0.5555555555555556,
              "#d8576b"
             ],
             [
              0.6666666666666666,
              "#ed7953"
             ],
             [
              0.7777777777777778,
              "#fb9f3a"
             ],
             [
              0.8888888888888888,
              "#fdca26"
             ],
             [
              1,
              "#f0f921"
             ]
            ],
            "type": "surface"
           }
          ],
          "table": [
           {
            "cells": {
             "fill": {
              "color": "#EBF0F8"
             },
             "line": {
              "color": "white"
             }
            },
            "header": {
             "fill": {
              "color": "#C8D4E3"
             },
             "line": {
              "color": "white"
             }
            },
            "type": "table"
           }
          ]
         },
         "layout": {
          "annotationdefaults": {
           "arrowcolor": "#2a3f5f",
           "arrowhead": 0,
           "arrowwidth": 1
          },
          "autotypenumbers": "strict",
          "coloraxis": {
           "colorbar": {
            "outlinewidth": 0,
            "ticks": ""
           }
          },
          "colorscale": {
           "diverging": [
            [
             0,
             "#8e0152"
            ],
            [
             0.1,
             "#c51b7d"
            ],
            [
             0.2,
             "#de77ae"
            ],
            [
             0.3,
             "#f1b6da"
            ],
            [
             0.4,
             "#fde0ef"
            ],
            [
             0.5,
             "#f7f7f7"
            ],
            [
             0.6,
             "#e6f5d0"
            ],
            [
             0.7,
             "#b8e186"
            ],
            [
             0.8,
             "#7fbc41"
            ],
            [
             0.9,
             "#4d9221"
            ],
            [
             1,
             "#276419"
            ]
           ],
           "sequential": [
            [
             0,
             "#0d0887"
            ],
            [
             0.1111111111111111,
             "#46039f"
            ],
            [
             0.2222222222222222,
             "#7201a8"
            ],
            [
             0.3333333333333333,
             "#9c179e"
            ],
            [
             0.4444444444444444,
             "#bd3786"
            ],
            [
             0.5555555555555556,
             "#d8576b"
            ],
            [
             0.6666666666666666,
             "#ed7953"
            ],
            [
             0.7777777777777778,
             "#fb9f3a"
            ],
            [
             0.8888888888888888,
             "#fdca26"
            ],
            [
             1,
             "#f0f921"
            ]
           ],
           "sequentialminus": [
            [
             0,
             "#0d0887"
            ],
            [
             0.1111111111111111,
             "#46039f"
            ],
            [
             0.2222222222222222,
             "#7201a8"
            ],
            [
             0.3333333333333333,
             "#9c179e"
            ],
            [
             0.4444444444444444,
             "#bd3786"
            ],
            [
             0.5555555555555556,
             "#d8576b"
            ],
            [
             0.6666666666666666,
             "#ed7953"
            ],
            [
             0.7777777777777778,
             "#fb9f3a"
            ],
            [
             0.8888888888888888,
             "#fdca26"
            ],
            [
             1,
             "#f0f921"
            ]
           ]
          },
          "colorway": [
           "#636efa",
           "#EF553B",
           "#00cc96",
           "#ab63fa",
           "#FFA15A",
           "#19d3f3",
           "#FF6692",
           "#B6E880",
           "#FF97FF",
           "#FECB52"
          ],
          "font": {
           "color": "#2a3f5f"
          },
          "geo": {
           "bgcolor": "white",
           "lakecolor": "white",
           "landcolor": "#E5ECF6",
           "showlakes": true,
           "showland": true,
           "subunitcolor": "white"
          },
          "hoverlabel": {
           "align": "left"
          },
          "hovermode": "closest",
          "mapbox": {
           "style": "light"
          },
          "paper_bgcolor": "white",
          "plot_bgcolor": "#E5ECF6",
          "polar": {
           "angularaxis": {
            "gridcolor": "white",
            "linecolor": "white",
            "ticks": ""
           },
           "bgcolor": "#E5ECF6",
           "radialaxis": {
            "gridcolor": "white",
            "linecolor": "white",
            "ticks": ""
           }
          },
          "scene": {
           "xaxis": {
            "backgroundcolor": "#E5ECF6",
            "gridcolor": "white",
            "gridwidth": 2,
            "linecolor": "white",
            "showbackground": true,
            "ticks": "",
            "zerolinecolor": "white"
           },
           "yaxis": {
            "backgroundcolor": "#E5ECF6",
            "gridcolor": "white",
            "gridwidth": 2,
            "linecolor": "white",
            "showbackground": true,
            "ticks": "",
            "zerolinecolor": "white"
           },
           "zaxis": {
            "backgroundcolor": "#E5ECF6",
            "gridcolor": "white",
            "gridwidth": 2,
            "linecolor": "white",
            "showbackground": true,
            "ticks": "",
            "zerolinecolor": "white"
           }
          },
          "shapedefaults": {
           "line": {
            "color": "#2a3f5f"
           }
          },
          "ternary": {
           "aaxis": {
            "gridcolor": "white",
            "linecolor": "white",
            "ticks": ""
           },
           "baxis": {
            "gridcolor": "white",
            "linecolor": "white",
            "ticks": ""
           },
           "bgcolor": "#E5ECF6",
           "caxis": {
            "gridcolor": "white",
            "linecolor": "white",
            "ticks": ""
           }
          },
          "title": {
           "x": 0.05
          },
          "xaxis": {
           "automargin": true,
           "gridcolor": "white",
           "linecolor": "white",
           "ticks": "",
           "title": {
            "standoff": 15
           },
           "zerolinecolor": "white",
           "zerolinewidth": 2
          },
          "yaxis": {
           "automargin": true,
           "gridcolor": "white",
           "linecolor": "white",
           "ticks": "",
           "title": {
            "standoff": 15
           },
           "zerolinecolor": "white",
           "zerolinewidth": 2
          }
         }
        },
        "title": {
         "text": "Top 10 des Competences les plus demandees pour le domaine de Machine Learning (AI)"
        },
        "xaxis": {
         "anchor": "y",
         "domain": [
          0,
          1
         ],
         "title": {
          "text": "Requirment of the company"
         }
        },
        "yaxis": {
         "anchor": "x",
         "domain": [
          0,
          1
         ],
         "title": {
          "text": "Count"
         }
        }
       }
      }
     },
     "metadata": {},
     "output_type": "display_data"
    }
   ],
   "source": [
    "import plotly.express as px\n",
    "from collections import Counter\n",
    "\n",
    "# Use Counter to get the count of each element in the lists\n",
    "element_counter = Counter([element for sublist in df_data[df_data['Domaine'] == 'Machine Learning (AI)']['Requirment_of_the_company'] for element in sublist])\n",
    "# Convert the result to a DataFrame for better display\n",
    "element_counter = pd.DataFrame(list(element_counter.items()), columns=['Requirment of the company', 'Count'])\n",
    "\n",
    "df_requir = element_counter.sort_values(by='Count',ascending=False)\n",
    "\n",
    "fig = px.bar(df_requir.head(10), x='Requirment of the company', y='Count',color='Count',title=\"Top 10 des Competences les plus demandees pour le domaine de Machine Learning (AI)\")\n",
    "fig.show()"
   ]
  },
  {
   "cell_type": "markdown",
   "metadata": {},
   "source": [
    "## Top facilities for each domaine"
   ]
  },
  {
   "cell_type": "code",
   "execution_count": 298,
   "metadata": {},
   "outputs": [
    {
     "data": {
      "application/vnd.plotly.v1+json": {
       "config": {
        "plotlyServerURL": "https://plot.ly"
       },
       "data": [
        {
         "alignmentgroup": "True",
         "hovertemplate": "Facilities=%{x}<br>Count=%{marker.color}<extra></extra>",
         "legendgroup": "",
         "marker": {
          "color": [
           233,
           127,
           105,
           83,
           76,
           75,
           71,
           43,
           35,
           31
          ],
          "coloraxis": "coloraxis",
          "pattern": {
           "shape": ""
          }
         },
         "name": "",
         "offsetgroup": "",
         "orientation": "v",
         "showlegend": false,
         "textposition": "auto",
         "type": "bar",
         "x": [
          "Career development",
          "Health care",
          "Flex hours",
          "Competitive pay",
          "Flex vacation",
          "Equity",
          "Startup environment",
          "Insurance",
          "Team events",
          "Salary bonus"
         ],
         "xaxis": "x",
         "y": [
          233,
          127,
          105,
          83,
          76,
          75,
          71,
          43,
          35,
          31
         ],
         "yaxis": "y"
        }
       ],
       "layout": {
        "barmode": "relative",
        "coloraxis": {
         "colorbar": {
          "title": {
           "text": "Count"
          }
         },
         "colorscale": [
          [
           0,
           "#0d0887"
          ],
          [
           0.1111111111111111,
           "#46039f"
          ],
          [
           0.2222222222222222,
           "#7201a8"
          ],
          [
           0.3333333333333333,
           "#9c179e"
          ],
          [
           0.4444444444444444,
           "#bd3786"
          ],
          [
           0.5555555555555556,
           "#d8576b"
          ],
          [
           0.6666666666666666,
           "#ed7953"
          ],
          [
           0.7777777777777778,
           "#fb9f3a"
          ],
          [
           0.8888888888888888,
           "#fdca26"
          ],
          [
           1,
           "#f0f921"
          ]
         ]
        },
        "legend": {
         "tracegroupgap": 0
        },
        "template": {
         "data": {
          "bar": [
           {
            "error_x": {
             "color": "#2a3f5f"
            },
            "error_y": {
             "color": "#2a3f5f"
            },
            "marker": {
             "line": {
              "color": "#E5ECF6",
              "width": 0.5
             },
             "pattern": {
              "fillmode": "overlay",
              "size": 10,
              "solidity": 0.2
             }
            },
            "type": "bar"
           }
          ],
          "barpolar": [
           {
            "marker": {
             "line": {
              "color": "#E5ECF6",
              "width": 0.5
             },
             "pattern": {
              "fillmode": "overlay",
              "size": 10,
              "solidity": 0.2
             }
            },
            "type": "barpolar"
           }
          ],
          "carpet": [
           {
            "aaxis": {
             "endlinecolor": "#2a3f5f",
             "gridcolor": "white",
             "linecolor": "white",
             "minorgridcolor": "white",
             "startlinecolor": "#2a3f5f"
            },
            "baxis": {
             "endlinecolor": "#2a3f5f",
             "gridcolor": "white",
             "linecolor": "white",
             "minorgridcolor": "white",
             "startlinecolor": "#2a3f5f"
            },
            "type": "carpet"
           }
          ],
          "choropleth": [
           {
            "colorbar": {
             "outlinewidth": 0,
             "ticks": ""
            },
            "type": "choropleth"
           }
          ],
          "contour": [
           {
            "colorbar": {
             "outlinewidth": 0,
             "ticks": ""
            },
            "colorscale": [
             [
              0,
              "#0d0887"
             ],
             [
              0.1111111111111111,
              "#46039f"
             ],
             [
              0.2222222222222222,
              "#7201a8"
             ],
             [
              0.3333333333333333,
              "#9c179e"
             ],
             [
              0.4444444444444444,
              "#bd3786"
             ],
             [
              0.5555555555555556,
              "#d8576b"
             ],
             [
              0.6666666666666666,
              "#ed7953"
             ],
             [
              0.7777777777777778,
              "#fb9f3a"
             ],
             [
              0.8888888888888888,
              "#fdca26"
             ],
             [
              1,
              "#f0f921"
             ]
            ],
            "type": "contour"
           }
          ],
          "contourcarpet": [
           {
            "colorbar": {
             "outlinewidth": 0,
             "ticks": ""
            },
            "type": "contourcarpet"
           }
          ],
          "heatmap": [
           {
            "colorbar": {
             "outlinewidth": 0,
             "ticks": ""
            },
            "colorscale": [
             [
              0,
              "#0d0887"
             ],
             [
              0.1111111111111111,
              "#46039f"
             ],
             [
              0.2222222222222222,
              "#7201a8"
             ],
             [
              0.3333333333333333,
              "#9c179e"
             ],
             [
              0.4444444444444444,
              "#bd3786"
             ],
             [
              0.5555555555555556,
              "#d8576b"
             ],
             [
              0.6666666666666666,
              "#ed7953"
             ],
             [
              0.7777777777777778,
              "#fb9f3a"
             ],
             [
              0.8888888888888888,
              "#fdca26"
             ],
             [
              1,
              "#f0f921"
             ]
            ],
            "type": "heatmap"
           }
          ],
          "heatmapgl": [
           {
            "colorbar": {
             "outlinewidth": 0,
             "ticks": ""
            },
            "colorscale": [
             [
              0,
              "#0d0887"
             ],
             [
              0.1111111111111111,
              "#46039f"
             ],
             [
              0.2222222222222222,
              "#7201a8"
             ],
             [
              0.3333333333333333,
              "#9c179e"
             ],
             [
              0.4444444444444444,
              "#bd3786"
             ],
             [
              0.5555555555555556,
              "#d8576b"
             ],
             [
              0.6666666666666666,
              "#ed7953"
             ],
             [
              0.7777777777777778,
              "#fb9f3a"
             ],
             [
              0.8888888888888888,
              "#fdca26"
             ],
             [
              1,
              "#f0f921"
             ]
            ],
            "type": "heatmapgl"
           }
          ],
          "histogram": [
           {
            "marker": {
             "pattern": {
              "fillmode": "overlay",
              "size": 10,
              "solidity": 0.2
             }
            },
            "type": "histogram"
           }
          ],
          "histogram2d": [
           {
            "colorbar": {
             "outlinewidth": 0,
             "ticks": ""
            },
            "colorscale": [
             [
              0,
              "#0d0887"
             ],
             [
              0.1111111111111111,
              "#46039f"
             ],
             [
              0.2222222222222222,
              "#7201a8"
             ],
             [
              0.3333333333333333,
              "#9c179e"
             ],
             [
              0.4444444444444444,
              "#bd3786"
             ],
             [
              0.5555555555555556,
              "#d8576b"
             ],
             [
              0.6666666666666666,
              "#ed7953"
             ],
             [
              0.7777777777777778,
              "#fb9f3a"
             ],
             [
              0.8888888888888888,
              "#fdca26"
             ],
             [
              1,
              "#f0f921"
             ]
            ],
            "type": "histogram2d"
           }
          ],
          "histogram2dcontour": [
           {
            "colorbar": {
             "outlinewidth": 0,
             "ticks": ""
            },
            "colorscale": [
             [
              0,
              "#0d0887"
             ],
             [
              0.1111111111111111,
              "#46039f"
             ],
             [
              0.2222222222222222,
              "#7201a8"
             ],
             [
              0.3333333333333333,
              "#9c179e"
             ],
             [
              0.4444444444444444,
              "#bd3786"
             ],
             [
              0.5555555555555556,
              "#d8576b"
             ],
             [
              0.6666666666666666,
              "#ed7953"
             ],
             [
              0.7777777777777778,
              "#fb9f3a"
             ],
             [
              0.8888888888888888,
              "#fdca26"
             ],
             [
              1,
              "#f0f921"
             ]
            ],
            "type": "histogram2dcontour"
           }
          ],
          "mesh3d": [
           {
            "colorbar": {
             "outlinewidth": 0,
             "ticks": ""
            },
            "type": "mesh3d"
           }
          ],
          "parcoords": [
           {
            "line": {
             "colorbar": {
              "outlinewidth": 0,
              "ticks": ""
             }
            },
            "type": "parcoords"
           }
          ],
          "pie": [
           {
            "automargin": true,
            "type": "pie"
           }
          ],
          "scatter": [
           {
            "fillpattern": {
             "fillmode": "overlay",
             "size": 10,
             "solidity": 0.2
            },
            "type": "scatter"
           }
          ],
          "scatter3d": [
           {
            "line": {
             "colorbar": {
              "outlinewidth": 0,
              "ticks": ""
             }
            },
            "marker": {
             "colorbar": {
              "outlinewidth": 0,
              "ticks": ""
             }
            },
            "type": "scatter3d"
           }
          ],
          "scattercarpet": [
           {
            "marker": {
             "colorbar": {
              "outlinewidth": 0,
              "ticks": ""
             }
            },
            "type": "scattercarpet"
           }
          ],
          "scattergeo": [
           {
            "marker": {
             "colorbar": {
              "outlinewidth": 0,
              "ticks": ""
             }
            },
            "type": "scattergeo"
           }
          ],
          "scattergl": [
           {
            "marker": {
             "colorbar": {
              "outlinewidth": 0,
              "ticks": ""
             }
            },
            "type": "scattergl"
           }
          ],
          "scattermapbox": [
           {
            "marker": {
             "colorbar": {
              "outlinewidth": 0,
              "ticks": ""
             }
            },
            "type": "scattermapbox"
           }
          ],
          "scatterpolar": [
           {
            "marker": {
             "colorbar": {
              "outlinewidth": 0,
              "ticks": ""
             }
            },
            "type": "scatterpolar"
           }
          ],
          "scatterpolargl": [
           {
            "marker": {
             "colorbar": {
              "outlinewidth": 0,
              "ticks": ""
             }
            },
            "type": "scatterpolargl"
           }
          ],
          "scatterternary": [
           {
            "marker": {
             "colorbar": {
              "outlinewidth": 0,
              "ticks": ""
             }
            },
            "type": "scatterternary"
           }
          ],
          "surface": [
           {
            "colorbar": {
             "outlinewidth": 0,
             "ticks": ""
            },
            "colorscale": [
             [
              0,
              "#0d0887"
             ],
             [
              0.1111111111111111,
              "#46039f"
             ],
             [
              0.2222222222222222,
              "#7201a8"
             ],
             [
              0.3333333333333333,
              "#9c179e"
             ],
             [
              0.4444444444444444,
              "#bd3786"
             ],
             [
              0.5555555555555556,
              "#d8576b"
             ],
             [
              0.6666666666666666,
              "#ed7953"
             ],
             [
              0.7777777777777778,
              "#fb9f3a"
             ],
             [
              0.8888888888888888,
              "#fdca26"
             ],
             [
              1,
              "#f0f921"
             ]
            ],
            "type": "surface"
           }
          ],
          "table": [
           {
            "cells": {
             "fill": {
              "color": "#EBF0F8"
             },
             "line": {
              "color": "white"
             }
            },
            "header": {
             "fill": {
              "color": "#C8D4E3"
             },
             "line": {
              "color": "white"
             }
            },
            "type": "table"
           }
          ]
         },
         "layout": {
          "annotationdefaults": {
           "arrowcolor": "#2a3f5f",
           "arrowhead": 0,
           "arrowwidth": 1
          },
          "autotypenumbers": "strict",
          "coloraxis": {
           "colorbar": {
            "outlinewidth": 0,
            "ticks": ""
           }
          },
          "colorscale": {
           "diverging": [
            [
             0,
             "#8e0152"
            ],
            [
             0.1,
             "#c51b7d"
            ],
            [
             0.2,
             "#de77ae"
            ],
            [
             0.3,
             "#f1b6da"
            ],
            [
             0.4,
             "#fde0ef"
            ],
            [
             0.5,
             "#f7f7f7"
            ],
            [
             0.6,
             "#e6f5d0"
            ],
            [
             0.7,
             "#b8e186"
            ],
            [
             0.8,
             "#7fbc41"
            ],
            [
             0.9,
             "#4d9221"
            ],
            [
             1,
             "#276419"
            ]
           ],
           "sequential": [
            [
             0,
             "#0d0887"
            ],
            [
             0.1111111111111111,
             "#46039f"
            ],
            [
             0.2222222222222222,
             "#7201a8"
            ],
            [
             0.3333333333333333,
             "#9c179e"
            ],
            [
             0.4444444444444444,
             "#bd3786"
            ],
            [
             0.5555555555555556,
             "#d8576b"
            ],
            [
             0.6666666666666666,
             "#ed7953"
            ],
            [
             0.7777777777777778,
             "#fb9f3a"
            ],
            [
             0.8888888888888888,
             "#fdca26"
            ],
            [
             1,
             "#f0f921"
            ]
           ],
           "sequentialminus": [
            [
             0,
             "#0d0887"
            ],
            [
             0.1111111111111111,
             "#46039f"
            ],
            [
             0.2222222222222222,
             "#7201a8"
            ],
            [
             0.3333333333333333,
             "#9c179e"
            ],
            [
             0.4444444444444444,
             "#bd3786"
            ],
            [
             0.5555555555555556,
             "#d8576b"
            ],
            [
             0.6666666666666666,
             "#ed7953"
            ],
            [
             0.7777777777777778,
             "#fb9f3a"
            ],
            [
             0.8888888888888888,
             "#fdca26"
            ],
            [
             1,
             "#f0f921"
            ]
           ]
          },
          "colorway": [
           "#636efa",
           "#EF553B",
           "#00cc96",
           "#ab63fa",
           "#FFA15A",
           "#19d3f3",
           "#FF6692",
           "#B6E880",
           "#FF97FF",
           "#FECB52"
          ],
          "font": {
           "color": "#2a3f5f"
          },
          "geo": {
           "bgcolor": "white",
           "lakecolor": "white",
           "landcolor": "#E5ECF6",
           "showlakes": true,
           "showland": true,
           "subunitcolor": "white"
          },
          "hoverlabel": {
           "align": "left"
          },
          "hovermode": "closest",
          "mapbox": {
           "style": "light"
          },
          "paper_bgcolor": "white",
          "plot_bgcolor": "#E5ECF6",
          "polar": {
           "angularaxis": {
            "gridcolor": "white",
            "linecolor": "white",
            "ticks": ""
           },
           "bgcolor": "#E5ECF6",
           "radialaxis": {
            "gridcolor": "white",
            "linecolor": "white",
            "ticks": ""
           }
          },
          "scene": {
           "xaxis": {
            "backgroundcolor": "#E5ECF6",
            "gridcolor": "white",
            "gridwidth": 2,
            "linecolor": "white",
            "showbackground": true,
            "ticks": "",
            "zerolinecolor": "white"
           },
           "yaxis": {
            "backgroundcolor": "#E5ECF6",
            "gridcolor": "white",
            "gridwidth": 2,
            "linecolor": "white",
            "showbackground": true,
            "ticks": "",
            "zerolinecolor": "white"
           },
           "zaxis": {
            "backgroundcolor": "#E5ECF6",
            "gridcolor": "white",
            "gridwidth": 2,
            "linecolor": "white",
            "showbackground": true,
            "ticks": "",
            "zerolinecolor": "white"
           }
          },
          "shapedefaults": {
           "line": {
            "color": "#2a3f5f"
           }
          },
          "ternary": {
           "aaxis": {
            "gridcolor": "white",
            "linecolor": "white",
            "ticks": ""
           },
           "baxis": {
            "gridcolor": "white",
            "linecolor": "white",
            "ticks": ""
           },
           "bgcolor": "#E5ECF6",
           "caxis": {
            "gridcolor": "white",
            "linecolor": "white",
            "ticks": ""
           }
          },
          "title": {
           "x": 0.05
          },
          "xaxis": {
           "automargin": true,
           "gridcolor": "white",
           "linecolor": "white",
           "ticks": "",
           "title": {
            "standoff": 15
           },
           "zerolinecolor": "white",
           "zerolinewidth": 2
          },
          "yaxis": {
           "automargin": true,
           "gridcolor": "white",
           "linecolor": "white",
           "ticks": "",
           "title": {
            "standoff": 15
           },
           "zerolinecolor": "white",
           "zerolinewidth": 2
          }
         }
        },
        "title": {
         "text": "Top 10 motivations les plus offertes pour le domaine de Data Science"
        },
        "xaxis": {
         "anchor": "y",
         "domain": [
          0,
          1
         ],
         "title": {
          "text": "Facilities"
         }
        },
        "yaxis": {
         "anchor": "x",
         "domain": [
          0,
          1
         ],
         "title": {
          "text": "Count"
         }
        }
       }
      }
     },
     "metadata": {},
     "output_type": "display_data"
    }
   ],
   "source": [
    "import plotly.express as px\n",
    "from collections import Counter\n",
    "\n",
    "# Use Counter to get the count of each element in the lists\n",
    "element_counter = Counter([element for sublist in df_data[df_data['Domaine'] == 'Data Science']['Facilities'] for element in sublist])\n",
    "# Convert the result to a DataFrame for better display\n",
    "element_counter = pd.DataFrame(list(element_counter.items()), columns=['Facilities', 'Count'])\n",
    "\n",
    "df_requir = element_counter.sort_values(by='Count',ascending=False)\n",
    "\n",
    "fig = px.bar(df_requir.head(10), x='Facilities', y='Count',color='Count',title=\"Top 10 motivations les plus offertes pour le domaine de Data Science\")\n",
    "fig.show()"
   ]
  },
  {
   "cell_type": "code",
   "execution_count": 299,
   "metadata": {},
   "outputs": [
    {
     "data": {
      "application/vnd.plotly.v1+json": {
       "config": {
        "plotlyServerURL": "https://plot.ly"
       },
       "data": [
        {
         "alignmentgroup": "True",
         "hovertemplate": "Facilities=%{x}<br>Count=%{marker.color}<extra></extra>",
         "legendgroup": "",
         "marker": {
          "color": [
           5,
           3,
           3,
           3,
           2,
           2,
           2,
           1,
           1,
           1
          ],
          "coloraxis": "coloraxis",
          "pattern": {
           "shape": ""
          }
         },
         "name": "",
         "offsetgroup": "",
         "orientation": "v",
         "showlegend": false,
         "textposition": "auto",
         "type": "bar",
         "x": [
          "Career development",
          "Competitive pay",
          "Health care",
          "Flex vacation",
          "Gear",
          "Equity",
          "Flex hours",
          "Lunch / meals",
          "Salary bonus",
          "Team events"
         ],
         "xaxis": "x",
         "y": [
          5,
          3,
          3,
          3,
          2,
          2,
          2,
          1,
          1,
          1
         ],
         "yaxis": "y"
        }
       ],
       "layout": {
        "barmode": "relative",
        "coloraxis": {
         "colorbar": {
          "title": {
           "text": "Count"
          }
         },
         "colorscale": [
          [
           0,
           "#0d0887"
          ],
          [
           0.1111111111111111,
           "#46039f"
          ],
          [
           0.2222222222222222,
           "#7201a8"
          ],
          [
           0.3333333333333333,
           "#9c179e"
          ],
          [
           0.4444444444444444,
           "#bd3786"
          ],
          [
           0.5555555555555556,
           "#d8576b"
          ],
          [
           0.6666666666666666,
           "#ed7953"
          ],
          [
           0.7777777777777778,
           "#fb9f3a"
          ],
          [
           0.8888888888888888,
           "#fdca26"
          ],
          [
           1,
           "#f0f921"
          ]
         ]
        },
        "legend": {
         "tracegroupgap": 0
        },
        "template": {
         "data": {
          "bar": [
           {
            "error_x": {
             "color": "#2a3f5f"
            },
            "error_y": {
             "color": "#2a3f5f"
            },
            "marker": {
             "line": {
              "color": "#E5ECF6",
              "width": 0.5
             },
             "pattern": {
              "fillmode": "overlay",
              "size": 10,
              "solidity": 0.2
             }
            },
            "type": "bar"
           }
          ],
          "barpolar": [
           {
            "marker": {
             "line": {
              "color": "#E5ECF6",
              "width": 0.5
             },
             "pattern": {
              "fillmode": "overlay",
              "size": 10,
              "solidity": 0.2
             }
            },
            "type": "barpolar"
           }
          ],
          "carpet": [
           {
            "aaxis": {
             "endlinecolor": "#2a3f5f",
             "gridcolor": "white",
             "linecolor": "white",
             "minorgridcolor": "white",
             "startlinecolor": "#2a3f5f"
            },
            "baxis": {
             "endlinecolor": "#2a3f5f",
             "gridcolor": "white",
             "linecolor": "white",
             "minorgridcolor": "white",
             "startlinecolor": "#2a3f5f"
            },
            "type": "carpet"
           }
          ],
          "choropleth": [
           {
            "colorbar": {
             "outlinewidth": 0,
             "ticks": ""
            },
            "type": "choropleth"
           }
          ],
          "contour": [
           {
            "colorbar": {
             "outlinewidth": 0,
             "ticks": ""
            },
            "colorscale": [
             [
              0,
              "#0d0887"
             ],
             [
              0.1111111111111111,
              "#46039f"
             ],
             [
              0.2222222222222222,
              "#7201a8"
             ],
             [
              0.3333333333333333,
              "#9c179e"
             ],
             [
              0.4444444444444444,
              "#bd3786"
             ],
             [
              0.5555555555555556,
              "#d8576b"
             ],
             [
              0.6666666666666666,
              "#ed7953"
             ],
             [
              0.7777777777777778,
              "#fb9f3a"
             ],
             [
              0.8888888888888888,
              "#fdca26"
             ],
             [
              1,
              "#f0f921"
             ]
            ],
            "type": "contour"
           }
          ],
          "contourcarpet": [
           {
            "colorbar": {
             "outlinewidth": 0,
             "ticks": ""
            },
            "type": "contourcarpet"
           }
          ],
          "heatmap": [
           {
            "colorbar": {
             "outlinewidth": 0,
             "ticks": ""
            },
            "colorscale": [
             [
              0,
              "#0d0887"
             ],
             [
              0.1111111111111111,
              "#46039f"
             ],
             [
              0.2222222222222222,
              "#7201a8"
             ],
             [
              0.3333333333333333,
              "#9c179e"
             ],
             [
              0.4444444444444444,
              "#bd3786"
             ],
             [
              0.5555555555555556,
              "#d8576b"
             ],
             [
              0.6666666666666666,
              "#ed7953"
             ],
             [
              0.7777777777777778,
              "#fb9f3a"
             ],
             [
              0.8888888888888888,
              "#fdca26"
             ],
             [
              1,
              "#f0f921"
             ]
            ],
            "type": "heatmap"
           }
          ],
          "heatmapgl": [
           {
            "colorbar": {
             "outlinewidth": 0,
             "ticks": ""
            },
            "colorscale": [
             [
              0,
              "#0d0887"
             ],
             [
              0.1111111111111111,
              "#46039f"
             ],
             [
              0.2222222222222222,
              "#7201a8"
             ],
             [
              0.3333333333333333,
              "#9c179e"
             ],
             [
              0.4444444444444444,
              "#bd3786"
             ],
             [
              0.5555555555555556,
              "#d8576b"
             ],
             [
              0.6666666666666666,
              "#ed7953"
             ],
             [
              0.7777777777777778,
              "#fb9f3a"
             ],
             [
              0.8888888888888888,
              "#fdca26"
             ],
             [
              1,
              "#f0f921"
             ]
            ],
            "type": "heatmapgl"
           }
          ],
          "histogram": [
           {
            "marker": {
             "pattern": {
              "fillmode": "overlay",
              "size": 10,
              "solidity": 0.2
             }
            },
            "type": "histogram"
           }
          ],
          "histogram2d": [
           {
            "colorbar": {
             "outlinewidth": 0,
             "ticks": ""
            },
            "colorscale": [
             [
              0,
              "#0d0887"
             ],
             [
              0.1111111111111111,
              "#46039f"
             ],
             [
              0.2222222222222222,
              "#7201a8"
             ],
             [
              0.3333333333333333,
              "#9c179e"
             ],
             [
              0.4444444444444444,
              "#bd3786"
             ],
             [
              0.5555555555555556,
              "#d8576b"
             ],
             [
              0.6666666666666666,
              "#ed7953"
             ],
             [
              0.7777777777777778,
              "#fb9f3a"
             ],
             [
              0.8888888888888888,
              "#fdca26"
             ],
             [
              1,
              "#f0f921"
             ]
            ],
            "type": "histogram2d"
           }
          ],
          "histogram2dcontour": [
           {
            "colorbar": {
             "outlinewidth": 0,
             "ticks": ""
            },
            "colorscale": [
             [
              0,
              "#0d0887"
             ],
             [
              0.1111111111111111,
              "#46039f"
             ],
             [
              0.2222222222222222,
              "#7201a8"
             ],
             [
              0.3333333333333333,
              "#9c179e"
             ],
             [
              0.4444444444444444,
              "#bd3786"
             ],
             [
              0.5555555555555556,
              "#d8576b"
             ],
             [
              0.6666666666666666,
              "#ed7953"
             ],
             [
              0.7777777777777778,
              "#fb9f3a"
             ],
             [
              0.8888888888888888,
              "#fdca26"
             ],
             [
              1,
              "#f0f921"
             ]
            ],
            "type": "histogram2dcontour"
           }
          ],
          "mesh3d": [
           {
            "colorbar": {
             "outlinewidth": 0,
             "ticks": ""
            },
            "type": "mesh3d"
           }
          ],
          "parcoords": [
           {
            "line": {
             "colorbar": {
              "outlinewidth": 0,
              "ticks": ""
             }
            },
            "type": "parcoords"
           }
          ],
          "pie": [
           {
            "automargin": true,
            "type": "pie"
           }
          ],
          "scatter": [
           {
            "fillpattern": {
             "fillmode": "overlay",
             "size": 10,
             "solidity": 0.2
            },
            "type": "scatter"
           }
          ],
          "scatter3d": [
           {
            "line": {
             "colorbar": {
              "outlinewidth": 0,
              "ticks": ""
             }
            },
            "marker": {
             "colorbar": {
              "outlinewidth": 0,
              "ticks": ""
             }
            },
            "type": "scatter3d"
           }
          ],
          "scattercarpet": [
           {
            "marker": {
             "colorbar": {
              "outlinewidth": 0,
              "ticks": ""
             }
            },
            "type": "scattercarpet"
           }
          ],
          "scattergeo": [
           {
            "marker": {
             "colorbar": {
              "outlinewidth": 0,
              "ticks": ""
             }
            },
            "type": "scattergeo"
           }
          ],
          "scattergl": [
           {
            "marker": {
             "colorbar": {
              "outlinewidth": 0,
              "ticks": ""
             }
            },
            "type": "scattergl"
           }
          ],
          "scattermapbox": [
           {
            "marker": {
             "colorbar": {
              "outlinewidth": 0,
              "ticks": ""
             }
            },
            "type": "scattermapbox"
           }
          ],
          "scatterpolar": [
           {
            "marker": {
             "colorbar": {
              "outlinewidth": 0,
              "ticks": ""
             }
            },
            "type": "scatterpolar"
           }
          ],
          "scatterpolargl": [
           {
            "marker": {
             "colorbar": {
              "outlinewidth": 0,
              "ticks": ""
             }
            },
            "type": "scatterpolargl"
           }
          ],
          "scatterternary": [
           {
            "marker": {
             "colorbar": {
              "outlinewidth": 0,
              "ticks": ""
             }
            },
            "type": "scatterternary"
           }
          ],
          "surface": [
           {
            "colorbar": {
             "outlinewidth": 0,
             "ticks": ""
            },
            "colorscale": [
             [
              0,
              "#0d0887"
             ],
             [
              0.1111111111111111,
              "#46039f"
             ],
             [
              0.2222222222222222,
              "#7201a8"
             ],
             [
              0.3333333333333333,
              "#9c179e"
             ],
             [
              0.4444444444444444,
              "#bd3786"
             ],
             [
              0.5555555555555556,
              "#d8576b"
             ],
             [
              0.6666666666666666,
              "#ed7953"
             ],
             [
              0.7777777777777778,
              "#fb9f3a"
             ],
             [
              0.8888888888888888,
              "#fdca26"
             ],
             [
              1,
              "#f0f921"
             ]
            ],
            "type": "surface"
           }
          ],
          "table": [
           {
            "cells": {
             "fill": {
              "color": "#EBF0F8"
             },
             "line": {
              "color": "white"
             }
            },
            "header": {
             "fill": {
              "color": "#C8D4E3"
             },
             "line": {
              "color": "white"
             }
            },
            "type": "table"
           }
          ]
         },
         "layout": {
          "annotationdefaults": {
           "arrowcolor": "#2a3f5f",
           "arrowhead": 0,
           "arrowwidth": 1
          },
          "autotypenumbers": "strict",
          "coloraxis": {
           "colorbar": {
            "outlinewidth": 0,
            "ticks": ""
           }
          },
          "colorscale": {
           "diverging": [
            [
             0,
             "#8e0152"
            ],
            [
             0.1,
             "#c51b7d"
            ],
            [
             0.2,
             "#de77ae"
            ],
            [
             0.3,
             "#f1b6da"
            ],
            [
             0.4,
             "#fde0ef"
            ],
            [
             0.5,
             "#f7f7f7"
            ],
            [
             0.6,
             "#e6f5d0"
            ],
            [
             0.7,
             "#b8e186"
            ],
            [
             0.8,
             "#7fbc41"
            ],
            [
             0.9,
             "#4d9221"
            ],
            [
             1,
             "#276419"
            ]
           ],
           "sequential": [
            [
             0,
             "#0d0887"
            ],
            [
             0.1111111111111111,
             "#46039f"
            ],
            [
             0.2222222222222222,
             "#7201a8"
            ],
            [
             0.3333333333333333,
             "#9c179e"
            ],
            [
             0.4444444444444444,
             "#bd3786"
            ],
            [
             0.5555555555555556,
             "#d8576b"
            ],
            [
             0.6666666666666666,
             "#ed7953"
            ],
            [
             0.7777777777777778,
             "#fb9f3a"
            ],
            [
             0.8888888888888888,
             "#fdca26"
            ],
            [
             1,
             "#f0f921"
            ]
           ],
           "sequentialminus": [
            [
             0,
             "#0d0887"
            ],
            [
             0.1111111111111111,
             "#46039f"
            ],
            [
             0.2222222222222222,
             "#7201a8"
            ],
            [
             0.3333333333333333,
             "#9c179e"
            ],
            [
             0.4444444444444444,
             "#bd3786"
            ],
            [
             0.5555555555555556,
             "#d8576b"
            ],
            [
             0.6666666666666666,
             "#ed7953"
            ],
            [
             0.7777777777777778,
             "#fb9f3a"
            ],
            [
             0.8888888888888888,
             "#fdca26"
            ],
            [
             1,
             "#f0f921"
            ]
           ]
          },
          "colorway": [
           "#636efa",
           "#EF553B",
           "#00cc96",
           "#ab63fa",
           "#FFA15A",
           "#19d3f3",
           "#FF6692",
           "#B6E880",
           "#FF97FF",
           "#FECB52"
          ],
          "font": {
           "color": "#2a3f5f"
          },
          "geo": {
           "bgcolor": "white",
           "lakecolor": "white",
           "landcolor": "#E5ECF6",
           "showlakes": true,
           "showland": true,
           "subunitcolor": "white"
          },
          "hoverlabel": {
           "align": "left"
          },
          "hovermode": "closest",
          "mapbox": {
           "style": "light"
          },
          "paper_bgcolor": "white",
          "plot_bgcolor": "#E5ECF6",
          "polar": {
           "angularaxis": {
            "gridcolor": "white",
            "linecolor": "white",
            "ticks": ""
           },
           "bgcolor": "#E5ECF6",
           "radialaxis": {
            "gridcolor": "white",
            "linecolor": "white",
            "ticks": ""
           }
          },
          "scene": {
           "xaxis": {
            "backgroundcolor": "#E5ECF6",
            "gridcolor": "white",
            "gridwidth": 2,
            "linecolor": "white",
            "showbackground": true,
            "ticks": "",
            "zerolinecolor": "white"
           },
           "yaxis": {
            "backgroundcolor": "#E5ECF6",
            "gridcolor": "white",
            "gridwidth": 2,
            "linecolor": "white",
            "showbackground": true,
            "ticks": "",
            "zerolinecolor": "white"
           },
           "zaxis": {
            "backgroundcolor": "#E5ECF6",
            "gridcolor": "white",
            "gridwidth": 2,
            "linecolor": "white",
            "showbackground": true,
            "ticks": "",
            "zerolinecolor": "white"
           }
          },
          "shapedefaults": {
           "line": {
            "color": "#2a3f5f"
           }
          },
          "ternary": {
           "aaxis": {
            "gridcolor": "white",
            "linecolor": "white",
            "ticks": ""
           },
           "baxis": {
            "gridcolor": "white",
            "linecolor": "white",
            "ticks": ""
           },
           "bgcolor": "#E5ECF6",
           "caxis": {
            "gridcolor": "white",
            "linecolor": "white",
            "ticks": ""
           }
          },
          "title": {
           "x": 0.05
          },
          "xaxis": {
           "automargin": true,
           "gridcolor": "white",
           "linecolor": "white",
           "ticks": "",
           "title": {
            "standoff": 15
           },
           "zerolinecolor": "white",
           "zerolinewidth": 2
          },
          "yaxis": {
           "automargin": true,
           "gridcolor": "white",
           "linecolor": "white",
           "ticks": "",
           "title": {
            "standoff": 15
           },
           "zerolinecolor": "white",
           "zerolinewidth": 2
          }
         }
        },
        "title": {
         "text": "Top 10 motivations les plus offertes pour le domaine de Big Data"
        },
        "xaxis": {
         "anchor": "y",
         "domain": [
          0,
          1
         ],
         "title": {
          "text": "Facilities"
         }
        },
        "yaxis": {
         "anchor": "x",
         "domain": [
          0,
          1
         ],
         "title": {
          "text": "Count"
         }
        }
       }
      }
     },
     "metadata": {},
     "output_type": "display_data"
    }
   ],
   "source": [
    "import plotly.express as px\n",
    "from collections import Counter\n",
    "\n",
    "# Use Counter to get the count of each element in the lists\n",
    "element_counter = Counter([element for sublist in df_data[df_data['Domaine'] == 'Big Data']['Facilities'] for element in sublist])\n",
    "# Convert the result to a DataFrame for better display\n",
    "element_counter = pd.DataFrame(list(element_counter.items()), columns=['Facilities', 'Count'])\n",
    "\n",
    "df_requir = element_counter.sort_values(by='Count',ascending=False)\n",
    "\n",
    "fig = px.bar(df_requir.head(10), x='Facilities', y='Count',color='Count',title=\"Top 10 motivations les plus offertes pour le domaine de Big Data\")\n",
    "fig.show()"
   ]
  },
  {
   "cell_type": "code",
   "execution_count": 300,
   "metadata": {},
   "outputs": [
    {
     "data": {
      "application/vnd.plotly.v1+json": {
       "config": {
        "plotlyServerURL": "https://plot.ly"
       },
       "data": [
        {
         "alignmentgroup": "True",
         "hovertemplate": "Facilities=%{x}<br>Count=%{marker.color}<extra></extra>",
         "legendgroup": "",
         "marker": {
          "color": [
           67,
           30,
           29,
           25,
           18,
           16,
           16,
           8,
           7,
           6
          ],
          "coloraxis": "coloraxis",
          "pattern": {
           "shape": ""
          }
         },
         "name": "",
         "offsetgroup": "",
         "orientation": "v",
         "showlegend": false,
         "textposition": "auto",
         "type": "bar",
         "x": [
          "Career development",
          "Health care",
          "Flex hours",
          "Flex vacation",
          "Competitive pay",
          "Equity",
          "Startup environment",
          "Salary bonus",
          "401(k) matching",
          "Insurance"
         ],
         "xaxis": "x",
         "y": [
          67,
          30,
          29,
          25,
          18,
          16,
          16,
          8,
          7,
          6
         ],
         "yaxis": "y"
        }
       ],
       "layout": {
        "barmode": "relative",
        "coloraxis": {
         "colorbar": {
          "title": {
           "text": "Count"
          }
         },
         "colorscale": [
          [
           0,
           "#0d0887"
          ],
          [
           0.1111111111111111,
           "#46039f"
          ],
          [
           0.2222222222222222,
           "#7201a8"
          ],
          [
           0.3333333333333333,
           "#9c179e"
          ],
          [
           0.4444444444444444,
           "#bd3786"
          ],
          [
           0.5555555555555556,
           "#d8576b"
          ],
          [
           0.6666666666666666,
           "#ed7953"
          ],
          [
           0.7777777777777778,
           "#fb9f3a"
          ],
          [
           0.8888888888888888,
           "#fdca26"
          ],
          [
           1,
           "#f0f921"
          ]
         ]
        },
        "legend": {
         "tracegroupgap": 0
        },
        "template": {
         "data": {
          "bar": [
           {
            "error_x": {
             "color": "#2a3f5f"
            },
            "error_y": {
             "color": "#2a3f5f"
            },
            "marker": {
             "line": {
              "color": "#E5ECF6",
              "width": 0.5
             },
             "pattern": {
              "fillmode": "overlay",
              "size": 10,
              "solidity": 0.2
             }
            },
            "type": "bar"
           }
          ],
          "barpolar": [
           {
            "marker": {
             "line": {
              "color": "#E5ECF6",
              "width": 0.5
             },
             "pattern": {
              "fillmode": "overlay",
              "size": 10,
              "solidity": 0.2
             }
            },
            "type": "barpolar"
           }
          ],
          "carpet": [
           {
            "aaxis": {
             "endlinecolor": "#2a3f5f",
             "gridcolor": "white",
             "linecolor": "white",
             "minorgridcolor": "white",
             "startlinecolor": "#2a3f5f"
            },
            "baxis": {
             "endlinecolor": "#2a3f5f",
             "gridcolor": "white",
             "linecolor": "white",
             "minorgridcolor": "white",
             "startlinecolor": "#2a3f5f"
            },
            "type": "carpet"
           }
          ],
          "choropleth": [
           {
            "colorbar": {
             "outlinewidth": 0,
             "ticks": ""
            },
            "type": "choropleth"
           }
          ],
          "contour": [
           {
            "colorbar": {
             "outlinewidth": 0,
             "ticks": ""
            },
            "colorscale": [
             [
              0,
              "#0d0887"
             ],
             [
              0.1111111111111111,
              "#46039f"
             ],
             [
              0.2222222222222222,
              "#7201a8"
             ],
             [
              0.3333333333333333,
              "#9c179e"
             ],
             [
              0.4444444444444444,
              "#bd3786"
             ],
             [
              0.5555555555555556,
              "#d8576b"
             ],
             [
              0.6666666666666666,
              "#ed7953"
             ],
             [
              0.7777777777777778,
              "#fb9f3a"
             ],
             [
              0.8888888888888888,
              "#fdca26"
             ],
             [
              1,
              "#f0f921"
             ]
            ],
            "type": "contour"
           }
          ],
          "contourcarpet": [
           {
            "colorbar": {
             "outlinewidth": 0,
             "ticks": ""
            },
            "type": "contourcarpet"
           }
          ],
          "heatmap": [
           {
            "colorbar": {
             "outlinewidth": 0,
             "ticks": ""
            },
            "colorscale": [
             [
              0,
              "#0d0887"
             ],
             [
              0.1111111111111111,
              "#46039f"
             ],
             [
              0.2222222222222222,
              "#7201a8"
             ],
             [
              0.3333333333333333,
              "#9c179e"
             ],
             [
              0.4444444444444444,
              "#bd3786"
             ],
             [
              0.5555555555555556,
              "#d8576b"
             ],
             [
              0.6666666666666666,
              "#ed7953"
             ],
             [
              0.7777777777777778,
              "#fb9f3a"
             ],
             [
              0.8888888888888888,
              "#fdca26"
             ],
             [
              1,
              "#f0f921"
             ]
            ],
            "type": "heatmap"
           }
          ],
          "heatmapgl": [
           {
            "colorbar": {
             "outlinewidth": 0,
             "ticks": ""
            },
            "colorscale": [
             [
              0,
              "#0d0887"
             ],
             [
              0.1111111111111111,
              "#46039f"
             ],
             [
              0.2222222222222222,
              "#7201a8"
             ],
             [
              0.3333333333333333,
              "#9c179e"
             ],
             [
              0.4444444444444444,
              "#bd3786"
             ],
             [
              0.5555555555555556,
              "#d8576b"
             ],
             [
              0.6666666666666666,
              "#ed7953"
             ],
             [
              0.7777777777777778,
              "#fb9f3a"
             ],
             [
              0.8888888888888888,
              "#fdca26"
             ],
             [
              1,
              "#f0f921"
             ]
            ],
            "type": "heatmapgl"
           }
          ],
          "histogram": [
           {
            "marker": {
             "pattern": {
              "fillmode": "overlay",
              "size": 10,
              "solidity": 0.2
             }
            },
            "type": "histogram"
           }
          ],
          "histogram2d": [
           {
            "colorbar": {
             "outlinewidth": 0,
             "ticks": ""
            },
            "colorscale": [
             [
              0,
              "#0d0887"
             ],
             [
              0.1111111111111111,
              "#46039f"
             ],
             [
              0.2222222222222222,
              "#7201a8"
             ],
             [
              0.3333333333333333,
              "#9c179e"
             ],
             [
              0.4444444444444444,
              "#bd3786"
             ],
             [
              0.5555555555555556,
              "#d8576b"
             ],
             [
              0.6666666666666666,
              "#ed7953"
             ],
             [
              0.7777777777777778,
              "#fb9f3a"
             ],
             [
              0.8888888888888888,
              "#fdca26"
             ],
             [
              1,
              "#f0f921"
             ]
            ],
            "type": "histogram2d"
           }
          ],
          "histogram2dcontour": [
           {
            "colorbar": {
             "outlinewidth": 0,
             "ticks": ""
            },
            "colorscale": [
             [
              0,
              "#0d0887"
             ],
             [
              0.1111111111111111,
              "#46039f"
             ],
             [
              0.2222222222222222,
              "#7201a8"
             ],
             [
              0.3333333333333333,
              "#9c179e"
             ],
             [
              0.4444444444444444,
              "#bd3786"
             ],
             [
              0.5555555555555556,
              "#d8576b"
             ],
             [
              0.6666666666666666,
              "#ed7953"
             ],
             [
              0.7777777777777778,
              "#fb9f3a"
             ],
             [
              0.8888888888888888,
              "#fdca26"
             ],
             [
              1,
              "#f0f921"
             ]
            ],
            "type": "histogram2dcontour"
           }
          ],
          "mesh3d": [
           {
            "colorbar": {
             "outlinewidth": 0,
             "ticks": ""
            },
            "type": "mesh3d"
           }
          ],
          "parcoords": [
           {
            "line": {
             "colorbar": {
              "outlinewidth": 0,
              "ticks": ""
             }
            },
            "type": "parcoords"
           }
          ],
          "pie": [
           {
            "automargin": true,
            "type": "pie"
           }
          ],
          "scatter": [
           {
            "fillpattern": {
             "fillmode": "overlay",
             "size": 10,
             "solidity": 0.2
            },
            "type": "scatter"
           }
          ],
          "scatter3d": [
           {
            "line": {
             "colorbar": {
              "outlinewidth": 0,
              "ticks": ""
             }
            },
            "marker": {
             "colorbar": {
              "outlinewidth": 0,
              "ticks": ""
             }
            },
            "type": "scatter3d"
           }
          ],
          "scattercarpet": [
           {
            "marker": {
             "colorbar": {
              "outlinewidth": 0,
              "ticks": ""
             }
            },
            "type": "scattercarpet"
           }
          ],
          "scattergeo": [
           {
            "marker": {
             "colorbar": {
              "outlinewidth": 0,
              "ticks": ""
             }
            },
            "type": "scattergeo"
           }
          ],
          "scattergl": [
           {
            "marker": {
             "colorbar": {
              "outlinewidth": 0,
              "ticks": ""
             }
            },
            "type": "scattergl"
           }
          ],
          "scattermapbox": [
           {
            "marker": {
             "colorbar": {
              "outlinewidth": 0,
              "ticks": ""
             }
            },
            "type": "scattermapbox"
           }
          ],
          "scatterpolar": [
           {
            "marker": {
             "colorbar": {
              "outlinewidth": 0,
              "ticks": ""
             }
            },
            "type": "scatterpolar"
           }
          ],
          "scatterpolargl": [
           {
            "marker": {
             "colorbar": {
              "outlinewidth": 0,
              "ticks": ""
             }
            },
            "type": "scatterpolargl"
           }
          ],
          "scatterternary": [
           {
            "marker": {
             "colorbar": {
              "outlinewidth": 0,
              "ticks": ""
             }
            },
            "type": "scatterternary"
           }
          ],
          "surface": [
           {
            "colorbar": {
             "outlinewidth": 0,
             "ticks": ""
            },
            "colorscale": [
             [
              0,
              "#0d0887"
             ],
             [
              0.1111111111111111,
              "#46039f"
             ],
             [
              0.2222222222222222,
              "#7201a8"
             ],
             [
              0.3333333333333333,
              "#9c179e"
             ],
             [
              0.4444444444444444,
              "#bd3786"
             ],
             [
              0.5555555555555556,
              "#d8576b"
             ],
             [
              0.6666666666666666,
              "#ed7953"
             ],
             [
              0.7777777777777778,
              "#fb9f3a"
             ],
             [
              0.8888888888888888,
              "#fdca26"
             ],
             [
              1,
              "#f0f921"
             ]
            ],
            "type": "surface"
           }
          ],
          "table": [
           {
            "cells": {
             "fill": {
              "color": "#EBF0F8"
             },
             "line": {
              "color": "white"
             }
            },
            "header": {
             "fill": {
              "color": "#C8D4E3"
             },
             "line": {
              "color": "white"
             }
            },
            "type": "table"
           }
          ]
         },
         "layout": {
          "annotationdefaults": {
           "arrowcolor": "#2a3f5f",
           "arrowhead": 0,
           "arrowwidth": 1
          },
          "autotypenumbers": "strict",
          "coloraxis": {
           "colorbar": {
            "outlinewidth": 0,
            "ticks": ""
           }
          },
          "colorscale": {
           "diverging": [
            [
             0,
             "#8e0152"
            ],
            [
             0.1,
             "#c51b7d"
            ],
            [
             0.2,
             "#de77ae"
            ],
            [
             0.3,
             "#f1b6da"
            ],
            [
             0.4,
             "#fde0ef"
            ],
            [
             0.5,
             "#f7f7f7"
            ],
            [
             0.6,
             "#e6f5d0"
            ],
            [
             0.7,
             "#b8e186"
            ],
            [
             0.8,
             "#7fbc41"
            ],
            [
             0.9,
             "#4d9221"
            ],
            [
             1,
             "#276419"
            ]
           ],
           "sequential": [
            [
             0,
             "#0d0887"
            ],
            [
             0.1111111111111111,
             "#46039f"
            ],
            [
             0.2222222222222222,
             "#7201a8"
            ],
            [
             0.3333333333333333,
             "#9c179e"
            ],
            [
             0.4444444444444444,
             "#bd3786"
            ],
            [
             0.5555555555555556,
             "#d8576b"
            ],
            [
             0.6666666666666666,
             "#ed7953"
            ],
            [
             0.7777777777777778,
             "#fb9f3a"
            ],
            [
             0.8888888888888888,
             "#fdca26"
            ],
            [
             1,
             "#f0f921"
            ]
           ],
           "sequentialminus": [
            [
             0,
             "#0d0887"
            ],
            [
             0.1111111111111111,
             "#46039f"
            ],
            [
             0.2222222222222222,
             "#7201a8"
            ],
            [
             0.3333333333333333,
             "#9c179e"
            ],
            [
             0.4444444444444444,
             "#bd3786"
            ],
            [
             0.5555555555555556,
             "#d8576b"
            ],
            [
             0.6666666666666666,
             "#ed7953"
            ],
            [
             0.7777777777777778,
             "#fb9f3a"
            ],
            [
             0.8888888888888888,
             "#fdca26"
            ],
            [
             1,
             "#f0f921"
            ]
           ]
          },
          "colorway": [
           "#636efa",
           "#EF553B",
           "#00cc96",
           "#ab63fa",
           "#FFA15A",
           "#19d3f3",
           "#FF6692",
           "#B6E880",
           "#FF97FF",
           "#FECB52"
          ],
          "font": {
           "color": "#2a3f5f"
          },
          "geo": {
           "bgcolor": "white",
           "lakecolor": "white",
           "landcolor": "#E5ECF6",
           "showlakes": true,
           "showland": true,
           "subunitcolor": "white"
          },
          "hoverlabel": {
           "align": "left"
          },
          "hovermode": "closest",
          "mapbox": {
           "style": "light"
          },
          "paper_bgcolor": "white",
          "plot_bgcolor": "#E5ECF6",
          "polar": {
           "angularaxis": {
            "gridcolor": "white",
            "linecolor": "white",
            "ticks": ""
           },
           "bgcolor": "#E5ECF6",
           "radialaxis": {
            "gridcolor": "white",
            "linecolor": "white",
            "ticks": ""
           }
          },
          "scene": {
           "xaxis": {
            "backgroundcolor": "#E5ECF6",
            "gridcolor": "white",
            "gridwidth": 2,
            "linecolor": "white",
            "showbackground": true,
            "ticks": "",
            "zerolinecolor": "white"
           },
           "yaxis": {
            "backgroundcolor": "#E5ECF6",
            "gridcolor": "white",
            "gridwidth": 2,
            "linecolor": "white",
            "showbackground": true,
            "ticks": "",
            "zerolinecolor": "white"
           },
           "zaxis": {
            "backgroundcolor": "#E5ECF6",
            "gridcolor": "white",
            "gridwidth": 2,
            "linecolor": "white",
            "showbackground": true,
            "ticks": "",
            "zerolinecolor": "white"
           }
          },
          "shapedefaults": {
           "line": {
            "color": "#2a3f5f"
           }
          },
          "ternary": {
           "aaxis": {
            "gridcolor": "white",
            "linecolor": "white",
            "ticks": ""
           },
           "baxis": {
            "gridcolor": "white",
            "linecolor": "white",
            "ticks": ""
           },
           "bgcolor": "#E5ECF6",
           "caxis": {
            "gridcolor": "white",
            "linecolor": "white",
            "ticks": ""
           }
          },
          "title": {
           "x": 0.05
          },
          "xaxis": {
           "automargin": true,
           "gridcolor": "white",
           "linecolor": "white",
           "ticks": "",
           "title": {
            "standoff": 15
           },
           "zerolinecolor": "white",
           "zerolinewidth": 2
          },
          "yaxis": {
           "automargin": true,
           "gridcolor": "white",
           "linecolor": "white",
           "ticks": "",
           "title": {
            "standoff": 15
           },
           "zerolinecolor": "white",
           "zerolinewidth": 2
          }
         }
        },
        "title": {
         "text": "Top 10 motivations les plus offertes pour le domaine de Machine Learning (AI)"
        },
        "xaxis": {
         "anchor": "y",
         "domain": [
          0,
          1
         ],
         "title": {
          "text": "Facilities"
         }
        },
        "yaxis": {
         "anchor": "x",
         "domain": [
          0,
          1
         ],
         "title": {
          "text": "Count"
         }
        }
       }
      }
     },
     "metadata": {},
     "output_type": "display_data"
    }
   ],
   "source": [
    "import plotly.express as px\n",
    "from collections import Counter\n",
    "\n",
    "# Use Counter to get the count of each element in the lists\n",
    "element_counter = Counter([element for sublist in df_data[df_data['Domaine'] == 'Machine Learning (AI)']['Facilities'] for element in sublist])\n",
    "# Convert the result to a DataFrame for better display\n",
    "element_counter = pd.DataFrame(list(element_counter.items()), columns=['Facilities', 'Count'])\n",
    "\n",
    "df_requir = element_counter.sort_values(by='Count',ascending=False)\n",
    "\n",
    "fig = px.bar(df_requir.head(10), x='Facilities', y='Count',color='Count',title=\"Top 10 motivations les plus offertes pour le domaine de Machine Learning (AI)\")\n",
    "fig.show()"
   ]
  },
  {
   "cell_type": "markdown",
   "metadata": {},
   "source": [
    "## Count of work place for each domaine"
   ]
  },
  {
   "cell_type": "code",
   "execution_count": 315,
   "metadata": {},
   "outputs": [
    {
     "data": {
      "text/html": [
       "<div>\n",
       "<style scoped>\n",
       "    .dataframe tbody tr th:only-of-type {\n",
       "        vertical-align: middle;\n",
       "    }\n",
       "\n",
       "    .dataframe tbody tr th {\n",
       "        vertical-align: top;\n",
       "    }\n",
       "\n",
       "    .dataframe thead th {\n",
       "        text-align: right;\n",
       "    }\n",
       "</style>\n",
       "<table border=\"1\" class=\"dataframe\">\n",
       "  <thead>\n",
       "    <tr style=\"text-align: right;\">\n",
       "      <th></th>\n",
       "      <th>Domaine</th>\n",
       "      <th>Work_Place</th>\n",
       "      <th>Count</th>\n",
       "    </tr>\n",
       "  </thead>\n",
       "  <tbody>\n",
       "    <tr>\n",
       "      <th>0</th>\n",
       "      <td>Big Data</td>\n",
       "      <td>Local</td>\n",
       "      <td>10</td>\n",
       "    </tr>\n",
       "    <tr>\n",
       "      <th>1</th>\n",
       "      <td>Data Science</td>\n",
       "      <td>Hybrid</td>\n",
       "      <td>2</td>\n",
       "    </tr>\n",
       "    <tr>\n",
       "      <th>2</th>\n",
       "      <td>Data Science</td>\n",
       "      <td>Local</td>\n",
       "      <td>265</td>\n",
       "    </tr>\n",
       "    <tr>\n",
       "      <th>3</th>\n",
       "      <td>Data Science</td>\n",
       "      <td>Remote</td>\n",
       "      <td>91</td>\n",
       "    </tr>\n",
       "    <tr>\n",
       "      <th>4</th>\n",
       "      <td>Machine Learning (AI)</td>\n",
       "      <td>Hybrid</td>\n",
       "      <td>1</td>\n",
       "    </tr>\n",
       "    <tr>\n",
       "      <th>5</th>\n",
       "      <td>Machine Learning (AI)</td>\n",
       "      <td>Local</td>\n",
       "      <td>62</td>\n",
       "    </tr>\n",
       "    <tr>\n",
       "      <th>6</th>\n",
       "      <td>Machine Learning (AI)</td>\n",
       "      <td>Remote</td>\n",
       "      <td>18</td>\n",
       "    </tr>\n",
       "  </tbody>\n",
       "</table>\n",
       "</div>"
      ],
      "text/plain": [
       "                 Domaine Work_Place  Count\n",
       "0               Big Data      Local     10\n",
       "1           Data Science     Hybrid      2\n",
       "2           Data Science      Local    265\n",
       "3           Data Science     Remote     91\n",
       "4  Machine Learning (AI)     Hybrid      1\n",
       "5  Machine Learning (AI)      Local     62\n",
       "6  Machine Learning (AI)     Remote     18"
      ]
     },
     "execution_count": 315,
     "metadata": {},
     "output_type": "execute_result"
    }
   ],
   "source": [
    "df_workplace = df_data.groupby(['Domaine', 'Work_Place']).size().reset_index(name='Count')\n",
    "\n",
    "df_workplace"
   ]
  },
  {
   "cell_type": "code",
   "execution_count": 314,
   "metadata": {},
   "outputs": [
    {
     "data": {
      "application/vnd.plotly.v1+json": {
       "config": {
        "plotlyServerURL": "https://plot.ly"
       },
       "data": [
        {
         "alignmentgroup": "True",
         "hovertemplate": "Work Place=Local<br>Domaine=%{x}<br>Count=%{text}<extra></extra>",
         "legendgroup": "Local",
         "marker": {
          "color": "#636efa",
          "pattern": {
           "shape": ""
          }
         },
         "name": "Local",
         "offsetgroup": "Local",
         "orientation": "v",
         "showlegend": true,
         "text": [
          10,
          265,
          62
         ],
         "textposition": "auto",
         "type": "bar",
         "x": [
          "Big Data",
          "Data Science",
          "Machine Learning (AI)"
         ],
         "xaxis": "x",
         "y": [
          10,
          265,
          62
         ],
         "yaxis": "y"
        },
        {
         "alignmentgroup": "True",
         "hovertemplate": "Work Place=Hybrid<br>Domaine=%{x}<br>Count=%{text}<extra></extra>",
         "legendgroup": "Hybrid",
         "marker": {
          "color": "#EF553B",
          "pattern": {
           "shape": ""
          }
         },
         "name": "Hybrid",
         "offsetgroup": "Hybrid",
         "orientation": "v",
         "showlegend": true,
         "text": [
          2,
          1
         ],
         "textposition": "auto",
         "type": "bar",
         "x": [
          "Data Science",
          "Machine Learning (AI)"
         ],
         "xaxis": "x",
         "y": [
          2,
          1
         ],
         "yaxis": "y"
        },
        {
         "alignmentgroup": "True",
         "hovertemplate": "Work Place=Remote<br>Domaine=%{x}<br>Count=%{text}<extra></extra>",
         "legendgroup": "Remote",
         "marker": {
          "color": "#00cc96",
          "pattern": {
           "shape": ""
          }
         },
         "name": "Remote",
         "offsetgroup": "Remote",
         "orientation": "v",
         "showlegend": true,
         "text": [
          91,
          18
         ],
         "textposition": "auto",
         "type": "bar",
         "x": [
          "Data Science",
          "Machine Learning (AI)"
         ],
         "xaxis": "x",
         "y": [
          91,
          18
         ],
         "yaxis": "y"
        }
       ],
       "layout": {
        "barmode": "relative",
        "height": 500,
        "legend": {
         "title": {
          "text": "Work Place"
         },
         "tracegroupgap": 0
        },
        "template": {
         "data": {
          "bar": [
           {
            "error_x": {
             "color": "#2a3f5f"
            },
            "error_y": {
             "color": "#2a3f5f"
            },
            "marker": {
             "line": {
              "color": "#E5ECF6",
              "width": 0.5
             },
             "pattern": {
              "fillmode": "overlay",
              "size": 10,
              "solidity": 0.2
             }
            },
            "type": "bar"
           }
          ],
          "barpolar": [
           {
            "marker": {
             "line": {
              "color": "#E5ECF6",
              "width": 0.5
             },
             "pattern": {
              "fillmode": "overlay",
              "size": 10,
              "solidity": 0.2
             }
            },
            "type": "barpolar"
           }
          ],
          "carpet": [
           {
            "aaxis": {
             "endlinecolor": "#2a3f5f",
             "gridcolor": "white",
             "linecolor": "white",
             "minorgridcolor": "white",
             "startlinecolor": "#2a3f5f"
            },
            "baxis": {
             "endlinecolor": "#2a3f5f",
             "gridcolor": "white",
             "linecolor": "white",
             "minorgridcolor": "white",
             "startlinecolor": "#2a3f5f"
            },
            "type": "carpet"
           }
          ],
          "choropleth": [
           {
            "colorbar": {
             "outlinewidth": 0,
             "ticks": ""
            },
            "type": "choropleth"
           }
          ],
          "contour": [
           {
            "colorbar": {
             "outlinewidth": 0,
             "ticks": ""
            },
            "colorscale": [
             [
              0,
              "#0d0887"
             ],
             [
              0.1111111111111111,
              "#46039f"
             ],
             [
              0.2222222222222222,
              "#7201a8"
             ],
             [
              0.3333333333333333,
              "#9c179e"
             ],
             [
              0.4444444444444444,
              "#bd3786"
             ],
             [
              0.5555555555555556,
              "#d8576b"
             ],
             [
              0.6666666666666666,
              "#ed7953"
             ],
             [
              0.7777777777777778,
              "#fb9f3a"
             ],
             [
              0.8888888888888888,
              "#fdca26"
             ],
             [
              1,
              "#f0f921"
             ]
            ],
            "type": "contour"
           }
          ],
          "contourcarpet": [
           {
            "colorbar": {
             "outlinewidth": 0,
             "ticks": ""
            },
            "type": "contourcarpet"
           }
          ],
          "heatmap": [
           {
            "colorbar": {
             "outlinewidth": 0,
             "ticks": ""
            },
            "colorscale": [
             [
              0,
              "#0d0887"
             ],
             [
              0.1111111111111111,
              "#46039f"
             ],
             [
              0.2222222222222222,
              "#7201a8"
             ],
             [
              0.3333333333333333,
              "#9c179e"
             ],
             [
              0.4444444444444444,
              "#bd3786"
             ],
             [
              0.5555555555555556,
              "#d8576b"
             ],
             [
              0.6666666666666666,
              "#ed7953"
             ],
             [
              0.7777777777777778,
              "#fb9f3a"
             ],
             [
              0.8888888888888888,
              "#fdca26"
             ],
             [
              1,
              "#f0f921"
             ]
            ],
            "type": "heatmap"
           }
          ],
          "heatmapgl": [
           {
            "colorbar": {
             "outlinewidth": 0,
             "ticks": ""
            },
            "colorscale": [
             [
              0,
              "#0d0887"
             ],
             [
              0.1111111111111111,
              "#46039f"
             ],
             [
              0.2222222222222222,
              "#7201a8"
             ],
             [
              0.3333333333333333,
              "#9c179e"
             ],
             [
              0.4444444444444444,
              "#bd3786"
             ],
             [
              0.5555555555555556,
              "#d8576b"
             ],
             [
              0.6666666666666666,
              "#ed7953"
             ],
             [
              0.7777777777777778,
              "#fb9f3a"
             ],
             [
              0.8888888888888888,
              "#fdca26"
             ],
             [
              1,
              "#f0f921"
             ]
            ],
            "type": "heatmapgl"
           }
          ],
          "histogram": [
           {
            "marker": {
             "pattern": {
              "fillmode": "overlay",
              "size": 10,
              "solidity": 0.2
             }
            },
            "type": "histogram"
           }
          ],
          "histogram2d": [
           {
            "colorbar": {
             "outlinewidth": 0,
             "ticks": ""
            },
            "colorscale": [
             [
              0,
              "#0d0887"
             ],
             [
              0.1111111111111111,
              "#46039f"
             ],
             [
              0.2222222222222222,
              "#7201a8"
             ],
             [
              0.3333333333333333,
              "#9c179e"
             ],
             [
              0.4444444444444444,
              "#bd3786"
             ],
             [
              0.5555555555555556,
              "#d8576b"
             ],
             [
              0.6666666666666666,
              "#ed7953"
             ],
             [
              0.7777777777777778,
              "#fb9f3a"
             ],
             [
              0.8888888888888888,
              "#fdca26"
             ],
             [
              1,
              "#f0f921"
             ]
            ],
            "type": "histogram2d"
           }
          ],
          "histogram2dcontour": [
           {
            "colorbar": {
             "outlinewidth": 0,
             "ticks": ""
            },
            "colorscale": [
             [
              0,
              "#0d0887"
             ],
             [
              0.1111111111111111,
              "#46039f"
             ],
             [
              0.2222222222222222,
              "#7201a8"
             ],
             [
              0.3333333333333333,
              "#9c179e"
             ],
             [
              0.4444444444444444,
              "#bd3786"
             ],
             [
              0.5555555555555556,
              "#d8576b"
             ],
             [
              0.6666666666666666,
              "#ed7953"
             ],
             [
              0.7777777777777778,
              "#fb9f3a"
             ],
             [
              0.8888888888888888,
              "#fdca26"
             ],
             [
              1,
              "#f0f921"
             ]
            ],
            "type": "histogram2dcontour"
           }
          ],
          "mesh3d": [
           {
            "colorbar": {
             "outlinewidth": 0,
             "ticks": ""
            },
            "type": "mesh3d"
           }
          ],
          "parcoords": [
           {
            "line": {
             "colorbar": {
              "outlinewidth": 0,
              "ticks": ""
             }
            },
            "type": "parcoords"
           }
          ],
          "pie": [
           {
            "automargin": true,
            "type": "pie"
           }
          ],
          "scatter": [
           {
            "fillpattern": {
             "fillmode": "overlay",
             "size": 10,
             "solidity": 0.2
            },
            "type": "scatter"
           }
          ],
          "scatter3d": [
           {
            "line": {
             "colorbar": {
              "outlinewidth": 0,
              "ticks": ""
             }
            },
            "marker": {
             "colorbar": {
              "outlinewidth": 0,
              "ticks": ""
             }
            },
            "type": "scatter3d"
           }
          ],
          "scattercarpet": [
           {
            "marker": {
             "colorbar": {
              "outlinewidth": 0,
              "ticks": ""
             }
            },
            "type": "scattercarpet"
           }
          ],
          "scattergeo": [
           {
            "marker": {
             "colorbar": {
              "outlinewidth": 0,
              "ticks": ""
             }
            },
            "type": "scattergeo"
           }
          ],
          "scattergl": [
           {
            "marker": {
             "colorbar": {
              "outlinewidth": 0,
              "ticks": ""
             }
            },
            "type": "scattergl"
           }
          ],
          "scattermapbox": [
           {
            "marker": {
             "colorbar": {
              "outlinewidth": 0,
              "ticks": ""
             }
            },
            "type": "scattermapbox"
           }
          ],
          "scatterpolar": [
           {
            "marker": {
             "colorbar": {
              "outlinewidth": 0,
              "ticks": ""
             }
            },
            "type": "scatterpolar"
           }
          ],
          "scatterpolargl": [
           {
            "marker": {
             "colorbar": {
              "outlinewidth": 0,
              "ticks": ""
             }
            },
            "type": "scatterpolargl"
           }
          ],
          "scatterternary": [
           {
            "marker": {
             "colorbar": {
              "outlinewidth": 0,
              "ticks": ""
             }
            },
            "type": "scatterternary"
           }
          ],
          "surface": [
           {
            "colorbar": {
             "outlinewidth": 0,
             "ticks": ""
            },
            "colorscale": [
             [
              0,
              "#0d0887"
             ],
             [
              0.1111111111111111,
              "#46039f"
             ],
             [
              0.2222222222222222,
              "#7201a8"
             ],
             [
              0.3333333333333333,
              "#9c179e"
             ],
             [
              0.4444444444444444,
              "#bd3786"
             ],
             [
              0.5555555555555556,
              "#d8576b"
             ],
             [
              0.6666666666666666,
              "#ed7953"
             ],
             [
              0.7777777777777778,
              "#fb9f3a"
             ],
             [
              0.8888888888888888,
              "#fdca26"
             ],
             [
              1,
              "#f0f921"
             ]
            ],
            "type": "surface"
           }
          ],
          "table": [
           {
            "cells": {
             "fill": {
              "color": "#EBF0F8"
             },
             "line": {
              "color": "white"
             }
            },
            "header": {
             "fill": {
              "color": "#C8D4E3"
             },
             "line": {
              "color": "white"
             }
            },
            "type": "table"
           }
          ]
         },
         "layout": {
          "annotationdefaults": {
           "arrowcolor": "#2a3f5f",
           "arrowhead": 0,
           "arrowwidth": 1
          },
          "autotypenumbers": "strict",
          "coloraxis": {
           "colorbar": {
            "outlinewidth": 0,
            "ticks": ""
           }
          },
          "colorscale": {
           "diverging": [
            [
             0,
             "#8e0152"
            ],
            [
             0.1,
             "#c51b7d"
            ],
            [
             0.2,
             "#de77ae"
            ],
            [
             0.3,
             "#f1b6da"
            ],
            [
             0.4,
             "#fde0ef"
            ],
            [
             0.5,
             "#f7f7f7"
            ],
            [
             0.6,
             "#e6f5d0"
            ],
            [
             0.7,
             "#b8e186"
            ],
            [
             0.8,
             "#7fbc41"
            ],
            [
             0.9,
             "#4d9221"
            ],
            [
             1,
             "#276419"
            ]
           ],
           "sequential": [
            [
             0,
             "#0d0887"
            ],
            [
             0.1111111111111111,
             "#46039f"
            ],
            [
             0.2222222222222222,
             "#7201a8"
            ],
            [
             0.3333333333333333,
             "#9c179e"
            ],
            [
             0.4444444444444444,
             "#bd3786"
            ],
            [
             0.5555555555555556,
             "#d8576b"
            ],
            [
             0.6666666666666666,
             "#ed7953"
            ],
            [
             0.7777777777777778,
             "#fb9f3a"
            ],
            [
             0.8888888888888888,
             "#fdca26"
            ],
            [
             1,
             "#f0f921"
            ]
           ],
           "sequentialminus": [
            [
             0,
             "#0d0887"
            ],
            [
             0.1111111111111111,
             "#46039f"
            ],
            [
             0.2222222222222222,
             "#7201a8"
            ],
            [
             0.3333333333333333,
             "#9c179e"
            ],
            [
             0.4444444444444444,
             "#bd3786"
            ],
            [
             0.5555555555555556,
             "#d8576b"
            ],
            [
             0.6666666666666666,
             "#ed7953"
            ],
            [
             0.7777777777777778,
             "#fb9f3a"
            ],
            [
             0.8888888888888888,
             "#fdca26"
            ],
            [
             1,
             "#f0f921"
            ]
           ]
          },
          "colorway": [
           "#636efa",
           "#EF553B",
           "#00cc96",
           "#ab63fa",
           "#FFA15A",
           "#19d3f3",
           "#FF6692",
           "#B6E880",
           "#FF97FF",
           "#FECB52"
          ],
          "font": {
           "color": "#2a3f5f"
          },
          "geo": {
           "bgcolor": "white",
           "lakecolor": "white",
           "landcolor": "#E5ECF6",
           "showlakes": true,
           "showland": true,
           "subunitcolor": "white"
          },
          "hoverlabel": {
           "align": "left"
          },
          "hovermode": "closest",
          "mapbox": {
           "style": "light"
          },
          "paper_bgcolor": "white",
          "plot_bgcolor": "#E5ECF6",
          "polar": {
           "angularaxis": {
            "gridcolor": "white",
            "linecolor": "white",
            "ticks": ""
           },
           "bgcolor": "#E5ECF6",
           "radialaxis": {
            "gridcolor": "white",
            "linecolor": "white",
            "ticks": ""
           }
          },
          "scene": {
           "xaxis": {
            "backgroundcolor": "#E5ECF6",
            "gridcolor": "white",
            "gridwidth": 2,
            "linecolor": "white",
            "showbackground": true,
            "ticks": "",
            "zerolinecolor": "white"
           },
           "yaxis": {
            "backgroundcolor": "#E5ECF6",
            "gridcolor": "white",
            "gridwidth": 2,
            "linecolor": "white",
            "showbackground": true,
            "ticks": "",
            "zerolinecolor": "white"
           },
           "zaxis": {
            "backgroundcolor": "#E5ECF6",
            "gridcolor": "white",
            "gridwidth": 2,
            "linecolor": "white",
            "showbackground": true,
            "ticks": "",
            "zerolinecolor": "white"
           }
          },
          "shapedefaults": {
           "line": {
            "color": "#2a3f5f"
           }
          },
          "ternary": {
           "aaxis": {
            "gridcolor": "white",
            "linecolor": "white",
            "ticks": ""
           },
           "baxis": {
            "gridcolor": "white",
            "linecolor": "white",
            "ticks": ""
           },
           "bgcolor": "#E5ECF6",
           "caxis": {
            "gridcolor": "white",
            "linecolor": "white",
            "ticks": ""
           }
          },
          "title": {
           "x": 0.05
          },
          "xaxis": {
           "automargin": true,
           "gridcolor": "white",
           "linecolor": "white",
           "ticks": "",
           "title": {
            "standoff": 15
           },
           "zerolinecolor": "white",
           "zerolinewidth": 2
          },
          "yaxis": {
           "automargin": true,
           "gridcolor": "white",
           "linecolor": "white",
           "ticks": "",
           "title": {
            "standoff": 15
           },
           "zerolinecolor": "white",
           "zerolinewidth": 2
          }
         }
        },
        "title": {
         "text": "Les préférences de l'emplacement du travail pour les trois domaines."
        },
        "xaxis": {
         "anchor": "y",
         "domain": [
          0,
          1
         ],
         "title": {
          "text": "Domaine"
         }
        },
        "yaxis": {
         "anchor": "x",
         "domain": [
          0,
          1
         ],
         "title": {
          "text": "Count"
         }
        }
       }
      }
     },
     "metadata": {},
     "output_type": "display_data"
    }
   ],
   "source": [
    "import plotly.express as px\n",
    "\n",
    "# Create the grouped bar chart with labels\n",
    "fig = px.bar(df_workplace, x='Domaine', y='Count', color='Work_Place',\n",
    "             labels={'Count': 'Count', 'Domaine': 'Domaine', 'Work_Place': 'Work Place'},\n",
    "             title=\"Les préférences de l'emplacement du travail pour les trois domaines.\",\n",
    "             text='Count', # This will display the count on top of each bar\n",
    "             height=500)   # Adjust the height as needed\n",
    "\n",
    "fig.show()"
   ]
  },
  {
   "cell_type": "code",
   "execution_count": 303,
   "metadata": {},
   "outputs": [],
   "source": [
    "# import plotly.express as px\n",
    "\n",
    "# df_workplace = df_data.groupby(['Domaine', 'Work_Place']).size().reset_index(name='Count')\n",
    "# # Convert the result to a DataFrame for better display\n",
    "# df_workplace = pd.DataFrame(element_counter, columns=['Domaine','Work_Place', 'Count'])\n",
    "\n",
    "# fig = px.bar(element_counter, x='Domaine', y='Count',color='Work_Place',title=\"Les preferences de l'emplacement du travail pour les trois domaines.\")\n",
    "# fig.show()"
   ]
  },
  {
   "cell_type": "code",
   "execution_count": 304,
   "metadata": {},
   "outputs": [
    {
     "name": "stdout",
     "output_type": "stream",
     "text": [
      "<class 'pandas.core.frame.DataFrame'>\n",
      "RangeIndex: 449 entries, 0 to 448\n",
      "Data columns (total 13 columns):\n",
      " #   Column                     Non-Null Count  Dtype  \n",
      "---  ------                     --------------  -----  \n",
      " 0   Domaine                    449 non-null    object \n",
      " 1   Company                    449 non-null    object \n",
      " 2   Job_Title                  449 non-null    object \n",
      " 3   Location                   449 non-null    object \n",
      " 4   Country                    449 non-null    object \n",
      " 5   Work_Place                 449 non-null    object \n",
      " 6   Job_Type                   449 non-null    object \n",
      " 7   Experience_level           449 non-null    object \n",
      " 8   Salary                     449 non-null    object \n",
      " 9   Min_Salary_Year            449 non-null    float64\n",
      " 10  Salary_conditions          449 non-null    bool   \n",
      " 11  Requirment_of_the_company  449 non-null    object \n",
      " 12  Facilities                 449 non-null    object \n",
      "dtypes: bool(1), float64(1), object(11)\n",
      "memory usage: 42.7+ KB\n"
     ]
    }
   ],
   "source": [
    "df_data.info()"
   ]
  },
  {
   "cell_type": "code",
   "execution_count": 305,
   "metadata": {},
   "outputs": [
    {
     "data": {
      "text/html": [
       "<div>\n",
       "<style scoped>\n",
       "    .dataframe tbody tr th:only-of-type {\n",
       "        vertical-align: middle;\n",
       "    }\n",
       "\n",
       "    .dataframe tbody tr th {\n",
       "        vertical-align: top;\n",
       "    }\n",
       "\n",
       "    .dataframe thead th {\n",
       "        text-align: right;\n",
       "    }\n",
       "</style>\n",
       "<table border=\"1\" class=\"dataframe\">\n",
       "  <thead>\n",
       "    <tr style=\"text-align: right;\">\n",
       "      <th></th>\n",
       "      <th>Company</th>\n",
       "      <th>Job_Title</th>\n",
       "      <th>Location</th>\n",
       "      <th>Country</th>\n",
       "      <th>Work_Place</th>\n",
       "      <th>Job_Type</th>\n",
       "      <th>Experience_level</th>\n",
       "      <th>Salary</th>\n",
       "      <th>Min_Salary_Year</th>\n",
       "      <th>Salary_conditions</th>\n",
       "      <th>Requirment_of_the_company</th>\n",
       "      <th>Facilities</th>\n",
       "    </tr>\n",
       "  </thead>\n",
       "  <tbody>\n",
       "    <tr>\n",
       "      <th>0</th>\n",
       "      <td>SGS</td>\n",
       "      <td>Clinical Data Analyst</td>\n",
       "      <td>Richardson, TX, United States</td>\n",
       "      <td>United States</td>\n",
       "      <td>Local</td>\n",
       "      <td>Full Time</td>\n",
       "      <td>Entry-level</td>\n",
       "      <td>48K+ *</td>\n",
       "      <td>48000.0</td>\n",
       "      <td>True</td>\n",
       "      <td>[Computer Science, Data quality, Genetics, Mat...</td>\n",
       "      <td>[]</td>\n",
       "    </tr>\n",
       "    <tr>\n",
       "      <th>1</th>\n",
       "      <td>Ocorian</td>\n",
       "      <td>AML/CFT &amp; Data Analyst</td>\n",
       "      <td>Ebène, Mauritius</td>\n",
       "      <td>Mauritius</td>\n",
       "      <td>Local</td>\n",
       "      <td>Full Time</td>\n",
       "      <td>Entry-level</td>\n",
       "      <td>48K+ *</td>\n",
       "      <td>48000.0</td>\n",
       "      <td>True</td>\n",
       "      <td>[Agile, Data management, Finance, Security]</td>\n",
       "      <td>[]</td>\n",
       "    </tr>\n",
       "    <tr>\n",
       "      <th>2</th>\n",
       "      <td>Cricut</td>\n",
       "      <td>Machine Learning Engineer</td>\n",
       "      <td>South Jordan, UT, United States</td>\n",
       "      <td>United States</td>\n",
       "      <td>Local</td>\n",
       "      <td>Full Time</td>\n",
       "      <td>Not-Specified</td>\n",
       "      <td>90K+ *</td>\n",
       "      <td>90000.0</td>\n",
       "      <td>True</td>\n",
       "      <td>[Agile, Architecture, AWS, Computer Science, C...</td>\n",
       "      <td>[Career development]</td>\n",
       "    </tr>\n",
       "    <tr>\n",
       "      <th>3</th>\n",
       "      <td>Bosch Group</td>\n",
       "      <td>Application Developer &amp; Data Analyst</td>\n",
       "      <td>Nonantola, Italy</td>\n",
       "      <td>Italy</td>\n",
       "      <td>Local</td>\n",
       "      <td>Full Time</td>\n",
       "      <td>Entry-level</td>\n",
       "      <td>48K+ *</td>\n",
       "      <td>48000.0</td>\n",
       "      <td>True</td>\n",
       "      <td>[Engineering, Industrial, Oracle, Power BI, R,...</td>\n",
       "      <td>[]</td>\n",
       "    </tr>\n",
       "    <tr>\n",
       "      <th>4</th>\n",
       "      <td>Publicis Groupe</td>\n",
       "      <td>Data Engineer Full time (Public Sector) USA</td>\n",
       "      <td>Arlington, VA, United States</td>\n",
       "      <td>United States</td>\n",
       "      <td>Local</td>\n",
       "      <td>Full Time</td>\n",
       "      <td>Mid-level</td>\n",
       "      <td>108K+</td>\n",
       "      <td>108000.0</td>\n",
       "      <td>False</td>\n",
       "      <td>[AWS, Azure, Computer Science, Consulting, Dat...</td>\n",
       "      <td>[Flex hours, Flex vacation, Parental leave, Un...</td>\n",
       "    </tr>\n",
       "    <tr>\n",
       "      <th>...</th>\n",
       "      <td>...</td>\n",
       "      <td>...</td>\n",
       "      <td>...</td>\n",
       "      <td>...</td>\n",
       "      <td>...</td>\n",
       "      <td>...</td>\n",
       "      <td>...</td>\n",
       "      <td>...</td>\n",
       "      <td>...</td>\n",
       "      <td>...</td>\n",
       "      <td>...</td>\n",
       "      <td>...</td>\n",
       "    </tr>\n",
       "    <tr>\n",
       "      <th>3190</th>\n",
       "      <td>CCRi</td>\n",
       "      <td>Application Integration Engineer, Computer Vis...</td>\n",
       "      <td>Chantilly, Virginia, United States</td>\n",
       "      <td>United States</td>\n",
       "      <td>Local</td>\n",
       "      <td>Full Time</td>\n",
       "      <td>Mid-level</td>\n",
       "      <td>113K+</td>\n",
       "      <td>113000.0</td>\n",
       "      <td>False</td>\n",
       "      <td>[Agile, Angular, APIs, Architecture, AWS, Azure]</td>\n",
       "      <td>[401(k) matching, Career development, Flex hou...</td>\n",
       "    </tr>\n",
       "    <tr>\n",
       "      <th>3191</th>\n",
       "      <td>Publicis Groupe</td>\n",
       "      <td>Associate Director, Data Science</td>\n",
       "      <td>New York City, United States</td>\n",
       "      <td>United States</td>\n",
       "      <td>Local</td>\n",
       "      <td>Full Time</td>\n",
       "      <td>Mid-level</td>\n",
       "      <td>106K+</td>\n",
       "      <td>106000.0</td>\n",
       "      <td>False</td>\n",
       "      <td>[Bayesian, Classification, Clustering, Data an...</td>\n",
       "      <td>[Career development, Health care]</td>\n",
       "    </tr>\n",
       "    <tr>\n",
       "      <th>3192</th>\n",
       "      <td>DoorDash</td>\n",
       "      <td>Senior Software Engineer, Machine Learning - A...</td>\n",
       "      <td>Sunnyvale, CA; San Francisco, CA; New York</td>\n",
       "      <td>Worldwide</td>\n",
       "      <td>Local</td>\n",
       "      <td>Full Time</td>\n",
       "      <td>Senior-level</td>\n",
       "      <td>176K+</td>\n",
       "      <td>176000.0</td>\n",
       "      <td>False</td>\n",
       "      <td>[Computer Science, Data analysis, Engineering,...</td>\n",
       "      <td>[401(k) matching, Career development, Equity, ...</td>\n",
       "    </tr>\n",
       "    <tr>\n",
       "      <th>3193</th>\n",
       "      <td>Western Digital</td>\n",
       "      <td>Data Scientist - New College Graduate</td>\n",
       "      <td>Biñan, Philippines</td>\n",
       "      <td>Philippines</td>\n",
       "      <td>Local</td>\n",
       "      <td>Full Time</td>\n",
       "      <td>Entry-level</td>\n",
       "      <td>39K+ *</td>\n",
       "      <td>39000.0</td>\n",
       "      <td>True</td>\n",
       "      <td>[APIs, Clustering, Computer Science, Data visu...</td>\n",
       "      <td>[Career development]</td>\n",
       "    </tr>\n",
       "    <tr>\n",
       "      <th>3196</th>\n",
       "      <td>ATB Financial</td>\n",
       "      <td>Data Scientist</td>\n",
       "      <td>Edmonton, Alberta, Canada</td>\n",
       "      <td>Canada</td>\n",
       "      <td>Local</td>\n",
       "      <td>Full Time</td>\n",
       "      <td>Entry-level</td>\n",
       "      <td>39K+ *</td>\n",
       "      <td>39000.0</td>\n",
       "      <td>True</td>\n",
       "      <td>[Computer Science, Data Analytics, Data Mining...</td>\n",
       "      <td>[Career development, Startup environment]</td>\n",
       "    </tr>\n",
       "  </tbody>\n",
       "</table>\n",
       "<p>2896 rows × 12 columns</p>\n",
       "</div>"
      ],
      "text/plain": [
       "              Company                                          Job_Title   \n",
       "0                 SGS                              Clinical Data Analyst  \\\n",
       "1             Ocorian                             AML/CFT & Data Analyst   \n",
       "2              Cricut                          Machine Learning Engineer   \n",
       "3         Bosch Group               Application Developer & Data Analyst   \n",
       "4     Publicis Groupe        Data Engineer Full time (Public Sector) USA   \n",
       "...               ...                                                ...   \n",
       "3190             CCRi  Application Integration Engineer, Computer Vis...   \n",
       "3191  Publicis Groupe                   Associate Director, Data Science   \n",
       "3192         DoorDash  Senior Software Engineer, Machine Learning - A...   \n",
       "3193  Western Digital              Data Scientist - New College Graduate   \n",
       "3196    ATB Financial                                     Data Scientist   \n",
       "\n",
       "                                          Location        Country Work_Place   \n",
       "0                    Richardson, TX, United States  United States      Local  \\\n",
       "1                                 Ebène, Mauritius      Mauritius      Local   \n",
       "2                  South Jordan, UT, United States  United States      Local   \n",
       "3                                 Nonantola, Italy          Italy      Local   \n",
       "4                     Arlington, VA, United States  United States      Local   \n",
       "...                                            ...            ...        ...   \n",
       "3190            Chantilly, Virginia, United States  United States      Local   \n",
       "3191                  New York City, United States  United States      Local   \n",
       "3192  Sunnyvale, CA; San Francisco, CA; New York \n",
       "      Worldwide      Local   \n",
       "3193                            Biñan, Philippines    Philippines      Local   \n",
       "3196                     Edmonton, Alberta, Canada         Canada      Local   \n",
       "\n",
       "       Job_Type Experience_level   Salary  Min_Salary_Year  Salary_conditions   \n",
       "0     Full Time      Entry-level   48K+ *          48000.0               True  \\\n",
       "1     Full Time      Entry-level   48K+ *          48000.0               True   \n",
       "2     Full Time    Not-Specified   90K+ *          90000.0               True   \n",
       "3     Full Time      Entry-level   48K+ *          48000.0               True   \n",
       "4     Full Time        Mid-level    108K+         108000.0              False   \n",
       "...         ...              ...      ...              ...                ...   \n",
       "3190  Full Time        Mid-level    113K+         113000.0              False   \n",
       "3191  Full Time        Mid-level    106K+         106000.0              False   \n",
       "3192  Full Time     Senior-level    176K+         176000.0              False   \n",
       "3193  Full Time      Entry-level   39K+ *          39000.0               True   \n",
       "3196  Full Time      Entry-level   39K+ *          39000.0               True   \n",
       "\n",
       "                              Requirment_of_the_company   \n",
       "0     [Computer Science, Data quality, Genetics, Mat...  \\\n",
       "1           [Agile, Data management, Finance, Security]   \n",
       "2     [Agile, Architecture, AWS, Computer Science, C...   \n",
       "3     [Engineering, Industrial, Oracle, Power BI, R,...   \n",
       "4     [AWS, Azure, Computer Science, Consulting, Dat...   \n",
       "...                                                 ...   \n",
       "3190   [Agile, Angular, APIs, Architecture, AWS, Azure]   \n",
       "3191  [Bayesian, Classification, Clustering, Data an...   \n",
       "3192  [Computer Science, Data analysis, Engineering,...   \n",
       "3193  [APIs, Clustering, Computer Science, Data visu...   \n",
       "3196  [Computer Science, Data Analytics, Data Mining...   \n",
       "\n",
       "                                             Facilities  \n",
       "0                                                    []  \n",
       "1                                                    []  \n",
       "2                                  [Career development]  \n",
       "3                                                    []  \n",
       "4     [Flex hours, Flex vacation, Parental leave, Un...  \n",
       "...                                                 ...  \n",
       "3190  [401(k) matching, Career development, Flex hou...  \n",
       "3191                  [Career development, Health care]  \n",
       "3192  [401(k) matching, Career development, Equity, ...  \n",
       "3193                               [Career development]  \n",
       "3196          [Career development, Startup environment]  \n",
       "\n",
       "[2896 rows x 12 columns]"
      ]
     },
     "execution_count": 305,
     "metadata": {},
     "output_type": "execute_result"
    }
   ],
   "source": [
    "df_clean"
   ]
  },
  {
   "cell_type": "code",
   "execution_count": 306,
   "metadata": {},
   "outputs": [],
   "source": [
    "# df_clean.to_csv('job_offers_clean.csv',index=False)\n",
    "# df_data.to_csv('top_job_titles_per_domaine.csv',index=False)"
   ]
  },
  {
   "cell_type": "markdown",
   "metadata": {},
   "source": [
    "# Modelisation et Base de donnees"
   ]
  },
  {
   "cell_type": "code",
   "execution_count": 307,
   "metadata": {},
   "outputs": [],
   "source": [
    "import pyodbc as odbc\n",
    "\n",
    "# Set up the connection string\n",
    "driver = 'SQL SERVER'\n",
    "server = 'PC-HICHAM'\n",
    "database = 'master'\n",
    "\n",
    "connection_info = f\"\"\"\n",
    "    DRIVER={{{driver}}};\n",
    "    SERVER={{{server}}};\n",
    "    DATABASE={{{database}}};\n",
    "    Trust_Connection=yes;\n",
    "\"\"\"\n",
    "# Connect to default database\n",
    "connection = odbc.connect(connection_info)\n",
    "cursor = connection.cursor()"
   ]
  },
  {
   "cell_type": "code",
   "execution_count": 308,
   "metadata": {},
   "outputs": [],
   "source": [
    "# create database and use it\n",
    "cursor.execute('''\n",
    "    IF EXISTS (SELECT name FROM sys.databases WHERE name = 'job_offers')\n",
    "        PRINT 'Database job_offers exist'\n",
    "    ELSE\n",
    "        CREATE DATABASE job_offers;\n",
    "''')\n",
    "#commit changes\n",
    "connection.commit()"
   ]
  },
  {
   "cell_type": "code",
   "execution_count": 309,
   "metadata": {},
   "outputs": [],
   "source": [
    "#use the database created\n",
    "cursor.execute('''\n",
    "    USE job_offers;\n",
    "''')\n",
    "#commit changes\n",
    "connection.commit()"
   ]
  },
  {
   "cell_type": "code",
   "execution_count": 311,
   "metadata": {},
   "outputs": [],
   "source": [
    "# create table Company\n",
    "cursor.execute('''\n",
    "    CREATE TABLE [Company] (\n",
    "        [id_company] Integer IDENTITY(1,1),\n",
    "        [company_name] varchar(255),\n",
    "        PRIMARY KEY ([id_company])\n",
    "    );\n",
    "''')\n",
    "#commit changes\n",
    "connection.commit()"
   ]
  },
  {
   "cell_type": "code",
   "execution_count": null,
   "metadata": {},
   "outputs": [],
   "source": [
    "# create table Work_Place\n",
    "cursor.execute('''\n",
    "    CREATE TABLE [Work_Place] (\n",
    "        [id_workPlace] Integer IDENTITY(1,1),\n",
    "        [name] varchar(255),\n",
    "        PRIMARY KEY ([id_workPlace])\n",
    "    );\n",
    "''')\n",
    "#commit changes\n",
    "connection.commit()"
   ]
  },
  {
   "cell_type": "code",
   "execution_count": null,
   "metadata": {},
   "outputs": [],
   "source": [
    "# create table Job_Type\n",
    "cursor.execute('''\n",
    "    CREATE TABLE [Job_Type] (\n",
    "        [id_jobType] Integer IDENTITY(1,1),\n",
    "        [name] varchar(255),\n",
    "        PRIMARY KEY ([id_jobType])\n",
    "    );\n",
    "''')\n",
    "#commit changes\n",
    "connection.commit()"
   ]
  },
  {
   "cell_type": "code",
   "execution_count": null,
   "metadata": {},
   "outputs": [],
   "source": [
    "# create table Experience_Level\n",
    "cursor.execute('''\n",
    "    CREATE TABLE [Experience_Level] (\n",
    "        [id_experienceLevel] Integer IDENTITY(1,1),\n",
    "        [name] varchar(255),\n",
    "        PRIMARY KEY ([id_experienceLevel])\n",
    "    );\n",
    "''')\n",
    "#commit changes\n",
    "connection.commit()"
   ]
  },
  {
   "cell_type": "code",
   "execution_count": null,
   "metadata": {},
   "outputs": [],
   "source": [
    "# create table Country\n",
    "cursor.execute('''\n",
    "    CREATE TABLE [Country] (\n",
    "        [id_country] Integer IDENTITY(1,1),\n",
    "        [name] varchar(255),\n",
    "        PRIMARY KEY ([id_country])\n",
    "    );\n",
    "''')\n",
    "#commit changes\n",
    "connection.commit()"
   ]
  },
  {
   "cell_type": "code",
   "execution_count": null,
   "metadata": {},
   "outputs": [],
   "source": [
    "# create table Facilities\n",
    "cursor.execute('''\n",
    "    CREATE TABLE [Facilities] (\n",
    "        [id_facilities] Integer IDENTITY(1,1),\n",
    "        [name] varchar(255),\n",
    "        PRIMARY KEY ([id_facilities])\n",
    "    );\n",
    "''')\n",
    "#commit changes\n",
    "connection.commit()"
   ]
  },
  {
   "cell_type": "code",
   "execution_count": null,
   "metadata": {},
   "outputs": [],
   "source": [
    "# create table Job\n",
    "cursor.execute('''\n",
    "    CREATE TABLE [Job] (\n",
    "        [id_job] Integer IDENTITY(1,1),\n",
    "        [id_company] Integer,\n",
    "        [id_workPlace] Integer,\n",
    "        [id_jobType] Integer,\n",
    "        [id_experienceLevel] Integer,\n",
    "        [id_country] Integer,\n",
    "        [job_title] varchar(255),\n",
    "        [salary] float,\n",
    "        [salary_conditions] bit,\n",
    "        PRIMARY KEY ([id_job]),\n",
    "        CONSTRAINT [FK_Job.id_company]\n",
    "            FOREIGN KEY ([id_company])\n",
    "            REFERENCES [Company]([id_company]),\n",
    "        CONSTRAINT [FK_Job.id_workPlace]\n",
    "            FOREIGN KEY ([id_workPlace])\n",
    "            REFERENCES [Work_Place]([id_workPlace]),\n",
    "        CONSTRAINT [FK_Job.id_jobType]\n",
    "            FOREIGN KEY ([id_jobType])\n",
    "            REFERENCES [Job_Type]([id_jobType]),\n",
    "        CONSTRAINT [FK_Job.id_experienceLevel]\n",
    "            FOREIGN KEY ([id_experienceLevel])\n",
    "            REFERENCES [Experience_Level]([id_experienceLevel]),\n",
    "        CONSTRAINT [FK_Job.id_country]\n",
    "            FOREIGN KEY ([id_country])\n",
    "            REFERENCES [Country]([id_country]),\n",
    "    );\n",
    "''')\n",
    "#commit changes\n",
    "connection.commit()"
   ]
  },
  {
   "cell_type": "code",
   "execution_count": null,
   "metadata": {},
   "outputs": [],
   "source": [
    "# create table Job_Facilities\n",
    "cursor.execute('''\n",
    "    CREATE TABLE [Job_Facilities] (\n",
    "        [id_job] Integer,\n",
    "        [id_facilities] Integer,\n",
    "        CONSTRAINT [FK_Job.id_job]\n",
    "            FOREIGN KEY ([id_job])\n",
    "            REFERENCES [Job]([id_job]),\n",
    "        CONSTRAINT [FK_Facilities.id_facilities]\n",
    "            FOREIGN KEY ([id_facilities])\n",
    "            REFERENCES [Facilities]([id_facilities])\n",
    "    );\n",
    "               \n",
    "    CREATE INDEX [PK|FK] ON  [Job_Facilities] ([id_job], [id_facilities]);\n",
    "''')\n",
    "#commit changes\n",
    "connection.commit()"
   ]
  },
  {
   "cell_type": "code",
   "execution_count": null,
   "metadata": {},
   "outputs": [],
   "source": [
    "#  create table Requirement\n",
    "cursor.execute('''\n",
    "    CREATE TABLE [Requirement] (\n",
    "        [id_requirement] Integer IDENTITY(1,1),\n",
    "        [name] varchar(255),\n",
    "        PRIMARY KEY ([id_requirement])\n",
    "    );\n",
    "''')\n",
    "#commit changes\n",
    "connection.commit()"
   ]
  },
  {
   "cell_type": "code",
   "execution_count": null,
   "metadata": {},
   "outputs": [],
   "source": [
    "# create table Job_Requirement\n",
    "cursor.execute('''\n",
    "    CREATE TABLE [Job_Requirement] (\n",
    "        [id_job] Integer,\n",
    "        [id_requirement] Integer,\n",
    "        CONSTRAINT [FK_Job_Requirement.id_requirement]\n",
    "            FOREIGN KEY ([id_requirement])\n",
    "            REFERENCES [Requirement]([id_requirement])\n",
    "    );\n",
    "               \n",
    "    CREATE INDEX [PK|FK] ON  [Job_Requirement] ([id_job], [id_requirement]);\n",
    "''')\n",
    "#commit changes\n",
    "connection.commit()"
   ]
  },
  {
   "cell_type": "markdown",
   "metadata": {},
   "source": [
    "<h3>Creation of dataset for each table<h3>"
   ]
  },
  {
   "cell_type": "code",
   "execution_count": null,
   "metadata": {},
   "outputs": [
    {
     "data": {
      "text/html": [
       "<div>\n",
       "<style scoped>\n",
       "    .dataframe tbody tr th:only-of-type {\n",
       "        vertical-align: middle;\n",
       "    }\n",
       "\n",
       "    .dataframe tbody tr th {\n",
       "        vertical-align: top;\n",
       "    }\n",
       "\n",
       "    .dataframe thead th {\n",
       "        text-align: right;\n",
       "    }\n",
       "</style>\n",
       "<table border=\"1\" class=\"dataframe\">\n",
       "  <thead>\n",
       "    <tr style=\"text-align: right;\">\n",
       "      <th></th>\n",
       "      <th>id_company</th>\n",
       "      <th>company_name</th>\n",
       "    </tr>\n",
       "  </thead>\n",
       "  <tbody>\n",
       "    <tr>\n",
       "      <th>0</th>\n",
       "      <td>1</td>\n",
       "      <td>SGS</td>\n",
       "    </tr>\n",
       "    <tr>\n",
       "      <th>1</th>\n",
       "      <td>2</td>\n",
       "      <td>Ocorian</td>\n",
       "    </tr>\n",
       "    <tr>\n",
       "      <th>2</th>\n",
       "      <td>3</td>\n",
       "      <td>Cricut</td>\n",
       "    </tr>\n",
       "    <tr>\n",
       "      <th>3</th>\n",
       "      <td>4</td>\n",
       "      <td>Bosch Group</td>\n",
       "    </tr>\n",
       "    <tr>\n",
       "      <th>4</th>\n",
       "      <td>5</td>\n",
       "      <td>Publicis Groupe</td>\n",
       "    </tr>\n",
       "    <tr>\n",
       "      <th>...</th>\n",
       "      <td>...</td>\n",
       "      <td>...</td>\n",
       "    </tr>\n",
       "    <tr>\n",
       "      <th>1070</th>\n",
       "      <td>1071</td>\n",
       "      <td>Junglee Games</td>\n",
       "    </tr>\n",
       "    <tr>\n",
       "      <th>1071</th>\n",
       "      <td>1072</td>\n",
       "      <td>Thaloz</td>\n",
       "    </tr>\n",
       "    <tr>\n",
       "      <th>1072</th>\n",
       "      <td>1073</td>\n",
       "      <td>Rackspace</td>\n",
       "    </tr>\n",
       "    <tr>\n",
       "      <th>1073</th>\n",
       "      <td>1074</td>\n",
       "      <td>MUFG Investor Services</td>\n",
       "    </tr>\n",
       "    <tr>\n",
       "      <th>1074</th>\n",
       "      <td>1075</td>\n",
       "      <td>Galileo Financial Technologies</td>\n",
       "    </tr>\n",
       "  </tbody>\n",
       "</table>\n",
       "<p>1075 rows × 2 columns</p>\n",
       "</div>"
      ],
      "text/plain": [
       "      id_company                    company_name\n",
       "0              1                             SGS\n",
       "1              2                         Ocorian\n",
       "2              3                          Cricut\n",
       "3              4                     Bosch Group\n",
       "4              5                 Publicis Groupe\n",
       "...          ...                             ...\n",
       "1070        1071                   Junglee Games\n",
       "1071        1072                          Thaloz\n",
       "1072        1073                       Rackspace\n",
       "1073        1074          MUFG Investor Services\n",
       "1074        1075  Galileo Financial Technologies\n",
       "\n",
       "[1075 rows x 2 columns]"
      ]
     },
     "execution_count": 109,
     "metadata": {},
     "output_type": "execute_result"
    }
   ],
   "source": [
    "import pandas as pd\n",
    "\n",
    "# Creating a DataFrame directly from the 'company' list with enumerated indices.\n",
    "data = [{'id_company': index+1, 'company_name': row} for index, row in enumerate(df_clean['Company'].unique().tolist())]\n",
    "\n",
    "# Creating the DataFrame from the data list\n",
    "df_company = pd.DataFrame(data)\n",
    "df_company.to_csv('Data/df_company.csv',index=False)\n",
    "df_company"
   ]
  },
  {
   "cell_type": "code",
   "execution_count": null,
   "metadata": {},
   "outputs": [
    {
     "data": {
      "text/html": [
       "<div>\n",
       "<style scoped>\n",
       "    .dataframe tbody tr th:only-of-type {\n",
       "        vertical-align: middle;\n",
       "    }\n",
       "\n",
       "    .dataframe tbody tr th {\n",
       "        vertical-align: top;\n",
       "    }\n",
       "\n",
       "    .dataframe thead th {\n",
       "        text-align: right;\n",
       "    }\n",
       "</style>\n",
       "<table border=\"1\" class=\"dataframe\">\n",
       "  <thead>\n",
       "    <tr style=\"text-align: right;\">\n",
       "      <th></th>\n",
       "      <th>id_workPlace</th>\n",
       "      <th>name</th>\n",
       "    </tr>\n",
       "  </thead>\n",
       "  <tbody>\n",
       "    <tr>\n",
       "      <th>0</th>\n",
       "      <td>1</td>\n",
       "      <td>Local</td>\n",
       "    </tr>\n",
       "    <tr>\n",
       "      <th>1</th>\n",
       "      <td>2</td>\n",
       "      <td>Remote</td>\n",
       "    </tr>\n",
       "    <tr>\n",
       "      <th>2</th>\n",
       "      <td>3</td>\n",
       "      <td>Hybrid</td>\n",
       "    </tr>\n",
       "  </tbody>\n",
       "</table>\n",
       "</div>"
      ],
      "text/plain": [
       "   id_workPlace    name\n",
       "0             1   Local\n",
       "1             2  Remote\n",
       "2             3  Hybrid"
      ]
     },
     "execution_count": 148,
     "metadata": {},
     "output_type": "execute_result"
    }
   ],
   "source": [
    "import pandas as pd\n",
    "\n",
    "# Creating a DataFrame directly from the 'company' list with enumerated indices.\n",
    "data = [{'id_workPlace': index+1, 'name': row} for index, row in enumerate(df_clean['Work_Place'].unique().tolist())]\n",
    "\n",
    "# Creating the DataFrame from the data list\n",
    "df_workPlace = pd.DataFrame(data)\n",
    "df_workPlace.to_csv('Data/df_workPlace.csv',index=False)\n",
    "df_workPlace"
   ]
  },
  {
   "cell_type": "code",
   "execution_count": null,
   "metadata": {},
   "outputs": [
    {
     "data": {
      "text/html": [
       "<div>\n",
       "<style scoped>\n",
       "    .dataframe tbody tr th:only-of-type {\n",
       "        vertical-align: middle;\n",
       "    }\n",
       "\n",
       "    .dataframe tbody tr th {\n",
       "        vertical-align: top;\n",
       "    }\n",
       "\n",
       "    .dataframe thead th {\n",
       "        text-align: right;\n",
       "    }\n",
       "</style>\n",
       "<table border=\"1\" class=\"dataframe\">\n",
       "  <thead>\n",
       "    <tr style=\"text-align: right;\">\n",
       "      <th></th>\n",
       "      <th>id_jobType</th>\n",
       "      <th>name</th>\n",
       "    </tr>\n",
       "  </thead>\n",
       "  <tbody>\n",
       "    <tr>\n",
       "      <th>0</th>\n",
       "      <td>1</td>\n",
       "      <td>Full Time</td>\n",
       "    </tr>\n",
       "    <tr>\n",
       "      <th>1</th>\n",
       "      <td>2</td>\n",
       "      <td>Internship</td>\n",
       "    </tr>\n",
       "    <tr>\n",
       "      <th>2</th>\n",
       "      <td>3</td>\n",
       "      <td>Part Time</td>\n",
       "    </tr>\n",
       "  </tbody>\n",
       "</table>\n",
       "</div>"
      ],
      "text/plain": [
       "   id_jobType        name\n",
       "0           1   Full Time\n",
       "1           2  Internship\n",
       "2           3   Part Time"
      ]
     },
     "execution_count": 111,
     "metadata": {},
     "output_type": "execute_result"
    }
   ],
   "source": [
    "import pandas as pd\n",
    "\n",
    "# Creating a DataFrame directly from the 'company' list with enumerated indices.\n",
    "data = [{'id_jobType': index+1, 'name': row} for index, row in enumerate(df_clean['Job_Type'].unique().tolist())]\n",
    "\n",
    "# Creating the DataFrame from the data list\n",
    "df_jobType = pd.DataFrame(data)\n",
    "df_jobType.to_csv('Data/df_jobType.csv',index=False)\n",
    "df_jobType"
   ]
  },
  {
   "cell_type": "code",
   "execution_count": null,
   "metadata": {},
   "outputs": [
    {
     "data": {
      "text/html": [
       "<div>\n",
       "<style scoped>\n",
       "    .dataframe tbody tr th:only-of-type {\n",
       "        vertical-align: middle;\n",
       "    }\n",
       "\n",
       "    .dataframe tbody tr th {\n",
       "        vertical-align: top;\n",
       "    }\n",
       "\n",
       "    .dataframe thead th {\n",
       "        text-align: right;\n",
       "    }\n",
       "</style>\n",
       "<table border=\"1\" class=\"dataframe\">\n",
       "  <thead>\n",
       "    <tr style=\"text-align: right;\">\n",
       "      <th></th>\n",
       "      <th>id_experienceLevel</th>\n",
       "      <th>name</th>\n",
       "    </tr>\n",
       "  </thead>\n",
       "  <tbody>\n",
       "    <tr>\n",
       "      <th>0</th>\n",
       "      <td>1</td>\n",
       "      <td>Entry-level</td>\n",
       "    </tr>\n",
       "    <tr>\n",
       "      <th>1</th>\n",
       "      <td>2</td>\n",
       "      <td>Not-Specified</td>\n",
       "    </tr>\n",
       "    <tr>\n",
       "      <th>2</th>\n",
       "      <td>3</td>\n",
       "      <td>Mid-level</td>\n",
       "    </tr>\n",
       "    <tr>\n",
       "      <th>3</th>\n",
       "      <td>4</td>\n",
       "      <td>Senior-level</td>\n",
       "    </tr>\n",
       "    <tr>\n",
       "      <th>4</th>\n",
       "      <td>5</td>\n",
       "      <td>Executive-level</td>\n",
       "    </tr>\n",
       "  </tbody>\n",
       "</table>\n",
       "</div>"
      ],
      "text/plain": [
       "   id_experienceLevel             name\n",
       "0                   1      Entry-level\n",
       "1                   2    Not-Specified\n",
       "2                   3        Mid-level\n",
       "3                   4     Senior-level\n",
       "4                   5  Executive-level"
      ]
     },
     "execution_count": 114,
     "metadata": {},
     "output_type": "execute_result"
    }
   ],
   "source": [
    "import pandas as pd\n",
    "\n",
    "# Creating a DataFrame directly from the 'company' list with enumerated indices.\n",
    "data = [{'id_experienceLevel': index+1, 'name': row} for index, row in enumerate(df_clean['Experience_level'].unique().tolist())]\n",
    "\n",
    "# Creating the DataFrame from the data list\n",
    "df_experienceLevel = pd.DataFrame(data)\n",
    "df_experienceLevel.to_csv('Data/df_experienceLevel.csv',index=False)\n",
    "df_experienceLevel"
   ]
  },
  {
   "cell_type": "code",
   "execution_count": null,
   "metadata": {},
   "outputs": [
    {
     "data": {
      "text/html": [
       "<div>\n",
       "<style scoped>\n",
       "    .dataframe tbody tr th:only-of-type {\n",
       "        vertical-align: middle;\n",
       "    }\n",
       "\n",
       "    .dataframe tbody tr th {\n",
       "        vertical-align: top;\n",
       "    }\n",
       "\n",
       "    .dataframe thead th {\n",
       "        text-align: right;\n",
       "    }\n",
       "</style>\n",
       "<table border=\"1\" class=\"dataframe\">\n",
       "  <thead>\n",
       "    <tr style=\"text-align: right;\">\n",
       "      <th></th>\n",
       "      <th>id_country</th>\n",
       "      <th>name</th>\n",
       "    </tr>\n",
       "  </thead>\n",
       "  <tbody>\n",
       "    <tr>\n",
       "      <th>0</th>\n",
       "      <td>1</td>\n",
       "      <td>United States</td>\n",
       "    </tr>\n",
       "    <tr>\n",
       "      <th>1</th>\n",
       "      <td>2</td>\n",
       "      <td>Mauritius</td>\n",
       "    </tr>\n",
       "    <tr>\n",
       "      <th>2</th>\n",
       "      <td>3</td>\n",
       "      <td>Italy</td>\n",
       "    </tr>\n",
       "    <tr>\n",
       "      <th>3</th>\n",
       "      <td>4</td>\n",
       "      <td>Portugal</td>\n",
       "    </tr>\n",
       "    <tr>\n",
       "      <th>4</th>\n",
       "      <td>5</td>\n",
       "      <td>Thailand</td>\n",
       "    </tr>\n",
       "    <tr>\n",
       "      <th>...</th>\n",
       "      <td>...</td>\n",
       "      <td>...</td>\n",
       "    </tr>\n",
       "    <tr>\n",
       "      <th>105</th>\n",
       "      <td>106</td>\n",
       "      <td>Nederland</td>\n",
       "    </tr>\n",
       "    <tr>\n",
       "      <th>106</th>\n",
       "      <td>107</td>\n",
       "      <td>Lebanon</td>\n",
       "    </tr>\n",
       "    <tr>\n",
       "      <th>107</th>\n",
       "      <td>108</td>\n",
       "      <td>Schweiz/Suisse/Svizzera/Svizra</td>\n",
       "    </tr>\n",
       "    <tr>\n",
       "      <th>108</th>\n",
       "      <td>109</td>\n",
       "      <td>Perú</td>\n",
       "    </tr>\n",
       "    <tr>\n",
       "      <th>109</th>\n",
       "      <td>110</td>\n",
       "      <td>Cyprus</td>\n",
       "    </tr>\n",
       "  </tbody>\n",
       "</table>\n",
       "<p>110 rows × 2 columns</p>\n",
       "</div>"
      ],
      "text/plain": [
       "     id_country                            name\n",
       "0             1                   United States\n",
       "1             2                       Mauritius\n",
       "2             3                           Italy\n",
       "3             4                        Portugal\n",
       "4             5                        Thailand\n",
       "..          ...                             ...\n",
       "105         106                       Nederland\n",
       "106         107                         Lebanon\n",
       "107         108  Schweiz/Suisse/Svizzera/Svizra\n",
       "108         109                            Perú\n",
       "109         110                          Cyprus\n",
       "\n",
       "[110 rows x 2 columns]"
      ]
     },
     "execution_count": 115,
     "metadata": {},
     "output_type": "execute_result"
    }
   ],
   "source": [
    "import pandas as pd\n",
    "\n",
    "# Creating a DataFrame directly from the 'company' list with enumerated indices.\n",
    "data = [{'id_country': index+1, 'name': row} for index, row in enumerate(df_clean['Country'].unique().tolist())]\n",
    "\n",
    "# Creating the DataFrame from the data list\n",
    "df_country = pd.DataFrame(data)\n",
    "df_country.to_csv('Data/df_country.csv',index=False)\n",
    "df_country"
   ]
  },
  {
   "cell_type": "code",
   "execution_count": null,
   "metadata": {},
   "outputs": [
    {
     "data": {
      "text/html": [
       "<div>\n",
       "<style scoped>\n",
       "    .dataframe tbody tr th:only-of-type {\n",
       "        vertical-align: middle;\n",
       "    }\n",
       "\n",
       "    .dataframe tbody tr th {\n",
       "        vertical-align: top;\n",
       "    }\n",
       "\n",
       "    .dataframe thead th {\n",
       "        text-align: right;\n",
       "    }\n",
       "</style>\n",
       "<table border=\"1\" class=\"dataframe\">\n",
       "  <thead>\n",
       "    <tr style=\"text-align: right;\">\n",
       "      <th></th>\n",
       "      <th>id_facilities</th>\n",
       "      <th>name</th>\n",
       "    </tr>\n",
       "  </thead>\n",
       "  <tbody>\n",
       "    <tr>\n",
       "      <th>0</th>\n",
       "      <td>1</td>\n",
       "      <td>Pet friendly</td>\n",
       "    </tr>\n",
       "    <tr>\n",
       "      <th>1</th>\n",
       "      <td>2</td>\n",
       "      <td>Cell phone stipend</td>\n",
       "    </tr>\n",
       "    <tr>\n",
       "      <th>2</th>\n",
       "      <td>3</td>\n",
       "      <td>Team events</td>\n",
       "    </tr>\n",
       "    <tr>\n",
       "      <th>3</th>\n",
       "      <td>4</td>\n",
       "      <td>Home office stipend</td>\n",
       "    </tr>\n",
       "    <tr>\n",
       "      <th>4</th>\n",
       "      <td>5</td>\n",
       "      <td>Flex vacation</td>\n",
       "    </tr>\n",
       "    <tr>\n",
       "      <th>5</th>\n",
       "      <td>6</td>\n",
       "      <td>Insurance</td>\n",
       "    </tr>\n",
       "    <tr>\n",
       "      <th>6</th>\n",
       "      <td>7</td>\n",
       "      <td>Wellness</td>\n",
       "    </tr>\n",
       "    <tr>\n",
       "      <th>7</th>\n",
       "      <td>8</td>\n",
       "      <td>Signing bonus</td>\n",
       "    </tr>\n",
       "    <tr>\n",
       "      <th>8</th>\n",
       "      <td>9</td>\n",
       "      <td>Startup environment</td>\n",
       "    </tr>\n",
       "    <tr>\n",
       "      <th>9</th>\n",
       "      <td>10</td>\n",
       "      <td>401(k) matching</td>\n",
       "    </tr>\n",
       "    <tr>\n",
       "      <th>10</th>\n",
       "      <td>11</td>\n",
       "      <td>Health care</td>\n",
       "    </tr>\n",
       "    <tr>\n",
       "      <th>11</th>\n",
       "      <td>12</td>\n",
       "      <td>Salary bonus</td>\n",
       "    </tr>\n",
       "    <tr>\n",
       "      <th>12</th>\n",
       "      <td>13</td>\n",
       "      <td>Parental leave</td>\n",
       "    </tr>\n",
       "    <tr>\n",
       "      <th>13</th>\n",
       "      <td>14</td>\n",
       "      <td>Freelance</td>\n",
       "    </tr>\n",
       "    <tr>\n",
       "      <th>14</th>\n",
       "      <td>15</td>\n",
       "      <td>Flat hierarchy</td>\n",
       "    </tr>\n",
       "    <tr>\n",
       "      <th>15</th>\n",
       "      <td>16</td>\n",
       "      <td>Gear</td>\n",
       "    </tr>\n",
       "    <tr>\n",
       "      <th>16</th>\n",
       "      <td>17</td>\n",
       "      <td>Relocation support</td>\n",
       "    </tr>\n",
       "    <tr>\n",
       "      <th>17</th>\n",
       "      <td>18</td>\n",
       "      <td>Competitive pay</td>\n",
       "    </tr>\n",
       "    <tr>\n",
       "      <th>18</th>\n",
       "      <td>19</td>\n",
       "      <td>Unlimited paid time off</td>\n",
       "    </tr>\n",
       "    <tr>\n",
       "      <th>19</th>\n",
       "      <td>20</td>\n",
       "      <td>Fertility benefits</td>\n",
       "    </tr>\n",
       "    <tr>\n",
       "      <th>20</th>\n",
       "      <td>21</td>\n",
       "      <td>Paid sabbatical</td>\n",
       "    </tr>\n",
       "    <tr>\n",
       "      <th>21</th>\n",
       "      <td>22</td>\n",
       "      <td>Yoga</td>\n",
       "    </tr>\n",
       "    <tr>\n",
       "      <th>22</th>\n",
       "      <td>23</td>\n",
       "      <td>Snacks / Drinks</td>\n",
       "    </tr>\n",
       "    <tr>\n",
       "      <th>23</th>\n",
       "      <td>24</td>\n",
       "      <td>Conferences</td>\n",
       "    </tr>\n",
       "    <tr>\n",
       "      <th>24</th>\n",
       "      <td>25</td>\n",
       "      <td>Travel</td>\n",
       "    </tr>\n",
       "    <tr>\n",
       "      <th>25</th>\n",
       "      <td>26</td>\n",
       "      <td>Fitness / gym</td>\n",
       "    </tr>\n",
       "    <tr>\n",
       "      <th>26</th>\n",
       "      <td>27</td>\n",
       "      <td>Lunch / meals</td>\n",
       "    </tr>\n",
       "    <tr>\n",
       "      <th>27</th>\n",
       "      <td>28</td>\n",
       "      <td>Career development</td>\n",
       "    </tr>\n",
       "    <tr>\n",
       "      <th>28</th>\n",
       "      <td>29</td>\n",
       "      <td>Contract</td>\n",
       "    </tr>\n",
       "    <tr>\n",
       "      <th>29</th>\n",
       "      <td>30</td>\n",
       "      <td>Flex hours</td>\n",
       "    </tr>\n",
       "    <tr>\n",
       "      <th>30</th>\n",
       "      <td>31</td>\n",
       "      <td>Transparency</td>\n",
       "    </tr>\n",
       "    <tr>\n",
       "      <th>31</th>\n",
       "      <td>32</td>\n",
       "      <td>Flexible spending account</td>\n",
       "    </tr>\n",
       "    <tr>\n",
       "      <th>32</th>\n",
       "      <td>33</td>\n",
       "      <td>Equity</td>\n",
       "    </tr>\n",
       "    <tr>\n",
       "      <th>33</th>\n",
       "      <td>34</td>\n",
       "      <td>Medical leave</td>\n",
       "    </tr>\n",
       "  </tbody>\n",
       "</table>\n",
       "</div>"
      ],
      "text/plain": [
       "    id_facilities                       name\n",
       "0               1               Pet friendly\n",
       "1               2         Cell phone stipend\n",
       "2               3                Team events\n",
       "3               4        Home office stipend\n",
       "4               5              Flex vacation\n",
       "5               6                  Insurance\n",
       "6               7                   Wellness\n",
       "7               8              Signing bonus\n",
       "8               9        Startup environment\n",
       "9              10            401(k) matching\n",
       "10             11                Health care\n",
       "11             12               Salary bonus\n",
       "12             13             Parental leave\n",
       "13             14                  Freelance\n",
       "14             15             Flat hierarchy\n",
       "15             16                       Gear\n",
       "16             17         Relocation support\n",
       "17             18            Competitive pay\n",
       "18             19    Unlimited paid time off\n",
       "19             20         Fertility benefits\n",
       "20             21            Paid sabbatical\n",
       "21             22                       Yoga\n",
       "22             23            Snacks / Drinks\n",
       "23             24                Conferences\n",
       "24             25                     Travel\n",
       "25             26              Fitness / gym\n",
       "26             27              Lunch / meals\n",
       "27             28         Career development\n",
       "28             29                   Contract\n",
       "29             30                 Flex hours\n",
       "30             31               Transparency\n",
       "31             32  Flexible spending account\n",
       "32             33                     Equity\n",
       "33             34              Medical leave"
      ]
     },
     "execution_count": 143,
     "metadata": {},
     "output_type": "execute_result"
    }
   ],
   "source": [
    "import pandas as pd\n",
    "\n",
    "# Extract all the elements from the 'Facilities' column and create a set of unique facilities\n",
    "unique_facilities = set([item for sublist in df_clean['Facilities'] for item in sublist])\n",
    "\n",
    "# Creating a DataFrame directly from the 'company' list with enumerated indices.\n",
    "data = [{'id_facilities': index+1, 'name': row} for index, row in enumerate(unique_facilities)]\n",
    "\n",
    "# Creating the DataFrame from the data list\n",
    "df_facilities = pd.DataFrame(data)\n",
    "df_facilities.to_csv('Data/df_facilities.csv',index=False)\n",
    "df_facilities"
   ]
  },
  {
   "cell_type": "code",
   "execution_count": null,
   "metadata": {},
   "outputs": [
    {
     "data": {
      "text/html": [
       "<div>\n",
       "<style scoped>\n",
       "    .dataframe tbody tr th:only-of-type {\n",
       "        vertical-align: middle;\n",
       "    }\n",
       "\n",
       "    .dataframe tbody tr th {\n",
       "        vertical-align: top;\n",
       "    }\n",
       "\n",
       "    .dataframe thead th {\n",
       "        text-align: right;\n",
       "    }\n",
       "</style>\n",
       "<table border=\"1\" class=\"dataframe\">\n",
       "  <thead>\n",
       "    <tr style=\"text-align: right;\">\n",
       "      <th></th>\n",
       "      <th>id_job</th>\n",
       "      <th>id_company</th>\n",
       "      <th>id_workPlace</th>\n",
       "      <th>id_jobType</th>\n",
       "      <th>id_experienceLevel</th>\n",
       "      <th>id_country</th>\n",
       "      <th>job_title</th>\n",
       "      <th>salary</th>\n",
       "      <th>salary_conditions</th>\n",
       "    </tr>\n",
       "  </thead>\n",
       "  <tbody>\n",
       "    <tr>\n",
       "      <th>0</th>\n",
       "      <td>1</td>\n",
       "      <td>1</td>\n",
       "      <td>1</td>\n",
       "      <td>1</td>\n",
       "      <td>1</td>\n",
       "      <td>1</td>\n",
       "      <td>Clinical Data Analyst</td>\n",
       "      <td>48000.0</td>\n",
       "      <td>True</td>\n",
       "    </tr>\n",
       "    <tr>\n",
       "      <th>1</th>\n",
       "      <td>2</td>\n",
       "      <td>2</td>\n",
       "      <td>1</td>\n",
       "      <td>1</td>\n",
       "      <td>1</td>\n",
       "      <td>2</td>\n",
       "      <td>AML/CFT &amp; Data Analyst</td>\n",
       "      <td>48000.0</td>\n",
       "      <td>True</td>\n",
       "    </tr>\n",
       "    <tr>\n",
       "      <th>2</th>\n",
       "      <td>3</td>\n",
       "      <td>3</td>\n",
       "      <td>1</td>\n",
       "      <td>1</td>\n",
       "      <td>2</td>\n",
       "      <td>1</td>\n",
       "      <td>Machine Learning Engineer</td>\n",
       "      <td>90000.0</td>\n",
       "      <td>True</td>\n",
       "    </tr>\n",
       "    <tr>\n",
       "      <th>3</th>\n",
       "      <td>4</td>\n",
       "      <td>4</td>\n",
       "      <td>1</td>\n",
       "      <td>1</td>\n",
       "      <td>1</td>\n",
       "      <td>3</td>\n",
       "      <td>Application Developer &amp; Data Analyst</td>\n",
       "      <td>48000.0</td>\n",
       "      <td>True</td>\n",
       "    </tr>\n",
       "    <tr>\n",
       "      <th>4</th>\n",
       "      <td>5</td>\n",
       "      <td>5</td>\n",
       "      <td>1</td>\n",
       "      <td>1</td>\n",
       "      <td>3</td>\n",
       "      <td>1</td>\n",
       "      <td>Data Engineer Full time (Public Sector) USA</td>\n",
       "      <td>108000.0</td>\n",
       "      <td>False</td>\n",
       "    </tr>\n",
       "    <tr>\n",
       "      <th>...</th>\n",
       "      <td>...</td>\n",
       "      <td>...</td>\n",
       "      <td>...</td>\n",
       "      <td>...</td>\n",
       "      <td>...</td>\n",
       "      <td>...</td>\n",
       "      <td>...</td>\n",
       "      <td>...</td>\n",
       "      <td>...</td>\n",
       "    </tr>\n",
       "    <tr>\n",
       "      <th>2891</th>\n",
       "      <td>3191</td>\n",
       "      <td>301</td>\n",
       "      <td>1</td>\n",
       "      <td>1</td>\n",
       "      <td>3</td>\n",
       "      <td>1</td>\n",
       "      <td>Application Integration Engineer, Computer Vis...</td>\n",
       "      <td>113000.0</td>\n",
       "      <td>False</td>\n",
       "    </tr>\n",
       "    <tr>\n",
       "      <th>2892</th>\n",
       "      <td>3192</td>\n",
       "      <td>5</td>\n",
       "      <td>1</td>\n",
       "      <td>1</td>\n",
       "      <td>3</td>\n",
       "      <td>1</td>\n",
       "      <td>Associate Director, Data Science</td>\n",
       "      <td>106000.0</td>\n",
       "      <td>False</td>\n",
       "    </tr>\n",
       "    <tr>\n",
       "      <th>2893</th>\n",
       "      <td>3193</td>\n",
       "      <td>588</td>\n",
       "      <td>1</td>\n",
       "      <td>1</td>\n",
       "      <td>4</td>\n",
       "      <td>11</td>\n",
       "      <td>Senior Software Engineer, Machine Learning - A...</td>\n",
       "      <td>176000.0</td>\n",
       "      <td>False</td>\n",
       "    </tr>\n",
       "    <tr>\n",
       "      <th>2894</th>\n",
       "      <td>3194</td>\n",
       "      <td>9</td>\n",
       "      <td>1</td>\n",
       "      <td>1</td>\n",
       "      <td>1</td>\n",
       "      <td>46</td>\n",
       "      <td>Data Scientist - New College Graduate</td>\n",
       "      <td>39000.0</td>\n",
       "      <td>True</td>\n",
       "    </tr>\n",
       "    <tr>\n",
       "      <th>2895</th>\n",
       "      <td>3197</td>\n",
       "      <td>673</td>\n",
       "      <td>1</td>\n",
       "      <td>1</td>\n",
       "      <td>1</td>\n",
       "      <td>7</td>\n",
       "      <td>Data Scientist</td>\n",
       "      <td>39000.0</td>\n",
       "      <td>True</td>\n",
       "    </tr>\n",
       "  </tbody>\n",
       "</table>\n",
       "<p>2896 rows × 9 columns</p>\n",
       "</div>"
      ],
      "text/plain": [
       "      id_job  id_company  id_workPlace  id_jobType  id_experienceLevel   \n",
       "0          1           1             1           1                   1  \\\n",
       "1          2           2             1           1                   1   \n",
       "2          3           3             1           1                   2   \n",
       "3          4           4             1           1                   1   \n",
       "4          5           5             1           1                   3   \n",
       "...      ...         ...           ...         ...                 ...   \n",
       "2891    3191         301             1           1                   3   \n",
       "2892    3192           5             1           1                   3   \n",
       "2893    3193         588             1           1                   4   \n",
       "2894    3194           9             1           1                   1   \n",
       "2895    3197         673             1           1                   1   \n",
       "\n",
       "      id_country                                          job_title    salary   \n",
       "0              1                              Clinical Data Analyst   48000.0  \\\n",
       "1              2                             AML/CFT & Data Analyst   48000.0   \n",
       "2              1                          Machine Learning Engineer   90000.0   \n",
       "3              3               Application Developer & Data Analyst   48000.0   \n",
       "4              1        Data Engineer Full time (Public Sector) USA  108000.0   \n",
       "...          ...                                                ...       ...   \n",
       "2891           1  Application Integration Engineer, Computer Vis...  113000.0   \n",
       "2892           1                   Associate Director, Data Science  106000.0   \n",
       "2893          11  Senior Software Engineer, Machine Learning - A...  176000.0   \n",
       "2894          46              Data Scientist - New College Graduate   39000.0   \n",
       "2895           7                                     Data Scientist   39000.0   \n",
       "\n",
       "      salary_conditions  \n",
       "0                  True  \n",
       "1                  True  \n",
       "2                  True  \n",
       "3                  True  \n",
       "4                 False  \n",
       "...                 ...  \n",
       "2891              False  \n",
       "2892              False  \n",
       "2893              False  \n",
       "2894               True  \n",
       "2895               True  \n",
       "\n",
       "[2896 rows x 9 columns]"
      ]
     },
     "execution_count": 149,
     "metadata": {},
     "output_type": "execute_result"
    }
   ],
   "source": [
    "columns = ['id_job','id_company', 'id_workPlace','id_jobType','id_experienceLevel','id_country','job_title','salary','salary_conditions']\n",
    "data = []\n",
    "\n",
    "for index, row in df_clean.iterrows():\n",
    "    company = df_company[df_company['company_name'] == row['Company']]\n",
    "    workPlace = df_workPlace[df_workPlace['name'] == row['Work_Place']]\n",
    "    jobType = df_jobType[df_jobType['name'] == row['Job_Type']]\n",
    "    experienceLevel = df_experienceLevel[df_experienceLevel['name'] == row['Experience_level']]\n",
    "    country = df_country[df_country['name'] == row['Country']]\n",
    "    new_row = {\n",
    "        'id_job': index+1,\n",
    "        'id_company': company['id_company'].values[0],\n",
    "        'id_workPlace': workPlace['id_workPlace'].values[0],\n",
    "        'id_jobType': jobType['id_jobType'].values[0],\n",
    "        'id_experienceLevel': experienceLevel['id_experienceLevel'].values[0],\n",
    "        'id_country': country['id_country'].values[0],\n",
    "        'job_title': row['Job_Title'],\n",
    "        'salary': row['Min_Salary_Year'],\n",
    "        'salary_conditions': row['Salary_conditions'],\n",
    "    }\n",
    "    data.append(new_row)\n",
    "\n",
    "# Creating the DataFrame from the data list\n",
    "df_job = pd.DataFrame(data, columns=columns)\n",
    "df_job.to_csv('Data/df_job.csv',index=False)\n",
    "df_job"
   ]
  },
  {
   "cell_type": "code",
   "execution_count": null,
   "metadata": {},
   "outputs": [
    {
     "data": {
      "text/html": [
       "<div>\n",
       "<style scoped>\n",
       "    .dataframe tbody tr th:only-of-type {\n",
       "        vertical-align: middle;\n",
       "    }\n",
       "\n",
       "    .dataframe tbody tr th {\n",
       "        vertical-align: top;\n",
       "    }\n",
       "\n",
       "    .dataframe thead th {\n",
       "        text-align: right;\n",
       "    }\n",
       "</style>\n",
       "<table border=\"1\" class=\"dataframe\">\n",
       "  <thead>\n",
       "    <tr style=\"text-align: right;\">\n",
       "      <th></th>\n",
       "      <th>id_job</th>\n",
       "      <th>id_facilities</th>\n",
       "    </tr>\n",
       "  </thead>\n",
       "  <tbody>\n",
       "    <tr>\n",
       "      <th>0</th>\n",
       "      <td>3</td>\n",
       "      <td>28</td>\n",
       "    </tr>\n",
       "    <tr>\n",
       "      <th>1</th>\n",
       "      <td>5</td>\n",
       "      <td>30</td>\n",
       "    </tr>\n",
       "    <tr>\n",
       "      <th>2</th>\n",
       "      <td>5</td>\n",
       "      <td>5</td>\n",
       "    </tr>\n",
       "    <tr>\n",
       "      <th>3</th>\n",
       "      <td>5</td>\n",
       "      <td>13</td>\n",
       "    </tr>\n",
       "    <tr>\n",
       "      <th>4</th>\n",
       "      <td>5</td>\n",
       "      <td>19</td>\n",
       "    </tr>\n",
       "    <tr>\n",
       "      <th>...</th>\n",
       "      <td>...</td>\n",
       "      <td>...</td>\n",
       "    </tr>\n",
       "    <tr>\n",
       "      <th>8253</th>\n",
       "      <td>3193</td>\n",
       "      <td>6</td>\n",
       "    </tr>\n",
       "    <tr>\n",
       "      <th>8254</th>\n",
       "      <td>3193</td>\n",
       "      <td>13</td>\n",
       "    </tr>\n",
       "    <tr>\n",
       "      <th>8255</th>\n",
       "      <td>3194</td>\n",
       "      <td>28</td>\n",
       "    </tr>\n",
       "    <tr>\n",
       "      <th>8256</th>\n",
       "      <td>47</td>\n",
       "      <td>28</td>\n",
       "    </tr>\n",
       "    <tr>\n",
       "      <th>8257</th>\n",
       "      <td>47</td>\n",
       "      <td>9</td>\n",
       "    </tr>\n",
       "  </tbody>\n",
       "</table>\n",
       "<p>8258 rows × 2 columns</p>\n",
       "</div>"
      ],
      "text/plain": [
       "      id_job  id_facilities\n",
       "0          3             28\n",
       "1          5             30\n",
       "2          5              5\n",
       "3          5             13\n",
       "4          5             19\n",
       "...      ...            ...\n",
       "8253    3193              6\n",
       "8254    3193             13\n",
       "8255    3194             28\n",
       "8256      47             28\n",
       "8257      47              9\n",
       "\n",
       "[8258 rows x 2 columns]"
      ]
     },
     "execution_count": 176,
     "metadata": {},
     "output_type": "execute_result"
    }
   ],
   "source": [
    "columns = ['id_job','id_facilities']\n",
    "data = []\n",
    "\n",
    "for row in df_clean.itertuples():\n",
    "    if len(row.Facilities) > 0:\n",
    "        for fac in row.Facilities:\n",
    "            job = df_job[df_job['job_title'] == row.Job_Title]\n",
    "            facilitie = df_facilities[df_facilities['name'] == fac]\n",
    "            new_row = {\n",
    "                'id_job': job.values[0][0],\n",
    "                'id_facilities': facilitie.values[0][0],\n",
    "            }\n",
    "            # print(new_row)\n",
    "            data.append(new_row)\n",
    "\n",
    "df_job_facilities = pd.DataFrame(data, columns=columns)\n",
    "df_job_facilities"
   ]
  },
  {
   "cell_type": "code",
   "execution_count": null,
   "metadata": {},
   "outputs": [
    {
     "data": {
      "text/html": [
       "<div>\n",
       "<style scoped>\n",
       "    .dataframe tbody tr th:only-of-type {\n",
       "        vertical-align: middle;\n",
       "    }\n",
       "\n",
       "    .dataframe tbody tr th {\n",
       "        vertical-align: top;\n",
       "    }\n",
       "\n",
       "    .dataframe thead th {\n",
       "        text-align: right;\n",
       "    }\n",
       "</style>\n",
       "<table border=\"1\" class=\"dataframe\">\n",
       "  <thead>\n",
       "    <tr style=\"text-align: right;\">\n",
       "      <th></th>\n",
       "      <th>id_requirement</th>\n",
       "      <th>name</th>\n",
       "    </tr>\n",
       "  </thead>\n",
       "  <tbody>\n",
       "    <tr>\n",
       "      <th>0</th>\n",
       "      <td>1</td>\n",
       "      <td>SSIS</td>\n",
       "    </tr>\n",
       "    <tr>\n",
       "      <th>1</th>\n",
       "      <td>2</td>\n",
       "      <td>GCP</td>\n",
       "    </tr>\n",
       "    <tr>\n",
       "      <th>2</th>\n",
       "      <td>3</td>\n",
       "      <td>Model training</td>\n",
       "    </tr>\n",
       "    <tr>\n",
       "      <th>3</th>\n",
       "      <td>4</td>\n",
       "      <td>Flask</td>\n",
       "    </tr>\n",
       "    <tr>\n",
       "      <th>4</th>\n",
       "      <td>5</td>\n",
       "      <td>GloVe</td>\n",
       "    </tr>\n",
       "    <tr>\n",
       "      <th>...</th>\n",
       "      <td>...</td>\n",
       "      <td>...</td>\n",
       "    </tr>\n",
       "    <tr>\n",
       "      <th>278</th>\n",
       "      <td>279</td>\n",
       "      <td>Perl</td>\n",
       "    </tr>\n",
       "    <tr>\n",
       "      <th>279</th>\n",
       "      <td>280</td>\n",
       "      <td>Amplitude</td>\n",
       "    </tr>\n",
       "    <tr>\n",
       "      <th>280</th>\n",
       "      <td>281</td>\n",
       "      <td>Market research</td>\n",
       "    </tr>\n",
       "    <tr>\n",
       "      <th>281</th>\n",
       "      <td>282</td>\n",
       "      <td>BigQuery</td>\n",
       "    </tr>\n",
       "    <tr>\n",
       "      <th>282</th>\n",
       "      <td>283</td>\n",
       "      <td>Model deployment</td>\n",
       "    </tr>\n",
       "  </tbody>\n",
       "</table>\n",
       "<p>283 rows × 2 columns</p>\n",
       "</div>"
      ],
      "text/plain": [
       "     id_requirement              name\n",
       "0                 1              SSIS\n",
       "1                 2               GCP\n",
       "2                 3    Model training\n",
       "3                 4             Flask\n",
       "4                 5             GloVe\n",
       "..              ...               ...\n",
       "278             279              Perl\n",
       "279             280         Amplitude\n",
       "280             281   Market research\n",
       "281             282          BigQuery\n",
       "282             283  Model deployment\n",
       "\n",
       "[283 rows x 2 columns]"
      ]
     },
     "execution_count": 178,
     "metadata": {},
     "output_type": "execute_result"
    }
   ],
   "source": [
    "import pandas as pd\n",
    "\n",
    "# Extract all the elements from the 'Facilities' column and create a set of unique facilities\n",
    "unique_requirement = set([item for sublist in df_clean['Requirment_of_the_company'] for item in sublist])\n",
    "\n",
    "# Creating a DataFrame directly from the 'company' list with enumerated indices.\n",
    "data = [{'id_requirement': index+1, 'name': row} for index, row in enumerate(unique_requirement)]\n",
    "\n",
    "# Creating the DataFrame from the data list\n",
    "df_requirement = pd.DataFrame(data)\n",
    "df_requirement.to_csv('Data/df_requirement.csv',index=False)\n",
    "df_requirement"
   ]
  },
  {
   "cell_type": "code",
   "execution_count": null,
   "metadata": {},
   "outputs": [
    {
     "data": {
      "text/html": [
       "<div>\n",
       "<style scoped>\n",
       "    .dataframe tbody tr th:only-of-type {\n",
       "        vertical-align: middle;\n",
       "    }\n",
       "\n",
       "    .dataframe tbody tr th {\n",
       "        vertical-align: top;\n",
       "    }\n",
       "\n",
       "    .dataframe thead th {\n",
       "        text-align: right;\n",
       "    }\n",
       "</style>\n",
       "<table border=\"1\" class=\"dataframe\">\n",
       "  <thead>\n",
       "    <tr style=\"text-align: right;\">\n",
       "      <th></th>\n",
       "      <th>id_job</th>\n",
       "      <th>id_requirement</th>\n",
       "    </tr>\n",
       "  </thead>\n",
       "  <tbody>\n",
       "    <tr>\n",
       "      <th>0</th>\n",
       "      <td>1</td>\n",
       "      <td>8</td>\n",
       "    </tr>\n",
       "    <tr>\n",
       "      <th>1</th>\n",
       "      <td>1</td>\n",
       "      <td>240</td>\n",
       "    </tr>\n",
       "    <tr>\n",
       "      <th>2</th>\n",
       "      <td>1</td>\n",
       "      <td>89</td>\n",
       "    </tr>\n",
       "    <tr>\n",
       "      <th>3</th>\n",
       "      <td>1</td>\n",
       "      <td>31</td>\n",
       "    </tr>\n",
       "    <tr>\n",
       "      <th>4</th>\n",
       "      <td>1</td>\n",
       "      <td>138</td>\n",
       "    </tr>\n",
       "    <tr>\n",
       "      <th>...</th>\n",
       "      <td>...</td>\n",
       "      <td>...</td>\n",
       "    </tr>\n",
       "    <tr>\n",
       "      <th>16639</th>\n",
       "      <td>47</td>\n",
       "      <td>76</td>\n",
       "    </tr>\n",
       "    <tr>\n",
       "      <th>16640</th>\n",
       "      <td>47</td>\n",
       "      <td>164</td>\n",
       "    </tr>\n",
       "    <tr>\n",
       "      <th>16641</th>\n",
       "      <td>47</td>\n",
       "      <td>83</td>\n",
       "    </tr>\n",
       "    <tr>\n",
       "      <th>16642</th>\n",
       "      <td>47</td>\n",
       "      <td>91</td>\n",
       "    </tr>\n",
       "    <tr>\n",
       "      <th>16643</th>\n",
       "      <td>47</td>\n",
       "      <td>2</td>\n",
       "    </tr>\n",
       "  </tbody>\n",
       "</table>\n",
       "<p>16644 rows × 2 columns</p>\n",
       "</div>"
      ],
      "text/plain": [
       "       id_job  id_requirement\n",
       "0           1               8\n",
       "1           1             240\n",
       "2           1              89\n",
       "3           1              31\n",
       "4           1             138\n",
       "...       ...             ...\n",
       "16639      47              76\n",
       "16640      47             164\n",
       "16641      47              83\n",
       "16642      47              91\n",
       "16643      47               2\n",
       "\n",
       "[16644 rows x 2 columns]"
      ]
     },
     "execution_count": 180,
     "metadata": {},
     "output_type": "execute_result"
    }
   ],
   "source": [
    "columns = ['id_job','id_requirement']\n",
    "data = []\n",
    "\n",
    "for row in df_clean.itertuples():\n",
    "    if len(row.Requirment_of_the_company) > 0:\n",
    "        for req in row.Requirment_of_the_company:\n",
    "            job = df_job[df_job['job_title'] == row.Job_Title]\n",
    "            requirement = df_requirement[df_requirement['name'] == req]\n",
    "            new_row = {\n",
    "                'id_job': job.values[0][0],\n",
    "                'id_requirement': requirement.values[0][0],\n",
    "            }\n",
    "            # print(new_row)\n",
    "            data.append(new_row)\n",
    "\n",
    "df_job_requirement = pd.DataFrame(data, columns=columns)\n",
    "df_job_requirement"
   ]
  },
  {
   "cell_type": "markdown",
   "metadata": {},
   "source": [
    "## Insertion of data"
   ]
  },
  {
   "cell_type": "code",
   "execution_count": null,
   "metadata": {},
   "outputs": [],
   "source": [
    "# delete values of table\n",
    "# cursor.execute(''' DELETE FROM table_name; ''')\n",
    "# connection.commit()"
   ]
  },
  {
   "cell_type": "code",
   "execution_count": null,
   "metadata": {},
   "outputs": [],
   "source": [
    "cursor.execute(''' USE job_offers; ''')\n",
    "connection.commit()"
   ]
  },
  {
   "cell_type": "code",
   "execution_count": null,
   "metadata": {},
   "outputs": [],
   "source": [
    "cursor.execute(''' SET IDENTITY_INSERT Company ON; ''')\n",
    "for row in df_company.itertuples():\n",
    "    cursor.execute('''\n",
    "        INSERT INTO Company (id_company,company_name) \n",
    "        VALUES(? ,? )\n",
    "    ''',row.id_company,row.company_name)\n",
    "cursor.execute(''' SET IDENTITY_INSERT Company OFF; ''')\n",
    "connection.commit()"
   ]
  },
  {
   "cell_type": "code",
   "execution_count": null,
   "metadata": {},
   "outputs": [
    {
     "name": "stderr",
     "output_type": "stream",
     "text": [
      "C:\\Users\\Youcode\\AppData\\Local\\Temp\\ipykernel_21520\\2119721181.py:3: UserWarning:\n",
      "\n",
      "pandas only supports SQLAlchemy connectable (engine/connection) or database string URI or sqlite3 DBAPI2 connection. Other DBAPI2 objects are not tested. Please consider using SQLAlchemy.\n",
      "\n"
     ]
    },
    {
     "data": {
      "text/html": [
       "<div>\n",
       "<style scoped>\n",
       "    .dataframe tbody tr th:only-of-type {\n",
       "        vertical-align: middle;\n",
       "    }\n",
       "\n",
       "    .dataframe tbody tr th {\n",
       "        vertical-align: top;\n",
       "    }\n",
       "\n",
       "    .dataframe thead th {\n",
       "        text-align: right;\n",
       "    }\n",
       "</style>\n",
       "<table border=\"1\" class=\"dataframe\">\n",
       "  <thead>\n",
       "    <tr style=\"text-align: right;\">\n",
       "      <th></th>\n",
       "      <th>id_company</th>\n",
       "      <th>company_name</th>\n",
       "    </tr>\n",
       "  </thead>\n",
       "  <tbody>\n",
       "    <tr>\n",
       "      <th>0</th>\n",
       "      <td>1</td>\n",
       "      <td>SGS</td>\n",
       "    </tr>\n",
       "    <tr>\n",
       "      <th>1</th>\n",
       "      <td>2</td>\n",
       "      <td>Ocorian</td>\n",
       "    </tr>\n",
       "    <tr>\n",
       "      <th>2</th>\n",
       "      <td>3</td>\n",
       "      <td>Cricut</td>\n",
       "    </tr>\n",
       "    <tr>\n",
       "      <th>3</th>\n",
       "      <td>4</td>\n",
       "      <td>Bosch Group</td>\n",
       "    </tr>\n",
       "    <tr>\n",
       "      <th>4</th>\n",
       "      <td>5</td>\n",
       "      <td>Publicis Groupe</td>\n",
       "    </tr>\n",
       "  </tbody>\n",
       "</table>\n",
       "</div>"
      ],
      "text/plain": [
       "   id_company     company_name\n",
       "0           1              SGS\n",
       "1           2          Ocorian\n",
       "2           3           Cricut\n",
       "3           4      Bosch Group\n",
       "4           5  Publicis Groupe"
      ]
     },
     "execution_count": 194,
     "metadata": {},
     "output_type": "execute_result"
    }
   ],
   "source": [
    "import pandas as pd\n",
    "\n",
    "pd.read_sql('''\n",
    "    SELECT top(5) *\n",
    "    FROM Company;\n",
    "    ''',connection)"
   ]
  },
  {
   "cell_type": "code",
   "execution_count": null,
   "metadata": {},
   "outputs": [
    {
     "name": "stderr",
     "output_type": "stream",
     "text": [
      "C:\\Users\\Youcode\\AppData\\Local\\Temp\\ipykernel_21520\\3542699838.py:12: UserWarning:\n",
      "\n",
      "pandas only supports SQLAlchemy connectable (engine/connection) or database string URI or sqlite3 DBAPI2 connection. Other DBAPI2 objects are not tested. Please consider using SQLAlchemy.\n",
      "\n"
     ]
    },
    {
     "data": {
      "text/html": [
       "<div>\n",
       "<style scoped>\n",
       "    .dataframe tbody tr th:only-of-type {\n",
       "        vertical-align: middle;\n",
       "    }\n",
       "\n",
       "    .dataframe tbody tr th {\n",
       "        vertical-align: top;\n",
       "    }\n",
       "\n",
       "    .dataframe thead th {\n",
       "        text-align: right;\n",
       "    }\n",
       "</style>\n",
       "<table border=\"1\" class=\"dataframe\">\n",
       "  <thead>\n",
       "    <tr style=\"text-align: right;\">\n",
       "      <th></th>\n",
       "      <th>id_workPlace</th>\n",
       "      <th>name</th>\n",
       "    </tr>\n",
       "  </thead>\n",
       "  <tbody>\n",
       "    <tr>\n",
       "      <th>0</th>\n",
       "      <td>1</td>\n",
       "      <td>Local</td>\n",
       "    </tr>\n",
       "    <tr>\n",
       "      <th>1</th>\n",
       "      <td>2</td>\n",
       "      <td>Remote</td>\n",
       "    </tr>\n",
       "    <tr>\n",
       "      <th>2</th>\n",
       "      <td>3</td>\n",
       "      <td>Hybrid</td>\n",
       "    </tr>\n",
       "  </tbody>\n",
       "</table>\n",
       "</div>"
      ],
      "text/plain": [
       "   id_workPlace    name\n",
       "0             1   Local\n",
       "1             2  Remote\n",
       "2             3  Hybrid"
      ]
     },
     "execution_count": 197,
     "metadata": {},
     "output_type": "execute_result"
    }
   ],
   "source": [
    "import pandas as pd\n",
    "\n",
    "cursor.execute(''' SET IDENTITY_INSERT Work_Place ON; ''')\n",
    "for row in df_workPlace.itertuples():\n",
    "    cursor.execute('''\n",
    "        INSERT INTO Work_Place (id_workPlace,name)\n",
    "        VALUES(? ,? )\n",
    "    ''',row.id_workPlace,row.name)\n",
    "cursor.execute(''' SET IDENTITY_INSERT Work_Place OFF; ''')\n",
    "connection.commit()\n",
    "\n",
    "pd.read_sql('''\n",
    "    SELECT top(5) *\n",
    "    FROM Work_Place;\n",
    "    ''',connection)"
   ]
  },
  {
   "cell_type": "code",
   "execution_count": null,
   "metadata": {},
   "outputs": [
    {
     "name": "stderr",
     "output_type": "stream",
     "text": [
      "C:\\Users\\Youcode\\AppData\\Local\\Temp\\ipykernel_21520\\2760218392.py:12: UserWarning:\n",
      "\n",
      "pandas only supports SQLAlchemy connectable (engine/connection) or database string URI or sqlite3 DBAPI2 connection. Other DBAPI2 objects are not tested. Please consider using SQLAlchemy.\n",
      "\n"
     ]
    },
    {
     "data": {
      "text/html": [
       "<div>\n",
       "<style scoped>\n",
       "    .dataframe tbody tr th:only-of-type {\n",
       "        vertical-align: middle;\n",
       "    }\n",
       "\n",
       "    .dataframe tbody tr th {\n",
       "        vertical-align: top;\n",
       "    }\n",
       "\n",
       "    .dataframe thead th {\n",
       "        text-align: right;\n",
       "    }\n",
       "</style>\n",
       "<table border=\"1\" class=\"dataframe\">\n",
       "  <thead>\n",
       "    <tr style=\"text-align: right;\">\n",
       "      <th></th>\n",
       "      <th>id_jobType</th>\n",
       "      <th>name</th>\n",
       "    </tr>\n",
       "  </thead>\n",
       "  <tbody>\n",
       "    <tr>\n",
       "      <th>0</th>\n",
       "      <td>1</td>\n",
       "      <td>Full Time</td>\n",
       "    </tr>\n",
       "    <tr>\n",
       "      <th>1</th>\n",
       "      <td>2</td>\n",
       "      <td>Internship</td>\n",
       "    </tr>\n",
       "    <tr>\n",
       "      <th>2</th>\n",
       "      <td>3</td>\n",
       "      <td>Part Time</td>\n",
       "    </tr>\n",
       "  </tbody>\n",
       "</table>\n",
       "</div>"
      ],
      "text/plain": [
       "   id_jobType        name\n",
       "0           1   Full Time\n",
       "1           2  Internship\n",
       "2           3   Part Time"
      ]
     },
     "execution_count": 198,
     "metadata": {},
     "output_type": "execute_result"
    }
   ],
   "source": [
    "import pandas as pd\n",
    "\n",
    "cursor.execute(''' SET IDENTITY_INSERT Job_Type ON; ''')\n",
    "for row in df_jobType.itertuples():\n",
    "    cursor.execute('''\n",
    "        INSERT INTO Job_Type (id_jobType,name)\n",
    "        VALUES(? ,? )\n",
    "    ''',row.id_jobType,row.name)\n",
    "cursor.execute(''' SET IDENTITY_INSERT Job_Type OFF; ''')\n",
    "connection.commit()\n",
    "\n",
    "pd.read_sql('''\n",
    "    SELECT top(5) *\n",
    "    FROM Job_Type;\n",
    "    ''',connection)"
   ]
  },
  {
   "cell_type": "code",
   "execution_count": null,
   "metadata": {},
   "outputs": [
    {
     "name": "stderr",
     "output_type": "stream",
     "text": [
      "C:\\Users\\Youcode\\AppData\\Local\\Temp\\ipykernel_21520\\4185827200.py:12: UserWarning:\n",
      "\n",
      "pandas only supports SQLAlchemy connectable (engine/connection) or database string URI or sqlite3 DBAPI2 connection. Other DBAPI2 objects are not tested. Please consider using SQLAlchemy.\n",
      "\n"
     ]
    },
    {
     "data": {
      "text/html": [
       "<div>\n",
       "<style scoped>\n",
       "    .dataframe tbody tr th:only-of-type {\n",
       "        vertical-align: middle;\n",
       "    }\n",
       "\n",
       "    .dataframe tbody tr th {\n",
       "        vertical-align: top;\n",
       "    }\n",
       "\n",
       "    .dataframe thead th {\n",
       "        text-align: right;\n",
       "    }\n",
       "</style>\n",
       "<table border=\"1\" class=\"dataframe\">\n",
       "  <thead>\n",
       "    <tr style=\"text-align: right;\">\n",
       "      <th></th>\n",
       "      <th>id_experienceLevel</th>\n",
       "      <th>name</th>\n",
       "    </tr>\n",
       "  </thead>\n",
       "  <tbody>\n",
       "    <tr>\n",
       "      <th>0</th>\n",
       "      <td>1</td>\n",
       "      <td>Entry-level</td>\n",
       "    </tr>\n",
       "    <tr>\n",
       "      <th>1</th>\n",
       "      <td>2</td>\n",
       "      <td>Not-Specified</td>\n",
       "    </tr>\n",
       "    <tr>\n",
       "      <th>2</th>\n",
       "      <td>3</td>\n",
       "      <td>Mid-level</td>\n",
       "    </tr>\n",
       "    <tr>\n",
       "      <th>3</th>\n",
       "      <td>4</td>\n",
       "      <td>Senior-level</td>\n",
       "    </tr>\n",
       "    <tr>\n",
       "      <th>4</th>\n",
       "      <td>5</td>\n",
       "      <td>Executive-level</td>\n",
       "    </tr>\n",
       "  </tbody>\n",
       "</table>\n",
       "</div>"
      ],
      "text/plain": [
       "   id_experienceLevel             name\n",
       "0                   1      Entry-level\n",
       "1                   2    Not-Specified\n",
       "2                   3        Mid-level\n",
       "3                   4     Senior-level\n",
       "4                   5  Executive-level"
      ]
     },
     "execution_count": 200,
     "metadata": {},
     "output_type": "execute_result"
    }
   ],
   "source": [
    "import pandas as pd\n",
    "\n",
    "cursor.execute(''' SET IDENTITY_INSERT Experience_Level ON; ''')\n",
    "for row in df_experienceLevel.itertuples():\n",
    "    cursor.execute('''\n",
    "        INSERT INTO Experience_Level (id_experienceLevel,name)\n",
    "        VALUES(? ,? )\n",
    "    ''',row.id_experienceLevel,row.name)\n",
    "cursor.execute(''' SET IDENTITY_INSERT Experience_Level OFF; ''')\n",
    "connection.commit()\n",
    "\n",
    "pd.read_sql('''\n",
    "    SELECT top(5) *\n",
    "    FROM Experience_Level;\n",
    "    ''',connection)"
   ]
  },
  {
   "cell_type": "code",
   "execution_count": null,
   "metadata": {},
   "outputs": [
    {
     "name": "stderr",
     "output_type": "stream",
     "text": [
      "C:\\Users\\Youcode\\AppData\\Local\\Temp\\ipykernel_21520\\4061735292.py:12: UserWarning:\n",
      "\n",
      "pandas only supports SQLAlchemy connectable (engine/connection) or database string URI or sqlite3 DBAPI2 connection. Other DBAPI2 objects are not tested. Please consider using SQLAlchemy.\n",
      "\n"
     ]
    },
    {
     "data": {
      "text/html": [
       "<div>\n",
       "<style scoped>\n",
       "    .dataframe tbody tr th:only-of-type {\n",
       "        vertical-align: middle;\n",
       "    }\n",
       "\n",
       "    .dataframe tbody tr th {\n",
       "        vertical-align: top;\n",
       "    }\n",
       "\n",
       "    .dataframe thead th {\n",
       "        text-align: right;\n",
       "    }\n",
       "</style>\n",
       "<table border=\"1\" class=\"dataframe\">\n",
       "  <thead>\n",
       "    <tr style=\"text-align: right;\">\n",
       "      <th></th>\n",
       "      <th>id_country</th>\n",
       "      <th>name</th>\n",
       "    </tr>\n",
       "  </thead>\n",
       "  <tbody>\n",
       "    <tr>\n",
       "      <th>0</th>\n",
       "      <td>1</td>\n",
       "      <td>United States</td>\n",
       "    </tr>\n",
       "    <tr>\n",
       "      <th>1</th>\n",
       "      <td>2</td>\n",
       "      <td>Mauritius</td>\n",
       "    </tr>\n",
       "    <tr>\n",
       "      <th>2</th>\n",
       "      <td>3</td>\n",
       "      <td>Italy</td>\n",
       "    </tr>\n",
       "    <tr>\n",
       "      <th>3</th>\n",
       "      <td>4</td>\n",
       "      <td>Portugal</td>\n",
       "    </tr>\n",
       "    <tr>\n",
       "      <th>4</th>\n",
       "      <td>5</td>\n",
       "      <td>Thailand</td>\n",
       "    </tr>\n",
       "  </tbody>\n",
       "</table>\n",
       "</div>"
      ],
      "text/plain": [
       "   id_country           name\n",
       "0           1  United States\n",
       "1           2      Mauritius\n",
       "2           3          Italy\n",
       "3           4       Portugal\n",
       "4           5       Thailand"
      ]
     },
     "execution_count": 201,
     "metadata": {},
     "output_type": "execute_result"
    }
   ],
   "source": [
    "import pandas as pd\n",
    "\n",
    "cursor.execute(''' SET IDENTITY_INSERT Country ON; ''')\n",
    "for row in df_country.itertuples():\n",
    "    cursor.execute('''\n",
    "        INSERT INTO Country (id_country,name)\n",
    "        VALUES(? ,? )\n",
    "    ''',row.id_country,row.name)\n",
    "cursor.execute(''' SET IDENTITY_INSERT Country OFF; ''')\n",
    "connection.commit()\n",
    "\n",
    "pd.read_sql('''\n",
    "    SELECT top(5) *\n",
    "    FROM Country;\n",
    "    ''',connection)"
   ]
  },
  {
   "cell_type": "code",
   "execution_count": null,
   "metadata": {},
   "outputs": [
    {
     "name": "stderr",
     "output_type": "stream",
     "text": [
      "C:\\Users\\Youcode\\AppData\\Local\\Temp\\ipykernel_21520\\1369457511.py:12: UserWarning:\n",
      "\n",
      "pandas only supports SQLAlchemy connectable (engine/connection) or database string URI or sqlite3 DBAPI2 connection. Other DBAPI2 objects are not tested. Please consider using SQLAlchemy.\n",
      "\n"
     ]
    },
    {
     "data": {
      "text/html": [
       "<div>\n",
       "<style scoped>\n",
       "    .dataframe tbody tr th:only-of-type {\n",
       "        vertical-align: middle;\n",
       "    }\n",
       "\n",
       "    .dataframe tbody tr th {\n",
       "        vertical-align: top;\n",
       "    }\n",
       "\n",
       "    .dataframe thead th {\n",
       "        text-align: right;\n",
       "    }\n",
       "</style>\n",
       "<table border=\"1\" class=\"dataframe\">\n",
       "  <thead>\n",
       "    <tr style=\"text-align: right;\">\n",
       "      <th></th>\n",
       "      <th>id_requirement</th>\n",
       "      <th>name</th>\n",
       "    </tr>\n",
       "  </thead>\n",
       "  <tbody>\n",
       "    <tr>\n",
       "      <th>0</th>\n",
       "      <td>1</td>\n",
       "      <td>SSIS</td>\n",
       "    </tr>\n",
       "    <tr>\n",
       "      <th>1</th>\n",
       "      <td>2</td>\n",
       "      <td>GCP</td>\n",
       "    </tr>\n",
       "    <tr>\n",
       "      <th>2</th>\n",
       "      <td>3</td>\n",
       "      <td>Model training</td>\n",
       "    </tr>\n",
       "    <tr>\n",
       "      <th>3</th>\n",
       "      <td>4</td>\n",
       "      <td>Flask</td>\n",
       "    </tr>\n",
       "    <tr>\n",
       "      <th>4</th>\n",
       "      <td>5</td>\n",
       "      <td>GloVe</td>\n",
       "    </tr>\n",
       "  </tbody>\n",
       "</table>\n",
       "</div>"
      ],
      "text/plain": [
       "   id_requirement            name\n",
       "0               1            SSIS\n",
       "1               2             GCP\n",
       "2               3  Model training\n",
       "3               4           Flask\n",
       "4               5           GloVe"
      ]
     },
     "execution_count": 202,
     "metadata": {},
     "output_type": "execute_result"
    }
   ],
   "source": [
    "import pandas as pd\n",
    "\n",
    "cursor.execute(''' SET IDENTITY_INSERT Requirement ON; ''')\n",
    "for row in df_requirement.itertuples():\n",
    "    cursor.execute('''\n",
    "        INSERT INTO Requirement (id_requirement,name)\n",
    "        VALUES(? ,? )\n",
    "    ''',row.id_requirement,row.name)\n",
    "cursor.execute(''' SET IDENTITY_INSERT Requirement OFF; ''')\n",
    "connection.commit()\n",
    "\n",
    "pd.read_sql('''\n",
    "    SELECT top(5) *\n",
    "    FROM Requirement;\n",
    "    ''',connection)"
   ]
  },
  {
   "cell_type": "code",
   "execution_count": null,
   "metadata": {},
   "outputs": [
    {
     "name": "stderr",
     "output_type": "stream",
     "text": [
      "C:\\Users\\Youcode\\AppData\\Local\\Temp\\ipykernel_21520\\2287393156.py:12: UserWarning:\n",
      "\n",
      "pandas only supports SQLAlchemy connectable (engine/connection) or database string URI or sqlite3 DBAPI2 connection. Other DBAPI2 objects are not tested. Please consider using SQLAlchemy.\n",
      "\n"
     ]
    },
    {
     "data": {
      "text/html": [
       "<div>\n",
       "<style scoped>\n",
       "    .dataframe tbody tr th:only-of-type {\n",
       "        vertical-align: middle;\n",
       "    }\n",
       "\n",
       "    .dataframe tbody tr th {\n",
       "        vertical-align: top;\n",
       "    }\n",
       "\n",
       "    .dataframe thead th {\n",
       "        text-align: right;\n",
       "    }\n",
       "</style>\n",
       "<table border=\"1\" class=\"dataframe\">\n",
       "  <thead>\n",
       "    <tr style=\"text-align: right;\">\n",
       "      <th></th>\n",
       "      <th>id_facilities</th>\n",
       "      <th>name</th>\n",
       "    </tr>\n",
       "  </thead>\n",
       "  <tbody>\n",
       "    <tr>\n",
       "      <th>0</th>\n",
       "      <td>1</td>\n",
       "      <td>Pet friendly</td>\n",
       "    </tr>\n",
       "    <tr>\n",
       "      <th>1</th>\n",
       "      <td>2</td>\n",
       "      <td>Cell phone stipend</td>\n",
       "    </tr>\n",
       "    <tr>\n",
       "      <th>2</th>\n",
       "      <td>3</td>\n",
       "      <td>Team events</td>\n",
       "    </tr>\n",
       "    <tr>\n",
       "      <th>3</th>\n",
       "      <td>4</td>\n",
       "      <td>Home office stipend</td>\n",
       "    </tr>\n",
       "    <tr>\n",
       "      <th>4</th>\n",
       "      <td>5</td>\n",
       "      <td>Flex vacation</td>\n",
       "    </tr>\n",
       "  </tbody>\n",
       "</table>\n",
       "</div>"
      ],
      "text/plain": [
       "   id_facilities                 name\n",
       "0              1         Pet friendly\n",
       "1              2   Cell phone stipend\n",
       "2              3          Team events\n",
       "3              4  Home office stipend\n",
       "4              5        Flex vacation"
      ]
     },
     "execution_count": 203,
     "metadata": {},
     "output_type": "execute_result"
    }
   ],
   "source": [
    "import pandas as pd\n",
    "\n",
    "cursor.execute(''' SET IDENTITY_INSERT Facilities ON; ''')\n",
    "for row in df_facilities.itertuples():\n",
    "    cursor.execute('''\n",
    "        INSERT INTO Facilities (id_facilities,name)\n",
    "        VALUES(? ,? )\n",
    "    ''',row.id_facilities,row.name)\n",
    "cursor.execute(''' SET IDENTITY_INSERT Facilities OFF; ''')\n",
    "connection.commit()\n",
    "\n",
    "pd.read_sql('''\n",
    "    SELECT top(5) *\n",
    "    FROM Facilities;\n",
    "    ''',connection)"
   ]
  },
  {
   "cell_type": "code",
   "execution_count": null,
   "metadata": {},
   "outputs": [
    {
     "name": "stderr",
     "output_type": "stream",
     "text": [
      "C:\\Users\\Youcode\\AppData\\Local\\Temp\\ipykernel_21520\\3230958152.py:12: UserWarning:\n",
      "\n",
      "pandas only supports SQLAlchemy connectable (engine/connection) or database string URI or sqlite3 DBAPI2 connection. Other DBAPI2 objects are not tested. Please consider using SQLAlchemy.\n",
      "\n"
     ]
    },
    {
     "data": {
      "text/html": [
       "<div>\n",
       "<style scoped>\n",
       "    .dataframe tbody tr th:only-of-type {\n",
       "        vertical-align: middle;\n",
       "    }\n",
       "\n",
       "    .dataframe tbody tr th {\n",
       "        vertical-align: top;\n",
       "    }\n",
       "\n",
       "    .dataframe thead th {\n",
       "        text-align: right;\n",
       "    }\n",
       "</style>\n",
       "<table border=\"1\" class=\"dataframe\">\n",
       "  <thead>\n",
       "    <tr style=\"text-align: right;\">\n",
       "      <th></th>\n",
       "      <th>id_job</th>\n",
       "      <th>id_company</th>\n",
       "      <th>id_workPlace</th>\n",
       "      <th>id_jobType</th>\n",
       "      <th>id_experienceLevel</th>\n",
       "      <th>id_country</th>\n",
       "      <th>job_title</th>\n",
       "      <th>salary</th>\n",
       "      <th>salary_conditions</th>\n",
       "    </tr>\n",
       "  </thead>\n",
       "  <tbody>\n",
       "    <tr>\n",
       "      <th>0</th>\n",
       "      <td>1</td>\n",
       "      <td>1</td>\n",
       "      <td>1</td>\n",
       "      <td>1</td>\n",
       "      <td>1</td>\n",
       "      <td>1</td>\n",
       "      <td>Clinical Data Analyst</td>\n",
       "      <td>48000.0</td>\n",
       "      <td>True</td>\n",
       "    </tr>\n",
       "    <tr>\n",
       "      <th>1</th>\n",
       "      <td>2</td>\n",
       "      <td>2</td>\n",
       "      <td>1</td>\n",
       "      <td>1</td>\n",
       "      <td>1</td>\n",
       "      <td>2</td>\n",
       "      <td>AML/CFT &amp; Data Analyst</td>\n",
       "      <td>48000.0</td>\n",
       "      <td>True</td>\n",
       "    </tr>\n",
       "    <tr>\n",
       "      <th>2</th>\n",
       "      <td>3</td>\n",
       "      <td>3</td>\n",
       "      <td>1</td>\n",
       "      <td>1</td>\n",
       "      <td>2</td>\n",
       "      <td>1</td>\n",
       "      <td>Machine Learning Engineer</td>\n",
       "      <td>90000.0</td>\n",
       "      <td>True</td>\n",
       "    </tr>\n",
       "    <tr>\n",
       "      <th>3</th>\n",
       "      <td>4</td>\n",
       "      <td>4</td>\n",
       "      <td>1</td>\n",
       "      <td>1</td>\n",
       "      <td>1</td>\n",
       "      <td>3</td>\n",
       "      <td>Application Developer &amp; Data Analyst</td>\n",
       "      <td>48000.0</td>\n",
       "      <td>True</td>\n",
       "    </tr>\n",
       "    <tr>\n",
       "      <th>4</th>\n",
       "      <td>5</td>\n",
       "      <td>5</td>\n",
       "      <td>1</td>\n",
       "      <td>1</td>\n",
       "      <td>3</td>\n",
       "      <td>1</td>\n",
       "      <td>Data Engineer Full time (Public Sector) USA</td>\n",
       "      <td>108000.0</td>\n",
       "      <td>False</td>\n",
       "    </tr>\n",
       "  </tbody>\n",
       "</table>\n",
       "</div>"
      ],
      "text/plain": [
       "   id_job  id_company  id_workPlace  id_jobType  id_experienceLevel   \n",
       "0       1           1             1           1                   1  \\\n",
       "1       2           2             1           1                   1   \n",
       "2       3           3             1           1                   2   \n",
       "3       4           4             1           1                   1   \n",
       "4       5           5             1           1                   3   \n",
       "\n",
       "   id_country                                    job_title    salary   \n",
       "0           1                        Clinical Data Analyst   48000.0  \\\n",
       "1           2                       AML/CFT & Data Analyst   48000.0   \n",
       "2           1                    Machine Learning Engineer   90000.0   \n",
       "3           3         Application Developer & Data Analyst   48000.0   \n",
       "4           1  Data Engineer Full time (Public Sector) USA  108000.0   \n",
       "\n",
       "   salary_conditions  \n",
       "0               True  \n",
       "1               True  \n",
       "2               True  \n",
       "3               True  \n",
       "4              False  "
      ]
     },
     "execution_count": 207,
     "metadata": {},
     "output_type": "execute_result"
    }
   ],
   "source": [
    "import pandas as pd\n",
    "\n",
    "cursor.execute(''' SET IDENTITY_INSERT Job ON; ''')\n",
    "for row in df_job.itertuples():\n",
    "    cursor.execute('''\n",
    "        INSERT INTO Job (id_job,id_company,id_workPlace,id_jobType,id_experienceLevel,id_country,job_title,salary,salary_conditions)\n",
    "        VALUES(? ,? ,? ,? ,? ,? ,? ,? ,? )\n",
    "    ''',row.id_job,row.id_company,row.id_workPlace,row.id_jobType,row.id_experienceLevel,row.id_country,row.job_title,row.salary,row.salary_conditions)\n",
    "cursor.execute(''' SET IDENTITY_INSERT Job OFF; ''')\n",
    "connection.commit()\n",
    "\n",
    "pd.read_sql('''\n",
    "    SELECT top(5) *\n",
    "    FROM Job;\n",
    "    ''',connection)"
   ]
  },
  {
   "cell_type": "code",
   "execution_count": null,
   "metadata": {},
   "outputs": [
    {
     "data": {
      "text/html": [
       "<div>\n",
       "<style scoped>\n",
       "    .dataframe tbody tr th:only-of-type {\n",
       "        vertical-align: middle;\n",
       "    }\n",
       "\n",
       "    .dataframe tbody tr th {\n",
       "        vertical-align: top;\n",
       "    }\n",
       "\n",
       "    .dataframe thead th {\n",
       "        text-align: right;\n",
       "    }\n",
       "</style>\n",
       "<table border=\"1\" class=\"dataframe\">\n",
       "  <thead>\n",
       "    <tr style=\"text-align: right;\">\n",
       "      <th></th>\n",
       "      <th>id_job</th>\n",
       "      <th>id_facilities</th>\n",
       "    </tr>\n",
       "  </thead>\n",
       "  <tbody>\n",
       "    <tr>\n",
       "      <th>0</th>\n",
       "      <td>3</td>\n",
       "      <td>28</td>\n",
       "    </tr>\n",
       "    <tr>\n",
       "      <th>1</th>\n",
       "      <td>5</td>\n",
       "      <td>30</td>\n",
       "    </tr>\n",
       "    <tr>\n",
       "      <th>2</th>\n",
       "      <td>5</td>\n",
       "      <td>5</td>\n",
       "    </tr>\n",
       "    <tr>\n",
       "      <th>3</th>\n",
       "      <td>5</td>\n",
       "      <td>13</td>\n",
       "    </tr>\n",
       "    <tr>\n",
       "      <th>4</th>\n",
       "      <td>5</td>\n",
       "      <td>19</td>\n",
       "    </tr>\n",
       "    <tr>\n",
       "      <th>...</th>\n",
       "      <td>...</td>\n",
       "      <td>...</td>\n",
       "    </tr>\n",
       "    <tr>\n",
       "      <th>8253</th>\n",
       "      <td>3193</td>\n",
       "      <td>6</td>\n",
       "    </tr>\n",
       "    <tr>\n",
       "      <th>8254</th>\n",
       "      <td>3193</td>\n",
       "      <td>13</td>\n",
       "    </tr>\n",
       "    <tr>\n",
       "      <th>8255</th>\n",
       "      <td>3194</td>\n",
       "      <td>28</td>\n",
       "    </tr>\n",
       "    <tr>\n",
       "      <th>8256</th>\n",
       "      <td>47</td>\n",
       "      <td>28</td>\n",
       "    </tr>\n",
       "    <tr>\n",
       "      <th>8257</th>\n",
       "      <td>47</td>\n",
       "      <td>9</td>\n",
       "    </tr>\n",
       "  </tbody>\n",
       "</table>\n",
       "<p>8258 rows × 2 columns</p>\n",
       "</div>"
      ],
      "text/plain": [
       "      id_job  id_facilities\n",
       "0          3             28\n",
       "1          5             30\n",
       "2          5              5\n",
       "3          5             13\n",
       "4          5             19\n",
       "...      ...            ...\n",
       "8253    3193              6\n",
       "8254    3193             13\n",
       "8255    3194             28\n",
       "8256      47             28\n",
       "8257      47              9\n",
       "\n",
       "[8258 rows x 2 columns]"
      ]
     },
     "execution_count": 208,
     "metadata": {},
     "output_type": "execute_result"
    }
   ],
   "source": [
    "df_job_facilities"
   ]
  },
  {
   "cell_type": "code",
   "execution_count": null,
   "metadata": {},
   "outputs": [
    {
     "name": "stderr",
     "output_type": "stream",
     "text": [
      "C:\\Users\\Youcode\\AppData\\Local\\Temp\\ipykernel_21520\\3826222135.py:10: UserWarning:\n",
      "\n",
      "pandas only supports SQLAlchemy connectable (engine/connection) or database string URI or sqlite3 DBAPI2 connection. Other DBAPI2 objects are not tested. Please consider using SQLAlchemy.\n",
      "\n"
     ]
    },
    {
     "data": {
      "text/html": [
       "<div>\n",
       "<style scoped>\n",
       "    .dataframe tbody tr th:only-of-type {\n",
       "        vertical-align: middle;\n",
       "    }\n",
       "\n",
       "    .dataframe tbody tr th {\n",
       "        vertical-align: top;\n",
       "    }\n",
       "\n",
       "    .dataframe thead th {\n",
       "        text-align: right;\n",
       "    }\n",
       "</style>\n",
       "<table border=\"1\" class=\"dataframe\">\n",
       "  <thead>\n",
       "    <tr style=\"text-align: right;\">\n",
       "      <th></th>\n",
       "      <th>id_job</th>\n",
       "      <th>id_facilities</th>\n",
       "    </tr>\n",
       "  </thead>\n",
       "  <tbody>\n",
       "    <tr>\n",
       "      <th>0</th>\n",
       "      <td>3</td>\n",
       "      <td>28</td>\n",
       "    </tr>\n",
       "    <tr>\n",
       "      <th>1</th>\n",
       "      <td>5</td>\n",
       "      <td>30</td>\n",
       "    </tr>\n",
       "    <tr>\n",
       "      <th>2</th>\n",
       "      <td>5</td>\n",
       "      <td>5</td>\n",
       "    </tr>\n",
       "    <tr>\n",
       "      <th>3</th>\n",
       "      <td>5</td>\n",
       "      <td>13</td>\n",
       "    </tr>\n",
       "    <tr>\n",
       "      <th>4</th>\n",
       "      <td>5</td>\n",
       "      <td>19</td>\n",
       "    </tr>\n",
       "  </tbody>\n",
       "</table>\n",
       "</div>"
      ],
      "text/plain": [
       "   id_job  id_facilities\n",
       "0       3             28\n",
       "1       5             30\n",
       "2       5              5\n",
       "3       5             13\n",
       "4       5             19"
      ]
     },
     "execution_count": 209,
     "metadata": {},
     "output_type": "execute_result"
    }
   ],
   "source": [
    "import pandas as pd\n",
    "\n",
    "for row in df_job_facilities.itertuples():\n",
    "    cursor.execute('''\n",
    "        INSERT INTO Job_Facilities (id_job,id_facilities)\n",
    "        VALUES(? ,? )\n",
    "    ''',row.id_job,row.id_facilities)\n",
    "connection.commit()\n",
    "\n",
    "pd.read_sql('''\n",
    "    SELECT top(5) *\n",
    "    FROM Job_Facilities;\n",
    "    ''',connection)"
   ]
  },
  {
   "cell_type": "code",
   "execution_count": null,
   "metadata": {},
   "outputs": [
    {
     "name": "stderr",
     "output_type": "stream",
     "text": [
      "C:\\Users\\Youcode\\AppData\\Local\\Temp\\ipykernel_21520\\3568349323.py:10: UserWarning:\n",
      "\n",
      "pandas only supports SQLAlchemy connectable (engine/connection) or database string URI or sqlite3 DBAPI2 connection. Other DBAPI2 objects are not tested. Please consider using SQLAlchemy.\n",
      "\n"
     ]
    },
    {
     "data": {
      "text/html": [
       "<div>\n",
       "<style scoped>\n",
       "    .dataframe tbody tr th:only-of-type {\n",
       "        vertical-align: middle;\n",
       "    }\n",
       "\n",
       "    .dataframe tbody tr th {\n",
       "        vertical-align: top;\n",
       "    }\n",
       "\n",
       "    .dataframe thead th {\n",
       "        text-align: right;\n",
       "    }\n",
       "</style>\n",
       "<table border=\"1\" class=\"dataframe\">\n",
       "  <thead>\n",
       "    <tr style=\"text-align: right;\">\n",
       "      <th></th>\n",
       "      <th>id_job</th>\n",
       "      <th>id_requirement</th>\n",
       "    </tr>\n",
       "  </thead>\n",
       "  <tbody>\n",
       "    <tr>\n",
       "      <th>0</th>\n",
       "      <td>1</td>\n",
       "      <td>8</td>\n",
       "    </tr>\n",
       "    <tr>\n",
       "      <th>1</th>\n",
       "      <td>1</td>\n",
       "      <td>240</td>\n",
       "    </tr>\n",
       "    <tr>\n",
       "      <th>2</th>\n",
       "      <td>1</td>\n",
       "      <td>89</td>\n",
       "    </tr>\n",
       "    <tr>\n",
       "      <th>3</th>\n",
       "      <td>1</td>\n",
       "      <td>31</td>\n",
       "    </tr>\n",
       "    <tr>\n",
       "      <th>4</th>\n",
       "      <td>1</td>\n",
       "      <td>138</td>\n",
       "    </tr>\n",
       "  </tbody>\n",
       "</table>\n",
       "</div>"
      ],
      "text/plain": [
       "   id_job  id_requirement\n",
       "0       1               8\n",
       "1       1             240\n",
       "2       1              89\n",
       "3       1              31\n",
       "4       1             138"
      ]
     },
     "execution_count": 211,
     "metadata": {},
     "output_type": "execute_result"
    }
   ],
   "source": [
    "import pandas as pd\n",
    "\n",
    "for row in df_job_requirement.itertuples():\n",
    "    cursor.execute('''\n",
    "        INSERT INTO Job_Requirement (id_job,id_requirement)\n",
    "        VALUES(? ,? )\n",
    "    ''',row.id_job,row.id_requirement)\n",
    "connection.commit()\n",
    "\n",
    "pd.read_sql('''\n",
    "    SELECT top(5) *\n",
    "    FROM Job_Requirement;\n",
    "    ''',connection)"
   ]
  },
  {
   "cell_type": "markdown",
   "metadata": {},
   "source": [
    "## Check integrity of data"
   ]
  },
  {
   "cell_type": "code",
   "execution_count": null,
   "metadata": {},
   "outputs": [],
   "source": [
    "top_requirement = pd.read_sql('''\n",
    "    SELECT top(10) r.name, COUNT(jr.id_Requirement) AS count\n",
    "    FROM Requirement r\n",
    "    LEFT JOIN Job_Requirement jr ON r.id_Requirement = jr.id_Requirement\n",
    "    GROUP BY r.name\n",
    "    ORDER BY count DESC;\n",
    "    ''',connection)\n",
    "import plotly.express as px\n",
    "\n",
    "fig = px.bar(top_requirement, x='name', y='count', color='count')\n",
    "fig.show()"
   ]
  },
  {
   "cell_type": "markdown",
   "metadata": {},
   "source": [
    "----------------------------------------------------------------------------------------------------------"
   ]
  }
 ],
 "metadata": {
  "kernelspec": {
   "display_name": "Python 3",
   "language": "python",
   "name": "python3"
  },
  "language_info": {
   "codemirror_mode": {
    "name": "ipython",
    "version": 3
   },
   "file_extension": ".py",
   "mimetype": "text/x-python",
   "name": "python",
   "nbconvert_exporter": "python",
   "pygments_lexer": "ipython3",
   "version": "3.10.11"
  },
  "orig_nbformat": 4
 },
 "nbformat": 4,
 "nbformat_minor": 2
}
